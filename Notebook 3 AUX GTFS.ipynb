{
 "cells": [
  {
   "cell_type": "markdown",
   "metadata": {},
   "source": [
    "# MASTER - Notebook 3 GTFS\n",
    "## Gets geocoordinates for each stop and create a new dataset with GTFS \n",
    "### Matteo Grazioso 884055"
   ]
  },
  {
   "cell_type": "code",
   "execution_count": null,
   "metadata": {},
   "outputs": [],
   "source": [
    "# Import libraries\n",
    "import pandas as pd\n",
    "import numpy as np\n",
    "import matplotlib.pyplot as plt\n",
    "import seaborn as sns\n",
    "import matplotlib.dates as mdates\n",
    "from datetime import datetime\n",
    "import re\n",
    "\n",
    "from pandas import Timestamp\n",
    "import json\n",
    "import warnings\n",
    "warnings.filterwarnings('ignore')\n",
    "\n",
    "import datetime\n",
    "\n",
    "import myfunctions as mf # Custom functions"
   ]
  },
  {
   "cell_type": "code",
   "execution_count": null,
   "metadata": {},
   "outputs": [],
   "source": [
    "# Disply all columns and all rows\n",
    "pd.set_option('display.max_columns', None)\n",
    "pd.set_option('display.max_rows', None)"
   ]
  },
  {
   "cell_type": "code",
   "execution_count": null,
   "metadata": {},
   "outputs": [],
   "source": [
    "# Find all txt files in the data folder\n",
    "txt_files = mf.find_txt_files(\"data/processed/\")\n",
    "\n",
    "# Choose a dataset from the list of txt files\n",
    "selected_dataset = mf.choose_dataset(txt_files)\n",
    "\n",
    "if selected_dataset:\n",
    "    print(f\"You selected the dataset {selected_dataset}\")\n",
    "else:\n",
    "    print(\"No dataset selected.\")\n",
    "\n",
    "path  = selected_dataset"
   ]
  },
  {
   "cell_type": "code",
   "execution_count": null,
   "metadata": {},
   "outputs": [],
   "source": [
    "# The file contains the data of the validation of tickets in the city of public transport of Venice.\n",
    "# The file has been created by the Notebook 1.ipynb\n",
    "\n",
    "df = pd.read_csv(path, header=0, sep='\\t')\n",
    "\n",
    "# Save the name of the file in a variable for future use extracting the name of the file from the path\n",
    "file_name = path.split('_')[-1].split('.')[0]\n",
    "# if path contains the word 'temp' then append the word 'temp' to the name of the file\n",
    "if 'temp' in path:\n",
    "    file_name = 'temp_' + file_name\n",
    "subfolder = file_name\n",
    "\n",
    "# Display the first 5 rows of the dataframe\n",
    "df.head()\n",
    "\n",
    "# Convert the column 'DATA' to datetime format\n",
    "df['DATA'] = pd.to_datetime(df['DATA'], format='%Y-%m-%d')\n",
    "\n",
    "# Take only the first 1%\n",
    "# df = df.iloc[:int(len(df) * 0.01)]"
   ]
  },
  {
   "cell_type": "code",
   "execution_count": null,
   "metadata": {},
   "outputs": [],
   "source": [
    "# Print teh range of dates\n",
    "print(f\"Date range: {df['DATA'].min()} - {df['DATA'].max()}\")"
   ]
  },
  {
   "cell_type": "code",
   "execution_count": null,
   "metadata": {},
   "outputs": [],
   "source": [
    "# Open the file data/processed/data-GTFS/stops.txt that is a GTFS file\n",
    "stops = pd.read_csv('data/processed/data-GTFS/stops.txt', header=0, sep=',')\n",
    "stops.head()"
   ]
  },
  {
   "cell_type": "code",
   "execution_count": null,
   "metadata": {},
   "outputs": [],
   "source": [
    "# Mantain only the columns 'stop_id', 'stop_name', 'stop_lat', 'stop_lon'\n",
    "stops = stops[['stop_id', 'stop_name', 'stop_lat', 'stop_lon']]\n",
    "stops.head()"
   ]
  },
  {
   "cell_type": "code",
   "execution_count": null,
   "metadata": {},
   "outputs": [],
   "source": [
    "df.head()"
   ]
  },
  {
   "cell_type": "code",
   "execution_count": null,
   "metadata": {},
   "outputs": [],
   "source": [
    "# Merge the two dataframes df and stops on the column 'FERMATA' and 'stop_id'\n",
    "df = pd.merge(df, stops, left_on='FERMATA', right_on='stop_id', how='left')\n",
    "df.head()"
   ]
  },
  {
   "cell_type": "code",
   "execution_count": null,
   "metadata": {},
   "outputs": [],
   "source": [
    "# Remove the column 'stop_id' and 'stop_name'\n",
    "df.drop(['stop_id', 'stop_name'], axis=1, inplace=True)"
   ]
  },
  {
   "cell_type": "code",
   "execution_count": null,
   "metadata": {},
   "outputs": [],
   "source": [
    "df.head()"
   ]
  },
  {
   "cell_type": "code",
   "execution_count": null,
   "metadata": {},
   "outputs": [],
   "source": [
    "# Reorder the columns in order to have the column 'stop_lat' and 'stop_lon' after the column 'DESCRIZIONE' \n",
    "df = df[['DATA', 'ORA', 'DATA_VALIDAZIONE', 'SERIALE', 'FERMATA', 'stop_lat', 'stop_lon', 'DESCRIZIONE', 'TITOLO', 'TICKET_CODE', 'DESCRIZIONE_TITOLO']]\n",
    "df.head()\n"
   ]
  },
  {
   "cell_type": "code",
   "execution_count": null,
   "metadata": {},
   "outputs": [],
   "source": [
    "print(path)"
   ]
  },
  {
   "cell_type": "code",
   "execution_count": null,
   "metadata": {},
   "outputs": [],
   "source": [
    "print(file_name)"
   ]
  },
  {
   "cell_type": "code",
   "execution_count": null,
   "metadata": {},
   "outputs": [],
   "source": [
    "# The path of the file is something like: data/processed/dataset_cleaned_tempesportazionePasqua23_part1.txt\n",
    "# Export the dataframe to a txt file in the folder data/processed/data-GTFS/dataset_cleaned_temp_GTFS_esportazionePasqua23_part1.txt\n",
    "\n",
    "# Extract the name of the file from the path: it is all characters betwen '_temp' and '.txt'\n",
    "file_name = path.split('_temp')[-1].split('.txt')[0]\n",
    "print(file_name)\n",
    "\n",
    "# Create the path of the file\n",
    "path_export = f\"data/processed/data-GTFS/carnival/{file_name}\" + \"_GTFS.txt\"\n",
    "print(path_export)\n",
    "\n",
    "# Export the dataframe to a txt file in the folder data/processed/data-GTFS/\n",
    "df.to_csv(path_export, sep='\\t', index=False)\n",
    "print(f\"File exported to {path_export}\")"
   ]
  }
 ],
 "metadata": {
  "kernelspec": {
   "display_name": "Python 3",
   "language": "python",
   "name": "python3"
  },
  "language_info": {
   "codemirror_mode": {
    "name": "ipython",
    "version": 3
   },
   "file_extension": ".py",
   "mimetype": "text/x-python",
   "name": "python",
   "nbconvert_exporter": "python",
   "pygments_lexer": "ipython3",
   "version": "3.11.2"
  },
  "orig_nbformat": 4
 },
 "nbformat": 4,
 "nbformat_minor": 2
}
