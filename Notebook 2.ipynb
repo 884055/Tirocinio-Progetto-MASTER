{
 "cells": [
  {
   "attachments": {},
   "cell_type": "markdown",
   "metadata": {},
   "source": [
    "# MASTER - Notebook 2\n",
    "### Matteo Grazioso 884055"
   ]
  },
  {
   "cell_type": "code",
   "execution_count": 1,
   "metadata": {
    "ExecuteTime": {
     "start_time": "2023-06-27T08:51:20.745349Z",
     "end_time": "2023-06-27T08:51:20.749357Z"
    }
   },
   "outputs": [],
   "source": [
    "# Import libraries\n",
    "import pandas as pd\n",
    "import numpy as np\n",
    "import matplotlib.pyplot as plt\n",
    "import seaborn as sns\n",
    "import matplotlib.dates as mdates\n",
    "from datetime import datetime\n",
    "from pandas import Timestamp\n",
    "import json\n",
    "import warnings\n",
    "warnings.filterwarnings('ignore')\n",
    "\n",
    "import myfunctions as mf # Custom functions"
   ]
  },
  {
   "cell_type": "code",
   "execution_count": 2,
   "metadata": {
    "ExecuteTime": {
     "start_time": "2023-06-27T08:51:20.750286Z",
     "end_time": "2023-06-27T08:51:20.877958Z"
    }
   },
   "outputs": [],
   "source": [
    "# Disply all columns and all rows\n",
    "pd.set_option('display.max_columns', None)\n",
    "pd.set_option('display.max_rows', None)"
   ]
  },
  {
   "cell_type": "code",
   "execution_count": 3,
   "metadata": {
    "ExecuteTime": {
     "start_time": "2023-06-27T08:51:20.882433Z",
     "end_time": "2023-06-27T08:51:24.031808Z"
    }
   },
   "outputs": [
    {
     "name": "stdout",
     "output_type": "stream",
     "text": [
      "The following TXT files were found:\n",
      "1. data/processed/dataset_cleaned_esportazioneCompleta.txt\n",
      "2. data/processed/dataset_cleaned_esportazionePasqua23.txt\n",
      "3. data/processed/dataset_cleaned_validazioni.txt\n",
      "You selected the dataset data/processed/dataset_cleaned_esportazionePasqua23.txt\n"
     ]
    }
   ],
   "source": [
    "# Find all txt files in the data folder\n",
    "txt_files = mf.find_txt_files(\"data/processed\")\n",
    "\n",
    "# Choose a dataset from the list of txt files\n",
    "selected_dataset = mf.choose_dataset(txt_files)\n",
    "\n",
    "if selected_dataset:\n",
    "    print(f\"You selected the dataset {selected_dataset}\")\n",
    "else:\n",
    "    print(\"No dataset selected.\")\n",
    "\n",
    "path  = selected_dataset"
   ]
  },
  {
   "cell_type": "code",
   "execution_count": 4,
   "metadata": {
    "ExecuteTime": {
     "start_time": "2023-06-27T08:51:23.913088Z",
     "end_time": "2023-06-27T08:51:59.949512Z"
    }
   },
   "outputs": [],
   "source": [
    "# The file contains the data of the validation of tickets in the city of public transport of Venice.\n",
    "# The file has been created by the Notebook 1.ipynb\n",
    "\n",
    "df = pd.read_csv(path, header=0, sep='\\t')\n",
    "\n",
    "# Save the name of the file in a variable for future use extracting the name of the file from the path\n",
    "file_name = path.split('_')[-1].split('.')[0]\n",
    "subfolder = file_name\n",
    "\n",
    "# Display the first 5 rows of the dataframe\n",
    "df.head()\n",
    "\n",
    "# Convert the column 'DATA' to datetime format\n",
    "df['DATA'] = pd.to_datetime(df['DATA'], format='%Y-%m-%d')\n",
    "df['ORA'] = df['ORA'].str.split(' ').str[1]"
   ]
  },
  {
   "cell_type": "code",
   "execution_count": 5,
   "metadata": {
    "ExecuteTime": {
     "start_time": "2023-06-27T08:51:59.948113Z",
     "end_time": "2023-06-27T08:51:59.950931Z"
    }
   },
   "outputs": [],
   "source": [
    "# First 10% of the dataframe\n",
    "# df = df.iloc[:int(len(df)*0.1)]"
   ]
  },
  {
   "cell_type": "code",
   "execution_count": 6,
   "metadata": {
    "ExecuteTime": {
     "start_time": "2023-06-27T08:51:59.948853Z",
     "end_time": "2023-06-27T08:52:00.363188Z"
    }
   },
   "outputs": [
    {
     "data": {
      "text/plain": "        DATA       ORA     DATA_VALIDAZIONE     SERIALE  FERMATA  \\\n0 2023-04-04  00:00:00  2023-04-04 00:00:00 -2854957894     5032   \n1 2023-04-04  00:00:00  2023-04-04 00:00:00 -2854992707     5032   \n2 2023-04-04  00:00:00  2023-04-04 00:00:00 -2821778289     5022   \n3 2023-04-04  00:00:00  2023-04-04 00:00:00 -3613120484     5028   \n4 2023-04-04  00:00:00  2023-04-04 00:00:00 -3604951458     5028   \n\n    DESCRIZIONE  TITOLO TICKET_CODE            DESCRIZIONE_TITOLO  \n0      FERROVIA   11209           7           BIGL RETE UNICA 75'  \n1      FERROVIA   23101           5  MENSILE ORDINARIO RETE UNICA  \n2  GIUDECCA PAL   23101           5  MENSILE ORDINARIO RETE UNICA  \n3     P.LE ROMA   23301      5-STUD      MENS.STUDENTE RETE UNICA  \n4     P.LE ROMA   23301      5-STUD      MENS.STUDENTE RETE UNICA  ",
      "text/html": "<div>\n<style scoped>\n    .dataframe tbody tr th:only-of-type {\n        vertical-align: middle;\n    }\n\n    .dataframe tbody tr th {\n        vertical-align: top;\n    }\n\n    .dataframe thead th {\n        text-align: right;\n    }\n</style>\n<table border=\"1\" class=\"dataframe\">\n  <thead>\n    <tr style=\"text-align: right;\">\n      <th></th>\n      <th>DATA</th>\n      <th>ORA</th>\n      <th>DATA_VALIDAZIONE</th>\n      <th>SERIALE</th>\n      <th>FERMATA</th>\n      <th>DESCRIZIONE</th>\n      <th>TITOLO</th>\n      <th>TICKET_CODE</th>\n      <th>DESCRIZIONE_TITOLO</th>\n    </tr>\n  </thead>\n  <tbody>\n    <tr>\n      <th>0</th>\n      <td>2023-04-04</td>\n      <td>00:00:00</td>\n      <td>2023-04-04 00:00:00</td>\n      <td>-2854957894</td>\n      <td>5032</td>\n      <td>FERROVIA</td>\n      <td>11209</td>\n      <td>7</td>\n      <td>BIGL RETE UNICA 75'</td>\n    </tr>\n    <tr>\n      <th>1</th>\n      <td>2023-04-04</td>\n      <td>00:00:00</td>\n      <td>2023-04-04 00:00:00</td>\n      <td>-2854992707</td>\n      <td>5032</td>\n      <td>FERROVIA</td>\n      <td>23101</td>\n      <td>5</td>\n      <td>MENSILE ORDINARIO RETE UNICA</td>\n    </tr>\n    <tr>\n      <th>2</th>\n      <td>2023-04-04</td>\n      <td>00:00:00</td>\n      <td>2023-04-04 00:00:00</td>\n      <td>-2821778289</td>\n      <td>5022</td>\n      <td>GIUDECCA PAL</td>\n      <td>23101</td>\n      <td>5</td>\n      <td>MENSILE ORDINARIO RETE UNICA</td>\n    </tr>\n    <tr>\n      <th>3</th>\n      <td>2023-04-04</td>\n      <td>00:00:00</td>\n      <td>2023-04-04 00:00:00</td>\n      <td>-3613120484</td>\n      <td>5028</td>\n      <td>P.LE ROMA</td>\n      <td>23301</td>\n      <td>5-STUD</td>\n      <td>MENS.STUDENTE RETE UNICA</td>\n    </tr>\n    <tr>\n      <th>4</th>\n      <td>2023-04-04</td>\n      <td>00:00:00</td>\n      <td>2023-04-04 00:00:00</td>\n      <td>-3604951458</td>\n      <td>5028</td>\n      <td>P.LE ROMA</td>\n      <td>23301</td>\n      <td>5-STUD</td>\n      <td>MENS.STUDENTE RETE UNICA</td>\n    </tr>\n  </tbody>\n</table>\n</div>"
     },
     "execution_count": 6,
     "metadata": {},
     "output_type": "execute_result"
    }
   ],
   "source": [
    "df.head()"
   ]
  },
  {
   "cell_type": "code",
   "execution_count": 7,
   "metadata": {
    "ExecuteTime": {
     "start_time": "2023-06-27T08:52:00.346960Z",
     "end_time": "2023-06-27T08:52:00.458390Z"
    }
   },
   "outputs": [
    {
     "data": {
      "text/plain": "              DATA       ORA     DATA_VALIDAZIONE            SERIALE  FERMATA  \\\n7751196 2023-06-03  23:59:00  2023-06-03 23:59:00        -2821751029     5049   \n7751197 2023-06-03  23:59:00  2023-06-03 23:59:00        -3613117827     5049   \n7751198 2023-06-03  23:59:00  2023-06-03 23:59:00  65694191815653125      506   \n7751199 2023-06-03  23:59:00  2023-06-03 23:59:00  65694191809363717      506   \n7751200 2023-06-03  23:59:00  2023-06-03 23:59:00  65694191809363205      506   \n\n        DESCRIZIONE  TITOLO TICKET_CODE            DESCRIZIONE_TITOLO  \n7751196     ZATTERE   23303      6-STUD  ABB STUD. RETEUNICA 12 MESI   \n7751197     ZATTERE   11209           7           BIGL RETE UNICA 75'  \n7751198     VENEZIA   12101           7   BIGL.AUT.75'MESTRE/LIDO-TSC  \n7751199     VENEZIA   12101           7   BIGL.AUT.75'MESTRE/LIDO-TSC  \n7751200     VENEZIA   12101           7   BIGL.AUT.75'MESTRE/LIDO-TSC  ",
      "text/html": "<div>\n<style scoped>\n    .dataframe tbody tr th:only-of-type {\n        vertical-align: middle;\n    }\n\n    .dataframe tbody tr th {\n        vertical-align: top;\n    }\n\n    .dataframe thead th {\n        text-align: right;\n    }\n</style>\n<table border=\"1\" class=\"dataframe\">\n  <thead>\n    <tr style=\"text-align: right;\">\n      <th></th>\n      <th>DATA</th>\n      <th>ORA</th>\n      <th>DATA_VALIDAZIONE</th>\n      <th>SERIALE</th>\n      <th>FERMATA</th>\n      <th>DESCRIZIONE</th>\n      <th>TITOLO</th>\n      <th>TICKET_CODE</th>\n      <th>DESCRIZIONE_TITOLO</th>\n    </tr>\n  </thead>\n  <tbody>\n    <tr>\n      <th>7751196</th>\n      <td>2023-06-03</td>\n      <td>23:59:00</td>\n      <td>2023-06-03 23:59:00</td>\n      <td>-2821751029</td>\n      <td>5049</td>\n      <td>ZATTERE</td>\n      <td>23303</td>\n      <td>6-STUD</td>\n      <td>ABB STUD. RETEUNICA 12 MESI</td>\n    </tr>\n    <tr>\n      <th>7751197</th>\n      <td>2023-06-03</td>\n      <td>23:59:00</td>\n      <td>2023-06-03 23:59:00</td>\n      <td>-3613117827</td>\n      <td>5049</td>\n      <td>ZATTERE</td>\n      <td>11209</td>\n      <td>7</td>\n      <td>BIGL RETE UNICA 75'</td>\n    </tr>\n    <tr>\n      <th>7751198</th>\n      <td>2023-06-03</td>\n      <td>23:59:00</td>\n      <td>2023-06-03 23:59:00</td>\n      <td>65694191815653125</td>\n      <td>506</td>\n      <td>VENEZIA</td>\n      <td>12101</td>\n      <td>7</td>\n      <td>BIGL.AUT.75'MESTRE/LIDO-TSC</td>\n    </tr>\n    <tr>\n      <th>7751199</th>\n      <td>2023-06-03</td>\n      <td>23:59:00</td>\n      <td>2023-06-03 23:59:00</td>\n      <td>65694191809363717</td>\n      <td>506</td>\n      <td>VENEZIA</td>\n      <td>12101</td>\n      <td>7</td>\n      <td>BIGL.AUT.75'MESTRE/LIDO-TSC</td>\n    </tr>\n    <tr>\n      <th>7751200</th>\n      <td>2023-06-03</td>\n      <td>23:59:00</td>\n      <td>2023-06-03 23:59:00</td>\n      <td>65694191809363205</td>\n      <td>506</td>\n      <td>VENEZIA</td>\n      <td>12101</td>\n      <td>7</td>\n      <td>BIGL.AUT.75'MESTRE/LIDO-TSC</td>\n    </tr>\n  </tbody>\n</table>\n</div>"
     },
     "execution_count": 7,
     "metadata": {},
     "output_type": "execute_result"
    }
   ],
   "source": [
    "df.tail()"
   ]
  },
  {
   "attachments": {},
   "cell_type": "markdown",
   "metadata": {},
   "source": [
    "---------\n"
   ]
  },
  {
   "attachments": {},
   "cell_type": "markdown",
   "metadata": {},
   "source": [
    "## Trajectories"
   ]
  },
  {
   "attachments": {},
   "cell_type": "markdown",
   "metadata": {},
   "source": [
    "We are interested in analyzing the trajectories of the users that use the public transport in the city of Venice.\n",
    "\n",
    "Note that the stops are identified by the *DESCRIZIONE* column that contains the name of the stop, so each trajectory \n",
    "is composed by the name of the stops visited by the user, so a trajectory is composed by a sequence of strings."
   ]
  },
  {
   "cell_type": "code",
   "execution_count": 8,
   "metadata": {
    "ExecuteTime": {
     "start_time": "2023-06-27T08:52:00.425816Z",
     "end_time": "2023-06-27T08:52:00.549211Z"
    }
   },
   "outputs": [],
   "source": [
    "def create_or_load_dictionary_with_trajectories(df: pd.DataFrame, file_name = file_name) -> dict[str, list]:\n",
    "    \"\"\"\n",
    "        This function creates a dictionary with the trajectories or load it if it is already created.\n",
    "        If the dictionary is not created, the function creates it and save it in a json file.\n",
    "        :param df: the dataframe\n",
    "        :param file_name: the name of the file\n",
    "        :return: the dictionary with the trajectories of the users with the key (serial, day). \n",
    "            Notice: if the serial is the same for all the days the key is (serial, None)\n",
    "    \"\"\"\n",
    "\n",
    "    # print ('file_name: {}'.format(file_name))\n",
    "\n",
    "    # If the dictionary is already created, load it\n",
    "    # Notice that there could be files with similar name, so the function must load the file with the exact name\n",
    "    try:\n",
    "        mf.check_folder_exists('data/dictionaries/trajectories/' + subfolder)\n",
    "        with open('data/dictionaries/trajectories/' + subfolder + '/dict_trajectories_' + file_name + '.json', 'r') as f:\n",
    "            dict_trajectories = json.load(f)\n",
    "            # Convert the key from string to tuple (serial, day) where day is None \n",
    "            # if the serial is the same for all the days\n",
    "            # It is necessary because the json dictionary cannot have a tuple as key\n",
    "            dict_trajectories = {eval(key): value for key, value in dict_trajectories.items()}\n",
    "            # print('The function HAS LOADED the already created dictionary: dict_trajectories_' + file_name + '.json')\n",
    "            # If the dictionary is  empty print a warning\n",
    "            if not dict_trajectories:\n",
    "                print('\\t Warning: the dictionary is empty: dict_trajectories_' + file_name + '.json')\n",
    "        return dict_trajectories\n",
    "    except Exception as e:\n",
    "        print(\"Error:\", e)\n",
    "        pass\n",
    "    \n",
    "    # print('The function IS CREATING the dictionary: dict_trajectories_' + file_name + '.json')\n",
    "    print('Waiting while the function is creating the dictionary: dict_trajectories_' + file_name + '.json')\n",
    "\n",
    "    \n",
    "    # Create a dictionary with the trajectories of the users\n",
    "    dict_trajectories = {}\n",
    "    # For each user\n",
    "    for serial in df['SERIALE'].unique():\n",
    "        # NOTICE: the serial of ticket code 5, 5-STUD, 5-RET, 5-WKRS and the same with 6, change every day,\n",
    "        # so the user is not the same, but the user is the same for the same day\n",
    "        \n",
    "        # Select only the rows of the specified user\n",
    "        df_sup = df[df['SERIALE'] == serial].sort_values(by=['DATA', 'ORA'])\n",
    "\n",
    "        # Create a list with the trajectories of the user\n",
    "        list_trajectories = []\n",
    "        \n",
    "        # If the ticket code is 5, 5-STUD, 5-RET, 5-WKRS or 6, 6-STUD, 6-RET, 6-WKRS create a list with the trajectories \n",
    "        # for each day and for each serial\n",
    "        if df_sup['TICKET_CODE'].unique()[0] in ['5', '5-STUD', '5-RET', '5-WKRS', '6', '6-STUD', '6-RET', '6-WKRS']:\n",
    "            # print('Ticket code: {}'.format(df_sup['TICKET_CODE'].unique()[0]))\n",
    "            # For each day\n",
    "            for day in df_sup['DATA']:\n",
    "                # Select only the rows of the specified day\n",
    "                df_sup_sup = df_sup[df_sup['DATA'] == day]\n",
    "                # For each serial\n",
    "                for serial in df_sup_sup['SERIALE'].unique():\n",
    "                    # Reset list_trajectories\n",
    "                    list_trajectories = []\n",
    "                    # Select only the rows of the specified serial\n",
    "                    df_sup_sup_sup = df_sup_sup[df_sup_sup['SERIALE'] == serial]\n",
    "                    # Create a list with the trajectories of the user\n",
    "                    list_stop = df_sup_sup_sup['DESCRIZIONE'].tolist()\n",
    "                    # Append the list to the list of the trajectories\n",
    "                    list_trajectories.append(list_stop)\n",
    "                    # Insert the list of the trajectories in the dictionary with the key (serial, day)\n",
    "                    dict_trajectories[serial, day] = list_trajectories\n",
    "        else:\n",
    "            # Create a list with the trajectories of the user\n",
    "            list_stop = df_sup['DESCRIZIONE'].tolist()\n",
    "            list_trajectories.append(list_stop)\n",
    "            # If the serial is already in the dictionary print a warning\n",
    "            if (serial, None) in dict_trajectories:\n",
    "                print('Warning: the serial {} is already in the dictionary'.format(serial))\n",
    "                # launch an exception\n",
    "                raise Exception('The serial {} is already in the dictionary'.format(serial))\n",
    "            # Insert the list of the trajectories in the dictionary with the key (serial, None)\n",
    "            # None means that the serial is the same for all the days\n",
    "            dict_trajectories[serial, None] = list_trajectories\n",
    "\n",
    "    # If the dictionary is  empty launch an exception\n",
    "    if not dict_trajectories:\n",
    "                print('\\t Warning: the dictionary is empty: dict_trajectories_' + file_name + '.json')\n",
    "    \n",
    "    # Save the dictionary\n",
    "    # Notice: the dictionary is saved only if it is not already created\n",
    "    # Notice: the key is a tuple (serial, day) but the json dictionary cannot have a tuple as key, \n",
    "    # so the key is converted to string\n",
    "    with open('data/dictionaries/trajectories/' + subfolder + '/dict_trajectories_' + file_name + '.json', 'w') as f:\n",
    "        dict_trajectories = {str(key): value for key, value in dict_trajectories.items()}\n",
    "        json.dump(dict_trajectories, f)\n",
    "\n",
    "    return dict_trajectories"
   ]
  },
  {
   "cell_type": "code",
   "execution_count": 9,
   "metadata": {
    "ExecuteTime": {
     "start_time": "2023-06-27T08:52:00.462459Z",
     "end_time": "2023-06-27T08:52:00.801140Z"
    }
   },
   "outputs": [],
   "source": [
    "def number_of_trajectories(dict_trajectories: dict, is_focus_on_ticket_code: bool = False, ticket_code: str = '', summary: bool = False) -> int:\n",
    "    \"\"\"\n",
    "        This function computes the number of trajectories.\n",
    "        :param dict_trajectories: the dictionary with the trajectories of the users\n",
    "        :param is_focus_on_ticket_code: if True, focus on the ticket code\n",
    "        :param ticket_code: the ticket code\n",
    "        :return: the number of trajectories\n",
    "    \"\"\"\n",
    "    # Create a dictionary with the number of trajectories\n",
    "    dict_number_of_trajectories = {}\n",
    "    # For each trajectory\n",
    "    for trajectory in dict_trajectories.values():\n",
    "        # If the trajectory is not in the dictionary, add it\n",
    "        if str(trajectory) not in dict_number_of_trajectories.keys():\n",
    "            dict_number_of_trajectories[str(trajectory)] = 1\n",
    "        # If the trajectory is in the dictionary, increment the counter\n",
    "        else:\n",
    "            dict_number_of_trajectories[str(trajectory)] += 1\n",
    "\n",
    "    if summary:\n",
    "        # Print the number of trajectories\n",
    "        if is_focus_on_ticket_code:\n",
    "            print('The number of trajectories with ticket code {} - \"{}\" is: {}'.format(ticket_code, mf.get_ticket_code_description(ticket_code), len(dict_number_of_trajectories.keys())))\n",
    "        else:\n",
    "            print('The number of trajectories is: {}'.format(len(dict_number_of_trajectories.keys())))\n",
    "    \n",
    "    # Return the number of trajectories\n",
    "    return len(dict_number_of_trajectories.keys())"
   ]
  },
  {
   "cell_type": "code",
   "execution_count": 10,
   "metadata": {
    "ExecuteTime": {
     "start_time": "2023-06-27T08:52:00.548683Z",
     "end_time": "2023-06-27T08:52:00.803962Z"
    }
   },
   "outputs": [],
   "source": [
    "def average_length_of_trajectories(dict_trajectories: dict, is_focus_on_ticket_code: bool = False, ticket_code: str = '', summary: bool = False) -> float:\n",
    "    \"\"\"\n",
    "        This function computes the average length of the trajectories.\n",
    "        This function can receive a dictionary with the trajectories related to a specific ticket code: in this case the function prints this information.\n",
    "        :param dict_trajectories: the dictionary with the trajectories of the users with the key (serial, day) or (serial, None)\n",
    "        :param is_focus_on_ticket_code: if True, focus on the ticket code\n",
    "        :param ticket_code: the ticket code\n",
    "        :param summary: if True, print the summary\n",
    "        :return: the average length of the trajectories \n",
    "    \"\"\"\n",
    "    # Notice that the key of the dictionary is a tuple (serial, day)\n",
    "    # Compute the average length of the trajectories\n",
    "    average_length = 0\n",
    "    for chiave in dict_trajectories.keys():\n",
    "        if chiave[1] is not None:\n",
    "            average_length += len(dict_trajectories[chiave][0])\n",
    "        else:\n",
    "            average_length += len(dict_trajectories[chiave][0])\n",
    "    if len(dict_trajectories.keys()) != 0:\n",
    "        average_length /= len(dict_trajectories.keys())\n",
    "        # Round the average length to 4 decimal places\n",
    "        average_length = round(average_length, 4)\n",
    "    else:\n",
    "        average_length = -1\n",
    "    \n",
    "    if summary:\n",
    "        if len (dict_trajectories.keys()) != 0:\n",
    "            # Print the average length of the trajectories\n",
    "            if is_focus_on_ticket_code:\n",
    "                print('The average length of the trajectories with ticket code {} - \"{}\" is: {}'.format(ticket_code, mf.get_ticket_code_description(ticket_code), average_length))\n",
    "            else:\n",
    "                print('The average length of the trajectories is: {}'.format(average_length))\n",
    "        else:\n",
    "            print('WARNING: There are no trajectories to analyze')\n",
    "\n",
    "    return average_length"
   ]
  },
  {
   "cell_type": "code",
   "execution_count": 11,
   "metadata": {
    "ExecuteTime": {
     "start_time": "2023-06-27T08:52:00.641731Z",
     "end_time": "2023-06-27T08:52:00.882990Z"
    }
   },
   "outputs": [],
   "source": [
    "def average_length_of_trajectories_by_ticket_code_plot(dict_trajectories: dict, df: pd.DataFrame) -> None:\n",
    "    \"\"\"\n",
    "        This function computes the average length of the trajectories by ticket code.\n",
    "        :param dict_trajectories: the dictionary with the trajectories of the users\n",
    "        :param df: the dataframe\n",
    "        :return: None\n",
    "    \"\"\"\n",
    "    # Compute the average length of the trajectories:\n",
    "            # There are no colums with the coordinates of the stations, and there are no columns with the distance between the stations\n",
    "            # So, I compute the average length of the trajectories by the number of stations visited\n",
    "    \n",
    "    # Open the dictionary\n",
    "    dict_ticket_code = mf.open_dict_ticket_codes()\n",
    "\n",
    "    # Create a dictionary with the number of stations visited for each ticket code\n",
    "    dict_number_of_stations = {}\n",
    "    for ticket_code in dict_ticket_code.keys():\n",
    "        # Select only the rows of the specified ticket code\n",
    "        df_sup = mf.focus_on_ticket_code(df, ticket_code)\n",
    "        # If the dataframe is not empty, focus on the ticket code\n",
    "        if df_sup.shape[0] != 0:\n",
    "            # Create a dictionary with the trajectories of the users\n",
    "            dict_trajectories[ticket_code] = create_or_load_dictionary_with_trajectories(df_sup, file_name = file_name + '_' + 'tc:' + ticket_code)\n",
    "            # Count the number of stations visited\n",
    "            number_of_stations = 0\n",
    "            for chiave in dict_trajectories[ticket_code].keys():\n",
    "                if chiave[1] is not None:\n",
    "                    number_of_stations += len(dict_trajectories[ticket_code][chiave][0])\n",
    "                else:\n",
    "                    number_of_stations += len(dict_trajectories[ticket_code][chiave][0])\n",
    "            # Add the average length of the trajectories to the dictionary\n",
    "            dict_number_of_stations[ticket_code] = number_of_stations / len(dict_trajectories[ticket_code].keys())\n",
    "            # dict_number_of_stations[ticket_code] = number_of_stations / number_of_trajectories(dict_trajectories[ticket_code])\n",
    "\n",
    "    # Plot the average length of the trajectories by ticket code\n",
    "    plt.figure(figsize=(20, 10))\n",
    "    plt.bar(dict_number_of_stations.keys(), dict_number_of_stations.values())\n",
    "    plt.title('Average length of the trajectories by ticket code')\n",
    "    plt.xlabel('Ticket code')   \n",
    "    plt.ylabel('Average length of the trajectories')\n",
    "\n",
    "    # Manage the x-axis adding the description of the ticket code; note that it is possible that some ticket codes are not present in the plot\n",
    "    plt.xticks(ticks=range(0, len(dict_number_of_stations.keys())), labels=[dict_ticket_code[ticket_code] for ticket_code in dict_number_of_stations.keys()], rotation=90)\n",
    "    \n",
    "    # Manage the y-axis: note that the y-axis are float numbers: do not convert them to integers and do not use the range function\n",
    "    if max(dict_number_of_stations.values()) < 0.1:\n",
    "        plt.yticks(ticks=np.arange(0, max(dict_number_of_stations.values()) + 1, 0.01))\n",
    "    else:\n",
    "        plt.yticks(ticks=np.arange(0, max(dict_number_of_stations.values()) + 1, 0.5))\n",
    "\n",
    "    # Add the value of each bar\n",
    "    for index, value in enumerate(dict_number_of_stations.values()):\n",
    "        plt.text(index, value, str(round(value, 4)), ha='center', va='bottom', fontsize=10)\n",
    "\n",
    "    plt.show()\n",
    "\n",
    "    # Average number of stations visited by trajectory by ticket code\n",
    "    # for ticket_code in dict_number_of_stations.keys(\n",
    "        # print('The average number of stations visited by trajectory with ticket code \"{}\" is: {}'.format(ticket_code, dict_number_of_stations[ticket_code]))"
   ]
  },
  {
   "cell_type": "code",
   "execution_count": 12,
   "metadata": {
    "ExecuteTime": {
     "start_time": "2023-06-27T08:52:00.712469Z",
     "end_time": "2023-06-27T08:52:00.922008Z"
    }
   },
   "outputs": [],
   "source": [
    "def count_number_of_stations_visited(trajectory: list, only_unique_stations: bool = False) -> int:\n",
    "    \"\"\"\n",
    "        This function counts the number of stations visited in a trajectory.\n",
    "        :param trajectory: the trajectory of the user\n",
    "        :param only_unique_stations: if True, count only the unique stations visited in the trajectory\n",
    "    \"\"\"\n",
    "    if only_unique_stations:\n",
    "        return len(set(trajectory[0]))\n",
    "    else:\n",
    "        return len(trajectory[0])"
   ]
  },
  {
   "cell_type": "code",
   "execution_count": 13,
   "metadata": {
    "ExecuteTime": {
     "start_time": "2023-06-27T08:52:00.772194Z",
     "end_time": "2023-06-27T08:52:00.922701Z"
    }
   },
   "outputs": [],
   "source": [
    "def most_frequent_trajectories(dict_trajectories: dict, is_focus_on_ticket_code: bool = False, ticket_code: str = '', summary: bool = False, k: int = -1, min_length: int = 1) -> dict[str, list]:\n",
    "    \"\"\"\n",
    "        This function computes the most frequent trajectories, given a dictionary with trajectories.\n",
    "        :param dict_trajectories: the dictionary with the trajectories\n",
    "        :param is_focus_on_ticket_code: if True, the function computes the most frequent trajectories for the specified ticket code\n",
    "        :param ticket_code: the ticket code\n",
    "        :param summary: if True, the function prints the summary\n",
    "        :param k: the number of most frequent trajectories to return: if k = -1, the function returns all the trajectories\n",
    "        :param min_length: the minimum length of the trajectories to consider\n",
    "        :return: the dictionary with the most frequent trajectories\n",
    "    \"\"\"\n",
    "    # Create a dictionary with the most frequent trajectories\n",
    "    dict_most_frequent_trajectories = {}\n",
    "    # For each trajectory\n",
    "    for trajectory in dict_trajectories.values():\n",
    "        # If the trajectory is longer than the min length, consider it\n",
    "        if count_number_of_stations_visited(trajectory) >= min_length:\n",
    "            # If the trajectory is not in the dictionary, add it\n",
    "            if str(trajectory) not in dict_most_frequent_trajectories.keys():\n",
    "                dict_most_frequent_trajectories[str(trajectory)] = 1\n",
    "            # If the trajectory is in the dictionary, increment the counter\n",
    "            else:\n",
    "                dict_most_frequent_trajectories[str(trajectory)] += 1\n",
    "    # Sort the dictionary by value\n",
    "    dict_most_frequent_trajectories = dict(sorted(dict_most_frequent_trajectories.items(), key=lambda item: item[1], reverse=True))\n",
    "\n",
    "    # If k = -1, return all the trajectories, otherwise return the first k trajectories\n",
    "    if k != -1:\n",
    "        # Select the first k trajectories\n",
    "        dict_most_frequent_trajectories = dict(list(dict_most_frequent_trajectories.items())[0:k])\n",
    "    \n",
    "    # Print the summary\n",
    "    if summary:\n",
    "        s = 'The most'\n",
    "        if k != -1:\n",
    "            s += ' {} frequent trajectories'.format(k)\n",
    "        else:\n",
    "            s += ' frequent trajectories'\n",
    "        \n",
    "        s += ' with a minimum length of {} stop(s)'.format(min_length)\n",
    "\n",
    "        if is_focus_on_ticket_code:\n",
    "            s += ' for the ticket code {} - \"{}\" are:'.format(ticket_code, mf.get_ticket_code_description(ticket_code))\n",
    "        else:\n",
    "            s += ' are:'\n",
    "        print(s)\n",
    "        for trajectory in dict_most_frequent_trajectories.keys():\n",
    "            print('\\t {} - {}'.format(trajectory, dict_most_frequent_trajectories[trajectory]))\n",
    "    \n",
    "    # Return the dictionary with the most frequent trajectories\n",
    "    return dict_most_frequent_trajectories"
   ]
  },
  {
   "cell_type": "code",
   "execution_count": 14,
   "metadata": {
    "ExecuteTime": {
     "start_time": "2023-06-27T08:52:00.859797Z",
     "end_time": "2023-06-27T08:52:01.155822Z"
    }
   },
   "outputs": [],
   "source": [
    "def get_sub_trajectories(trajectory: list, min_length: int = 1) -> list:\n",
    "    \"\"\"\n",
    "        This function returns the sub-trajectories of a trajectory, given a minimum length.\n",
    "        :param trajectory: the trajectory of the user\n",
    "        :param min_length: the minimum length of the sub-trajectories\n",
    "        :return: the list of sub-trajectories\n",
    "    \"\"\"\n",
    "    # Create the list of sub-trajectories\n",
    "    sub_trajectories = []\n",
    "    # For each sub-trajectory\n",
    "    for i in range(min_length, len(trajectory[0]) + 1):\n",
    "        # Add the sub-trajectory to the list\n",
    "        sub_trajectories.append(trajectory[0][0:i])\n",
    "    # Return the list of sub-trajectories\n",
    "    return sub_trajectories"
   ]
  },
  {
   "cell_type": "code",
   "execution_count": 15,
   "metadata": {
    "ExecuteTime": {
     "start_time": "2023-06-27T08:52:00.877917Z",
     "end_time": "2023-06-27T08:52:01.188324Z"
    }
   },
   "outputs": [],
   "source": [
    "# Most frequent trajectories considering not the exact trajectory, but also sub-trajectories\n",
    "def most_frequent_trajectories_with_sub_trajectories(dict_trajectories: dict, is_focus_on_ticket_code: bool = False, ticket_code: str = '', summary: bool = False, k: int = -1, min_length: int = 1, ignore_one_stop: bool = False) -> dict[str, list]:\n",
    "    \"\"\"\n",
    "        This function computes the most frequent trajectories, given a dictionary with trajectories. \n",
    "        The trajectories are not the exact trajectories, but also sub-trajectories.\n",
    "        :param dict_trajectories: the dictionary\n",
    "        :param is_focus_on_ticket_code: if True, the function computes the most frequent trajectories for the specified ticket code\n",
    "        :param ticket_code: the ticket code\n",
    "        :param summary: if True, the function prints the summary\n",
    "        :param k: the number of most frequent trajectories to return: if k = -1, the function returns all the trajectories\n",
    "        :param min_length: the minimum length of the trajectories to consider\n",
    "        :return: the dictionary with the most frequent trajectories\n",
    "    \"\"\"\n",
    "    # Create a dictionary with the most frequent trajectories\n",
    "    dict_most_frequent_trajectories = {}\n",
    "    # For each trajectory\n",
    "    for trajectory in dict_trajectories.values():\n",
    "        # If the trajectory is longer than the min length, consider it\n",
    "        if count_number_of_stations_visited(trajectory) >= min_length:\n",
    "            # For each sub-trajectory\n",
    "            for sub_trajectory in get_sub_trajectories(trajectory):\n",
    "                # If the sub-trajectory is not in the dictionary, add it\n",
    "                if str(sub_trajectory) not in dict_most_frequent_trajectories.keys():\n",
    "                    dict_most_frequent_trajectories[str(sub_trajectory)] = 1\n",
    "                # If the sub-trajectory is in the dictionary, increment the counter\n",
    "                else:\n",
    "                    dict_most_frequent_trajectories[str(sub_trajectory)] += 1\n",
    "    \n",
    "    # If k = -1, return all the trajectories, otherwise return the first k trajectories\n",
    "    if k != -1:\n",
    "        # Select the first k trajectories\n",
    "        dict_most_frequent_trajectories = dict(list(dict_most_frequent_trajectories.items())[0:k])\\\n",
    "    \n",
    "    # Print the summary\n",
    "    if summary:\n",
    "        s = 'The most'\n",
    "        if k != -1:\n",
    "            s += ' {} frequent trajectories'.format(k)\n",
    "        else:\n",
    "            s += ' frequent trajectories'\n",
    "        \n",
    "        s += ' with a minimum length of {} stop(s)'.format(min_length)\n",
    "\n",
    "        if is_focus_on_ticket_code:\n",
    "            s += ' for the ticket code {} - \"{}\" are:'.format(ticket_code, mf.get_ticket_code_description(ticket_code))\n",
    "        else:\n",
    "            s += ' are:'\n",
    "        print(s)\n",
    "        for trajectory in dict_most_frequent_trajectories.keys():\n",
    "            print('\\t {} - {}'.format(trajectory, dict_most_frequent_trajectories[trajectory]))\n",
    "    \n",
    "    # Return the dictionary with the most frequent trajectories\n",
    "    return dict_most_frequent_trajectories"
   ]
  },
  {
   "cell_type": "code",
   "execution_count": 16,
   "metadata": {},
   "outputs": [
    {
     "name": "stdout",
     "output_type": "stream",
     "text": [
      "The folder has been created.\n",
      "Error: [Errno 2] No such file or directory: 'data/dictionaries/trajectories/esportazionePasqua23/dict_trajectories_esportazionePasqua23.json'\n",
      "Waiting while the function is creating the dictionary: dict_trajectories_esportazionePasqua23.json\n",
      "The most 40 frequent trajectories with a minimum length of 4 stop(s) are:\n",
      "\t ['FERROVIA'] - 76248\n",
      "\t ['FERROVIA', 'RIALTO'] - 9253\n",
      "\t ['FERROVIA', 'RIALTO', 'RIALTO'] - 1507\n",
      "\t ['FERROVIA', 'RIALTO', 'RIALTO', 'RIALTO'] - 329\n",
      "\t ['FERROVIA', 'RIALTO', 'RIALTO', 'RIALTO', 'LAVELLI PAOL'] - 1\n",
      "\t ['FERROVIA', 'RIALTO', 'RIALTO', 'RIALTO', 'LAVELLI PAOL', 'FERROVIA'] - 1\n",
      "\t ['FERROVIA', 'RIALTO', 'RIALTO', 'RIALTO', 'LAVELLI PAOL', 'FERROVIA', 'RIALTO'] - 1\n",
      "\t ['FERROVIA', 'RIALTO', 'RIALTO', 'RIALTO', 'LAVELLI PAOL', 'FERROVIA', 'RIALTO', 'S. MARCO-SAN'] - 1\n",
      "\t ['FERROVIA', 'RIALTO', 'RIALTO', 'RIALTO', 'LAVELLI PAOL', 'FERROVIA', 'RIALTO', 'S. MARCO-SAN', 'SALUTE'] - 1\n",
      "\t ['FERROVIA', 'RIALTO', 'RIALTO', 'RIALTO', 'LAVELLI PAOL', 'FERROVIA', 'RIALTO', 'S. MARCO-SAN', 'SALUTE', 'AEROPORTO MA'] - 1\n",
      "\t ['FERROVIA', 'RIALTO', 'RIALTO', 'RIALTO', 'LAVELLI PAOL', 'FERROVIA', 'RIALTO', 'S. MARCO-SAN', 'SALUTE', 'AEROPORTO MA', 'P.LE ROMA'] - 1\n",
      "\t ['FERROVIA', 'RIALTO', 'RIALTO', 'RIALTO', 'LAVELLI PAOL', 'FERROVIA', 'RIALTO', 'S. MARCO-SAN', 'SALUTE', 'AEROPORTO MA', 'P.LE ROMA', 'PUNTA SABBIO'] - 1\n",
      "\t ['FERROVIA', 'RIALTO', 'RIALTO', 'RIALTO', 'LAVELLI PAOL', 'FERROVIA', 'RIALTO', 'S. MARCO-SAN', 'SALUTE', 'AEROPORTO MA', 'P.LE ROMA', 'PUNTA SABBIO', 'SAN MARCO'] - 1\n",
      "\t ['FERROVIA', 'RIALTO', 'RIALTO', 'RIALTO', 'LAVELLI PAOL', 'FERROVIA', 'RIALTO', 'S. MARCO-SAN', 'SALUTE', 'AEROPORTO MA', 'P.LE ROMA', 'PUNTA SABBIO', 'SAN MARCO', 'FERROVIA'] - 1\n",
      "\t ['FERROVIA', 'RIALTO', 'RIALTO', 'RIALTO', 'LAVELLI PAOL', 'FERROVIA', 'RIALTO', 'S. MARCO-SAN', 'SALUTE', 'AEROPORTO MA', 'P.LE ROMA', 'PUNTA SABBIO', 'SAN MARCO', 'FERROVIA', 'PUNTA SABBIO'] - 1\n",
      "\t ['FERROVIA', 'RIALTO', 'RIALTO', 'RIALTO', 'LAVELLI PAOL', 'FERROVIA', 'RIALTO', 'S. MARCO-SAN', 'SALUTE', 'AEROPORTO MA', 'P.LE ROMA', 'PUNTA SABBIO', 'SAN MARCO', 'FERROVIA', 'PUNTA SABBIO', 'SAN MARCO'] - 1\n",
      "\t ['FERROVIA', 'RIALTO', 'RIALTO', 'RIALTO', 'LAVELLI PAOL', 'FERROVIA', 'RIALTO', 'S. MARCO-SAN', 'SALUTE', 'AEROPORTO MA', 'P.LE ROMA', 'PUNTA SABBIO', 'SAN MARCO', 'FERROVIA', 'PUNTA SABBIO', 'SAN MARCO', 'FERROVIA'] - 1\n",
      "\t ['FERROVIA', 'RIALTO', 'RIALTO', 'RIALTO', 'LAVELLI PAOL', 'FERROVIA', 'RIALTO', 'S. MARCO-SAN', 'SALUTE', 'AEROPORTO MA', 'P.LE ROMA', 'PUNTA SABBIO', 'SAN MARCO', 'FERROVIA', 'PUNTA SABBIO', 'SAN MARCO', 'FERROVIA', 'RIALTO'] - 1\n",
      "\t ['FERROVIA', 'RIALTO', 'RIALTO', 'RIALTO', 'LAVELLI PAOL', 'FERROVIA', 'RIALTO', 'S. MARCO-SAN', 'SALUTE', 'AEROPORTO MA', 'P.LE ROMA', 'PUNTA SABBIO', 'SAN MARCO', 'FERROVIA', 'PUNTA SABBIO', 'SAN MARCO', 'FERROVIA', 'RIALTO', 'FERROVIA'] - 1\n",
      "\t ['FERROVIA', 'RIALTO', 'RIALTO', 'RIALTO', 'LAVELLI PAOL', 'FERROVIA', 'RIALTO', 'S. MARCO-SAN', 'SALUTE', 'AEROPORTO MA', 'P.LE ROMA', 'PUNTA SABBIO', 'SAN MARCO', 'FERROVIA', 'PUNTA SABBIO', 'SAN MARCO', 'FERROVIA', 'RIALTO', 'FERROVIA', 'SAN MARCO'] - 1\n",
      "\t ['FERROVIA', 'RIALTO', 'RIALTO', 'RIALTO', 'LAVELLI PAOL', 'FERROVIA', 'RIALTO', 'S. MARCO-SAN', 'SALUTE', 'AEROPORTO MA', 'P.LE ROMA', 'PUNTA SABBIO', 'SAN MARCO', 'FERROVIA', 'PUNTA SABBIO', 'SAN MARCO', 'FERROVIA', 'RIALTO', 'FERROVIA', 'SAN MARCO', 'PUNTA SABBIO'] - 1\n",
      "\t ['FERROVIA', 'RIALTO', 'RIALTO', 'RIALTO', 'LAVELLI PAOL', 'FERROVIA', 'RIALTO', 'S. MARCO-SAN', 'SALUTE', 'AEROPORTO MA', 'P.LE ROMA', 'PUNTA SABBIO', 'SAN MARCO', 'FERROVIA', 'PUNTA SABBIO', 'SAN MARCO', 'FERROVIA', 'RIALTO', 'FERROVIA', 'SAN MARCO', 'PUNTA SABBIO', 'FERROVIA'] - 1\n",
      "\t ['FERROVIA', 'RIALTO', 'RIALTO', 'RIALTO', 'LAVELLI PAOL', 'FERROVIA', 'RIALTO', 'S. MARCO-SAN', 'SALUTE', 'AEROPORTO MA', 'P.LE ROMA', 'PUNTA SABBIO', 'SAN MARCO', 'FERROVIA', 'PUNTA SABBIO', 'SAN MARCO', 'FERROVIA', 'RIALTO', 'FERROVIA', 'SAN MARCO', 'PUNTA SABBIO', 'FERROVIA', 'RIALTO'] - 1\n",
      "\t ['FERROVIA', 'RIALTO', 'RIALTO', 'RIALTO', 'LAVELLI PAOL', 'FERROVIA', 'RIALTO', 'S. MARCO-SAN', 'SALUTE', 'AEROPORTO MA', 'P.LE ROMA', 'PUNTA SABBIO', 'SAN MARCO', 'FERROVIA', 'PUNTA SABBIO', 'SAN MARCO', 'FERROVIA', 'RIALTO', 'FERROVIA', 'SAN MARCO', 'PUNTA SABBIO', 'FERROVIA', 'RIALTO', 'PUNTA SABBIO'] - 1\n",
      "\t ['FERROVIA', 'RIALTO', 'RIALTO', 'RIALTO', 'LAVELLI PAOL', 'FERROVIA', 'RIALTO', 'S. MARCO-SAN', 'SALUTE', 'AEROPORTO MA', 'P.LE ROMA', 'PUNTA SABBIO', 'SAN MARCO', 'FERROVIA', 'PUNTA SABBIO', 'SAN MARCO', 'FERROVIA', 'RIALTO', 'FERROVIA', 'SAN MARCO', 'PUNTA SABBIO', 'FERROVIA', 'RIALTO', 'PUNTA SABBIO', 'GIUDECCA PAL'] - 1\n",
      "\t ['FERROVIA', 'RIALTO', 'RIALTO', 'RIALTO', 'LAVELLI PAOL', 'FERROVIA', 'RIALTO', 'S. MARCO-SAN', 'SALUTE', 'AEROPORTO MA', 'P.LE ROMA', 'PUNTA SABBIO', 'SAN MARCO', 'FERROVIA', 'PUNTA SABBIO', 'SAN MARCO', 'FERROVIA', 'RIALTO', 'FERROVIA', 'SAN MARCO', 'PUNTA SABBIO', 'FERROVIA', 'RIALTO', 'PUNTA SABBIO', 'GIUDECCA PAL', 'BACINI - ARS'] - 1\n",
      "\t ['FERROVIA', 'RIALTO', 'RIALTO', 'RIALTO', 'LAVELLI PAOL', 'FERROVIA', 'RIALTO', 'S. MARCO-SAN', 'SALUTE', 'AEROPORTO MA', 'P.LE ROMA', 'PUNTA SABBIO', 'SAN MARCO', 'FERROVIA', 'PUNTA SABBIO', 'SAN MARCO', 'FERROVIA', 'RIALTO', 'FERROVIA', 'SAN MARCO', 'PUNTA SABBIO', 'FERROVIA', 'RIALTO', 'PUNTA SABBIO', 'GIUDECCA PAL', 'BACINI - ARS', 'GIUDECCA PAL'] - 1\n",
      "\t ['FERROVIA', 'RIALTO', 'RIALTO', 'RIALTO', 'LAVELLI PAOL', 'FERROVIA', 'RIALTO', 'S. MARCO-SAN', 'SALUTE', 'AEROPORTO MA', 'P.LE ROMA', 'PUNTA SABBIO', 'SAN MARCO', 'FERROVIA', 'PUNTA SABBIO', 'SAN MARCO', 'FERROVIA', 'RIALTO', 'FERROVIA', 'SAN MARCO', 'PUNTA SABBIO', 'FERROVIA', 'RIALTO', 'PUNTA SABBIO', 'GIUDECCA PAL', 'BACINI - ARS', 'GIUDECCA PAL', 'FERROVIA'] - 1\n",
      "\t ['FERROVIA', 'RIALTO', 'RIALTO', 'RIALTO', 'LAVELLI PAOL', 'FERROVIA', 'RIALTO', 'S. MARCO-SAN', 'SALUTE', 'AEROPORTO MA', 'P.LE ROMA', 'PUNTA SABBIO', 'SAN MARCO', 'FERROVIA', 'PUNTA SABBIO', 'SAN MARCO', 'FERROVIA', 'RIALTO', 'FERROVIA', 'SAN MARCO', 'PUNTA SABBIO', 'FERROVIA', 'RIALTO', 'PUNTA SABBIO', 'GIUDECCA PAL', 'BACINI - ARS', 'GIUDECCA PAL', 'FERROVIA', 'FERROVIA'] - 1\n",
      "\t ['FERROVIA', 'RIALTO', 'RIALTO', 'RIALTO', 'LAVELLI PAOL', 'FERROVIA', 'RIALTO', 'S. MARCO-SAN', 'SALUTE', 'AEROPORTO MA', 'P.LE ROMA', 'PUNTA SABBIO', 'SAN MARCO', 'FERROVIA', 'PUNTA SABBIO', 'SAN MARCO', 'FERROVIA', 'RIALTO', 'FERROVIA', 'SAN MARCO', 'PUNTA SABBIO', 'FERROVIA', 'RIALTO', 'PUNTA SABBIO', 'GIUDECCA PAL', 'BACINI - ARS', 'GIUDECCA PAL', 'FERROVIA', 'FERROVIA', 'SAN MARCO'] - 1\n",
      "\t ['FERROVIA', 'RIALTO', 'RIALTO', 'RIALTO', 'LAVELLI PAOL', 'FERROVIA', 'RIALTO', 'S. MARCO-SAN', 'SALUTE', 'AEROPORTO MA', 'P.LE ROMA', 'PUNTA SABBIO', 'SAN MARCO', 'FERROVIA', 'PUNTA SABBIO', 'SAN MARCO', 'FERROVIA', 'RIALTO', 'FERROVIA', 'SAN MARCO', 'PUNTA SABBIO', 'FERROVIA', 'RIALTO', 'PUNTA SABBIO', 'GIUDECCA PAL', 'BACINI - ARS', 'GIUDECCA PAL', 'FERROVIA', 'FERROVIA', 'SAN MARCO', 'PUNTA SABBIO'] - 1\n",
      "\t ['FERROVIA', 'RIALTO', 'RIALTO', 'RIALTO', 'LAVELLI PAOL', 'FERROVIA', 'RIALTO', 'S. MARCO-SAN', 'SALUTE', 'AEROPORTO MA', 'P.LE ROMA', 'PUNTA SABBIO', 'SAN MARCO', 'FERROVIA', 'PUNTA SABBIO', 'SAN MARCO', 'FERROVIA', 'RIALTO', 'FERROVIA', 'SAN MARCO', 'PUNTA SABBIO', 'FERROVIA', 'RIALTO', 'PUNTA SABBIO', 'GIUDECCA PAL', 'BACINI - ARS', 'GIUDECCA PAL', 'FERROVIA', 'FERROVIA', 'SAN MARCO', 'PUNTA SABBIO', 'SAN MARCO'] - 1\n",
      "\t ['FERROVIA', 'RIALTO', 'RIALTO', 'RIALTO', 'LAVELLI PAOL', 'FERROVIA', 'RIALTO', 'S. MARCO-SAN', 'SALUTE', 'AEROPORTO MA', 'P.LE ROMA', 'PUNTA SABBIO', 'SAN MARCO', 'FERROVIA', 'PUNTA SABBIO', 'SAN MARCO', 'FERROVIA', 'RIALTO', 'FERROVIA', 'SAN MARCO', 'PUNTA SABBIO', 'FERROVIA', 'RIALTO', 'PUNTA SABBIO', 'GIUDECCA PAL', 'BACINI - ARS', 'GIUDECCA PAL', 'FERROVIA', 'FERROVIA', 'SAN MARCO', 'PUNTA SABBIO', 'SAN MARCO', 'PUNTA SABBIO'] - 1\n",
      "\t ['FERROVIA', 'RIALTO', 'RIALTO', 'RIALTO', 'LAVELLI PAOL', 'FERROVIA', 'RIALTO', 'S. MARCO-SAN', 'SALUTE', 'AEROPORTO MA', 'P.LE ROMA', 'PUNTA SABBIO', 'SAN MARCO', 'FERROVIA', 'PUNTA SABBIO', 'SAN MARCO', 'FERROVIA', 'RIALTO', 'FERROVIA', 'SAN MARCO', 'PUNTA SABBIO', 'FERROVIA', 'RIALTO', 'PUNTA SABBIO', 'GIUDECCA PAL', 'BACINI - ARS', 'GIUDECCA PAL', 'FERROVIA', 'FERROVIA', 'SAN MARCO', 'PUNTA SABBIO', 'SAN MARCO', 'PUNTA SABBIO', 'SAN MARCO'] - 1\n",
      "\t ['FERROVIA', 'RIALTO', 'RIALTO', 'RIALTO', 'LAVELLI PAOL', 'FERROVIA', 'RIALTO', 'S. MARCO-SAN', 'SALUTE', 'AEROPORTO MA', 'P.LE ROMA', 'PUNTA SABBIO', 'SAN MARCO', 'FERROVIA', 'PUNTA SABBIO', 'SAN MARCO', 'FERROVIA', 'RIALTO', 'FERROVIA', 'SAN MARCO', 'PUNTA SABBIO', 'FERROVIA', 'RIALTO', 'PUNTA SABBIO', 'GIUDECCA PAL', 'BACINI - ARS', 'GIUDECCA PAL', 'FERROVIA', 'FERROVIA', 'SAN MARCO', 'PUNTA SABBIO', 'SAN MARCO', 'PUNTA SABBIO', 'SAN MARCO', 'PUNTA SABBIO'] - 1\n",
      "\t ['FERROVIA', 'RIALTO', 'RIALTO', 'RIALTO', 'LAVELLI PAOL', 'FERROVIA', 'RIALTO', 'S. MARCO-SAN', 'SALUTE', 'AEROPORTO MA', 'P.LE ROMA', 'PUNTA SABBIO', 'SAN MARCO', 'FERROVIA', 'PUNTA SABBIO', 'SAN MARCO', 'FERROVIA', 'RIALTO', 'FERROVIA', 'SAN MARCO', 'PUNTA SABBIO', 'FERROVIA', 'RIALTO', 'PUNTA SABBIO', 'GIUDECCA PAL', 'BACINI - ARS', 'GIUDECCA PAL', 'FERROVIA', 'FERROVIA', 'SAN MARCO', 'PUNTA SABBIO', 'SAN MARCO', 'PUNTA SABBIO', 'SAN MARCO', 'PUNTA SABBIO', 'RIALTO'] - 1\n",
      "\t ['FERROVIA', 'RIALTO', 'RIALTO', 'RIALTO', 'LAVELLI PAOL', 'FERROVIA', 'RIALTO', 'S. MARCO-SAN', 'SALUTE', 'AEROPORTO MA', 'P.LE ROMA', 'PUNTA SABBIO', 'SAN MARCO', 'FERROVIA', 'PUNTA SABBIO', 'SAN MARCO', 'FERROVIA', 'RIALTO', 'FERROVIA', 'SAN MARCO', 'PUNTA SABBIO', 'FERROVIA', 'RIALTO', 'PUNTA SABBIO', 'GIUDECCA PAL', 'BACINI - ARS', 'GIUDECCA PAL', 'FERROVIA', 'FERROVIA', 'SAN MARCO', 'PUNTA SABBIO', 'SAN MARCO', 'PUNTA SABBIO', 'SAN MARCO', 'PUNTA SABBIO', 'RIALTO', 'SAN MARCO'] - 1\n",
      "\t ['FERROVIA', 'RIALTO', 'RIALTO', 'RIALTO', 'LAVELLI PAOL', 'FERROVIA', 'RIALTO', 'S. MARCO-SAN', 'SALUTE', 'AEROPORTO MA', 'P.LE ROMA', 'PUNTA SABBIO', 'SAN MARCO', 'FERROVIA', 'PUNTA SABBIO', 'SAN MARCO', 'FERROVIA', 'RIALTO', 'FERROVIA', 'SAN MARCO', 'PUNTA SABBIO', 'FERROVIA', 'RIALTO', 'PUNTA SABBIO', 'GIUDECCA PAL', 'BACINI - ARS', 'GIUDECCA PAL', 'FERROVIA', 'FERROVIA', 'SAN MARCO', 'PUNTA SABBIO', 'SAN MARCO', 'PUNTA SABBIO', 'SAN MARCO', 'PUNTA SABBIO', 'RIALTO', 'SAN MARCO', 'S. ANGELO'] - 1\n",
      "\t ['SALUTE'] - 1490\n",
      "\t ['SALUTE', 'RIALTO'] - 166\n"
     ]
    }
   ],
   "source": [
    "# Call the function to compute the most frequent trajectories with sub-trajectories\n",
    "\n",
    "# Create the dictionary with the trajectories\n",
    "dict_trajectories = create_or_load_dictionary_with_trajectories(df)\n",
    "# Compute the most frequent trajectories with sub-trajectories\n",
    "dict_most_frequent_trajectories = most_frequent_trajectories_with_sub_trajectories(dict_trajectories, is_focus_on_ticket_code=False, ticket_code='', summary=True, k=40, min_length=4, ignore_one_stop=True)"
   ]
  },
  {
   "cell_type": "code",
   "execution_count": 17,
   "metadata": {
    "ExecuteTime": {
     "end_time": "2023-04-30T11:59:27.960086Z",
     "start_time": "2023-04-30T11:59:27.894440Z"
    }
   },
   "outputs": [],
   "source": [
    "def longest_common_subsequence(trajectory_1: list, trajectory_2: list) -> list:\n",
    "    \"\"\"\n",
    "        This function finds the Longest Common Subsequence (LCS) between two trajectories.\n",
    "        :param trajectory_1: the first trajectory\n",
    "        :param trajectory_2: the second trajectory\n",
    "        :return: the LCS\n",
    "    \"\"\"\n",
    "    # Find the LCS\n",
    "    # Create a matrix with the length of the LCS between two trajectories\n",
    "    matrix = [[0 for x in range(len(trajectory_2) + 1)] for y in range(len(trajectory_1) + 1)]\n",
    "    for i in range(1, len(trajectory_1) + 1):\n",
    "        for j in range(1, len(trajectory_2) + 1):\n",
    "            if trajectory_1[i - 1] == trajectory_2[j - 1]:\n",
    "                matrix[i][j] = matrix[i - 1][j - 1] + 1\n",
    "            else:\n",
    "                matrix[i][j] = max(matrix[i - 1][j], matrix[i][j - 1])\n",
    "\n",
    "    # Find the LCS\n",
    "    i = len(trajectory_1)\n",
    "    j = len(trajectory_2)\n",
    "    lcs = []\n",
    "    while i > 0 and j > 0:\n",
    "        if trajectory_1[i - 1] == trajectory_2[j - 1]:\n",
    "            lcs.append(trajectory_1[i - 1])\n",
    "            i -= 1\n",
    "            j -= 1\n",
    "        elif matrix[i - 1][j] > matrix[i][j - 1]:\n",
    "            i -= 1\n",
    "        else:\n",
    "            j -= 1\n",
    "\n",
    "    # Reverse the LCS\n",
    "    lcs.reverse()\n",
    "\n",
    "    return lcs"
   ]
  },
  {
   "attachments": {},
   "cell_type": "markdown",
   "metadata": {},
   "source": [
    "### Compute the average length of the trajectories with the entire dataset\n"
   ]
  },
  {
   "cell_type": "code",
   "execution_count": 18,
   "metadata": {
    "ExecuteTime": {
     "end_time": "2023-04-30T17:08:12.214132Z",
     "start_time": "2023-04-30T11:59:27.959931Z"
    }
   },
   "outputs": [
    {
     "name": "stdout",
     "output_type": "stream",
     "text": [
      "The folder already exists.\n"
     ]
    }
   ],
   "source": [
    "# Create a dictionary with the trajectories of the users\n",
    "dict_trajectories = create_or_load_dictionary_with_trajectories(df)"
   ]
  },
  {
   "cell_type": "code",
   "execution_count": 19,
   "metadata": {},
   "outputs": [
    {
     "name": "stdout",
     "output_type": "stream",
     "text": [
      "(-2854957894, None) - [['FERROVIA', 'RIALTO', 'RIALTO', 'RIALTO', 'LAVELLI PAOL', 'FERROVIA', 'RIALTO', 'S. MARCO-SAN', 'SALUTE', 'AEROPORTO MA', 'P.LE ROMA', 'PUNTA SABBIO', 'SAN MARCO', 'FERROVIA', 'PUNTA SABBIO', 'SAN MARCO', 'FERROVIA', 'RIALTO', 'FERROVIA', 'SAN MARCO', 'PUNTA SABBIO', 'FERROVIA', 'RIALTO', 'PUNTA SABBIO', 'GIUDECCA PAL', 'BACINI - ARS', 'GIUDECCA PAL', 'FERROVIA', 'FERROVIA', 'SAN MARCO', 'PUNTA SABBIO', 'SAN MARCO', 'PUNTA SABBIO', 'SAN MARCO', 'PUNTA SABBIO', 'RIALTO', 'SAN MARCO', 'S. ANGELO']]\n",
      "(-2854992707, Timestamp('2023-04-04 00:00:00')) - [['FERROVIA']]\n",
      "(-2854992707, Timestamp('2023-04-05 00:00:00')) - [['VENEZIA', 'CAPPUCCINA', 'MIRANESE']]\n",
      "(-2854992707, Timestamp('2023-04-06 00:00:00')) - [['SALUTE', 'S. MARCO VAL']]\n",
      "(-2854992707, Timestamp('2023-04-07 00:00:00')) - [['ZATTERE', 'REDENTORE']]\n"
     ]
    }
   ],
   "source": [
    "# Print the head of the dictionary\n",
    "for key in list(dict_trajectories.keys())[0:5]:\n",
    "    print('{} - {}'.format(key, dict_trajectories[key]))"
   ]
  },
  {
   "cell_type": "code",
   "execution_count": 20,
   "metadata": {},
   "outputs": [
    {
     "name": "stdout",
     "output_type": "stream",
     "text": [
      "The average length of the trajectories considering all the dataframe is: 2.479\n",
      "The folder already exists.\n",
      "Error: [Errno 2] No such file or directory: 'data/dictionaries/trajectories/esportazionePasqua23/dict_trajectories_esportazionePasqua23_tc:1.json'\n",
      "Waiting while the function is creating the dictionary: dict_trajectories_esportazionePasqua23_tc:1.json\n",
      "The folder already exists.\n",
      "Error: [Errno 2] No such file or directory: 'data/dictionaries/trajectories/esportazionePasqua23/dict_trajectories_esportazionePasqua23_tc:2.json'\n",
      "Waiting while the function is creating the dictionary: dict_trajectories_esportazionePasqua23_tc:2.json\n",
      "The folder already exists.\n",
      "Error: [Errno 2] No such file or directory: 'data/dictionaries/trajectories/esportazionePasqua23/dict_trajectories_esportazionePasqua23_tc:3.json'\n",
      "Waiting while the function is creating the dictionary: dict_trajectories_esportazionePasqua23_tc:3.json\n",
      "The folder already exists.\n",
      "Error: [Errno 2] No such file or directory: 'data/dictionaries/trajectories/esportazionePasqua23/dict_trajectories_esportazionePasqua23_tc:4.json'\n",
      "Waiting while the function is creating the dictionary: dict_trajectories_esportazionePasqua23_tc:4.json\n",
      "The folder already exists.\n",
      "Error: [Errno 2] No such file or directory: 'data/dictionaries/trajectories/esportazionePasqua23/dict_trajectories_esportazionePasqua23_tc:5.json'\n",
      "Waiting while the function is creating the dictionary: dict_trajectories_esportazionePasqua23_tc:5.json\n",
      "The folder already exists.\n",
      "Error: [Errno 2] No such file or directory: 'data/dictionaries/trajectories/esportazionePasqua23/dict_trajectories_esportazionePasqua23_tc:5-STUD.json'\n",
      "Waiting while the function is creating the dictionary: dict_trajectories_esportazionePasqua23_tc:5-STUD.json\n",
      "The folder already exists.\n",
      "Error: [Errno 2] No such file or directory: 'data/dictionaries/trajectories/esportazionePasqua23/dict_trajectories_esportazionePasqua23_tc:5-WKRS.json'\n",
      "Waiting while the function is creating the dictionary: dict_trajectories_esportazionePasqua23_tc:5-WKRS.json\n",
      "The folder already exists.\n",
      "Error: [Errno 2] No such file or directory: 'data/dictionaries/trajectories/esportazionePasqua23/dict_trajectories_esportazionePasqua23_tc:6.json'\n",
      "Waiting while the function is creating the dictionary: dict_trajectories_esportazionePasqua23_tc:6.json\n",
      "The folder already exists.\n",
      "Error: [Errno 2] No such file or directory: 'data/dictionaries/trajectories/esportazionePasqua23/dict_trajectories_esportazionePasqua23_tc:6-STUD.json'\n",
      "Waiting while the function is creating the dictionary: dict_trajectories_esportazionePasqua23_tc:6-STUD.json\n",
      "The folder already exists.\n",
      "Error: [Errno 2] No such file or directory: 'data/dictionaries/trajectories/esportazionePasqua23/dict_trajectories_esportazionePasqua23_tc:6-RET.json'\n",
      "Waiting while the function is creating the dictionary: dict_trajectories_esportazionePasqua23_tc:6-RET.json\n",
      "The folder already exists.\n",
      "Error: [Errno 2] No such file or directory: 'data/dictionaries/trajectories/esportazionePasqua23/dict_trajectories_esportazionePasqua23_tc:6-WKRS.json'\n",
      "Waiting while the function is creating the dictionary: dict_trajectories_esportazionePasqua23_tc:6-WKRS.json\n",
      "The folder already exists.\n",
      "Error: [Errno 2] No such file or directory: 'data/dictionaries/trajectories/esportazionePasqua23/dict_trajectories_esportazionePasqua23_tc:7.json'\n",
      "Waiting while the function is creating the dictionary: dict_trajectories_esportazionePasqua23_tc:7.json\n"
     ]
    },
    {
     "data": {
      "text/plain": "<Figure size 1440x720 with 1 Axes>",
      "image/png": "[encoded data removed]"
     },
     "metadata": {},
     "output_type": "display_data"
    }
   ],
   "source": [
    "# Compute the average length of the trajectories\n",
    "average_lenght = average_length_of_trajectories(dict_trajectories)\n",
    "print('The average length of the trajectories considering all the dataframe is: {}'.format(average_lenght))\n",
    "average_length_of_trajectories_by_ticket_code_plot(dict_trajectories, df)"
   ]
  },
  {
   "attachments": {},
   "cell_type": "markdown",
   "metadata": {},
   "source": [
    "### Compute the average length of the trajectories with the dataset with the ticket code 7"
   ]
  },
  {
   "cell_type": "code",
   "execution_count": 21,
   "metadata": {},
   "outputs": [],
   "source": [
    "# # Create a dictionary with the trajectories of the users with the ticket code '7'\n",
    "# df_sup = mf.focus_on_ticket_code(df,'7')\n",
    "# # Create a dictionary with the trajectories of the users\n",
    "# dict_trajectories = create_dictionary_with_trajectories(df_sup)\n",
    "# # Compute the average length of the trajectories\n",
    "# average_lenght = average_length_of_trajectories(dict_trajectories, is_focus_on_ticket_code=True, ticket_code='7')\n",
    "# # average_length_of_trajectories_by_ticket_code_plot(dict_trajectories, df_sup, 'data/dictionaries/dict_ticket_codes.json')\n",
    "# # trajectories_with_at_least_k_stations(dict_trajectories, 3)"
   ]
  },
  {
   "attachments": {},
   "cell_type": "markdown",
   "metadata": {},
   "source": [
    "### Print information for each ticket code"
   ]
  },
  {
   "cell_type": "code",
   "execution_count": 22,
   "metadata": {
    "ExecuteTime": {
     "end_time": "2023-04-30T11:50:55.190157Z",
     "start_time": "2023-04-30T09:39:50.451287Z"
    }
   },
   "outputs": [
    {
     "name": "stdout",
     "output_type": "stream",
     "text": [
      "The folder already exists.\n",
      "Ticket code: 1 - \"One-day ticket\"\n",
      "The folder already exists.\n",
      "The average length of the trajectories is: 3.6373\n",
      "The number of trajectories is: 67703\n",
      "The most 5 frequent trajectories with a minimum length of 2 stop(s) for the ticket code 1 - \"One-day ticket\" are:\n",
      "\t [['F.TE NOVE', 'BURANO']] - 4757\n",
      "\t [['PUNTA SABBIO', 'SAN MARCO']] - 3888\n",
      "\t [['F.TE NOVE', 'MURANO', 'BURANO']] - 3588\n",
      "\t [['SAN MARCO', 'BURANO']] - 3215\n",
      "\t [['FERROVIA', 'MURANO', 'BURANO']] - 2801\n",
      "\n",
      "Ticket code: 2 - \"Two-day ticket\"\n",
      "The folder already exists.\n",
      "The average length of the trajectories is: 6.1885\n",
      "The number of trajectories is: 57652\n",
      "The most 5 frequent trajectories with a minimum length of 2 stop(s) for the ticket code 2 - \"Two-day ticket\" are:\n",
      "\t [['FERROVIA', 'RIALTO']] - 426\n",
      "\t [['FERROVIA', 'SAN MARCO']] - 207\n",
      "\t [['P.LE ROMA', 'RIALTO']] - 200\n",
      "\t [['PUNTA SABBIO', 'SAN MARCO', 'PUNTA SABBIO', 'SAN MARCO']] - 189\n",
      "\t [['F.TE NOVE', 'BURANO']] - 156\n",
      "\n",
      "Ticket code: 3 - \"Three-day ticket\"\n",
      "The folder already exists.\n",
      "The average length of the trajectories is: 8.1777\n",
      "The number of trajectories is: 65941\n",
      "The most 5 frequent trajectories with a minimum length of 2 stop(s) for the ticket code 3 - \"Three-day ticket\" are:\n",
      "\t [['FERROVIA', 'RIALTO']] - 221\n",
      "\t [['FERROVIA', 'SAN MARCO']] - 120\n",
      "\t [['P.LE ROMA', 'RIALTO']] - 116\n",
      "\t [['F.TE NOVE', 'BURANO']] - 85\n",
      "\t [['RIALTO', 'RIALTO']] - 75\n",
      "\n",
      "Ticket code: 4 - \"Seven-day ticket\"\n",
      "The folder already exists.\n",
      "The average length of the trajectories is: 13.0887\n",
      "The number of trajectories is: 25519\n",
      "The most 5 frequent trajectories with a minimum length of 2 stop(s) for the ticket code 4 - \"Seven-day ticket\" are:\n",
      "\t [['P.LE ROMA', 'RIALTO']] - 29\n",
      "\t [['MURANO', 'BURANO']] - 17\n",
      "\t [['P.LE ROMA', 'P.LE ROMA']] - 14\n",
      "\t [['FERROVIA', 'RIALTO']] - 14\n",
      "\t [['FERROVIA', 'LIDO']] - 13\n",
      "\n",
      "Ticket code: 5 - \"Monthly ticket\"\n",
      "The folder already exists.\n",
      "The average length of the trajectories is: 1.5649\n",
      "The number of trajectories is: 29049\n",
      "The most 5 frequent trajectories with a minimum length of 2 stop(s) for the ticket code 5 - \"Monthly ticket\" are:\n",
      "\t [['P.LE ROMA', 'RIALTO']] - 58272\n",
      "\t [['LIDO', 'S. MARCO-SAN']] - 9882\n",
      "\t [['FERROVIA', 'RIALTO']] - 9399\n",
      "\t [['RIALTO', 'P.LE ROMA']] - 7095\n",
      "\t [['P.LE ROMA', 'SAN MARCO']] - 6836\n",
      "\n",
      "Ticket code: 5-STUD - \"Monthly ticket for students\"\n",
      "The folder already exists.\n",
      "The average length of the trajectories is: 1.4925\n",
      "The number of trajectories is: 6776\n",
      "The most 5 frequent trajectories with a minimum length of 2 stop(s) for the ticket code 5-STUD - \"Monthly ticket for students\" are:\n",
      "\t [['P.LE ROMA', 'RIALTO']] - 5399\n",
      "\t [['PUNTA SABBIO', 'SAN MARCO']] - 1112\n",
      "\t [['RIALTO', 'P.LE ROMA']] - 923\n",
      "\t [['LIDO', 'S. MARCO-SAN']] - 856\n",
      "\t [['FERROVIA', 'RIALTO']] - 774\n",
      "\n",
      "Ticket code: 5-RET - \"Monthly ticket for retired\"\n",
      "The folder already exists.\n",
      "Error: [Errno 2] No such file or directory: 'data/dictionaries/trajectories/esportazionePasqua23/dict_trajectories_esportazionePasqua23_tc:5-RET.json'\n",
      "Waiting while the function is creating the dictionary: dict_trajectories_esportazionePasqua23_tc:5-RET.json\n",
      "\t Warning: the dictionary is empty: dict_trajectories_esportazionePasqua23_tc:5-RET.json\n",
      "\t No trajectories to analyze\n",
      "\n",
      "Ticket code: 5-WKRS - \"Monthly ticket for workers\"\n",
      "The folder already exists.\n",
      "The average length of the trajectories is: 1.6147\n",
      "The number of trajectories is: 159\n",
      "The most 5 frequent trajectories with a minimum length of 2 stop(s) for the ticket code 5-WKRS - \"Monthly ticket for workers\" are:\n",
      "\t [['PUNTA SABBIO', 'SAN MARCO']] - 1205\n",
      "\t [['PUNTA SABBIO', 'LIDO']] - 639\n",
      "\t [['PUNTA SABBIO', 'LIDO', 'SAN MARCO']] - 83\n",
      "\t [['SAN MARCO', 'PUNTA SABBIO']] - 56\n",
      "\t [['LIDO', 'PUNTA SABBIO']] - 37\n",
      "\n",
      "Ticket code: 6 - \"Annual ticket\"\n",
      "The folder already exists.\n",
      "The average length of the trajectories is: 1.5319\n",
      "The number of trajectories is: 11558\n",
      "The most 5 frequent trajectories with a minimum length of 2 stop(s) for the ticket code 6 - \"Annual ticket\" are:\n",
      "\t [['P.LE ROMA', 'RIALTO']] - 12198\n",
      "\t [['LIDO', 'S. MARCO-SAN']] - 8613\n",
      "\t [['LIDO', 'S. MARCO VAL']] - 4123\n",
      "\t [['RIALTO', 'P.LE ROMA']] - 3945\n",
      "\t [['LIDO', 'SAN MARCO']] - 2761\n",
      "\n",
      "Ticket code: 6-STUD - \"Annual ticket for students\"\n",
      "The folder already exists.\n",
      "The average length of the trajectories is: 1.3553\n",
      "The number of trajectories is: 2979\n",
      "The most 5 frequent trajectories with a minimum length of 2 stop(s) for the ticket code 6-STUD - \"Annual ticket for students\" are:\n",
      "\t [['P.LE ROMA', 'RIALTO']] - 1386\n",
      "\t [['LIDO', 'S. MARCO-SAN']] - 1089\n",
      "\t [['LIDO', 'ZATTERE']] - 556\n",
      "\t [['LIDO', 'LIDO']] - 523\n",
      "\t [['PUNTA SABBIO', 'SAN MARCO']] - 476\n",
      "\n",
      "Ticket code: 6-RET - \"Annual ticket for retired\"\n",
      "The folder already exists.\n",
      "The average length of the trajectories is: 1.5239\n",
      "The number of trajectories is: 3031\n",
      "The most 5 frequent trajectories with a minimum length of 2 stop(s) for the ticket code 6-RET - \"Annual ticket for retired\" are:\n",
      "\t [['S.ELENA-STAD', 'LIDO']] - 340\n",
      "\t [['RIALTO', 'P.LE ROMA']] - 234\n",
      "\t [['P.LE ROMA', 'RIALTO']] - 190\n",
      "\t [['LIDO', 'S. MARCO-SAN']] - 173\n",
      "\t [['LIDO', 'LIDO']] - 164\n",
      "\n",
      "Ticket code: 6-WKRS - \"Annual ticket for workers\"\n",
      "The folder already exists.\n",
      "The average length of the trajectories is: 1.7854\n",
      "The number of trajectories is: 67\n",
      "The most 5 frequent trajectories with a minimum length of 2 stop(s) for the ticket code 6-WKRS - \"Annual ticket for workers\" are:\n",
      "\t [['PUNTA SABBIO', 'SAN MARCO']] - 214\n",
      "\t [['PUNTA SABBIO', 'LIDO']] - 79\n",
      "\t [['SAN MARCO', 'PUNTA SABBIO']] - 13\n",
      "\t [['PUNTA SABBIO', 'LIDO', 'LIDO']] - 10\n",
      "\t [['PUNTA SABBIO', 'LIDO', 'ZATTERE', 'LIDO']] - 9\n",
      "\n",
      "Ticket code: 7 - \"75 minutes ticket\"\n",
      "The folder already exists.\n",
      "The average length of the trajectories is: 1.9219\n",
      "The number of trajectories is: 109669\n",
      "The most 5 frequent trajectories with a minimum length of 2 stop(s) for the ticket code 7 - \"75 minutes ticket\" are:\n",
      "\t [['MESTRE', 'VENEZIA']] - 14375\n",
      "\t [['SAN MARCO', 'VENEZIA']] - 4855\n",
      "\t [['PORTO', 'VENEZIA']] - 4436\n",
      "\t [['VENEZIA', 'VENEZIA']] - 4023\n",
      "\t [['TRONCHETTO', 'LIDO']] - 2779\n",
      "\n"
     ]
    }
   ],
   "source": [
    "# For each ticket code:\n",
    "# a. Create a dictionary with the trajectories of the users with the ticket code\n",
    "# b. Compute the average length of the trajectories (number of stations visited)\n",
    "# c. Compute the number of users \n",
    "# d. Compute the number of trajectories\n",
    "# e. Find the most frequent trajectories\n",
    "\n",
    "ticket_code = mf.open_dict_ticket_codes()\n",
    "\n",
    "dict_trajectories = create_or_load_dictionary_with_trajectories(df)\n",
    "# average_length_of_trajectories_by_ticket_code_plot(dict_trajectories, df, 'data/dictionaries/dict_ticket_codes.json')\n",
    "\n",
    "for ticket_code in ticket_code.keys():\n",
    "    # Exclude the ticket code '8' \n",
    "    if ticket_code == '8':\n",
    "        continue\n",
    "    \n",
    "    print('Ticket code: {} - \"{}\"'.format(ticket_code, mf.get_ticket_code_description(ticket_code)))\n",
    "\n",
    "    # a. Create a dictionary with the trajectories of the users with the ticket code\n",
    "    df_sup = mf.focus_on_ticket_code(df, ticket_code)\n",
    "    dict_trajectories = create_or_load_dictionary_with_trajectories(df_sup, file_name = file_name + '_' + 'tc:' + ticket_code)\n",
    "    if len(dict_trajectories.keys()) == 0:\n",
    "        print('\\t No trajectories to analyze')\n",
    "        print('')\n",
    "        continue\n",
    "    \n",
    "    # b. Compute the average length of the trajectories (number of stations visited)\n",
    "    avg_len_trj = average_length_of_trajectories(dict_trajectories, is_focus_on_ticket_code=True, ticket_code=ticket_code)\n",
    "    print('The average length of the trajectories is: {}'.format(avg_len_trj))\n",
    "    \n",
    "    # c. Compute the number of users (Seriale)\n",
    "    number_of_users = len(dict_trajectories.keys()) # TODO: r u sure?\n",
    "    \n",
    "    # d. Compute the number of trajectories\n",
    "    num_trj = number_of_trajectories(dict_trajectories, is_focus_on_ticket_code=True, ticket_code=ticket_code, summary=False)\n",
    "    print('The number of trajectories is: {}'.format(num_trj))\n",
    "    \n",
    "    # e. Find the most frequent trajectories\n",
    "    most_frequent_trajectories(dict_trajectories, is_focus_on_ticket_code=True, ticket_code=ticket_code, k=5, summary=True, min_length=2)\n",
    "    print('')"
   ]
  },
  {
   "cell_type": "code",
   "execution_count": 23,
   "metadata": {},
   "outputs": [],
   "source": [
    "def print_trajectories_of_user(dict_trajectories: dict, user: str):\n",
    "    \"\"\"\n",
    "        This function prints the trajectories of a user.\n",
    "        :param dict_trajectories: the dictionary with the trajectories\n",
    "        :param user: the user\n",
    "    \"\"\"\n",
    "    # print the dataframes of the trajectories of the user\n",
    "    df_aux = df[df['SERIALE'] == user]\n",
    "    print(df_aux)"
   ]
  },
  {
   "cell_type": "code",
   "execution_count": 24,
   "metadata": {},
   "outputs": [
    {
     "name": "stdout",
     "output_type": "stream",
     "text": [
      "              DATA       ORA     DATA_VALIDAZIONE     SERIALE  FERMATA  \\\n",
      "0       2023-04-04  00:00:00  2023-04-04 00:00:00 -2854957894     5032   \n",
      "739554  2023-04-09  13:11:00  2023-04-09 13:11:00 -2854957894     5039   \n",
      "829865  2023-04-10  07:31:00  2023-04-10 07:31:00 -2854957894     5039   \n",
      "1236133 2023-04-13  08:40:00  2023-04-13 08:40:00 -2854957894     5039   \n",
      "1277344 2023-04-13  13:32:00  2023-04-13 13:32:00 -2854957894     6053   \n",
      "1636569 2023-04-16  14:03:00  2023-04-16 14:03:00 -2854957894     5032   \n",
      "1861619 2023-04-18  13:32:00  2023-04-18 13:32:00 -2854957894     5039   \n",
      "1987909 2023-04-19  13:41:00  2023-04-19 13:41:00 -2854957894     5013   \n",
      "2007034 2023-04-19  15:41:00  2023-04-19 15:41:00 -2854957894     5052   \n",
      "2793554 2023-04-25  20:45:00  2023-04-25 20:45:00 -2854957894     3625   \n",
      "2795351 2023-04-25  21:16:00  2023-04-25 21:16:00 -2854957894     5031   \n",
      "3010258 2023-04-27  15:55:00  2023-04-27 15:55:00 -2854957894     5108   \n",
      "3191112 2023-04-28  23:42:00  2023-04-28 23:42:00 -2854957894     5009   \n",
      "3264381 2023-04-29  14:24:00  2023-04-29 14:24:00 -2854957894     5032   \n",
      "3971270 2023-05-04  18:53:00  2023-05-04 18:53:00 -2854957894     5108   \n",
      "4197750 2023-05-06  14:11:00  2023-05-06 14:11:00 -2854957894     5009   \n",
      "4330935 2023-05-07  14:00:00  2023-05-07 14:00:00 -2854957894     5032   \n",
      "4399172 2023-05-08  06:46:00  2023-05-08 06:46:00 -2854957894     5039   \n",
      "4778532 2023-05-11  14:11:00  2023-05-11 14:11:00 -2854957894     5032   \n",
      "4800974 2023-05-11  17:29:00  2023-05-11 17:29:00 -2854957894     5009   \n",
      "4851829 2023-05-12  10:54:00  2023-05-12 10:54:00 -2854957894     5108   \n",
      "4939450 2023-05-13  00:14:00  2023-05-13 00:14:00 -2854957894     5032   \n",
      "5153361 2023-05-15  07:05:00  2023-05-15 07:05:00 -2854957894     5039   \n",
      "5300893 2023-05-16  10:26:00  2023-05-16 10:26:00 -2854957894     5108   \n",
      "5434174 2023-05-17  14:18:00  2023-05-17 14:18:00 -2854957894     5022   \n",
      "5448722 2023-05-17  15:56:00  2023-05-17 15:56:00 -2854957894     5115   \n",
      "5589432 2023-05-18  16:21:00  2023-05-18 16:21:00 -2854957894     5022   \n",
      "5839741 2023-05-20  10:52:00  2023-05-20 10:52:00 -2854957894     5032   \n",
      "6181691 2023-05-22  17:33:00  2023-05-22 17:33:00 -2854957894     5032   \n",
      "6201223 2023-05-22  20:13:00  2023-05-22 20:13:00 -2854957894     5009   \n",
      "6257852 2023-05-23  11:55:00  2023-05-23 11:55:00 -2854957894     5108   \n",
      "6465681 2023-05-24  19:56:00  2023-05-24 19:56:00 -2854957894     5009   \n",
      "6482272 2023-05-25  07:26:00  2023-05-25 07:26:00 -2854957894     5070   \n",
      "6933273 2023-05-28  22:58:00  2023-05-28 22:58:00 -2854957894     5009   \n",
      "7102847 2023-05-30  10:24:00  2023-05-30 10:24:00 -2854957894     5108   \n",
      "7132677 2023-05-30  13:33:00  2023-05-30 13:33:00 -2854957894     5039   \n",
      "7225500 2023-05-31  09:39:00  2023-05-31 09:39:00 -2854957894     5009   \n",
      "7563493 2023-06-02  16:52:00  2023-06-02 16:52:00 -2854957894     5042   \n",
      "\n",
      "          DESCRIZIONE  TITOLO TICKET_CODE   DESCRIZIONE_TITOLO  \n",
      "0            FERROVIA   11209           7  BIGL RETE UNICA 75'  \n",
      "739554         RIALTO   11209           7  BIGL RETE UNICA 75'  \n",
      "829865         RIALTO   11209           7  BIGL RETE UNICA 75'  \n",
      "1236133        RIALTO   11209           7  BIGL RETE UNICA 75'  \n",
      "1277344  LAVELLI PAOL   11209           7  BIGL RETE UNICA 75'  \n",
      "1636569      FERROVIA   11209           7  BIGL RETE UNICA 75'  \n",
      "1861619        RIALTO   11209           7  BIGL RETE UNICA 75'  \n",
      "1987909  S. MARCO-SAN   11209           7  BIGL RETE UNICA 75'  \n",
      "2007034        SALUTE   11209           7  BIGL RETE UNICA 75'  \n",
      "2793554  AEROPORTO MA   11209           7  BIGL RETE UNICA 75'  \n",
      "2795351     P.LE ROMA   11209           7  BIGL RETE UNICA 75'  \n",
      "3010258  PUNTA SABBIO   11209           7  BIGL RETE UNICA 75'  \n",
      "3191112     SAN MARCO   11209           7  BIGL RETE UNICA 75'  \n",
      "3264381      FERROVIA   11209           7  BIGL RETE UNICA 75'  \n",
      "3971270  PUNTA SABBIO   11209           7  BIGL RETE UNICA 75'  \n",
      "4197750     SAN MARCO   11209           7  BIGL RETE UNICA 75'  \n",
      "4330935      FERROVIA   11209           7  BIGL RETE UNICA 75'  \n",
      "4399172        RIALTO   11209           7  BIGL RETE UNICA 75'  \n",
      "4778532      FERROVIA   11209           7  BIGL RETE UNICA 75'  \n",
      "4800974     SAN MARCO   11209           7  BIGL RETE UNICA 75'  \n",
      "4851829  PUNTA SABBIO   11209           7  BIGL RETE UNICA 75'  \n",
      "4939450      FERROVIA   11209           7  BIGL RETE UNICA 75'  \n",
      "5153361        RIALTO   11209           7  BIGL RETE UNICA 75'  \n",
      "5300893  PUNTA SABBIO   11209           7  BIGL RETE UNICA 75'  \n",
      "5434174  GIUDECCA PAL   11209           7  BIGL RETE UNICA 75'  \n",
      "5448722  BACINI - ARS   11209           7  BIGL RETE UNICA 75'  \n",
      "5589432  GIUDECCA PAL   11209           7  BIGL RETE UNICA 75'  \n",
      "5839741      FERROVIA   11209           7  BIGL RETE UNICA 75'  \n",
      "6181691      FERROVIA   11209           7  BIGL RETE UNICA 75'  \n",
      "6201223     SAN MARCO   11209           7  BIGL RETE UNICA 75'  \n",
      "6257852  PUNTA SABBIO   11209           7  BIGL RETE UNICA 75'  \n",
      "6465681     SAN MARCO   11209           7  BIGL RETE UNICA 75'  \n",
      "6482272  PUNTA SABBIO   11209           7  BIGL RETE UNICA 75'  \n",
      "6933273     SAN MARCO   11209           7  BIGL RETE UNICA 75'  \n",
      "7102847  PUNTA SABBIO   11209           7  BIGL RETE UNICA 75'  \n",
      "7132677        RIALTO   11209           7  BIGL RETE UNICA 75'  \n",
      "7225500     SAN MARCO   11209           7  BIGL RETE UNICA 75'  \n",
      "7563493     S. ANGELO   11209           7  BIGL RETE UNICA 75'  \n"
     ]
    }
   ],
   "source": [
    "# Given the serial of a user, print the trajectories of the user\n",
    "# Serial of the user of the first trajectory\n",
    "serial = list(dict_trajectories.keys())[0][0]\n",
    "# Print the trajectories of the user\n",
    "print_trajectories_of_user(dict_trajectories, serial)"
   ]
  },
  {
   "attachments": {},
   "cell_type": "markdown",
   "metadata": {},
   "source": [
    "### Find the most frequent trajectories with the entire dataset"
   ]
  },
  {
   "cell_type": "code",
   "execution_count": 25,
   "metadata": {},
   "outputs": [
    {
     "name": "stdout",
     "output_type": "stream",
     "text": [
      "The folder already exists.\n",
      "The most 20 frequent trajectories with a minimum length of 3 stop(s) are:\n",
      "\t [['F.TE NOVE', 'MURANO', 'BURANO']] - 3764\n",
      "\t [['FERROVIA', 'MURANO', 'BURANO']] - 2954\n",
      "\t [['SAN MARCO', 'MURANO', 'BURANO']] - 2436\n",
      "\t [['F.TE NOVE', 'BURANO', 'MURANO']] - 2079\n",
      "\t [['P.LE ROMA', 'MURANO', 'BURANO']] - 1847\n",
      "\t [['P.LE ROMA', 'RIALTO', 'RIALTO']] - 1595\n",
      "\t [['P.LE ROMA', 'RIALTO', 'P.LE ROMA', 'RIALTO']] - 1453\n",
      "\t [['PUNTA SABBIO', 'RIALTO', 'SAN MARCO']] - 1379\n",
      "\t [['P.LE ROMA', 'RIALTO', 'P.LE ROMA']] - 1341\n",
      "\t [['PUNTA SABBIO', 'BURANO', 'SAN MARCO']] - 1226\n",
      "\t [['P.LE ROMA', 'RIALTO', 'VENEZIA']] - 957\n",
      "\t [['PUNTA SABBIO', 'BURANO', 'MURANO', 'SAN MARCO']] - 945\n",
      "\t [['LIDO', 'S. MARCO-SAN', 'LIDO']] - 892\n",
      "\t [['PUNTA SABBIO', 'LIDO', 'SAN MARCO']] - 793\n",
      "\t [['SAN MARCO', 'BURANO', 'MURANO']] - 793\n",
      "\t [['FERROVIA', 'RIALTO', 'RIALTO']] - 742\n",
      "\t [['FERROVIA', 'SAN MARCO', 'MURANO']] - 722\n",
      "\t [['RIALTO', 'P.LE ROMA', 'RIALTO']] - 713\n",
      "\t [['FERROVIA', 'MURANO', 'BURANO', 'F.TE NOVE']] - 692\n",
      "\t [['P.LE ROMA', 'P.LE ROMA', 'RIALTO']] - 691\n"
     ]
    }
   ],
   "source": [
    "# Create a dictionary with the trajectories of the users with the entire dataset\n",
    "dict_trajectories = create_or_load_dictionary_with_trajectories(df)\n",
    "# Find the most frequent trajectories and print the summary\n",
    "most_freq_trj = most_frequent_trajectories(dict_trajectories, k=20, summary=True, min_length=3)"
   ]
  },
  {
   "attachments": {},
   "cell_type": "markdown",
   "metadata": {},
   "source": [
    "### Find the most frequent trajectories with the dataset with a specified ticket code"
   ]
  },
  {
   "cell_type": "code",
   "execution_count": 26,
   "metadata": {},
   "outputs": [
    {
     "name": "stdout",
     "output_type": "stream",
     "text": [
      "The folder already exists.\n"
     ]
    }
   ],
   "source": [
    "# Create a dictionary with the trajectories of the users with the ticket code '1'\n",
    "ticket_code = '1'\n",
    "df_sup = mf.focus_on_ticket_code(df, ticket_code)\n",
    "# Create a dictionary with the trajectories of the users with the ticket code '1'\n",
    "dict_trajectories = create_or_load_dictionary_with_trajectories(df_sup, file_name= file_name + '_' + 'tc:' + ticket_code)\n",
    "# Save the most frequent trajectories in a variable\n",
    "most_frq_trj = most_frequent_trajectories(dict_trajectories, is_focus_on_ticket_code=True, ticket_code='1', summary=False, k = -1, min_length=4)"
   ]
  },
  {
   "cell_type": "code",
   "execution_count": 27,
   "metadata": {},
   "outputs": [
    {
     "name": "stdout",
     "output_type": "stream",
     "text": [
      "The folder already exists.\n",
      "Error: [Errno 2] No such file or directory: 'data/dictionaries/trajectories/esportazionePasqua23/dict_trajectories_esportazionePasqua23_tourists.json'\n",
      "Waiting while the function is creating the dictionary: dict_trajectories_esportazionePasqua23_tourists.json\n",
      "The most 10 frequent trajectories with a minimum length of 4 stop(s) are:\n",
      "\t [['PUNTA SABBIO', 'BURANO', 'MURANO', 'SAN MARCO']] - 931\n",
      "\t [['FERROVIA', 'MURANO', 'BURANO', 'F.TE NOVE']] - 683\n",
      "\t [['FERROVIA', 'MURANO', 'BURANO', 'MURANO']] - 650\n",
      "\t [['FERROVIA', 'MURANO', 'BURANO', 'RIALTO']] - 455\n",
      "\t [['P.LE ROMA', 'MURANO', 'BURANO', 'MURANO']] - 394\n",
      "\t [['F.TE NOVE', 'MURANO', 'BURANO', 'RIALTO']] - 359\n",
      "\t [['FERROVIA', 'MURANO', 'BURANO', 'SAN MARCO']] - 326\n",
      "\t [['PUNTA SABBIO', 'SAN MARCO', 'MURANO', 'SAN MARCO']] - 317\n",
      "\t [['P.LE ROMA', 'MURANO', 'BURANO', 'VENEZIA']] - 316\n",
      "\t [['P.LE ROMA', 'MURANO', 'BURANO', 'F.TE NOVE']] - 311\n"
     ]
    }
   ],
   "source": [
    "# Which are the common itineraries for tourists? \n",
    "# The tourist have the ticket code '1', '2', '3', '4'\n",
    "# Create a dictionary with the trajectories of the users with the ticket code '1', '2', '3', '4'\n",
    "df_sup = mf.focus_on_ticket_code_list(df,['1','2','3','4'])\n",
    "# Create a dictionary with the trajectories of the users with the ticket code '1', '2', '3', '4'\n",
    "dict_trajectories = create_or_load_dictionary_with_trajectories(df_sup, file_name= file_name + '_' + 'tourists')\n",
    "# Save the most frequent trajectories in a variable\n",
    "most_frq_trj = most_frequent_trajectories(dict_trajectories, k = 10, min_length=4, summary=True)"
   ]
  },
  {
   "cell_type": "code",
   "execution_count": 28,
   "metadata": {},
   "outputs": [
    {
     "name": "stdout",
     "output_type": "stream",
     "text": [
      "The folder already exists.\n",
      "Error: [Errno 2] No such file or directory: 'data/dictionaries/trajectories/esportazionePasqua23/dict_trajectories_esportazionePasqua23_not_tourists.json'\n",
      "Waiting while the function is creating the dictionary: dict_trajectories_esportazionePasqua23_not_tourists.json\n",
      "The most 10 frequent trajectories with a minimum length of 4 stop(s) are:\n",
      "\t [['P.LE ROMA', 'RIALTO', 'P.LE ROMA', 'RIALTO']] - 1380\n",
      "\t [['TRONCHETTO', 'LIDO', 'TRONCHETTO', 'LIDO']] - 475\n",
      "\t [['LIDO', 'S. MARCO-SAN', 'LIDO', 'S. MARCO-SAN']] - 418\n",
      "\t [['S.ELENA-STAD', 'LIDO', 'S.ELENA-STAD', 'LIDO']] - 403\n",
      "\t [['PUNTA SABBIO', 'SAN MARCO', 'PUNTA SABBIO', 'SAN MARCO']] - 323\n",
      "\t [['PEOPLE MOVER', 'P.LE ROMA', 'RIALTO', 'PEOPLE MOVER']] - 257\n",
      "\t [['FERROVIA', 'RIALTO', 'FERROVIA', 'RIALTO']] - 218\n",
      "\t [['RIALTO', 'P.LE ROMA', 'RIALTO', 'P.LE ROMA']] - 208\n",
      "\t [['GIUDECCA PAL', 'ZATTERE', 'GIUDECCA PAL', 'ZATTERE']] - 192\n",
      "\t [['TRONCHETTO', 'ALBERONI', 'S. MARIA DEL', 'LIDO']] - 179\n"
     ]
    }
   ],
   "source": [
    "# Which are the common itineraries for not tourists?\n",
    "# The not tourist have the ticket code different from '1', '2', '3', '4'\n",
    "# Create a dictionary with the trajectories of the users with the ticket code different from '1', '2', '3', '4'\n",
    "df_sup = mf.focus_on_ticket_code_list(df,['5', '5-WKRS', '5-STUD', '5-RET', '6', '6-WKRS', '6-STUD', '6-RET', '7'])\n",
    "# Create a dictionary with the trajectories of the users with the ticket code different from '1', '2', '3', '4'\n",
    "dict_trajectories = create_or_load_dictionary_with_trajectories(df_sup, file_name = file_name + '_' + 'not_tourists')\n",
    "# Save the most frequent trajectories in a variable\n",
    "most_frq_trj = most_frequent_trajectories(dict_trajectories, k = 10, min_length=4, summary=True)\n"
   ]
  },
  {
   "cell_type": "code",
   "execution_count": 29,
   "metadata": {},
   "outputs": [
    {
     "name": "stdout",
     "output_type": "stream",
     "text": [
      "The folder already exists.\n",
      "Error: [Errno 2] No such file or directory: 'data/dictionaries/trajectories/esportazionePasqua23/dict_trajectories_esportazionePasqua23_students.json'\n",
      "Waiting while the function is creating the dictionary: dict_trajectories_esportazionePasqua23_students.json\n",
      "The most 10 frequent trajectories with a minimum length of 4 stop(s) are:\n",
      "\t [['P.LE ROMA', 'RIALTO', 'P.LE ROMA', 'RIALTO']] - 119\n",
      "\t [['S.ELENA-STAD', 'LIDO', 'S.ELENA-STAD', 'LIDO']] - 43\n",
      "\t [['GIUDECCA PAL', 'ZATTERE', 'GIUDECCA PAL', 'ZATTERE']] - 33\n",
      "\t [['PUNTA SABBIO', 'LIDO', 'GIARDINI', 'LIDO']] - 23\n",
      "\t [['RIALTO', 'P.LE ROMA', 'RIALTO', 'P.LE ROMA']] - 20\n",
      "\t [['PUNTA SABBIO', 'LIDO', 'ZATTERE', 'LIDO']] - 19\n",
      "\t [['LIDO', 'S. MARCO-SAN', 'LIDO', 'S. MARCO-SAN']] - 18\n",
      "\t [['GIARDINI', 'ZATTERE', 'GIARDINI', 'ZATTERE']] - 17\n",
      "\t [['S. TOMA\\' \"B\"', 'S. ANGELO', 'S. TOMA\\' \"B\"', 'S. ANGELO']] - 16\n",
      "\t [['LIDO', 'ZATTERE', 'LIDO', 'ZATTERE']] - 12\n"
     ]
    }
   ],
   "source": [
    "# Which are the common itineraries for students?\n",
    "# The students have the ticket code '5-STUD', '6-STUD'\n",
    "# Create a dictionary with the trajectories of the users with the ticket code '5-STUD', '6-STUD'\n",
    "df_sup = mf.focus_on_ticket_code_list(df,['5-STUD', '6-STUD'])\n",
    "# Create a dictionary with the trajectories of the users with the ticket code '5-STUD', '6-STUD'\n",
    "dict_trajectories = create_or_load_dictionary_with_trajectories(df_sup, file_name = file_name + '_' + 'students')\n",
    "# Save the most frequent trajectories in a variable\n",
    "most_frq_trj = most_frequent_trajectories(dict_trajectories, k = 10, min_length=4, summary=True)"
   ]
  },
  {
   "cell_type": "code",
   "execution_count": 30,
   "metadata": {},
   "outputs": [
    {
     "name": "stdout",
     "output_type": "stream",
     "text": [
      "The folder already exists.\n",
      "Error: [Errno 2] No such file or directory: 'data/dictionaries/trajectories/esportazionePasqua23/dict_trajectories_esportazionePasqua23_workers.json'\n",
      "Waiting while the function is creating the dictionary: dict_trajectories_esportazionePasqua23_workers.json\n",
      "The most 10 frequent trajectories with a minimum length of 4 stop(s) are:\n",
      "\t [['PUNTA SABBIO', 'LIDO', 'ZATTERE', 'LIDO']] - 13\n",
      "\t [['PUNTA SABBIO', 'RIALTO', 'S. STAE', 'SAN MARCO']] - 8\n",
      "\t [['PUNTA SABBIO', 'LIDO', 'S. STAE', 'SAN MARCO']] - 6\n",
      "\t [['PUNTA SABBIO', 'RIALTO', 'P.LE ROMA', 'SAN MARCO']] - 4\n",
      "\t [['PUNTA SABBIO', 'LIDO', 'PUNTA SABBIO', 'LIDO']] - 3\n",
      "\t [['PUNTA SABBIO', 'LIDO', 'S. MARCO VAL', 'LIDO']] - 3\n",
      "\t [['PUNTA SABBIO', 'LIDO', 'SAN MARCO', 'LIDO']] - 2\n",
      "\t [['PUNTA SABBIO', 'RIALTO', 'FERROVIA', 'SAN MARCO']] - 2\n",
      "\t [['PUNTA SABBIO', 'LIDO', 'GIUDECCA PAL', 'LIDO']] - 2\n",
      "\t [['PUNTA SABBIO', 'LIDO', 'S. MARCO VAL', 'SAN MARCO', 'LIDO']] - 2\n"
     ]
    }
   ],
   "source": [
    "# Which are the common itineraries for workers?\n",
    "# The workers have the ticket code '5-WKRS', '6-WKRS'\n",
    "# Create a dictionary with the trajectories of the users with the ticket code '5-WKRS', '6-WKRS'\n",
    "df_sup = mf.focus_on_ticket_code_list(df,['5-WKRS', '6-WKRS'])\n",
    "# Create a dictionary with the trajectories of the users with the ticket code '5-WKRS', '6-WKRS'\n",
    "dict_trajectories = create_or_load_dictionary_with_trajectories(df_sup, file_name = file_name + '_' + 'workers')\n",
    "# Save the most frequent trajectories in a variable\n",
    "most_frq_trj = most_frequent_trajectories(dict_trajectories, k = 10, min_length=4, summary=True)"
   ]
  },
  {
   "cell_type": "code",
   "execution_count": 31,
   "metadata": {},
   "outputs": [
    {
     "name": "stdout",
     "output_type": "stream",
     "text": [
      "The folder already exists.\n",
      "Error: [Errno 2] No such file or directory: 'data/dictionaries/trajectories/esportazionePasqua23/dict_trajectories_esportazionePasqua23_retired.json'\n",
      "Waiting while the function is creating the dictionary: dict_trajectories_esportazionePasqua23_retired.json\n",
      "The most 10 frequent trajectories with a minimum length of 4 stop(s) are:\n",
      "\t [['S. TOMA\\' \"B\"', 'RIALTO', 'S. TOMA\\' \"B\"', 'RIALTO']] - 25\n",
      "\t [['S.ELENA-STAD', 'LIDO', 'S.ELENA-STAD', 'LIDO']] - 22\n",
      "\t [['RIALTO', 'P.LE ROMA', 'RIALTO', 'P.LE ROMA']] - 13\n",
      "\t [['PERTINI', 'RIELTA', 'PERTINI', 'RIELTA']] - 10\n",
      "\t [['S. MARTA', 'CIMITERO SAN', 'S. MARTA', 'CELESTIA']] - 7\n",
      "\t [['RIALTO', 'P.LE ROMA', 'P.LE ROMA', 'P.LE ROMA']] - 5\n",
      "\t [['RIALTO', 'P.LE ROMA', 'P.LE ROMA', 'FERROVIA']] - 5\n",
      "\t [['S.ELENA-STAD', 'LIDO', 'PUNTA SABBIO', 'LIDO']] - 5\n",
      "\t [['PIAVE', 'P.LE ROMA', 'RIALTO', 'VENEZIA']] - 5\n",
      "\t [['TRIESTE', 'P.LE ROMA', 'GIUDECCA PAL', 'VENEZIA']] - 5\n"
     ]
    }
   ],
   "source": [
    "# Which are the common itineraries for retired?\n",
    "# The retired have the ticket code '5-RET', '6-RET'\n",
    "# Create a dictionary with the trajectories of the users with the ticket code '5-RET', '6-RET'\n",
    "df_sup = mf.focus_on_ticket_code_list(df,['5-RET', '6-RET'])\n",
    "# Create a dictionary with the trajectories of the users with the ticket code '5-RET', '6-RET'\n",
    "dict_trajectories = create_or_load_dictionary_with_trajectories(df_sup, file_name = file_name + '_' + 'retired')\n",
    "# Save the most frequent trajectories in a variable\n",
    "most_frq_trj = most_frequent_trajectories(dict_trajectories, k = 10, min_length=4, summary=True)"
   ]
  },
  {
   "attachments": {},
   "cell_type": "markdown",
   "metadata": {},
   "source": [
    "### Find the most frequent trajectories with the dataset with a specified ticket code\n"
   ]
  },
  {
   "cell_type": "code",
   "execution_count": 32,
   "metadata": {},
   "outputs": [],
   "source": [
    "# # Create a dictionary with the trajectories of the users with the ticket code '1'\n",
    "# df_sup = mf.focus_on_ticket_code(df,'1')\n",
    "# # Create a dictionary with the trajectories of the users with the ticket code '1'\n",
    "# dict_trajectories = create_dictionary_with_trajectories(df_sup)\n",
    "# # Find the trajectories with at least 20 stations visited with the ticket code '1'\n",
    "# trajectories_with_at_least_k_stations(dict_trajectories, 4)"
   ]
  },
  {
   "attachments": {},
   "cell_type": "markdown",
   "metadata": {},
   "source": [
    "### Longest Common Subsequence (LCS)"
   ]
  },
  {
   "cell_type": "code",
   "execution_count": 33,
   "metadata": {},
   "outputs": [],
   "source": [
    "def longest_common_subsequence_of_two_trajectories (trajectory_1: list, trajectory_2: list) -> list:\n",
    "    \"\"\"\n",
    "        This function computes the longest common subsequence of two trajectories.\n",
    "        :param trajectory_1: the first trajectory\n",
    "        :param trajectory_2: the second trajectory\n",
    "        :return: the longest common subsequence of the two trajectories\n",
    "    \"\"\"\n",
    "    # Create the matrix\n",
    "    matrix = [[0 for x in range(len(trajectory_2) + 1)] for x in range(len(trajectory_1) + 1)]\n",
    "\n",
    "    # Compute the LCS\n",
    "    for i in range(1, len(trajectory_1) + 1):\n",
    "        for j in range(1, len(trajectory_2) + 1):\n",
    "            if trajectory_1[i - 1] == trajectory_2[j - 1]:\n",
    "                matrix[i][j] = matrix[i - 1][j - 1] + 1\n",
    "            else:\n",
    "                matrix[i][j] = max(matrix[i - 1][j], matrix[i][j - 1])\n",
    "\n",
    "    # Find the LCS\n",
    "    i = len(trajectory_1)\n",
    "    j = len(trajectory_2)\n",
    "    lcs = []\n",
    "    while i > 0 and j > 0:\n",
    "        if trajectory_1[i - 1] == trajectory_2[j - 1]:\n",
    "            lcs.append(trajectory_1[i - 1])\n",
    "            i -= 1\n",
    "            j -= 1\n",
    "        elif matrix[i - 1][j] > matrix[i][j - 1]:\n",
    "            i -= 1\n",
    "        else:\n",
    "            j -= 1\n",
    "\n",
    "    # Reverse the LCS\n",
    "    lcs.reverse()\n",
    "\n",
    "    return lcs"
   ]
  },
  {
   "cell_type": "code",
   "execution_count": 34,
   "metadata": {},
   "outputs": [],
   "source": [
    "def longest_common_subsequence (dict_trajectories: dict):\n",
    "    \"\"\"\n",
    "        This function computes the longest common subsequence of the trajectories of the dictionary.\n",
    "        :param dict_trajectories: the dictionary with the trajectories\n",
    "        :return: the longest common subsequence\n",
    "    \"\"\"\n",
    "\n",
    "    # Compute the longest common subsequence\n",
    "    # The trajectories of the dictionary are the keys of the dictionary\n",
    "    trajectories = list(dict_trajectories.keys())\n",
    "    lcs = trajectories[0]\n",
    "    for i in range(1, len(trajectories)):\n",
    "        lcs = longest_common_subsequence_of_two_trajectories(lcs, trajectories[i])"
   ]
  },
  {
   "cell_type": "code",
   "execution_count": 35,
   "metadata": {},
   "outputs": [],
   "source": [
    "def shortest_common_supersequence_of_two_trajectories (trajectory_1: list, trajectory_2: list) -> list:\n",
    "    \"\"\"\n",
    "        This function computes the shortest common supersequence of two trajectories.\n",
    "        :param trajectory_1: the first trajectory\n",
    "        :param trajectory_2: the second trajectory\n",
    "        :return: the shortest common supersequence of the two trajectories\n",
    "    \"\"\"\n",
    "    # Create the matrix\n",
    "    matrix = [[0 for x in range(len(trajectory_2) + 1)] for x in range(len(trajectory_1) + 1)]\n",
    "\n",
    "    # Compute the SCS\n",
    "    for i in range(1, len(trajectory_1) + 1):\n",
    "        for j in range(1, len(trajectory_2) + 1):\n",
    "            if trajectory_1[i - 1] == trajectory_2[j - 1]:\n",
    "                matrix[i][j] = matrix[i - 1][j - 1] + 1\n",
    "            else:\n",
    "                matrix[i][j] = max(matrix[i - 1][j], matrix[i][j - 1])\n",
    "\n",
    "    # Find the SCS\n",
    "    i = len(trajectory_1)\n",
    "    j = len(trajectory_2)\n",
    "    scs = []\n",
    "    while i > 0 and j > 0:\n",
    "        if trajectory_1[i - 1] == trajectory_2[j - 1]:\n",
    "            scs.append(trajectory_1[i - 1])\n",
    "            i -= 1\n",
    "            j -= 1\n",
    "        elif matrix[i - 1][j] > matrix[i][j - 1]:\n",
    "            scs.append(trajectory_1[i - 1])\n",
    "            i -= 1\n",
    "        else:\n",
    "            scs.append(trajectory_2[j - 1])\n",
    "            j -= 1\n",
    "\n",
    "    # Add the remaining elements of trajectory_1\n",
    "    while i > 0:\n",
    "        scs.append(trajectory_1[i - 1])\n",
    "        i -= 1\n",
    "\n",
    "    # Add the remaining elements of trajectory_2\n",
    "    while j > 0:\n",
    "        scs.append(trajectory_2[j - 1])\n",
    "        j -= 1\n",
    "\n",
    "    # Reverse the SCS\n",
    "    scs.reverse()\n",
    "\n",
    "    return scs"
   ]
  },
  {
   "cell_type": "code",
   "execution_count": 36,
   "metadata": {},
   "outputs": [],
   "source": [
    "def shortest_common_supersequence (dict_trajectories: dict) -> list:\n",
    "    \"\"\"\n",
    "        This function computes the shortest common supersequence of the trajectories of the dictionary.\n",
    "        :param dict_trajectories: the dictionary with the trajectories\n",
    "        :return: the shortest common supersequence\n",
    "    \"\"\"\n",
    "\n",
    "    # Compute the shortest common supersequence\n",
    "    # The trajectories of the dictionary are the keys of the dictionary\n",
    "    trajectories = list(dict_trajectories.keys())\n",
    "    scs = trajectories[0]\n",
    "    for i in range(1, len(trajectories)):\n",
    "        scs = shortest_common_supersequence_of_two_trajectories(scs, trajectories[i])\n",
    "    \n",
    "    return scs"
   ]
  },
  {
   "cell_type": "code",
   "execution_count": 37,
   "metadata": {},
   "outputs": [],
   "source": [
    "# # Find the Longest Common Subsequence (LCS) between two trajectories\n",
    "# trajectory_1 = ['SAN MARCO', 'P.LE ROMA', 'RIALTO', 'PUNTA SABBIO', 'BURANO']\n",
    "# trajectory_2 = ['SAN MARCO', 'P.LE ROMA', 'PUNTA SABBIO', 'BURANO']\n",
    "\n",
    "# lcs = longest_common_subsequence(trajectory_1, trajectory_2)\n",
    "# print('The Longest Common Subsequence (LCS) between the trajectories {} and {} is {}'.format(trajectory_1, trajectory_2, lcs))"
   ]
  },
  {
   "cell_type": "code",
   "execution_count": 38,
   "metadata": {},
   "outputs": [],
   "source": [
    "# # Find the Longest Common Subsequence (LCS) between two trajectories\n",
    "# # Trajectory 1 is the trajectory of the dataset with the ticket code 1\n",
    "# # Trajectory 2 is the most frequent trajectory of the dataset with the ticket code 2\n",
    "# df_sup = mf.focus_on_ticket_code(df,'1')\n",
    "# dict_trajectories = create_dictionary_with_trajectories(df_sup)\n",
    "# dict_trajectories_number = most_frequent_trajectories(dict_trajectories, is_focus_on_ticket_code=True, ticket_code='1', summary=False)\n",
    "# trajectory_1 = list(dict_trajectories_number.keys())[8]\n",
    "\n",
    "# df_sup = mf.focus_on_ticket_code(df,'2')\n",
    "# dict_trajectories = create_dictionary_with_trajectories(df_sup)\n",
    "# dict_trajectories_number = most_frequent_trajectories(dict_trajectories, is_focus_on_ticket_code=True, ticket_code='2', summary=False)\n",
    "# trajectory_2 = list(dict_trajectories_number.keys())[0]\n",
    "\n",
    "# lcs = longest_common_subsequence(trajectory_1, trajectory_2)\n",
    "# print('The Longest Common Subsequence (LCS) between the trajectory {} and the trajectory {} is {}'.format(trajectory_1, trajectory_2, lcs))"
   ]
  },
  {
   "attachments": {},
   "cell_type": "markdown",
   "metadata": {},
   "source": [
    "_____"
   ]
  },
  {
   "cell_type": "code",
   "execution_count": 39,
   "metadata": {},
   "outputs": [],
   "source": [
    "def most_frequent_stations_visited_by_the_users (dict_trajectories: dict, is_focus_on_ticket_code: bool = False, ticket_code: str = \"\", summary: bool = False) -> dict:\n",
    "    \"\"\"\n",
    "        This function finds the most frequent stations visited by the users.\n",
    "        :param dict_trajectories: the dictionary with the trajectories of the users\n",
    "        :param is_focus_on_ticket_code: if True, the function is focused on the ticket code\n",
    "        :param ticket_code: the ticket code\n",
    "        :param summary: if True, the function prints the summary\n",
    "        :return: the dictionary with the most frequent stations visited by the users\n",
    "    \"\"\"\n",
    "    # Create a dictionary with the most frequent stations visited by the users\n",
    "    dict_stations = {}\n",
    "    \n",
    "    # For each trajectory\n",
    "    for trajectory in dict_trajectories.keys():\n",
    "        # For each station in the trajectory\n",
    "        for station in dict_trajectories[trajectory]:\n",
    "            # If the station is not in the dictionary, add it\n",
    "            if station not in dict_stations.keys():\n",
    "                dict_stations[station] = 1\n",
    "            # If the station is in the dictionary, increment its value\n",
    "            else:\n",
    "                dict_stations[station] += 1\n",
    "\n",
    "    # Sort the dictionary with the most frequent stations visited by the users\n",
    "    dict_stations = {k: v for k, v in sorted(dict_stations.items(), key=lambda item: item[1], reverse=True)}\n",
    "\n",
    "    # Print the summary\n",
    "    if summary and is_focus_on_ticket_code:\n",
    "        print('The most frequent stations visited by the users with the ticket code {} are:'.format(ticket_code))\n",
    "        for station in dict_stations.keys():\n",
    "            print('The station {} is visited {} times'.format(station, dict_stations[station]))\n",
    "    elif summary:\n",
    "        print('The most frequent stations visited by the users are:')\n",
    "        for station in dict_stations.keys():\n",
    "            print('The station {} is visited {} times'.format(station, dict_stations[station]))\n",
    "\n",
    "    return dict_stations"
   ]
  },
  {
   "attachments": {},
   "cell_type": "markdown",
   "metadata": {},
   "source": [
    "## TIME"
   ]
  },
  {
   "cell_type": "code",
   "execution_count": 40,
   "metadata": {},
   "outputs": [],
   "source": [
    "def get_trajectories_from_key(df: pd.DataFrame, key: tuple) -> pd.DataFrame:\n",
    "    \"\"\"\n",
    "        This function returns the rows of the dataframe for the specified key.\n",
    "        Note that the key is in the format (serial, day), where day can be None that means that the seriale doesn't change over the days.\n",
    "        :param df: the dataframe\n",
    "        :param dict_trajectories: the dictionary with the trajectories\n",
    "        :param key: the key\n",
    "        :return: the row of the dataframe\n",
    "    \"\"\"\n",
    "    # If the day is None, return the dataframe with the trajectories of the user\n",
    "    if key[1] == None:\n",
    "        #print('The key is: {}'.format(key))\n",
    "        return df[df['SERIALE'] == key[0]]\n",
    "    # Otherwise, return the dataframe with the trajectories of the user in the specified day\n",
    "    else:\n",
    "        # Notice that the data in the dataframe is a string while the data in the key is a Timestamp\n",
    "        #print('The key is: {}'.format(key))\n",
    "        # Convert the data in the dataframe to a Timestamp\n",
    "        df['DATA'] = pd.to_datetime(df['DATA'], format='%Y-%m-%d %H:%M:%S')\n",
    "        return df[(df['SERIALE'] == key[0]) & (df['DATA'].dt.date == key[1])]"
   ]
  },
  {
   "cell_type": "code",
   "execution_count": 41,
   "metadata": {},
   "outputs": [],
   "source": [
    "# Function: given a tupla (seriale, day) get the time of the trajectory\n",
    "# Notice that the second element of the tupla can be None\n",
    "def get_time_of_trajectory (tupla: tuple) -> list:\n",
    "    \"\"\"\n",
    "        This function returns the time of a trajectory.\n",
    "        :param tupla: the tuple with the trajectory\n",
    "        :return: the time of the trajectory\n",
    "    \"\"\"\n",
    "    # Given the tuple (seriale, day), get the time of the trajectory, retrieving the dataframe\n",
    "    df_aux = df[(df['SERIALE'] == tupla[0]) & (df['DATA'] == tupla[1])]\n",
    "    # Get the time of the trajectory\n",
    "    time = df_aux['ORA'].tolist()\n",
    "    # Return the time of the trajectory\n",
    "    return time"
   ]
  },
  {
   "cell_type": "code",
   "execution_count": 42,
   "metadata": {},
   "outputs": [],
   "source": [
    "# # create a tupla with the first trajectory of the dictionary\n",
    "# tupla = list(dict_trajectories.keys())[0]\n",
    "\n",
    "# print(tupla)\n",
    "\n",
    "# df_new = get_trajectories_from_key(df, tupla)\n",
    "# # df_new\n",
    "\n",
    "# # Print type of the data\n",
    "# # print(type(df_new['DATA'].iloc[0]))\n",
    "# # print(type(tupla[1]))"
   ]
  },
  {
   "cell_type": "code",
   "execution_count": 43,
   "metadata": {},
   "outputs": [],
   "source": [
    "# Analysis of the trajectories considering the time of the day\n",
    "# Find if there are some peculiarities in the trajectories of the users in the morning, in the afternoon, in the evening, in the night and if there are some differences between the trajectories with different ticket codes\n",
    "\n",
    "def get_time_of_the_day (time: str) -> str:\n",
    "    \"\"\"\n",
    "        This function returns the time of the day given a time.\n",
    "        :param time: the time\n",
    "        :return: the time of the day\n",
    "    \"\"\"\n",
    "    # Convert the time to a datetime object\n",
    "    time = datetime.strptime(time, '%H:%M:%S').time()\n",
    "    # Return the time of the day\n",
    "    if time < datetime.strptime('06:00:00', '%H:%M:%S').time():\n",
    "        return 'night'\n",
    "    elif time < datetime.strptime('12:00:00', '%H:%M:%S').time():\n",
    "        return 'morning'\n",
    "    elif time < datetime.strptime('18:00:00', '%H:%M:%S').time():\n",
    "        return 'afternoon'\n",
    "    else:\n",
    "        return 'evening'\n",
    "    \n",
    "def get_time_of_the_day_from_timestamp (timestamp: str) -> str:\n",
    "    \"\"\"\n",
    "        This function returns the time of the day given a timestamp.\n",
    "        The time of the day is computed considering the following intervals:\n",
    "        - early morning: from 00:00:00 to 06:00:00\n",
    "        - morning: from 06:00:00 to 12:00:00\n",
    "        - afternoon: from 12:00:00 to 18:00:00\n",
    "        - evening: from 18:00:00 to 21:00:00\n",
    "        - night: from 21:00:00 to 00:00:00\n",
    "        :param timestamp: the timestamp as a string\n",
    "        :return: the time of the day as a string\n",
    "    \"\"\"\n",
    "    # Convert the timestamp to a datetime object\n",
    "    timestamp = datetime.strptime(timestamp, '%H:%M:%S')\n",
    "    # Return the time of the day\n",
    "    if timestamp.time() < datetime.strptime('06:00:00', '%H:%M:%S').time():\n",
    "        return 'early morning'\n",
    "    elif timestamp.time() < datetime.strptime('12:00:00', '%H:%M:%S').time():\n",
    "        return 'morning'\n",
    "    elif timestamp.time() < datetime.strptime('18:00:00', '%H:%M:%S').time():\n",
    "        return 'afternoon'\n",
    "    elif timestamp.time() < datetime.strptime('21:00:00', '%H:%M:%S').time():\n",
    "        return 'evening'\n",
    "    else:\n",
    "        return 'night'\n",
    "    \n",
    "def get_time_of_the_day_from_timestamp_list (timestamp_list: list) -> list:\n",
    "    \"\"\"\n",
    "        This function returns the time of the day given a list of timestamp.\n",
    "        :param timestamp_list: the list of timestamp\n",
    "        :return: the list of time of the day\n",
    "    \"\"\"\n",
    "    # Create the list of time of the day\n",
    "    time_of_the_day_list = []\n",
    "    # For each timestamp\n",
    "    for timestamp in timestamp_list:\n",
    "        # Add the time of the day to the list\n",
    "        time_of_the_day_list.append(get_time_of_the_day_from_timestamp(timestamp))\n",
    "    # Return the list of time of the day\n",
    "    return time_of_the_day_list\n",
    "\n",
    "def analyze_trajectories_over_the_hours_of_the_day (dict_trajectories: dict, is_focus_on_ticket_code: bool = False, ticket_code: str = \"\", summary: bool = False) -> dict:\n",
    "    \"\"\"\n",
    "        This function analyzes the trajectories over the hours of the day.\n",
    "        :param dict_trajectories: the dictionary with the trajectories of the users\n",
    "        :param is_focus_on_ticket_code: if True, the function is focused on the ticket code\n",
    "        :param ticket_code: the ticket code\n",
    "        :param summary: if True, the function prints the summary\n",
    "        :return: the dictionary with the trajectories over the hours of the day\n",
    "    \"\"\"\n",
    "    if is_focus_on_ticket_code:\n",
    "        print('The trajectories of the users with the ticket code {} are analyzed over the hours of the day'.format(ticket_code))\n",
    "    else:\n",
    "        print('The trajectories of the users are analyzed over the hours of the day')\n",
    "\n",
    "    # Create a dictionary with the trajectories over the hours of the day\n",
    "    dict_trajectories_over_the_hours_of_the_day = {}\n",
    "    # For each trajectory\n",
    "    for trajectory in dict_trajectories.keys():\n",
    "        # Get the time of the day of the trajectory\n",
    "        # print(trajectory)\n",
    "        df_aux = get_trajectories_from_key(df, trajectory)\n",
    "        # Create a list with the timestamps of the trajectory\n",
    "        timestamp_list = df_aux['ORA'].tolist()\n",
    "        # Get the time of the day of the trajectory\n",
    "        time_of_the_day = get_time_of_the_day_from_timestamp_list(timestamp_list)\n",
    "        # If the time of the day is not in the dictionary, add it\n",
    "        if str(time_of_the_day) not in dict_trajectories_over_the_hours_of_the_day.keys():\n",
    "            dict_trajectories_over_the_hours_of_the_day[str(time_of_the_day)] = 1\n",
    "        # If the time of the day is in the dictionary, increment the counter\n",
    "        else:\n",
    "            dict_trajectories_over_the_hours_of_the_day[str(time_of_the_day)] += 1\n",
    "\n",
    "    # Sort the dictionary with the trajectories over the hours of the day\n",
    "    dict_trajectories_over_the_hours_of_the_day = {k: v for k, v in sorted(dict_trajectories_over_the_hours_of_the_day.items(), key=lambda item: item[1], reverse=True)}\n",
    "\n",
    "    # Print the summary\n",
    "    if summary:\n",
    "        print('The trajectories over the hours of the day are:')\n",
    "        for time_of_the_day in dict_trajectories_over_the_hours_of_the_day.keys():\n",
    "            print('The trajectories over the hours of the day {} are {} times'.format(time_of_the_day, dict_trajectories_over_the_hours_of_the_day[time_of_the_day]))\n",
    "\n",
    "    return dict_trajectories_over_the_hours_of_the_day\n",
    "\n",
    "# Function to analyze trajectories over the hours of the days\n",
    "def analyze_trajectories_over_the_hours_of_the_day_by_ticket_code (dict_trajectories: dict, is_focus_on_ticket_code: bool = False, ticket_code: str = \"\", summary: bool = False) -> dict:\n",
    "    \"\"\"\n",
    "        This function analyzes the trajectories over the hours of the day by ticket code.\n",
    "        :param dict_trajectories: the dictionary with the trajectories of the users\n",
    "        :param is_focus_on_ticket_code: if True, the function is focused on the ticket code\n",
    "        :param ticket_code: the ticket code\n",
    "        :param summary: if True, the function prints the summary\n",
    "        :return: the dictionary with the trajectories over the hours of the day by ticket code\n",
    "    \"\"\"\n",
    "    trj_hour_ticketcodes = {}\n",
    "    # For each ticket code\n",
    "    for ticket_code in ticket_code.keys():\n",
    "        # If the ticket code is '8', continue\n",
    "        if ticket_code == '8':\n",
    "            continue\n",
    "        # Create a dictionary with the trajectories of the users with the ticket code\n",
    "        df_sup = mf.focus_on_ticket_code(df, ticket_code)\n",
    "        dict_trajectories = create_or_load_dictionary_with_trajectories(df_sup, file_name = file_name + '_' + 'tc:' + ticket_code)\n",
    "        # Analyze the trajectories over the hours of the day\n",
    "        trj_hour_ticketcodes[ticket_code] = analyze_trajectories_over_the_hours_of_the_day(dict_trajectories, is_focus_on_ticket_code=True, ticket_code=ticket_code, summary=False)\n",
    "\n",
    "    # Print the summary\n",
    "    if summary:\n",
    "        print('The trajectories over the hours of the day by ticket code are:')\n",
    "        for ticket_code in trj_hour_ticketcodes.keys():\n",
    "            print('The trajectories over the hours of the day by ticket code {} are:'.format(ticket_code))\n",
    "            for time_of_the_day in trj_hour_ticketcodes[ticket_code].keys():\n",
    "                print('The trajectories over the hours of the day {} are {} times'.format(time_of_the_day, trj_hour_ticketcodes[ticket_code][time_of_the_day]))\n",
    "\n",
    "    return trj_hour_ticketcodes\n",
    "\n",
    "# Function to analyze trajectories over the hours of the days\n",
    "def analyze_trajectories_over_the_hours_of_the_day_by_ticket_code_plot (dict_trajectories: dict, is_focus_on_ticket_code: bool = False, ticket_code: str = \"\", summary: bool = False) -> dict:\n",
    "    \"\"\"\n",
    "        This function plots the trajectories over the hours of the day by ticket code.\n",
    "        :param dict_trajectories: the dictionary with the trajectories of the users\n",
    "        :param is_focus_on_ticket_code: if True, the function is focused on the ticket code\n",
    "        :param ticket_code: the ticket code\n",
    "        :param summary: if True, the function prints the summary\n",
    "        :return: the dictionary with the trajectories over the hours of the day by ticket code\n",
    "    \"\"\"\n",
    "    trj_hour_ticketcodes = {}\n",
    "    # For each ticket code\n",
    "    for ticket_code in ticket_code:\n",
    "        # If the ticket code is '8', continue\n",
    "        if ticket_code == '8':\n",
    "            continue\n",
    "        # Create a dictionary with the trajectories of the users with the ticket code\n",
    "        df_sup = mf.focus_on_ticket_code(df, ticket_code)\n",
    "        dict_trajectories = create_or_load_dictionary_with_trajectories(df_sup, file_name = file_name + '_' + 'tc:' + ticket_code)\n",
    "        # Analyze the trajectories over the hours of the day\n",
    "        trj_hour_ticketcodes[ticket_code] = analyze_trajectories_over_the_hours_of_the_day(dict_trajectories, is_focus_on_ticket_code=True, ticket_code=ticket_code, summary=False)\n",
    "\n",
    "    # Plot the trajectories over the hours of the day by ticket code\n",
    "    fig, ax = plt.subplots()\n",
    "    for ticket_code in trj_hour_ticketcodes.keys():\n",
    "        x = list(trj_hour_ticketcodes[ticket_code].keys())\n",
    "        y = list(trj_hour_ticketcodes[ticket_code].values())\n",
    "        ax.plot(x, y, label=ticket_code)\n",
    "    ax.set_xlabel('Time of the day')\n",
    "    ax.set_ylabel('Number of trajectories')\n",
    "    ax.set_title('Trajectories over the hours of the day by ticket code')\n",
    "    ax.legend()\n",
    "    plt.show()\n",
    "\n",
    "    return trj_hour_ticketcodes"
   ]
  },
  {
   "cell_type": "code",
   "execution_count": 44,
   "metadata": {},
   "outputs": [
    {
     "name": "stdout",
     "output_type": "stream",
     "text": [
      "The folder already exists.\n"
     ]
    }
   ],
   "source": [
    "# Dict with the trajectories only with the ticket code '1'\n",
    "df_sup = mf.focus_on_ticket_code(df,'1')\n",
    "dict_trajectories = create_or_load_dictionary_with_trajectories(df_sup, file_name = file_name + '_' + 'tc:' + '1')\n",
    "\n",
    "# Select only a part of the dictionary\n",
    "dict_trajectories = dict(list(dict_trajectories.items())[0:100])"
   ]
  },
  {
   "cell_type": "code",
   "execution_count": 45,
   "metadata": {},
   "outputs": [
    {
     "name": "stdout",
     "output_type": "stream",
     "text": [
      "The trajectories of the users are analyzed over the hours of the day\n",
      "The trajectories over the hours of the day are:\n",
      "The trajectories over the hours of the day ['morning'] are 32 times\n",
      "The trajectories over the hours of the day ['early morning'] are 21 times\n",
      "The trajectories over the hours of the day ['morning', 'morning'] are 19 times\n",
      "The trajectories over the hours of the day ['morning', 'morning', 'morning', 'afternoon', 'evening'] are 4 times\n",
      "The trajectories over the hours of the day ['morning', 'morning', 'morning'] are 3 times\n",
      "The trajectories over the hours of the day ['early morning', 'afternoon', 'evening', 'night', 'night', 'afternoon'] are 2 times\n",
      "The trajectories over the hours of the day ['morning', 'morning', 'morning', 'morning'] are 2 times\n",
      "The trajectories over the hours of the day ['morning', 'morning', 'afternoon'] are 2 times\n",
      "The trajectories over the hours of the day ['morning', 'morning', 'evening'] are 2 times\n",
      "The trajectories over the hours of the day ['morning', 'afternoon', 'afternoon', 'afternoon', 'evening'] are 2 times\n",
      "The trajectories over the hours of the day ['early morning', 'afternoon', 'afternoon', 'afternoon', 'afternoon', 'afternoon', 'evening', 'evening', 'evening', 'night', 'night', 'night', 'night', 'night'] are 1 times\n",
      "The trajectories over the hours of the day ['early morning', 'afternoon', 'afternoon', 'afternoon', 'afternoon', 'afternoon', 'evening', 'evening', 'evening', 'night', 'night', 'night', 'night', 'night', 'night'] are 1 times\n",
      "The trajectories over the hours of the day ['early morning', 'morning', 'afternoon', 'afternoon', 'afternoon', 'evening'] are 1 times\n",
      "The trajectories over the hours of the day ['early morning', 'morning', 'afternoon', 'afternoon', 'afternoon'] are 1 times\n",
      "The trajectories over the hours of the day ['morning', 'morning', 'morning', 'afternoon', 'afternoon', 'afternoon', 'evening', 'evening'] are 1 times\n",
      "The trajectories over the hours of the day ['morning', 'afternoon', 'afternoon'] are 1 times\n",
      "The trajectories over the hours of the day ['morning', 'afternoon'] are 1 times\n",
      "The trajectories over the hours of the day ['morning', 'morning', 'morning', 'evening', 'evening'] are 1 times\n",
      "The trajectories over the hours of the day ['morning', 'morning', 'morning', 'morning', 'afternoon', 'afternoon'] are 1 times\n",
      "The trajectories over the hours of the day ['morning', 'morning', 'morning', 'afternoon', 'afternoon'] are 1 times\n",
      "The trajectories over the hours of the day ['morning', 'afternoon', 'night'] are 1 times\n"
     ]
    },
    {
     "data": {
      "text/plain": "{\"['morning']\": 32,\n \"['early morning']\": 21,\n \"['morning', 'morning']\": 19,\n \"['morning', 'morning', 'morning', 'afternoon', 'evening']\": 4,\n \"['morning', 'morning', 'morning']\": 3,\n \"['early morning', 'afternoon', 'evening', 'night', 'night', 'afternoon']\": 2,\n \"['morning', 'morning', 'morning', 'morning']\": 2,\n \"['morning', 'morning', 'afternoon']\": 2,\n \"['morning', 'morning', 'evening']\": 2,\n \"['morning', 'afternoon', 'afternoon', 'afternoon', 'evening']\": 2,\n \"['early morning', 'afternoon', 'afternoon', 'afternoon', 'afternoon', 'afternoon', 'evening', 'evening', 'evening', 'night', 'night', 'night', 'night', 'night']\": 1,\n \"['early morning', 'afternoon', 'afternoon', 'afternoon', 'afternoon', 'afternoon', 'evening', 'evening', 'evening', 'night', 'night', 'night', 'night', 'night', 'night']\": 1,\n \"['early morning', 'morning', 'afternoon', 'afternoon', 'afternoon', 'evening']\": 1,\n \"['early morning', 'morning', 'afternoon', 'afternoon', 'afternoon']\": 1,\n \"['morning', 'morning', 'morning', 'afternoon', 'afternoon', 'afternoon', 'evening', 'evening']\": 1,\n \"['morning', 'afternoon', 'afternoon']\": 1,\n \"['morning', 'afternoon']\": 1,\n \"['morning', 'morning', 'morning', 'evening', 'evening']\": 1,\n \"['morning', 'morning', 'morning', 'morning', 'afternoon', 'afternoon']\": 1,\n \"['morning', 'morning', 'morning', 'afternoon', 'afternoon']\": 1,\n \"['morning', 'afternoon', 'night']\": 1}"
     },
     "execution_count": 45,
     "metadata": {},
     "output_type": "execute_result"
    }
   ],
   "source": [
    "# Call the function to analyze the trajectories over the hours of the day\n",
    "analyze_trajectories_over_the_hours_of_the_day(dict_trajectories, summary=True)"
   ]
  },
  {
   "cell_type": "code",
   "execution_count": 46,
   "metadata": {},
   "outputs": [
    {
     "name": "stdout",
     "output_type": "stream",
     "text": [
      "The trajectories that start in the morning and end in the evening or in the night are:\n",
      "The trajectory (40834866545225988, None) starts in the morning and ends in the evening or in the night\n",
      "The trajectory (40836260114405380, None) starts in the morning and ends in the evening or in the night\n",
      "The trajectory (40836260114405124, None) starts in the morning and ends in the evening or in the night\n",
      "The trajectory (40554785137688068, None) starts in the morning and ends in the evening or in the night\n",
      "The trajectory (40554785137688324, None) starts in the morning and ends in the evening or in the night\n",
      "The trajectory (41679562312376836, None) starts in the morning and ends in the evening or in the night\n",
      "The trajectory (40833736696403460, None) starts in the morning and ends in the evening or in the night\n",
      "The trajectory (40833736696400132, None) starts in the morning and ends in the evening or in the night\n",
      "The trajectory (40835096049901572, None) starts in the morning and ends in the evening or in the night\n",
      "The trajectory (40835096049905668, None) starts in the morning and ends in the evening or in the night\n",
      "The trajectory (65694113010709509, None) starts in the morning and ends in the evening or in the night\n"
     ]
    }
   ],
   "source": [
    "# Check if the trajectories that start in the morning end in the evening or in the night and vice versa\n",
    "# Create a dictionary with the trajectories that start in the morning and end in the evening or in the night\n",
    "dict_trajectories_morning_evening_night = {}\n",
    "# For each trajectory\n",
    "for trajectory in dict_trajectories.keys():\n",
    "    # Get the time of the day of the trajectory\n",
    "    df_aux = get_trajectories_from_key(df, trajectory)\n",
    "    # Create a list with the timestamps of the trajectory\n",
    "    timestamp_list = df_aux['ORA'].tolist()\n",
    "    # Get the time of the day of the trajectory\n",
    "    time_of_the_day = get_time_of_the_day_from_timestamp_list(timestamp_list)\n",
    "    # If the trajectory starts in the morning and ends in the evening or in the night, add it to the dictionary\n",
    "    if time_of_the_day[0] == 'morning' and (time_of_the_day[-1] == 'evening' or time_of_the_day[-1] == 'night'):\n",
    "        dict_trajectories_morning_evening_night[trajectory] = dict_trajectories[trajectory]\n",
    "\n",
    "# Print the summary\n",
    "print('The trajectories that start in the morning and end in the evening or in the night are:')\n",
    "for trajectory in dict_trajectories_morning_evening_night.keys():\n",
    "    print('The trajectory {} starts in the morning and ends in the evening or in the night'.format(trajectory))"
   ]
  },
  {
   "cell_type": "code",
   "execution_count": 47,
   "metadata": {},
   "outputs": [
    {
     "name": "stdout",
     "output_type": "stream",
     "text": [
      "The ticket code is: 7\n",
      "The folder already exists.\n",
      "The trajectories of the users with the ticket code 7 are analyzed over the hours of the day\n"
     ]
    },
    {
     "ename": "KeyboardInterrupt",
     "evalue": "",
     "output_type": "error",
     "traceback": [
      "\u001B[0;31m---------------------------------------------------------------------------\u001B[0m",
      "\u001B[0;31mKeyboardInterrupt\u001B[0m                         Traceback (most recent call last)",
      "\u001B[0;32m/tmp/ipykernel_2062770/805765607.py\u001B[0m in \u001B[0;36m<module>\u001B[0;34m\u001B[0m\n\u001B[1;32m     45\u001B[0m     \u001B[0;32mreturn\u001B[0m \u001B[0mtrj_hour_ticketcodes\u001B[0m\u001B[0;34m\u001B[0m\u001B[0;34m\u001B[0m\u001B[0m\n\u001B[1;32m     46\u001B[0m \u001B[0;34m\u001B[0m\u001B[0m\n\u001B[0;32m---> 47\u001B[0;31m \u001B[0manalyze_trajectories_over_the_hours_of_the_day_by_ticket_code_plot\u001B[0m\u001B[0;34m(\u001B[0m\u001B[0mdict_trajectories\u001B[0m\u001B[0;34m,\u001B[0m \u001B[0msummary\u001B[0m\u001B[0;34m=\u001B[0m\u001B[0;32mTrue\u001B[0m\u001B[0;34m)\u001B[0m\u001B[0;34m\u001B[0m\u001B[0;34m\u001B[0m\u001B[0m\n\u001B[0m",
      "\u001B[0;32m/tmp/ipykernel_2062770/805765607.py\u001B[0m in \u001B[0;36manalyze_trajectories_over_the_hours_of_the_day_by_ticket_code_plot\u001B[0;34m(dict_trajectories, is_focus_on_ticket_code, ticket_code, summary)\u001B[0m\n\u001B[1;32m     26\u001B[0m         \u001B[0mdict_trajectories\u001B[0m \u001B[0;34m=\u001B[0m \u001B[0mcreate_or_load_dictionary_with_trajectories\u001B[0m\u001B[0;34m(\u001B[0m\u001B[0mdf_sup\u001B[0m\u001B[0;34m,\u001B[0m \u001B[0mfile_name\u001B[0m \u001B[0;34m=\u001B[0m \u001B[0mfile_name\u001B[0m \u001B[0;34m+\u001B[0m \u001B[0;34m'_'\u001B[0m \u001B[0;34m+\u001B[0m \u001B[0;34m'tc:'\u001B[0m \u001B[0;34m+\u001B[0m \u001B[0mticket_code\u001B[0m\u001B[0;34m)\u001B[0m\u001B[0;34m\u001B[0m\u001B[0;34m\u001B[0m\u001B[0m\n\u001B[1;32m     27\u001B[0m         \u001B[0;31m# Analyze the trajectories over the hours of the day\u001B[0m\u001B[0;34m\u001B[0m\u001B[0;34m\u001B[0m\u001B[0m\n\u001B[0;32m---> 28\u001B[0;31m         \u001B[0mtrj_hour_ticketcodes\u001B[0m\u001B[0;34m[\u001B[0m\u001B[0mticket_code\u001B[0m\u001B[0;34m]\u001B[0m \u001B[0;34m=\u001B[0m \u001B[0manalyze_trajectories_over_the_hours_of_the_day\u001B[0m\u001B[0;34m(\u001B[0m\u001B[0mdict_trajectories\u001B[0m\u001B[0;34m,\u001B[0m \u001B[0mis_focus_on_ticket_code\u001B[0m\u001B[0;34m=\u001B[0m\u001B[0;32mTrue\u001B[0m\u001B[0;34m,\u001B[0m \u001B[0mticket_code\u001B[0m\u001B[0;34m=\u001B[0m\u001B[0mticket_code\u001B[0m\u001B[0;34m,\u001B[0m \u001B[0msummary\u001B[0m\u001B[0;34m=\u001B[0m\u001B[0;32mFalse\u001B[0m\u001B[0;34m)\u001B[0m\u001B[0;34m\u001B[0m\u001B[0;34m\u001B[0m\u001B[0m\n\u001B[0m\u001B[1;32m     29\u001B[0m \u001B[0;34m\u001B[0m\u001B[0m\n\u001B[1;32m     30\u001B[0m     \u001B[0;31m# Plot the trajectories over the hours of the day by ticket code\u001B[0m\u001B[0;34m\u001B[0m\u001B[0;34m\u001B[0m\u001B[0m\n",
      "\u001B[0;32m/tmp/ipykernel_2062770/4291852257.py\u001B[0m in \u001B[0;36manalyze_trajectories_over_the_hours_of_the_day\u001B[0;34m(dict_trajectories, is_focus_on_ticket_code, ticket_code, summary)\u001B[0m\n\u001B[1;32m     81\u001B[0m         \u001B[0;31m# Get the time of the day of the trajectory\u001B[0m\u001B[0;34m\u001B[0m\u001B[0;34m\u001B[0m\u001B[0m\n\u001B[1;32m     82\u001B[0m         \u001B[0;31m# print(trajectory)\u001B[0m\u001B[0;34m\u001B[0m\u001B[0;34m\u001B[0m\u001B[0m\n\u001B[0;32m---> 83\u001B[0;31m         \u001B[0mdf_aux\u001B[0m \u001B[0;34m=\u001B[0m \u001B[0mget_trajectories_from_key\u001B[0m\u001B[0;34m(\u001B[0m\u001B[0mdf\u001B[0m\u001B[0;34m,\u001B[0m \u001B[0mtrajectory\u001B[0m\u001B[0;34m)\u001B[0m\u001B[0;34m\u001B[0m\u001B[0;34m\u001B[0m\u001B[0m\n\u001B[0m\u001B[1;32m     84\u001B[0m         \u001B[0;31m# Create a list with the timestamps of the trajectory\u001B[0m\u001B[0;34m\u001B[0m\u001B[0;34m\u001B[0m\u001B[0m\n\u001B[1;32m     85\u001B[0m         \u001B[0mtimestamp_list\u001B[0m \u001B[0;34m=\u001B[0m \u001B[0mdf_aux\u001B[0m\u001B[0;34m[\u001B[0m\u001B[0;34m'ORA'\u001B[0m\u001B[0;34m]\u001B[0m\u001B[0;34m.\u001B[0m\u001B[0mtolist\u001B[0m\u001B[0;34m(\u001B[0m\u001B[0;34m)\u001B[0m\u001B[0;34m\u001B[0m\u001B[0;34m\u001B[0m\u001B[0m\n",
      "\u001B[0;32m/tmp/ipykernel_2062770/2950749932.py\u001B[0m in \u001B[0;36mget_trajectories_from_key\u001B[0;34m(df, key)\u001B[0m\n\u001B[1;32m     11\u001B[0m     \u001B[0;32mif\u001B[0m \u001B[0mkey\u001B[0m\u001B[0;34m[\u001B[0m\u001B[0;36m1\u001B[0m\u001B[0;34m]\u001B[0m \u001B[0;34m==\u001B[0m \u001B[0;32mNone\u001B[0m\u001B[0;34m:\u001B[0m\u001B[0;34m\u001B[0m\u001B[0;34m\u001B[0m\u001B[0m\n\u001B[1;32m     12\u001B[0m         \u001B[0;31m#print('The key is: {}'.format(key))\u001B[0m\u001B[0;34m\u001B[0m\u001B[0;34m\u001B[0m\u001B[0m\n\u001B[0;32m---> 13\u001B[0;31m         \u001B[0;32mreturn\u001B[0m \u001B[0mdf\u001B[0m\u001B[0;34m[\u001B[0m\u001B[0mdf\u001B[0m\u001B[0;34m[\u001B[0m\u001B[0;34m'SERIALE'\u001B[0m\u001B[0;34m]\u001B[0m \u001B[0;34m==\u001B[0m \u001B[0mkey\u001B[0m\u001B[0;34m[\u001B[0m\u001B[0;36m0\u001B[0m\u001B[0;34m]\u001B[0m\u001B[0;34m]\u001B[0m\u001B[0;34m\u001B[0m\u001B[0;34m\u001B[0m\u001B[0m\n\u001B[0m\u001B[1;32m     14\u001B[0m     \u001B[0;31m# Otherwise, return the dataframe with the trajectories of the user in the specified day\u001B[0m\u001B[0;34m\u001B[0m\u001B[0;34m\u001B[0m\u001B[0m\n\u001B[1;32m     15\u001B[0m     \u001B[0;32melse\u001B[0m\u001B[0;34m:\u001B[0m\u001B[0;34m\u001B[0m\u001B[0;34m\u001B[0m\u001B[0m\n",
      "\u001B[0;32m~/.local/lib/python3.10/site-packages/pandas/core/ops/common.py\u001B[0m in \u001B[0;36mnew_method\u001B[0;34m(self, other)\u001B[0m\n\u001B[1;32m     70\u001B[0m         \u001B[0mother\u001B[0m \u001B[0;34m=\u001B[0m \u001B[0mitem_from_zerodim\u001B[0m\u001B[0;34m(\u001B[0m\u001B[0mother\u001B[0m\u001B[0;34m)\u001B[0m\u001B[0;34m\u001B[0m\u001B[0;34m\u001B[0m\u001B[0m\n\u001B[1;32m     71\u001B[0m \u001B[0;34m\u001B[0m\u001B[0m\n\u001B[0;32m---> 72\u001B[0;31m         \u001B[0;32mreturn\u001B[0m \u001B[0mmethod\u001B[0m\u001B[0;34m(\u001B[0m\u001B[0mself\u001B[0m\u001B[0;34m,\u001B[0m \u001B[0mother\u001B[0m\u001B[0;34m)\u001B[0m\u001B[0;34m\u001B[0m\u001B[0;34m\u001B[0m\u001B[0m\n\u001B[0m\u001B[1;32m     73\u001B[0m \u001B[0;34m\u001B[0m\u001B[0m\n\u001B[1;32m     74\u001B[0m     \u001B[0;32mreturn\u001B[0m \u001B[0mnew_method\u001B[0m\u001B[0;34m\u001B[0m\u001B[0;34m\u001B[0m\u001B[0m\n",
      "\u001B[0;32m~/.local/lib/python3.10/site-packages/pandas/core/arraylike.py\u001B[0m in \u001B[0;36m__eq__\u001B[0;34m(self, other)\u001B[0m\n\u001B[1;32m     40\u001B[0m     \u001B[0;34m@\u001B[0m\u001B[0munpack_zerodim_and_defer\u001B[0m\u001B[0;34m(\u001B[0m\u001B[0;34m\"__eq__\"\u001B[0m\u001B[0;34m)\u001B[0m\u001B[0;34m\u001B[0m\u001B[0;34m\u001B[0m\u001B[0m\n\u001B[1;32m     41\u001B[0m     \u001B[0;32mdef\u001B[0m \u001B[0m__eq__\u001B[0m\u001B[0;34m(\u001B[0m\u001B[0mself\u001B[0m\u001B[0;34m,\u001B[0m \u001B[0mother\u001B[0m\u001B[0;34m)\u001B[0m\u001B[0;34m:\u001B[0m\u001B[0;34m\u001B[0m\u001B[0;34m\u001B[0m\u001B[0m\n\u001B[0;32m---> 42\u001B[0;31m         \u001B[0;32mreturn\u001B[0m \u001B[0mself\u001B[0m\u001B[0;34m.\u001B[0m\u001B[0m_cmp_method\u001B[0m\u001B[0;34m(\u001B[0m\u001B[0mother\u001B[0m\u001B[0;34m,\u001B[0m \u001B[0moperator\u001B[0m\u001B[0;34m.\u001B[0m\u001B[0meq\u001B[0m\u001B[0;34m)\u001B[0m\u001B[0;34m\u001B[0m\u001B[0;34m\u001B[0m\u001B[0m\n\u001B[0m\u001B[1;32m     43\u001B[0m \u001B[0;34m\u001B[0m\u001B[0m\n\u001B[1;32m     44\u001B[0m     \u001B[0;34m@\u001B[0m\u001B[0munpack_zerodim_and_defer\u001B[0m\u001B[0;34m(\u001B[0m\u001B[0;34m\"__ne__\"\u001B[0m\u001B[0;34m)\u001B[0m\u001B[0;34m\u001B[0m\u001B[0;34m\u001B[0m\u001B[0m\n",
      "\u001B[0;32m~/.local/lib/python3.10/site-packages/pandas/core/series.py\u001B[0m in \u001B[0;36m_cmp_method\u001B[0;34m(self, other, op)\u001B[0m\n\u001B[1;32m   6241\u001B[0m \u001B[0;34m\u001B[0m\u001B[0m\n\u001B[1;32m   6242\u001B[0m         \u001B[0;32mwith\u001B[0m \u001B[0mnp\u001B[0m\u001B[0;34m.\u001B[0m\u001B[0merrstate\u001B[0m\u001B[0;34m(\u001B[0m\u001B[0mall\u001B[0m\u001B[0;34m=\u001B[0m\u001B[0;34m\"ignore\"\u001B[0m\u001B[0;34m)\u001B[0m\u001B[0;34m:\u001B[0m\u001B[0;34m\u001B[0m\u001B[0;34m\u001B[0m\u001B[0m\n\u001B[0;32m-> 6243\u001B[0;31m             \u001B[0mres_values\u001B[0m \u001B[0;34m=\u001B[0m \u001B[0mops\u001B[0m\u001B[0;34m.\u001B[0m\u001B[0mcomparison_op\u001B[0m\u001B[0;34m(\u001B[0m\u001B[0mlvalues\u001B[0m\u001B[0;34m,\u001B[0m \u001B[0mrvalues\u001B[0m\u001B[0;34m,\u001B[0m \u001B[0mop\u001B[0m\u001B[0;34m)\u001B[0m\u001B[0;34m\u001B[0m\u001B[0;34m\u001B[0m\u001B[0m\n\u001B[0m\u001B[1;32m   6244\u001B[0m \u001B[0;34m\u001B[0m\u001B[0m\n\u001B[1;32m   6245\u001B[0m         \u001B[0;32mreturn\u001B[0m \u001B[0mself\u001B[0m\u001B[0;34m.\u001B[0m\u001B[0m_construct_result\u001B[0m\u001B[0;34m(\u001B[0m\u001B[0mres_values\u001B[0m\u001B[0;34m,\u001B[0m \u001B[0mname\u001B[0m\u001B[0;34m=\u001B[0m\u001B[0mres_name\u001B[0m\u001B[0;34m)\u001B[0m\u001B[0;34m\u001B[0m\u001B[0;34m\u001B[0m\u001B[0m\n",
      "\u001B[0;32m~/.local/lib/python3.10/site-packages/pandas/core/ops/array_ops.py\u001B[0m in \u001B[0;36mcomparison_op\u001B[0;34m(left, right, op)\u001B[0m\n\u001B[1;32m    288\u001B[0m \u001B[0;34m\u001B[0m\u001B[0m\n\u001B[1;32m    289\u001B[0m     \u001B[0;32melse\u001B[0m\u001B[0;34m:\u001B[0m\u001B[0;34m\u001B[0m\u001B[0;34m\u001B[0m\u001B[0m\n\u001B[0;32m--> 290\u001B[0;31m         \u001B[0mres_values\u001B[0m \u001B[0;34m=\u001B[0m \u001B[0m_na_arithmetic_op\u001B[0m\u001B[0;34m(\u001B[0m\u001B[0mlvalues\u001B[0m\u001B[0;34m,\u001B[0m \u001B[0mrvalues\u001B[0m\u001B[0;34m,\u001B[0m \u001B[0mop\u001B[0m\u001B[0;34m,\u001B[0m \u001B[0mis_cmp\u001B[0m\u001B[0;34m=\u001B[0m\u001B[0;32mTrue\u001B[0m\u001B[0;34m)\u001B[0m\u001B[0;34m\u001B[0m\u001B[0;34m\u001B[0m\u001B[0m\n\u001B[0m\u001B[1;32m    291\u001B[0m \u001B[0;34m\u001B[0m\u001B[0m\n\u001B[1;32m    292\u001B[0m     \u001B[0;32mreturn\u001B[0m \u001B[0mres_values\u001B[0m\u001B[0;34m\u001B[0m\u001B[0;34m\u001B[0m\u001B[0m\n",
      "\u001B[0;32m~/.local/lib/python3.10/site-packages/pandas/core/ops/array_ops.py\u001B[0m in \u001B[0;36m_na_arithmetic_op\u001B[0;34m(left, right, op, is_cmp)\u001B[0m\n\u001B[1;32m    163\u001B[0m \u001B[0;34m\u001B[0m\u001B[0m\n\u001B[1;32m    164\u001B[0m     \u001B[0;32mtry\u001B[0m\u001B[0;34m:\u001B[0m\u001B[0;34m\u001B[0m\u001B[0;34m\u001B[0m\u001B[0m\n\u001B[0;32m--> 165\u001B[0;31m         \u001B[0mresult\u001B[0m \u001B[0;34m=\u001B[0m \u001B[0mfunc\u001B[0m\u001B[0;34m(\u001B[0m\u001B[0mleft\u001B[0m\u001B[0;34m,\u001B[0m \u001B[0mright\u001B[0m\u001B[0;34m)\u001B[0m\u001B[0;34m\u001B[0m\u001B[0;34m\u001B[0m\u001B[0m\n\u001B[0m\u001B[1;32m    166\u001B[0m     \u001B[0;32mexcept\u001B[0m \u001B[0mTypeError\u001B[0m\u001B[0;34m:\u001B[0m\u001B[0;34m\u001B[0m\u001B[0;34m\u001B[0m\u001B[0m\n\u001B[1;32m    167\u001B[0m         \u001B[0;32mif\u001B[0m \u001B[0;32mnot\u001B[0m \u001B[0mis_cmp\u001B[0m \u001B[0;32mand\u001B[0m \u001B[0;34m(\u001B[0m\u001B[0mis_object_dtype\u001B[0m\u001B[0;34m(\u001B[0m\u001B[0mleft\u001B[0m\u001B[0;34m.\u001B[0m\u001B[0mdtype\u001B[0m\u001B[0;34m)\u001B[0m \u001B[0;32mor\u001B[0m \u001B[0mis_object_dtype\u001B[0m\u001B[0;34m(\u001B[0m\u001B[0mright\u001B[0m\u001B[0;34m)\u001B[0m\u001B[0;34m)\u001B[0m\u001B[0;34m:\u001B[0m\u001B[0;34m\u001B[0m\u001B[0;34m\u001B[0m\u001B[0m\n",
      "\u001B[0;32m~/.local/lib/python3.10/site-packages/pandas/core/computation/expressions.py\u001B[0m in \u001B[0;36mevaluate\u001B[0;34m(op, a, b, use_numexpr)\u001B[0m\n\u001B[1;32m    239\u001B[0m         \u001B[0;32mif\u001B[0m \u001B[0muse_numexpr\u001B[0m\u001B[0;34m:\u001B[0m\u001B[0;34m\u001B[0m\u001B[0;34m\u001B[0m\u001B[0m\n\u001B[1;32m    240\u001B[0m             \u001B[0;31m# error: \"None\" not callable\u001B[0m\u001B[0;34m\u001B[0m\u001B[0;34m\u001B[0m\u001B[0m\n\u001B[0;32m--> 241\u001B[0;31m             \u001B[0;32mreturn\u001B[0m \u001B[0m_evaluate\u001B[0m\u001B[0;34m(\u001B[0m\u001B[0mop\u001B[0m\u001B[0;34m,\u001B[0m \u001B[0mop_str\u001B[0m\u001B[0;34m,\u001B[0m \u001B[0ma\u001B[0m\u001B[0;34m,\u001B[0m \u001B[0mb\u001B[0m\u001B[0;34m)\u001B[0m  \u001B[0;31m# type: ignore[misc]\u001B[0m\u001B[0;34m\u001B[0m\u001B[0;34m\u001B[0m\u001B[0m\n\u001B[0m\u001B[1;32m    242\u001B[0m     \u001B[0;32mreturn\u001B[0m \u001B[0m_evaluate_standard\u001B[0m\u001B[0;34m(\u001B[0m\u001B[0mop\u001B[0m\u001B[0;34m,\u001B[0m \u001B[0mop_str\u001B[0m\u001B[0;34m,\u001B[0m \u001B[0ma\u001B[0m\u001B[0;34m,\u001B[0m \u001B[0mb\u001B[0m\u001B[0;34m)\u001B[0m\u001B[0;34m\u001B[0m\u001B[0;34m\u001B[0m\u001B[0m\n\u001B[1;32m    243\u001B[0m \u001B[0;34m\u001B[0m\u001B[0m\n",
      "\u001B[0;32m~/.local/lib/python3.10/site-packages/pandas/core/computation/expressions.py\u001B[0m in \u001B[0;36m_evaluate_standard\u001B[0;34m(op, op_str, a, b)\u001B[0m\n\u001B[1;32m     68\u001B[0m     \u001B[0;32mif\u001B[0m \u001B[0m_TEST_MODE\u001B[0m\u001B[0;34m:\u001B[0m\u001B[0;34m\u001B[0m\u001B[0;34m\u001B[0m\u001B[0m\n\u001B[1;32m     69\u001B[0m         \u001B[0m_store_test_result\u001B[0m\u001B[0;34m(\u001B[0m\u001B[0;32mFalse\u001B[0m\u001B[0;34m)\u001B[0m\u001B[0;34m\u001B[0m\u001B[0;34m\u001B[0m\u001B[0m\n\u001B[0;32m---> 70\u001B[0;31m     \u001B[0;32mreturn\u001B[0m \u001B[0mop\u001B[0m\u001B[0;34m(\u001B[0m\u001B[0ma\u001B[0m\u001B[0;34m,\u001B[0m \u001B[0mb\u001B[0m\u001B[0;34m)\u001B[0m\u001B[0;34m\u001B[0m\u001B[0;34m\u001B[0m\u001B[0m\n\u001B[0m\u001B[1;32m     71\u001B[0m \u001B[0;34m\u001B[0m\u001B[0m\n\u001B[1;32m     72\u001B[0m \u001B[0;34m\u001B[0m\u001B[0m\n",
      "\u001B[0;31mKeyboardInterrupt\u001B[0m: "
     ]
    }
   ],
   "source": [
    "# Function that considers the trajectories with at least 2 stations visited and analyzes the trajectories over the hours of the day\n",
    "# Plot them using the ticket code\n",
    "def analyze_trajectories_over_the_hours_of_the_day_by_ticket_code_plot (dict_trajectories: dict, is_focus_on_ticket_code: bool = False, ticket_code: str = \"\", summary: bool = False) -> dict:\n",
    "    \"\"\"\n",
    "        This function plots the trajectories over the hours of the day by ticket code.\n",
    "        :param dict_trajectories: the dictionary with the trajectories of the users\n",
    "        :param is_focus_on_ticket_code: if True, the function is focused on the ticket code\n",
    "        :param ticket_code: the ticket code\n",
    "        :param summary: if True, the function prints the summary\n",
    "        :return: the dictionary with the trajectories over the hours of the day by ticket code\n",
    "    \"\"\"\n",
    "    # Get ticket code\n",
    "    ticket_code = list(df['TICKET_CODE'].unique())\n",
    "\n",
    "    trj_hour_ticketcodes = {}\n",
    "    # For each ticket code\n",
    "    for ticket_code in ticket_code:\n",
    "        print('The ticket code is: {}'.format(ticket_code))\n",
    "        # If the ticket code is '8', continue\n",
    "        if ticket_code == '8':\n",
    "            continue\n",
    "        # Create a dictionary with the trajectories of the users with the ticket code\n",
    "        df_sup = mf.focus_on_ticket_code(df, ticket_code)\n",
    "        # Select only the first 100 trajectories\n",
    "        df_sup = df_sup.head(30)\n",
    "        dict_trajectories = create_or_load_dictionary_with_trajectories(df_sup, file_name = file_name + '_' + 'tc:' + ticket_code)\n",
    "        # Analyze the trajectories over the hours of the day\n",
    "        trj_hour_ticketcodes[ticket_code] = analyze_trajectories_over_the_hours_of_the_day(dict_trajectories, is_focus_on_ticket_code=True, ticket_code=ticket_code, summary=False)\n",
    "\n",
    "    # Plot the trajectories over the hours of the day by ticket code\n",
    "    fig, ax = plt.subplots()\n",
    "    for ticket_code in ticket_code:\n",
    "        # If the ticket code is '8', continue\n",
    "        if ticket_code == '8':\n",
    "            continue\n",
    "        x = list(trj_hour_ticketcodes[ticket_code].keys())\n",
    "        y = list(trj_hour_ticketcodes[ticket_code].values())\n",
    "        ax.plot(x, y, label=ticket_code)\n",
    "    ax.set_xlabel('Time of the day')\n",
    "    ax.set_ylabel('Number of trajectories')\n",
    "    ax.set_title('Trajectories over the hours of the day by ticket code')\n",
    "    ax.legend()\n",
    "    plt.show()\n",
    "\n",
    "    return trj_hour_ticketcodes\n",
    "\n",
    "analyze_trajectories_over_the_hours_of_the_day_by_ticket_code_plot(dict_trajectories, summary=True)\n"
   ]
  }
 ],
 "metadata": {
  "kernelspec": {
   "display_name": "Python 3",
   "language": "python",
   "name": "python3"
  },
  "language_info": {
   "codemirror_mode": {
    "name": "ipython",
    "version": 3
   },
   "file_extension": ".py",
   "mimetype": "text/x-python",
   "name": "python",
   "nbconvert_exporter": "python",
   "pygments_lexer": "ipython3",
   "version": "3.11.2"
  },
  "orig_nbformat": 4,
  "vscode": {
   "interpreter": {
    "hash": "aee8b7b246df8f9039afb4144a1f6fd8d2ca17a180786b69acc140d282b71a49"
   }
  }
 },
 "nbformat": 4,
 "nbformat_minor": 2
}
