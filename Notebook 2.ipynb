{
 "cells": [
  {
   "attachments": {},
   "cell_type": "markdown",
   "metadata": {},
   "source": [
    "# MASTER - Notebook 2\n",
    "### Matteo Grazioso 884055"
   ]
  },
  {
   "cell_type": "code",
   "execution_count": 1,
   "metadata": {},
   "outputs": [],
   "source": [
    "# Import libraries\n",
    "import pandas as pd\n",
    "import numpy as np\n",
    "import matplotlib.pyplot as plt\n",
    "import seaborn as sns\n",
    "import matplotlib.dates as mdates\n",
    "from datetime import datetime\n",
    "import json\n",
    "import warnings\n",
    "warnings.filterwarnings('ignore')\n",
    "\n",
    "import myfunctions as mf # Custom functions"
   ]
  },
  {
   "cell_type": "code",
   "execution_count": 2,
   "metadata": {},
   "outputs": [],
   "source": [
    "# Disply all columns and all rows\n",
    "pd.set_option('display.max_columns', None)\n",
    "pd.set_option('display.max_rows', None)"
   ]
  },
  {
   "cell_type": "code",
   "execution_count": 3,
   "metadata": {},
   "outputs": [],
   "source": [
    "# The file contains the data of the validation of tickets in the city of public transport of Venice.\n",
    "# The file has been created by the Notebook 1.ipynb\n",
    "\n",
    "# Import the data into a dataframe of a txt file\n",
    "path = 'data/processed/dataset_cleaned_validazioni.txt'\n",
    "# path = 'data/processed/dataset_cleaned_esportazioneCompleta.txt'\n",
    "\n",
    "df = pd.read_csv(path, header=0, sep='\\t')\n",
    "\n",
    "# Save the name of the file in a variable for future use extracting the name of the file from the path\n",
    "file_name = path.split('_')[-1].split('.')[0]\n",
    "\n",
    "# Display the first 5 rows of the dataframe\n",
    "df.head()\n",
    "\n",
    "# Convert the column 'DATA' to datetime format\n",
    "df['DATA'] = pd.to_datetime(df['DATA'], format='%Y-%m-%d')"
   ]
  },
  {
   "cell_type": "code",
   "execution_count": 4,
   "metadata": {},
   "outputs": [],
   "source": [
    "# Create a partition of 10% of the dataframe\n",
    "df = df.sample(frac=0.1, random_state=1)"
   ]
  },
  {
   "cell_type": "code",
   "execution_count": 5,
   "metadata": {},
   "outputs": [
    {
     "data": {
      "text/html": [
       "<div>\n",
       "<style scoped>\n",
       "    .dataframe tbody tr th:only-of-type {\n",
       "        vertical-align: middle;\n",
       "    }\n",
       "\n",
       "    .dataframe tbody tr th {\n",
       "        vertical-align: top;\n",
       "    }\n",
       "\n",
       "    .dataframe thead th {\n",
       "        text-align: right;\n",
       "    }\n",
       "</style>\n",
       "<table border=\"1\" class=\"dataframe\">\n",
       "  <thead>\n",
       "    <tr style=\"text-align: right;\">\n",
       "      <th></th>\n",
       "      <th>DATA</th>\n",
       "      <th>ORA</th>\n",
       "      <th>DATA_VALIDAZIONE</th>\n",
       "      <th>SERIALE</th>\n",
       "      <th>FERMATA</th>\n",
       "      <th>DESCRIZIONE</th>\n",
       "      <th>TITOLO</th>\n",
       "      <th>TICKET_CODE</th>\n",
       "      <th>DESCRIZIONE_TITOLO</th>\n",
       "    </tr>\n",
       "  </thead>\n",
       "  <tbody>\n",
       "    <tr>\n",
       "      <th>557994</th>\n",
       "      <td>2022-05-22</td>\n",
       "      <td>10:07:00</td>\n",
       "      <td>2022-05-22 10:07:00</td>\n",
       "      <td>36141601419748868</td>\n",
       "      <td>6027</td>\n",
       "      <td>MESTRE CENTR</td>\n",
       "      <td>11261</td>\n",
       "      <td>1</td>\n",
       "      <td>DAILY PASS VENEZIA - AVM</td>\n",
       "    </tr>\n",
       "    <tr>\n",
       "      <th>3332130</th>\n",
       "      <td>2022-06-29</td>\n",
       "      <td>16:24:00</td>\n",
       "      <td>2022-06-29 16:24:00</td>\n",
       "      <td>40549429059008004</td>\n",
       "      <td>162</td>\n",
       "      <td>STAZIONE MES</td>\n",
       "      <td>12101</td>\n",
       "      <td>7</td>\n",
       "      <td>BIGL.AUT.75'MESTRE/LIDO-TSC</td>\n",
       "    </tr>\n",
       "    <tr>\n",
       "      <th>2675168</th>\n",
       "      <td>2022-06-20</td>\n",
       "      <td>09:27:00</td>\n",
       "      <td>2022-06-20 09:27:00</td>\n",
       "      <td>40549743250560260</td>\n",
       "      <td>7777</td>\n",
       "      <td>PEOPLE MOVER</td>\n",
       "      <td>11151</td>\n",
       "      <td>7</td>\n",
       "      <td>PEOPLEMOVER+BUS+TRAM 75'</td>\n",
       "    </tr>\n",
       "    <tr>\n",
       "      <th>3859966</th>\n",
       "      <td>2022-07-07</td>\n",
       "      <td>13:19:00</td>\n",
       "      <td>2022-07-07 13:19:00</td>\n",
       "      <td>40551472784538116</td>\n",
       "      <td>5113</td>\n",
       "      <td>BURANO</td>\n",
       "      <td>11261</td>\n",
       "      <td>1</td>\n",
       "      <td>DAILY PASS VENEZIA - AVM</td>\n",
       "    </tr>\n",
       "    <tr>\n",
       "      <th>2508627</th>\n",
       "      <td>2022-06-17</td>\n",
       "      <td>22:39:00</td>\n",
       "      <td>2022-06-17 22:39:00</td>\n",
       "      <td>37273064648493060</td>\n",
       "      <td>5009</td>\n",
       "      <td>SAN MARCO</td>\n",
       "      <td>11138</td>\n",
       "      <td>7</td>\n",
       "      <td>75'-TPL 13,28-COMVE1,72</td>\n",
       "    </tr>\n",
       "  </tbody>\n",
       "</table>\n",
       "</div>"
      ],
      "text/plain": [
       "              DATA       ORA     DATA_VALIDAZIONE            SERIALE  FERMATA  \\\n",
       "557994  2022-05-22  10:07:00  2022-05-22 10:07:00  36141601419748868     6027   \n",
       "3332130 2022-06-29  16:24:00  2022-06-29 16:24:00  40549429059008004      162   \n",
       "2675168 2022-06-20  09:27:00  2022-06-20 09:27:00  40549743250560260     7777   \n",
       "3859966 2022-07-07  13:19:00  2022-07-07 13:19:00  40551472784538116     5113   \n",
       "2508627 2022-06-17  22:39:00  2022-06-17 22:39:00  37273064648493060     5009   \n",
       "\n",
       "          DESCRIZIONE  TITOLO  TICKET_CODE           DESCRIZIONE_TITOLO  \n",
       "557994   MESTRE CENTR   11261            1     DAILY PASS VENEZIA - AVM  \n",
       "3332130  STAZIONE MES   12101            7  BIGL.AUT.75'MESTRE/LIDO-TSC  \n",
       "2675168  PEOPLE MOVER   11151            7     PEOPLEMOVER+BUS+TRAM 75'  \n",
       "3859966        BURANO   11261            1     DAILY PASS VENEZIA - AVM  \n",
       "2508627     SAN MARCO   11138            7      75'-TPL 13,28-COMVE1,72  "
      ]
     },
     "execution_count": 5,
     "metadata": {},
     "output_type": "execute_result"
    }
   ],
   "source": [
    "df.head()"
   ]
  },
  {
   "cell_type": "code",
   "execution_count": 6,
   "metadata": {},
   "outputs": [
    {
     "data": {
      "text/html": [
       "<div>\n",
       "<style scoped>\n",
       "    .dataframe tbody tr th:only-of-type {\n",
       "        vertical-align: middle;\n",
       "    }\n",
       "\n",
       "    .dataframe tbody tr th {\n",
       "        vertical-align: top;\n",
       "    }\n",
       "\n",
       "    .dataframe thead th {\n",
       "        text-align: right;\n",
       "    }\n",
       "</style>\n",
       "<table border=\"1\" class=\"dataframe\">\n",
       "  <thead>\n",
       "    <tr style=\"text-align: right;\">\n",
       "      <th></th>\n",
       "      <th>DATA</th>\n",
       "      <th>ORA</th>\n",
       "      <th>DATA_VALIDAZIONE</th>\n",
       "      <th>SERIALE</th>\n",
       "      <th>FERMATA</th>\n",
       "      <th>DESCRIZIONE</th>\n",
       "      <th>TITOLO</th>\n",
       "      <th>TICKET_CODE</th>\n",
       "      <th>DESCRIZIONE_TITOLO</th>\n",
       "    </tr>\n",
       "  </thead>\n",
       "  <tbody>\n",
       "    <tr>\n",
       "      <th>4320183</th>\n",
       "      <td>2022-07-13</td>\n",
       "      <td>15:03:00</td>\n",
       "      <td>2022-07-13 15:03:00</td>\n",
       "      <td>40551471443186180</td>\n",
       "      <td>5096</td>\n",
       "      <td>MURANO</td>\n",
       "      <td>11261</td>\n",
       "      <td>1</td>\n",
       "      <td>DAILY PASS VENEZIA - AVM</td>\n",
       "    </tr>\n",
       "    <tr>\n",
       "      <th>687741</th>\n",
       "      <td>2022-05-23</td>\n",
       "      <td>21:24:00</td>\n",
       "      <td>2022-05-23 21:24:00</td>\n",
       "      <td>36144856607953156</td>\n",
       "      <td>5031</td>\n",
       "      <td>P.LE ROMA</td>\n",
       "      <td>11101</td>\n",
       "      <td>7</td>\n",
       "      <td>75'-TPL 6,64-COMVE0,86</td>\n",
       "    </tr>\n",
       "    <tr>\n",
       "      <th>3273433</th>\n",
       "      <td>2022-06-28</td>\n",
       "      <td>17:47:00</td>\n",
       "      <td>2022-06-28 17:47:00</td>\n",
       "      <td>37554740548798724</td>\n",
       "      <td>5053</td>\n",
       "      <td>SAN MARCO</td>\n",
       "      <td>11230</td>\n",
       "      <td>3</td>\n",
       "      <td>72 ORE R.VENICE+AEROPORTO CS</td>\n",
       "    </tr>\n",
       "    <tr>\n",
       "      <th>2249389</th>\n",
       "      <td>2022-06-14</td>\n",
       "      <td>16:13:00</td>\n",
       "      <td>2022-06-14 16:13:00</td>\n",
       "      <td>65676356087740933</td>\n",
       "      <td>5191</td>\n",
       "      <td>FERROVIA</td>\n",
       "      <td>11101</td>\n",
       "      <td>7</td>\n",
       "      <td>75'-TPL 6,64-COMVE0,86</td>\n",
       "    </tr>\n",
       "    <tr>\n",
       "      <th>4053494</th>\n",
       "      <td>2022-07-09</td>\n",
       "      <td>22:10:00</td>\n",
       "      <td>2022-07-09 22:10:00</td>\n",
       "      <td>40551472785455364</td>\n",
       "      <td>7777</td>\n",
       "      <td>PEOPLE MOVER</td>\n",
       "      <td>11151</td>\n",
       "      <td>7</td>\n",
       "      <td>PEOPLEMOVER+BUS+TRAM 75'</td>\n",
       "    </tr>\n",
       "  </tbody>\n",
       "</table>\n",
       "</div>"
      ],
      "text/plain": [
       "              DATA       ORA     DATA_VALIDAZIONE            SERIALE  FERMATA  \\\n",
       "4320183 2022-07-13  15:03:00  2022-07-13 15:03:00  40551471443186180     5096   \n",
       "687741  2022-05-23  21:24:00  2022-05-23 21:24:00  36144856607953156     5031   \n",
       "3273433 2022-06-28  17:47:00  2022-06-28 17:47:00  37554740548798724     5053   \n",
       "2249389 2022-06-14  16:13:00  2022-06-14 16:13:00  65676356087740933     5191   \n",
       "4053494 2022-07-09  22:10:00  2022-07-09 22:10:00  40551472785455364     7777   \n",
       "\n",
       "          DESCRIZIONE  TITOLO  TICKET_CODE            DESCRIZIONE_TITOLO  \n",
       "4320183        MURANO   11261            1      DAILY PASS VENEZIA - AVM  \n",
       "687741      P.LE ROMA   11101            7        75'-TPL 6,64-COMVE0,86  \n",
       "3273433     SAN MARCO   11230            3  72 ORE R.VENICE+AEROPORTO CS  \n",
       "2249389      FERROVIA   11101            7        75'-TPL 6,64-COMVE0,86  \n",
       "4053494  PEOPLE MOVER   11151            7      PEOPLEMOVER+BUS+TRAM 75'  "
      ]
     },
     "execution_count": 6,
     "metadata": {},
     "output_type": "execute_result"
    }
   ],
   "source": [
    "df.tail()"
   ]
  },
  {
   "attachments": {},
   "cell_type": "markdown",
   "metadata": {},
   "source": [
    "---------\n"
   ]
  },
  {
   "attachments": {},
   "cell_type": "markdown",
   "metadata": {},
   "source": [
    "## Trajectories"
   ]
  },
  {
   "attachments": {},
   "cell_type": "markdown",
   "metadata": {},
   "source": [
    "We are interested in analyzing the trajectories of the users that use the public transport in the city of Venice.\n",
    "\n",
    "Note that the stops are identified by the *DESCRIZIONE* column that contains the name of the stop, so each trajectory \n",
    "is composed by the name of the stops visited by the user, so a trajectory is composed by a sequence of strings."
   ]
  },
  {
   "cell_type": "code",
   "execution_count": 7,
   "metadata": {},
   "outputs": [],
   "source": [
    "def create_dictionary_with_trajectories(df: pd.DataFrame) -> dict:\n",
    "    \"\"\"\n",
    "        This function creates a dictionary with the trajectories of the users.\n",
    "        :param df: the dataframe\n",
    "        :return: the dictionary with the trajectories of the users\n",
    "    \"\"\"\n",
    "    # Create a dictionary with the trajectories of the users\n",
    "    dict_trajectories = {}\n",
    "    # For each user\n",
    "    for serial in df['SERIALE'].unique():\n",
    "        # Select only the rows of the specified user\n",
    "        df_sup = df[df['SERIALE'] == serial]\n",
    "        # If the dataframe is not empty, focus on the user\n",
    "        if df_sup.shape[0] != 0:\n",
    "            # Create a list with the name of the stops visited by the user\n",
    "            list_stops = df_sup['DESCRIZIONE'].unique().tolist()\n",
    "            # Add the list to the dictionary\n",
    "            dict_trajectories[serial] = list_stops\n",
    "\n",
    "    return dict_trajectories"
   ]
  },
  {
   "cell_type": "code",
   "execution_count": 8,
   "metadata": {},
   "outputs": [],
   "source": [
    "def average_length_of_trajectories(dict_trajectories: dict, is_focus_on_ticket_code: bool = False, ticket_code: str = '') -> float:\n",
    "    \"\"\"\n",
    "        This function computes the average length of the trajectories.\n",
    "        :param dict_trajectories: the dictionary with the trajectories of the users\n",
    "        :return: the average length of the trajectories\n",
    "    \"\"\"\n",
    "    # Compute the average length of the trajectories\n",
    "    average_length = 0\n",
    "    for serial in dict_trajectories.keys():\n",
    "        average_length += len(dict_trajectories[serial])\n",
    "    if len(dict_trajectories.keys()) != 0:\n",
    "        average_length /= len(dict_trajectories.keys())\n",
    "        if is_focus_on_ticket_code:\n",
    "            print('The average length of the trajectories with the ticket code {} is: {}'.format(ticket_code, average_length))\n",
    "        else:\n",
    "            print('The average length of the trajectories is: {}'.format(average_length))\n",
    "    else:\n",
    "        print('WARNING: There are no trajectories to analyze')\n",
    "\n",
    "    return average_length"
   ]
  },
  {
   "cell_type": "code",
   "execution_count": 9,
   "metadata": {},
   "outputs": [],
   "source": [
    "def average_lenght_of_trajectories_per_ticket_code_stmp(df: pd.DataFrame):\n",
    "    \"\"\"\n",
    "        This function computes the average length of the trajectories for each ticket code in the dataset.\n",
    "        The order of the ticket codes is mantained because the ticket codes are stored in the dictionary \"dict_ticket_codes.json\".\n",
    "        :param df: the dataframe\n",
    "        :return: None\n",
    "    \"\"\"\n",
    "    dict_trajectories = {}\n",
    "    dict_ticket_codes = mf.open_dict_ticket_codes()\n",
    "\n",
    "    # For each ticket code in the dictionary\n",
    "    for ticket_code in dict_ticket_codes.keys():\n",
    "        # Select only the rows of the specified ticket code\n",
    "        df_sup = mf.focus_on_ticket_code(df, ticket_code)\n",
    "        \n",
    "        # If the dataframe is not empty, focus on the ticket code\n",
    "        if df_sup.shape[0] != 0:\n",
    "            # Create a dictionary with the trajectories of the users\n",
    "            dict_trajectories[ticket_code] = create_dictionary_with_trajectories(df_sup)\n",
    "            average_length_of_trajectories(dict_trajectories[ticket_code], is_focus_on_ticket_code=True, ticket_code=ticket_code)\n",
    "        else:\n",
    "            # If the dataframe is empty, skip the ticket code but launch a warning\n",
    "            print('WARNING: There are no validations of the ticket code \"{}\"'.format(ticket_code))"
   ]
  },
  {
   "cell_type": "code",
   "execution_count": 10,
   "metadata": {},
   "outputs": [],
   "source": [
    "def average_length_of_trajectories_by_ticket_code_plot(dict_trajectories: dict, df: pd.DataFrame, dictionary: str) -> None:\n",
    "    \"\"\"\n",
    "        This function computes the average length of the trajectories by ticket code.\n",
    "        :param dict_trajectories: the dictionary with the trajectories of the users\n",
    "        :param df: the dataframe\n",
    "        :param dictionary: the path of the dictionary with the ticket codes and their description\n",
    "        :return: None\n",
    "    \"\"\"\n",
    "    # Compute the average length of the trajectories:\n",
    "            # There are no colums with the coordinates of the stations, and there are no columns with the distance between the stations\n",
    "            # So, I compute the average length of the trajectories by the number of stations visited\n",
    "    \n",
    "    # Open the dictionary\n",
    "    dict_ticket_code = mf.open_dict_ticket_codes()\n",
    "\n",
    "    # Create a dictionary with the number of stations visited for each ticket code\n",
    "    dict_number_of_stations = {}\n",
    "    for ticket_code in dict_ticket_code.keys():\n",
    "        # Select only the rows of the specified ticket code\n",
    "        df_sup = mf.focus_on_ticket_code(df, ticket_code)\n",
    "        # If the dataframe is not empty, focus on the ticket code\n",
    "        if df_sup.shape[0] != 0:\n",
    "            # Count the number of stations visited\n",
    "            number_of_stations = 0\n",
    "            for serial in df_sup['SERIALE'].unique():\n",
    "                number_of_stations += len(dict_trajectories[serial])\n",
    "            # Add the average length of the trajectories to the dictionary\n",
    "            dict_number_of_stations[ticket_code] = number_of_stations / df_sup['SERIALE'].nunique() \n",
    "\n",
    "    # Plot the average length of the trajectories by ticket code\n",
    "    plt.figure(figsize=(20, 10))\n",
    "    plt.bar(dict_number_of_stations.keys(), dict_number_of_stations.values())\n",
    "    plt.title('Average length of the trajectories by ticket code')\n",
    "    plt.xlabel('Ticket code')   \n",
    "    plt.ylabel('Average length of the trajectories')\n",
    "\n",
    "    # Manage the x-axis adding the description of the ticket code; note that it is possible that some ticket codes are not present in the plot\n",
    "    plt.xticks(ticks=range(0, len(dict_number_of_stations.keys())), labels=[dict_ticket_code[ticket_code] for ticket_code in dict_number_of_stations.keys()], rotation=45)\n",
    "    \n",
    "    # Manage the y-axis: note that the y-axis are float numbers: do not convert them to integers and do not use the range function\n",
    "    if max(dict_number_of_stations.values()) < 0.1:\n",
    "        plt.yticks(ticks=np.arange(0, max(dict_number_of_stations.values()) + 0.01, 0.01))\n",
    "    else:\n",
    "        plt.yticks(ticks=np.arange(0, max(dict_number_of_stations.values()) + 0.01, 0.5))\n",
    "\n",
    "    plt.show()"
   ]
  },
  {
   "cell_type": "code",
   "execution_count": 11,
   "metadata": {},
   "outputs": [],
   "source": [
    "def most_frequent_trajectories(dict_trajectories: dict, is_focus_on_ticket_code: bool = False, ticket_code: str = '', summary: bool = True) -> None:\n",
    "    \"\"\"\n",
    "        This function finds the most frequent trajectories.\n",
    "        :param dict_trajectories: the dictionary with the trajectories of the users\n",
    "        :param is_focus_on_ticket_code: True if the analysis is focused on a specific ticket code, False otherwise\n",
    "        :param ticket_code: the ticket code\n",
    "        :param summary: True if the summary of the most frequent trajectories is printed, False otherwise\n",
    "        :return: None\n",
    "    \"\"\"\n",
    "    # Find the most frequent trajectories\n",
    "    # Create a dictionary with the number of times that a trajectory is present\n",
    "    dict_trajectories_number = {}\n",
    "\n",
    "    # For each user (identified by the serial number)\n",
    "    for serial in dict_trajectories.keys():\n",
    "        # Convert the list of tuples in a tuple of tuples\n",
    "        trajectory = tuple(dict_trajectories[serial])\n",
    "\n",
    "        if trajectory in dict_trajectories_number.keys():\n",
    "            # If the trajectory is already present in the dictionary, \n",
    "            # increase the number of times that the trajectory is present\n",
    "            dict_trajectories_number[trajectory] += 1\n",
    "        else:\n",
    "            # Otherwise, add the trajectory to the dictionary\n",
    "            dict_trajectories_number[trajectory] = 1\n",
    "\n",
    "    # Sort the dictionary by the number of times that a trajectory is present\n",
    "    dict_trajectories_number = {k: v for k, v in sorted(dict_trajectories_number.items(), key=lambda item: item[1], reverse=True)}\n",
    "\n",
    "    if (summary):\n",
    "        # Print the most frequent trajectories\n",
    "        if is_focus_on_ticket_code:\n",
    "            print('The most frequent trajectories with the ticket code {} are:'.format(ticket_code))\n",
    "        else:\n",
    "            print('The most frequent trajectories are:')\n",
    "        for trajectory in list(dict_trajectories_number.keys())[:10]:\n",
    "            print('The trajectory {} is present {} times'.format(trajectory, dict_trajectories_number[trajectory]))\n",
    "    else:\n",
    "        # Return the most frequent trajectories and the number of times that they are present, \n",
    "        # ordered by the number of times that they are present\n",
    "        return dict_trajectories_number"
   ]
  },
  {
   "cell_type": "code",
   "execution_count": 12,
   "metadata": {},
   "outputs": [],
   "source": [
    "def trajectories_with_at_least_k_stations(dict_trajectories: dict, k: int) -> None:\n",
    "    \"\"\"\n",
    "        This function finds the trajectories with at least k stations visited.\n",
    "        :param dict_trajectories: the dictionary with the trajectories of the users\n",
    "        :param k: the number of stations\n",
    "        :return: None\n",
    "    \"\"\"\n",
    "    # Find the trajectories with at least k stations visited\n",
    "    # Create a dictionary with the number of times that a trajectory is present\n",
    "    dict_trajectories_number = {}\n",
    "    for serial in dict_trajectories.keys():\n",
    "        trajectory = tuple(dict_trajectories[serial])\n",
    "        if trajectory in dict_trajectories_number.keys():\n",
    "            dict_trajectories_number[trajectory] += 1\n",
    "        else:\n",
    "            dict_trajectories_number[trajectory] = 1\n",
    "\n",
    "    # Sort the dictionary by the number of times that a trajectory is present\n",
    "    dict_trajectories_number = {k: v for k, v in sorted(dict_trajectories_number.items(), key=lambda item: item[1], reverse=True)}\n",
    "\n",
    "    # Print the trajectories with at least k stations visited\n",
    "    print('The trajectories with at least {} stations visited are:'.format(k))\n",
    "    for trajectory in dict_trajectories_number.keys():\n",
    "        if len(trajectory) >= k:\n",
    "            print('The trajectory {} is present {} times'.format(trajectory, dict_trajectories_number[trajectory]))"
   ]
  },
  {
   "cell_type": "code",
   "execution_count": 13,
   "metadata": {},
   "outputs": [],
   "source": [
    "def longest_common_subsequence(trajectory_1: list, trajectory_2: list) -> list:\n",
    "    \"\"\"\n",
    "        This function finds the Longest Common Subsequence (LCS) between two trajectories.\n",
    "        :param trajectory_1: the first trajectory\n",
    "        :param trajectory_2: the second trajectory\n",
    "        :return: the LCS\n",
    "    \"\"\"\n",
    "    # Find the LCS\n",
    "    # Create a matrix with the length of the LCS between two trajectories\n",
    "    matrix = [[0 for x in range(len(trajectory_2) + 1)] for y in range(len(trajectory_1) + 1)]\n",
    "    for i in range(1, len(trajectory_1) + 1):\n",
    "        for j in range(1, len(trajectory_2) + 1):\n",
    "            if trajectory_1[i - 1] == trajectory_2[j - 1]:\n",
    "                matrix[i][j] = matrix[i - 1][j - 1] + 1\n",
    "            else:\n",
    "                matrix[i][j] = max(matrix[i - 1][j], matrix[i][j - 1])\n",
    "\n",
    "    # Find the LCS\n",
    "    i = len(trajectory_1)\n",
    "    j = len(trajectory_2)\n",
    "    lcs = []\n",
    "    while i > 0 and j > 0:\n",
    "        if trajectory_1[i - 1] == trajectory_2[j - 1]:\n",
    "            lcs.append(trajectory_1[i - 1])\n",
    "            i -= 1\n",
    "            j -= 1\n",
    "        elif matrix[i - 1][j] > matrix[i][j - 1]:\n",
    "            i -= 1\n",
    "        else:\n",
    "            j -= 1\n",
    "\n",
    "    # Reverse the LCS\n",
    "    lcs.reverse()\n",
    "\n",
    "    return lcs"
   ]
  },
  {
   "attachments": {},
   "cell_type": "markdown",
   "metadata": {},
   "source": [
    "### Compute the average length of the trajectories with the entire dataset\n"
   ]
  },
  {
   "cell_type": "code",
   "execution_count": 14,
   "metadata": {},
   "outputs": [],
   "source": [
    "# Create a dictionary with the trajectories of the users\n",
    "dict_trajectories = create_dictionary_with_trajectories(df)"
   ]
  },
  {
   "cell_type": "code",
   "execution_count": 15,
   "metadata": {},
   "outputs": [
    {
     "name": "stdout",
     "output_type": "stream",
     "text": [
      "The average length of the trajectories is: 1.2036898431565306\n",
      "The average length of the trajectories with the ticket code 1 is: 1.1584284343311713\n",
      "The average length of the trajectories with the ticket code 2 is: 1.313636460988199\n",
      "The average length of the trajectories with the ticket code 3 is: 1.427582032154112\n",
      "The average length of the trajectories with the ticket code 4 is: 1.7453556094035625\n",
      "The average length of the trajectories with the ticket code 5 is: 1.0\n",
      "WARNING: There are no validations of the ticket code \"5-STUD\"\n",
      "WARNING: There are no validations of the ticket code \"5-RET\"\n",
      "WARNING: There are no validations of the ticket code \"5-WKRS\"\n",
      "WARNING: There are no validations of the ticket code \"6\"\n",
      "WARNING: There are no validations of the ticket code \"6-STUD\"\n",
      "WARNING: There are no validations of the ticket code \"6-RET\"\n",
      "WARNING: There are no validations of the ticket code \"6-WKRS\"\n",
      "The average length of the trajectories with the ticket code 7 is: 1.0209402798927836\n",
      "WARNING: There are no validations of the ticket code \"8\"\n"
     ]
    },
    {
     "data": {
      "image/png": "[encoded data removed]",
      "text/plain": [
       "<Figure size 2000x1000 with 1 Axes>"
      ]
     },
     "metadata": {},
     "output_type": "display_data"
    }
   ],
   "source": [
    "# Compute the average length of the trajectories\n",
    "average_lenght = average_length_of_trajectories(dict_trajectories)\n",
    "# Compute the average length of the trajectories by ticket code\n",
    "average_lenght_of_trajectories_per_ticket_code_stmp(df)\n",
    "# Plot the average length of the trajectories by ticket code\n",
    "average_length_of_trajectories_by_ticket_code_plot(dict_trajectories, df, 'data/dictionaries/dict_ticket_codes.json')"
   ]
  },
  {
   "attachments": {},
   "cell_type": "markdown",
   "metadata": {},
   "source": [
    "### Compute the average length of the trajectories with the dataset with the ticket code 1"
   ]
  },
  {
   "cell_type": "code",
   "execution_count": 16,
   "metadata": {},
   "outputs": [
    {
     "name": "stdout",
     "output_type": "stream",
     "text": [
      "The average length of the trajectories with the ticket code 1 is: 1.1584284343311713\n"
     ]
    }
   ],
   "source": [
    "# Create a dictionary with the trajectories of the users with the ticket code '2'\n",
    "df_sup = mf.focus_on_ticket_code(df,'1')\n",
    "# Create a dictionary with the trajectories of the users\n",
    "dict_trajectories = create_dictionary_with_trajectories(df_sup)\n",
    "# Compute the average length of the trajectories\n",
    "average_lenght = average_length_of_trajectories(dict_trajectories, is_focus_on_ticket_code=True, ticket_code='1')"
   ]
  },
  {
   "attachments": {},
   "cell_type": "markdown",
   "metadata": {},
   "source": [
    "### Find the most frequent trajectories with the entire dataset"
   ]
  },
  {
   "cell_type": "code",
   "execution_count": 17,
   "metadata": {},
   "outputs": [
    {
     "name": "stdout",
     "output_type": "stream",
     "text": [
      "The most frequent trajectories are:\n",
      "The trajectory ('SAN MARCO',) is present 49828 times\n",
      "The trajectory ('FERROVIA',) is present 25279 times\n",
      "The trajectory ('RIALTO',) is present 23231 times\n",
      "The trajectory ('P.LE ROMA',) is present 23053 times\n",
      "The trajectory ('BURANO',) is present 18729 times\n",
      "The trajectory ('VENEZIA',) is present 16681 times\n",
      "The trajectory ('LIDO',) is present 16435 times\n",
      "The trajectory ('MURANO',) is present 12077 times\n",
      "The trajectory ('F.TE NOVE',) is present 10808 times\n",
      "The trajectory ('PEOPLE MOVER',) is present 9738 times\n"
     ]
    }
   ],
   "source": [
    "# Create a dictionary with the trajectories of the users with the entire dataset\n",
    "dict_trajectories = create_dictionary_with_trajectories(df)\n",
    "# Find the most frequent trajectories and print the summary\n",
    "most_frequent_trajectories(dict_trajectories, summary=True)"
   ]
  },
  {
   "attachments": {},
   "cell_type": "markdown",
   "metadata": {},
   "source": [
    "### Find the most frequent trajectories with the dataset with a specified ticket code"
   ]
  },
  {
   "cell_type": "code",
   "execution_count": 18,
   "metadata": {},
   "outputs": [
    {
     "name": "stdout",
     "output_type": "stream",
     "text": [
      "The most frequent trajectories with the ticket code 1 are:\n",
      "The trajectory ('SAN MARCO',) is present 13302 times\n",
      "The trajectory ('BURANO',) is present 8678 times\n",
      "The trajectory ('FERROVIA',) is present 5988 times\n",
      "The trajectory ('RIALTO',) is present 5817 times\n",
      "The trajectory ('P.LE ROMA',) is present 5720 times\n",
      "The trajectory ('MURANO',) is present 5228 times\n",
      "The trajectory ('F.TE NOVE',) is present 4745 times\n",
      "The trajectory ('LIDO',) is present 3602 times\n",
      "The trajectory ('PUNTA SABBIO',) is present 3054 times\n",
      "The trajectory ('VENEZIA',) is present 1413 times\n"
     ]
    }
   ],
   "source": [
    "# Create a dictionary with the trajectories of the users with the ticket code '1'\n",
    "df_sup = mf.focus_on_ticket_code(df,'1')\n",
    "# Create a dictionary with the trajectories of the users with the ticket code '1'\n",
    "dict_trajectories = create_dictionary_with_trajectories(df_sup)\n",
    "# Find the most frequent trajectories with the ticket code '1' and print the summary\n",
    "most_frequent_trajectories(dict_trajectories, is_focus_on_ticket_code=True, ticket_code='1', summary=True)"
   ]
  },
  {
   "attachments": {},
   "cell_type": "markdown",
   "metadata": {},
   "source": [
    "### Finds the trajectories with at least k stations visited with the entire dataset"
   ]
  },
  {
   "cell_type": "code",
   "execution_count": 19,
   "metadata": {},
   "outputs": [
    {
     "name": "stdout",
     "output_type": "stream",
     "text": [
      "The trajectories with at least 6 stations visited are:\n",
      "The trajectory (\"SAN TOMA'\", 'LIDO', 'SAN MARCO', 'P.LE ROMA', 'BURANO', 'SAN SILVESTR') is present 1 times\n",
      "The trajectory ('SAN SILVESTR', \"CA' D'ORO\", 'SAN MARCO', 'GIGLIO', 'BURANO', 'SALUTE') is present 1 times\n",
      "The trajectory ('SAN MARCO', 'LIDO', 'RIALTO', 'S. MARCUOLA-', 'FERROVIA', 'GIUDECCA PAL') is present 1 times\n",
      "The trajectory ('ZATTERE', 'GIARDINI', 'ACCADEMIA', 'MURANO', 'LIDO', 'SAN MARCO') is present 1 times\n",
      "The trajectory ('RIALTO', 'CIMITERO', 'F.TE NOVE', 'LIDO', 'SAN MARCO', 'MURANO') is present 1 times\n",
      "The trajectory ('BURANO', \"CA' REZZONIC\", 'GIGLIO', 'MURANO', 'F.TE NOVE', 'GIUDECCA PAL', 'ZATTERE', 'S.ERASMO') is present 1 times\n",
      "The trajectory ('VENEZIA', 'FERROVIA', 'BURANO', 'P.LE ROMA', 'GALLO', 'MARCONI', 'SAN MARCO') is present 1 times\n",
      "The trajectory ('SANTA MARIA ', 'GIARDINI', 'CAPOLINEA', 'ANCONA', 'VENEZIA', 'SAN MARCO') is present 1 times\n",
      "The trajectory ('RIALTO', 'SAN MARCO', 'P.LE ROMA', 'MURANO', \"SANT' ANGELO\", 'SALUTE') is present 1 times\n",
      "The trajectory ('RIVA DE BIAS', 'F.TE NOVE', 'P.LE ROMA', 'LIDO', 'ZATTERE', 'SAN MARCO') is present 1 times\n",
      "The trajectory ('RIALTO', 'SANTA MARIA ', \"CA' D'ORO\", 'SAN MARCO', \"CA' REZZONIC\", \"D'ANNUNZIO\") is present 1 times\n",
      "The trajectory ('GIARDINI', 'VENEZIA', 'LIDO', 'ACCADEMIA', 'P.LE ROMA', 'TOSATTO') is present 1 times\n",
      "The trajectory ('S. MARCUOLA-', 'ACCADEMIA', 'RIALTO', 'BURANO', 'SAN MARCO', 'P.LE ROMA') is present 1 times\n",
      "The trajectory ('P.LE ROMA', 'STAZIONE MES', 'CHIOGGIA', 'VENEZIA', 'BURANO', 'F.TE NOVE') is present 1 times\n",
      "The trajectory ('VENEZIA', 'SAN MARCO', 'SALUTE', 'P.LE ROMA', 'MONTE', 'SAN GIORGIO', 'MURANO') is present 1 times\n",
      "The trajectory ('MURANO', 'RIALTO', 'BURANO', 'TRONCHETTO', 'SAN MARCO', 'SAN GIORGIO') is present 1 times\n",
      "The trajectory ('ZITELLE', 'RIALTO', 'SAN MARCO', 'MURANO', 'REDENTORE', 'BURANO') is present 1 times\n",
      "The trajectory ('VENEZIA', 'BURANO', \"CA' REZZONIC\", 'F.TE NOVE', \"CA' D'ORO\", 'AEROPORTO MA') is present 1 times\n",
      "The trajectory ('BURANO', 'ZATTERE', 'P.LE ROMA', 'AEROPORTO MA', 'VENEZIA', 'ORLANDA', 'RIALTO', 'REDENTORE') is present 1 times\n",
      "The trajectory ('RIZZARDI CAR', 'MESTRE CENTR', 'P.LE ROMA', 'SAN MARCO', 'MURANO', 'GALLO') is present 1 times\n",
      "The trajectory ('TREPORTI', 'MURANO', 'FERROVIA', \"CA' D'ORO\", 'P.LE ROMA', \"LIBERTA'\") is present 1 times\n",
      "The trajectory (\"SANT' ANGELO\", 'FERROVIA', 'SAN MARCO', 'ARSENALE', 'ZITELLE', 'GIARDINI') is present 1 times\n",
      "The trajectory ('TRONCHETTO', 'RIALTO', 'ZITELLE', 'P.LE ROMA', 'ZATTERE', 'SAN MARCO') is present 1 times\n",
      "The trajectory ('RIALTO', 'FERROVIA', 'BURANO', 'VENEZIA', 'MALCONTENTA ', 'P.LE ROMA') is present 1 times\n",
      "The trajectory ('SAN MARCO', 'RIALTO', 'BURANO', 'PUNTA SABBIO', 'MURANO', 'P.LE ROMA') is present 1 times\n",
      "The trajectory ('SAN MARCO', 'VENEZIA', 'ACCADEMIA', 'BURANO', \"SAN TOMA'\", 'P.LE ROMA') is present 1 times\n",
      "The trajectory ('GIARDINI', 'LIDO', 'SAN MARCO', 'BURANO', 'ORTO', 'GUGLIE') is present 1 times\n",
      "The trajectory (\"SAN NICOLO' \", 'ARSENALE', 'LIDO', 'P.LE ROMA', 'SAN MARCO', 'VENEZIA', 'SANTA MARIA ') is present 1 times\n",
      "The trajectory ('PUNTA SABBIO', 'SAN SILVESTR', 'BURANO', 'RIALTO', 'LIDO', 'F.TE NOVE', 'SAN MARCO') is present 1 times\n",
      "The trajectory ('SAN STAE', 'BURANO', 'ORLANDA', \"SANT' ANGELO\", 'F.TE NOVE', 'VENEZIA') is present 1 times\n",
      "The trajectory ('CORSO DEL PO', 'ORLANDA', 'SAN MARCO', 'CAPPUCCINA', 'MESTRE CENTR', 'PIAZZALE GIO') is present 1 times\n",
      "The trajectory ('LIDO', 'ZATTERE', 'MURANO', 'SANTA MARTA', 'CIMITERO', 'RIALTO', 'SAN MARCO') is present 1 times\n",
      "The trajectory ('ORTO', 'GIUDECCA PAL', 'CIMITERO', \"SANT' ANGELO\", 'SAN GIORGIO', 'RIVA DE BIAS', \"SAN TOMA'\") is present 1 times\n",
      "The trajectory ('SAN MARCO', 'F.TE NOVE', 'FERROVIA', 'BURANO', 'MURANO', 'SAN GIORGIO') is present 1 times\n",
      "The trajectory ('LIDO', 'GUGLIE', 'P.LE ROMA', \"CA' REZZONIC\", 'FERROVIA', 'GIGLIO', 'SAN MARCO') is present 1 times\n",
      "The trajectory ('P.LE ROMA', 'F.TE NOVE', 'LIDO', 'MIRANESE', 'BURANO', 'RIALTO', 'MURANO') is present 1 times\n",
      "The trajectory (\"CA' REZZONIC\", 'SAN SILVESTR', 'FERROVIA', \"SANT' ANGELO\", \"CA' D'ORO\", \"SAN TOMA'\", 'GUGLIE') is present 1 times\n",
      "The trajectory ('FERROVIA', 'MARCONI', \"SAN TOMA'\", 'ACCADEMIA', 'P.LE ROMA', 'MURANO') is present 1 times\n",
      "The trajectory ('BURANO', 'VENEZIA', 'LIDO', 'OLIVI', 'CAVALCAVIA V', 'STAZIONE MES', 'RIALTO') is present 1 times\n",
      "The trajectory ('SAN MARCO', 'GIARDINI', 'LIDO', 'ZATTERE', 'FERROVIA', 'SAN GIORGIO') is present 1 times\n",
      "The trajectory (\"SANT' ELENA\", 'RIALTO', 'SAN MARCO', 'FERROVIA', 'SAN STAE', 'SAN SILVESTR') is present 1 times\n",
      "The trajectory ('SAN MARCO', \"CA' REZZONIC\", 'ARSENALE', 'SALUTE', \"SAN TOMA'\", 'RIALTO', 'F.TE NOVE') is present 1 times\n",
      "The trajectory ('ORLANDA', 'VENEZIA', 'F.TE NOVE', 'SAN MARCO', 'P.LE ROMA', 'GIARDINI') is present 1 times\n",
      "The trajectory (\"SANT' ANGELO\", 'SAN STAE', 'RIALTO', 'P.LE ROMA', 'SAN SAMUELE', 'BURANO') is present 1 times\n",
      "The trajectory ('SAN BASILIO', 'SAN STAE', 'P.LE ROMA', 'CIRCONVALLAZ', 'TERRAGLIO', 'ILARIA ALPI ', 'PERTINI') is present 1 times\n",
      "The trajectory ('ORLANDA', 'MURANO', 'F.TE NOVE', 'GUGLIE', 'ZITELLE', 'BURANO') is present 1 times\n",
      "The trajectory ('F.TE NOVE', \"SAN TOMA'\", 'FERROVIA', 'SAN MARCO', 'RIALTO', 'ARSENALE') is present 1 times\n",
      "The trajectory ('BURANO', 'SAN MARCO', 'ARSENALE', \"SAN TOMA'\", 'SAN PIETRO', 'CELESTIA') is present 1 times\n",
      "The trajectory ('MURANO', \"SAN TOMA'\", 'P.LE ROMA', 'SAN MARCO', 'LIDO', 'SAN GIORGIO') is present 1 times\n",
      "The trajectory ('ACCADEMIA', 'S. MARCUOLA-', \"SAN TOMA'\", 'RIALTO', 'F.TE NOVE', 'ZATTERE') is present 1 times\n",
      "The trajectory ('GIUDECCA PAL', 'SAN GIORGIO', 'P.LE ROMA', 'ARSENALE', 'SAN BASILIO', 'BURANO') is present 1 times\n",
      "The trajectory (\"CA' REZZONIC\", 'RIALTO', 'VENEZIA', 'P.LE ROMA', 'LIDO', 'BURANO') is present 1 times\n",
      "The trajectory ('CORRENTI CAP', \"SANT'ANTONIO\", 'RINASCITA', 'SAN MARCO', 'VENEZIA', 'ORLANDA') is present 1 times\n",
      "The trajectory ('SAN SILVESTR', 'SALUTE', 'SAN STAE', 'GIUDECCA PAL', 'SAN MARCO', 'ZATTERE') is present 1 times\n",
      "The trajectory ('ARSENALE', 'GIUDECCA PAL', 'LIDO', 'SANTA MARIA ', 'ACCADEMIA', 'SAN GIORGIO') is present 1 times\n",
      "The trajectory (\"SANT' ALVISE\", \"SANT' ANGELO\", 'GIGLIO', 'RIALTO', \"CA' D'ORO\", 'FERROVIA', 'LIDO') is present 1 times\n",
      "The trajectory ('ILARIA ALPI ', 'GIARDINI', 'TOSATTO', 'BURANO', 'RIALTO', 'SAN BASILIO', 'VENEZIA') is present 1 times\n",
      "The trajectory ('VENEZIA', 'SAN MARCO', 'AEROPORTO MA', 'SAN GIORGIO', 'STAZIONE MES', 'MURANO') is present 1 times\n",
      "The trajectory ('BURANO', 'SALUTE', 'FERROVIA', 'ZATTERE', 'GIGLIO', 'ZITELLE') is present 1 times\n",
      "The trajectory ('BURANO', 'PUNTA SABBIO', 'SAN MARCO', 'MAZZORBO', \"CA' D'ORO\", 'GIARDINI') is present 1 times\n",
      "The trajectory ('SAN PIETRO', 'SAN SILVESTR', 'P.LE ROMA', 'BACINI - ARS', 'SAN MARCO', \"SAN TOMA'\") is present 1 times\n",
      "The trajectory ('ORLANDA', 'MURANO', 'GIARDINI', 'BURANO', 'F.TE NOVE', 'RIALTO') is present 1 times\n",
      "The trajectory ('LIDO', 'ALBERONI', 'SANTA MARIA ', 'GIUDECCA PAL', 'KLINGER', 'MURANO', 'SAN MARCO') is present 1 times\n",
      "The trajectory ('MESTRE CENTR', 'SALUTE', 'BURANO', 'ACCADEMIA', 'VENEZIA', 'SAN MARCO') is present 1 times\n",
      "The trajectory ('SAN BASILIO', 'GIARDINI', 'RIALTO', 'ACCADEMIA', 'P.LE ROMA', 'BURANO', 'LIDO') is present 1 times\n",
      "The trajectory (\"CA' D'ORO\", 'S.ERASMO', 'RIALTO', \"CA' REZZONIC\", 'PELLESTRINA', 'FERROVIA') is present 1 times\n",
      "The trajectory ('SAN GIORGIO', 'P.LE ROMA', \"SAN TOMA'\", 'RIALTO', 'SAN SERVOLO', 'GIUDECCA PAL') is present 1 times\n",
      "The trajectory ('ACCADEMIA', 'SAN MARCO', 'ZATTERE', 'GIUDECCA PAL', 'LIDO', 'GIARDINI', \"SANT' ELENA\") is present 1 times\n",
      "The trajectory ('TRONCHETTO', 'BURANO', 'ZATTERE', \"CA' D'ORO\", 'P.LE ROMA', 'SAN MARCO') is present 1 times\n",
      "The trajectory ('S. MARCUOLA-', 'RIALTO', 'BURANO', 'GIGLIO', 'RIVA DE BIAS', 'AEROPORTO MA') is present 1 times\n",
      "The trajectory ('RIVA DE BIAS', 'GIUDECCA PAL', 'GIARDINI', 'ACCADEMIA', 'SAN STAE', 'S. MARCUOLA-') is present 1 times\n",
      "The trajectory ('SAN MARCO', 'LIDO', 'ZATTERE', 'GIUDECCA PAL', 'REDENTORE', 'BURANO') is present 1 times\n",
      "The trajectory (\"SANT' ANGELO\", 'SAN MARCO', 'P.LE ROMA', 'SAN SILVESTR', 'SAN GIORGIO', 'LIDO') is present 1 times\n",
      "The trajectory ('GIARDINI', 'ZATTERE', 'AEROPORTO MA', 'ZITELLE', 'REDENTORE', 'P.LE ROMA') is present 1 times\n",
      "The trajectory ('GIUDECCA PAL', 'SAN MARCO', 'DON', 'VENEZIA', 'F.TE NOVE', \"SAN TOMA'\") is present 1 times\n",
      "The trajectory ('MESTRE CENTR', 'BURANO', 'MONTE', \"CA' D'ORO\", 'P.LE ROMA', \"SANT' ANGELO\") is present 1 times\n",
      "The trajectory ('GUGLIE', 'P.LE ROMA', 'RIALTO', 'SAN MARCO', 'LIDO', 'BURANO') is present 1 times\n",
      "The trajectory ('ORTO', 'MURANO', 'GIARDINI', 'GUGLIE', 'SAN MARCO', 'LIDO') is present 1 times\n",
      "The trajectory ('F.TE NOVE', \"CA' D'ORO\", 'RIALTO', 'FERROVIA', 'RIVA DE BIAS', 'S. MARCUOLA-') is present 1 times\n",
      "The trajectory ('P.LE ROMA', \"CA' D'ORO\", 'SAN MARCO', 'BURANO', 'RIALTO', 'S. MARCUOLA-', 'MURANO') is present 1 times\n",
      "The trajectory ('ACCADEMIA', 'ZITELLE', 'SAN SAMUELE', 'GIARDINI', 'SAN MARCO', 'LIDO', 'RIALTO', 'P.LE ROMA') is present 1 times\n",
      "The trajectory ('SANTA MARIA ', 'TRIESTINA', 'F.TE NOVE', \"SAN NICOLO'\", 'LIDO', 'BURANO', \"SANT' ELENA\") is present 1 times\n",
      "The trajectory ('P.LE ROMA', 'CAVALCAVIA V', 'VENEZIA', \"SANT' ELENA\", 'STAZIONE MES', 'ARSENALE') is present 1 times\n",
      "The trajectory ('SACCA FISOLA', 'FAVRETTI MES', 'TREPORTI', 'MURANO', 'PELLESTRINA', 'LIDO', 'CIMITERO', 'VENEZIA', 'SAN MARCO') is present 1 times\n",
      "The trajectory ('SAN MARCO', 'S.ERASMO', 'CIMITERO', 'MURANO', 'SAN GIORGIO', 'RIALTO') is present 1 times\n",
      "The trajectory ('RIALTO', 'P.LE ROMA', 'SANTA MARIA ', 'LIDO', \"CA' D'ORO\", 'CIMITERO') is present 1 times\n",
      "The trajectory ('P.LE ROMA', 'MONTE', 'LIDO', 'ZITELLE', 'CIMITERO', 'SAN MARCO') is present 1 times\n",
      "The trajectory ('RIALTO', 'RIVA DE BIAS', 'SALUTE', 'GIGLIO', 'P.LE ROMA', 'SAN MARCO') is present 1 times\n",
      "The trajectory ('F.TE NOVE', 'SAN MARCO', 'SALUTE', 'CELESTIA', \"SANT' ANGELO\", 'MURANO') is present 1 times\n",
      "The trajectory ('RIVA DE BIAS', 'SAN MARCO', \"SANT' ANGELO\", 'GIGLIO', 'P.LE ROMA', 'RIALTO') is present 1 times\n",
      "The trajectory ('SAN MARCO', 'ARSENALE', 'P.LE ROMA', 'BURANO', 'F.TE NOVE', 'GIGLIO') is present 1 times\n",
      "The trajectory ('ZATTERE', 'FERROVIA', 'GIARDINI', 'LIDO', 'TORCELLO', 'MURANO') is present 1 times\n",
      "The trajectory ('ALTINIA', \"LIBERTA'\", 'ORLANDA', 'P.LE ROMA', \"SANT' ELENA\", 'VENEZIA') is present 1 times\n",
      "The trajectory ('ACCADEMIA', 'F.TE NOVE', 'VENEZIA', 'GUGLIE', 'GIARDINI', 'P.LE ROMA') is present 1 times\n",
      "The trajectory ('CORRENTI CAP', 'CAFASSO BOTT', 'ACCADEMIA', 'SAN MARCO', 'RINASCITA', 'P.LE ROMA') is present 1 times\n",
      "The trajectory ('SAN MARCO', 'MURANO', 'SANTA MARIA ', 'LIDO', 'F.TE NOVE', 'GALLO') is present 1 times\n",
      "The trajectory ('MURANO', 'GIGLIO', 'ORTO', 'SAN DONA', 'ZITELLE', 'MESTRE CENTR') is present 1 times\n",
      "The trajectory ('ILARIA ALPI ', 'LIDO', 'RIALTO', 'BURANO', 'VENEZIA', 'SAN BASILIO') is present 1 times\n",
      "The trajectory (\"CA' REZZONIC\", 'ARSENALE', \"CA' D'ORO\", 'F.TE NOVE', 'RIALTO', 'FERROVIA') is present 1 times\n",
      "The trajectory ('SAN SILVESTR', 'GIARDINI', 'FERROVIA', 'P.LE ROMA', 'RIALTO', 'SAN MARCO') is present 1 times\n",
      "The trajectory ('SAN MARCO', 'GUGLIE', 'ZITELLE', 'SAN GIORGIO', 'RIALTO', 'LIDO') is present 1 times\n",
      "The trajectory ('S. MARCUOLA-', 'SAN STAE', 'VENEZIA', 'F.TE NOVE', 'SAN MARCO', 'ZITELLE') is present 1 times\n",
      "The trajectory ('SAN STAE', 'SAN PIETRO', \"CA' D'ORO\", 'GIUDECCA PAL', 'BURANO', 'TRE ARCHI') is present 1 times\n",
      "The trajectory (\"CA' D'ORO\", 'SALUTE', \"SANT' ANGELO\", 'SAN MARCO', \"SAN TOMA'\", 'BURANO') is present 1 times\n",
      "The trajectory ('S. MARCUOLA-', 'ZATTERE', 'LIDO', 'SAN MARCO', 'REDENTORE', 'ACCADEMIA') is present 1 times\n",
      "The trajectory (\"CA' REZZONIC\", 'BURANO', 'SAN MARCO', 'VENEZIA', 'RIZZARDI CAR', 'FERROVIA') is present 1 times\n",
      "The trajectory ('ARSENALE', 'RIALTO', 'TREPORTI', 'OSPEDALE', 'SAN SILVESTR', 'BURANO') is present 1 times\n",
      "The trajectory ('SAN MARCO', 'LIDO', 'TRONCHETTO', \"SAN TOMA'\", \"SANT' ELENA\", 'SAN GIORGIO') is present 1 times\n",
      "The trajectory ('MIRANESE', 'MURANO', \"SAN TOMA'\", 'SAN GIORGIO', 'RIALTO', 'P.LE ROMA') is present 1 times\n"
     ]
    }
   ],
   "source": [
    "# Create a dictionary with the trajectories of the users with the entire dataset\n",
    "dict_trajectories = create_dictionary_with_trajectories(df)\n",
    "# Find the trajectories with at least 6 stations visited\n",
    "trajectories_with_at_least_k_stations(dict_trajectories, 6)"
   ]
  },
  {
   "attachments": {},
   "cell_type": "markdown",
   "metadata": {},
   "source": [
    "### Find the most frequent trajectories with the dataset with a specified ticket code\n"
   ]
  },
  {
   "cell_type": "code",
   "execution_count": 20,
   "metadata": {},
   "outputs": [
    {
     "name": "stdout",
     "output_type": "stream",
     "text": [
      "The trajectories with at least 20 stations visited are:\n"
     ]
    }
   ],
   "source": [
    "# Create a dictionary with the trajectories of the users with the ticket code '1'\n",
    "df_sup = mf.focus_on_ticket_code(df,'1')\n",
    "# Create a dictionary with the trajectories of the users with the ticket code '1'\n",
    "dict_trajectories = create_dictionary_with_trajectories(df_sup)\n",
    "# Find the trajectories with at least 20 stations visited with the ticket code '1'\n",
    "trajectories_with_at_least_k_stations(dict_trajectories, 20)"
   ]
  },
  {
   "attachments": {},
   "cell_type": "markdown",
   "metadata": {},
   "source": [
    "### Longest Common Subsequence (LCS)"
   ]
  },
  {
   "cell_type": "code",
   "execution_count": 21,
   "metadata": {},
   "outputs": [
    {
     "name": "stdout",
     "output_type": "stream",
     "text": [
      "The Longest Common Subsequence (LCS) between the trajectories ['SAN MARCO', 'P.LE ROMA', 'RIALTO', 'PUNTA SABBIO', 'BURANO'] and ['SAN MARCO', 'P.LE ROMA', 'PUNTA SABBIO', 'BURANO'] is ['SAN MARCO', 'P.LE ROMA', 'PUNTA SABBIO', 'BURANO']\n"
     ]
    }
   ],
   "source": [
    "# Find the Longest Common Subsequence (LCS) between two trajectories\n",
    "trajectory_1 = ['SAN MARCO', 'P.LE ROMA', 'RIALTO', 'PUNTA SABBIO', 'BURANO']\n",
    "trajectory_2 = ['SAN MARCO', 'P.LE ROMA', 'PUNTA SABBIO', 'BURANO']\n",
    "\n",
    "lcs = longest_common_subsequence(trajectory_1, trajectory_2)\n",
    "print('The Longest Common Subsequence (LCS) between the trajectories {} and {} is {}'.format(trajectory_1, trajectory_2, lcs))"
   ]
  },
  {
   "cell_type": "code",
   "execution_count": 22,
   "metadata": {},
   "outputs": [
    {
     "name": "stdout",
     "output_type": "stream",
     "text": [
      "The Longest Common Subsequence (LCS) between the trajectory ('PUNTA SABBIO',) and the trajectory ('SAN MARCO',) is []\n"
     ]
    }
   ],
   "source": [
    "# Find the Longest Common Subsequence (LCS) between two trajectories\n",
    "# Trajectory 1 is the trajectory of the dataset with the ticket code 1\n",
    "# Trajectory 2 is the most frequent trajectory of the dataset with the ticket code 2\n",
    "df_sup = mf.focus_on_ticket_code(df,'1')\n",
    "dict_trajectories = create_dictionary_with_trajectories(df_sup)\n",
    "dict_trajectories_number = most_frequent_trajectories(dict_trajectories, is_focus_on_ticket_code=True, ticket_code='1', summary=False)\n",
    "trajectory_1 = list(dict_trajectories_number.keys())[8]\n",
    "\n",
    "df_sup = mf.focus_on_ticket_code(df,'2')\n",
    "dict_trajectories = create_dictionary_with_trajectories(df_sup)\n",
    "dict_trajectories_number = most_frequent_trajectories(dict_trajectories, is_focus_on_ticket_code=True, ticket_code='2', summary=False)\n",
    "trajectory_2 = list(dict_trajectories_number.keys())[0]\n",
    "\n",
    "lcs = longest_common_subsequence(trajectory_1, trajectory_2)\n",
    "print('The Longest Common Subsequence (LCS) between the trajectory {} and the trajectory {} is {}'.format(trajectory_1, trajectory_2, lcs))"
   ]
  },
  {
   "attachments": {},
   "cell_type": "markdown",
   "metadata": {},
   "source": [
    "_____"
   ]
  },
  {
   "cell_type": "code",
   "execution_count": 23,
   "metadata": {},
   "outputs": [],
   "source": [
    "def compare_trajectories (trajectory_1: dict, trajectory_2: dict) -> int:\n",
    "    \"\"\"\n",
    "        This function compares two trajectories and returns the number of stations visited in common.\n",
    "        :param trajectory_1: the first trajectory\n",
    "        :param trajectory_2: the second trajectory\n",
    "        :return: the number of stations visited in common\n",
    "    \"\"\"\n",
    "    # Find the LCS\n",
    "    lcs = longest_common_subsequence(trajectory_1, trajectory_2)\n",
    "\n",
    "    # Find the number of stations visited in common\n",
    "    number_of_stations_visited_in_common = len(lcs)\n",
    "    \n",
    "    return number_of_stations_visited_in_common"
   ]
  },
  {
   "cell_type": "code",
   "execution_count": 24,
   "metadata": {},
   "outputs": [
    {
     "ename": "KeyError",
     "evalue": "0",
     "output_type": "error",
     "traceback": [
      "\u001b[0;31m---------------------------------------------------------------------------\u001b[0m",
      "\u001b[0;31mKeyError\u001b[0m                                  Traceback (most recent call last)",
      "Cell \u001b[0;32mIn[24], line 18\u001b[0m\n\u001b[1;32m     15\u001b[0m most_trj_2 \u001b[39m=\u001b[39m most_frequent_trajectories(dict_trajectories_2, is_focus_on_ticket_code\u001b[39m=\u001b[39m\u001b[39mTrue\u001b[39;00m, ticket_code\u001b[39m=\u001b[39m\u001b[39m'\u001b[39m\u001b[39m2\u001b[39m\u001b[39m'\u001b[39m, summary\u001b[39m=\u001b[39m\u001b[39mFalse\u001b[39;00m)\n\u001b[1;32m     17\u001b[0m \u001b[39m# Compare the trajectories of the users with the ticket code '1' and '2'\u001b[39;00m\n\u001b[0;32m---> 18\u001b[0m compare_trajectories(most_trj_1, most_trj_2)\n",
      "Cell \u001b[0;32mIn[23], line 9\u001b[0m, in \u001b[0;36mcompare_trajectories\u001b[0;34m(trajectory_1, trajectory_2)\u001b[0m\n\u001b[1;32m      2\u001b[0m \u001b[39m\u001b[39m\u001b[39m\"\"\"\u001b[39;00m\n\u001b[1;32m      3\u001b[0m \u001b[39m    This function compares two trajectories and returns the number of stations visited in common.\u001b[39;00m\n\u001b[1;32m      4\u001b[0m \u001b[39m    :param trajectory_1: the first trajectory\u001b[39;00m\n\u001b[1;32m      5\u001b[0m \u001b[39m    :param trajectory_2: the second trajectory\u001b[39;00m\n\u001b[1;32m      6\u001b[0m \u001b[39m    :return: the number of stations visited in common\u001b[39;00m\n\u001b[1;32m      7\u001b[0m \u001b[39m\"\"\"\u001b[39;00m\n\u001b[1;32m      8\u001b[0m \u001b[39m# Find the LCS\u001b[39;00m\n\u001b[0;32m----> 9\u001b[0m lcs \u001b[39m=\u001b[39m longest_common_subsequence(trajectory_1, trajectory_2)\n\u001b[1;32m     11\u001b[0m \u001b[39m# Find the number of stations visited in common\u001b[39;00m\n\u001b[1;32m     12\u001b[0m number_of_stations_visited_in_common \u001b[39m=\u001b[39m \u001b[39mlen\u001b[39m(lcs)\n",
      "Cell \u001b[0;32mIn[13], line 13\u001b[0m, in \u001b[0;36mlongest_common_subsequence\u001b[0;34m(trajectory_1, trajectory_2)\u001b[0m\n\u001b[1;32m     11\u001b[0m \u001b[39mfor\u001b[39;00m i \u001b[39min\u001b[39;00m \u001b[39mrange\u001b[39m(\u001b[39m1\u001b[39m, \u001b[39mlen\u001b[39m(trajectory_1) \u001b[39m+\u001b[39m \u001b[39m1\u001b[39m):\n\u001b[1;32m     12\u001b[0m     \u001b[39mfor\u001b[39;00m j \u001b[39min\u001b[39;00m \u001b[39mrange\u001b[39m(\u001b[39m1\u001b[39m, \u001b[39mlen\u001b[39m(trajectory_2) \u001b[39m+\u001b[39m \u001b[39m1\u001b[39m):\n\u001b[0;32m---> 13\u001b[0m         \u001b[39mif\u001b[39;00m trajectory_1[i \u001b[39m-\u001b[39;49m \u001b[39m1\u001b[39;49m] \u001b[39m==\u001b[39m trajectory_2[j \u001b[39m-\u001b[39m \u001b[39m1\u001b[39m]:\n\u001b[1;32m     14\u001b[0m             matrix[i][j] \u001b[39m=\u001b[39m matrix[i \u001b[39m-\u001b[39m \u001b[39m1\u001b[39m][j \u001b[39m-\u001b[39m \u001b[39m1\u001b[39m] \u001b[39m+\u001b[39m \u001b[39m1\u001b[39m\n\u001b[1;32m     15\u001b[0m         \u001b[39melse\u001b[39;00m:\n",
      "\u001b[0;31mKeyError\u001b[0m: 0"
     ]
    }
   ],
   "source": [
    "# Compare the trajectories of the users with the ticket code '1' and '2' \n",
    "\n",
    "# Create a dictionary with the trajectories of the users with the ticket code '1'\n",
    "df_sup = mf.focus_on_ticket_code(df,'1')\n",
    "dict_trajectories_1 = create_dictionary_with_trajectories(df_sup)\n",
    "\n",
    "# Create a dictionary with the trajectories of the users with the ticket code '2'\n",
    "df_sup = mf.focus_on_ticket_code(df,'2')\n",
    "dict_trajectories_2 = create_dictionary_with_trajectories(df_sup)\n",
    "\n",
    "# Find the most frequent trajectories with the ticket code '1' and print the summary\n",
    "most_trj_1 = most_frequent_trajectories(dict_trajectories_1, is_focus_on_ticket_code=True, ticket_code='1', summary=False)\n",
    "\n",
    "# Find the most frequent trajectories with the ticket code '2' and print the summary\n",
    "most_trj_2 = most_frequent_trajectories(dict_trajectories_2, is_focus_on_ticket_code=True, ticket_code='2', summary=False)\n",
    "\n",
    "# Compare the trajectories of the users with the ticket code '1' and '2'\n",
    "compare_trajectories(most_trj_1, most_trj_2)\n"
   ]
  }
 ],
 "metadata": {
  "kernelspec": {
   "display_name": "Python 3",
   "language": "python",
   "name": "python3"
  },
  "language_info": {
   "codemirror_mode": {
    "name": "ipython",
    "version": 3
   },
   "file_extension": ".py",
   "mimetype": "text/x-python",
   "name": "python",
   "nbconvert_exporter": "python",
   "pygments_lexer": "ipython3",
   "version": "3.11.2"
  },
  "orig_nbformat": 4,
  "vscode": {
   "interpreter": {
    "hash": "aee8b7b246df8f9039afb4144a1f6fd8d2ca17a180786b69acc140d282b71a49"
   }
  }
 },
 "nbformat": 4,
 "nbformat_minor": 2
}
