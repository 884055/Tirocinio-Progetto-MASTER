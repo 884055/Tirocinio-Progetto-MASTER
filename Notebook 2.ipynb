{
 "cells": [
  {
   "attachments": {},
   "cell_type": "markdown",
   "metadata": {},
   "source": [
    "# MASTER - Notebook 2\n",
    "### Matteo Grazioso 884055"
   ]
  },
  {
   "cell_type": "code",
   "execution_count": 1,
   "metadata": {
    "ExecuteTime": {
     "start_time": "2023-04-29T17:34:04.778560Z",
     "end_time": "2023-04-29T17:34:04.784184Z"
    }
   },
   "outputs": [],
   "source": [
    "# Import libraries\n",
    "import pandas as pd\n",
    "import numpy as np\n",
    "import matplotlib.pyplot as plt\n",
    "import seaborn as sns\n",
    "import matplotlib.dates as mdates\n",
    "from datetime import datetime\n",
    "import json\n",
    "import warnings\n",
    "warnings.filterwarnings('ignore')\n",
    "\n",
    "import myfunctions as mf # Custom functions"
   ]
  },
  {
   "cell_type": "code",
   "execution_count": 2,
   "metadata": {
    "ExecuteTime": {
     "start_time": "2023-04-29T17:34:04.780096Z",
     "end_time": "2023-04-29T17:34:04.889433Z"
    }
   },
   "outputs": [],
   "source": [
    "# Disply all columns and all rows\n",
    "pd.set_option('display.max_columns', None)\n",
    "pd.set_option('display.max_rows', None)"
   ]
  },
  {
   "cell_type": "code",
   "execution_count": 3,
   "metadata": {
    "ExecuteTime": {
     "start_time": "2023-04-29T17:34:04.893219Z",
     "end_time": "2023-04-29T17:34:16.880283Z"
    }
   },
   "outputs": [],
   "source": [
    "# The file contains the data of the validation of tickets in the city of public transport of Venice.\n",
    "# The file has been created by the Notebook 1.ipynb\n",
    "\n",
    "# Import the data into a dataframe of a txt file\n",
    "# path = 'data/processed/dataset_cleaned_validazioni.txt'\n",
    "path = 'data/processed/dataset_cleaned_esportazioneCompleta.txt'\n",
    "\n",
    "df = pd.read_csv(path, header=0, sep='\\t')\n",
    "\n",
    "# Save the name of the file in a variable for future use extracting the name of the file from the path\n",
    "file_name = path.split('_')[-1].split('.')[0]\n",
    "\n",
    "# Display the first 5 rows of the dataframe\n",
    "df.head()\n",
    "\n",
    "# Convert the column 'DATA' to datetime format\n",
    "df['DATA'] = pd.to_datetime(df['DATA'], format='%Y-%m-%d')"
   ]
  },
  {
   "cell_type": "code",
   "execution_count": 4,
   "metadata": {
    "ExecuteTime": {
     "start_time": "2023-04-29T17:34:16.873276Z",
     "end_time": "2023-04-29T17:34:16.887078Z"
    }
   },
   "outputs": [],
   "source": [
    "# First 10% of the dataframe\n",
    "# df = df.iloc[:int(len(df)*0.1)]"
   ]
  },
  {
   "cell_type": "code",
   "execution_count": 5,
   "metadata": {
    "ExecuteTime": {
     "start_time": "2023-04-29T17:33:45.219938Z",
     "end_time": "2023-04-29T17:34:16.891865Z"
    }
   },
   "outputs": [
    {
     "data": {
      "text/plain": "        DATA       ORA     DATA_VALIDAZIONE            SERIALE  FERMATA  \\\n0 2023-01-13  00:00:00  2023-01-13 00:00:00  40834866809772548      162   \n1 2023-01-13  00:00:00  2023-01-13 00:00:00        -3604990320     5049   \n2 2023-01-13  00:00:00  2023-01-13 00:00:00        -2824230951     5043   \n3 2023-01-13  00:00:00  2023-01-13 00:00:00  40552750134805252     5013   \n4 2023-01-13  00:01:00  2023-01-13 00:01:00        -3604964420     6084   \n\n    DESCRIZIONE  TITOLO TICKET_CODE            DESCRIZIONE_TITOLO  \n0  STAZIONE MES   12101           7   BIGL.AUT.75'MESTRE/LIDO-TSC  \n1       ZATTERE   23301      5-STUD      MENS.STUDENTE RETE UNICA  \n2  S. TOMA' \"B\"   23303      6-STUD  ABB STUD. RETEUNICA 12 MESI   \n3  S. MARCO-SAN   11101           7        75'-TPL 8,64-COMVE0,86  \n4       VENEZIA   11209           7           BIGL RETE UNICA 75'  ",
      "text/html": "<div>\n<style scoped>\n    .dataframe tbody tr th:only-of-type {\n        vertical-align: middle;\n    }\n\n    .dataframe tbody tr th {\n        vertical-align: top;\n    }\n\n    .dataframe thead th {\n        text-align: right;\n    }\n</style>\n<table border=\"1\" class=\"dataframe\">\n  <thead>\n    <tr style=\"text-align: right;\">\n      <th></th>\n      <th>DATA</th>\n      <th>ORA</th>\n      <th>DATA_VALIDAZIONE</th>\n      <th>SERIALE</th>\n      <th>FERMATA</th>\n      <th>DESCRIZIONE</th>\n      <th>TITOLO</th>\n      <th>TICKET_CODE</th>\n      <th>DESCRIZIONE_TITOLO</th>\n    </tr>\n  </thead>\n  <tbody>\n    <tr>\n      <th>0</th>\n      <td>2023-01-13</td>\n      <td>00:00:00</td>\n      <td>2023-01-13 00:00:00</td>\n      <td>40834866809772548</td>\n      <td>162</td>\n      <td>STAZIONE MES</td>\n      <td>12101</td>\n      <td>7</td>\n      <td>BIGL.AUT.75'MESTRE/LIDO-TSC</td>\n    </tr>\n    <tr>\n      <th>1</th>\n      <td>2023-01-13</td>\n      <td>00:00:00</td>\n      <td>2023-01-13 00:00:00</td>\n      <td>-3604990320</td>\n      <td>5049</td>\n      <td>ZATTERE</td>\n      <td>23301</td>\n      <td>5-STUD</td>\n      <td>MENS.STUDENTE RETE UNICA</td>\n    </tr>\n    <tr>\n      <th>2</th>\n      <td>2023-01-13</td>\n      <td>00:00:00</td>\n      <td>2023-01-13 00:00:00</td>\n      <td>-2824230951</td>\n      <td>5043</td>\n      <td>S. TOMA' \"B\"</td>\n      <td>23303</td>\n      <td>6-STUD</td>\n      <td>ABB STUD. RETEUNICA 12 MESI</td>\n    </tr>\n    <tr>\n      <th>3</th>\n      <td>2023-01-13</td>\n      <td>00:00:00</td>\n      <td>2023-01-13 00:00:00</td>\n      <td>40552750134805252</td>\n      <td>5013</td>\n      <td>S. MARCO-SAN</td>\n      <td>11101</td>\n      <td>7</td>\n      <td>75'-TPL 8,64-COMVE0,86</td>\n    </tr>\n    <tr>\n      <th>4</th>\n      <td>2023-01-13</td>\n      <td>00:01:00</td>\n      <td>2023-01-13 00:01:00</td>\n      <td>-3604964420</td>\n      <td>6084</td>\n      <td>VENEZIA</td>\n      <td>11209</td>\n      <td>7</td>\n      <td>BIGL RETE UNICA 75'</td>\n    </tr>\n  </tbody>\n</table>\n</div>"
     },
     "execution_count": 5,
     "metadata": {},
     "output_type": "execute_result"
    }
   ],
   "source": [
    "df.head()"
   ]
  },
  {
   "cell_type": "code",
   "execution_count": 6,
   "metadata": {
    "ExecuteTime": {
     "start_time": "2023-04-29T17:33:45.220117Z",
     "end_time": "2023-04-29T17:34:16.896334Z"
    }
   },
   "outputs": [
    {
     "data": {
      "text/plain": "              DATA       ORA     DATA_VALIDAZIONE     SERIALE  FERMATA  \\\n4947456 2023-03-14  23:58:00  2023-03-14 23:58:00 -2864643315      162   \n4947457 2023-03-14  23:58:00  2023-03-14 23:58:00 -2854956628     5026   \n4947458 2023-03-14  23:59:00  2023-03-14 23:59:00 -2850025054      384   \n4947459 2023-03-14  23:59:00  2023-03-14 23:59:00 -2824225710     5024   \n4947460 2023-03-14  23:59:00  2023-03-14 23:59:00 -3604916033     5039   \n\n          DESCRIZIONE  TITOLO TICKET_CODE            DESCRIZIONE_TITOLO  \n4947456  STAZIONE MES   11209           7           BIGL RETE UNICA 75'  \n4947457    TRONCHETTO   11209           7           BIGL RETE UNICA 75'  \n4947458        MESTRE   23101           5  MENSILE ORDINARIO RETE UNICA  \n4947459    TRONCHETTO   23101           5  MENSILE ORDINARIO RETE UNICA  \n4947460        RIALTO   23101           5  MENSILE ORDINARIO RETE UNICA  ",
      "text/html": "<div>\n<style scoped>\n    .dataframe tbody tr th:only-of-type {\n        vertical-align: middle;\n    }\n\n    .dataframe tbody tr th {\n        vertical-align: top;\n    }\n\n    .dataframe thead th {\n        text-align: right;\n    }\n</style>\n<table border=\"1\" class=\"dataframe\">\n  <thead>\n    <tr style=\"text-align: right;\">\n      <th></th>\n      <th>DATA</th>\n      <th>ORA</th>\n      <th>DATA_VALIDAZIONE</th>\n      <th>SERIALE</th>\n      <th>FERMATA</th>\n      <th>DESCRIZIONE</th>\n      <th>TITOLO</th>\n      <th>TICKET_CODE</th>\n      <th>DESCRIZIONE_TITOLO</th>\n    </tr>\n  </thead>\n  <tbody>\n    <tr>\n      <th>4947456</th>\n      <td>2023-03-14</td>\n      <td>23:58:00</td>\n      <td>2023-03-14 23:58:00</td>\n      <td>-2864643315</td>\n      <td>162</td>\n      <td>STAZIONE MES</td>\n      <td>11209</td>\n      <td>7</td>\n      <td>BIGL RETE UNICA 75'</td>\n    </tr>\n    <tr>\n      <th>4947457</th>\n      <td>2023-03-14</td>\n      <td>23:58:00</td>\n      <td>2023-03-14 23:58:00</td>\n      <td>-2854956628</td>\n      <td>5026</td>\n      <td>TRONCHETTO</td>\n      <td>11209</td>\n      <td>7</td>\n      <td>BIGL RETE UNICA 75'</td>\n    </tr>\n    <tr>\n      <th>4947458</th>\n      <td>2023-03-14</td>\n      <td>23:59:00</td>\n      <td>2023-03-14 23:59:00</td>\n      <td>-2850025054</td>\n      <td>384</td>\n      <td>MESTRE</td>\n      <td>23101</td>\n      <td>5</td>\n      <td>MENSILE ORDINARIO RETE UNICA</td>\n    </tr>\n    <tr>\n      <th>4947459</th>\n      <td>2023-03-14</td>\n      <td>23:59:00</td>\n      <td>2023-03-14 23:59:00</td>\n      <td>-2824225710</td>\n      <td>5024</td>\n      <td>TRONCHETTO</td>\n      <td>23101</td>\n      <td>5</td>\n      <td>MENSILE ORDINARIO RETE UNICA</td>\n    </tr>\n    <tr>\n      <th>4947460</th>\n      <td>2023-03-14</td>\n      <td>23:59:00</td>\n      <td>2023-03-14 23:59:00</td>\n      <td>-3604916033</td>\n      <td>5039</td>\n      <td>RIALTO</td>\n      <td>23101</td>\n      <td>5</td>\n      <td>MENSILE ORDINARIO RETE UNICA</td>\n    </tr>\n  </tbody>\n</table>\n</div>"
     },
     "execution_count": 6,
     "metadata": {},
     "output_type": "execute_result"
    }
   ],
   "source": [
    "df.tail()"
   ]
  },
  {
   "attachments": {},
   "cell_type": "markdown",
   "metadata": {},
   "source": [
    "---------\n"
   ]
  },
  {
   "attachments": {},
   "cell_type": "markdown",
   "metadata": {},
   "source": [
    "## Trajectories"
   ]
  },
  {
   "attachments": {},
   "cell_type": "markdown",
   "metadata": {},
   "source": [
    "We are interested in analyzing the trajectories of the users that use the public transport in the city of Venice.\n",
    "\n",
    "Note that the stops are identified by the *DESCRIZIONE* column that contains the name of the stop, so each trajectory \n",
    "is composed by the name of the stops visited by the user, so a trajectory is composed by a sequence of strings."
   ]
  },
  {
   "cell_type": "code",
   "execution_count": 7,
   "metadata": {
    "ExecuteTime": {
     "start_time": "2023-04-29T17:33:45.316569Z",
     "end_time": "2023-04-29T17:34:16.901120Z"
    }
   },
   "outputs": [],
   "source": [
    "def create_dictionary_with_trajectories(df: pd.DataFrame) -> dict[str, datetime]:\n",
    "    \"\"\"\n",
    "        This function creates a dictionary with the trajectories of the users.\n",
    "        :param df: the dataframe\n",
    "        :return: the dictionary with the trajectories of the users with the key (serial, day). \n",
    "            Notice: if the serial is the same for all the days the key is (serial, None)\n",
    "    \"\"\"\n",
    "    # Create a dictionary with the trajectories of the users\n",
    "    dict_trajectories = {}\n",
    "    # For each user\n",
    "    for serial in df['SERIALE'].unique():\n",
    "        # NOTICE: the serial of ticket code 5, 5-STUD, 5-RET, 5-WKRS and the same with 6, change every day,\n",
    "        # so the user is not the same, but the user is the same for the same day\n",
    "        \n",
    "        # Select only the rows of the specified user\n",
    "        df_sup = df[df['SERIALE'] == serial].sort_values(by=['DATA', 'ORA'])\n",
    "\n",
    "        # Create a list with the trajectories of the user\n",
    "        list_trajectories = []\n",
    "        \n",
    "        # If the ticket code is 5, 5-STUD, 5-RET, 5-WKRS or 6, 6-STUD, 6-RET, 6-WKRS create a list with the trajectories \n",
    "        # for each day and for each serial\n",
    "        if df_sup['TICKET_CODE'].unique()[0] in ['5', '5-STUD', '5-RET', '5-WKRS', '6', '6-STUD', '6-RET', '6-WKRS']:\n",
    "            # print('Ticket code: {}'.format(df_sup['TICKET_CODE'].unique()[0]))\n",
    "            # For each day\n",
    "            for day in df_sup['DATA']:\n",
    "                # Select only the rows of the specified day\n",
    "                df_sup_sup = df_sup[df_sup['DATA'] == day]\n",
    "                # For each serial\n",
    "                for serial in df_sup_sup['SERIALE'].unique():\n",
    "                    # Reset list_trajectories\n",
    "                    list_trajectories = []\n",
    "                    # Select only the rows of the specified serial\n",
    "                    df_sup_sup_sup = df_sup_sup[df_sup_sup['SERIALE'] == serial]\n",
    "                    # Create a list with the trajectories of the user\n",
    "                    list_stop = df_sup_sup_sup['DESCRIZIONE'].tolist()\n",
    "                    # Append the list to the list of the trajectories\n",
    "                    list_trajectories.append(list_stop)\n",
    "                    # Insert the list of the trajectories in the dictionary with the key (serial, day)\n",
    "                    dict_trajectories[serial, day] = list_trajectories\n",
    "        else:\n",
    "            # Create a list with the trajectories of the user\n",
    "            list_stop = df_sup['DESCRIZIONE'].tolist()\n",
    "            list_trajectories.append(list_stop)\n",
    "            # If the serial is already in the dictionary print a warning\n",
    "            if (serial, None) in dict_trajectories:\n",
    "                print('Warning: the serial {} is already in the dictionary'.format(serial))\n",
    "                # launch an exception\n",
    "                raise Exception('The serial {} is already in the dictionary'.format(serial))\n",
    "            # Insert the list of the trajectories in the dictionary with the key (serial, None)\n",
    "            # None means that the serial is the same for all the days\n",
    "            dict_trajectories[serial, None] = list_trajectories\n",
    "\n",
    "    return dict_trajectories"
   ]
  },
  {
   "cell_type": "code",
   "execution_count": 8,
   "metadata": {
    "ExecuteTime": {
     "start_time": "2023-04-29T17:33:45.316803Z",
     "end_time": "2023-04-29T17:34:16.912240Z"
    }
   },
   "outputs": [],
   "source": [
    "def average_length_of_trajectories(dict_trajectories: dict, is_focus_on_ticket_code: bool = False, ticket_code: str = '') -> float:\n",
    "    \"\"\"\n",
    "        This function computes the average length of the trajectories.\n",
    "        This function can receive a dictionary with the trajectories related to a specific ticket code: in this case the function prints this information.\n",
    "        :param dict_trajectories: the dictionary with the trajectories of the users with the key (serial, day) or (serial, None)\n",
    "        :return: the average length of the trajectories \n",
    "    \"\"\"\n",
    "    # Notice that the key of the dictionary is a tuple (serial, day)\n",
    "    # Compute the average length of the trajectories\n",
    "    average_length = 0\n",
    "    for chiave in dict_trajectories.keys():\n",
    "        if chiave[1] is not None:\n",
    "            average_length += len(dict_trajectories[chiave][0])\n",
    "        else:\n",
    "            average_length += len(dict_trajectories[chiave][0])\n",
    "    if len(dict_trajectories.keys()) != 0:\n",
    "        average_length /= len(dict_trajectories.keys())\n",
    "        if is_focus_on_ticket_code:\n",
    "            # Round the average length to 4 decimal places\n",
    "            average_length = round(average_length, 4)\n",
    "            print('The average length of the trajectories with the ticket code {} is: {}'.format(ticket_code, average_length))\n",
    "        else:\n",
    "            print('The average length of the trajectories is: {}'.format(average_length))\n",
    "    else:\n",
    "        print('WARNING: There are no trajectories to analyze')\n",
    "    \n",
    "    # Print also the number of users and the number of trajectories\n",
    "    print('The number of trajectories is: {}'.format(len(dict_trajectories.keys())))\n",
    "\n",
    "    return average_length"
   ]
  },
  {
   "cell_type": "code",
   "execution_count": 9,
   "metadata": {
    "ExecuteTime": {
     "start_time": "2023-04-29T17:34:16.958341Z",
     "end_time": "2023-04-29T17:34:16.971725Z"
    }
   },
   "outputs": [],
   "source": [
    "def average_lenght_of_trajectories_per_ticket_code_stmp(df: pd.DataFrame):\n",
    "    \"\"\"\n",
    "        This function computes the average length of the trajectories for each ticket code in the dataset.\n",
    "        The order of the ticket codes is mantained because the ticket codes are stored in the dictionary \"dict_ticket_codes.json\".\n",
    "        :param df: the dataframe\n",
    "        :return: None\n",
    "    \"\"\"\n",
    "    dict_trajectories = {}\n",
    "    dict_ticket_codes = mf.open_dict_ticket_codes()\n",
    "\n",
    "    # For each ticket code in the dictionary\n",
    "    for ticket_code in dict_ticket_codes.keys():\n",
    "        # Select only the rows of the specified ticket code\n",
    "        df_sup = mf.focus_on_ticket_code(df, ticket_code)\n",
    "        \n",
    "        # If the dataframe is not empty, focus on the ticket code\n",
    "        if df_sup.shape[0] != 0:\n",
    "            # Create a dictionary with the trajectories of the users\n",
    "            dict_trajectories[ticket_code] = create_dictionary_with_trajectories(df_sup)\n",
    "            average_length_of_trajectories(dict_trajectories[ticket_code], is_focus_on_ticket_code=True, ticket_code=ticket_code)\n",
    "        else:\n",
    "            # If the dataframe is empty, skip the ticket code but launch a warning\n",
    "            print('WARNING: There are no validations of the ticket code \"{}\"'.format(ticket_code))"
   ]
  },
  {
   "cell_type": "code",
   "execution_count": 10,
   "metadata": {
    "ExecuteTime": {
     "start_time": "2023-04-29T17:34:16.958695Z",
     "end_time": "2023-04-29T17:34:16.972250Z"
    }
   },
   "outputs": [],
   "source": [
    "def average_length_of_trajectories_by_ticket_code_plot(dict_trajectories: dict, df: pd.DataFrame) -> None:\n",
    "    \"\"\"\n",
    "        This function computes the average length of the trajectories by ticket code.\n",
    "        :param dict_trajectories: the dictionary with the trajectories of the users\n",
    "        :param df: the dataframe\n",
    "        :return: None\n",
    "    \"\"\"\n",
    "    # Compute the average length of the trajectories:\n",
    "            # There are no colums with the coordinates of the stations, and there are no columns with the distance between the stations\n",
    "            # So, I compute the average length of the trajectories by the number of stations visited\n",
    "    \n",
    "    # Open the dictionary\n",
    "    dict_ticket_code = mf.open_dict_ticket_codes()\n",
    "\n",
    "    # Create a dictionary with the number of stations visited for each ticket code\n",
    "    dict_number_of_stations = {}\n",
    "    for ticket_code in dict_ticket_code.keys():\n",
    "        # Select only the rows of the specified ticket code\n",
    "        df_sup = mf.focus_on_ticket_code(df, ticket_code)\n",
    "        # If the dataframe is not empty, focus on the ticket code\n",
    "        if df_sup.shape[0] != 0:\n",
    "            # Create a dictionary with the trajectories of the users\n",
    "            dict_trajectories[ticket_code] = create_dictionary_with_trajectories(df_sup)\n",
    "            # Count the number of stations visited\n",
    "            number_of_stations = 0\n",
    "            for chiave in dict_trajectories[ticket_code].keys():\n",
    "                if chiave[1] is not None:\n",
    "                    number_of_stations += len(dict_trajectories[ticket_code][chiave][0])\n",
    "                else:\n",
    "                    number_of_stations += len(dict_trajectories[ticket_code][chiave][0])\n",
    "            # Add the average length of the trajectories to the dictionary\n",
    "            dict_number_of_stations[ticket_code] = number_of_stations / len(dict_trajectories[ticket_code].keys())\n",
    "\n",
    "    # Plot the average length of the trajectories by ticket code\n",
    "    plt.figure(figsize=(20, 10))\n",
    "    plt.bar(dict_number_of_stations.keys(), dict_number_of_stations.values())\n",
    "    plt.title('Average length of the trajectories by ticket code')\n",
    "    plt.xlabel('Ticket code')   \n",
    "    plt.ylabel('Average length of the trajectories')\n",
    "\n",
    "    # Manage the x-axis adding the description of the ticket code; note that it is possible that some ticket codes are not present in the plot\n",
    "    plt.xticks(ticks=range(0, len(dict_number_of_stations.keys())), labels=[dict_ticket_code[ticket_code] for ticket_code in dict_number_of_stations.keys()], rotation=90)\n",
    "    \n",
    "    # Manage the y-axis: note that the y-axis are float numbers: do not convert them to integers and do not use the range function\n",
    "    if max(dict_number_of_stations.values()) < 0.1:\n",
    "        plt.yticks(ticks=np.arange(0, max(dict_number_of_stations.values()) + 1, 0.01))\n",
    "    else:\n",
    "        plt.yticks(ticks=np.arange(0, max(dict_number_of_stations.values()) + 1, 0.5))\n",
    "\n",
    "    # Add the value of each bar\n",
    "    for index, value in enumerate(dict_number_of_stations.values()):\n",
    "        plt.text(index, value, str(round(value, 4)), ha='center', va='bottom', fontsize=10)\n",
    "\n",
    "    plt.show()\n",
    "\n",
    "    # Average number of stations visited by trajectory by ticket code\n",
    "    # for ticket_code in dict_number_of_stations.keys(\n",
    "        # print('The average number of stations visited by trajectory with ticket code \"{}\" is: {}'.format(ticket_code, dict_number_of_stations[ticket_code]))"
   ]
  },
  {
   "cell_type": "code",
   "execution_count": null,
   "metadata": {
    "ExecuteTime": {
     "start_time": "2023-04-29T10:22:14.856508Z",
     "end_time": "2023-04-29T10:22:15.069906Z"
    }
   },
   "outputs": [],
   "source": [
    "def most_frequent_trajectories(dict_trajectories: dict, is_focus_on_ticket_code: bool = False, ticket_code: str = '', summary: bool = True) -> None:\n",
    "    \"\"\"\n",
    "        This function finds the most frequent trajectories.\n",
    "        :param dict_trajectories: the dictionary with the trajectories of the users\n",
    "        :param is_focus_on_ticket_code: True if the analysis is focused on a specific ticket code, False otherwise\n",
    "        :param ticket_code: the ticket code\n",
    "        :param summary: True if the summary of the most frequent trajectories is printed, False otherwise\n",
    "        :return: None\n",
    "    \"\"\"\n",
    "    # Find the most frequent trajectories\n",
    "    # Create a dictionary with the number of times that a trajectory is present\n",
    "    dict_trajectories_number = {}\n",
    "\n",
    "    # For each user (identified by the serial number)\n",
    "    for serial in dict_trajectories.keys():\n",
    "        # Convert the list of tuples in a tuple of tuples\n",
    "        trajectory = tuple(dict_trajectories[serial])\n",
    "\n",
    "        if trajectory in dict_trajectories_number.keys():\n",
    "            # If the trajectory is already present in the dictionary, \n",
    "            # increase the number of times that the trajectory is present\n",
    "            dict_trajectories_number[trajectory] += 1\n",
    "        else:\n",
    "            # Otherwise, add the trajectory to the dictionary\n",
    "            dict_trajectories_number[trajectory] = 1\n",
    "\n",
    "    # Sort the dictionary by the number of times that a trajectory is present\n",
    "    dict_trajectories_number = {k: v for k, v in sorted(dict_trajectories_number.items(), key=lambda item: item[1], reverse=True)}\n",
    "\n",
    "    if (summary):\n",
    "        # Print the most frequent trajectories\n",
    "        if is_focus_on_ticket_code:\n",
    "            print('The most frequent trajectories with the ticket code {} are:'.format(ticket_code))\n",
    "        else:\n",
    "            print('The most frequent trajectories are:')\n",
    "        for trajectory in list(dict_trajectories_number.keys())[:10]:\n",
    "            print('The trajectory {} is present {} times'.format(trajectory, dict_trajectories_number[trajectory]))\n",
    "    else:\n",
    "        # Return the most frequent trajectories and the number of times that they are present, \n",
    "        # ordered by the number of times that they are present\n",
    "        return dict_trajectories_number"
   ]
  },
  {
   "cell_type": "code",
   "execution_count": null,
   "metadata": {
    "ExecuteTime": {
     "start_time": "2023-04-29T10:22:14.994923Z",
     "end_time": "2023-04-29T10:22:15.073255Z"
    }
   },
   "outputs": [],
   "source": [
    "def trajectories_with_at_least_k_stations(dict_trajectories: dict, k: int, summary: bool = True):\n",
    "    \"\"\"\n",
    "        This function finds the trajectories with at least k stations visited.\n",
    "        :param dict_trajectories: the dictionary with the trajectories of the users\n",
    "        :param k: the number of stations\n",
    "        :return: None if summary is True, the dictionary with the trajectories with at least k stations visited otherwise\n",
    "    \"\"\"\n",
    "    # Find the trajectories with at least k stations visited\n",
    "    # Create a dictionary with the number of times that a trajectory is present\n",
    "    # Notice that the keys of the dictionary are list of [serial, day]. Day can be None if the serial does not change over the days\n",
    "    dict_trajectories_number = {}\n",
    "    for serial in dict_trajectories.keys():\n",
    "        # Convert the list of tuples in a tuple of tuples\n",
    "        trajectory = tuple(dict_trajectories[serial])\n",
    "\n",
    "        if trajectory in dict_trajectories_number.keys():\n",
    "            # If the trajectory is already present in the dictionary, \n",
    "            # increase the number of times that the trajectory is present\n",
    "            dict_trajectories_number[trajectory] += 1\n",
    "        else:\n",
    "            # Otherwise, add the trajectory to the dictionary\n",
    "            dict_trajectories_number[trajectory] = 1\n",
    "\n",
    "    # Sort the dictionary by the number of times that a trajectory is present\n",
    "    dict_trajectories_number = {k: v for k, v in sorted(dict_trajectories_number.items(), key=lambda item: item[1], reverse=True)}\n",
    "\n",
    "    # If summary is True, print the trajectories with at least k stations visited, return the len of the dictionary otherwise\n",
    "    if summary:\n",
    "        # Print the trajectories with at least k stations visited\n",
    "        print('The trajectories with at least {} stations visited are:'.format(k))\n",
    "        for trajectory in dict_trajectories_number.keys():\n",
    "            if len(trajectory) >= k:\n",
    "                print('The trajectory {} is present {} times'.format(trajectory, dict_trajectories_number[trajectory]))\n",
    "    else:\n",
    "        # Return the dictionary \n",
    "        return dict_trajectories_number"
   ]
  },
  {
   "cell_type": "code",
   "execution_count": null,
   "metadata": {
    "ExecuteTime": {
     "start_time": "2023-04-29T10:22:15.082627Z",
     "end_time": "2023-04-29T10:22:15.157011Z"
    }
   },
   "outputs": [],
   "source": [
    "def longest_common_subsequence(trajectory_1: list, trajectory_2: list) -> list:\n",
    "    \"\"\"\n",
    "        This function finds the Longest Common Subsequence (LCS) between two trajectories.\n",
    "        :param trajectory_1: the first trajectory\n",
    "        :param trajectory_2: the second trajectory\n",
    "        :return: the LCS\n",
    "    \"\"\"\n",
    "    # Find the LCS\n",
    "    # Create a matrix with the length of the LCS between two trajectories\n",
    "    matrix = [[0 for x in range(len(trajectory_2) + 1)] for y in range(len(trajectory_1) + 1)]\n",
    "    for i in range(1, len(trajectory_1) + 1):\n",
    "        for j in range(1, len(trajectory_2) + 1):\n",
    "            if trajectory_1[i - 1] == trajectory_2[j - 1]:\n",
    "                matrix[i][j] = matrix[i - 1][j - 1] + 1\n",
    "            else:\n",
    "                matrix[i][j] = max(matrix[i - 1][j], matrix[i][j - 1])\n",
    "\n",
    "    # Find the LCS\n",
    "    i = len(trajectory_1)\n",
    "    j = len(trajectory_2)\n",
    "    lcs = []\n",
    "    while i > 0 and j > 0:\n",
    "        if trajectory_1[i - 1] == trajectory_2[j - 1]:\n",
    "            lcs.append(trajectory_1[i - 1])\n",
    "            i -= 1\n",
    "            j -= 1\n",
    "        elif matrix[i - 1][j] > matrix[i][j - 1]:\n",
    "            i -= 1\n",
    "        else:\n",
    "            j -= 1\n",
    "\n",
    "    # Reverse the LCS\n",
    "    lcs.reverse()\n",
    "\n",
    "    return lcs"
   ]
  },
  {
   "attachments": {},
   "cell_type": "markdown",
   "metadata": {},
   "source": [
    "### Compute the average length of the trajectories with the entire dataset\n"
   ]
  },
  {
   "cell_type": "code",
   "execution_count": 11,
   "metadata": {
    "ExecuteTime": {
     "start_time": "2023-04-29T10:22:15.154943Z",
     "end_time": "2023-04-29T15:23:34.314654Z"
    }
   },
   "outputs": [],
   "source": [
    "# Create a dictionary with the trajectories of the users\n",
    "dict_trajectories = create_dictionary_with_trajectories(df)"
   ]
  },
  {
   "cell_type": "code",
   "execution_count": 12,
   "metadata": {
    "ExecuteTime": {
     "start_time": "2023-04-29T15:23:34.312881Z",
     "end_time": "2023-04-29T15:23:34.320945Z"
    }
   },
   "outputs": [],
   "source": [
    "# Print all the trajectories with the second field of the key equal to None\n",
    "# for trajectory in dict_trajectories.keys():\n",
    "    # if trajectory[1] != None:\n",
    "        # print(trajectory)"
   ]
  },
  {
   "cell_type": "code",
   "execution_count": 13,
   "metadata": {},
   "outputs": [
    {
     "name": "stdout",
     "output_type": "stream",
     "text": [
      "The average length of the trajectories considering all the dataframe:\n",
      "The average length of the trajectories is: 2.352208359522014\n",
      "The number of trajectories is: 2103326\n"
     ]
    },
    {
     "data": {
      "text/plain": "<Figure size 1440x720 with 1 Axes>",
      "image/png": "[encoded data removed]"
     },
     "metadata": {},
     "output_type": "display_data"
    }
   ],
   "source": [
    "# Compute the average length of the trajectories\n",
    "print('The average length of the trajectories considering all the dataframe:')\n",
    "average_lenght = average_length_of_trajectories(dict_trajectories)\n",
    "# Compute the average length of the trajectories by ticket code\n",
    "# average_lenght_of_trajectories_per_ticket_code_stmp(df)\n",
    "# Plot the average length of the trajectories by ticket code\n",
    "# average_length_of_trajectories_by_ticket_code_plot(dict_trajectories, df, 'data/dictionaries/dict_ticket_codes.json')\n",
    "average_length_of_trajectories_by_ticket_code_plot(dict_trajectories, df)"
   ]
  },
  {
   "attachments": {},
   "cell_type": "markdown",
   "metadata": {},
   "source": [
    "### Compute the average length of the trajectories with the dataset with the ticket code 5"
   ]
  },
  {
   "cell_type": "code",
   "execution_count": null,
   "metadata": {
    "pycharm": {
     "is_executing": true
    }
   },
   "outputs": [],
   "source": [
    "# Create a dictionary with the trajectories of the users with the ticket code '7'\n",
    "df_sup = mf.focus_on_ticket_code(df,'7')\n",
    "# Create a dictionary with the trajectories of the users\n",
    "dict_trajectories = create_dictionary_with_trajectories(df_sup)\n",
    "# Compute the average length of the trajectories\n",
    "average_lenght = average_length_of_trajectories(dict_trajectories, is_focus_on_ticket_code=True, ticket_code='7')\n",
    "# average_length_of_trajectories_by_ticket_code_plot(dict_trajectories, df_sup, 'data/dictionaries/dict_ticket_codes.json')\n",
    "# trajectories_with_at_least_k_stations(dict_trajectories, 3)"
   ]
  },
  {
   "cell_type": "code",
   "execution_count": 14,
   "metadata": {
    "ExecuteTime": {
     "start_time": "2023-04-30T09:39:50.451287Z",
     "end_time": "2023-04-30T11:50:55.190157Z"
    }
   },
   "outputs": [
    {
     "name": "stdout",
     "output_type": "stream",
     "text": [
      "Ticket code: 1 - \"One-day ticket\"\n",
      "The average length of the trajectories with the ticket code 1 is: 3.8281\n",
      "The number of trajectories is: 136365\n",
      "The number of trajectories is: 136365\n",
      "\n",
      "Ticket code: 2 - \"Two-day ticket\"\n",
      "The average length of the trajectories with the ticket code 2 is: 6.3856\n",
      "The number of trajectories is: 48262\n",
      "The number of trajectories is: 48262\n",
      "\n",
      "Ticket code: 3 - \"Three-day ticket\"\n",
      "The average length of the trajectories with the ticket code 3 is: 8.3469\n",
      "The number of trajectories is: 46891\n",
      "The number of trajectories is: 46891\n",
      "\n",
      "Ticket code: 4 - \"Seven-day ticket\"\n",
      "The average length of the trajectories with the ticket code 4 is: 13.3301\n",
      "The number of trajectories is: 12294\n",
      "The number of trajectories is: 12294\n",
      "\n",
      "Ticket code: 5 - \"Monthly ticket\"\n",
      "The average length of the trajectories with the ticket code 5 is: 1.5554\n",
      "The number of trajectories is: 578590\n",
      "The number of trajectories is: 578590\n",
      "\n",
      "Ticket code: 5-STUD - \"Monthly ticket for students\"\n",
      "The average length of the trajectories with the ticket code 5-STUD is: 1.5038\n",
      "The number of trajectories is: 92706\n",
      "The number of trajectories is: 92706\n",
      "\n",
      "Ticket code: 5-RET - \"Monthly ticket for retired\"\n",
      "\t No trajectories to analyze\n",
      "\n",
      "Ticket code: 5-WKRS - \"Monthly ticket for workers\"\n",
      "The average length of the trajectories with the ticket code 5-WKRS is: 1.6674\n",
      "The number of trajectories is: 4233\n",
      "The number of trajectories is: 4233\n",
      "\n",
      "Ticket code: 6 - \"Annual ticket\"\n",
      "The average length of the trajectories with the ticket code 6 is: 1.4952\n",
      "The number of trajectories is: 264049\n",
      "The number of trajectories is: 264049\n",
      "\n",
      "Ticket code: 6-STUD - \"Annual ticket for students\"\n",
      "The average length of the trajectories with the ticket code 6-STUD is: 1.3421\n",
      "The number of trajectories is: 60480\n",
      "The number of trajectories is: 60480\n",
      "\n",
      "Ticket code: 6-RET - \"Annual ticket for retired\"\n",
      "The average length of the trajectories with the ticket code 6-RET is: 1.4972\n",
      "The number of trajectories is: 19919\n",
      "The number of trajectories is: 19919\n",
      "\n",
      "Ticket code: 6-WKRS - \"Annual ticket for workers\"\n",
      "The average length of the trajectories with the ticket code 6-WKRS is: 1.7211\n",
      "The number of trajectories is: 710\n",
      "The number of trajectories is: 710\n",
      "\n",
      "Ticket code: 7 - \"75 minutes ticket\"\n",
      "The average length of the trajectories with the ticket code 7 is: 2.3066\n",
      "The number of trajectories is: 870793\n",
      "The number of trajectories is: 870793\n",
      "\n"
     ]
    }
   ],
   "source": [
    "# For each ticket code (dict_ticket_codes.keys()):\n",
    "# a. Create a dictionary with the trajectories of the users with the ticket code\n",
    "# b. Compute the average length of the trajectories (number of stations visited)\n",
    "# d. Compute the number of users \n",
    "# e. Compute the number of trajectories\n",
    "# c. Number of trajectories with at least k stations visited\n",
    "# d. Find the most frequent trajectories\n",
    "# e. Find the trajectories with at least k stations visited\n",
    "\n",
    "ticket_code = mf.open_dict_ticket_codes()\n",
    "\n",
    "# dict_trajectories = create_dictionary_with_trajectories(df)\n",
    "# average_length_of_trajectories_by_ticket_code_plot(dict_trajectories, df, 'data/dictionaries/dict_ticket_codes.json')\n",
    "\n",
    "for ticket_code in ticket_code.keys():\n",
    "    # Exclude the ticket code '8'\n",
    "    if ticket_code == '8':\n",
    "        continue\n",
    "    \n",
    "    print('Ticket code: {} - \"{}\"'.format(ticket_code, mf.get_ticket_code_description(ticket_code)))\n",
    "\n",
    "    # a. Create a dictionary with the trajectories of the users with the ticket code\n",
    "    df_sup = mf.focus_on_ticket_code(df, ticket_code)\n",
    "    dict_trajectories = create_dictionary_with_trajectories(df_sup)\n",
    "    if len(dict_trajectories.keys()) == 0:\n",
    "        print('\\t No trajectories to analyze')\n",
    "        print('')\n",
    "        continue\n",
    "    \n",
    "    # b. Compute the average length of the trajectories (number of stations visited)\n",
    "    average_length_of_trajectories(dict_trajectories, is_focus_on_ticket_code=True, ticket_code=ticket_code)\n",
    "    \n",
    "    # c. Compute the number of users (Seriale)\n",
    "    number_of_users = len(dict_trajectories.keys()) # TODO: r u sure?\n",
    "    \n",
    "    # d. Compute the number of trajectories\n",
    "    number_of_trajectories = 0\n",
    "    for trajectory in dict_trajectories.values():\n",
    "        number_of_trajectories += len(trajectory)\n",
    "    print('The number of trajectories is: {}'.format(number_of_trajectories))\n",
    "    \n",
    "    # e. Number of trajectories with at least k stations visited\n",
    "    # number_of_trj_k_stations =  trajectories_with_at_least_k_stations(dict_trajectories, k=3, summary=False)\n",
    "    # # Count the number of trajectories with at least k stations visited\n",
    "    # count = 0\n",
    "    # for trajectory in number_of_trj_k_stations.keys():\n",
    "    #     if len(trajectory) >= 3:\n",
    "    #         count += 1\n",
    "    # print('The number of trajectories with at least 3 stations visited is: {}'.format(count))\n",
    "    \n",
    "    # f. Find the most frequent trajectories\n",
    "    # most_frequent_trajectories(dict_trajectories, is_focus_on_ticket_code=True, ticket_code=ticket_code)\n",
    "    print('')"
   ]
  },
  {
   "cell_type": "code",
   "execution_count": null,
   "metadata": {},
   "outputs": [],
   "source": [
    "def print_trajectories_of_user(dict_trajectories: dict, user: str):\n",
    "    \"\"\"\n",
    "        This function prints the trajectories of a user.\n",
    "        :param dict_trajectories: the dictionary with the trajectories\n",
    "        :param user: the user\n",
    "    \"\"\"\n",
    "    # print the dataframes of the trajectories of the user\n",
    "    df_aux = df[df['SERIALE'] == user]\n",
    "    print(df_aux)"
   ]
  },
  {
   "cell_type": "code",
   "execution_count": null,
   "metadata": {},
   "outputs": [],
   "source": [
    "# Given the serial of a user, print the trajectories of the user\n",
    "# Serial of the user of the first trajectory\n",
    "serial = list(dict_trajectories.keys())[0][0]\n",
    "# Print the trajectories of the user\n",
    "print_trajectories_of_user(dict_trajectories, serial)"
   ]
  },
  {
   "attachments": {},
   "cell_type": "markdown",
   "metadata": {},
   "source": [
    "### Find the most frequent trajectories with the entire dataset"
   ]
  },
  {
   "cell_type": "code",
   "execution_count": null,
   "metadata": {},
   "outputs": [],
   "source": [
    "# # Create a dictionary with the trajectories of the users with the entire dataset\n",
    "# dict_trajectories = create_dictionary_with_trajectories(df)\n",
    "# # Find the most frequent trajectories and print the summary\n",
    "# most_frequent_trajectories(dict_trajectories, summary=True)"
   ]
  },
  {
   "attachments": {},
   "cell_type": "markdown",
   "metadata": {},
   "source": [
    "### Find the most frequent trajectories with the dataset with a specified ticket code"
   ]
  },
  {
   "cell_type": "code",
   "execution_count": null,
   "metadata": {},
   "outputs": [],
   "source": [
    "# # Create a dictionary with the trajectories of the users with the ticket code '1'\n",
    "# df_sup = mf.focus_on_ticket_code(df,'1')\n",
    "# # Create a dictionary with the trajectories of the users with the ticket code '1'\n",
    "# dict_trajectories = create_dictionary_with_trajectories(df_sup)\n",
    "# # Find the most frequent trajectories with the ticket code '1' and print the summary\n",
    "# most_frequent_trajectories(dict_trajectories, is_focus_on_ticket_code=True, ticket_code='1', summary=True)"
   ]
  },
  {
   "attachments": {},
   "cell_type": "markdown",
   "metadata": {},
   "source": [
    "### Finds the trajectories with at least k stations visited with the entire dataset"
   ]
  },
  {
   "cell_type": "code",
   "execution_count": null,
   "metadata": {},
   "outputs": [],
   "source": [
    "# # Create a dictionary with the trajectories of the users with the entire dataset\n",
    "# dict_trajectories = create_dictionary_with_trajectories(df)\n",
    "# # Find the trajectories with at least 6 stations visited\n",
    "# trajectories_with_at_least_k_stations(dict_trajectories, 6)"
   ]
  },
  {
   "attachments": {},
   "cell_type": "markdown",
   "metadata": {},
   "source": [
    "### Find the most frequent trajectories with the dataset with a specified ticket code\n"
   ]
  },
  {
   "cell_type": "code",
   "execution_count": null,
   "metadata": {},
   "outputs": [],
   "source": [
    "# # Create a dictionary with the trajectories of the users with the ticket code '1'\n",
    "# df_sup = mf.focus_on_ticket_code(df,'1')\n",
    "# # Create a dictionary with the trajectories of the users with the ticket code '1'\n",
    "# dict_trajectories = create_dictionary_with_trajectories(df_sup)\n",
    "# # Find the trajectories with at least 20 stations visited with the ticket code '1'\n",
    "# trajectories_with_at_least_k_stations(dict_trajectories, 4)"
   ]
  },
  {
   "attachments": {},
   "cell_type": "markdown",
   "metadata": {},
   "source": [
    "### Longest Common Subsequence (LCS)"
   ]
  },
  {
   "cell_type": "code",
   "execution_count": null,
   "metadata": {},
   "outputs": [],
   "source": [
    "# # Find the Longest Common Subsequence (LCS) between two trajectories\n",
    "# trajectory_1 = ['SAN MARCO', 'P.LE ROMA', 'RIALTO', 'PUNTA SABBIO', 'BURANO']\n",
    "# trajectory_2 = ['SAN MARCO', 'P.LE ROMA', 'PUNTA SABBIO', 'BURANO']\n",
    "\n",
    "# lcs = longest_common_subsequence(trajectory_1, trajectory_2)\n",
    "# print('The Longest Common Subsequence (LCS) between the trajectories {} and {} is {}'.format(trajectory_1, trajectory_2, lcs))"
   ]
  },
  {
   "cell_type": "code",
   "execution_count": null,
   "metadata": {},
   "outputs": [],
   "source": [
    "# # Find the Longest Common Subsequence (LCS) between two trajectories\n",
    "# # Trajectory 1 is the trajectory of the dataset with the ticket code 1\n",
    "# # Trajectory 2 is the most frequent trajectory of the dataset with the ticket code 2\n",
    "# df_sup = mf.focus_on_ticket_code(df,'1')\n",
    "# dict_trajectories = create_dictionary_with_trajectories(df_sup)\n",
    "# dict_trajectories_number = most_frequent_trajectories(dict_trajectories, is_focus_on_ticket_code=True, ticket_code='1', summary=False)\n",
    "# trajectory_1 = list(dict_trajectories_number.keys())[8]\n",
    "\n",
    "# df_sup = mf.focus_on_ticket_code(df,'2')\n",
    "# dict_trajectories = create_dictionary_with_trajectories(df_sup)\n",
    "# dict_trajectories_number = most_frequent_trajectories(dict_trajectories, is_focus_on_ticket_code=True, ticket_code='2', summary=False)\n",
    "# trajectory_2 = list(dict_trajectories_number.keys())[0]\n",
    "\n",
    "# lcs = longest_common_subsequence(trajectory_1, trajectory_2)\n",
    "# print('The Longest Common Subsequence (LCS) between the trajectory {} and the trajectory {} is {}'.format(trajectory_1, trajectory_2, lcs))"
   ]
  },
  {
   "attachments": {},
   "cell_type": "markdown",
   "metadata": {},
   "source": [
    "_____"
   ]
  },
  {
   "cell_type": "code",
   "execution_count": null,
   "metadata": {},
   "outputs": [],
   "source": [
    "def most_frequent_stations_visited_by_the_users (dict_trajectories: dict, is_focus_on_ticket_code: bool = False, ticket_code: str = \"\", summary: bool = False) -> dict:\n",
    "    \"\"\"\n",
    "        This function finds the most frequent stations visited by the users.\n",
    "        :param dict_trajectories: the dictionary with the trajectories of the users\n",
    "        :param is_focus_on_ticket_code: if True, the function is focused on the ticket code\n",
    "        :param ticket_code: the ticket code\n",
    "        :param summary: if True, the function prints the summary\n",
    "        :return: the dictionary with the most frequent stations visited by the users\n",
    "    \"\"\"\n",
    "    # Create a dictionary with the most frequent stations visited by the users\n",
    "    dict_stations = {}\n",
    "    \n",
    "    # For each trajectory\n",
    "    for trajectory in dict_trajectories.keys():\n",
    "        # For each station in the trajectory\n",
    "        for station in dict_trajectories[trajectory]:\n",
    "            # If the station is not in the dictionary, add it\n",
    "            if station not in dict_stations.keys():\n",
    "                dict_stations[station] = 1\n",
    "            # If the station is in the dictionary, increment its value\n",
    "            else:\n",
    "                dict_stations[station] += 1\n",
    "\n",
    "    # Sort the dictionary with the most frequent stations visited by the users\n",
    "    dict_stations = {k: v for k, v in sorted(dict_stations.items(), key=lambda item: item[1], reverse=True)}\n",
    "\n",
    "    # Print the summary\n",
    "    if summary and is_focus_on_ticket_code:\n",
    "        print('The most frequent stations visited by the users with the ticket code {} are:'.format(ticket_code))\n",
    "        for station in dict_stations.keys():\n",
    "            print('The station {} is visited {} times'.format(station, dict_stations[station]))\n",
    "    elif summary:\n",
    "        print('The most frequent stations visited by the users are:')\n",
    "        for station in dict_stations.keys():\n",
    "            print('The station {} is visited {} times'.format(station, dict_stations[station]))\n",
    "\n",
    "    return dict_stations"
   ]
  },
  {
   "cell_type": "code",
   "execution_count": null,
   "metadata": {},
   "outputs": [],
   "source": [
    "def rearrange_dictionary_with_trajectories (dict_trajectories: dict) -> dict:\n",
    "    \"\"\"\n",
    "        This function rearranges the dictionary with the trajectories of the users.\n",
    "        :param dict_trajectories: the dictionary with the trajectories of the users\n",
    "        :return: the rearranged dictionary with the trajectories of the users\n",
    "    \"\"\"\n",
    "    # Create the rearranged dictionary with the trajectories of the users\n",
    "    dict_trajectories_rearranged = {}\n",
    "\n",
    "    # For each trajectory\n",
    "    for trajectory in dict_trajectories.keys():\n",
    "        # For each station in the trajectory\n",
    "        for station in dict_trajectories[trajectory]:\n",
    "            # If the station is not in the dictionary, add it\n",
    "            if station not in dict_trajectories_rearranged.keys():\n",
    "                dict_trajectories_rearranged[station] = [trajectory]\n",
    "            # If the station is in the dictionary, append the trajectory\n",
    "            else:\n",
    "                dict_trajectories_rearranged[station].append(trajectory)\n",
    "\n",
    "    return dict_trajectories_rearranged"
   ]
  },
  {
   "cell_type": "code",
   "execution_count": null,
   "metadata": {},
   "outputs": [],
   "source": [
    "# # Are there typical patterns in the movements of the users? \n",
    "# # Using different clustring techniques, find the most frequent trajectories and the most frequent stations visited by the users.\n",
    "# # Create a dictionary with the trajectories of the users with the entire dataset\n",
    "# dict_trajectories = create_dictionary_with_trajectories(df)\n",
    "# # Find the most frequent trajectories and print the summary\n",
    "# most_frequent_trajectories(dict_trajectories, summary=False)\n",
    "# # Find the most frequent stations visited by the users and print the summary\n",
    "# most_frequent_stations_visited_by_the_users(dict_trajectories, summary=False)\n",
    "\n",
    "# # Cluster the users using the K-Means algorithm\n",
    "# # Create a dictionary with the trajectories of the users with the entire dataset\n",
    "# # dict_trajectories = create_dictionary_with_trajectories(df)\n",
    "# # Cluster the users using the K-Means algorithm\n",
    "# from sklearn.cluster import KMeans\n",
    "\n",
    "# merged_list = sum([sublist for sublist in list(dict_trajectories.values())], [])\n",
    "\n",
    "# # Cluster the users using the K-Means algorithm\n",
    "# kmeans = KMeans(n_clusters=3, random_state=0).fit(np.array(merged_list))\n",
    "# # Create a dictionary with the clusters\n",
    "# dict_clusters = {}\n",
    "# for i in range(len(kmeans.labels_)):\n",
    "#     if kmeans.labels_[i] not in dict_clusters.keys():\n",
    "#         dict_clusters[kmeans.labels_[i]] = []\n",
    "#     dict_clusters[kmeans.labels_[i]].append(list(dict_trajectories.keys())[i])\n",
    "# # Print the summary\n",
    "# print('The clusters are:')\n",
    "# for cluster in dict_clusters.keys():\n",
    "#     print('The cluster {} contains the following trajectories:'.format(cluster))\n",
    "#     for trajectory in dict_clusters[cluster]:\n",
    "#         print(trajectory)"
   ]
  }
 ],
 "metadata": {
  "kernelspec": {
   "display_name": "Python 3",
   "language": "python",
   "name": "python3"
  },
  "language_info": {
   "codemirror_mode": {
    "name": "ipython",
    "version": 3
   },
   "file_extension": ".py",
   "mimetype": "text/x-python",
   "name": "python",
   "nbconvert_exporter": "python",
   "pygments_lexer": "ipython3",
   "version": "3.11.2"
  },
  "orig_nbformat": 4,
  "vscode": {
   "interpreter": {
    "hash": "aee8b7b246df8f9039afb4144a1f6fd8d2ca17a180786b69acc140d282b71a49"
   }
  }
 },
 "nbformat": 4,
 "nbformat_minor": 2
}
