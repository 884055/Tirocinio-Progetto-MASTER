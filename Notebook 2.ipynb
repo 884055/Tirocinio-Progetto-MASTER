{
 "cells": [
  {
   "attachments": {},
   "cell_type": "markdown",
   "metadata": {},
   "source": [
    "# MASTER - Notebook 2\n",
    "### Matteo Grazioso 884055"
   ]
  },
  {
   "cell_type": "code",
   "execution_count": null,
   "metadata": {
    "ExecuteTime": {
     "end_time": "2023-04-30T11:59:19.544081Z",
     "start_time": "2023-04-30T11:59:19.009231Z"
    }
   },
   "outputs": [],
   "source": [
    "# Import libraries\n",
    "import pandas as pd\n",
    "import numpy as np\n",
    "import matplotlib.pyplot as plt\n",
    "import seaborn as sns\n",
    "import matplotlib.dates as mdates\n",
    "from datetime import datetime\n",
    "from pandas import Timestamp\n",
    "import json\n",
    "import warnings\n",
    "warnings.filterwarnings('ignore')\n",
    "\n",
    "import myfunctions as mf # Custom functions"
   ]
  },
  {
   "cell_type": "code",
   "execution_count": null,
   "metadata": {
    "ExecuteTime": {
     "end_time": "2023-04-30T11:59:19.546100Z",
     "start_time": "2023-04-30T11:59:19.051841Z"
    }
   },
   "outputs": [],
   "source": [
    "# Disply all columns and all rows\n",
    "pd.set_option('display.max_columns', None)\n",
    "pd.set_option('display.max_rows', None)"
   ]
  },
  {
   "cell_type": "code",
   "execution_count": null,
   "metadata": {
    "ExecuteTime": {
     "end_time": "2023-04-30T11:59:27.138107Z",
     "start_time": "2023-04-30T11:59:19.115601Z"
    }
   },
   "outputs": [],
   "source": [
    "# The file contains the data of the validation of tickets in the city of public transport of Venice.\n",
    "# The file has been created by the Notebook 1.ipynb\n",
    "\n",
    "# Import the data into a dataframe of a txt file\n",
    "# path = 'data/processed/dataset_cleaned_validazioni.txt'\n",
    "path = 'data/processed/dataset_cleaned_esportazioneCompleta.txt'\n",
    "\n",
    "df = pd.read_csv(path, header=0, sep='\\t')\n",
    "\n",
    "# Save the name of the file in a variable for future use extracting the name of the file from the path\n",
    "file_name = path.split('_')[-1].split('.')[0]\n",
    "\n",
    "# Display the first 5 rows of the dataframe\n",
    "df.head()\n",
    "\n",
    "# Convert the column 'DATA' to datetime format\n",
    "df['DATA'] = pd.to_datetime(df['DATA'], format='%Y-%m-%d')"
   ]
  },
  {
   "cell_type": "code",
   "execution_count": null,
   "metadata": {
    "ExecuteTime": {
     "end_time": "2023-04-30T11:59:27.149940Z",
     "start_time": "2023-04-30T11:59:27.137887Z"
    }
   },
   "outputs": [],
   "source": [
    "# First 10% of the dataframe\n",
    "df = df.iloc[:int(len(df)*0.1)]"
   ]
  },
  {
   "cell_type": "code",
   "execution_count": null,
   "metadata": {
    "ExecuteTime": {
     "end_time": "2023-04-30T11:59:27.225834Z",
     "start_time": "2023-04-30T11:59:27.143096Z"
    }
   },
   "outputs": [],
   "source": [
    "df.head()"
   ]
  },
  {
   "cell_type": "code",
   "execution_count": null,
   "metadata": {
    "ExecuteTime": {
     "end_time": "2023-04-30T11:59:27.355742Z",
     "start_time": "2023-04-30T11:59:27.222688Z"
    }
   },
   "outputs": [],
   "source": [
    "df.tail()"
   ]
  },
  {
   "attachments": {},
   "cell_type": "markdown",
   "metadata": {},
   "source": [
    "---------\n"
   ]
  },
  {
   "attachments": {},
   "cell_type": "markdown",
   "metadata": {},
   "source": [
    "## Trajectories"
   ]
  },
  {
   "attachments": {},
   "cell_type": "markdown",
   "metadata": {},
   "source": [
    "We are interested in analyzing the trajectories of the users that use the public transport in the city of Venice.\n",
    "\n",
    "Note that the stops are identified by the *DESCRIZIONE* column that contains the name of the stop, so each trajectory \n",
    "is composed by the name of the stops visited by the user, so a trajectory is composed by a sequence of strings."
   ]
  },
  {
   "cell_type": "code",
   "execution_count": null,
   "metadata": {
    "ExecuteTime": {
     "end_time": "2023-04-30T11:59:27.423497Z",
     "start_time": "2023-04-30T11:59:27.277675Z"
    }
   },
   "outputs": [],
   "source": [
    "def create_dictionary_with_trajectories(df: pd.DataFrame, file_name = file_name) -> dict:\n",
    "    \"\"\"\n",
    "        This function creates a dictionary with the trajectories of the users.\n",
    "        :param df: the dataframe\n",
    "        :param file_name: the name of the file\n",
    "        :return: the dictionary with the trajectories of the users with the key (serial, day). \n",
    "            Notice: if the serial is the same for all the days the key is (serial, None)\n",
    "    \"\"\"\n",
    "\n",
    "    print ('file_name: {}'.format(file_name))\n",
    "\n",
    "    # If the dictionary is already created, load it\n",
    "    # Notice that there could be files with similar name, so the function must load the file with the exact name\n",
    "    try:\n",
    "        with open('data/dictionaries/trajectories/dict_trajectories_' + file_name + '.json', 'r') as f:\n",
    "            dict_trajectories = json.load(f)\n",
    "            # Convert the key from string to tuple (serial, day) where day is None \n",
    "            # if the serial is the same for all the days\n",
    "            # It is necessary because the json dictionary cannot have a tuple as key\n",
    "            dict_trajectories = {eval(key): value for key, value in dict_trajectories.items()}\n",
    "            print('The function HAS LOADED the already created dictionary: dict_trajectories_' + file_name + '.json')\n",
    "        return dict_trajectories\n",
    "    except:\n",
    "        #print(\"Error:\", e)\n",
    "        pass\n",
    "    \n",
    "    print('The function IS CREATING the dictionary: dict_trajectories_' + file_name + '.json')\n",
    "\n",
    "    \n",
    "    # Create a dictionary with the trajectories of the users\n",
    "    dict_trajectories = {}\n",
    "    # For each user\n",
    "    for serial in df['SERIALE'].unique():\n",
    "        # NOTICE: the serial of ticket code 5, 5-STUD, 5-RET, 5-WKRS and the same with 6, change every day,\n",
    "        # so the user is not the same, but the user is the same for the same day\n",
    "        \n",
    "        # Select only the rows of the specified user\n",
    "        df_sup = df[df['SERIALE'] == serial].sort_values(by=['DATA', 'ORA'])\n",
    "\n",
    "        # Create a list with the trajectories of the user\n",
    "        list_trajectories = []\n",
    "        \n",
    "        # If the ticket code is 5, 5-STUD, 5-RET, 5-WKRS or 6, 6-STUD, 6-RET, 6-WKRS create a list with the trajectories \n",
    "        # for each day and for each serial\n",
    "        if df_sup['TICKET_CODE'].unique()[0] in ['5', '5-STUD', '5-RET', '5-WKRS', '6', '6-STUD', '6-RET', '6-WKRS']:\n",
    "            # print('Ticket code: {}'.format(df_sup['TICKET_CODE'].unique()[0]))\n",
    "            # For each day\n",
    "            for day in df_sup['DATA']:\n",
    "                # Select only the rows of the specified day\n",
    "                df_sup_sup = df_sup[df_sup['DATA'] == day]\n",
    "                # For each serial\n",
    "                for serial in df_sup_sup['SERIALE'].unique():\n",
    "                    # Reset list_trajectories\n",
    "                    list_trajectories = []\n",
    "                    # Select only the rows of the specified serial\n",
    "                    df_sup_sup_sup = df_sup_sup[df_sup_sup['SERIALE'] == serial]\n",
    "                    # Create a list with the trajectories of the user\n",
    "                    list_stop = df_sup_sup_sup['DESCRIZIONE'].tolist()\n",
    "                    # Append the list to the list of the trajectories\n",
    "                    list_trajectories.append(list_stop)\n",
    "                    # Insert the list of the trajectories in the dictionary with the key (serial, day)\n",
    "                    dict_trajectories[serial, day] = list_trajectories\n",
    "        else:\n",
    "            # Create a list with the trajectories of the user\n",
    "            list_stop = df_sup['DESCRIZIONE'].tolist()\n",
    "            list_trajectories.append(list_stop)\n",
    "            # If the serial is already in the dictionary print a warning\n",
    "            if (serial, None) in dict_trajectories:\n",
    "                print('Warning: the serial {} is already in the dictionary'.format(serial))\n",
    "                # launch an exception\n",
    "                raise Exception('The serial {} is already in the dictionary'.format(serial))\n",
    "            # Insert the list of the trajectories in the dictionary with the key (serial, None)\n",
    "            # None means that the serial is the same for all the days\n",
    "            dict_trajectories[serial, None] = list_trajectories\n",
    "\n",
    "    # Save the dictionary\n",
    "    # Notice: the dictionary is saved only if it is not already created\n",
    "    # Notice: the key is a tuple (serial, day) but the json dictionary cannot have a tuple as key, \n",
    "    # so the key is converted to string\n",
    "    with open('data/dictionaries/trajectories/dict_trajectories_' + file_name + '.json', 'w') as f:\n",
    "        dict_trajectories = {str(key): value for key, value in dict_trajectories.items()}\n",
    "        json.dump(dict_trajectories, f)\n",
    "\n",
    "    return dict_trajectories"
   ]
  },
  {
   "cell_type": "code",
   "execution_count": null,
   "metadata": {},
   "outputs": [],
   "source": [
    "def number_of_trajectories(dict_trajectories: dict, is_focus_on_ticket_code: bool = False, ticket_code: str = '', summary: bool = False) -> int:\n",
    "    \"\"\"\n",
    "        This function computes the number of trajectories.\n",
    "        :param dict_trajectories: the dictionary with the trajectories of the users\n",
    "        :param is_focus_on_ticket_code: if True, focus on the ticket code\n",
    "        :param ticket_code: the ticket code\n",
    "        :return: the number of trajectories\n",
    "    \"\"\"\n",
    "    # Create a dictionary with the number of trajectories\n",
    "    dict_number_of_trajectories = {}\n",
    "    # For each trajectory\n",
    "    for trajectory in dict_trajectories.values():\n",
    "        # If the trajectory is not in the dictionary, add it\n",
    "        if str(trajectory) not in dict_number_of_trajectories.keys():\n",
    "            dict_number_of_trajectories[str(trajectory)] = 1\n",
    "        # If the trajectory is in the dictionary, increment the counter\n",
    "        else:\n",
    "            dict_number_of_trajectories[str(trajectory)] += 1\n",
    "\n",
    "    if summary:\n",
    "        # Print the number of trajectories\n",
    "        if is_focus_on_ticket_code:\n",
    "            print('The number of trajectories with ticket code {} - \"{}\" is: {}'.format(ticket_code, mf.get_ticket_code_description(ticket_code), len(dict_number_of_trajectories.keys())))\n",
    "        else:\n",
    "            print('The number of trajectories is: {}'.format(len(dict_number_of_trajectories.keys())))\n",
    "    \n",
    "    # Return the number of trajectories\n",
    "    return len(dict_number_of_trajectories.keys())"
   ]
  },
  {
   "cell_type": "code",
   "execution_count": null,
   "metadata": {
    "ExecuteTime": {
     "end_time": "2023-04-30T11:59:27.516135Z",
     "start_time": "2023-04-30T11:59:27.329742Z"
    }
   },
   "outputs": [],
   "source": [
    "def average_length_of_trajectories(dict_trajectories: dict, is_focus_on_ticket_code: bool = False, ticket_code: str = '', summary: bool = False) -> float:\n",
    "    \"\"\"\n",
    "        This function computes the average length of the trajectories.\n",
    "        This function can receive a dictionary with the trajectories related to a specific ticket code: in this case the function prints this information.\n",
    "        :param dict_trajectories: the dictionary with the trajectories of the users with the key (serial, day) or (serial, None)\n",
    "        :param is_focus_on_ticket_code: if True, focus on the ticket code\n",
    "        :param ticket_code: the ticket code\n",
    "        :param summary: if True, print the summary\n",
    "        :return: the average length of the trajectories \n",
    "    \"\"\"\n",
    "    # Notice that the key of the dictionary is a tuple (serial, day)\n",
    "    # Compute the average length of the trajectories\n",
    "    average_length = 0\n",
    "    for chiave in dict_trajectories.keys():\n",
    "        if chiave[1] is not None:\n",
    "            average_length += len(dict_trajectories[chiave][0])\n",
    "        else:\n",
    "            average_length += len(dict_trajectories[chiave][0])\n",
    "    if len(dict_trajectories.keys()) != 0:\n",
    "        average_length /= len(dict_trajectories.keys())\n",
    "        # Round the average length to 4 decimal places\n",
    "        average_length = round(average_length, 4)\n",
    "    else:\n",
    "        average_length = -1\n",
    "    \n",
    "    if summary:\n",
    "        if len (dict_trajectories.keys()) != 0:\n",
    "            # Print the average length of the trajectories\n",
    "            if is_focus_on_ticket_code:\n",
    "                print('The average length of the trajectories with ticket code {} - \"{}\" is: {}'.format(ticket_code, mf.get_ticket_code_description(ticket_code), average_length))\n",
    "            else:\n",
    "                print('The average length of the trajectories is: {}'.format(average_length))\n",
    "        else:\n",
    "            print('WARNING: There are no trajectories to analyze')\n",
    "\n",
    "    return average_length"
   ]
  },
  {
   "cell_type": "code",
   "execution_count": null,
   "metadata": {
    "ExecuteTime": {
     "end_time": "2023-04-30T11:59:27.749712Z",
     "start_time": "2023-04-30T11:59:27.485495Z"
    }
   },
   "outputs": [],
   "source": [
    "def average_length_of_trajectories_by_ticket_code_plot(dict_trajectories: dict, df: pd.DataFrame) -> None:\n",
    "    \"\"\"\n",
    "        This function computes the average length of the trajectories by ticket code.\n",
    "        :param dict_trajectories: the dictionary with the trajectories of the users\n",
    "        :param df: the dataframe\n",
    "        :return: None\n",
    "    \"\"\"\n",
    "    # Compute the average length of the trajectories:\n",
    "            # There are no colums with the coordinates of the stations, and there are no columns with the distance between the stations\n",
    "            # So, I compute the average length of the trajectories by the number of stations visited\n",
    "    \n",
    "    # Open the dictionary\n",
    "    dict_ticket_code = mf.open_dict_ticket_codes()\n",
    "\n",
    "    # Create a dictionary with the number of stations visited for each ticket code\n",
    "    dict_number_of_stations = {}\n",
    "    for ticket_code in dict_ticket_code.keys():\n",
    "        # Select only the rows of the specified ticket code\n",
    "        df_sup = mf.focus_on_ticket_code(df, ticket_code)\n",
    "        # If the dataframe is not empty, focus on the ticket code\n",
    "        if df_sup.shape[0] != 0:\n",
    "            # Create a dictionary with the trajectories of the users\n",
    "            dict_trajectories[ticket_code] = create_dictionary_with_trajectories(df_sup, file_name = file_name + '_' + 'tc:' + ticket_code)\n",
    "            # Count the number of stations visited\n",
    "            number_of_stations = 0\n",
    "            for chiave in dict_trajectories[ticket_code].keys():\n",
    "                if chiave[1] is not None:\n",
    "                    number_of_stations += len(dict_trajectories[ticket_code][chiave][0])\n",
    "                else:\n",
    "                    number_of_stations += len(dict_trajectories[ticket_code][chiave][0])\n",
    "            # Add the average length of the trajectories to the dictionary\n",
    "            dict_number_of_stations[ticket_code] = number_of_stations / len(dict_trajectories[ticket_code].keys())\n",
    "            # dict_number_of_stations[ticket_code] = number_of_stations / number_of_trajectories(dict_trajectories[ticket_code])\n",
    "\n",
    "    # Plot the average length of the trajectories by ticket code\n",
    "    plt.figure(figsize=(20, 10))\n",
    "    plt.bar(dict_number_of_stations.keys(), dict_number_of_stations.values())\n",
    "    plt.title('Average length of the trajectories by ticket code')\n",
    "    plt.xlabel('Ticket code')   \n",
    "    plt.ylabel('Average length of the trajectories')\n",
    "\n",
    "    # Manage the x-axis adding the description of the ticket code; note that it is possible that some ticket codes are not present in the plot\n",
    "    plt.xticks(ticks=range(0, len(dict_number_of_stations.keys())), labels=[dict_ticket_code[ticket_code] for ticket_code in dict_number_of_stations.keys()], rotation=90)\n",
    "    \n",
    "    # Manage the y-axis: note that the y-axis are float numbers: do not convert them to integers and do not use the range function\n",
    "    if max(dict_number_of_stations.values()) < 0.1:\n",
    "        plt.yticks(ticks=np.arange(0, max(dict_number_of_stations.values()) + 1, 0.01))\n",
    "    else:\n",
    "        plt.yticks(ticks=np.arange(0, max(dict_number_of_stations.values()) + 1, 0.5))\n",
    "\n",
    "    # Add the value of each bar\n",
    "    for index, value in enumerate(dict_number_of_stations.values()):\n",
    "        plt.text(index, value, str(round(value, 4)), ha='center', va='bottom', fontsize=10)\n",
    "\n",
    "    plt.show()\n",
    "\n",
    "    # Average number of stations visited by trajectory by ticket code\n",
    "    # for ticket_code in dict_number_of_stations.keys(\n",
    "        # print('The average number of stations visited by trajectory with ticket code \"{}\" is: {}'.format(ticket_code, dict_number_of_stations[ticket_code]))"
   ]
  },
  {
   "cell_type": "code",
   "execution_count": null,
   "metadata": {},
   "outputs": [],
   "source": [
    "def count_number_of_stations_visited(trajectory: list, only_unique_stations: bool = False) -> int:\n",
    "    \"\"\"\n",
    "        This function counts the number of stations visited in a trajectory.\n",
    "        :param trajectory: the trajectory of the user\n",
    "        :param only_unique_stations: if True, count only the unique stations visited in the trajectory\n",
    "    \"\"\"\n",
    "    if only_unique_stations:\n",
    "        return len(set(trajectory[0]))\n",
    "    else:\n",
    "        return len(trajectory[0])"
   ]
  },
  {
   "cell_type": "code",
   "execution_count": null,
   "metadata": {
    "ExecuteTime": {
     "end_time": "2023-04-30T11:59:27.753726Z",
     "start_time": "2023-04-30T11:59:27.548585Z"
    }
   },
   "outputs": [],
   "source": [
    "def most_frequent_trajectories(dict_trajectories: dict, is_focus_on_ticket_code: bool = False, ticket_code: str = '', summary: bool = False, k: int = -1, min_length: int = 1) -> dict:\n",
    "    \"\"\"\n",
    "        This function computes the most frequent trajectories.\n",
    "        :param dict_trajectories: the dictionary with the trajectories of the users\n",
    "        :param is_focus_on_ticket_code: if True, the function computes the most frequent trajectories for the specified ticket code\n",
    "        :param ticket_code: the ticket code\n",
    "        :param summary: if True, the function prints the summary\n",
    "        :param k: the number of most frequent trajectories to return: if k = -1, the function returns all the trajectories\n",
    "        :return: the dictionary with the most frequent trajectories\n",
    "    \"\"\"\n",
    "    # Create a dictionary with the most frequent trajectories\n",
    "    dict_most_frequent_trajectories = {}\n",
    "    # For each trajectory\n",
    "    for trajectory in dict_trajectories.values():\n",
    "        # If the trajectory is longer than the min length, consider it\n",
    "        if count_number_of_stations_visited(trajectory) >= min_length:\n",
    "            # If the trajectory is not in the dictionary, add it\n",
    "            if str(trajectory) not in dict_most_frequent_trajectories.keys():\n",
    "                dict_most_frequent_trajectories[str(trajectory)] = 1\n",
    "            # If the trajectory is in the dictionary, increment the counter\n",
    "            else:\n",
    "                dict_most_frequent_trajectories[str(trajectory)] += 1\n",
    "    # Sort the dictionary by value\n",
    "    dict_most_frequent_trajectories = dict(sorted(dict_most_frequent_trajectories.items(), key=lambda item: item[1], reverse=True))\n",
    "\n",
    "    # If k = -1, return all the trajectories, otherwise return the first k trajectories\n",
    "    if k != -1:\n",
    "        # Select the first k trajectories\n",
    "        dict_most_frequent_trajectories = dict(list(dict_most_frequent_trajectories.items())[0:k])\n",
    "    \n",
    "    # Print the summary\n",
    "    if summary:\n",
    "        s = 'The most'\n",
    "        if k != -1:\n",
    "            s += ' {} frequent trajectories'.format(k)\n",
    "        else:\n",
    "            s += ' frequent trajectories'\n",
    "        \n",
    "        s += ' with a minimum length of {} stop(s)'.format(min_length)\n",
    "\n",
    "        if is_focus_on_ticket_code:\n",
    "            s += ' for the ticket code {} - \"{}\" are:'.format(ticket_code, mf.get_ticket_code_description(ticket_code))\n",
    "        else:\n",
    "            s += ' are:'\n",
    "        print(s)\n",
    "        for trajectory in dict_most_frequent_trajectories.keys():\n",
    "            print('\\t {} - {}'.format(trajectory, dict_most_frequent_trajectories[trajectory]))\n",
    "    \n",
    "    # Return the dictionary with the most frequent trajectories\n",
    "    return dict_most_frequent_trajectories"
   ]
  },
  {
   "cell_type": "code",
   "execution_count": null,
   "metadata": {
    "ExecuteTime": {
     "end_time": "2023-04-30T11:59:27.960086Z",
     "start_time": "2023-04-30T11:59:27.894440Z"
    }
   },
   "outputs": [],
   "source": [
    "def longest_common_subsequence(trajectory_1: list, trajectory_2: list) -> list:\n",
    "    \"\"\"\n",
    "        This function finds the Longest Common Subsequence (LCS) between two trajectories.\n",
    "        :param trajectory_1: the first trajectory\n",
    "        :param trajectory_2: the second trajectory\n",
    "        :return: the LCS\n",
    "    \"\"\"\n",
    "    # Find the LCS\n",
    "    # Create a matrix with the length of the LCS between two trajectories\n",
    "    matrix = [[0 for x in range(len(trajectory_2) + 1)] for y in range(len(trajectory_1) + 1)]\n",
    "    for i in range(1, len(trajectory_1) + 1):\n",
    "        for j in range(1, len(trajectory_2) + 1):\n",
    "            if trajectory_1[i - 1] == trajectory_2[j - 1]:\n",
    "                matrix[i][j] = matrix[i - 1][j - 1] + 1\n",
    "            else:\n",
    "                matrix[i][j] = max(matrix[i - 1][j], matrix[i][j - 1])\n",
    "\n",
    "    # Find the LCS\n",
    "    i = len(trajectory_1)\n",
    "    j = len(trajectory_2)\n",
    "    lcs = []\n",
    "    while i > 0 and j > 0:\n",
    "        if trajectory_1[i - 1] == trajectory_2[j - 1]:\n",
    "            lcs.append(trajectory_1[i - 1])\n",
    "            i -= 1\n",
    "            j -= 1\n",
    "        elif matrix[i - 1][j] > matrix[i][j - 1]:\n",
    "            i -= 1\n",
    "        else:\n",
    "            j -= 1\n",
    "\n",
    "    # Reverse the LCS\n",
    "    lcs.reverse()\n",
    "\n",
    "    return lcs"
   ]
  },
  {
   "attachments": {},
   "cell_type": "markdown",
   "metadata": {},
   "source": [
    "### Compute the average length of the trajectories with the entire dataset\n"
   ]
  },
  {
   "cell_type": "code",
   "execution_count": null,
   "metadata": {
    "ExecuteTime": {
     "end_time": "2023-04-30T17:08:12.214132Z",
     "start_time": "2023-04-30T11:59:27.959931Z"
    }
   },
   "outputs": [],
   "source": [
    "# Create a dictionary with the trajectories of the users\n",
    "print (file_name)\n",
    "dict_trajectories = create_dictionary_with_trajectories(df)"
   ]
  },
  {
   "cell_type": "code",
   "execution_count": null,
   "metadata": {},
   "outputs": [],
   "source": [
    "# Print the head of the dictionary\n",
    "for key in list(dict_trajectories.keys())[0:5]:\n",
    "    print('{} - {}'.format(key, dict_trajectories[key]))"
   ]
  },
  {
   "cell_type": "code",
   "execution_count": null,
   "metadata": {},
   "outputs": [],
   "source": [
    "# Compute the average length of the trajectories\n",
    "average_lenght = average_length_of_trajectories(dict_trajectories)\n",
    "print('The average length of the trajectories considering all the dataframe is: {}'.format(average_lenght))\n",
    "average_length_of_trajectories_by_ticket_code_plot(dict_trajectories, df)"
   ]
  },
  {
   "attachments": {},
   "cell_type": "markdown",
   "metadata": {},
   "source": [
    "### Compute the average length of the trajectories with the dataset with the ticket code 7"
   ]
  },
  {
   "cell_type": "code",
   "execution_count": null,
   "metadata": {},
   "outputs": [],
   "source": [
    "# # Create a dictionary with the trajectories of the users with the ticket code '7'\n",
    "# df_sup = mf.focus_on_ticket_code(df,'7')\n",
    "# # Create a dictionary with the trajectories of the users\n",
    "# dict_trajectories = create_dictionary_with_trajectories(df_sup)\n",
    "# # Compute the average length of the trajectories\n",
    "# average_lenght = average_length_of_trajectories(dict_trajectories, is_focus_on_ticket_code=True, ticket_code='7')\n",
    "# # average_length_of_trajectories_by_ticket_code_plot(dict_trajectories, df_sup, 'data/dictionaries/dict_ticket_codes.json')\n",
    "# # trajectories_with_at_least_k_stations(dict_trajectories, 3)"
   ]
  },
  {
   "attachments": {},
   "cell_type": "markdown",
   "metadata": {},
   "source": [
    "### Print information for each ticket code"
   ]
  },
  {
   "cell_type": "code",
   "execution_count": null,
   "metadata": {
    "ExecuteTime": {
     "end_time": "2023-04-30T11:50:55.190157Z",
     "start_time": "2023-04-30T09:39:50.451287Z"
    }
   },
   "outputs": [],
   "source": [
    "# For each ticket code:\n",
    "# a. Create a dictionary with the trajectories of the users with the ticket code\n",
    "# b. Compute the average length of the trajectories (number of stations visited)\n",
    "# c. Compute the number of users \n",
    "# d. Compute the number of trajectories\n",
    "# e. Find the most frequent trajectories\n",
    "\n",
    "ticket_code = mf.open_dict_ticket_codes()\n",
    "\n",
    "dict_trajectories = create_dictionary_with_trajectories(df)\n",
    "# average_length_of_trajectories_by_ticket_code_plot(dict_trajectories, df, 'data/dictionaries/dict_ticket_codes.json')\n",
    "\n",
    "for ticket_code in ticket_code.keys():\n",
    "    # Exclude the ticket code '8' \n",
    "    if ticket_code == '8':\n",
    "        continue\n",
    "    \n",
    "    print('Ticket code: {} - \"{}\"'.format(ticket_code, mf.get_ticket_code_description(ticket_code)))\n",
    "\n",
    "    # a. Create a dictionary with the trajectories of the users with the ticket code\n",
    "    df_sup = mf.focus_on_ticket_code(df, ticket_code)\n",
    "    dict_trajectories = create_dictionary_with_trajectories(df_sup, file_name = file_name + '_' + 'tc:' + ticket_code)\n",
    "    if len(dict_trajectories.keys()) == 0:\n",
    "        print('\\t No trajectories to analyze')\n",
    "        print('')\n",
    "        continue\n",
    "    \n",
    "    # b. Compute the average length of the trajectories (number of stations visited)\n",
    "    avg_len_trj = average_length_of_trajectories(dict_trajectories, is_focus_on_ticket_code=True, ticket_code=ticket_code)\n",
    "    print('The average length of the trajectories is: {}'.format(avg_len_trj))\n",
    "    \n",
    "    # c. Compute the number of users (Seriale)\n",
    "    number_of_users = len(dict_trajectories.keys()) # TODO: r u sure?\n",
    "    \n",
    "    # d. Compute the number of trajectories\n",
    "    num_trj = number_of_trajectories(dict_trajectories, is_focus_on_ticket_code=True, ticket_code=ticket_code, summary=False)\n",
    "    print('The number of trajectories is: {}'.format(num_trj))\n",
    "    \n",
    "    # e. Find the most frequent trajectories\n",
    "    most_frequent_trajectories(dict_trajectories, is_focus_on_ticket_code=True, ticket_code=ticket_code, k=5, summary=True, min_length=2)\n",
    "    print('')"
   ]
  },
  {
   "cell_type": "code",
   "execution_count": null,
   "metadata": {},
   "outputs": [],
   "source": [
    "def print_trajectories_of_user(dict_trajectories: dict, user: str):\n",
    "    \"\"\"\n",
    "        This function prints the trajectories of a user.\n",
    "        :param dict_trajectories: the dictionary with the trajectories\n",
    "        :param user: the user\n",
    "    \"\"\"\n",
    "    # print the dataframes of the trajectories of the user\n",
    "    df_aux = df[df['SERIALE'] == user]\n",
    "    print(df_aux)"
   ]
  },
  {
   "cell_type": "code",
   "execution_count": null,
   "metadata": {},
   "outputs": [],
   "source": [
    "# Given the serial of a user, print the trajectories of the user\n",
    "# Serial of the user of the first trajectory\n",
    "serial = list(dict_trajectories.keys())[0][0]\n",
    "# Print the trajectories of the user\n",
    "print_trajectories_of_user(dict_trajectories, serial)"
   ]
  },
  {
   "attachments": {},
   "cell_type": "markdown",
   "metadata": {},
   "source": [
    "### Find the most frequent trajectories with the entire dataset"
   ]
  },
  {
   "cell_type": "code",
   "execution_count": null,
   "metadata": {},
   "outputs": [],
   "source": [
    "# Create a dictionary with the trajectories of the users with the entire dataset\n",
    "dict_trajectories = create_dictionary_with_trajectories(df)\n",
    "# Find the most frequent trajectories and print the summary\n",
    "most_freq_trj = most_frequent_trajectories(dict_trajectories, k=20, summary=True, min_length=3)"
   ]
  },
  {
   "attachments": {},
   "cell_type": "markdown",
   "metadata": {},
   "source": [
    "### Find the most frequent trajectories with the dataset with a specified ticket code"
   ]
  },
  {
   "cell_type": "code",
   "execution_count": null,
   "metadata": {},
   "outputs": [],
   "source": [
    "# Create a dictionary with the trajectories of the users with the ticket code '1'\n",
    "ticket_code = '1'\n",
    "df_sup = mf.focus_on_ticket_code(df, ticket_code)\n",
    "# Create a dictionary with the trajectories of the users with the ticket code '1'\n",
    "dict_trajectories = create_dictionary_with_trajectories(df_sup, file_name= file_name + '_' + 'tc:' + ticket_code)\n",
    "# Save the most frequent trajectories in a variable\n",
    "most_frq_trj = most_frequent_trajectories(dict_trajectories, is_focus_on_ticket_code=True, ticket_code='1', summary=False, k = -1, min_length=4)"
   ]
  },
  {
   "cell_type": "code",
   "execution_count": null,
   "metadata": {},
   "outputs": [],
   "source": [
    "# Which are the common itineraries for tourists? \n",
    "# The tourist have the ticket code '1', '2', '3', '4'\n",
    "# Create a dictionary with the trajectories of the users with the ticket code '1', '2', '3', '4'\n",
    "df_sup = mf.focus_on_ticket_code_list(df,['1','2','3','4'])\n",
    "# Create a dictionary with the trajectories of the users with the ticket code '1', '2', '3', '4'\n",
    "dict_trajectories = create_dictionary_with_trajectories(df_sup, file_name= file_name + '_' + 'tourists')\n",
    "# Save the most frequent trajectories in a variable\n",
    "most_frq_trj = most_frequent_trajectories(dict_trajectories, k = 20, min_length=4, summary=True)"
   ]
  },
  {
   "cell_type": "code",
   "execution_count": null,
   "metadata": {},
   "outputs": [],
   "source": [
    "# Which are the common itineraries for not tourists?\n",
    "# The not tourist have the ticket code different from '1', '2', '3', '4'\n",
    "# Create a dictionary with the trajectories of the users with the ticket code different from '1', '2', '3', '4'\n",
    "df_sup = mf.focus_on_ticket_code_list(df,['5', '5-WKRS', '5-STUD', '5-RET', '6', '6-WKRS', '6-STUD', '6-RET'])\n",
    "# Create a dictionary with the trajectories of the users with the ticket code different from '1', '2', '3', '4'\n",
    "dict_trajectories = create_dictionary_with_trajectories(df_sup, file_name = file_name + '_' + 'not_tourists')\n",
    "# Save the most frequent trajectories in a variable\n",
    "most_frq_trj = most_frequent_trajectories(dict_trajectories, k = 20, min_length=4, summary=True)\n"
   ]
  },
  {
   "cell_type": "code",
   "execution_count": null,
   "metadata": {},
   "outputs": [],
   "source": [
    "# Which are the common itineraries for students?\n",
    "# The students have the ticket code '5-STUD', '6-STUD'\n",
    "# Create a dictionary with the trajectories of the users with the ticket code '5-STUD', '6-STUD'\n",
    "df_sup = mf.focus_on_ticket_code_list(df,['5-STUD', '6-STUD'])\n",
    "# Create a dictionary with the trajectories of the users with the ticket code '5-STUD', '6-STUD'\n",
    "dict_trajectories = create_dictionary_with_trajectories(df_sup, file_name = file_name + '_' + 'students')\n",
    "# Save the most frequent trajectories in a variable\n",
    "most_frq_trj = most_frequent_trajectories(dict_trajectories, k = 20, min_length=4, summary=True)\n"
   ]
  },
  {
   "cell_type": "code",
   "execution_count": null,
   "metadata": {},
   "outputs": [],
   "source": [
    "# Which are the common itineraries for workers?\n",
    "# The workers have the ticket code '5-WKRS', '6-WKRS'\n",
    "# Create a dictionary with the trajectories of the users with the ticket code '5-WKRS', '6-WKRS'\n",
    "df_sup = mf.focus_on_ticket_code_list(df,['5-WKRS', '6-WKRS'])\n",
    "# Create a dictionary with the trajectories of the users with the ticket code '5-WKRS', '6-WKRS'\n",
    "dict_trajectories = create_dictionary_with_trajectories(df_sup, file_name = file_name + '_' + 'workers')\n",
    "# Save the most frequent trajectories in a variable\n",
    "most_frq_trj = most_frequent_trajectories(dict_trajectories, k = 20, min_length=4, summary=True)"
   ]
  },
  {
   "cell_type": "code",
   "execution_count": null,
   "metadata": {},
   "outputs": [],
   "source": [
    "# Which are the common itineraries for retired?\n",
    "# The retired have the ticket code '5-RET', '6-RET'\n",
    "# Create a dictionary with the trajectories of the users with the ticket code '5-RET', '6-RET'\n",
    "df_sup = mf.focus_on_ticket_code_list(df,['5-RET', '6-RET'])\n",
    "# Create a dictionary with the trajectories of the users with the ticket code '5-RET', '6-RET'\n",
    "dict_trajectories = create_dictionary_with_trajectories(df_sup, file_name = file_name + '_' + 'retired')\n",
    "# Save the most frequent trajectories in a variable\n",
    "most_frq_trj = most_frequent_trajectories(dict_trajectories, k = 20, min_length=4, summary=True)"
   ]
  },
  {
   "attachments": {},
   "cell_type": "markdown",
   "metadata": {},
   "source": [
    "### Find the most frequent trajectories with the dataset with a specified ticket code\n"
   ]
  },
  {
   "cell_type": "code",
   "execution_count": null,
   "metadata": {},
   "outputs": [],
   "source": [
    "# # Create a dictionary with the trajectories of the users with the ticket code '1'\n",
    "# df_sup = mf.focus_on_ticket_code(df,'1')\n",
    "# # Create a dictionary with the trajectories of the users with the ticket code '1'\n",
    "# dict_trajectories = create_dictionary_with_trajectories(df_sup)\n",
    "# # Find the trajectories with at least 20 stations visited with the ticket code '1'\n",
    "# trajectories_with_at_least_k_stations(dict_trajectories, 4)"
   ]
  },
  {
   "attachments": {},
   "cell_type": "markdown",
   "metadata": {},
   "source": [
    "### Longest Common Subsequence (LCS)"
   ]
  },
  {
   "cell_type": "code",
   "execution_count": null,
   "metadata": {},
   "outputs": [],
   "source": [
    "def longest_common_subsequence_of_two_trajectories (trajectory_1: list, trajectory_2: list) -> list:\n",
    "    \"\"\"\n",
    "        This function computes the longest common subsequence of two trajectories.\n",
    "        :param trajectory_1: the first trajectory\n",
    "        :param trajectory_2: the second trajectory\n",
    "        :return: the longest common subsequence of the two trajectories\n",
    "    \"\"\"\n",
    "    # Create the matrix\n",
    "    matrix = [[0 for x in range(len(trajectory_2) + 1)] for x in range(len(trajectory_1) + 1)]\n",
    "\n",
    "    # Compute the LCS\n",
    "    for i in range(1, len(trajectory_1) + 1):\n",
    "        for j in range(1, len(trajectory_2) + 1):\n",
    "            if trajectory_1[i - 1] == trajectory_2[j - 1]:\n",
    "                matrix[i][j] = matrix[i - 1][j - 1] + 1\n",
    "            else:\n",
    "                matrix[i][j] = max(matrix[i - 1][j], matrix[i][j - 1])\n",
    "\n",
    "    # Find the LCS\n",
    "    i = len(trajectory_1)\n",
    "    j = len(trajectory_2)\n",
    "    lcs = []\n",
    "    while i > 0 and j > 0:\n",
    "        if trajectory_1[i - 1] == trajectory_2[j - 1]:\n",
    "            lcs.append(trajectory_1[i - 1])\n",
    "            i -= 1\n",
    "            j -= 1\n",
    "        elif matrix[i - 1][j] > matrix[i][j - 1]:\n",
    "            i -= 1\n",
    "        else:\n",
    "            j -= 1\n",
    "\n",
    "    # Reverse the LCS\n",
    "    lcs.reverse()\n",
    "\n",
    "    return lcs"
   ]
  },
  {
   "cell_type": "code",
   "execution_count": null,
   "metadata": {},
   "outputs": [],
   "source": [
    "def longest_common_subsequence (dict_trajectories: dict):\n",
    "    \"\"\"\n",
    "        This function computes the longest common subsequence of the trajectories of the dictionary.\n",
    "        :param dict_trajectories: the dictionary with the trajectories\n",
    "        :return: the longest common subsequence\n",
    "    \"\"\"\n",
    "\n",
    "    # Compute the longest common subsequence\n",
    "    # The trajectories of the dictionary are the keys of the dictionary\n",
    "    trajectories = list(dict_trajectories.keys())\n",
    "    lcs = trajectories[0]\n",
    "    for i in range(1, len(trajectories)):\n",
    "        lcs = longest_common_subsequence_of_two_trajectories(lcs, trajectories[i])"
   ]
  },
  {
   "cell_type": "code",
   "execution_count": null,
   "metadata": {},
   "outputs": [],
   "source": [
    "def shortest_common_supersequence_of_two_trajectories (trajectory_1: list, trajectory_2: list) -> list:\n",
    "    \"\"\"\n",
    "        This function computes the shortest common supersequence of two trajectories.\n",
    "        :param trajectory_1: the first trajectory\n",
    "        :param trajectory_2: the second trajectory\n",
    "        :return: the shortest common supersequence of the two trajectories\n",
    "    \"\"\"\n",
    "    # Create the matrix\n",
    "    matrix = [[0 for x in range(len(trajectory_2) + 1)] for x in range(len(trajectory_1) + 1)]\n",
    "\n",
    "    # Compute the SCS\n",
    "    for i in range(1, len(trajectory_1) + 1):\n",
    "        for j in range(1, len(trajectory_2) + 1):\n",
    "            if trajectory_1[i - 1] == trajectory_2[j - 1]:\n",
    "                matrix[i][j] = matrix[i - 1][j - 1] + 1\n",
    "            else:\n",
    "                matrix[i][j] = max(matrix[i - 1][j], matrix[i][j - 1])\n",
    "\n",
    "    # Find the SCS\n",
    "    i = len(trajectory_1)\n",
    "    j = len(trajectory_2)\n",
    "    scs = []\n",
    "    while i > 0 and j > 0:\n",
    "        if trajectory_1[i - 1] == trajectory_2[j - 1]:\n",
    "            scs.append(trajectory_1[i - 1])\n",
    "            i -= 1\n",
    "            j -= 1\n",
    "        elif matrix[i - 1][j] > matrix[i][j - 1]:\n",
    "            scs.append(trajectory_1[i - 1])\n",
    "            i -= 1\n",
    "        else:\n",
    "            scs.append(trajectory_2[j - 1])\n",
    "            j -= 1\n",
    "\n",
    "    # Add the remaining elements of trajectory_1\n",
    "    while i > 0:\n",
    "        scs.append(trajectory_1[i - 1])\n",
    "        i -= 1\n",
    "\n",
    "    # Add the remaining elements of trajectory_2\n",
    "    while j > 0:\n",
    "        scs.append(trajectory_2[j - 1])\n",
    "        j -= 1\n",
    "\n",
    "    # Reverse the SCS\n",
    "    scs.reverse()\n",
    "\n",
    "    return scs"
   ]
  },
  {
   "cell_type": "code",
   "execution_count": null,
   "metadata": {},
   "outputs": [],
   "source": [
    "def shortest_common_supersequence (dict_trajectories: dict) -> list:\n",
    "    \"\"\"\n",
    "        This function computes the shortest common supersequence of the trajectories of the dictionary.\n",
    "        :param dict_trajectories: the dictionary with the trajectories\n",
    "        :return: the shortest common supersequence\n",
    "    \"\"\"\n",
    "\n",
    "    # Compute the shortest common supersequence\n",
    "    # The trajectories of the dictionary are the keys of the dictionary\n",
    "    trajectories = list(dict_trajectories.keys())\n",
    "    scs = trajectories[0]\n",
    "    for i in range(1, len(trajectories)):\n",
    "        scs = shortest_common_supersequence_of_two_trajectories(scs, trajectories[i])\n",
    "    \n",
    "    return scs"
   ]
  },
  {
   "cell_type": "code",
   "execution_count": null,
   "metadata": {},
   "outputs": [],
   "source": [
    "# # Find the Longest Common Subsequence (LCS) between two trajectories\n",
    "# trajectory_1 = ['SAN MARCO', 'P.LE ROMA', 'RIALTO', 'PUNTA SABBIO', 'BURANO']\n",
    "# trajectory_2 = ['SAN MARCO', 'P.LE ROMA', 'PUNTA SABBIO', 'BURANO']\n",
    "\n",
    "# lcs = longest_common_subsequence(trajectory_1, trajectory_2)\n",
    "# print('The Longest Common Subsequence (LCS) between the trajectories {} and {} is {}'.format(trajectory_1, trajectory_2, lcs))"
   ]
  },
  {
   "cell_type": "code",
   "execution_count": null,
   "metadata": {},
   "outputs": [],
   "source": [
    "# # Find the Longest Common Subsequence (LCS) between two trajectories\n",
    "# # Trajectory 1 is the trajectory of the dataset with the ticket code 1\n",
    "# # Trajectory 2 is the most frequent trajectory of the dataset with the ticket code 2\n",
    "# df_sup = mf.focus_on_ticket_code(df,'1')\n",
    "# dict_trajectories = create_dictionary_with_trajectories(df_sup)\n",
    "# dict_trajectories_number = most_frequent_trajectories(dict_trajectories, is_focus_on_ticket_code=True, ticket_code='1', summary=False)\n",
    "# trajectory_1 = list(dict_trajectories_number.keys())[8]\n",
    "\n",
    "# df_sup = mf.focus_on_ticket_code(df,'2')\n",
    "# dict_trajectories = create_dictionary_with_trajectories(df_sup)\n",
    "# dict_trajectories_number = most_frequent_trajectories(dict_trajectories, is_focus_on_ticket_code=True, ticket_code='2', summary=False)\n",
    "# trajectory_2 = list(dict_trajectories_number.keys())[0]\n",
    "\n",
    "# lcs = longest_common_subsequence(trajectory_1, trajectory_2)\n",
    "# print('The Longest Common Subsequence (LCS) between the trajectory {} and the trajectory {} is {}'.format(trajectory_1, trajectory_2, lcs))"
   ]
  },
  {
   "attachments": {},
   "cell_type": "markdown",
   "metadata": {},
   "source": [
    "_____"
   ]
  },
  {
   "cell_type": "code",
   "execution_count": null,
   "metadata": {},
   "outputs": [],
   "source": [
    "def most_frequent_stations_visited_by_the_users (dict_trajectories: dict, is_focus_on_ticket_code: bool = False, ticket_code: str = \"\", summary: bool = False) -> dict:\n",
    "    \"\"\"\n",
    "        This function finds the most frequent stations visited by the users.\n",
    "        :param dict_trajectories: the dictionary with the trajectories of the users\n",
    "        :param is_focus_on_ticket_code: if True, the function is focused on the ticket code\n",
    "        :param ticket_code: the ticket code\n",
    "        :param summary: if True, the function prints the summary\n",
    "        :return: the dictionary with the most frequent stations visited by the users\n",
    "    \"\"\"\n",
    "    # Create a dictionary with the most frequent stations visited by the users\n",
    "    dict_stations = {}\n",
    "    \n",
    "    # For each trajectory\n",
    "    for trajectory in dict_trajectories.keys():\n",
    "        # For each station in the trajectory\n",
    "        for station in dict_trajectories[trajectory]:\n",
    "            # If the station is not in the dictionary, add it\n",
    "            if station not in dict_stations.keys():\n",
    "                dict_stations[station] = 1\n",
    "            # If the station is in the dictionary, increment its value\n",
    "            else:\n",
    "                dict_stations[station] += 1\n",
    "\n",
    "    # Sort the dictionary with the most frequent stations visited by the users\n",
    "    dict_stations = {k: v for k, v in sorted(dict_stations.items(), key=lambda item: item[1], reverse=True)}\n",
    "\n",
    "    # Print the summary\n",
    "    if summary and is_focus_on_ticket_code:\n",
    "        print('The most frequent stations visited by the users with the ticket code {} are:'.format(ticket_code))\n",
    "        for station in dict_stations.keys():\n",
    "            print('The station {} is visited {} times'.format(station, dict_stations[station]))\n",
    "    elif summary:\n",
    "        print('The most frequent stations visited by the users are:')\n",
    "        for station in dict_stations.keys():\n",
    "            print('The station {} is visited {} times'.format(station, dict_stations[station]))\n",
    "\n",
    "    return dict_stations"
   ]
  },
  {
   "cell_type": "code",
   "execution_count": null,
   "metadata": {},
   "outputs": [],
   "source": [
    "def rearrange_dictionary_with_trajectories (dict_trajectories: dict) -> dict:\n",
    "    \"\"\"\n",
    "        This function rearranges the dictionary with the trajectories of the users.\n",
    "        :param dict_trajectories: the dictionary with the trajectories of the users\n",
    "        :return: the rearranged dictionary with the trajectories of the users\n",
    "    \"\"\"\n",
    "    # Create the rearranged dictionary with the trajectories of the users\n",
    "    dict_trajectories_rearranged = {}\n",
    "\n",
    "    # For each trajectory\n",
    "    for trajectory in dict_trajectories.keys():\n",
    "        # For each station in the trajectory\n",
    "        for station in dict_trajectories[trajectory]:\n",
    "            # If the station is not in the dictionary, add it\n",
    "            if station not in dict_trajectories_rearranged.keys():\n",
    "                dict_trajectories_rearranged[station] = [trajectory]\n",
    "            # If the station is in the dictionary, append the trajectory\n",
    "            else:\n",
    "                dict_trajectories_rearranged[station].append(trajectory)\n",
    "\n",
    "    return dict_trajectories_rearranged"
   ]
  },
  {
   "cell_type": "code",
   "execution_count": null,
   "metadata": {},
   "outputs": [],
   "source": [
    "# # Are there typical patterns in the movements of the users? \n",
    "# # Using different clustring techniques, find the most frequent trajectories and the most frequent stations visited by the users.\n",
    "# # Create a dictionary with the trajectories of the users with the entire dataset\n",
    "# dict_trajectories = create_dictionary_with_trajectories(df)\n",
    "# # Find the most frequent trajectories and print the summary\n",
    "# most_frequent_trajectories(dict_trajectories, summary=False)\n",
    "# # Find the most frequent stations visited by the users and print the summary\n",
    "# most_frequent_stations_visited_by_the_users(dict_trajectories, summary=False)\n",
    "\n",
    "# # Cluster the users using the K-Means algorithm\n",
    "# # Create a dictionary with the trajectories of the users with the entire dataset\n",
    "# # dict_trajectories = create_dictionary_with_trajectories(df)\n",
    "# # Cluster the users using the K-Means algorithm\n",
    "# from sklearn.cluster import KMeans\n",
    "\n",
    "# merged_list = sum([sublist for sublist in list(dict_trajectories.values())], [])\n",
    "\n",
    "# # Cluster the users using the K-Means algorithm\n",
    "# kmeans = KMeans(n_clusters=3, random_state=0).fit(np.array(merged_list))\n",
    "# # Create a dictionary with the clusters\n",
    "# dict_clusters = {}\n",
    "# for i in range(len(kmeans.labels_)):\n",
    "#     if kmeans.labels_[i] not in dict_clusters.keys():\n",
    "#         dict_clusters[kmeans.labels_[i]] = []\n",
    "#     dict_clusters[kmeans.labels_[i]].append(list(dict_trajectories.keys())[i])\n",
    "# # Print the summary\n",
    "# print('The clusters are:')\n",
    "# for cluster in dict_clusters.keys():\n",
    "#     print('The cluster {} contains the following trajectories:'.format(cluster))\n",
    "#     for trajectory in dict_clusters[cluster]:\n",
    "#         print(trajectory)"
   ]
  }
 ],
 "metadata": {
  "kernelspec": {
   "display_name": "Python 3",
   "language": "python",
   "name": "python3"
  },
  "language_info": {
   "codemirror_mode": {
    "name": "ipython",
    "version": 3
   },
   "file_extension": ".py",
   "mimetype": "text/x-python",
   "name": "python",
   "nbconvert_exporter": "python",
   "pygments_lexer": "ipython3",
   "version": "3.11.2"
  },
  "orig_nbformat": 4,
  "vscode": {
   "interpreter": {
    "hash": "aee8b7b246df8f9039afb4144a1f6fd8d2ca17a180786b69acc140d282b71a49"
   }
  }
 },
 "nbformat": 4,
 "nbformat_minor": 2
}
