{
 "cells": [
  {
   "attachments": {},
   "cell_type": "markdown",
   "metadata": {},
   "source": [
    "# MASTER - Notebook 2\n",
    "### Matteo Grazioso 884055"
   ]
  },
  {
   "cell_type": "code",
   "execution_count": 35,
   "metadata": {},
   "outputs": [],
   "source": [
    "# Import libraries\n",
    "import pandas as pd\n",
    "import numpy as np\n",
    "import matplotlib.pyplot as plt\n",
    "import seaborn as sns\n",
    "import matplotlib.dates as mdates\n",
    "from datetime import datetime\n",
    "import json\n",
    "import warnings\n",
    "warnings.filterwarnings('ignore')"
   ]
  },
  {
   "cell_type": "code",
   "execution_count": 36,
   "metadata": {},
   "outputs": [],
   "source": [
    "# Disply all columns and all rows\n",
    "pd.set_option('display.max_columns', None)\n",
    "pd.set_option('display.max_rows', None)"
   ]
  },
  {
   "cell_type": "code",
   "execution_count": 37,
   "metadata": {},
   "outputs": [],
   "source": [
    "# The file contains the data of the validation of tickets in the city of public transport of Venice.\n",
    "# The file has been created by the Notebook 1.ipynb\n",
    "\n",
    "# Import the data into a dataframe of a txt file\n",
    "path = 'data/processed/dataset_cleaned_validazioni.txt'\n",
    "# path = 'data/processed/dataset_cleaned_esportazioneCompleta.txt'\n",
    "\n",
    "df = pd.read_csv(path, header=0, sep='\\t')\n",
    "\n",
    "# Save the name of the file in a variable for future use extracting the name of the file from the path\n",
    "file_name = path.split('_')[-1].split('.')[0]\n",
    "\n",
    "# Display the first 5 rows of the dataframe\n",
    "df.head()\n",
    "\n",
    "# Convert the column 'DATA' to datetime format\n",
    "df['DATA'] = pd.to_datetime(df['DATA'], format='%Y-%m-%d')"
   ]
  },
  {
   "cell_type": "code",
   "execution_count": 38,
   "metadata": {},
   "outputs": [
    {
     "data": {
      "text/html": [
       "<div>\n",
       "<style scoped>\n",
       "    .dataframe tbody tr th:only-of-type {\n",
       "        vertical-align: middle;\n",
       "    }\n",
       "\n",
       "    .dataframe tbody tr th {\n",
       "        vertical-align: top;\n",
       "    }\n",
       "\n",
       "    .dataframe thead th {\n",
       "        text-align: right;\n",
       "    }\n",
       "</style>\n",
       "<table border=\"1\" class=\"dataframe\">\n",
       "  <thead>\n",
       "    <tr style=\"text-align: right;\">\n",
       "      <th></th>\n",
       "      <th>DATA</th>\n",
       "      <th>ORA</th>\n",
       "      <th>DATA_VALIDAZIONE</th>\n",
       "      <th>SERIALE</th>\n",
       "      <th>FERMATA</th>\n",
       "      <th>DESCRIZIONE</th>\n",
       "      <th>TITOLO</th>\n",
       "      <th>TICKET_CODE</th>\n",
       "      <th>DESCRIZIONE_TITOLO</th>\n",
       "    </tr>\n",
       "  </thead>\n",
       "  <tbody>\n",
       "    <tr>\n",
       "      <th>0</th>\n",
       "      <td>2022-05-13</td>\n",
       "      <td>00:00:00</td>\n",
       "      <td>2022-05-13 00:00:00</td>\n",
       "      <td>65676291870913797</td>\n",
       "      <td>5089</td>\n",
       "      <td>FERROVIA</td>\n",
       "      <td>11149</td>\n",
       "      <td>4</td>\n",
       "      <td>7GG-TPL 43,60-COMVE16,40</td>\n",
       "    </tr>\n",
       "    <tr>\n",
       "      <th>1</th>\n",
       "      <td>2022-05-13</td>\n",
       "      <td>00:00:00</td>\n",
       "      <td>2022-05-13 00:00:00</td>\n",
       "      <td>36141384536591364</td>\n",
       "      <td>5032</td>\n",
       "      <td>FERROVIA</td>\n",
       "      <td>11107</td>\n",
       "      <td>2</td>\n",
       "      <td>48H-TPL 24,90-COMVE5,10</td>\n",
       "    </tr>\n",
       "    <tr>\n",
       "      <th>2</th>\n",
       "      <td>2022-05-13</td>\n",
       "      <td>00:00:00</td>\n",
       "      <td>2022-05-13 00:00:00</td>\n",
       "      <td>36144856606063108</td>\n",
       "      <td>5031</td>\n",
       "      <td>P.LE ROMA</td>\n",
       "      <td>11108</td>\n",
       "      <td>3</td>\n",
       "      <td>72H-TPL 33,40-COMVE6,60</td>\n",
       "    </tr>\n",
       "    <tr>\n",
       "      <th>3</th>\n",
       "      <td>2022-05-13</td>\n",
       "      <td>00:00:00</td>\n",
       "      <td>2022-05-13 00:00:00</td>\n",
       "      <td>36144856474364932</td>\n",
       "      <td>506</td>\n",
       "      <td>VENEZIA</td>\n",
       "      <td>11261</td>\n",
       "      <td>1</td>\n",
       "      <td>DAILY PASS VENEZIA - AVM</td>\n",
       "    </tr>\n",
       "    <tr>\n",
       "      <th>4</th>\n",
       "      <td>2022-05-13</td>\n",
       "      <td>00:00:00</td>\n",
       "      <td>2022-05-13 00:00:00</td>\n",
       "      <td>36144856606062852</td>\n",
       "      <td>5031</td>\n",
       "      <td>P.LE ROMA</td>\n",
       "      <td>11108</td>\n",
       "      <td>3</td>\n",
       "      <td>72H-TPL 33,40-COMVE6,60</td>\n",
       "    </tr>\n",
       "  </tbody>\n",
       "</table>\n",
       "</div>"
      ],
      "text/plain": [
       "        DATA       ORA     DATA_VALIDAZIONE            SERIALE  FERMATA  \\\n",
       "0 2022-05-13  00:00:00  2022-05-13 00:00:00  65676291870913797     5089   \n",
       "1 2022-05-13  00:00:00  2022-05-13 00:00:00  36141384536591364     5032   \n",
       "2 2022-05-13  00:00:00  2022-05-13 00:00:00  36144856606063108     5031   \n",
       "3 2022-05-13  00:00:00  2022-05-13 00:00:00  36144856474364932      506   \n",
       "4 2022-05-13  00:00:00  2022-05-13 00:00:00  36144856606062852     5031   \n",
       "\n",
       "  DESCRIZIONE  TITOLO  TICKET_CODE        DESCRIZIONE_TITOLO  \n",
       "0    FERROVIA   11149            4  7GG-TPL 43,60-COMVE16,40  \n",
       "1    FERROVIA   11107            2   48H-TPL 24,90-COMVE5,10  \n",
       "2   P.LE ROMA   11108            3   72H-TPL 33,40-COMVE6,60  \n",
       "3     VENEZIA   11261            1  DAILY PASS VENEZIA - AVM  \n",
       "4   P.LE ROMA   11108            3   72H-TPL 33,40-COMVE6,60  "
      ]
     },
     "execution_count": 38,
     "metadata": {},
     "output_type": "execute_result"
    }
   ],
   "source": [
    "df.head()"
   ]
  },
  {
   "cell_type": "code",
   "execution_count": 39,
   "metadata": {},
   "outputs": [
    {
     "data": {
      "text/html": [
       "<div>\n",
       "<style scoped>\n",
       "    .dataframe tbody tr th:only-of-type {\n",
       "        vertical-align: middle;\n",
       "    }\n",
       "\n",
       "    .dataframe tbody tr th {\n",
       "        vertical-align: top;\n",
       "    }\n",
       "\n",
       "    .dataframe thead th {\n",
       "        text-align: right;\n",
       "    }\n",
       "</style>\n",
       "<table border=\"1\" class=\"dataframe\">\n",
       "  <thead>\n",
       "    <tr style=\"text-align: right;\">\n",
       "      <th></th>\n",
       "      <th>DATA</th>\n",
       "      <th>ORA</th>\n",
       "      <th>DATA_VALIDAZIONE</th>\n",
       "      <th>SERIALE</th>\n",
       "      <th>FERMATA</th>\n",
       "      <th>DESCRIZIONE</th>\n",
       "      <th>TITOLO</th>\n",
       "      <th>TICKET_CODE</th>\n",
       "      <th>DESCRIZIONE_TITOLO</th>\n",
       "    </tr>\n",
       "  </thead>\n",
       "  <tbody>\n",
       "    <tr>\n",
       "      <th>4427556</th>\n",
       "      <td>2022-07-15</td>\n",
       "      <td>02:27:00</td>\n",
       "      <td>2022-07-15 02:27:00</td>\n",
       "      <td>37271982183271940</td>\n",
       "      <td>4525</td>\n",
       "      <td>SANTA MARIA</td>\n",
       "      <td>11261</td>\n",
       "      <td>1</td>\n",
       "      <td>DAILY PASS VENEZIA - AVM</td>\n",
       "    </tr>\n",
       "    <tr>\n",
       "      <th>4427557</th>\n",
       "      <td>2022-07-15</td>\n",
       "      <td>02:27:00</td>\n",
       "      <td>2022-07-15 02:27:00</td>\n",
       "      <td>37271982183274756</td>\n",
       "      <td>4525</td>\n",
       "      <td>SANTA MARIA</td>\n",
       "      <td>11261</td>\n",
       "      <td>1</td>\n",
       "      <td>DAILY PASS VENEZIA - AVM</td>\n",
       "    </tr>\n",
       "    <tr>\n",
       "      <th>4427558</th>\n",
       "      <td>2022-07-15</td>\n",
       "      <td>04:33:00</td>\n",
       "      <td>2022-07-15 04:33:00</td>\n",
       "      <td>36088514819663876</td>\n",
       "      <td>5030</td>\n",
       "      <td>P.LE ROMA</td>\n",
       "      <td>5</td>\n",
       "      <td>7</td>\n",
       "      <td>75'-TPL 6,64-COMVE0,86</td>\n",
       "    </tr>\n",
       "    <tr>\n",
       "      <th>4427559</th>\n",
       "      <td>2022-07-15</td>\n",
       "      <td>05:06:00</td>\n",
       "      <td>2022-07-15 05:06:00</td>\n",
       "      <td>40832955551087108</td>\n",
       "      <td>509</td>\n",
       "      <td>VENEZIA</td>\n",
       "      <td>12101</td>\n",
       "      <td>7</td>\n",
       "      <td>BIGL.AUT.75'MESTRE/LIDO-TSC</td>\n",
       "    </tr>\n",
       "    <tr>\n",
       "      <th>4427560</th>\n",
       "      <td>2022-07-15</td>\n",
       "      <td>05:13:00</td>\n",
       "      <td>2022-07-15 05:13:00</td>\n",
       "      <td>40832947760207876</td>\n",
       "      <td>509</td>\n",
       "      <td>VENEZIA</td>\n",
       "      <td>12101</td>\n",
       "      <td>7</td>\n",
       "      <td>BIGL.AUT.75'MESTRE/LIDO-TSC</td>\n",
       "    </tr>\n",
       "  </tbody>\n",
       "</table>\n",
       "</div>"
      ],
      "text/plain": [
       "              DATA       ORA     DATA_VALIDAZIONE            SERIALE  FERMATA  \\\n",
       "4427556 2022-07-15  02:27:00  2022-07-15 02:27:00  37271982183271940     4525   \n",
       "4427557 2022-07-15  02:27:00  2022-07-15 02:27:00  37271982183274756     4525   \n",
       "4427558 2022-07-15  04:33:00  2022-07-15 04:33:00  36088514819663876     5030   \n",
       "4427559 2022-07-15  05:06:00  2022-07-15 05:06:00  40832955551087108      509   \n",
       "4427560 2022-07-15  05:13:00  2022-07-15 05:13:00  40832947760207876      509   \n",
       "\n",
       "          DESCRIZIONE  TITOLO  TICKET_CODE           DESCRIZIONE_TITOLO  \n",
       "4427556  SANTA MARIA    11261            1     DAILY PASS VENEZIA - AVM  \n",
       "4427557  SANTA MARIA    11261            1     DAILY PASS VENEZIA - AVM  \n",
       "4427558     P.LE ROMA       5            7       75'-TPL 6,64-COMVE0,86  \n",
       "4427559       VENEZIA   12101            7  BIGL.AUT.75'MESTRE/LIDO-TSC  \n",
       "4427560       VENEZIA   12101            7  BIGL.AUT.75'MESTRE/LIDO-TSC  "
      ]
     },
     "execution_count": 39,
     "metadata": {},
     "output_type": "execute_result"
    }
   ],
   "source": [
    "df.tail()"
   ]
  },
  {
   "attachments": {},
   "cell_type": "markdown",
   "metadata": {},
   "source": [
    "---------\n"
   ]
  },
  {
   "attachments": {},
   "cell_type": "markdown",
   "metadata": {},
   "source": [
    "## Trajectories"
   ]
  },
  {
   "attachments": {},
   "cell_type": "markdown",
   "metadata": {},
   "source": [
    "We are interested in analyzing the trajectories of the users that use the public transport in the city of Venice.\n",
    "\n",
    "Note that the stops are identified by the *DESCRIZIONE* column that contains the name of the stop, so each trajectory \n",
    "is composed by the name of the stops visited by the user, so a trajectory is composed by a sequence of strings."
   ]
  },
  {
   "cell_type": "code",
   "execution_count": 42,
   "metadata": {},
   "outputs": [],
   "source": [
    "def create_dictionary_with_trajectories(df: pd.DataFrame) -> dict:\n",
    "    \"\"\"\n",
    "        This function creates a dictionary with the trajectories of the users.\n",
    "        :param df: the dataframe\n",
    "        :return: the dictionary with the trajectories of the users\n",
    "    \"\"\"\n",
    "    # Create a dictionary with the trajectories of the users\n",
    "    dict_trajectories = {}\n",
    "    # For each user\n",
    "    for serial in df['SERIALE'].unique():\n",
    "        # Select only the rows of the specified user\n",
    "        df_sup = df[df['SERIALE'] == serial]\n",
    "        # If the dataframe is not empty, focus on the user\n",
    "        if df_sup.shape[0] != 0:\n",
    "            # Create a list with the name of the stops visited by the user\n",
    "            list_stops = df_sup['DESCRIZIONE'].unique().tolist()\n",
    "            # Add the list to the dictionary\n",
    "            dict_trajectories[serial] = list_stops\n",
    "\n",
    "    return dict_trajectories"
   ]
  },
  {
   "cell_type": "code",
   "execution_count": 43,
   "metadata": {},
   "outputs": [],
   "source": [
    "def average_length_of_trajectories(dict_trajectories: dict, is_focus_on_ticket_code: bool = False, ticket_code: str = '') -> float:\n",
    "    \"\"\"\n",
    "        This function computes the average length of the trajectories.\n",
    "        :param dict_trajectories: the dictionary with the trajectories of the users\n",
    "        :return: the average length of the trajectories\n",
    "    \"\"\"\n",
    "    # Compute the average length of the trajectories\n",
    "    average_length = 0\n",
    "    for serial in dict_trajectories.keys():\n",
    "        average_length += len(dict_trajectories[serial])\n",
    "    if len(dict_trajectories.keys()) != 0:\n",
    "        average_length /= len(dict_trajectories.keys())\n",
    "        if is_focus_on_ticket_code:\n",
    "            print('The average length of the trajectories with the ticket code {} is: {}'.format(ticket_code, average_length))\n",
    "        else:\n",
    "            print('The average length of the trajectories is: {}'.format(average_length))\n",
    "    else:\n",
    "        print('WARNING: There are no trajectories to analyze')\n",
    "\n",
    "    return average_length"
   ]
  },
  {
   "cell_type": "code",
   "execution_count": null,
   "metadata": {},
   "outputs": [],
   "source": [
    "def average_lenght_of_trajectories_per_ticket_code_stmp(df: pd.DataFrame):\n",
    "    \"\"\"\n",
    "        This function computes the average length of the trajectories for each ticket code in the dataset.\n",
    "        The order of the ticket codes is mantained because the ticket codes are stored in the dictionary \"dict_ticket_codes.json\".\n",
    "        :param df: the dataframe\n",
    "        :return: None\n",
    "    \"\"\"\n",
    "    dict_trajectories = {}\n",
    "    with open('data/dictionaries/dict_ticket_codes.json', 'r') as f:\n",
    "        dict_ticket_codes = json.load(f)\n",
    "\n",
    "    # For each ticket code in the dictionary\n",
    "    for ticket_code in dict_ticket_codes.keys():\n",
    "        print(type(ticket_code))\n",
    "        # Select only the rows of the specified ticket code\n",
    "        df_sup = focus_on_ticket_code(df, ticket_code)\n",
    "        if df_sup.shape[0] != 0:\n",
    "            # Create a dictionary with the trajectories of the users\n",
    "            dict_trajectories[ticket_code] = create_dictionary_with_trajectories(df_sup)\n",
    "            average_length_of_trajectories(dict_trajectories[ticket_code], is_focus_on_ticket_code=True, ticket_code=ticket_code)\n",
    "        else:\n",
    "            # If the dataframe is empty, skip the ticket code but launch a warning\n",
    "            print('WARNING: There are no validations of the ticket code \"{}\"'.format(ticket_code))"
   ]
  },
  {
   "cell_type": "code",
   "execution_count": 45,
   "metadata": {},
   "outputs": [],
   "source": [
    "def average_length_of_trajectories_by_ticket_code_plot(dict_trajectories: dict, df: pd.DataFrame, dictionary: str) -> None:\n",
    "    \"\"\"\n",
    "        This function computes the average length of the trajectories by ticket code.\n",
    "        :param dict_trajectories: the dictionary with the trajectories of the users\n",
    "        :param df: the dataframe\n",
    "        :param dictionary: the path of the dictionary with the ticket codes and their description\n",
    "        :return: None\n",
    "    \"\"\"\n",
    "    # Compute the average length of the trajectories:\n",
    "            # There are no colums with the coordinates of the stations, and there are no columns with the distance between the stations\n",
    "            # So, I compute the average length of the trajectories by the number of stations visited\n",
    "    \n",
    "    # Open the dictionary\n",
    "    with open(dictionary) as json_file:\n",
    "        dict_ticket_code = json.load(json_file)\n",
    "\n",
    "    # Create a dictionary with the number of stations visited for each ticket code\n",
    "    dict_number_of_stations = {}\n",
    "    for ticket_code in dict_ticket_code.keys():\n",
    "        # Select only the rows of the specified ticket code\n",
    "        df_sup = df[df['TICKET_CODE'] == ticket_code]\n",
    "        # If the dataframe is not empty, focus on the ticket code\n",
    "        if df_sup.shape[0] != 0:\n",
    "            # Count the number of stations visited\n",
    "            number_of_stations = 0\n",
    "            for serial in df_sup['SERIALE'].unique():\n",
    "                number_of_stations += len(dict_trajectories[serial])\n",
    "            # Add the average length of the trajectories to the dictionary\n",
    "            dict_number_of_stations[ticket_code] = number_of_stations / df_sup['SERIALE'].nunique() \n",
    "\n",
    "    # Plot the average length of the trajectories by ticket code\n",
    "    plt.figure(figsize=(20, 10))\n",
    "    plt.bar(dict_number_of_stations.keys(), dict_number_of_stations.values())\n",
    "    plt.title('Average length of the trajectories by ticket code')\n",
    "    plt.xlabel('Ticket code')   \n",
    "    plt.ylabel('Average length of the trajectories')\n",
    "\n",
    "    # Manage the x-axis adding the description of the ticket code; note that it is possible that some ticket codes are not present in the plot\n",
    "    plt.xticks(ticks=range(0, len(dict_number_of_stations.keys())), labels=[dict_ticket_code[ticket_code] for ticket_code in dict_number_of_stations.keys()], rotation=45)\n",
    "    \n",
    "    # Manage the y-axis: note that the y-axis are float numbers: do not convert them to integers and do not use the range function\n",
    "    if max(dict_number_of_stations.values()) < 0.1:\n",
    "        plt.yticks(ticks=np.arange(0, max(dict_number_of_stations.values()) + 0.01, 0.01))\n",
    "    else:\n",
    "        plt.yticks(ticks=np.arange(0, max(dict_number_of_stations.values()) + 0.01, 0.5))\n",
    "\n",
    "    plt.show()"
   ]
  },
  {
   "cell_type": "code",
   "execution_count": 46,
   "metadata": {},
   "outputs": [],
   "source": [
    "def most_frequent_trajectories(dict_trajectories: dict, is_focus_on_ticket_code: bool = False, ticket_code: str = '', summary: bool = True) -> None:\n",
    "    \"\"\"\n",
    "        This function finds the most frequent trajectories.\n",
    "        :param dict_trajectories: the dictionary with the trajectories of the users\n",
    "        :param is_focus_on_ticket_code: True if the analysis is focused on a specific ticket code, False otherwise\n",
    "        :param ticket_code: the ticket code\n",
    "        :param summary: True if the summary of the most frequent trajectories is printed, False otherwise\n",
    "        :return: None\n",
    "    \"\"\"\n",
    "    # Find the most frequent trajectories\n",
    "    # Create a dictionary with the number of times that a trajectory is present\n",
    "    dict_trajectories_number = {}\n",
    "\n",
    "    # For each user (identified by the serial number)\n",
    "    for serial in dict_trajectories.keys():\n",
    "        # Convert the list of tuples in a tuple of tuples\n",
    "        trajectory = tuple(dict_trajectories[serial])\n",
    "\n",
    "        if trajectory in dict_trajectories_number.keys():\n",
    "            # If the trajectory is already present in the dictionary, \n",
    "            # increase the number of times that the trajectory is present\n",
    "            dict_trajectories_number[trajectory] += 1\n",
    "        else:\n",
    "            # Otherwise, add the trajectory to the dictionary\n",
    "            dict_trajectories_number[trajectory] = 1\n",
    "\n",
    "    # Sort the dictionary by the number of times that a trajectory is present\n",
    "    dict_trajectories_number = {k: v for k, v in sorted(dict_trajectories_number.items(), key=lambda item: item[1], reverse=True)}\n",
    "\n",
    "    if (summary):\n",
    "        # Print the most frequent trajectories\n",
    "        if is_focus_on_ticket_code:\n",
    "            print('The most frequent trajectories with the ticket code {} are:'.format(ticket_code))\n",
    "        else:\n",
    "            print('The most frequent trajectories are:')\n",
    "        for trajectory in list(dict_trajectories_number.keys())[:10]:\n",
    "            print('The trajectory {} is present {} times'.format(trajectory, dict_trajectories_number[trajectory]))\n",
    "    else:\n",
    "        # Return the most frequent trajectories and the number of times that they are present, \n",
    "        # ordered by the number of times that they are present\n",
    "        return dict_trajectories_number"
   ]
  },
  {
   "cell_type": "code",
   "execution_count": 47,
   "metadata": {},
   "outputs": [],
   "source": [
    "def trajectories_with_at_least_k_stations(dict_trajectories: dict, k: int) -> None:\n",
    "    \"\"\"\n",
    "        This function finds the trajectories with at least k stations visited.\n",
    "        :param dict_trajectories: the dictionary with the trajectories of the users\n",
    "        :param k: the number of stations\n",
    "        :return: None\n",
    "    \"\"\"\n",
    "    # Find the trajectories with at least k stations visited\n",
    "    # Create a dictionary with the number of times that a trajectory is present\n",
    "    dict_trajectories_number = {}\n",
    "    for serial in dict_trajectories.keys():\n",
    "        trajectory = tuple(dict_trajectories[serial])\n",
    "        if trajectory in dict_trajectories_number.keys():\n",
    "            dict_trajectories_number[trajectory] += 1\n",
    "        else:\n",
    "            dict_trajectories_number[trajectory] = 1\n",
    "\n",
    "    # Sort the dictionary by the number of times that a trajectory is present\n",
    "    dict_trajectories_number = {k: v for k, v in sorted(dict_trajectories_number.items(), key=lambda item: item[1], reverse=True)}\n",
    "\n",
    "    # Print the trajectories with at least k stations visited\n",
    "    print('The trajectories with at least {} stations visited are:'.format(k))\n",
    "    for trajectory in dict_trajectories_number.keys():\n",
    "        if len(trajectory) >= k:\n",
    "            print('The trajectory {} is present {} times'.format(trajectory, dict_trajectories_number[trajectory]))"
   ]
  },
  {
   "cell_type": "code",
   "execution_count": 48,
   "metadata": {},
   "outputs": [],
   "source": [
    "def longest_common_subsequence(trajectory_1: list, trajectory_2: list) -> list:\n",
    "    \"\"\"\n",
    "        This function finds the Longest Common Subsequence (LCS) between two trajectories.\n",
    "        :param trajectory_1: the first trajectory\n",
    "        :param trajectory_2: the second trajectory\n",
    "        :return: the LCS\n",
    "    \"\"\"\n",
    "    # Find the LCS\n",
    "    # Create a matrix with the length of the LCS between two trajectories\n",
    "    matrix = [[0 for x in range(len(trajectory_2) + 1)] for y in range(len(trajectory_1) + 1)]\n",
    "    for i in range(1, len(trajectory_1) + 1):\n",
    "        for j in range(1, len(trajectory_2) + 1):\n",
    "            if trajectory_1[i - 1] == trajectory_2[j - 1]:\n",
    "                matrix[i][j] = matrix[i - 1][j - 1] + 1\n",
    "            else:\n",
    "                matrix[i][j] = max(matrix[i - 1][j], matrix[i][j - 1])\n",
    "\n",
    "    # Find the LCS\n",
    "    i = len(trajectory_1)\n",
    "    j = len(trajectory_2)\n",
    "    lcs = []\n",
    "    while i > 0 and j > 0:\n",
    "        if trajectory_1[i - 1] == trajectory_2[j - 1]:\n",
    "            lcs.append(trajectory_1[i - 1])\n",
    "            i -= 1\n",
    "            j -= 1\n",
    "        elif matrix[i - 1][j] > matrix[i][j - 1]:\n",
    "            i -= 1\n",
    "        else:\n",
    "            j -= 1\n",
    "\n",
    "    # Reverse the LCS\n",
    "    lcs.reverse()\n",
    "\n",
    "    return lcs"
   ]
  },
  {
   "attachments": {},
   "cell_type": "markdown",
   "metadata": {},
   "source": [
    "### Compute the average length of the trajectories with the entire dataset\n"
   ]
  },
  {
   "cell_type": "code",
   "execution_count": 49,
   "metadata": {},
   "outputs": [],
   "source": [
    "# Create a dictionary with the trajectories of the users\n",
    "dict_trajectories = create_dictionary_with_trajectories(df)"
   ]
  },
  {
   "cell_type": "code",
   "execution_count": 51,
   "metadata": {},
   "outputs": [
    {
     "name": "stdout",
     "output_type": "stream",
     "text": [
      "The average length of the trajectories is: 2.084814685920107\n",
      "WARNING: There are no validations of the ticket code \"1\"\n",
      "WARNING: There are no validations of the ticket code \"2\"\n",
      "WARNING: There are no validations of the ticket code \"3\"\n",
      "WARNING: There are no validations of the ticket code \"4\"\n",
      "WARNING: There are no validations of the ticket code \"5\"\n",
      "WARNING: There are no validations of the ticket code \"5-STUD\"\n",
      "WARNING: There are no validations of the ticket code \"5-RET\"\n",
      "WARNING: There are no validations of the ticket code \"5-WKRS\"\n",
      "WARNING: There are no validations of the ticket code \"6\"\n",
      "WARNING: There are no validations of the ticket code \"6-STUD\"\n",
      "WARNING: There are no validations of the ticket code \"6-RET\"\n",
      "WARNING: There are no validations of the ticket code \"6-WKRS\"\n",
      "WARNING: There are no validations of the ticket code \"7\"\n",
      "WARNING: There are no validations of the ticket code \"8\"\n"
     ]
    },
    {
     "ename": "ValueError",
     "evalue": "max() arg is an empty sequence",
     "output_type": "error",
     "traceback": [
      "\u001b[0;31m---------------------------------------------------------------------------\u001b[0m",
      "\u001b[0;31mValueError\u001b[0m                                Traceback (most recent call last)",
      "Cell \u001b[0;32mIn[51], line 6\u001b[0m\n\u001b[1;32m      4\u001b[0m average_lenght_of_trajectories_per_ticket_code_stmp(df)\n\u001b[1;32m      5\u001b[0m \u001b[39m# Plot the average length of the trajectories by ticket code\u001b[39;00m\n\u001b[0;32m----> 6\u001b[0m average_length_of_trajectories_by_ticket_code_plot(dict_trajectories, df, \u001b[39m'\u001b[39;49m\u001b[39mdata/dictionaries/dict_ticket_codes.json\u001b[39;49m\u001b[39m'\u001b[39;49m)\n",
      "Cell \u001b[0;32mIn[45], line 42\u001b[0m, in \u001b[0;36maverage_length_of_trajectories_by_ticket_code_plot\u001b[0;34m(dict_trajectories, df, dictionary)\u001b[0m\n\u001b[1;32m     39\u001b[0m plt\u001b[39m.\u001b[39mxticks(ticks\u001b[39m=\u001b[39m\u001b[39mrange\u001b[39m(\u001b[39m0\u001b[39m, \u001b[39mlen\u001b[39m(dict_number_of_stations\u001b[39m.\u001b[39mkeys())), labels\u001b[39m=\u001b[39m[dict_ticket_code[ticket_code] \u001b[39mfor\u001b[39;00m ticket_code \u001b[39min\u001b[39;00m dict_number_of_stations\u001b[39m.\u001b[39mkeys()], rotation\u001b[39m=\u001b[39m\u001b[39m45\u001b[39m)\n\u001b[1;32m     41\u001b[0m \u001b[39m# Manage the y-axis: note that the y-axis are float numbers: do not convert them to integers and do not use the range function\u001b[39;00m\n\u001b[0;32m---> 42\u001b[0m \u001b[39mif\u001b[39;00m \u001b[39mmax\u001b[39;49m(dict_number_of_stations\u001b[39m.\u001b[39;49mvalues()) \u001b[39m<\u001b[39m \u001b[39m0.1\u001b[39m:\n\u001b[1;32m     43\u001b[0m     plt\u001b[39m.\u001b[39myticks(ticks\u001b[39m=\u001b[39mnp\u001b[39m.\u001b[39marange(\u001b[39m0\u001b[39m, \u001b[39mmax\u001b[39m(dict_number_of_stations\u001b[39m.\u001b[39mvalues()) \u001b[39m+\u001b[39m \u001b[39m0.01\u001b[39m, \u001b[39m0.01\u001b[39m))\n\u001b[1;32m     44\u001b[0m \u001b[39melse\u001b[39;00m:\n",
      "\u001b[0;31mValueError\u001b[0m: max() arg is an empty sequence"
     ]
    },
    {
     "data": {
      "image/png": "[encoded data removed]",
      "text/plain": [
       "<Figure size 2000x1000 with 1 Axes>"
      ]
     },
     "metadata": {},
     "output_type": "display_data"
    }
   ],
   "source": [
    "# Compute the average length of the trajectories\n",
    "average_lenght = average_length_of_trajectories(dict_trajectories)\n",
    "# Compute the average length of the trajectories by ticket code\n",
    "average_lenght_of_trajectories_per_ticket_code_stmp(df)\n",
    "# Plot the average length of the trajectories by ticket code\n",
    "average_length_of_trajectories_by_ticket_code_plot(dict_trajectories, df, 'data/dictionaries/dict_ticket_codes.json')"
   ]
  },
  {
   "attachments": {},
   "cell_type": "markdown",
   "metadata": {},
   "source": [
    "### Compute the average length of the trajectories with the dataset with the ticket code 1"
   ]
  },
  {
   "cell_type": "code",
   "execution_count": null,
   "metadata": {},
   "outputs": [],
   "source": [
    "# Create a dictionary with the trajectories of the users with the ticket code '2'\n",
    "df_sup = focus_on_ticket_code(df,'1')\n",
    "# Create a dictionary with the trajectories of the users\n",
    "dict_trajectories = create_dictionary_with_trajectories(df_sup)\n",
    "# Compute the average length of the trajectories\n",
    "average_lenght = average_length_of_trajectories(dict_trajectories, is_focus_on_ticket_code=True, ticket_code='1')"
   ]
  },
  {
   "attachments": {},
   "cell_type": "markdown",
   "metadata": {},
   "source": [
    "### Find the most frequent trajectories with the entire dataset"
   ]
  },
  {
   "cell_type": "code",
   "execution_count": null,
   "metadata": {},
   "outputs": [],
   "source": [
    "# Create a dictionary with the trajectories of the users with the entire dataset\n",
    "dict_trajectories = create_dictionary_with_trajectories(df)\n",
    "# Find the most frequent trajectories and print the summary\n",
    "most_frequent_trajectories(dict_trajectories, summary=True)"
   ]
  },
  {
   "attachments": {},
   "cell_type": "markdown",
   "metadata": {},
   "source": [
    "### Find the most frequent trajectories with the dataset with a specified ticket code"
   ]
  },
  {
   "cell_type": "code",
   "execution_count": null,
   "metadata": {},
   "outputs": [],
   "source": [
    "# Create a dictionary with the trajectories of the users with the ticket code '1'\n",
    "df_sup = focus_on_ticket_code(df,'1')\n",
    "# Create a dictionary with the trajectories of the users with the ticket code '1'\n",
    "dict_trajectories = create_dictionary_with_trajectories(df_sup)\n",
    "# Find the most frequent trajectories with the ticket code '1' and print the summary\n",
    "most_frequent_trajectories(dict_trajectories, is_focus_on_ticket_code=True, ticket_code='1', summary=True)"
   ]
  },
  {
   "attachments": {},
   "cell_type": "markdown",
   "metadata": {},
   "source": [
    "### Finds the trajectories with at least k stations visited with the entire dataset"
   ]
  },
  {
   "cell_type": "code",
   "execution_count": null,
   "metadata": {},
   "outputs": [],
   "source": [
    "# Create a dictionary with the trajectories of the users with the entire dataset\n",
    "dict_trajectories = create_dictionary_with_trajectories(df)\n",
    "# Find the trajectories with at least 6 stations visited\n",
    "trajectories_with_at_least_k_stations(dict_trajectories, 6)"
   ]
  },
  {
   "attachments": {},
   "cell_type": "markdown",
   "metadata": {},
   "source": [
    "### Find the most frequent trajectories with the dataset with a specified ticket code\n"
   ]
  },
  {
   "cell_type": "code",
   "execution_count": null,
   "metadata": {},
   "outputs": [],
   "source": [
    "# Create a dictionary with the trajectories of the users with the ticket code '1'\n",
    "df_sup = focus_on_ticket_code(df,'1')\n",
    "# Create a dictionary with the trajectories of the users with the ticket code '1'\n",
    "dict_trajectories = create_dictionary_with_trajectories(df_sup)\n",
    "# Find the trajectories with at least 20 stations visited with the ticket code '1'\n",
    "trajectories_with_at_least_k_stations(dict_trajectories, 20)"
   ]
  },
  {
   "attachments": {},
   "cell_type": "markdown",
   "metadata": {},
   "source": [
    "### Longest Common Subsequence (LCS)"
   ]
  },
  {
   "cell_type": "code",
   "execution_count": null,
   "metadata": {},
   "outputs": [],
   "source": [
    "# Find the Longest Common Subsequence (LCS) between two trajectories\n",
    "trajectory_1 = ['SAN MARCO', 'P.LE ROMA', 'RIALTO', 'PUNTA SABBIO', 'BURANO']\n",
    "trajectory_2 = ['SAN MARCO', 'P.LE ROMA', 'PUNTA SABBIO', 'BURANO']\n",
    "\n",
    "lcs = longest_common_subsequence(trajectory_1, trajectory_2)\n",
    "print('The Longest Common Subsequence (LCS) between the trajectories {} and {} is {}'.format(trajectory_1, trajectory_2, lcs))"
   ]
  },
  {
   "cell_type": "code",
   "execution_count": null,
   "metadata": {},
   "outputs": [],
   "source": [
    "# Find the Longest Common Subsequence (LCS) between two trajectories\n",
    "# Trajectory 1 is the trajectory of the dataset with the ticket code 1\n",
    "# Trajectory 2 is the most frequent trajectory of the dataset with the ticket code 2\n",
    "df_sup = focus_on_ticket_code(df,'1')\n",
    "dict_trajectories = create_dictionary_with_trajectories(df_sup)\n",
    "dict_trajectories_number = most_frequent_trajectories(dict_trajectories, is_focus_on_ticket_code=True, ticket_code='1', summary=False)\n",
    "trajectory_1 = list(dict_trajectories_number.keys())[8]\n",
    "\n",
    "df_sup = focus_on_ticket_code(df,'2')\n",
    "dict_trajectories = create_dictionary_with_trajectories(df_sup)\n",
    "dict_trajectories_number = most_frequent_trajectories(dict_trajectories, is_focus_on_ticket_code=True, ticket_code='2', summary=False)\n",
    "trajectory_2 = list(dict_trajectories_number.keys())[0]\n",
    "\n",
    "lcs = longest_common_subsequence(trajectory_1, trajectory_2)\n",
    "print('The Longest Common Subsequence (LCS) between the trajectory {} and the trajectory {} is {}'.format(trajectory_1, trajectory_2, lcs))"
   ]
  },
  {
   "attachments": {},
   "cell_type": "markdown",
   "metadata": {},
   "source": [
    "_____"
   ]
  },
  {
   "cell_type": "code",
   "execution_count": null,
   "metadata": {},
   "outputs": [],
   "source": [
    "def compare_trajectories (trajectory_1: dict, trajectory_2: dict) -> int:\n",
    "    \"\"\"\n",
    "        This function compares two trajectories and returns the number of stations visited in common.\n",
    "        :param trajectory_1: the first trajectory\n",
    "        :param trajectory_2: the second trajectory\n",
    "        :return: the number of stations visited in common\n",
    "    \"\"\"\n",
    "    # Find the LCS\n",
    "    lcs = longest_common_subsequence(trajectory_1, trajectory_2)\n",
    "\n",
    "    # Find the number of stations visited in common\n",
    "    number_of_stations_visited_in_common = len(lcs)\n",
    "    \n",
    "    return number_of_stations_visited_in_common"
   ]
  },
  {
   "cell_type": "code",
   "execution_count": null,
   "metadata": {},
   "outputs": [],
   "source": [
    "# Compare the trajectories of the users with the ticket code '1' and '2' \n",
    "\n",
    "# Create a dictionary with the trajectories of the users with the ticket code '1'\n",
    "df_sup = focus_on_ticket_code(df,'1')\n",
    "dict_trajectories_1 = create_dictionary_with_trajectories(df_sup)\n",
    "\n",
    "# Create a dictionary with the trajectories of the users with the ticket code '2'\n",
    "df_sup = focus_on_ticket_code(df,'2')\n",
    "dict_trajectories_2 = create_dictionary_with_trajectories(df_sup)\n",
    "\n",
    "# Find the most frequent trajectories with the ticket code '1' and print the summary\n",
    "most_trj_1 = most_frequent_trajectories(dict_trajectories_1, is_focus_on_ticket_code=True, ticket_code='1', summary=False)\n",
    "\n",
    "# Find the most frequent trajectories with the ticket code '2' and print the summary\n",
    "most_trj_2 = most_frequent_trajectories(dict_trajectories_2, is_focus_on_ticket_code=True, ticket_code='2', summary=False)\n",
    "\n",
    "# Compare the trajectories of the users with the ticket code '1' and '2'\n",
    "compare_trajectories(most_trj_1, most_trj_2)\n"
   ]
  }
 ],
 "metadata": {
  "kernelspec": {
   "display_name": "Python 3",
   "language": "python",
   "name": "python3"
  },
  "language_info": {
   "codemirror_mode": {
    "name": "ipython",
    "version": 3
   },
   "file_extension": ".py",
   "mimetype": "text/x-python",
   "name": "python",
   "nbconvert_exporter": "python",
   "pygments_lexer": "ipython3",
   "version": "3.11.2"
  },
  "orig_nbformat": 4,
  "vscode": {
   "interpreter": {
    "hash": "aee8b7b246df8f9039afb4144a1f6fd8d2ca17a180786b69acc140d282b71a49"
   }
  }
 },
 "nbformat": 4,
 "nbformat_minor": 2
}
