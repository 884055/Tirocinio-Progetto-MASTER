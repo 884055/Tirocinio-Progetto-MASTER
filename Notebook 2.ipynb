{
 "cells": [
  {
   "attachments": {},
   "cell_type": "markdown",
   "metadata": {},
   "source": [
    "# MASTER - Notebook 2\n",
    "### Matteo Grazioso 884055"
   ]
  },
  {
   "cell_type": "code",
   "execution_count": 15,
   "metadata": {
    "ExecuteTime": {
     "start_time": "2023-04-30T11:59:19.009231Z",
     "end_time": "2023-04-30T11:59:19.544081Z"
    }
   },
   "outputs": [],
   "source": [
    "# Import libraries\n",
    "import pandas as pd\n",
    "import numpy as np\n",
    "import matplotlib.pyplot as plt\n",
    "import seaborn as sns\n",
    "import matplotlib.dates as mdates\n",
    "from datetime import datetime\n",
    "import json\n",
    "import warnings\n",
    "warnings.filterwarnings('ignore')\n",
    "\n",
    "import myfunctions as mf # Custom functions"
   ]
  },
  {
   "cell_type": "code",
   "execution_count": 16,
   "metadata": {
    "ExecuteTime": {
     "start_time": "2023-04-30T11:59:19.051841Z",
     "end_time": "2023-04-30T11:59:19.546100Z"
    }
   },
   "outputs": [],
   "source": [
    "# Disply all columns and all rows\n",
    "pd.set_option('display.max_columns', None)\n",
    "pd.set_option('display.max_rows', None)"
   ]
  },
  {
   "cell_type": "code",
   "execution_count": 17,
   "metadata": {
    "ExecuteTime": {
     "start_time": "2023-04-30T11:59:19.115601Z",
     "end_time": "2023-04-30T11:59:27.138107Z"
    }
   },
   "outputs": [],
   "source": [
    "# The file contains the data of the validation of tickets in the city of public transport of Venice.\n",
    "# The file has been created by the Notebook 1.ipynb\n",
    "\n",
    "# Import the data into a dataframe of a txt file\n",
    "path = 'data/processed/dataset_cleaned_validazioni.txt'\n",
    "# path = 'data/processed/dataset_cleaned_esportazioneCompleta.txt'\n",
    "\n",
    "df = pd.read_csv(path, header=0, sep='\\t')\n",
    "\n",
    "# Save the name of the file in a variable for future use extracting the name of the file from the path\n",
    "file_name = path.split('_')[-1].split('.')[0]\n",
    "\n",
    "# Display the first 5 rows of the dataframe\n",
    "df.head()\n",
    "\n",
    "# Convert the column 'DATA' to datetime format\n",
    "df['DATA'] = pd.to_datetime(df['DATA'], format='%Y-%m-%d')"
   ]
  },
  {
   "cell_type": "code",
   "execution_count": 18,
   "metadata": {
    "ExecuteTime": {
     "start_time": "2023-04-30T11:59:27.137887Z",
     "end_time": "2023-04-30T11:59:27.149940Z"
    }
   },
   "outputs": [],
   "source": [
    "# First 10% of the dataframe\n",
    "# df = df.iloc[:int(len(df)*0.1)]"
   ]
  },
  {
   "cell_type": "code",
   "execution_count": 19,
   "metadata": {
    "ExecuteTime": {
     "start_time": "2023-04-30T11:59:27.143096Z",
     "end_time": "2023-04-30T11:59:27.225834Z"
    }
   },
   "outputs": [
    {
     "data": {
      "text/plain": "        DATA       ORA     DATA_VALIDAZIONE            SERIALE  FERMATA  \\\n0 2022-05-13  00:00:00  2022-05-13 00:00:00  65676291870913797     5089   \n1 2022-05-13  00:00:00  2022-05-13 00:00:00  36141384536591364     5032   \n2 2022-05-13  00:00:00  2022-05-13 00:00:00  36144856606063108     5031   \n3 2022-05-13  00:00:00  2022-05-13 00:00:00  36144856474364932      506   \n4 2022-05-13  00:00:00  2022-05-13 00:00:00  36144856606062852     5031   \n\n  DESCRIZIONE  TITOLO  TICKET_CODE        DESCRIZIONE_TITOLO  \n0    FERROVIA   11149            4  7GG-TPL 43,60-COMVE16,40  \n1    FERROVIA   11107            2   48H-TPL 24,90-COMVE5,10  \n2   P.LE ROMA   11108            3   72H-TPL 33,40-COMVE6,60  \n3     VENEZIA   11261            1  DAILY PASS VENEZIA - AVM  \n4   P.LE ROMA   11108            3   72H-TPL 33,40-COMVE6,60  ",
      "text/html": "<div>\n<style scoped>\n    .dataframe tbody tr th:only-of-type {\n        vertical-align: middle;\n    }\n\n    .dataframe tbody tr th {\n        vertical-align: top;\n    }\n\n    .dataframe thead th {\n        text-align: right;\n    }\n</style>\n<table border=\"1\" class=\"dataframe\">\n  <thead>\n    <tr style=\"text-align: right;\">\n      <th></th>\n      <th>DATA</th>\n      <th>ORA</th>\n      <th>DATA_VALIDAZIONE</th>\n      <th>SERIALE</th>\n      <th>FERMATA</th>\n      <th>DESCRIZIONE</th>\n      <th>TITOLO</th>\n      <th>TICKET_CODE</th>\n      <th>DESCRIZIONE_TITOLO</th>\n    </tr>\n  </thead>\n  <tbody>\n    <tr>\n      <th>0</th>\n      <td>2022-05-13</td>\n      <td>00:00:00</td>\n      <td>2022-05-13 00:00:00</td>\n      <td>65676291870913797</td>\n      <td>5089</td>\n      <td>FERROVIA</td>\n      <td>11149</td>\n      <td>4</td>\n      <td>7GG-TPL 43,60-COMVE16,40</td>\n    </tr>\n    <tr>\n      <th>1</th>\n      <td>2022-05-13</td>\n      <td>00:00:00</td>\n      <td>2022-05-13 00:00:00</td>\n      <td>36141384536591364</td>\n      <td>5032</td>\n      <td>FERROVIA</td>\n      <td>11107</td>\n      <td>2</td>\n      <td>48H-TPL 24,90-COMVE5,10</td>\n    </tr>\n    <tr>\n      <th>2</th>\n      <td>2022-05-13</td>\n      <td>00:00:00</td>\n      <td>2022-05-13 00:00:00</td>\n      <td>36144856606063108</td>\n      <td>5031</td>\n      <td>P.LE ROMA</td>\n      <td>11108</td>\n      <td>3</td>\n      <td>72H-TPL 33,40-COMVE6,60</td>\n    </tr>\n    <tr>\n      <th>3</th>\n      <td>2022-05-13</td>\n      <td>00:00:00</td>\n      <td>2022-05-13 00:00:00</td>\n      <td>36144856474364932</td>\n      <td>506</td>\n      <td>VENEZIA</td>\n      <td>11261</td>\n      <td>1</td>\n      <td>DAILY PASS VENEZIA - AVM</td>\n    </tr>\n    <tr>\n      <th>4</th>\n      <td>2022-05-13</td>\n      <td>00:00:00</td>\n      <td>2022-05-13 00:00:00</td>\n      <td>36144856606062852</td>\n      <td>5031</td>\n      <td>P.LE ROMA</td>\n      <td>11108</td>\n      <td>3</td>\n      <td>72H-TPL 33,40-COMVE6,60</td>\n    </tr>\n  </tbody>\n</table>\n</div>"
     },
     "execution_count": 19,
     "metadata": {},
     "output_type": "execute_result"
    }
   ],
   "source": [
    "df.head()"
   ]
  },
  {
   "cell_type": "code",
   "execution_count": 20,
   "metadata": {
    "ExecuteTime": {
     "start_time": "2023-04-30T11:59:27.222688Z",
     "end_time": "2023-04-30T11:59:27.355742Z"
    }
   },
   "outputs": [
    {
     "data": {
      "text/plain": "              DATA       ORA     DATA_VALIDAZIONE            SERIALE  FERMATA  \\\n4427556 2022-07-15  02:27:00  2022-07-15 02:27:00  37271982183271940     4525   \n4427557 2022-07-15  02:27:00  2022-07-15 02:27:00  37271982183274756     4525   \n4427558 2022-07-15  04:33:00  2022-07-15 04:33:00  36088514819663876     5030   \n4427559 2022-07-15  05:06:00  2022-07-15 05:06:00  40832955551087108      509   \n4427560 2022-07-15  05:13:00  2022-07-15 05:13:00  40832947760207876      509   \n\n          DESCRIZIONE  TITOLO  TICKET_CODE           DESCRIZIONE_TITOLO  \n4427556  SANTA MARIA    11261            1     DAILY PASS VENEZIA - AVM  \n4427557  SANTA MARIA    11261            1     DAILY PASS VENEZIA - AVM  \n4427558     P.LE ROMA       5            7       75'-TPL 6,64-COMVE0,86  \n4427559       VENEZIA   12101            7  BIGL.AUT.75'MESTRE/LIDO-TSC  \n4427560       VENEZIA   12101            7  BIGL.AUT.75'MESTRE/LIDO-TSC  ",
      "text/html": "<div>\n<style scoped>\n    .dataframe tbody tr th:only-of-type {\n        vertical-align: middle;\n    }\n\n    .dataframe tbody tr th {\n        vertical-align: top;\n    }\n\n    .dataframe thead th {\n        text-align: right;\n    }\n</style>\n<table border=\"1\" class=\"dataframe\">\n  <thead>\n    <tr style=\"text-align: right;\">\n      <th></th>\n      <th>DATA</th>\n      <th>ORA</th>\n      <th>DATA_VALIDAZIONE</th>\n      <th>SERIALE</th>\n      <th>FERMATA</th>\n      <th>DESCRIZIONE</th>\n      <th>TITOLO</th>\n      <th>TICKET_CODE</th>\n      <th>DESCRIZIONE_TITOLO</th>\n    </tr>\n  </thead>\n  <tbody>\n    <tr>\n      <th>4427556</th>\n      <td>2022-07-15</td>\n      <td>02:27:00</td>\n      <td>2022-07-15 02:27:00</td>\n      <td>37271982183271940</td>\n      <td>4525</td>\n      <td>SANTA MARIA</td>\n      <td>11261</td>\n      <td>1</td>\n      <td>DAILY PASS VENEZIA - AVM</td>\n    </tr>\n    <tr>\n      <th>4427557</th>\n      <td>2022-07-15</td>\n      <td>02:27:00</td>\n      <td>2022-07-15 02:27:00</td>\n      <td>37271982183274756</td>\n      <td>4525</td>\n      <td>SANTA MARIA</td>\n      <td>11261</td>\n      <td>1</td>\n      <td>DAILY PASS VENEZIA - AVM</td>\n    </tr>\n    <tr>\n      <th>4427558</th>\n      <td>2022-07-15</td>\n      <td>04:33:00</td>\n      <td>2022-07-15 04:33:00</td>\n      <td>36088514819663876</td>\n      <td>5030</td>\n      <td>P.LE ROMA</td>\n      <td>5</td>\n      <td>7</td>\n      <td>75'-TPL 6,64-COMVE0,86</td>\n    </tr>\n    <tr>\n      <th>4427559</th>\n      <td>2022-07-15</td>\n      <td>05:06:00</td>\n      <td>2022-07-15 05:06:00</td>\n      <td>40832955551087108</td>\n      <td>509</td>\n      <td>VENEZIA</td>\n      <td>12101</td>\n      <td>7</td>\n      <td>BIGL.AUT.75'MESTRE/LIDO-TSC</td>\n    </tr>\n    <tr>\n      <th>4427560</th>\n      <td>2022-07-15</td>\n      <td>05:13:00</td>\n      <td>2022-07-15 05:13:00</td>\n      <td>40832947760207876</td>\n      <td>509</td>\n      <td>VENEZIA</td>\n      <td>12101</td>\n      <td>7</td>\n      <td>BIGL.AUT.75'MESTRE/LIDO-TSC</td>\n    </tr>\n  </tbody>\n</table>\n</div>"
     },
     "execution_count": 20,
     "metadata": {},
     "output_type": "execute_result"
    }
   ],
   "source": [
    "df.tail()"
   ]
  },
  {
   "attachments": {},
   "cell_type": "markdown",
   "metadata": {},
   "source": [
    "---------\n"
   ]
  },
  {
   "attachments": {},
   "cell_type": "markdown",
   "metadata": {},
   "source": [
    "## Trajectories"
   ]
  },
  {
   "attachments": {},
   "cell_type": "markdown",
   "metadata": {},
   "source": [
    "We are interested in analyzing the trajectories of the users that use the public transport in the city of Venice.\n",
    "\n",
    "Note that the stops are identified by the *DESCRIZIONE* column that contains the name of the stop, so each trajectory \n",
    "is composed by the name of the stops visited by the user, so a trajectory is composed by a sequence of strings."
   ]
  },
  {
   "cell_type": "code",
   "execution_count": 21,
   "metadata": {
    "ExecuteTime": {
     "start_time": "2023-04-30T11:59:27.277675Z",
     "end_time": "2023-04-30T11:59:27.423497Z"
    }
   },
   "outputs": [],
   "source": [
    "def create_dictionary_with_trajectories(df: pd.DataFrame) -> dict[str, datetime]:\n",
    "    \"\"\"\n",
    "        This function creates a dictionary with the trajectories of the users.\n",
    "        :param df: the dataframe\n",
    "        :return: the dictionary with the trajectories of the users with the key (serial, day). \n",
    "            Notice: if the serial is the same for all the days the key is (serial, None)\n",
    "    \"\"\"\n",
    "    # Create a dictionary with the trajectories of the users\n",
    "    dict_trajectories = {}\n",
    "    # For each user\n",
    "    for serial in df['SERIALE'].unique():\n",
    "        # NOTICE: the serial of ticket code 5, 5-STUD, 5-RET, 5-WKRS and the same with 6, change every day,\n",
    "        # so the user is not the same, but the user is the same for the same day\n",
    "        \n",
    "        # Select only the rows of the specified user\n",
    "        df_sup = df[df['SERIALE'] == serial].sort_values(by=['DATA', 'ORA'])\n",
    "\n",
    "        # Create a list with the trajectories of the user\n",
    "        list_trajectories = []\n",
    "        \n",
    "        # If the ticket code is 5, 5-STUD, 5-RET, 5-WKRS or 6, 6-STUD, 6-RET, 6-WKRS create a list with the trajectories \n",
    "        # for each day and for each serial\n",
    "        if df_sup['TICKET_CODE'].unique()[0] in ['5', '5-STUD', '5-RET', '5-WKRS', '6', '6-STUD', '6-RET', '6-WKRS']:\n",
    "            # print('Ticket code: {}'.format(df_sup['TICKET_CODE'].unique()[0]))\n",
    "            # For each day\n",
    "            for day in df_sup['DATA']:\n",
    "                # Select only the rows of the specified day\n",
    "                df_sup_sup = df_sup[df_sup['DATA'] == day]\n",
    "                # For each serial\n",
    "                for serial in df_sup_sup['SERIALE'].unique():\n",
    "                    # Reset list_trajectories\n",
    "                    list_trajectories = []\n",
    "                    # Select only the rows of the specified serial\n",
    "                    df_sup_sup_sup = df_sup_sup[df_sup_sup['SERIALE'] == serial]\n",
    "                    # Create a list with the trajectories of the user\n",
    "                    list_stop = df_sup_sup_sup['DESCRIZIONE'].tolist()\n",
    "                    # Append the list to the list of the trajectories\n",
    "                    list_trajectories.append(list_stop)\n",
    "                    # Insert the list of the trajectories in the dictionary with the key (serial, day)\n",
    "                    dict_trajectories[serial, day] = list_trajectories\n",
    "        else:\n",
    "            # Create a list with the trajectories of the user\n",
    "            list_stop = df_sup['DESCRIZIONE'].tolist()\n",
    "            list_trajectories.append(list_stop)\n",
    "            # If the serial is already in the dictionary print a warning\n",
    "            if (serial, None) in dict_trajectories:\n",
    "                print('Warning: the serial {} is already in the dictionary'.format(serial))\n",
    "                # launch an exception\n",
    "                raise Exception('The serial {} is already in the dictionary'.format(serial))\n",
    "            # Insert the list of the trajectories in the dictionary with the key (serial, None)\n",
    "            # None means that the serial is the same for all the days\n",
    "            dict_trajectories[serial, None] = list_trajectories\n",
    "\n",
    "    return dict_trajectories"
   ]
  },
  {
   "cell_type": "code",
   "execution_count": 22,
   "metadata": {
    "ExecuteTime": {
     "start_time": "2023-04-30T11:59:27.329742Z",
     "end_time": "2023-04-30T11:59:27.516135Z"
    }
   },
   "outputs": [],
   "source": [
    "def average_length_of_trajectories(dict_trajectories: dict, is_focus_on_ticket_code: bool = False, ticket_code: str = '') -> float:\n",
    "    \"\"\"\n",
    "        This function computes the average length of the trajectories.\n",
    "        This function can receive a dictionary with the trajectories related to a specific ticket code: in this case the function prints this information.\n",
    "        :param dict_trajectories: the dictionary with the trajectories of the users with the key (serial, day) or (serial, None)\n",
    "        :return: the average length of the trajectories \n",
    "    \"\"\"\n",
    "    # Notice that the key of the dictionary is a tuple (serial, day)\n",
    "    # Compute the average length of the trajectories\n",
    "    average_length = 0\n",
    "    for chiave in dict_trajectories.keys():\n",
    "        if chiave[1] is not None:\n",
    "            average_length += len(dict_trajectories[chiave][0])\n",
    "        else:\n",
    "            average_length += len(dict_trajectories[chiave][0])\n",
    "    if len(dict_trajectories.keys()) != 0:\n",
    "        average_length /= len(dict_trajectories.keys())\n",
    "        if is_focus_on_ticket_code:\n",
    "            # Round the average length to 4 decimal places\n",
    "            average_length = round(average_length, 4)\n",
    "            print('The average length of the trajectories with the ticket code {} is: {}'.format(ticket_code, average_length))\n",
    "        else:\n",
    "            print('The average length of the trajectories is: {}'.format(average_length))\n",
    "    else:\n",
    "        print('WARNING: There are no trajectories to analyze')\n",
    "    \n",
    "    # Print also the number of users and the number of trajectories\n",
    "    print('The number of trajectories is: {}'.format(len(dict_trajectories.keys())))\n",
    "\n",
    "    return average_length"
   ]
  },
  {
   "cell_type": "code",
   "execution_count": 23,
   "metadata": {
    "ExecuteTime": {
     "start_time": "2023-04-30T11:59:27.379787Z",
     "end_time": "2023-04-30T11:59:27.589371Z"
    }
   },
   "outputs": [],
   "source": [
    "def average_lenght_of_trajectories_per_ticket_code_stmp(df: pd.DataFrame):\n",
    "    \"\"\"\n",
    "        This function computes the average length of the trajectories for each ticket code in the dataset.\n",
    "        The order of the ticket codes is mantained because the ticket codes are stored in the dictionary \"dict_ticket_codes.json\".\n",
    "        :param df: the dataframe\n",
    "        :return: None\n",
    "    \"\"\"\n",
    "    dict_trajectories = {}\n",
    "    dict_ticket_codes = mf.open_dict_ticket_codes()\n",
    "\n",
    "    # For each ticket code in the dictionary\n",
    "    for ticket_code in dict_ticket_codes.keys():\n",
    "        # Select only the rows of the specified ticket code\n",
    "        df_sup = mf.focus_on_ticket_code(df, ticket_code)\n",
    "        \n",
    "        # If the dataframe is not empty, focus on the ticket code\n",
    "        if df_sup.shape[0] != 0:\n",
    "            # Create a dictionary with the trajectories of the users\n",
    "            dict_trajectories[ticket_code] = create_dictionary_with_trajectories(df_sup)\n",
    "            average_length_of_trajectories(dict_trajectories[ticket_code], is_focus_on_ticket_code=True, ticket_code=ticket_code)\n",
    "        else:\n",
    "            # If the dataframe is empty, skip the ticket code but launch a warning\n",
    "            print('WARNING: There are no validations of the ticket code \"{}\"'.format(ticket_code))"
   ]
  },
  {
   "cell_type": "code",
   "execution_count": 24,
   "metadata": {
    "ExecuteTime": {
     "start_time": "2023-04-30T11:59:27.485495Z",
     "end_time": "2023-04-30T11:59:27.749712Z"
    }
   },
   "outputs": [],
   "source": [
    "def average_length_of_trajectories_by_ticket_code_plot(dict_trajectories: dict, df: pd.DataFrame) -> None:\n",
    "    \"\"\"\n",
    "        This function computes the average length of the trajectories by ticket code.\n",
    "        :param dict_trajectories: the dictionary with the trajectories of the users\n",
    "        :param df: the dataframe\n",
    "        :return: None\n",
    "    \"\"\"\n",
    "    # Compute the average length of the trajectories:\n",
    "            # There are no colums with the coordinates of the stations, and there are no columns with the distance between the stations\n",
    "            # So, I compute the average length of the trajectories by the number of stations visited\n",
    "    \n",
    "    # Open the dictionary\n",
    "    dict_ticket_code = mf.open_dict_ticket_codes()\n",
    "\n",
    "    # Create a dictionary with the number of stations visited for each ticket code\n",
    "    dict_number_of_stations = {}\n",
    "    for ticket_code in dict_ticket_code.keys():\n",
    "        # Select only the rows of the specified ticket code\n",
    "        df_sup = mf.focus_on_ticket_code(df, ticket_code)\n",
    "        # If the dataframe is not empty, focus on the ticket code\n",
    "        if df_sup.shape[0] != 0:\n",
    "            # Create a dictionary with the trajectories of the users\n",
    "            dict_trajectories[ticket_code] = create_dictionary_with_trajectories(df_sup)\n",
    "            # Count the number of stations visited\n",
    "            number_of_stations = 0\n",
    "            for chiave in dict_trajectories[ticket_code].keys():\n",
    "                if chiave[1] is not None:\n",
    "                    number_of_stations += len(dict_trajectories[ticket_code][chiave][0])\n",
    "                else:\n",
    "                    number_of_stations += len(dict_trajectories[ticket_code][chiave][0])\n",
    "            # Add the average length of the trajectories to the dictionary\n",
    "            dict_number_of_stations[ticket_code] = number_of_stations / len(dict_trajectories[ticket_code].keys())\n",
    "\n",
    "    # Plot the average length of the trajectories by ticket code\n",
    "    plt.figure(figsize=(20, 10))\n",
    "    plt.bar(dict_number_of_stations.keys(), dict_number_of_stations.values())\n",
    "    plt.title('Average length of the trajectories by ticket code')\n",
    "    plt.xlabel('Ticket code')   \n",
    "    plt.ylabel('Average length of the trajectories')\n",
    "\n",
    "    # Manage the x-axis adding the description of the ticket code; note that it is possible that some ticket codes are not present in the plot\n",
    "    plt.xticks(ticks=range(0, len(dict_number_of_stations.keys())), labels=[dict_ticket_code[ticket_code] for ticket_code in dict_number_of_stations.keys()], rotation=90)\n",
    "    \n",
    "    # Manage the y-axis: note that the y-axis are float numbers: do not convert them to integers and do not use the range function\n",
    "    if max(dict_number_of_stations.values()) < 0.1:\n",
    "        plt.yticks(ticks=np.arange(0, max(dict_number_of_stations.values()) + 1, 0.01))\n",
    "    else:\n",
    "        plt.yticks(ticks=np.arange(0, max(dict_number_of_stations.values()) + 1, 0.5))\n",
    "\n",
    "    # Add the value of each bar\n",
    "    for index, value in enumerate(dict_number_of_stations.values()):\n",
    "        plt.text(index, value, str(round(value, 4)), ha='center', va='bottom', fontsize=10)\n",
    "\n",
    "    plt.show()\n",
    "\n",
    "    # Average number of stations visited by trajectory by ticket code\n",
    "    # for ticket_code in dict_number_of_stations.keys(\n",
    "        # print('The average number of stations visited by trajectory with ticket code \"{}\" is: {}'.format(ticket_code, dict_number_of_stations[ticket_code]))"
   ]
  },
  {
   "cell_type": "code",
   "execution_count": 25,
   "metadata": {
    "ExecuteTime": {
     "start_time": "2023-04-30T11:59:27.548585Z",
     "end_time": "2023-04-30T11:59:27.753726Z"
    }
   },
   "outputs": [],
   "source": [
    "def most_frequent_trajectories(dict_trajectories: dict, is_focus_on_ticket_code: bool = False, ticket_code: str = '', summary: bool = True) -> None:\n",
    "    \"\"\"\n",
    "        This function finds the most frequent trajectories.\n",
    "        :param dict_trajectories: the dictionary with the trajectories of the users\n",
    "        :param is_focus_on_ticket_code: True if the analysis is focused on a specific ticket code, False otherwise\n",
    "        :param ticket_code: the ticket code\n",
    "        :param summary: True if the summary of the most frequent trajectories is printed, False otherwise\n",
    "        :return: None\n",
    "    \"\"\"\n",
    "    # Find the most frequent trajectories\n",
    "    # Create a dictionary with the number of times that a trajectory is present\n",
    "    dict_trajectories_number = {}\n",
    "\n",
    "    # For each user (identified by the serial number)\n",
    "    for serial in dict_trajectories.keys():\n",
    "        # Convert the list of tuples in a tuple of tuples\n",
    "        trajectory = tuple(dict_trajectories[serial])\n",
    "\n",
    "        if trajectory in dict_trajectories_number.keys():\n",
    "            # If the trajectory is already present in the dictionary, \n",
    "            # increase the number of times that the trajectory is present\n",
    "            dict_trajectories_number[trajectory] += 1\n",
    "        else:\n",
    "            # Otherwise, add the trajectory to the dictionary\n",
    "            dict_trajectories_number[trajectory] = 1\n",
    "\n",
    "    # Sort the dictionary by the number of times that a trajectory is present\n",
    "    dict_trajectories_number = {k: v for k, v in sorted(dict_trajectories_number.items(), key=lambda item: item[1], reverse=True)}\n",
    "\n",
    "    if (summary):\n",
    "        # Print the most frequent trajectories\n",
    "        if is_focus_on_ticket_code:\n",
    "            print('The most frequent trajectories with the ticket code {} are:'.format(ticket_code))\n",
    "        else:\n",
    "            print('The most frequent trajectories are:')\n",
    "        for trajectory in list(dict_trajectories_number.keys())[:10]:\n",
    "            print('The trajectory {} is present {} times'.format(trajectory, dict_trajectories_number[trajectory]))\n",
    "    else:\n",
    "        # Return the most frequent trajectories and the number of times that they are present, \n",
    "        # ordered by the number of times that they are present\n",
    "        return dict_trajectories_number"
   ]
  },
  {
   "cell_type": "code",
   "execution_count": 26,
   "metadata": {
    "ExecuteTime": {
     "start_time": "2023-04-30T11:59:27.620443Z",
     "end_time": "2023-04-30T11:59:27.896617Z"
    }
   },
   "outputs": [],
   "source": [
    "def trajectories_with_at_least_k_stations(dict_trajectories: dict, k: int, summary: bool = True):\n",
    "    \"\"\"\n",
    "        This function finds the trajectories with at least k stations visited.\n",
    "        :param dict_trajectories: the dictionary with the trajectories of the users\n",
    "        :param k: the number of stations\n",
    "        :return: None if summary is True, the dictionary with the trajectories with at least k stations visited otherwise\n",
    "    \"\"\"\n",
    "    # Find the trajectories with at least k stations visited\n",
    "    # Create a dictionary with the number of times that a trajectory is present\n",
    "    # Notice that the keys of the dictionary are list of [serial, day]. Day can be None if the serial does not change over the days\n",
    "    dict_trajectories_number = {}\n",
    "    for serial in dict_trajectories.keys():\n",
    "        # Convert the list of tuples in a tuple of tuples\n",
    "        trajectory = tuple(dict_trajectories[serial])\n",
    "\n",
    "        if trajectory in dict_trajectories_number.keys():\n",
    "            # If the trajectory is already present in the dictionary, \n",
    "            # increase the number of times that the trajectory is present\n",
    "            dict_trajectories_number[trajectory] += 1\n",
    "        else:\n",
    "            # Otherwise, add the trajectory to the dictionary\n",
    "            dict_trajectories_number[trajectory] = 1\n",
    "\n",
    "    # Sort the dictionary by the number of times that a trajectory is present\n",
    "    dict_trajectories_number = {k: v for k, v in sorted(dict_trajectories_number.items(), key=lambda item: item[1], reverse=True)}\n",
    "\n",
    "    # If summary is True, print the trajectories with at least k stations visited, return the len of the dictionary otherwise\n",
    "    if summary:\n",
    "        # Print the trajectories with at least k stations visited\n",
    "        print('The trajectories with at least {} stations visited are:'.format(k))\n",
    "        for trajectory in dict_trajectories_number.keys():\n",
    "            if len(trajectory) >= k:\n",
    "                print('The trajectory {} is present {} times'.format(trajectory, dict_trajectories_number[trajectory]))\n",
    "    else:\n",
    "        # Return the dictionary \n",
    "        return dict_trajectories_number"
   ]
  },
  {
   "cell_type": "code",
   "execution_count": 27,
   "metadata": {
    "ExecuteTime": {
     "start_time": "2023-04-30T11:59:27.894440Z",
     "end_time": "2023-04-30T11:59:27.960086Z"
    }
   },
   "outputs": [],
   "source": [
    "def longest_common_subsequence(trajectory_1: list, trajectory_2: list) -> list:\n",
    "    \"\"\"\n",
    "        This function finds the Longest Common Subsequence (LCS) between two trajectories.\n",
    "        :param trajectory_1: the first trajectory\n",
    "        :param trajectory_2: the second trajectory\n",
    "        :return: the LCS\n",
    "    \"\"\"\n",
    "    # Find the LCS\n",
    "    # Create a matrix with the length of the LCS between two trajectories\n",
    "    matrix = [[0 for x in range(len(trajectory_2) + 1)] for y in range(len(trajectory_1) + 1)]\n",
    "    for i in range(1, len(trajectory_1) + 1):\n",
    "        for j in range(1, len(trajectory_2) + 1):\n",
    "            if trajectory_1[i - 1] == trajectory_2[j - 1]:\n",
    "                matrix[i][j] = matrix[i - 1][j - 1] + 1\n",
    "            else:\n",
    "                matrix[i][j] = max(matrix[i - 1][j], matrix[i][j - 1])\n",
    "\n",
    "    # Find the LCS\n",
    "    i = len(trajectory_1)\n",
    "    j = len(trajectory_2)\n",
    "    lcs = []\n",
    "    while i > 0 and j > 0:\n",
    "        if trajectory_1[i - 1] == trajectory_2[j - 1]:\n",
    "            lcs.append(trajectory_1[i - 1])\n",
    "            i -= 1\n",
    "            j -= 1\n",
    "        elif matrix[i - 1][j] > matrix[i][j - 1]:\n",
    "            i -= 1\n",
    "        else:\n",
    "            j -= 1\n",
    "\n",
    "    # Reverse the LCS\n",
    "    lcs.reverse()\n",
    "\n",
    "    return lcs"
   ]
  },
  {
   "attachments": {},
   "cell_type": "markdown",
   "metadata": {},
   "source": [
    "### Compute the average length of the trajectories with the entire dataset\n"
   ]
  },
  {
   "cell_type": "code",
   "execution_count": 28,
   "metadata": {
    "ExecuteTime": {
     "start_time": "2023-04-30T11:59:27.959931Z",
     "end_time": "2023-04-30T17:08:12.214132Z"
    }
   },
   "outputs": [],
   "source": [
    "# Create a dictionary with the trajectories of the users\n",
    "dict_trajectories = create_dictionary_with_trajectories(df)"
   ]
  },
  {
   "cell_type": "code",
   "execution_count": 29,
   "metadata": {
    "ExecuteTime": {
     "start_time": "2023-04-30T17:08:12.220914Z",
     "end_time": "2023-04-30T17:08:12.224348Z"
    }
   },
   "outputs": [],
   "source": [
    "# Print all the trajectories with the second field of the key equal to None\n",
    "# for trajectory in dict_trajectories.keys():\n",
    "    # if trajectory[1] != None:\n",
    "        # print(trajectory)"
   ]
  },
  {
   "cell_type": "code",
   "execution_count": 30,
   "metadata": {},
   "outputs": [
    {
     "name": "stdout",
     "output_type": "stream",
     "text": [
      "The average length of the trajectories considering all the dataframe:\n",
      "The average length of the trajectories is: 2.5301490753011135\n",
      "The number of trajectories is: 1749921\n"
     ]
    },
    {
     "data": {
      "text/plain": "<Figure size 1440x720 with 1 Axes>",
      "image/png": "[encoded data removed]"
     },
     "metadata": {},
     "output_type": "display_data"
    }
   ],
   "source": [
    "# Compute the average length of the trajectories\n",
    "print('The average length of the trajectories considering all the dataframe:')\n",
    "average_lenght = average_length_of_trajectories(dict_trajectories)\n",
    "# Compute the average length of the trajectories by ticket code\n",
    "# average_lenght_of_trajectories_per_ticket_code_stmp(df)\n",
    "# Plot the average length of the trajectories by ticket code\n",
    "# average_length_of_trajectories_by_ticket_code_plot(dict_trajectories, df, 'data/dictionaries/dict_ticket_codes.json')\n",
    "average_length_of_trajectories_by_ticket_code_plot(dict_trajectories, df)"
   ]
  },
  {
   "attachments": {},
   "cell_type": "markdown",
   "metadata": {},
   "source": [
    "### Compute the average length of the trajectories with the dataset with the ticket code 5"
   ]
  },
  {
   "cell_type": "code",
   "execution_count": 31,
   "metadata": {},
   "outputs": [
    {
     "name": "stdout",
     "output_type": "stream",
     "text": [
      "The average length of the trajectories with the ticket code 7 is: 1.2403\n",
      "The number of trajectories is: 1200462\n"
     ]
    }
   ],
   "source": [
    "# Create a dictionary with the trajectories of the users with the ticket code '7'\n",
    "df_sup = mf.focus_on_ticket_code(df,'7')\n",
    "# Create a dictionary with the trajectories of the users\n",
    "dict_trajectories = create_dictionary_with_trajectories(df_sup)\n",
    "# Compute the average length of the trajectories\n",
    "average_lenght = average_length_of_trajectories(dict_trajectories, is_focus_on_ticket_code=True, ticket_code='7')\n",
    "# average_length_of_trajectories_by_ticket_code_plot(dict_trajectories, df_sup, 'data/dictionaries/dict_ticket_codes.json')\n",
    "# trajectories_with_at_least_k_stations(dict_trajectories, 3)"
   ]
  },
  {
   "cell_type": "code",
   "execution_count": 32,
   "metadata": {
    "ExecuteTime": {
     "start_time": "2023-04-30T09:39:50.451287Z",
     "end_time": "2023-04-30T11:50:55.190157Z"
    }
   },
   "outputs": [
    {
     "name": "stdout",
     "output_type": "stream",
     "text": [
      "Ticket code: 1 - \"One-day ticket\"\n",
      "The average length of the trajectories with the ticket code 1 is: 3.4141\n",
      "The number of trajectories is: 297767\n",
      "The number of trajectories is: 297767\n",
      "\n",
      "Ticket code: 2 - \"Two-day ticket\"\n",
      "The average length of the trajectories with the ticket code 2 is: 5.8988\n",
      "The number of trajectories is: 107261\n",
      "The number of trajectories is: 107261\n",
      "\n",
      "Ticket code: 3 - \"Three-day ticket\"\n",
      "The average length of the trajectories with the ticket code 3 is: 7.6837\n",
      "The number of trajectories is: 109037\n",
      "The number of trajectories is: 109037\n",
      "\n",
      "Ticket code: 4 - \"Seven-day ticket\"\n",
      "The average length of the trajectories with the ticket code 4 is: 12.7966\n",
      "The number of trajectories is: 35170\n",
      "The number of trajectories is: 35170\n",
      "\n",
      "Ticket code: 5 - \"Monthly ticket\"\n",
      "The average length of the trajectories with the ticket code 5 is: 1.5787\n",
      "The number of trajectories is: 921\n",
      "The number of trajectories is: 921\n",
      "\n",
      "Ticket code: 5-STUD - \"Monthly ticket for students\"\n",
      "\t No trajectories to analyze\n",
      "\n",
      "Ticket code: 5-RET - \"Monthly ticket for retired\"\n",
      "\t No trajectories to analyze\n",
      "\n",
      "Ticket code: 5-WKRS - \"Monthly ticket for workers\"\n",
      "\t No trajectories to analyze\n",
      "\n",
      "Ticket code: 6 - \"Annual ticket\"\n",
      "\t No trajectories to analyze\n",
      "\n",
      "Ticket code: 6-STUD - \"Annual ticket for students\"\n",
      "\t No trajectories to analyze\n",
      "\n",
      "Ticket code: 6-RET - \"Annual ticket for retired\"\n",
      "\t No trajectories to analyze\n",
      "\n",
      "Ticket code: 6-WKRS - \"Annual ticket for workers\"\n",
      "\t No trajectories to analyze\n",
      "\n",
      "Ticket code: 7 - \"75 minutes ticket\"\n",
      "The average length of the trajectories with the ticket code 7 is: 1.2403\n",
      "The number of trajectories is: 1200462\n",
      "The number of trajectories is: 1200462\n",
      "\n"
     ]
    }
   ],
   "source": [
    "# For each ticket code (dict_ticket_codes.keys()):\n",
    "# a. Create a dictionary with the trajectories of the users with the ticket code\n",
    "# b. Compute the average length of the trajectories (number of stations visited)\n",
    "# d. Compute the number of users \n",
    "# e. Compute the number of trajectories\n",
    "# c. Number of trajectories with at least k stations visited\n",
    "# d. Find the most frequent trajectories\n",
    "# e. Find the trajectories with at least k stations visited\n",
    "\n",
    "ticket_code = mf.open_dict_ticket_codes()\n",
    "\n",
    "# dict_trajectories = create_dictionary_with_trajectories(df)\n",
    "# average_length_of_trajectories_by_ticket_code_plot(dict_trajectories, df, 'data/dictionaries/dict_ticket_codes.json')\n",
    "\n",
    "for ticket_code in ticket_code.keys():\n",
    "    # Exclude the ticket code '8'\n",
    "    if ticket_code == '8':\n",
    "        continue\n",
    "    \n",
    "    print('Ticket code: {} - \"{}\"'.format(ticket_code, mf.get_ticket_code_description(ticket_code)))\n",
    "\n",
    "    # a. Create a dictionary with the trajectories of the users with the ticket code\n",
    "    df_sup = mf.focus_on_ticket_code(df, ticket_code)\n",
    "    dict_trajectories = create_dictionary_with_trajectories(df_sup)\n",
    "    if len(dict_trajectories.keys()) == 0:\n",
    "        print('\\t No trajectories to analyze')\n",
    "        print('')\n",
    "        continue\n",
    "    \n",
    "    # b. Compute the average length of the trajectories (number of stations visited)\n",
    "    average_length_of_trajectories(dict_trajectories, is_focus_on_ticket_code=True, ticket_code=ticket_code)\n",
    "    \n",
    "    # c. Compute the number of users (Seriale)\n",
    "    number_of_users = len(dict_trajectories.keys()) # TODO: r u sure?\n",
    "    \n",
    "    # d. Compute the number of trajectories\n",
    "    number_of_trajectories = 0\n",
    "    for trajectory in dict_trajectories.values():\n",
    "        number_of_trajectories += len(trajectory)\n",
    "    print('The number of trajectories is: {}'.format(number_of_trajectories))\n",
    "    \n",
    "    # e. Number of trajectories with at least k stations visited\n",
    "    # number_of_trj_k_stations =  trajectories_with_at_least_k_stations(dict_trajectories, k=3, summary=False)\n",
    "    # # Count the number of trajectories with at least k stations visited\n",
    "    # count = 0\n",
    "    # for trajectory in number_of_trj_k_stations.keys():\n",
    "    #     if len(trajectory) >= 3:\n",
    "    #         count += 1\n",
    "    # print('The number of trajectories with at least 3 stations visited is: {}'.format(count))\n",
    "    \n",
    "    # f. Find the most frequent trajectories\n",
    "    # most_frequent_trajectories(dict_trajectories, is_focus_on_ticket_code=True, ticket_code=ticket_code)\n",
    "    print('')"
   ]
  },
  {
   "cell_type": "code",
   "execution_count": 33,
   "metadata": {},
   "outputs": [],
   "source": [
    "def print_trajectories_of_user(dict_trajectories: dict, user: str):\n",
    "    \"\"\"\n",
    "        This function prints the trajectories of a user.\n",
    "        :param dict_trajectories: the dictionary with the trajectories\n",
    "        :param user: the user\n",
    "    \"\"\"\n",
    "    # print the dataframes of the trajectories of the user\n",
    "    df_aux = df[df['SERIALE'] == user]\n",
    "    print(df_aux)"
   ]
  },
  {
   "cell_type": "code",
   "execution_count": 34,
   "metadata": {},
   "outputs": [
    {
     "name": "stdout",
     "output_type": "stream",
     "text": [
      "         DATA       ORA     DATA_VALIDAZIONE            SERIALE  FERMATA  \\\n",
      "15 2022-05-13  00:01:00  2022-05-13 00:01:00  37270756644007428     5132   \n",
      "\n",
      "     DESCRIZIONE  TITOLO TICKET_CODE      DESCRIZIONE_TITOLO  \n",
      "15  S. MARCUOLA-   11101           7  75'-TPL 6,64-COMVE0,86  \n"
     ]
    }
   ],
   "source": [
    "# Given the serial of a user, print the trajectories of the user\n",
    "# Serial of the user of the first trajectory\n",
    "serial = list(dict_trajectories.keys())[0][0]\n",
    "# Print the trajectories of the user\n",
    "print_trajectories_of_user(dict_trajectories, serial)"
   ]
  },
  {
   "attachments": {},
   "cell_type": "markdown",
   "metadata": {},
   "source": [
    "### Find the most frequent trajectories with the entire dataset"
   ]
  },
  {
   "cell_type": "code",
   "execution_count": 35,
   "metadata": {},
   "outputs": [],
   "source": [
    "# # Create a dictionary with the trajectories of the users with the entire dataset\n",
    "# dict_trajectories = create_dictionary_with_trajectories(df)\n",
    "# # Find the most frequent trajectories and print the summary\n",
    "# most_frequent_trajectories(dict_trajectories, summary=True)"
   ]
  },
  {
   "attachments": {},
   "cell_type": "markdown",
   "metadata": {},
   "source": [
    "### Find the most frequent trajectories with the dataset with a specified ticket code"
   ]
  },
  {
   "cell_type": "code",
   "execution_count": 36,
   "metadata": {},
   "outputs": [],
   "source": [
    "# # Create a dictionary with the trajectories of the users with the ticket code '1'\n",
    "# df_sup = mf.focus_on_ticket_code(df,'1')\n",
    "# # Create a dictionary with the trajectories of the users with the ticket code '1'\n",
    "# dict_trajectories = create_dictionary_with_trajectories(df_sup)\n",
    "# # Find the most frequent trajectories with the ticket code '1' and print the summary\n",
    "# most_frequent_trajectories(dict_trajectories, is_focus_on_ticket_code=True, ticket_code='1', summary=True)"
   ]
  },
  {
   "attachments": {},
   "cell_type": "markdown",
   "metadata": {},
   "source": [
    "### Finds the trajectories with at least k stations visited with the entire dataset"
   ]
  },
  {
   "cell_type": "code",
   "execution_count": 37,
   "metadata": {},
   "outputs": [],
   "source": [
    "# # Create a dictionary with the trajectories of the users with the entire dataset\n",
    "# dict_trajectories = create_dictionary_with_trajectories(df)\n",
    "# # Find the trajectories with at least 6 stations visited\n",
    "# trajectories_with_at_least_k_stations(dict_trajectories, 6)"
   ]
  },
  {
   "attachments": {},
   "cell_type": "markdown",
   "metadata": {},
   "source": [
    "### Find the most frequent trajectories with the dataset with a specified ticket code\n"
   ]
  },
  {
   "cell_type": "code",
   "execution_count": 38,
   "metadata": {},
   "outputs": [],
   "source": [
    "# # Create a dictionary with the trajectories of the users with the ticket code '1'\n",
    "# df_sup = mf.focus_on_ticket_code(df,'1')\n",
    "# # Create a dictionary with the trajectories of the users with the ticket code '1'\n",
    "# dict_trajectories = create_dictionary_with_trajectories(df_sup)\n",
    "# # Find the trajectories with at least 20 stations visited with the ticket code '1'\n",
    "# trajectories_with_at_least_k_stations(dict_trajectories, 4)"
   ]
  },
  {
   "attachments": {},
   "cell_type": "markdown",
   "metadata": {},
   "source": [
    "### Longest Common Subsequence (LCS)"
   ]
  },
  {
   "cell_type": "code",
   "execution_count": 39,
   "metadata": {},
   "outputs": [],
   "source": [
    "# # Find the Longest Common Subsequence (LCS) between two trajectories\n",
    "# trajectory_1 = ['SAN MARCO', 'P.LE ROMA', 'RIALTO', 'PUNTA SABBIO', 'BURANO']\n",
    "# trajectory_2 = ['SAN MARCO', 'P.LE ROMA', 'PUNTA SABBIO', 'BURANO']\n",
    "\n",
    "# lcs = longest_common_subsequence(trajectory_1, trajectory_2)\n",
    "# print('The Longest Common Subsequence (LCS) between the trajectories {} and {} is {}'.format(trajectory_1, trajectory_2, lcs))"
   ]
  },
  {
   "cell_type": "code",
   "execution_count": 40,
   "metadata": {},
   "outputs": [],
   "source": [
    "# # Find the Longest Common Subsequence (LCS) between two trajectories\n",
    "# # Trajectory 1 is the trajectory of the dataset with the ticket code 1\n",
    "# # Trajectory 2 is the most frequent trajectory of the dataset with the ticket code 2\n",
    "# df_sup = mf.focus_on_ticket_code(df,'1')\n",
    "# dict_trajectories = create_dictionary_with_trajectories(df_sup)\n",
    "# dict_trajectories_number = most_frequent_trajectories(dict_trajectories, is_focus_on_ticket_code=True, ticket_code='1', summary=False)\n",
    "# trajectory_1 = list(dict_trajectories_number.keys())[8]\n",
    "\n",
    "# df_sup = mf.focus_on_ticket_code(df,'2')\n",
    "# dict_trajectories = create_dictionary_with_trajectories(df_sup)\n",
    "# dict_trajectories_number = most_frequent_trajectories(dict_trajectories, is_focus_on_ticket_code=True, ticket_code='2', summary=False)\n",
    "# trajectory_2 = list(dict_trajectories_number.keys())[0]\n",
    "\n",
    "# lcs = longest_common_subsequence(trajectory_1, trajectory_2)\n",
    "# print('The Longest Common Subsequence (LCS) between the trajectory {} and the trajectory {} is {}'.format(trajectory_1, trajectory_2, lcs))"
   ]
  },
  {
   "attachments": {},
   "cell_type": "markdown",
   "metadata": {},
   "source": [
    "_____"
   ]
  },
  {
   "cell_type": "code",
   "execution_count": 41,
   "metadata": {},
   "outputs": [],
   "source": [
    "def most_frequent_stations_visited_by_the_users (dict_trajectories: dict, is_focus_on_ticket_code: bool = False, ticket_code: str = \"\", summary: bool = False) -> dict:\n",
    "    \"\"\"\n",
    "        This function finds the most frequent stations visited by the users.\n",
    "        :param dict_trajectories: the dictionary with the trajectories of the users\n",
    "        :param is_focus_on_ticket_code: if True, the function is focused on the ticket code\n",
    "        :param ticket_code: the ticket code\n",
    "        :param summary: if True, the function prints the summary\n",
    "        :return: the dictionary with the most frequent stations visited by the users\n",
    "    \"\"\"\n",
    "    # Create a dictionary with the most frequent stations visited by the users\n",
    "    dict_stations = {}\n",
    "    \n",
    "    # For each trajectory\n",
    "    for trajectory in dict_trajectories.keys():\n",
    "        # For each station in the trajectory\n",
    "        for station in dict_trajectories[trajectory]:\n",
    "            # If the station is not in the dictionary, add it\n",
    "            if station not in dict_stations.keys():\n",
    "                dict_stations[station] = 1\n",
    "            # If the station is in the dictionary, increment its value\n",
    "            else:\n",
    "                dict_stations[station] += 1\n",
    "\n",
    "    # Sort the dictionary with the most frequent stations visited by the users\n",
    "    dict_stations = {k: v for k, v in sorted(dict_stations.items(), key=lambda item: item[1], reverse=True)}\n",
    "\n",
    "    # Print the summary\n",
    "    if summary and is_focus_on_ticket_code:\n",
    "        print('The most frequent stations visited by the users with the ticket code {} are:'.format(ticket_code))\n",
    "        for station in dict_stations.keys():\n",
    "            print('The station {} is visited {} times'.format(station, dict_stations[station]))\n",
    "    elif summary:\n",
    "        print('The most frequent stations visited by the users are:')\n",
    "        for station in dict_stations.keys():\n",
    "            print('The station {} is visited {} times'.format(station, dict_stations[station]))\n",
    "\n",
    "    return dict_stations"
   ]
  },
  {
   "cell_type": "code",
   "execution_count": 42,
   "metadata": {},
   "outputs": [],
   "source": [
    "def rearrange_dictionary_with_trajectories (dict_trajectories: dict) -> dict:\n",
    "    \"\"\"\n",
    "        This function rearranges the dictionary with the trajectories of the users.\n",
    "        :param dict_trajectories: the dictionary with the trajectories of the users\n",
    "        :return: the rearranged dictionary with the trajectories of the users\n",
    "    \"\"\"\n",
    "    # Create the rearranged dictionary with the trajectories of the users\n",
    "    dict_trajectories_rearranged = {}\n",
    "\n",
    "    # For each trajectory\n",
    "    for trajectory in dict_trajectories.keys():\n",
    "        # For each station in the trajectory\n",
    "        for station in dict_trajectories[trajectory]:\n",
    "            # If the station is not in the dictionary, add it\n",
    "            if station not in dict_trajectories_rearranged.keys():\n",
    "                dict_trajectories_rearranged[station] = [trajectory]\n",
    "            # If the station is in the dictionary, append the trajectory\n",
    "            else:\n",
    "                dict_trajectories_rearranged[station].append(trajectory)\n",
    "\n",
    "    return dict_trajectories_rearranged"
   ]
  },
  {
   "cell_type": "code",
   "execution_count": 43,
   "metadata": {},
   "outputs": [],
   "source": [
    "# # Are there typical patterns in the movements of the users? \n",
    "# # Using different clustring techniques, find the most frequent trajectories and the most frequent stations visited by the users.\n",
    "# # Create a dictionary with the trajectories of the users with the entire dataset\n",
    "# dict_trajectories = create_dictionary_with_trajectories(df)\n",
    "# # Find the most frequent trajectories and print the summary\n",
    "# most_frequent_trajectories(dict_trajectories, summary=False)\n",
    "# # Find the most frequent stations visited by the users and print the summary\n",
    "# most_frequent_stations_visited_by_the_users(dict_trajectories, summary=False)\n",
    "\n",
    "# # Cluster the users using the K-Means algorithm\n",
    "# # Create a dictionary with the trajectories of the users with the entire dataset\n",
    "# # dict_trajectories = create_dictionary_with_trajectories(df)\n",
    "# # Cluster the users using the K-Means algorithm\n",
    "# from sklearn.cluster import KMeans\n",
    "\n",
    "# merged_list = sum([sublist for sublist in list(dict_trajectories.values())], [])\n",
    "\n",
    "# # Cluster the users using the K-Means algorithm\n",
    "# kmeans = KMeans(n_clusters=3, random_state=0).fit(np.array(merged_list))\n",
    "# # Create a dictionary with the clusters\n",
    "# dict_clusters = {}\n",
    "# for i in range(len(kmeans.labels_)):\n",
    "#     if kmeans.labels_[i] not in dict_clusters.keys():\n",
    "#         dict_clusters[kmeans.labels_[i]] = []\n",
    "#     dict_clusters[kmeans.labels_[i]].append(list(dict_trajectories.keys())[i])\n",
    "# # Print the summary\n",
    "# print('The clusters are:')\n",
    "# for cluster in dict_clusters.keys():\n",
    "#     print('The cluster {} contains the following trajectories:'.format(cluster))\n",
    "#     for trajectory in dict_clusters[cluster]:\n",
    "#         print(trajectory)"
   ]
  }
 ],
 "metadata": {
  "kernelspec": {
   "display_name": "Python 3",
   "language": "python",
   "name": "python3"
  },
  "language_info": {
   "codemirror_mode": {
    "name": "ipython",
    "version": 3
   },
   "file_extension": ".py",
   "mimetype": "text/x-python",
   "name": "python",
   "nbconvert_exporter": "python",
   "pygments_lexer": "ipython3",
   "version": "3.11.2"
  },
  "orig_nbformat": 4,
  "vscode": {
   "interpreter": {
    "hash": "aee8b7b246df8f9039afb4144a1f6fd8d2ca17a180786b69acc140d282b71a49"
   }
  }
 },
 "nbformat": 4,
 "nbformat_minor": 2
}
