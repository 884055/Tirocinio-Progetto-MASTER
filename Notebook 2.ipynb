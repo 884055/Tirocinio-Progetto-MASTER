{
 "cells": [
  {
   "attachments": {},
   "cell_type": "markdown",
   "metadata": {},
   "source": [
    "# MASTER - Notebook 2\n",
    "### Matteo Grazioso 884055"
   ]
  },
  {
   "cell_type": "code",
   "execution_count": 81,
   "metadata": {
    "ExecuteTime": {
     "end_time": "2023-04-30T11:59:19.544081Z",
     "start_time": "2023-04-30T11:59:19.009231Z"
    }
   },
   "outputs": [],
   "source": [
    "# Import libraries\n",
    "import pandas as pd\n",
    "import numpy as np\n",
    "import matplotlib.pyplot as plt\n",
    "import seaborn as sns\n",
    "import matplotlib.dates as mdates\n",
    "from datetime import datetime\n",
    "import json\n",
    "import warnings\n",
    "warnings.filterwarnings('ignore')\n",
    "\n",
    "import myfunctions as mf # Custom functions"
   ]
  },
  {
   "cell_type": "code",
   "execution_count": 82,
   "metadata": {
    "ExecuteTime": {
     "end_time": "2023-04-30T11:59:19.546100Z",
     "start_time": "2023-04-30T11:59:19.051841Z"
    }
   },
   "outputs": [],
   "source": [
    "# Disply all columns and all rows\n",
    "pd.set_option('display.max_columns', None)\n",
    "pd.set_option('display.max_rows', None)"
   ]
  },
  {
   "cell_type": "code",
   "execution_count": 83,
   "metadata": {
    "ExecuteTime": {
     "end_time": "2023-04-30T11:59:27.138107Z",
     "start_time": "2023-04-30T11:59:19.115601Z"
    }
   },
   "outputs": [],
   "source": [
    "# The file contains the data of the validation of tickets in the city of public transport of Venice.\n",
    "# The file has been created by the Notebook 1.ipynb\n",
    "\n",
    "# Import the data into a dataframe of a txt file\n",
    "# path = 'data/processed/dataset_cleaned_validazioni.txt'\n",
    "path = 'data/processed/dataset_cleaned_esportazioneCompleta.txt'\n",
    "\n",
    "df = pd.read_csv(path, header=0, sep='\\t')\n",
    "\n",
    "# Save the name of the file in a variable for future use extracting the name of the file from the path\n",
    "file_name = path.split('_')[-1].split('.')[0]\n",
    "\n",
    "# Display the first 5 rows of the dataframe\n",
    "df.head()\n",
    "\n",
    "# Convert the column 'DATA' to datetime format\n",
    "df['DATA'] = pd.to_datetime(df['DATA'], format='%Y-%m-%d')"
   ]
  },
  {
   "cell_type": "code",
   "execution_count": 84,
   "metadata": {
    "ExecuteTime": {
     "end_time": "2023-04-30T11:59:27.149940Z",
     "start_time": "2023-04-30T11:59:27.137887Z"
    }
   },
   "outputs": [],
   "source": [
    "# First 10% of the dataframe\n",
    "# df = df.iloc[:int(len(df)*0.1)]"
   ]
  },
  {
   "cell_type": "code",
   "execution_count": 85,
   "metadata": {
    "ExecuteTime": {
     "end_time": "2023-04-30T11:59:27.225834Z",
     "start_time": "2023-04-30T11:59:27.143096Z"
    }
   },
   "outputs": [
    {
     "data": {
      "text/html": [
       "<div>\n",
       "<style scoped>\n",
       "    .dataframe tbody tr th:only-of-type {\n",
       "        vertical-align: middle;\n",
       "    }\n",
       "\n",
       "    .dataframe tbody tr th {\n",
       "        vertical-align: top;\n",
       "    }\n",
       "\n",
       "    .dataframe thead th {\n",
       "        text-align: right;\n",
       "    }\n",
       "</style>\n",
       "<table border=\"1\" class=\"dataframe\">\n",
       "  <thead>\n",
       "    <tr style=\"text-align: right;\">\n",
       "      <th></th>\n",
       "      <th>DATA</th>\n",
       "      <th>ORA</th>\n",
       "      <th>DATA_VALIDAZIONE</th>\n",
       "      <th>SERIALE</th>\n",
       "      <th>FERMATA</th>\n",
       "      <th>DESCRIZIONE</th>\n",
       "      <th>TITOLO</th>\n",
       "      <th>TICKET_CODE</th>\n",
       "      <th>DESCRIZIONE_TITOLO</th>\n",
       "    </tr>\n",
       "  </thead>\n",
       "  <tbody>\n",
       "    <tr>\n",
       "      <th>0</th>\n",
       "      <td>2023-01-13</td>\n",
       "      <td>00:00:00</td>\n",
       "      <td>2023-01-13 00:00:00</td>\n",
       "      <td>40834866809772548</td>\n",
       "      <td>162</td>\n",
       "      <td>STAZIONE MES</td>\n",
       "      <td>12101</td>\n",
       "      <td>7</td>\n",
       "      <td>BIGL.AUT.75'MESTRE/LIDO-TSC</td>\n",
       "    </tr>\n",
       "    <tr>\n",
       "      <th>1</th>\n",
       "      <td>2023-01-13</td>\n",
       "      <td>00:00:00</td>\n",
       "      <td>2023-01-13 00:00:00</td>\n",
       "      <td>-3604990320</td>\n",
       "      <td>5049</td>\n",
       "      <td>ZATTERE</td>\n",
       "      <td>23301</td>\n",
       "      <td>5-STUD</td>\n",
       "      <td>MENS.STUDENTE RETE UNICA</td>\n",
       "    </tr>\n",
       "    <tr>\n",
       "      <th>2</th>\n",
       "      <td>2023-01-13</td>\n",
       "      <td>00:00:00</td>\n",
       "      <td>2023-01-13 00:00:00</td>\n",
       "      <td>-2824230951</td>\n",
       "      <td>5043</td>\n",
       "      <td>S. TOMA' \"B\"</td>\n",
       "      <td>23303</td>\n",
       "      <td>6-STUD</td>\n",
       "      <td>ABB STUD. RETEUNICA 12 MESI</td>\n",
       "    </tr>\n",
       "    <tr>\n",
       "      <th>3</th>\n",
       "      <td>2023-01-13</td>\n",
       "      <td>00:00:00</td>\n",
       "      <td>2023-01-13 00:00:00</td>\n",
       "      <td>40552750134805252</td>\n",
       "      <td>5013</td>\n",
       "      <td>S. MARCO-SAN</td>\n",
       "      <td>11101</td>\n",
       "      <td>7</td>\n",
       "      <td>75'-TPL 8,64-COMVE0,86</td>\n",
       "    </tr>\n",
       "    <tr>\n",
       "      <th>4</th>\n",
       "      <td>2023-01-13</td>\n",
       "      <td>00:01:00</td>\n",
       "      <td>2023-01-13 00:01:00</td>\n",
       "      <td>-3604964420</td>\n",
       "      <td>6084</td>\n",
       "      <td>VENEZIA</td>\n",
       "      <td>11209</td>\n",
       "      <td>7</td>\n",
       "      <td>BIGL RETE UNICA 75'</td>\n",
       "    </tr>\n",
       "  </tbody>\n",
       "</table>\n",
       "</div>"
      ],
      "text/plain": [
       "        DATA       ORA     DATA_VALIDAZIONE            SERIALE  FERMATA  \\\n",
       "0 2023-01-13  00:00:00  2023-01-13 00:00:00  40834866809772548      162   \n",
       "1 2023-01-13  00:00:00  2023-01-13 00:00:00        -3604990320     5049   \n",
       "2 2023-01-13  00:00:00  2023-01-13 00:00:00        -2824230951     5043   \n",
       "3 2023-01-13  00:00:00  2023-01-13 00:00:00  40552750134805252     5013   \n",
       "4 2023-01-13  00:01:00  2023-01-13 00:01:00        -3604964420     6084   \n",
       "\n",
       "    DESCRIZIONE  TITOLO TICKET_CODE            DESCRIZIONE_TITOLO  \n",
       "0  STAZIONE MES   12101           7   BIGL.AUT.75'MESTRE/LIDO-TSC  \n",
       "1       ZATTERE   23301      5-STUD      MENS.STUDENTE RETE UNICA  \n",
       "2  S. TOMA' \"B\"   23303      6-STUD  ABB STUD. RETEUNICA 12 MESI   \n",
       "3  S. MARCO-SAN   11101           7        75'-TPL 8,64-COMVE0,86  \n",
       "4       VENEZIA   11209           7           BIGL RETE UNICA 75'  "
      ]
     },
     "execution_count": 85,
     "metadata": {},
     "output_type": "execute_result"
    }
   ],
   "source": [
    "df.head()"
   ]
  },
  {
   "cell_type": "code",
   "execution_count": 86,
   "metadata": {
    "ExecuteTime": {
     "end_time": "2023-04-30T11:59:27.355742Z",
     "start_time": "2023-04-30T11:59:27.222688Z"
    }
   },
   "outputs": [
    {
     "data": {
      "text/html": [
       "<div>\n",
       "<style scoped>\n",
       "    .dataframe tbody tr th:only-of-type {\n",
       "        vertical-align: middle;\n",
       "    }\n",
       "\n",
       "    .dataframe tbody tr th {\n",
       "        vertical-align: top;\n",
       "    }\n",
       "\n",
       "    .dataframe thead th {\n",
       "        text-align: right;\n",
       "    }\n",
       "</style>\n",
       "<table border=\"1\" class=\"dataframe\">\n",
       "  <thead>\n",
       "    <tr style=\"text-align: right;\">\n",
       "      <th></th>\n",
       "      <th>DATA</th>\n",
       "      <th>ORA</th>\n",
       "      <th>DATA_VALIDAZIONE</th>\n",
       "      <th>SERIALE</th>\n",
       "      <th>FERMATA</th>\n",
       "      <th>DESCRIZIONE</th>\n",
       "      <th>TITOLO</th>\n",
       "      <th>TICKET_CODE</th>\n",
       "      <th>DESCRIZIONE_TITOLO</th>\n",
       "    </tr>\n",
       "  </thead>\n",
       "  <tbody>\n",
       "    <tr>\n",
       "      <th>494741</th>\n",
       "      <td>2023-01-20</td>\n",
       "      <td>22:42:00</td>\n",
       "      <td>2023-01-20 22:42:00</td>\n",
       "      <td>-2818102479</td>\n",
       "      <td>5013</td>\n",
       "      <td>S. MARCO-SAN</td>\n",
       "      <td>20003</td>\n",
       "      <td>5</td>\n",
       "      <td>MENSILE ORDINARIO ISOLE</td>\n",
       "    </tr>\n",
       "    <tr>\n",
       "      <th>494742</th>\n",
       "      <td>2023-01-20</td>\n",
       "      <td>22:42:00</td>\n",
       "      <td>2023-01-20 22:42:00</td>\n",
       "      <td>-3604974851</td>\n",
       "      <td>5013</td>\n",
       "      <td>S. MARCO-SAN</td>\n",
       "      <td>23101</td>\n",
       "      <td>5</td>\n",
       "      <td>MENSILE ORDINARIO RETE UNICA</td>\n",
       "    </tr>\n",
       "    <tr>\n",
       "      <th>494743</th>\n",
       "      <td>2023-01-20</td>\n",
       "      <td>22:42:00</td>\n",
       "      <td>2023-01-20 22:42:00</td>\n",
       "      <td>-2824243187</td>\n",
       "      <td>5039</td>\n",
       "      <td>RIALTO</td>\n",
       "      <td>23101</td>\n",
       "      <td>5</td>\n",
       "      <td>MENSILE ORDINARIO RETE UNICA</td>\n",
       "    </tr>\n",
       "    <tr>\n",
       "      <th>494744</th>\n",
       "      <td>2023-01-20</td>\n",
       "      <td>22:42:00</td>\n",
       "      <td>2023-01-20 22:42:00</td>\n",
       "      <td>41960766709400836</td>\n",
       "      <td>5031</td>\n",
       "      <td>P.LE ROMA</td>\n",
       "      <td>11107</td>\n",
       "      <td>2</td>\n",
       "      <td>48H-TPL 29,90-COMVE5,10</td>\n",
       "    </tr>\n",
       "    <tr>\n",
       "      <th>494745</th>\n",
       "      <td>2023-01-20</td>\n",
       "      <td>22:42:00</td>\n",
       "      <td>2023-01-20 22:42:00</td>\n",
       "      <td>41960766709396996</td>\n",
       "      <td>5031</td>\n",
       "      <td>P.LE ROMA</td>\n",
       "      <td>11107</td>\n",
       "      <td>2</td>\n",
       "      <td>48H-TPL 29,90-COMVE5,10</td>\n",
       "    </tr>\n",
       "  </tbody>\n",
       "</table>\n",
       "</div>"
      ],
      "text/plain": [
       "             DATA       ORA     DATA_VALIDAZIONE            SERIALE  FERMATA  \\\n",
       "494741 2023-01-20  22:42:00  2023-01-20 22:42:00        -2818102479     5013   \n",
       "494742 2023-01-20  22:42:00  2023-01-20 22:42:00        -3604974851     5013   \n",
       "494743 2023-01-20  22:42:00  2023-01-20 22:42:00        -2824243187     5039   \n",
       "494744 2023-01-20  22:42:00  2023-01-20 22:42:00  41960766709400836     5031   \n",
       "494745 2023-01-20  22:42:00  2023-01-20 22:42:00  41960766709396996     5031   \n",
       "\n",
       "         DESCRIZIONE  TITOLO TICKET_CODE            DESCRIZIONE_TITOLO  \n",
       "494741  S. MARCO-SAN   20003           5       MENSILE ORDINARIO ISOLE  \n",
       "494742  S. MARCO-SAN   23101           5  MENSILE ORDINARIO RETE UNICA  \n",
       "494743        RIALTO   23101           5  MENSILE ORDINARIO RETE UNICA  \n",
       "494744     P.LE ROMA   11107           2       48H-TPL 29,90-COMVE5,10  \n",
       "494745     P.LE ROMA   11107           2       48H-TPL 29,90-COMVE5,10  "
      ]
     },
     "execution_count": 86,
     "metadata": {},
     "output_type": "execute_result"
    }
   ],
   "source": [
    "df.tail()"
   ]
  },
  {
   "attachments": {},
   "cell_type": "markdown",
   "metadata": {},
   "source": [
    "---------\n"
   ]
  },
  {
   "attachments": {},
   "cell_type": "markdown",
   "metadata": {},
   "source": [
    "## Trajectories"
   ]
  },
  {
   "attachments": {},
   "cell_type": "markdown",
   "metadata": {},
   "source": [
    "We are interested in analyzing the trajectories of the users that use the public transport in the city of Venice.\n",
    "\n",
    "Note that the stops are identified by the *DESCRIZIONE* column that contains the name of the stop, so each trajectory \n",
    "is composed by the name of the stops visited by the user, so a trajectory is composed by a sequence of strings."
   ]
  },
  {
   "cell_type": "code",
   "execution_count": 87,
   "metadata": {
    "ExecuteTime": {
     "end_time": "2023-04-30T11:59:27.423497Z",
     "start_time": "2023-04-30T11:59:27.277675Z"
    }
   },
   "outputs": [],
   "source": [
    "def create_dictionary_with_trajectories(df: pd.DataFrame) -> dict[str, datetime]:\n",
    "    \"\"\"\n",
    "        This function creates a dictionary with the trajectories of the users.\n",
    "        :param df: the dataframe\n",
    "        :return: the dictionary with the trajectories of the users with the key (serial, day). \n",
    "            Notice: if the serial is the same for all the days the key is (serial, None)\n",
    "    \"\"\"\n",
    "    # Create a dictionary with the trajectories of the users\n",
    "    dict_trajectories = {}\n",
    "    # For each user\n",
    "    for serial in df['SERIALE'].unique():\n",
    "        # NOTICE: the serial of ticket code 5, 5-STUD, 5-RET, 5-WKRS and the same with 6, change every day,\n",
    "        # so the user is not the same, but the user is the same for the same day\n",
    "        \n",
    "        # Select only the rows of the specified user\n",
    "        df_sup = df[df['SERIALE'] == serial].sort_values(by=['DATA', 'ORA'])\n",
    "\n",
    "        # Create a list with the trajectories of the user\n",
    "        list_trajectories = []\n",
    "        \n",
    "        # If the ticket code is 5, 5-STUD, 5-RET, 5-WKRS or 6, 6-STUD, 6-RET, 6-WKRS create a list with the trajectories \n",
    "        # for each day and for each serial\n",
    "        if df_sup['TICKET_CODE'].unique()[0] in ['5', '5-STUD', '5-RET', '5-WKRS', '6', '6-STUD', '6-RET', '6-WKRS']:\n",
    "            # print('Ticket code: {}'.format(df_sup['TICKET_CODE'].unique()[0]))\n",
    "            # For each day\n",
    "            for day in df_sup['DATA']:\n",
    "                # Select only the rows of the specified day\n",
    "                df_sup_sup = df_sup[df_sup['DATA'] == day]\n",
    "                # For each serial\n",
    "                for serial in df_sup_sup['SERIALE'].unique():\n",
    "                    # Reset list_trajectories\n",
    "                    list_trajectories = []\n",
    "                    # Select only the rows of the specified serial\n",
    "                    df_sup_sup_sup = df_sup_sup[df_sup_sup['SERIALE'] == serial]\n",
    "                    # Create a list with the trajectories of the user\n",
    "                    list_stop = df_sup_sup_sup['DESCRIZIONE'].tolist()\n",
    "                    # Append the list to the list of the trajectories\n",
    "                    list_trajectories.append(list_stop)\n",
    "                    # Insert the list of the trajectories in the dictionary with the key (serial, day)\n",
    "                    dict_trajectories[serial, day] = list_trajectories\n",
    "        else:\n",
    "            # Create a list with the trajectories of the user\n",
    "            list_stop = df_sup['DESCRIZIONE'].tolist()\n",
    "            list_trajectories.append(list_stop)\n",
    "            # If the serial is already in the dictionary print a warning\n",
    "            if (serial, None) in dict_trajectories:\n",
    "                print('Warning: the serial {} is already in the dictionary'.format(serial))\n",
    "                # launch an exception\n",
    "                raise Exception('The serial {} is already in the dictionary'.format(serial))\n",
    "            # Insert the list of the trajectories in the dictionary with the key (serial, None)\n",
    "            # None means that the serial is the same for all the days\n",
    "            dict_trajectories[serial, None] = list_trajectories\n",
    "\n",
    "    return dict_trajectories"
   ]
  },
  {
   "cell_type": "code",
   "execution_count": 88,
   "metadata": {},
   "outputs": [],
   "source": [
    "def number_of_trajectories(dict_trajectories: dict, is_focus_on_ticket_code: bool = False, ticket_code: str = '', summary: bool = False) -> int:\n",
    "    \"\"\"\n",
    "        This function computes the number of trajectories.\n",
    "        :param dict_trajectories: the dictionary with the trajectories of the users\n",
    "        :param is_focus_on_ticket_code: if True, focus on the ticket code\n",
    "        :param ticket_code: the ticket code\n",
    "        :return: the number of trajectories\n",
    "    \"\"\"\n",
    "    # Create a dictionary with the number of trajectories\n",
    "    dict_number_of_trajectories = {}\n",
    "    # For each trajectory\n",
    "    for trajectory in dict_trajectories.values():\n",
    "        # If the trajectory is not in the dictionary, add it\n",
    "        if str(trajectory) not in dict_number_of_trajectories.keys():\n",
    "            dict_number_of_trajectories[str(trajectory)] = 1\n",
    "        # If the trajectory is in the dictionary, increment the counter\n",
    "        else:\n",
    "            dict_number_of_trajectories[str(trajectory)] += 1\n",
    "\n",
    "    if summary:\n",
    "        # Print the number of trajectories\n",
    "        if is_focus_on_ticket_code:\n",
    "            print('The number of trajectories with ticket code {} - \"{}\" is: {}'.format(ticket_code, mf.get_ticket_code_description(ticket_code), len(dict_number_of_trajectories.keys())))\n",
    "        else:\n",
    "            print('The number of trajectories is: {}'.format(len(dict_number_of_trajectories.keys())))\n",
    "    \n",
    "    # Return the number of trajectories\n",
    "    return len(dict_number_of_trajectories.keys())"
   ]
  },
  {
   "cell_type": "code",
   "execution_count": 89,
   "metadata": {
    "ExecuteTime": {
     "end_time": "2023-04-30T11:59:27.516135Z",
     "start_time": "2023-04-30T11:59:27.329742Z"
    }
   },
   "outputs": [],
   "source": [
    "def average_length_of_trajectories(dict_trajectories: dict, is_focus_on_ticket_code: bool = False, ticket_code: str = '', summary: bool = False) -> float:\n",
    "    \"\"\"\n",
    "        This function computes the average length of the trajectories.\n",
    "        This function can receive a dictionary with the trajectories related to a specific ticket code: in this case the function prints this information.\n",
    "        :param dict_trajectories: the dictionary with the trajectories of the users with the key (serial, day) or (serial, None)\n",
    "        :param is_focus_on_ticket_code: if True, focus on the ticket code\n",
    "        :param ticket_code: the ticket code\n",
    "        :param summary: if True, print the summary\n",
    "        :return: the average length of the trajectories \n",
    "    \"\"\"\n",
    "    # Notice that the key of the dictionary is a tuple (serial, day)\n",
    "    # Compute the average length of the trajectories\n",
    "    average_length = 0\n",
    "    for chiave in dict_trajectories.keys():\n",
    "        if chiave[1] is not None:\n",
    "            average_length += len(dict_trajectories[chiave][0])\n",
    "        else:\n",
    "            average_length += len(dict_trajectories[chiave][0])\n",
    "    if len(dict_trajectories.keys()) != 0:\n",
    "        average_length /= len(dict_trajectories.keys())\n",
    "        # Round the average length to 4 decimal places\n",
    "        average_length = round(average_length, 4)\n",
    "    else:\n",
    "        average_length = -1\n",
    "    \n",
    "    if summary:\n",
    "        if len (dict_trajectories.keys()) != 0:\n",
    "            # Print the average length of the trajectories\n",
    "            if is_focus_on_ticket_code:\n",
    "                print('The average length of the trajectories with ticket code {} - \"{}\" is: {}'.format(ticket_code, mf.get_ticket_code_description(ticket_code), average_length))\n",
    "            else:\n",
    "                print('The average length of the trajectories is: {}'.format(average_length))\n",
    "        else:\n",
    "            print('WARNING: There are no trajectories to analyze')\n",
    "\n",
    "    return average_length"
   ]
  },
  {
   "cell_type": "code",
   "execution_count": 90,
   "metadata": {
    "ExecuteTime": {
     "end_time": "2023-04-30T11:59:27.589371Z",
     "start_time": "2023-04-30T11:59:27.379787Z"
    }
   },
   "outputs": [],
   "source": [
    "def average_lenght_of_trajectories_per_ticket_code_stmp(df: pd.DataFrame):\n",
    "    \"\"\"\n",
    "        This function computes the average length of the trajectories for each ticket code in the dataset.\n",
    "        The order of the ticket codes is mantained because the ticket codes are stored in the dictionary \"dict_ticket_codes.json\".\n",
    "        :param df: the dataframe\n",
    "        :return: None\n",
    "    \"\"\"\n",
    "    dict_trajectories = {}\n",
    "    dict_ticket_codes = mf.open_dict_ticket_codes()\n",
    "\n",
    "    # For each ticket code in the dictionary\n",
    "    for ticket_code in dict_ticket_codes.keys():\n",
    "        # Select only the rows of the specified ticket code\n",
    "        df_sup = mf.focus_on_ticket_code(df, ticket_code)\n",
    "        \n",
    "        # If the dataframe is not empty, focus on the ticket code\n",
    "        if df_sup.shape[0] != 0:\n",
    "            # Create a dictionary with the trajectories of the users\n",
    "            dict_trajectories[ticket_code] = create_dictionary_with_trajectories(df_sup)\n",
    "            average_length_of_trajectories(dict_trajectories[ticket_code], is_focus_on_ticket_code=True, ticket_code=ticket_code)\n",
    "        else:\n",
    "            # If the dataframe is empty, skip the ticket code but launch a warning\n",
    "            print('WARNING: There are no validations of the ticket code \"{}\"'.format(ticket_code))"
   ]
  },
  {
   "cell_type": "code",
   "execution_count": 91,
   "metadata": {
    "ExecuteTime": {
     "end_time": "2023-04-30T11:59:27.749712Z",
     "start_time": "2023-04-30T11:59:27.485495Z"
    }
   },
   "outputs": [],
   "source": [
    "def average_length_of_trajectories_by_ticket_code_plot(dict_trajectories: dict, df: pd.DataFrame) -> None:\n",
    "    \"\"\"\n",
    "        This function computes the average length of the trajectories by ticket code.\n",
    "        :param dict_trajectories: the dictionary with the trajectories of the users\n",
    "        :param df: the dataframe\n",
    "        :return: None\n",
    "    \"\"\"\n",
    "    # Compute the average length of the trajectories:\n",
    "            # There are no colums with the coordinates of the stations, and there are no columns with the distance between the stations\n",
    "            # So, I compute the average length of the trajectories by the number of stations visited\n",
    "    \n",
    "    # Open the dictionary\n",
    "    dict_ticket_code = mf.open_dict_ticket_codes()\n",
    "\n",
    "    # Create a dictionary with the number of stations visited for each ticket code\n",
    "    dict_number_of_stations = {}\n",
    "    for ticket_code in dict_ticket_code.keys():\n",
    "        # Select only the rows of the specified ticket code\n",
    "        df_sup = mf.focus_on_ticket_code(df, ticket_code)\n",
    "        # If the dataframe is not empty, focus on the ticket code\n",
    "        if df_sup.shape[0] != 0:\n",
    "            # Create a dictionary with the trajectories of the users\n",
    "            dict_trajectories[ticket_code] = create_dictionary_with_trajectories(df_sup)\n",
    "            # Count the number of stations visited\n",
    "            number_of_stations = 0\n",
    "            for chiave in dict_trajectories[ticket_code].keys():\n",
    "                if chiave[1] is not None:\n",
    "                    number_of_stations += len(dict_trajectories[ticket_code][chiave][0])\n",
    "                else:\n",
    "                    number_of_stations += len(dict_trajectories[ticket_code][chiave][0])\n",
    "            # Add the average length of the trajectories to the dictionary\n",
    "            dict_number_of_stations[ticket_code] = number_of_stations / len(dict_trajectories[ticket_code].keys())\n",
    "            # dict_number_of_stations[ticket_code] = number_of_stations / number_of_trajectories(dict_trajectories[ticket_code])\n",
    "\n",
    "    # Plot the average length of the trajectories by ticket code\n",
    "    plt.figure(figsize=(20, 10))\n",
    "    plt.bar(dict_number_of_stations.keys(), dict_number_of_stations.values())\n",
    "    plt.title('Average length of the trajectories by ticket code')\n",
    "    plt.xlabel('Ticket code')   \n",
    "    plt.ylabel('Average length of the trajectories')\n",
    "\n",
    "    # Manage the x-axis adding the description of the ticket code; note that it is possible that some ticket codes are not present in the plot\n",
    "    plt.xticks(ticks=range(0, len(dict_number_of_stations.keys())), labels=[dict_ticket_code[ticket_code] for ticket_code in dict_number_of_stations.keys()], rotation=90)\n",
    "    \n",
    "    # Manage the y-axis: note that the y-axis are float numbers: do not convert them to integers and do not use the range function\n",
    "    if max(dict_number_of_stations.values()) < 0.1:\n",
    "        plt.yticks(ticks=np.arange(0, max(dict_number_of_stations.values()) + 1, 0.01))\n",
    "    else:\n",
    "        plt.yticks(ticks=np.arange(0, max(dict_number_of_stations.values()) + 1, 0.5))\n",
    "\n",
    "    # Add the value of each bar\n",
    "    for index, value in enumerate(dict_number_of_stations.values()):\n",
    "        plt.text(index, value, str(round(value, 4)), ha='center', va='bottom', fontsize=10)\n",
    "\n",
    "    plt.show()\n",
    "\n",
    "    # Average number of stations visited by trajectory by ticket code\n",
    "    # for ticket_code in dict_number_of_stations.keys(\n",
    "        # print('The average number of stations visited by trajectory with ticket code \"{}\" is: {}'.format(ticket_code, dict_number_of_stations[ticket_code]))"
   ]
  },
  {
   "cell_type": "code",
   "execution_count": 92,
   "metadata": {},
   "outputs": [],
   "source": [
    "def count_number_of_stations_visited(trajectory: list, only_unique_stations: bool = False) -> int:\n",
    "    \"\"\"\n",
    "        This function counts the number of stations visited in a trajectory.\n",
    "        :param trajectory: the trajectory of the user\n",
    "        :param only_unique_stations: if True, count only the unique stations visited in the trajectory\n",
    "    \"\"\"\n",
    "    if only_unique_stations:\n",
    "        return len(set(trajectory[0]))\n",
    "    else:\n",
    "        return len(trajectory[0])"
   ]
  },
  {
   "cell_type": "code",
   "execution_count": 93,
   "metadata": {
    "ExecuteTime": {
     "end_time": "2023-04-30T11:59:27.753726Z",
     "start_time": "2023-04-30T11:59:27.548585Z"
    }
   },
   "outputs": [],
   "source": [
    "def most_frequent_trajectories(dict_trajectories: dict, is_focus_on_ticket_code: bool = False, ticket_code: str = '', summary: bool = False, k: int = -1, min_length: int = 1) -> dict:\n",
    "    \"\"\"\n",
    "        This function computes the most frequent trajectories.\n",
    "        :param dict_trajectories: the dictionary with the trajectories of the users\n",
    "        :param is_focus_on_ticket_code: if True, the function computes the most frequent trajectories for the specified ticket code\n",
    "        :param ticket_code: the ticket code\n",
    "        :param summary: if True, the function prints the summary\n",
    "        :param k: the number of most frequent trajectories to return: if k = -1, the function returns all the trajectories\n",
    "        :return: the dictionary with the most frequent trajectories\n",
    "    \"\"\"\n",
    "    # Create a dictionary with the most frequent trajectories\n",
    "    dict_most_frequent_trajectories = {}\n",
    "    # For each trajectory\n",
    "    for trajectory in dict_trajectories.values():\n",
    "        # If the trajectory is longer than the min length, consider it\n",
    "        if count_number_of_stations_visited(trajectory) >= min_length:\n",
    "            # If the trajectory is not in the dictionary, add it\n",
    "            if str(trajectory) not in dict_most_frequent_trajectories.keys():\n",
    "                dict_most_frequent_trajectories[str(trajectory)] = 1\n",
    "            # If the trajectory is in the dictionary, increment the counter\n",
    "            else:\n",
    "                dict_most_frequent_trajectories[str(trajectory)] += 1\n",
    "    # Sort the dictionary by value\n",
    "    dict_most_frequent_trajectories = dict(sorted(dict_most_frequent_trajectories.items(), key=lambda item: item[1], reverse=True))\n",
    "\n",
    "    # If k = -1, return all the trajectories, otherwise return the first k trajectories\n",
    "    if k != -1:\n",
    "        # Select the first k trajectories\n",
    "        dict_most_frequent_trajectories = dict(list(dict_most_frequent_trajectories.items())[0:k])\n",
    "    \n",
    "    # Print the summary\n",
    "    if summary:\n",
    "        s = 'The most'\n",
    "        if k != -1:\n",
    "            s += ' {} frequent trajectories'.format(k)\n",
    "        else:\n",
    "            s += ' frequent trajectories'\n",
    "        \n",
    "        s += ' with a minimum length of {} stop(s)'.format(min_length)\n",
    "\n",
    "        if is_focus_on_ticket_code:\n",
    "            s += ' for the ticket code {} - \"{}\" are:'.format(ticket_code, mf.get_ticket_code_description(ticket_code))\n",
    "        else:\n",
    "            s += ' are:'\n",
    "        print(s)\n",
    "        for trajectory in dict_most_frequent_trajectories.keys():\n",
    "            print('\\t {} - {}'.format(trajectory, dict_most_frequent_trajectories[trajectory]))\n",
    "    \n",
    "    # Return the dictionary with the most frequent trajectories\n",
    "    return dict_most_frequent_trajectories"
   ]
  },
  {
   "cell_type": "code",
   "execution_count": 94,
   "metadata": {
    "ExecuteTime": {
     "end_time": "2023-04-30T11:59:27.960086Z",
     "start_time": "2023-04-30T11:59:27.894440Z"
    }
   },
   "outputs": [],
   "source": [
    "def longest_common_subsequence(trajectory_1: list, trajectory_2: list) -> list:\n",
    "    \"\"\"\n",
    "        This function finds the Longest Common Subsequence (LCS) between two trajectories.\n",
    "        :param trajectory_1: the first trajectory\n",
    "        :param trajectory_2: the second trajectory\n",
    "        :return: the LCS\n",
    "    \"\"\"\n",
    "    # Find the LCS\n",
    "    # Create a matrix with the length of the LCS between two trajectories\n",
    "    matrix = [[0 for x in range(len(trajectory_2) + 1)] for y in range(len(trajectory_1) + 1)]\n",
    "    for i in range(1, len(trajectory_1) + 1):\n",
    "        for j in range(1, len(trajectory_2) + 1):\n",
    "            if trajectory_1[i - 1] == trajectory_2[j - 1]:\n",
    "                matrix[i][j] = matrix[i - 1][j - 1] + 1\n",
    "            else:\n",
    "                matrix[i][j] = max(matrix[i - 1][j], matrix[i][j - 1])\n",
    "\n",
    "    # Find the LCS\n",
    "    i = len(trajectory_1)\n",
    "    j = len(trajectory_2)\n",
    "    lcs = []\n",
    "    while i > 0 and j > 0:\n",
    "        if trajectory_1[i - 1] == trajectory_2[j - 1]:\n",
    "            lcs.append(trajectory_1[i - 1])\n",
    "            i -= 1\n",
    "            j -= 1\n",
    "        elif matrix[i - 1][j] > matrix[i][j - 1]:\n",
    "            i -= 1\n",
    "        else:\n",
    "            j -= 1\n",
    "\n",
    "    # Reverse the LCS\n",
    "    lcs.reverse()\n",
    "\n",
    "    return lcs"
   ]
  },
  {
   "attachments": {},
   "cell_type": "markdown",
   "metadata": {},
   "source": [
    "### Compute the average length of the trajectories with the entire dataset\n"
   ]
  },
  {
   "cell_type": "code",
   "execution_count": 95,
   "metadata": {
    "ExecuteTime": {
     "end_time": "2023-04-30T17:08:12.214132Z",
     "start_time": "2023-04-30T11:59:27.959931Z"
    }
   },
   "outputs": [],
   "source": [
    "# Create a dictionary with the trajectories of the users\n",
    "dict_trajectories = create_dictionary_with_trajectories(df)"
   ]
  },
  {
   "cell_type": "code",
   "execution_count": 96,
   "metadata": {},
   "outputs": [
    {
     "name": "stdout",
     "output_type": "stream",
     "text": [
      "(40834866809772548, None) - [['STAZIONE MES']]\n",
      "(-3604990320, Timestamp('2023-01-13 00:00:00')) - [['ZATTERE', 'LIDO', 'LIDO']]\n",
      "(-3604990320, Timestamp('2023-01-14 00:00:00')) - [['LIDO', 'ZATTERE']]\n",
      "(-3604990320, Timestamp('2023-01-16 00:00:00')) - [['LIDO', 'SAN MARCO', 'GIUDECCA PAL']]\n",
      "(-3604990320, Timestamp('2023-01-17 00:00:00')) - [['LIDO', 'S. BASILIO']]\n"
     ]
    }
   ],
   "source": [
    "# Print the head of the dictionary\n",
    "for key in list(dict_trajectories.keys())[0:5]:\n",
    "    print('{} - {}'.format(key, dict_trajectories[key]))"
   ]
  },
  {
   "cell_type": "code",
   "execution_count": 97,
   "metadata": {},
   "outputs": [
    {
     "name": "stdout",
     "output_type": "stream",
     "text": [
      "The average length of the trajectories considering all the dataframe is: 1.9444\n"
     ]
    },
    {
     "data": {
      "image/png": "[encoded data removed]",
      "text/plain": [
       "<Figure size 2000x1000 with 1 Axes>"
      ]
     },
     "metadata": {},
     "output_type": "display_data"
    }
   ],
   "source": [
    "# Compute the average length of the trajectories\n",
    "average_lenght = average_length_of_trajectories(dict_trajectories)\n",
    "print('The average length of the trajectories considering all the dataframe is: {}'.format(average_lenght))\n",
    "average_length_of_trajectories_by_ticket_code_plot(dict_trajectories, df)"
   ]
  },
  {
   "attachments": {},
   "cell_type": "markdown",
   "metadata": {},
   "source": [
    "### Compute the average length of the trajectories with the dataset with the ticket code 7"
   ]
  },
  {
   "cell_type": "code",
   "execution_count": 98,
   "metadata": {},
   "outputs": [],
   "source": [
    "# # Create a dictionary with the trajectories of the users with the ticket code '7'\n",
    "# df_sup = mf.focus_on_ticket_code(df,'7')\n",
    "# # Create a dictionary with the trajectories of the users\n",
    "# dict_trajectories = create_dictionary_with_trajectories(df_sup)\n",
    "# # Compute the average length of the trajectories\n",
    "# average_lenght = average_length_of_trajectories(dict_trajectories, is_focus_on_ticket_code=True, ticket_code='7')\n",
    "# # average_length_of_trajectories_by_ticket_code_plot(dict_trajectories, df_sup, 'data/dictionaries/dict_ticket_codes.json')\n",
    "# # trajectories_with_at_least_k_stations(dict_trajectories, 3)"
   ]
  },
  {
   "attachments": {},
   "cell_type": "markdown",
   "metadata": {},
   "source": [
    "### Print information for each ticket code"
   ]
  },
  {
   "cell_type": "code",
   "execution_count": 99,
   "metadata": {
    "ExecuteTime": {
     "end_time": "2023-04-30T11:50:55.190157Z",
     "start_time": "2023-04-30T09:39:50.451287Z"
    }
   },
   "outputs": [
    {
     "name": "stdout",
     "output_type": "stream",
     "text": [
      "Ticket code: 1 - \"One-day ticket\"\n",
      "The average length of the trajectories is: 3.7696\n",
      "The number of trajectories is: 3636\n",
      "The most 5 frequent trajectories with a minimum length of 2 stop(s) for the ticket code 1 - \"One-day ticket\" are:\n",
      "\t [['F.TE NOVE', 'BURANO']] - 232\n",
      "\t [['F.TE NOVE', 'MURANO', 'BURANO']] - 171\n",
      "\t [['SAN MARCO', 'BURANO']] - 162\n",
      "\t [['SAN MARCO', 'MURANO', 'BURANO']] - 126\n",
      "\t [['F.TE NOVE', 'BURANO', 'MURANO']] - 119\n",
      "\n",
      "Ticket code: 2 - \"Two-day ticket\"\n",
      "The average length of the trajectories is: 5.1983\n",
      "The number of trajectories is: 2116\n",
      "The most 5 frequent trajectories with a minimum length of 2 stop(s) for the ticket code 2 - \"Two-day ticket\" are:\n",
      "\t [['FERROVIA', 'RIALTO']] - 27\n",
      "\t [['FERROVIA', 'SAN MARCO']] - 23\n",
      "\t [['FERROVIA', 'S. MARCO-SAN']] - 20\n",
      "\t [['P.LE ROMA', 'RIALTO']] - 14\n",
      "\t [['TRONCHETTO', 'RIALTO']] - 12\n",
      "\n",
      "Ticket code: 3 - \"Three-day ticket\"\n",
      "The average length of the trajectories is: 6.2349\n",
      "The number of trajectories is: 2065\n",
      "The most 5 frequent trajectories with a minimum length of 2 stop(s) for the ticket code 3 - \"Three-day ticket\" are:\n",
      "\t [['FERROVIA', 'RIALTO', 'FERROVIA', 'BURANO', 'FERROVIA', 'RIALTO', 'FERROVIA']] - 28\n",
      "\t [['AEROPORTO MA', 'P.LE ROMA']] - 21\n",
      "\t [['FERROVIA', 'RIALTO']] - 17\n",
      "\t [['P.LE ROMA', 'RIALTO']] - 14\n",
      "\t [['SAN MARCO', 'BURANO']] - 13\n",
      "\n",
      "Ticket code: 4 - \"Seven-day ticket\"\n",
      "The average length of the trajectories is: 7.9122\n",
      "The number of trajectories is: 746\n",
      "The most 5 frequent trajectories with a minimum length of 2 stop(s) for the ticket code 4 - \"Seven-day ticket\" are:\n",
      "\t [['TRONCHETTO', 'RIALTO']] - 15\n",
      "\t [['RIALTO', 'RIALTO', 'P.LE ROMA']] - 7\n",
      "\t [['FERROVIA', 'SAN MARCO']] - 7\n",
      "\t [['TRONCHETTO', 'GIARDINI', 'RIALTO', 'BURANO', 'SAN MARCO']] - 6\n",
      "\t [['AEROPORTO MA', 'P.LE ROMA', 'SAN MARCO', 'MURANO', 'CIMITERO SAN', 'F.TE NOVE', 'P.LE ROMA', 'FERROVIA', 'S. GIORGIO', 'ARSENALE', 'LIDO', 'F.TE NOVE', 'BURANO', 'TORCELLO', 'BURANO', 'F.TE NOVE', 'P.LE ROMA']] - 5\n",
      "\n",
      "Ticket code: 5 - \"Monthly ticket\"\n",
      "The average length of the trajectories is: 1.5541\n",
      "The number of trajectories is: 5709\n",
      "The most 5 frequent trajectories with a minimum length of 2 stop(s) for the ticket code 5 - \"Monthly ticket\" are:\n",
      "\t [['P.LE ROMA', 'RIALTO']] - 6133\n",
      "\t [['FERROVIA', 'RIALTO']] - 1223\n",
      "\t [['LIDO', 'S. MARCO-SAN']] - 907\n",
      "\t [['S. TOMA\\' \"B\"', 'S. ANGELO']] - 839\n",
      "\t [['RIALTO', 'P.LE ROMA']] - 792\n",
      "\n",
      "Ticket code: 5-STUD - \"Monthly ticket for students\"\n",
      "The average length of the trajectories is: 1.4862\n",
      "The number of trajectories is: 1449\n",
      "The most 5 frequent trajectories with a minimum length of 2 stop(s) for the ticket code 5-STUD - \"Monthly ticket for students\" are:\n",
      "\t [['P.LE ROMA', 'RIALTO']] - 620\n",
      "\t [['PUNTA SABBIO', 'SAN MARCO']] - 193\n",
      "\t [['RIALTO', 'P.LE ROMA']] - 109\n",
      "\t [['FERROVIA', 'RIALTO']] - 109\n",
      "\t [['LIDO', 'S. MARCO-SAN']] - 96\n",
      "\n",
      "Ticket code: 5-RET - \"Monthly ticket for retired\"\n",
      "\t No trajectories to analyze\n",
      "\n",
      "Ticket code: 5-WKRS - \"Monthly ticket for workers\"\n",
      "The average length of the trajectories is: 1.7202\n",
      "The number of trajectories is: 52\n",
      "The most 5 frequent trajectories with a minimum length of 2 stop(s) for the ticket code 5-WKRS - \"Monthly ticket for workers\" are:\n",
      "\t [['PUNTA SABBIO', 'SAN MARCO']] - 128\n",
      "\t [['PUNTA SABBIO', 'LIDO']] - 77\n",
      "\t [['SAN MARCO', 'PUNTA SABBIO']] - 10\n",
      "\t [['PUNTA SABBIO', 'S. MARCO-SAN', 'S. TOMA\\' \"B\"', 'SAN MARCO']] - 6\n",
      "\t [['PUNTA SABBIO', 'RIALTO', 'LIDO']] - 5\n",
      "\n",
      "Ticket code: 6 - \"Annual ticket\"\n",
      "The average length of the trajectories is: 1.4828\n",
      "The number of trajectories is: 2605\n",
      "The most 5 frequent trajectories with a minimum length of 2 stop(s) for the ticket code 6 - \"Annual ticket\" are:\n",
      "\t [['P.LE ROMA', 'RIALTO']] - 1637\n",
      "\t [['LIDO', 'S. MARCO-SAN']] - 684\n",
      "\t [['RIALTO', 'P.LE ROMA']] - 499\n",
      "\t [['S. TOMA\\' \"B\"', 'RIALTO']] - 289\n",
      "\t [['S. TOMA\\' \"B\"', 'S. ANGELO']] - 276\n",
      "\n",
      "Ticket code: 6-STUD - \"Annual ticket for students\"\n",
      "The average length of the trajectories is: 1.3261\n",
      "The number of trajectories is: 755\n",
      "The most 5 frequent trajectories with a minimum length of 2 stop(s) for the ticket code 6-STUD - \"Annual ticket for students\" are:\n",
      "\t [['P.LE ROMA', 'RIALTO']] - 183\n",
      "\t [['LIDO', 'S. MARCO-SAN']] - 117\n",
      "\t [['PUNTA SABBIO', 'SAN MARCO']] - 72\n",
      "\t [['GIUDECCA PAL', 'GIUDECCA PAL']] - 55\n",
      "\t [['LIDO', 'LIDO']] - 55\n",
      "\n",
      "Ticket code: 6-RET - \"Annual ticket for retired\"\n",
      "The average length of the trajectories is: 1.4861\n",
      "The number of trajectories is: 667\n",
      "The most 5 frequent trajectories with a minimum length of 2 stop(s) for the ticket code 6-RET - \"Annual ticket for retired\" are:\n",
      "\t [['RIALTO', 'P.LE ROMA']] - 39\n",
      "\t [['P.LE ROMA', 'RIALTO']] - 18\n",
      "\t [['FERROVIA', 'P.LE ROMA']] - 18\n",
      "\t [['LIDO', 'S. MARCO-SAN']] - 16\n",
      "\t [['P.LE ROMA', 'P.LE ROMA']] - 15\n",
      "\n",
      "Ticket code: 6-WKRS - \"Annual ticket for workers\"\n",
      "The average length of the trajectories is: 1.869\n",
      "The number of trajectories is: 15\n",
      "The most 5 frequent trajectories with a minimum length of 2 stop(s) for the ticket code 6-WKRS - \"Annual ticket for workers\" are:\n",
      "\t [['PUNTA SABBIO', 'SAN MARCO']] - 36\n",
      "\t [['PUNTA SABBIO', 'LIDO']] - 9\n",
      "\t [['SAN MARCO', 'PUNTA SABBIO']] - 4\n",
      "\t [['S. TOMA\\' \"B\"', 'PUNTA SABBIO']] - 2\n",
      "\t [['PUNTA SABBIO', 'LIDO', 'LIDO']] - 2\n",
      "\n",
      "Ticket code: 7 - \"75 minutes ticket\"\n",
      "The average length of the trajectories is: 1.9256\n",
      "The number of trajectories is: 18121\n",
      "The most 5 frequent trajectories with a minimum length of 2 stop(s) for the ticket code 7 - \"75 minutes ticket\" are:\n",
      "\t [['PUNTA SABBIO', 'SAN MARCO']] - 751\n",
      "\t [['MESTRE', 'VENEZIA']] - 656\n",
      "\t [['SAN MARCO', 'VENEZIA']] - 630\n",
      "\t [['TRONCHETTO', 'LIDO']] - 612\n",
      "\t [['P.LE ROMA', 'RIALTO']] - 588\n",
      "\n"
     ]
    }
   ],
   "source": [
    "# For each ticket code:\n",
    "# a. Create a dictionary with the trajectories of the users with the ticket code\n",
    "# b. Compute the average length of the trajectories (number of stations visited)\n",
    "# c. Compute the number of users \n",
    "# d. Compute the number of trajectories\n",
    "# e. Find the most frequent trajectories\n",
    "\n",
    "ticket_code = mf.open_dict_ticket_codes()\n",
    "\n",
    "dict_trajectories = create_dictionary_with_trajectories(df)\n",
    "# average_length_of_trajectories_by_ticket_code_plot(dict_trajectories, df, 'data/dictionaries/dict_ticket_codes.json')\n",
    "\n",
    "for ticket_code in ticket_code.keys():\n",
    "    # Exclude the ticket code '8' \n",
    "    if ticket_code == '8':\n",
    "        continue\n",
    "    \n",
    "    print('Ticket code: {} - \"{}\"'.format(ticket_code, mf.get_ticket_code_description(ticket_code)))\n",
    "\n",
    "    # a. Create a dictionary with the trajectories of the users with the ticket code\n",
    "    df_sup = mf.focus_on_ticket_code(df, ticket_code)\n",
    "    dict_trajectories = create_dictionary_with_trajectories(df_sup)\n",
    "    if len(dict_trajectories.keys()) == 0:\n",
    "        print('\\t No trajectories to analyze')\n",
    "        print('')\n",
    "        continue\n",
    "    \n",
    "    # b. Compute the average length of the trajectories (number of stations visited)\n",
    "    avg_len_trj = average_length_of_trajectories(dict_trajectories, is_focus_on_ticket_code=True, ticket_code=ticket_code)\n",
    "    print('The average length of the trajectories is: {}'.format(avg_len_trj))\n",
    "    \n",
    "    # c. Compute the number of users (Seriale)\n",
    "    number_of_users = len(dict_trajectories.keys()) # TODO: r u sure?\n",
    "    \n",
    "    # d. Compute the number of trajectories\n",
    "    num_trj = number_of_trajectories(dict_trajectories, is_focus_on_ticket_code=True, ticket_code=ticket_code, summary=False)\n",
    "    print('The number of trajectories is: {}'.format(num_trj))\n",
    "    \n",
    "    # e. Find the most frequent trajectories\n",
    "    most_frequent_trajectories(dict_trajectories, is_focus_on_ticket_code=True, ticket_code=ticket_code, k=5, summary=True, min_length=2)\n",
    "    print('')"
   ]
  },
  {
   "cell_type": "code",
   "execution_count": 100,
   "metadata": {},
   "outputs": [],
   "source": [
    "def print_trajectories_of_user(dict_trajectories: dict, user: str):\n",
    "    \"\"\"\n",
    "        This function prints the trajectories of a user.\n",
    "        :param dict_trajectories: the dictionary with the trajectories\n",
    "        :param user: the user\n",
    "    \"\"\"\n",
    "    # print the dataframes of the trajectories of the user\n",
    "    df_aux = df[df['SERIALE'] == user]\n",
    "    print(df_aux)"
   ]
  },
  {
   "cell_type": "code",
   "execution_count": 101,
   "metadata": {},
   "outputs": [
    {
     "name": "stdout",
     "output_type": "stream",
     "text": [
      "        DATA       ORA     DATA_VALIDAZIONE            SERIALE  FERMATA  \\\n",
      "0 2023-01-13  00:00:00  2023-01-13 00:00:00  40834866809772548      162   \n",
      "\n",
      "    DESCRIZIONE  TITOLO TICKET_CODE           DESCRIZIONE_TITOLO  \n",
      "0  STAZIONE MES   12101           7  BIGL.AUT.75'MESTRE/LIDO-TSC  \n"
     ]
    }
   ],
   "source": [
    "# Given the serial of a user, print the trajectories of the user\n",
    "# Serial of the user of the first trajectory\n",
    "serial = list(dict_trajectories.keys())[0][0]\n",
    "# Print the trajectories of the user\n",
    "print_trajectories_of_user(dict_trajectories, serial)"
   ]
  },
  {
   "attachments": {},
   "cell_type": "markdown",
   "metadata": {},
   "source": [
    "### Find the most frequent trajectories with the entire dataset"
   ]
  },
  {
   "cell_type": "code",
   "execution_count": 102,
   "metadata": {},
   "outputs": [
    {
     "name": "stdout",
     "output_type": "stream",
     "text": [
      "The most 20 frequent trajectories with a minimum length of 3 stop(s) are:\n",
      "\t [['F.TE NOVE', 'MURANO', 'BURANO']] - 182\n",
      "\t [['P.LE ROMA', 'RIALTO', 'P.LE ROMA', 'RIALTO']] - 165\n",
      "\t [['P.LE ROMA', 'RIALTO', 'VENEZIA']] - 145\n",
      "\t [['SAN MARCO', 'MURANO', 'BURANO']] - 130\n",
      "\t [['P.LE ROMA', 'RIALTO', 'P.LE ROMA']] - 126\n",
      "\t [['P.LE ROMA', 'RIALTO', 'RIALTO']] - 125\n",
      "\t [['F.TE NOVE', 'BURANO', 'MURANO']] - 125\n",
      "\t [['P.LE ROMA', 'P.LE ROMA', 'RIALTO']] - 102\n",
      "\t [['FERROVIA', 'MURANO', 'BURANO']] - 100\n",
      "\t [['RIALTO', 'P.LE ROMA', 'RIALTO']] - 93\n",
      "\t [['LIDO', 'LIDO', 'S. MARCO-SAN']] - 81\n",
      "\t [['RIALTO', 'RIALTO', 'RIALTO']] - 79\n",
      "\t [['P.LE ROMA', 'MURANO', 'BURANO']] - 75\n",
      "\t [['LIDO', 'S. MARCO-SAN', 'LIDO']] - 74\n",
      "\t [['PUNTA SABBIO', 'LIDO', 'LIDO']] - 70\n",
      "\t [['PUNTA SABBIO', 'LIDO', 'SAN MARCO']] - 70\n",
      "\t [['TRONCHETTO', 'LIDO', 'TRONCHETTO', 'LIDO']] - 64\n",
      "\t [['FERROVIA', 'RIALTO', 'RIALTO']] - 63\n",
      "\t [['PUNTA SABBIO', 'SAN MARCO', 'PUNTA SABBIO', 'SAN MARCO']] - 56\n",
      "\t [['PUNTA SABBIO', 'S. MARCO-SAN', 'SAN MARCO']] - 55\n"
     ]
    }
   ],
   "source": [
    "# Create a dictionary with the trajectories of the users with the entire dataset\n",
    "dict_trajectories = create_dictionary_with_trajectories(df)\n",
    "# Find the most frequent trajectories and print the summary\n",
    "most_freq_trj = most_frequent_trajectories(dict_trajectories, k=20, summary=True, min_length=3)"
   ]
  },
  {
   "attachments": {},
   "cell_type": "markdown",
   "metadata": {},
   "source": [
    "### Find the most frequent trajectories with the dataset with a specified ticket code"
   ]
  },
  {
   "cell_type": "code",
   "execution_count": 103,
   "metadata": {},
   "outputs": [],
   "source": [
    "# Create a dictionary with the trajectories of the users with the ticket code '1'\n",
    "df_sup = mf.focus_on_ticket_code(df,'1')\n",
    "# Create a dictionary with the trajectories of the users with the ticket code '1'\n",
    "dict_trajectories = create_dictionary_with_trajectories(df_sup)\n",
    "# Save the most frequent trajectories in a variable\n",
    "most_frq_trj = most_frequent_trajectories(dict_trajectories, is_focus_on_ticket_code=True, ticket_code='1', summary=False, k = -1, min_length=4)"
   ]
  },
  {
   "cell_type": "code",
   "execution_count": 104,
   "metadata": {},
   "outputs": [
    {
     "name": "stdout",
     "output_type": "stream",
     "text": [
      "The most 20 frequent trajectories with a minimum length of 4 stop(s) are:\n",
      "\t [['FERROVIA', 'RIALTO', 'FERROVIA', 'BURANO', 'FERROVIA', 'RIALTO', 'FERROVIA']] - 28\n",
      "\t [['F.TE NOVE', 'MURANO', 'MURANO', 'BURANO']] - 25\n",
      "\t [['FERROVIA', 'MURANO', 'BURANO', 'RIALTO']] - 25\n",
      "\t [['FERROVIA', 'F.TE NOVE', 'BURANO', 'MURANO']] - 21\n",
      "\t [['FERROVIA', 'F.TE NOVE', 'BURANO', 'RIALTO']] - 20\n",
      "\t [['SAN MARCO', 'MURANO', 'MURANO', 'BURANO']] - 18\n",
      "\t [['FERROVIA', 'MURANO', 'BURANO', 'MURANO']] - 17\n",
      "\t [['F.TE NOVE', 'MURANO', 'BURANO', 'S. MARCO-SAN']] - 16\n",
      "\t [['F.TE NOVE', 'MURANO', 'BURANO', 'RIALTO']] - 16\n",
      "\t [['F.TE NOVE', 'MURANO', 'BURANO', 'SAN MARCO']] - 16\n",
      "\t [['SAN MARCO', 'BURANO', 'MURANO', 'SAN MARCO']] - 15\n",
      "\t [['SAN MARCO', 'MURANO', 'BURANO', 'F.TE NOVE']] - 15\n",
      "\t [['FERROVIA', 'MURANO', 'BURANO', 'F.TE NOVE']] - 15\n",
      "\t [['SAN MARCO', 'MURANO', 'BURANO', 'RIALTO']] - 14\n",
      "\t [['P.LE ROMA', 'MURANO', 'BURANO', 'VENEZIA']] - 14\n",
      "\t [['PEOPLE MOVER', 'P.LE ROMA', 'MURANO', 'BURANO', 'SAN MARCO', 'S. GIORGIO', 'SAN MARCO']] - 14\n",
      "\t [['SAN MARCO', 'MURANO', 'BURANO', 'SAN MARCO']] - 13\n",
      "\t [['F.TE NOVE', 'BURANO', 'MURANO', 'RIALTO']] - 13\n",
      "\t [['F.TE NOVE', 'MURANO', 'BURANO', 'BURANO']] - 12\n",
      "\t [['FERROVIA', 'F.TE NOVE', 'BURANO', 'F.TE NOVE']] - 11\n"
     ]
    }
   ],
   "source": [
    "# Which are the common itineraries for tourists? \n",
    "# The tourist have the ticket code '1', '2', '3', '4'\n",
    "# Create a dictionary with the trajectories of the users with the ticket code '1', '2', '3', '4'\n",
    "df_sup = mf.focus_on_ticket_code_list(df,['1','2','3','4'])\n",
    "# Create a dictionary with the trajectories of the users with the ticket code '1', '2', '3', '4'\n",
    "dict_trajectories = create_dictionary_with_trajectories(df_sup)\n",
    "# Save the most frequent trajectories in a variable\n",
    "most_frq_trj = most_frequent_trajectories(dict_trajectories, k = 20, min_length=4, summary=True)"
   ]
  },
  {
   "cell_type": "code",
   "execution_count": 105,
   "metadata": {},
   "outputs": [
    {
     "name": "stdout",
     "output_type": "stream",
     "text": [
      "The most 20 frequent trajectories with a minimum length of 4 stop(s) are:\n",
      "\t [['P.LE ROMA', 'RIALTO', 'P.LE ROMA', 'RIALTO']] - 134\n",
      "\t [['LIDO', 'S. MARCO-SAN', 'LIDO', 'S. MARCO-SAN']] - 31\n",
      "\t [['PEOPLE MOVER', 'P.LE ROMA', 'RIALTO', 'PEOPLE MOVER']] - 26\n",
      "\t [['RIALTO', 'P.LE ROMA', 'RIALTO', 'P.LE ROMA']] - 21\n",
      "\t [['S. TOMA\\' \"B\"', 'RIALTO', 'S. TOMA\\' \"B\"', 'RIALTO']] - 21\n",
      "\t [['S. ANGELO', 'S. TOMA\\' \"B\"', 'S. ANGELO', 'S. TOMA\\' \"B\"']] - 19\n",
      "\t [['S. STAE', 'S. MARCUOLA-', 'S. STAE', 'S. MARCUOLA-']] - 16\n",
      "\t [['S.ELENA-STAD', 'S. MARCO-SAN', 'S.ELENA-STAD', 'S. MARCO-SAN']] - 16\n",
      "\t [['MESTRE', 'P.LE ROMA', 'RIALTO', 'VENEZIA']] - 15\n",
      "\t [['P.LE ROMA', 'RIALTO', 'RIALTO', 'RIALTO']] - 14\n",
      "\t [['RIALTO', 'S. TOMA\\' \"B\"', 'RIALTO', 'S. TOMA\\' \"B\"']] - 14\n",
      "\t [['PEOPLE MOVER', 'PEOPLE MOVER', 'PEOPLE MOVER', 'PEOPLE MOVER']] - 14\n",
      "\t [['PUNTA SABBIO', 'S. MARCO-SAN', 'S. TOMA\\' \"B\"', 'SAN MARCO']] - 13\n",
      "\t [['S.ELENA-STAD', 'LIDO', 'S.ELENA-STAD', 'LIDO']] - 12\n",
      "\t [['S. MARCUOLA-', 'RIALTO', 'S. MARCUOLA-', 'RIALTO']] - 11\n",
      "\t [['P.LE ROMA', 'RIALTO', 'FERROVIA', 'RIALTO']] - 10\n",
      "\t [['S. TOMA\\' \"B\"', 'S. ANGELO', 'S. TOMA\\' \"B\"', 'S. ANGELO']] - 10\n",
      "\t [['VENEZIA', 'P.LE ROMA', 'RIALTO', 'VENEZIA']] - 10\n",
      "\t [['PEOPLE MOVER', 'S. TOMA\\' \"B\"', 'S. ANGELO', 'PEOPLE MOVER']] - 10\n",
      "\t [['GIUDECCA PAL', 'ZATTERE', 'GIUDECCA PAL', 'ZATTERE']] - 9\n"
     ]
    }
   ],
   "source": [
    "# Which are the common itineraries for not tourists?\n",
    "# The not tourist have the ticket code different from '1', '2', '3', '4'\n",
    "# Create a dictionary with the trajectories of the users with the ticket code different from '1', '2', '3', '4'\n",
    "df_sup = mf.focus_on_ticket_code_list(df,['5', '5-WKRS', '5-STUD', '5-RET', '6', '6-WKRS', '6-STUD', '6-RET'])\n",
    "# Create a dictionary with the trajectories of the users with the ticket code different from '1', '2', '3', '4'\n",
    "dict_trajectories = create_dictionary_with_trajectories(df_sup)\n",
    "# Save the most frequent trajectories in a variable\n",
    "most_frq_trj = most_frequent_trajectories(dict_trajectories, k = 20, min_length=4, summary=True)\n"
   ]
  },
  {
   "cell_type": "code",
   "execution_count": 106,
   "metadata": {},
   "outputs": [
    {
     "name": "stdout",
     "output_type": "stream",
     "text": [
      "The most 20 frequent trajectories with a minimum length of 4 stop(s) are:\n",
      "\t [['P.LE ROMA', 'RIALTO', 'P.LE ROMA', 'RIALTO']] - 14\n",
      "\t [['LIDO', 'BURANO', 'MURANO', 'P.LE ROMA']] - 6\n",
      "\t [['LIDO', 'BURANO', 'MURANO', 'BURANO', 'P.LE ROMA']] - 4\n",
      "\t [['SALUTE', 'GUGLIE', 'FERROVIA', 'RIALTO']] - 4\n",
      "\t [['P.LE ROMA', 'RIALTO', 'FERROVIA', 'RIALTO']] - 3\n",
      "\t [['PALEOCAPA PA', 'P.LE ROMA', 'RIALTO', 'VENEZIA']] - 3\n",
      "\t [['S.ELENA-STAD', 'LIDO', 'S.ELENA-STAD', 'LIDO']] - 3\n",
      "\t [['GALLO', 'LIDO', 'FERROVIA', 'SANTA MARIA ']] - 3\n",
      "\t [['SAN MARCO', 'GIUDECCA PAL', 'P.LE ROMA', 'GIUDECCA PAL']] - 2\n",
      "\t [['S. MARCO-SAN', 'LIDO', 'S. MARCO-SAN', 'LIDO']] - 2\n",
      "\t [['MESTRE', 'MESTRE', 'SAN MARCO', 'MESTRE']] - 2\n",
      "\t [['PEOPLE MOVER', 'P.LE ROMA', 'RIALTO', 'PEOPLE MOVER']] - 2\n",
      "\t [['RIALTO', 'VENEZIA', 'MESTRE', 'P.LE ROMA']] - 2\n",
      "\t [['LIDO', 'SAN MARCO', 'LIDO', 'S. MARCO-SAN']] - 2\n",
      "\t [['S. BASILIO', 'REDENTORE', 'S. BASILIO', 'REDENTORE']] - 2\n",
      "\t [['GIUDECCA PAL', 'GIUDECCA PAL', 'GIUDECCA PAL', 'ZATTERE']] - 2\n",
      "\t [['P.LE ROMA', 'GIUDECCA PAL', 'ZATTERE', 'GIUDECCA PAL']] - 2\n",
      "\t [['FERROVIA', 'GIUDECCA PAL', 'VENEZIA', 'BELFREDO TER']] - 2\n",
      "\t [['FERROVIA', 'GIUDECCA PAL', 'ZATTERE', 'GIUDECCA PAL']] - 2\n",
      "\t [['S. TOMA\\' \"B\"', 'S. ANGELO', 'S. SILVESTRO', 'S. ANGELO']] - 2\n"
     ]
    }
   ],
   "source": [
    "# Which are the common itineraries for students?\n",
    "# The students have the ticket code '5-STUD', '6-STUD'\n",
    "# Create a dictionary with the trajectories of the users with the ticket code '5-STUD', '6-STUD'\n",
    "df_sup = mf.focus_on_ticket_code_list(df,['5-STUD', '6-STUD'])\n",
    "# Create a dictionary with the trajectories of the users with the ticket code '5-STUD', '6-STUD'\n",
    "dict_trajectories = create_dictionary_with_trajectories(df_sup)\n",
    "# Save the most frequent trajectories in a variable\n",
    "most_frq_trj = most_frequent_trajectories(dict_trajectories, k = 20, min_length=4, summary=True)\n"
   ]
  },
  {
   "cell_type": "code",
   "execution_count": 107,
   "metadata": {},
   "outputs": [
    {
     "name": "stdout",
     "output_type": "stream",
     "text": [
      "The most 20 frequent trajectories with a minimum length of 4 stop(s) are:\n",
      "\t [['PUNTA SABBIO', 'S. MARCO-SAN', 'S. TOMA\\' \"B\"', 'SAN MARCO']] - 6\n",
      "\t [['PUNTA SABBIO', 'LIDO', 'S. STAE', 'SAN MARCO']] - 3\n",
      "\t [['PUNTA SABBIO', 'SAN MARCO', 'PUNTA SABBIO', 'LIDO', 'FERROVIA', 'SAN MARCO']] - 1\n",
      "\t [['PUNTA SABBIO', 'LIDO', 'TOSATTO', 'P.LE ROMA', 'LIDO']] - 1\n",
      "\t [['PUNTA SABBIO', 'VENEZIA', 'TOSATTO', 'SAN MARCO']] - 1\n",
      "\t [['PUNTA SABBIO', 'LIDO', 'SAN MARCO', 'LIDO', 'SAN MARCO']] - 1\n",
      "\t [['PUNTA SABBIO', 'SAN MARCO', 'GIUDECCA PAL', 'SAN MARCO']] - 1\n",
      "\t [['PUNTA SABBIO', 'S. MARCO VAL', 'S. MARCUOLA-', 'SAN MARCO']] - 1\n",
      "\t [['PUNTA SABBIO', 'LIDO', 'GIUDECCA PAL', 'LIDO']] - 1\n",
      "\t [['PUNTA SABBIO', 'LIDO', 'S. MARCO VAL', 'LIDO']] - 1\n",
      "\t [['PUNTA SABBIO', 'LIDO', 'GIUDECCA PAL', 'ZATTERE', 'LIDO']] - 1\n"
     ]
    }
   ],
   "source": [
    "# Which are the common itineraries for workers?\n",
    "# The workers have the ticket code '5-WKRS', '6-WKRS'\n",
    "# Create a dictionary with the trajectories of the users with the ticket code '5-WKRS', '6-WKRS'\n",
    "df_sup = mf.focus_on_ticket_code_list(df,['5-WKRS', '6-WKRS'])\n",
    "# Create a dictionary with the trajectories of the users with the ticket code '5-WKRS', '6-WKRS'\n",
    "dict_trajectories = create_dictionary_with_trajectories(df_sup)\n",
    "# Save the most frequent trajectories in a variable\n",
    "most_frq_trj = most_frequent_trajectories(dict_trajectories, k = 20, min_length=4, summary=True)"
   ]
  },
  {
   "cell_type": "code",
   "execution_count": 108,
   "metadata": {},
   "outputs": [
    {
     "name": "stdout",
     "output_type": "stream",
     "text": [
      "The most 20 frequent trajectories with a minimum length of 4 stop(s) are:\n",
      "\t [['S. TOMA\\' \"B\"', 'RIALTO', 'S. TOMA\\' \"B\"', 'RIALTO']] - 5\n",
      "\t [['PUNTA SABBIO', 'LIDO', 'GIUDECCA PAL', 'LIDO']] - 2\n",
      "\t [['GIARDINI', 'RIALTO', 'ZATTERE', 'SAN PIETRO', 'MADONNA']] - 2\n",
      "\t [['CA', 'CAPPUCCINA', 'MESTRE', 'CA']] - 1\n",
      "\t [['TERRAGLIO', 'EINAUDI CAST', 'GARIBALDI', 'CARDUCCI']] - 1\n",
      "\t [['CA', 'CA', 'SAN DONA', 'MESTRE']] - 1\n",
      "\t [['DE NICOLA CH', 'DE NICOLA CH', 'SAN DONA', 'MESTRE']] - 1\n",
      "\t [['MARTELLAGO', 'S. MARCO-SAN', 'GIARDINI', 'MESTRE']] - 1\n",
      "\t [['SAN DONA', 'MESTRE', 'SALAMONIO MA', 'MESTRE', 'TRIESTINA']] - 1\n",
      "\t [['ZATTERE', 'GIUDECCA PAL', 'P.LE ROMA', 'GIUDECCA PAL', 'RIALTO']] - 1\n",
      "\t [['PERTINI', 'PERTINI', 'MESTRE', 'P.LE ROMA', 'LIDO']] - 1\n",
      "\t [['VENEZIA', 'BISSUOLA', 'PERTINI', 'MESTRE', 'MESTRE']] - 1\n",
      "\t [['CIRCONVALLAZ', 'TORINO', 'CIRCONVALLAZ', 'BISSUOLA']] - 1\n",
      "\t [['MURANO', 'CORSO DEL PO', 'CORSO DEL PO', 'P.LE ROMA']] - 1\n",
      "\t [['DON', 'DON', 'PASQUALIGO M', 'PASQUALIGO M']] - 1\n",
      "\t [['RIALTO', 'P.LE ROMA', 'RIALTO', 'RIALTO']] - 1\n",
      "\t [['RIALTO', 'P.LE ROMA', 'RIALTO', 'VENEZIA', 'MESTRE', 'P.LE ROMA']] - 1\n",
      "\t [['RIALTO', 'RIALTO', 'RIALTO', 'P.LE ROMA']] - 1\n",
      "\t [['ZITELLE', 'LIDO', 'SAN MARCO', 'ZITELLE', 'ARSENALE']] - 1\n",
      "\t [['SAN DONA', 'P.LE ROMA', 'S. MARCO VAL', 'GIUDECCA PAL', 'CASTELLANA']] - 1\n"
     ]
    }
   ],
   "source": [
    "# Which are the common itineraries for retired?\n",
    "# The retired have the ticket code '5-RET', '6-RET'\n",
    "# Create a dictionary with the trajectories of the users with the ticket code '5-RET', '6-RET'\n",
    "df_sup = mf.focus_on_ticket_code_list(df,['5-RET', '6-RET'])\n",
    "# Create a dictionary with the trajectories of the users with the ticket code '5-RET', '6-RET'\n",
    "dict_trajectories = create_dictionary_with_trajectories(df_sup)\n",
    "# Save the most frequent trajectories in a variable\n",
    "most_frq_trj = most_frequent_trajectories(dict_trajectories, k = 20, min_length=4, summary=True)"
   ]
  },
  {
   "attachments": {},
   "cell_type": "markdown",
   "metadata": {},
   "source": [
    "### Find the most frequent trajectories with the dataset with a specified ticket code\n"
   ]
  },
  {
   "cell_type": "code",
   "execution_count": null,
   "metadata": {},
   "outputs": [],
   "source": [
    "# # Create a dictionary with the trajectories of the users with the ticket code '1'\n",
    "# df_sup = mf.focus_on_ticket_code(df,'1')\n",
    "# # Create a dictionary with the trajectories of the users with the ticket code '1'\n",
    "# dict_trajectories = create_dictionary_with_trajectories(df_sup)\n",
    "# # Find the trajectories with at least 20 stations visited with the ticket code '1'\n",
    "# trajectories_with_at_least_k_stations(dict_trajectories, 4)"
   ]
  },
  {
   "attachments": {},
   "cell_type": "markdown",
   "metadata": {},
   "source": [
    "### Longest Common Subsequence (LCS)"
   ]
  },
  {
   "cell_type": "code",
   "execution_count": null,
   "metadata": {},
   "outputs": [],
   "source": [
    "def longest_common_subsequence_of_two_trajectories (trajectory_1: list, trajectory_2: list) -> list:\n",
    "    \"\"\"\n",
    "        This function computes the longest common subsequence of two trajectories.\n",
    "        :param trajectory_1: the first trajectory\n",
    "        :param trajectory_2: the second trajectory\n",
    "        :return: the longest common subsequence of the two trajectories\n",
    "    \"\"\"\n",
    "    # Create the matrix\n",
    "    matrix = [[0 for x in range(len(trajectory_2) + 1)] for x in range(len(trajectory_1) + 1)]\n",
    "\n",
    "    # Compute the LCS\n",
    "    for i in range(1, len(trajectory_1) + 1):\n",
    "        for j in range(1, len(trajectory_2) + 1):\n",
    "            if trajectory_1[i - 1] == trajectory_2[j - 1]:\n",
    "                matrix[i][j] = matrix[i - 1][j - 1] + 1\n",
    "            else:\n",
    "                matrix[i][j] = max(matrix[i - 1][j], matrix[i][j - 1])\n",
    "\n",
    "    # Find the LCS\n",
    "    i = len(trajectory_1)\n",
    "    j = len(trajectory_2)\n",
    "    lcs = []\n",
    "    while i > 0 and j > 0:\n",
    "        if trajectory_1[i - 1] == trajectory_2[j - 1]:\n",
    "            lcs.append(trajectory_1[i - 1])\n",
    "            i -= 1\n",
    "            j -= 1\n",
    "        elif matrix[i - 1][j] > matrix[i][j - 1]:\n",
    "            i -= 1\n",
    "        else:\n",
    "            j -= 1\n",
    "\n",
    "    # Reverse the LCS\n",
    "    lcs.reverse()\n",
    "\n",
    "    return lcs"
   ]
  },
  {
   "cell_type": "code",
   "execution_count": null,
   "metadata": {},
   "outputs": [],
   "source": [
    "def longest_common_subsequence (dict_trajectories: dict):\n",
    "    \"\"\"\n",
    "        This function computes the longest common subsequence of the trajectories of the dictionary.\n",
    "        :param dict_trajectories: the dictionary with the trajectories\n",
    "        :return: the longest common subsequence\n",
    "    \"\"\"\n",
    "\n",
    "    # Compute the longest common subsequence\n",
    "    # The trajectories of the dictionary are the keys of the dictionary\n",
    "    trajectories = list(dict_trajectories.keys())\n",
    "    lcs = trajectories[0]\n",
    "    for i in range(1, len(trajectories)):\n",
    "        lcs = longest_common_subsequence_of_two_trajectories(lcs, trajectories[i])"
   ]
  },
  {
   "cell_type": "code",
   "execution_count": null,
   "metadata": {},
   "outputs": [],
   "source": [
    "def shortest_common_supersequence_of_two_trajectories (trajectory_1: list, trajectory_2: list) -> list:\n",
    "    \"\"\"\n",
    "        This function computes the shortest common supersequence of two trajectories.\n",
    "        :param trajectory_1: the first trajectory\n",
    "        :param trajectory_2: the second trajectory\n",
    "        :return: the shortest common supersequence of the two trajectories\n",
    "    \"\"\"\n",
    "    # Create the matrix\n",
    "    matrix = [[0 for x in range(len(trajectory_2) + 1)] for x in range(len(trajectory_1) + 1)]\n",
    "\n",
    "    # Compute the SCS\n",
    "    for i in range(1, len(trajectory_1) + 1):\n",
    "        for j in range(1, len(trajectory_2) + 1):\n",
    "            if trajectory_1[i - 1] == trajectory_2[j - 1]:\n",
    "                matrix[i][j] = matrix[i - 1][j - 1] + 1\n",
    "            else:\n",
    "                matrix[i][j] = max(matrix[i - 1][j], matrix[i][j - 1])\n",
    "\n",
    "    # Find the SCS\n",
    "    i = len(trajectory_1)\n",
    "    j = len(trajectory_2)\n",
    "    scs = []\n",
    "    while i > 0 and j > 0:\n",
    "        if trajectory_1[i - 1] == trajectory_2[j - 1]:\n",
    "            scs.append(trajectory_1[i - 1])\n",
    "            i -= 1\n",
    "            j -= 1\n",
    "        elif matrix[i - 1][j] > matrix[i][j - 1]:\n",
    "            scs.append(trajectory_1[i - 1])\n",
    "            i -= 1\n",
    "        else:\n",
    "            scs.append(trajectory_2[j - 1])\n",
    "            j -= 1\n",
    "\n",
    "    # Add the remaining elements of trajectory_1\n",
    "    while i > 0:\n",
    "        scs.append(trajectory_1[i - 1])\n",
    "        i -= 1\n",
    "\n",
    "    # Add the remaining elements of trajectory_2\n",
    "    while j > 0:\n",
    "        scs.append(trajectory_2[j - 1])\n",
    "        j -= 1\n",
    "\n",
    "    # Reverse the SCS\n",
    "    scs.reverse()\n",
    "\n",
    "    return scs"
   ]
  },
  {
   "cell_type": "code",
   "execution_count": null,
   "metadata": {},
   "outputs": [],
   "source": [
    "def shortest_common_supersequence (dict_trajectories: dict) -> list:\n",
    "    \"\"\"\n",
    "        This function computes the shortest common supersequence of the trajectories of the dictionary.\n",
    "        :param dict_trajectories: the dictionary with the trajectories\n",
    "        :return: the shortest common supersequence\n",
    "    \"\"\"\n",
    "\n",
    "    # Compute the shortest common supersequence\n",
    "    # The trajectories of the dictionary are the keys of the dictionary\n",
    "    trajectories = list(dict_trajectories.keys())\n",
    "    scs = trajectories[0]\n",
    "    for i in range(1, len(trajectories)):\n",
    "        scs = shortest_common_supersequence_of_two_trajectories(scs, trajectories[i])\n",
    "    \n",
    "    return scs"
   ]
  },
  {
   "cell_type": "code",
   "execution_count": null,
   "metadata": {},
   "outputs": [],
   "source": [
    "# # Find the Longest Common Subsequence (LCS) between two trajectories\n",
    "# trajectory_1 = ['SAN MARCO', 'P.LE ROMA', 'RIALTO', 'PUNTA SABBIO', 'BURANO']\n",
    "# trajectory_2 = ['SAN MARCO', 'P.LE ROMA', 'PUNTA SABBIO', 'BURANO']\n",
    "\n",
    "# lcs = longest_common_subsequence(trajectory_1, trajectory_2)\n",
    "# print('The Longest Common Subsequence (LCS) between the trajectories {} and {} is {}'.format(trajectory_1, trajectory_2, lcs))"
   ]
  },
  {
   "cell_type": "code",
   "execution_count": null,
   "metadata": {},
   "outputs": [],
   "source": [
    "# # Find the Longest Common Subsequence (LCS) between two trajectories\n",
    "# # Trajectory 1 is the trajectory of the dataset with the ticket code 1\n",
    "# # Trajectory 2 is the most frequent trajectory of the dataset with the ticket code 2\n",
    "# df_sup = mf.focus_on_ticket_code(df,'1')\n",
    "# dict_trajectories = create_dictionary_with_trajectories(df_sup)\n",
    "# dict_trajectories_number = most_frequent_trajectories(dict_trajectories, is_focus_on_ticket_code=True, ticket_code='1', summary=False)\n",
    "# trajectory_1 = list(dict_trajectories_number.keys())[8]\n",
    "\n",
    "# df_sup = mf.focus_on_ticket_code(df,'2')\n",
    "# dict_trajectories = create_dictionary_with_trajectories(df_sup)\n",
    "# dict_trajectories_number = most_frequent_trajectories(dict_trajectories, is_focus_on_ticket_code=True, ticket_code='2', summary=False)\n",
    "# trajectory_2 = list(dict_trajectories_number.keys())[0]\n",
    "\n",
    "# lcs = longest_common_subsequence(trajectory_1, trajectory_2)\n",
    "# print('The Longest Common Subsequence (LCS) between the trajectory {} and the trajectory {} is {}'.format(trajectory_1, trajectory_2, lcs))"
   ]
  },
  {
   "attachments": {},
   "cell_type": "markdown",
   "metadata": {},
   "source": [
    "_____"
   ]
  },
  {
   "cell_type": "code",
   "execution_count": null,
   "metadata": {},
   "outputs": [],
   "source": [
    "def most_frequent_stations_visited_by_the_users (dict_trajectories: dict, is_focus_on_ticket_code: bool = False, ticket_code: str = \"\", summary: bool = False) -> dict:\n",
    "    \"\"\"\n",
    "        This function finds the most frequent stations visited by the users.\n",
    "        :param dict_trajectories: the dictionary with the trajectories of the users\n",
    "        :param is_focus_on_ticket_code: if True, the function is focused on the ticket code\n",
    "        :param ticket_code: the ticket code\n",
    "        :param summary: if True, the function prints the summary\n",
    "        :return: the dictionary with the most frequent stations visited by the users\n",
    "    \"\"\"\n",
    "    # Create a dictionary with the most frequent stations visited by the users\n",
    "    dict_stations = {}\n",
    "    \n",
    "    # For each trajectory\n",
    "    for trajectory in dict_trajectories.keys():\n",
    "        # For each station in the trajectory\n",
    "        for station in dict_trajectories[trajectory]:\n",
    "            # If the station is not in the dictionary, add it\n",
    "            if station not in dict_stations.keys():\n",
    "                dict_stations[station] = 1\n",
    "            # If the station is in the dictionary, increment its value\n",
    "            else:\n",
    "                dict_stations[station] += 1\n",
    "\n",
    "    # Sort the dictionary with the most frequent stations visited by the users\n",
    "    dict_stations = {k: v for k, v in sorted(dict_stations.items(), key=lambda item: item[1], reverse=True)}\n",
    "\n",
    "    # Print the summary\n",
    "    if summary and is_focus_on_ticket_code:\n",
    "        print('The most frequent stations visited by the users with the ticket code {} are:'.format(ticket_code))\n",
    "        for station in dict_stations.keys():\n",
    "            print('The station {} is visited {} times'.format(station, dict_stations[station]))\n",
    "    elif summary:\n",
    "        print('The most frequent stations visited by the users are:')\n",
    "        for station in dict_stations.keys():\n",
    "            print('The station {} is visited {} times'.format(station, dict_stations[station]))\n",
    "\n",
    "    return dict_stations"
   ]
  },
  {
   "cell_type": "code",
   "execution_count": null,
   "metadata": {},
   "outputs": [],
   "source": [
    "def rearrange_dictionary_with_trajectories (dict_trajectories: dict) -> dict:\n",
    "    \"\"\"\n",
    "        This function rearranges the dictionary with the trajectories of the users.\n",
    "        :param dict_trajectories: the dictionary with the trajectories of the users\n",
    "        :return: the rearranged dictionary with the trajectories of the users\n",
    "    \"\"\"\n",
    "    # Create the rearranged dictionary with the trajectories of the users\n",
    "    dict_trajectories_rearranged = {}\n",
    "\n",
    "    # For each trajectory\n",
    "    for trajectory in dict_trajectories.keys():\n",
    "        # For each station in the trajectory\n",
    "        for station in dict_trajectories[trajectory]:\n",
    "            # If the station is not in the dictionary, add it\n",
    "            if station not in dict_trajectories_rearranged.keys():\n",
    "                dict_trajectories_rearranged[station] = [trajectory]\n",
    "            # If the station is in the dictionary, append the trajectory\n",
    "            else:\n",
    "                dict_trajectories_rearranged[station].append(trajectory)\n",
    "\n",
    "    return dict_trajectories_rearranged"
   ]
  },
  {
   "cell_type": "code",
   "execution_count": null,
   "metadata": {},
   "outputs": [],
   "source": [
    "# # Are there typical patterns in the movements of the users? \n",
    "# # Using different clustring techniques, find the most frequent trajectories and the most frequent stations visited by the users.\n",
    "# # Create a dictionary with the trajectories of the users with the entire dataset\n",
    "# dict_trajectories = create_dictionary_with_trajectories(df)\n",
    "# # Find the most frequent trajectories and print the summary\n",
    "# most_frequent_trajectories(dict_trajectories, summary=False)\n",
    "# # Find the most frequent stations visited by the users and print the summary\n",
    "# most_frequent_stations_visited_by_the_users(dict_trajectories, summary=False)\n",
    "\n",
    "# # Cluster the users using the K-Means algorithm\n",
    "# # Create a dictionary with the trajectories of the users with the entire dataset\n",
    "# # dict_trajectories = create_dictionary_with_trajectories(df)\n",
    "# # Cluster the users using the K-Means algorithm\n",
    "# from sklearn.cluster import KMeans\n",
    "\n",
    "# merged_list = sum([sublist for sublist in list(dict_trajectories.values())], [])\n",
    "\n",
    "# # Cluster the users using the K-Means algorithm\n",
    "# kmeans = KMeans(n_clusters=3, random_state=0).fit(np.array(merged_list))\n",
    "# # Create a dictionary with the clusters\n",
    "# dict_clusters = {}\n",
    "# for i in range(len(kmeans.labels_)):\n",
    "#     if kmeans.labels_[i] not in dict_clusters.keys():\n",
    "#         dict_clusters[kmeans.labels_[i]] = []\n",
    "#     dict_clusters[kmeans.labels_[i]].append(list(dict_trajectories.keys())[i])\n",
    "# # Print the summary\n",
    "# print('The clusters are:')\n",
    "# for cluster in dict_clusters.keys():\n",
    "#     print('The cluster {} contains the following trajectories:'.format(cluster))\n",
    "#     for trajectory in dict_clusters[cluster]:\n",
    "#         print(trajectory)"
   ]
  }
 ],
 "metadata": {
  "kernelspec": {
   "display_name": "Python 3",
   "language": "python",
   "name": "python3"
  },
  "language_info": {
   "codemirror_mode": {
    "name": "ipython",
    "version": 3
   },
   "file_extension": ".py",
   "mimetype": "text/x-python",
   "name": "python",
   "nbconvert_exporter": "python",
   "pygments_lexer": "ipython3",
   "version": "3.11.2"
  },
  "orig_nbformat": 4,
  "vscode": {
   "interpreter": {
    "hash": "aee8b7b246df8f9039afb4144a1f6fd8d2ca17a180786b69acc140d282b71a49"
   }
  }
 },
 "nbformat": 4,
 "nbformat_minor": 2
}
