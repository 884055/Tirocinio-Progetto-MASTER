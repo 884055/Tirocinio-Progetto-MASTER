{
 "cells": [
  {
   "cell_type": "markdown",
   "metadata": {},
   "source": [
    "# MASTER - Notebook 1\n",
    "### Matteo Grazioso 884055"
   ]
  },
  {
   "cell_type": "code",
   "execution_count": 1,
   "metadata": {
    "ExecuteTime": {
     "start_time": "2023-04-18T16:15:00.438218Z",
     "end_time": "2023-04-18T16:15:00.513122Z"
    }
   },
   "outputs": [],
   "source": [
    "# Import libraries\n",
    "import pandas as pd\n",
    "import numpy as np\n",
    "import matplotlib.pyplot as plt\n",
    "import seaborn as sns\n",
    "import json\n",
    "import warnings\n",
    "warnings.filterwarnings('ignore')"
   ]
  },
  {
   "cell_type": "code",
   "execution_count": 2,
   "metadata": {
    "ExecuteTime": {
     "start_time": "2023-04-18T16:15:00.439324Z",
     "end_time": "2023-04-18T16:15:00.520070Z"
    }
   },
   "outputs": [],
   "source": [
    "# Disply all columns and all rows\n",
    "pd.set_option('display.max_columns', None)\n",
    "pd.set_option('display.max_rows', None)"
   ]
  },
  {
   "cell_type": "code",
   "execution_count": 3,
   "metadata": {
    "ExecuteTime": {
     "start_time": "2023-04-18T16:15:00.482093Z",
     "end_time": "2023-04-18T16:15:07.087878Z"
    }
   },
   "outputs": [],
   "source": [
    "# The fileS contain the data of the validation of tickets in the city of public transport of Venice.\n",
    "\n",
    "# Import the data into a dataframe of a txt file \n",
    "path = 'data/raw/validazioni.txt'                     # Period: 2022-05-13 to 2022-07-15\n",
    "# path = 'data/raw/esportazioneCompleta.txt'            # Period: 2023-01-23 to 2023-03-14\n",
    "\n",
    "df = pd.read_csv(path, header=0, sep='\\t')\n",
    "# Save the name of the file in a variable for future use extracting the name of the file from the path\n",
    "file_name = path.split('/')[-1].split('.')[0]"
   ]
  },
  {
   "cell_type": "code",
   "execution_count": 4,
   "metadata": {
    "ExecuteTime": {
     "start_time": "2023-04-18T16:15:07.092123Z",
     "end_time": "2023-04-18T16:15:07.127928Z"
    }
   },
   "outputs": [
    {
     "data": {
      "text/plain": "   DATA_VALIDAZIONE            SERIALE  FERMATA   DESCRIZIONE  TITOLO  \\\n0  13/05/2022 00:00  65676291870913797     5089  FERROVIA \"D\"   11149   \n1  13/05/2022 00:00  36141384536591364     5032  FERROVIA \"B\"   11107   \n2  13/05/2022 00:00  36144856606063108     5031  P.le Roma \"G   11108   \n3  13/05/2022 00:00  36144856608393988      506       VENEZIA   12106   \n4  13/05/2022 00:00  36144856608393732      506       VENEZIA   12106   \n\n         DESCRIZIONE_TITOLO  \n0  7gg-Tpl 43,60-ComVe16,40  \n1   48h-Tpl 24,90-ComVe5,10  \n2   72h-Tpl 33,40-ComVe6,60  \n3      Bigl Aer-Venezia TSC  \n4      Bigl Aer-Venezia TSC  ",
      "text/html": "<div>\n<style scoped>\n    .dataframe tbody tr th:only-of-type {\n        vertical-align: middle;\n    }\n\n    .dataframe tbody tr th {\n        vertical-align: top;\n    }\n\n    .dataframe thead th {\n        text-align: right;\n    }\n</style>\n<table border=\"1\" class=\"dataframe\">\n  <thead>\n    <tr style=\"text-align: right;\">\n      <th></th>\n      <th>DATA_VALIDAZIONE</th>\n      <th>SERIALE</th>\n      <th>FERMATA</th>\n      <th>DESCRIZIONE</th>\n      <th>TITOLO</th>\n      <th>DESCRIZIONE_TITOLO</th>\n    </tr>\n  </thead>\n  <tbody>\n    <tr>\n      <th>0</th>\n      <td>13/05/2022 00:00</td>\n      <td>65676291870913797</td>\n      <td>5089</td>\n      <td>FERROVIA \"D\"</td>\n      <td>11149</td>\n      <td>7gg-Tpl 43,60-ComVe16,40</td>\n    </tr>\n    <tr>\n      <th>1</th>\n      <td>13/05/2022 00:00</td>\n      <td>36141384536591364</td>\n      <td>5032</td>\n      <td>FERROVIA \"B\"</td>\n      <td>11107</td>\n      <td>48h-Tpl 24,90-ComVe5,10</td>\n    </tr>\n    <tr>\n      <th>2</th>\n      <td>13/05/2022 00:00</td>\n      <td>36144856606063108</td>\n      <td>5031</td>\n      <td>P.le Roma \"G</td>\n      <td>11108</td>\n      <td>72h-Tpl 33,40-ComVe6,60</td>\n    </tr>\n    <tr>\n      <th>3</th>\n      <td>13/05/2022 00:00</td>\n      <td>36144856608393988</td>\n      <td>506</td>\n      <td>VENEZIA</td>\n      <td>12106</td>\n      <td>Bigl Aer-Venezia TSC</td>\n    </tr>\n    <tr>\n      <th>4</th>\n      <td>13/05/2022 00:00</td>\n      <td>36144856608393732</td>\n      <td>506</td>\n      <td>VENEZIA</td>\n      <td>12106</td>\n      <td>Bigl Aer-Venezia TSC</td>\n    </tr>\n  </tbody>\n</table>\n</div>"
     },
     "execution_count": 4,
     "metadata": {},
     "output_type": "execute_result"
    }
   ],
   "source": [
    "# Check the first 5 rows of the data\n",
    "df.head()"
   ]
  },
  {
   "cell_type": "code",
   "execution_count": 5,
   "metadata": {
    "ExecuteTime": {
     "start_time": "2023-04-18T16:15:07.107885Z",
     "end_time": "2023-04-18T16:15:07.185440Z"
    }
   },
   "outputs": [
    {
     "data": {
      "text/plain": "         DATA_VALIDAZIONE            SERIALE  FERMATA   DESCRIZIONE  TITOLO  \\\n5056636  15/07/2022 06:46  36141603027798788     3435  Oriago Stazi   14123   \n5056637  15/07/2022 06:46  36141603027798788     3435  Oriago Stazi   14123   \n5056638  15/07/2022 06:46  36141603027798788     3436  Oriago Centr   14123   \n5056639  15/07/2022 07:01  65676630087266309     1306  Spinea Orgna   14123   \n5056640  15/07/2022 07:07  36428626034318852     1312  Spinea Giorg   14123   \n\n        DESCRIZIONE_TITOLO  \n5056636    Extra tratta 3   \n5056637    Extra tratta 3   \n5056638    Extra tratta 3   \n5056639    Extra tratta 3   \n5056640    Extra tratta 3   ",
      "text/html": "<div>\n<style scoped>\n    .dataframe tbody tr th:only-of-type {\n        vertical-align: middle;\n    }\n\n    .dataframe tbody tr th {\n        vertical-align: top;\n    }\n\n    .dataframe thead th {\n        text-align: right;\n    }\n</style>\n<table border=\"1\" class=\"dataframe\">\n  <thead>\n    <tr style=\"text-align: right;\">\n      <th></th>\n      <th>DATA_VALIDAZIONE</th>\n      <th>SERIALE</th>\n      <th>FERMATA</th>\n      <th>DESCRIZIONE</th>\n      <th>TITOLO</th>\n      <th>DESCRIZIONE_TITOLO</th>\n    </tr>\n  </thead>\n  <tbody>\n    <tr>\n      <th>5056636</th>\n      <td>15/07/2022 06:46</td>\n      <td>36141603027798788</td>\n      <td>3435</td>\n      <td>Oriago Stazi</td>\n      <td>14123</td>\n      <td>Extra tratta 3</td>\n    </tr>\n    <tr>\n      <th>5056637</th>\n      <td>15/07/2022 06:46</td>\n      <td>36141603027798788</td>\n      <td>3435</td>\n      <td>Oriago Stazi</td>\n      <td>14123</td>\n      <td>Extra tratta 3</td>\n    </tr>\n    <tr>\n      <th>5056638</th>\n      <td>15/07/2022 06:46</td>\n      <td>36141603027798788</td>\n      <td>3436</td>\n      <td>Oriago Centr</td>\n      <td>14123</td>\n      <td>Extra tratta 3</td>\n    </tr>\n    <tr>\n      <th>5056639</th>\n      <td>15/07/2022 07:01</td>\n      <td>65676630087266309</td>\n      <td>1306</td>\n      <td>Spinea Orgna</td>\n      <td>14123</td>\n      <td>Extra tratta 3</td>\n    </tr>\n    <tr>\n      <th>5056640</th>\n      <td>15/07/2022 07:07</td>\n      <td>36428626034318852</td>\n      <td>1312</td>\n      <td>Spinea Giorg</td>\n      <td>14123</td>\n      <td>Extra tratta 3</td>\n    </tr>\n  </tbody>\n</table>\n</div>"
     },
     "execution_count": 5,
     "metadata": {},
     "output_type": "execute_result"
    }
   ],
   "source": [
    "# Check the last 5 rows of the data\n",
    "df.tail()"
   ]
  },
  {
   "cell_type": "code",
   "execution_count": 6,
   "metadata": {
    "ExecuteTime": {
     "start_time": "2023-04-18T16:15:07.147291Z",
     "end_time": "2023-04-18T16:15:07.287613Z"
    }
   },
   "outputs": [],
   "source": [
    "# Create a subset of the data with the first 10% of the rows and the last 10% of the rows\n",
    "# df = df.iloc[:int(len(df)*0.1),:]\n",
    "# df = df.append(df.iloc[-int(len(df)*0.1):,:])\n"
   ]
  },
  {
   "attachments": {},
   "cell_type": "markdown",
   "metadata": {},
   "source": [
    "## Explorative Data Analysis\n"
   ]
  },
  {
   "cell_type": "code",
   "execution_count": 7,
   "metadata": {
    "ExecuteTime": {
     "start_time": "2023-04-18T16:15:07.196694Z",
     "end_time": "2023-04-18T16:15:37.290565Z"
    }
   },
   "outputs": [
    {
     "data": {
      "text/plain": "        DATA       ORA  DATA_VALIDAZIONE            SERIALE  FERMATA  \\\n0 2022-05-13  00:00:00  13/05/2022 00:00  65676291870913797     5089   \n1 2022-05-13  00:00:00  13/05/2022 00:00  36141384536591364     5032   \n2 2022-05-13  00:00:00  13/05/2022 00:00  36144856606063108     5031   \n3 2022-05-13  00:00:00  13/05/2022 00:00  36144856608393988      506   \n4 2022-05-13  00:00:00  13/05/2022 00:00  36144856608393732      506   \n\n    DESCRIZIONE  TITOLO        DESCRIZIONE_TITOLO  \n0  FERROVIA \"D\"   11149  7gg-Tpl 43,60-ComVe16,40  \n1  FERROVIA \"B\"   11107   48h-Tpl 24,90-ComVe5,10  \n2  P.le Roma \"G   11108   72h-Tpl 33,40-ComVe6,60  \n3       VENEZIA   12106      Bigl Aer-Venezia TSC  \n4       VENEZIA   12106      Bigl Aer-Venezia TSC  ",
      "text/html": "<div>\n<style scoped>\n    .dataframe tbody tr th:only-of-type {\n        vertical-align: middle;\n    }\n\n    .dataframe tbody tr th {\n        vertical-align: top;\n    }\n\n    .dataframe thead th {\n        text-align: right;\n    }\n</style>\n<table border=\"1\" class=\"dataframe\">\n  <thead>\n    <tr style=\"text-align: right;\">\n      <th></th>\n      <th>DATA</th>\n      <th>ORA</th>\n      <th>DATA_VALIDAZIONE</th>\n      <th>SERIALE</th>\n      <th>FERMATA</th>\n      <th>DESCRIZIONE</th>\n      <th>TITOLO</th>\n      <th>DESCRIZIONE_TITOLO</th>\n    </tr>\n  </thead>\n  <tbody>\n    <tr>\n      <th>0</th>\n      <td>2022-05-13</td>\n      <td>00:00:00</td>\n      <td>13/05/2022 00:00</td>\n      <td>65676291870913797</td>\n      <td>5089</td>\n      <td>FERROVIA \"D\"</td>\n      <td>11149</td>\n      <td>7gg-Tpl 43,60-ComVe16,40</td>\n    </tr>\n    <tr>\n      <th>1</th>\n      <td>2022-05-13</td>\n      <td>00:00:00</td>\n      <td>13/05/2022 00:00</td>\n      <td>36141384536591364</td>\n      <td>5032</td>\n      <td>FERROVIA \"B\"</td>\n      <td>11107</td>\n      <td>48h-Tpl 24,90-ComVe5,10</td>\n    </tr>\n    <tr>\n      <th>2</th>\n      <td>2022-05-13</td>\n      <td>00:00:00</td>\n      <td>13/05/2022 00:00</td>\n      <td>36144856606063108</td>\n      <td>5031</td>\n      <td>P.le Roma \"G</td>\n      <td>11108</td>\n      <td>72h-Tpl 33,40-ComVe6,60</td>\n    </tr>\n    <tr>\n      <th>3</th>\n      <td>2022-05-13</td>\n      <td>00:00:00</td>\n      <td>13/05/2022 00:00</td>\n      <td>36144856608393988</td>\n      <td>506</td>\n      <td>VENEZIA</td>\n      <td>12106</td>\n      <td>Bigl Aer-Venezia TSC</td>\n    </tr>\n    <tr>\n      <th>4</th>\n      <td>2022-05-13</td>\n      <td>00:00:00</td>\n      <td>13/05/2022 00:00</td>\n      <td>36144856608393732</td>\n      <td>506</td>\n      <td>VENEZIA</td>\n      <td>12106</td>\n      <td>Bigl Aer-Venezia TSC</td>\n    </tr>\n  </tbody>\n</table>\n</div>"
     },
     "execution_count": 7,
     "metadata": {},
     "output_type": "execute_result"
    }
   ],
   "source": [
    "# Dates and hour of the validation of the ticket are in the same column 'DATA_VALIDAZIONE'\n",
    "# Split the column 'DATA_VALIDAZIONE' into two columns 'DATA' and 'ORA' and convert them to datetime format\n",
    "df.insert(0, 'DATA', pd.to_datetime(df['DATA_VALIDAZIONE'].str.split(' ').str[0], format='%d/%m/%Y'))\n",
    "df.insert(1, 'ORA', pd.to_datetime(df['DATA_VALIDAZIONE'].str.split(' ').str[1], format='%H:%M').dt.time)\n",
    "\n",
    "# Drop the column 'DATA_VALIDAZIONE'\n",
    "# df.drop('DATA_VALIDAZIONE', axis=1, inplace=True)\n",
    "\n",
    "# Display the first 5 rows of the dataframe\n",
    "df.head()"
   ]
  },
  {
   "cell_type": "code",
   "execution_count": 8,
   "metadata": {
    "ExecuteTime": {
     "start_time": "2023-04-18T16:15:37.343919Z",
     "end_time": "2023-04-18T16:15:38.740641Z"
    }
   },
   "outputs": [],
   "source": [
    "# Set the format of the timestamp\n",
    "df['DATA_VALIDAZIONE'] = pd.to_datetime(df['DATA_VALIDAZIONE'], format='%d/%m/%Y %H:%M')"
   ]
  },
  {
   "cell_type": "code",
   "execution_count": 9,
   "metadata": {
    "ExecuteTime": {
     "start_time": "2023-04-18T16:15:38.739307Z",
     "end_time": "2023-04-18T16:15:41.312759Z"
    }
   },
   "outputs": [
    {
     "name": "stdout",
     "output_type": "stream",
     "text": [
      "First validation:  2022-05-13 00:00:00 00:00:00\n",
      "Last validation:  2022-07-15 00:00:00 23:59:00\n",
      "Number of Serial numbers:  2038775\n",
      "Number of validation:  5056641\n",
      "Number of tickets:  168\n",
      "Number of titolo:  170\n",
      "Number of FERMATA:  1672\n",
      "Number of DESCRIZIONE:  935\n"
     ]
    }
   ],
   "source": [
    "# Print the date of the first and last validation using both data and hour\n",
    "print('First validation: ', df['DATA'].min(), df['ORA'].min())\n",
    "print('Last validation: ', df['DATA'].max(), df['ORA'].max())\n",
    "\n",
    "# Print the number of Serial numbers\n",
    "print('Number of Serial numbers: ', df['SERIALE'].nunique())\n",
    "\n",
    "# Print the number of validation (rows)\n",
    "print('Number of validation: ', df.shape[0])\n",
    "\n",
    "# Print the number of tickets\n",
    "print('Number of tickets: ', df['DESCRIZIONE_TITOLO'].nunique())\n",
    "# Print the number of titolo\n",
    "print('Number of titolo: ', df['TITOLO'].nunique())\n",
    "# TODO: why the number of unique TITOLO is different from the number of DESCRIZIONE_TITOLO?\n",
    "\n",
    "# Print the number of FERMATA\n",
    "print('Number of FERMATA: ', df['FERMATA'].nunique())\n",
    "# Print the number of DESCRIZIONE\n",
    "print('Number of DESCRIZIONE: ', df['DESCRIZIONE'].nunique())\n",
    "# TODO: why the number of unique DESCRIZIONE is different from the number of FERMATA?"
   ]
  },
  {
   "cell_type": "code",
   "execution_count": 10,
   "metadata": {
    "ExecuteTime": {
     "start_time": "2023-04-18T16:15:41.750078Z",
     "end_time": "2023-04-18T16:15:41.791666Z"
    }
   },
   "outputs": [
    {
     "data": {
      "text/plain": "DAILY PASS VENEZIA - AVM         972478\n75'-Tpl 6,64-ComVe0,86           743608\n48h-Tpl 24,90-ComVe5,10          600320\n72h-Tpl 33,40-ComVe6,60          492911\nBigl.Aut.75'Mestre/Lido-tsc      422668\n7gg-Tpl 43,60-ComVe16,40         342870\n75'-Tpl 13,28-ComVe1,72          232644\nBiglietto 72 ore Roll. Venice    170675\n72ore online no aerobus          108357\n7 days online no aerobus         101869\nName: DESCRIZIONE_TITOLO, dtype: int64"
     },
     "execution_count": 10,
     "metadata": {},
     "output_type": "execute_result"
    }
   ],
   "source": [
    "# Which is the most used ticket?\n",
    "df['DESCRIZIONE_TITOLO'].value_counts().head(10)"
   ]
  },
  {
   "cell_type": "code",
   "execution_count": 11,
   "metadata": {
    "ExecuteTime": {
     "start_time": "2023-04-18T16:15:41.759041Z",
     "end_time": "2023-04-18T16:15:43.272639Z"
    }
   },
   "outputs": [
    {
     "data": {
      "text/plain": "DATA        ORA     \n2022-05-17  03:38:00    383\n2022-05-18  03:38:00    362\n2022-06-04  15:27:00    258\n2022-05-27  17:25:00    258\n2022-06-03  16:28:00    254\n2022-05-27  10:26:00    250\n            10:54:00    249\n2022-06-04  16:26:00    247\n2022-05-27  11:14:00    246\n            10:10:00    242\nName: SERIALE, dtype: int64"
     },
     "execution_count": 11,
     "metadata": {},
     "output_type": "execute_result"
    }
   ],
   "source": [
    "# Which is the most frequent validation in date and hour?\n",
    "# Date and hour are in two different columns; DATA_VALIDAZIONE does not exist anymore\n",
    "df.groupby(['DATA', 'ORA'])['SERIALE'].count().sort_values(ascending=False).head(10)\n",
    "# TODO: #4 Re-aswer the question of the most frequent validation after cleaning operations"
   ]
  },
  {
   "cell_type": "code",
   "execution_count": 12,
   "metadata": {
    "ExecuteTime": {
     "start_time": "2023-04-18T16:15:43.838615Z",
     "end_time": "2023-04-18T16:15:43.857351Z"
    }
   },
   "outputs": [
    {
     "data": {
      "text/plain": "San Marco-Sa    583170\nRialto          346023\nLIDO S.M.E.     274706\nBURANO \"C\"      248780\nVENEZIA         238940\nP.le Roma \"G    220171\nFERROVIA \"B\"    194802\nSan Marco Va    145476\nPunta Sabbio    114300\nFERROVIA \"D\"    101044\nName: DESCRIZIONE, dtype: int64"
     },
     "execution_count": 12,
     "metadata": {},
     "output_type": "execute_result"
    }
   ],
   "source": [
    "# Which is the most frequent FERMATA?\n",
    "df['DESCRIZIONE'].value_counts().head(10)\n",
    "# TODO: #4 Re-aswer the question of the most frequent FERMATA after cleaning operations"
   ]
  },
  {
   "cell_type": "markdown",
   "metadata": {},
   "source": [
    "## Categories"
   ]
  },
  {
   "cell_type": "code",
   "execution_count": 13,
   "metadata": {
    "ExecuteTime": {
     "start_time": "2023-04-18T16:15:43.851301Z",
     "end_time": "2023-04-18T16:15:44.045926Z"
    }
   },
   "outputs": [],
   "source": [
    "# Add a new column with the code profile of the ticket\n",
    "df.insert(7, \"TICKET_CODE\", 'TBD')"
   ]
  },
  {
   "attachments": {},
   "cell_type": "markdown",
   "metadata": {},
   "source": [
    "This column will be filled with the code of the ticket profile according to the ticket type and the ticket validity as follows:\n",
    "\n",
    "**1.** One-day ticket\n",
    "\n",
    "**2.** Two-day ticket\n",
    "\n",
    "**3.** Three-day ticket\n",
    "\n",
    "**4.** Weekly ticket (Seven-day ticket)\n",
    "\n",
    "**5.** Monthly ticket\n",
    "\n",
    "**5-STUD.** Monthly ticket for students\n",
    "\n",
    "**5-RET.** Monthly ticket for retirees\n",
    "\n",
    "**5-WKRS.** Monthly ticket for workers\n",
    "\n",
    "**6.** Annual ticket\n",
    "\n",
    "**6-STUD.** Annual ticket for students\n",
    "\n",
    "**6-RET.** Annual ticket for retirees\n",
    "\n",
    "**6-WKRS.** Annual ticket for workers\n",
    "\n",
    "**7.** 75 minutes ticket\n",
    "\n",
    "**8.** Other ticket (if it is necessary to add other types of tickets)"
   ]
  },
  {
   "cell_type": "code",
   "execution_count": 14,
   "metadata": {
    "ExecuteTime": {
     "start_time": "2023-04-18T16:15:44.046326Z",
     "end_time": "2023-04-18T16:15:44.117186Z"
    }
   },
   "outputs": [
    {
     "data": {
      "text/plain": "        DATA       ORA DATA_VALIDAZIONE            SERIALE  FERMATA  \\\n0 2022-05-13  00:00:00       2022-05-13  65676291870913797     5089   \n1 2022-05-13  00:00:00       2022-05-13  36141384536591364     5032   \n2 2022-05-13  00:00:00       2022-05-13  36144856606063108     5031   \n3 2022-05-13  00:00:00       2022-05-13  36144856608393988      506   \n4 2022-05-13  00:00:00       2022-05-13  36144856608393732      506   \n\n    DESCRIZIONE  TITOLO TICKET_CODE        DESCRIZIONE_TITOLO  \n0  FERROVIA \"D\"   11149         TBD  7gg-Tpl 43,60-ComVe16,40  \n1  FERROVIA \"B\"   11107         TBD   48h-Tpl 24,90-ComVe5,10  \n2  P.le Roma \"G   11108         TBD   72h-Tpl 33,40-ComVe6,60  \n3       VENEZIA   12106         TBD      Bigl Aer-Venezia TSC  \n4       VENEZIA   12106         TBD      Bigl Aer-Venezia TSC  ",
      "text/html": "<div>\n<style scoped>\n    .dataframe tbody tr th:only-of-type {\n        vertical-align: middle;\n    }\n\n    .dataframe tbody tr th {\n        vertical-align: top;\n    }\n\n    .dataframe thead th {\n        text-align: right;\n    }\n</style>\n<table border=\"1\" class=\"dataframe\">\n  <thead>\n    <tr style=\"text-align: right;\">\n      <th></th>\n      <th>DATA</th>\n      <th>ORA</th>\n      <th>DATA_VALIDAZIONE</th>\n      <th>SERIALE</th>\n      <th>FERMATA</th>\n      <th>DESCRIZIONE</th>\n      <th>TITOLO</th>\n      <th>TICKET_CODE</th>\n      <th>DESCRIZIONE_TITOLO</th>\n    </tr>\n  </thead>\n  <tbody>\n    <tr>\n      <th>0</th>\n      <td>2022-05-13</td>\n      <td>00:00:00</td>\n      <td>2022-05-13</td>\n      <td>65676291870913797</td>\n      <td>5089</td>\n      <td>FERROVIA \"D\"</td>\n      <td>11149</td>\n      <td>TBD</td>\n      <td>7gg-Tpl 43,60-ComVe16,40</td>\n    </tr>\n    <tr>\n      <th>1</th>\n      <td>2022-05-13</td>\n      <td>00:00:00</td>\n      <td>2022-05-13</td>\n      <td>36141384536591364</td>\n      <td>5032</td>\n      <td>FERROVIA \"B\"</td>\n      <td>11107</td>\n      <td>TBD</td>\n      <td>48h-Tpl 24,90-ComVe5,10</td>\n    </tr>\n    <tr>\n      <th>2</th>\n      <td>2022-05-13</td>\n      <td>00:00:00</td>\n      <td>2022-05-13</td>\n      <td>36144856606063108</td>\n      <td>5031</td>\n      <td>P.le Roma \"G</td>\n      <td>11108</td>\n      <td>TBD</td>\n      <td>72h-Tpl 33,40-ComVe6,60</td>\n    </tr>\n    <tr>\n      <th>3</th>\n      <td>2022-05-13</td>\n      <td>00:00:00</td>\n      <td>2022-05-13</td>\n      <td>36144856608393988</td>\n      <td>506</td>\n      <td>VENEZIA</td>\n      <td>12106</td>\n      <td>TBD</td>\n      <td>Bigl Aer-Venezia TSC</td>\n    </tr>\n    <tr>\n      <th>4</th>\n      <td>2022-05-13</td>\n      <td>00:00:00</td>\n      <td>2022-05-13</td>\n      <td>36144856608393732</td>\n      <td>506</td>\n      <td>VENEZIA</td>\n      <td>12106</td>\n      <td>TBD</td>\n      <td>Bigl Aer-Venezia TSC</td>\n    </tr>\n  </tbody>\n</table>\n</div>"
     },
     "execution_count": 14,
     "metadata": {},
     "output_type": "execute_result"
    }
   ],
   "source": [
    "df.head()"
   ]
  },
  {
   "cell_type": "code",
   "execution_count": 15,
   "metadata": {
    "ExecuteTime": {
     "start_time": "2023-04-18T16:15:44.113195Z",
     "end_time": "2023-04-18T16:15:44.193782Z"
    }
   },
   "outputs": [],
   "source": [
    "# Create a dictionary with the ticket code and the ticket profile\n",
    "dict_tickets = {'1': 'One-day ticket', '2': 'Two-day ticket', '3': 'Three-day ticket', \n",
    "                '4': 'Seven-day ticket', \n",
    "                '5': 'Monthly ticket', '5-STUD': 'Monthly ticket for students',\n",
    "                '5-RET': 'Monthly ticket for retired', '5-WKRS': 'Monthly ticket for workers',\n",
    "                '6': 'Annual ticket', '6-STUD': 'Annual ticket for students', '6-RET': 'Annual ticket for retired',\n",
    "                '6-WKRS': 'Annual ticket for workers',\n",
    "                '7': '75 minutes ticket', '8': 'Other ticket'}\n",
    "\n",
    "# Export the dictionary to a json file\n",
    "with open('data/dictionaries/dict_ticket_codes.json', 'w') as fp:\n",
    "    json.dump(dict_tickets, fp)"
   ]
  },
  {
   "cell_type": "code",
   "execution_count": 16,
   "metadata": {
    "ExecuteTime": {
     "start_time": "2023-04-18T16:15:44.149370Z",
     "end_time": "2023-04-18T16:15:44.780183Z"
    }
   },
   "outputs": [
    {
     "data": {
      "text/plain": "168"
     },
     "execution_count": 16,
     "metadata": {},
     "output_type": "execute_result"
    }
   ],
   "source": [
    "# How many unique values are there in the column 'DESCRIZIONE_TITOLO'?\n",
    "df['DESCRIZIONE_TITOLO'].nunique()"
   ]
  },
  {
   "cell_type": "code",
   "execution_count": 17,
   "metadata": {
    "ExecuteTime": {
     "start_time": "2023-04-18T16:15:45.122659Z",
     "end_time": "2023-04-18T16:15:45.448455Z"
    }
   },
   "outputs": [
    {
     "data": {
      "text/plain": "array(['7gg-Tpl 43,60-ComVe16,40', '48h-Tpl 24,90-ComVe5,10',\n       '72h-Tpl 33,40-ComVe6,60', 'Bigl Aer-Venezia TSC',\n       'DAILY PASS VENEZIA - AVM', '72H R.Venice+aerop.AR online',\n       \"75'-Tpl 6,64-ComVe0,86\", 'Biglietto 72 ore Roll. Venice',\n       \"Bigl.Aut.75'Mestre/Lido-tsc\", 'Aer+boat-Tpl14,50-C.Ve1,50',\n       '72hAerCS-Tpl40,40-CVe6,60', 'Aeroporto-Venezia AR',\n       '72 ore R.Venice online', '7 days online no aerobus',\n       '72hAerAR-Tpl46,40-CVe6,60', '48hAerCS-Tpl31,90-CVe5,10',\n       'Bicicletta \"Palmare\"', 'L.17-auto \"C\"da 4,01 a 4,50 mt',\n       '72ore online no aerobus', 'L.17-auto \"AeB\" fino a 4 metri',\n       '48ore online no aerobus', \"75'-Tpl 13,28-ComVe1,72\",\n       'Extra tratta 4 ', '48ore online aerobus AR',\n       'Daily Pass Venezia Online', 'Ferry17-carri+35q.rim.',\n       'Ferry17-autocarri+35q.', 'Ferry11-autocarri+35q.',\n       'Extra tratta 5 ', 'L.17-auto \"D\" oltre metri 4,50',\n       'Extra tratta 2 ', 'Ciclomotore fino 50cc',\n       'Bicicletta \"biglietteria\"', 'Extra tratta 3 ',\n       \"Bigl.Mestre/Lido 75' a bordo\", 'Prenotaz OCCASIONALE si barra',\n       'AtvoCanova+Actv 72Hroll.online', '72 ore R.Venice+aeroporto CS',\n       'Extra tratta 1', '7 days online aerobus AR',\n       'Atvo Canova+Navig AR online', 'Atvo Canova+Actv 72H online',\n       'Tragh-Tpl 4,41-C.Ve0,59', 'ARRIVA VENETO AEROPORTO',\n       'ARRIVA VENETO tratta 8-9-10', '24hAerCS-Tpl22,90-CVe5,10',\n       'Extra tratta 7 ', 'biglietto merci C.Semplice',\n       'Bordo 75min CartaVenezia', 'Bigl.urbano CHIOGGIA',\n       '72 ore R.Venice+aeroporto AR', '48hAerAR-Tpl37,90-CVe5,10',\n       'Extra tratta 2 TVM', 'Extra tratta 1 TVM',\n       'Carnet CHIOGGIA 10c. TICKET', '7ggAerAR-Tpl56,60-CVe16,40',\n       \"PeopleMover+Bus+Tram 75'\", 'Ferry17-Trasporti pericolosi',\n       'NA-24H metropolitano ORD+1', '72ore online aerobus CS',\n       'ARRIVA VENETO tratta 3', 'abbonamento 30 gg.PeopleMover',\n       \"ord. navigazione 75' online\", 'L.11-auto \"D\" oltre metri 4,50',\n       'Extra tratta 6 ', '24ore online aerobus AR',\n       'Cav -Trep + Actv 24H', '7ggAerCS-Tpl50,60-CVe16,40',\n       'Ciclomotore oltre 50cc', 'Bagaglio CartaVenezia',\n       'Cav - Trep + Actv 72H', 'Cav-Trep - S.Marco AR',\n       'Mens. cose animali RETE UNICA', 'Tragh-Tpl 8,82-C.Ve1,18',\n       '72H RVenice+aerop.CS online', 'Aeroporto-Venezia CS ONLINE',\n       'NA-Traghetto ordinario', 'ARRIVA VENETO tratta 4',\n       'Extra tratta 4 TVM', 'ARRIVA VENETO tratta 1',\n       '72ore online aerobus AR', '48ore online aerobus CS',\n       'NA-24h-Tpl 14,90-Com.Ve5,10', 'Jesolo - S.Marco AR',\n       'Jesolo + Actv 24H', \"75'-Tpl 12,60-CVe2,40 online\",\n       'Extra tratta 5 TVM', 'Bicicletta \"concessionari\"',\n       'Gruppi e Scuole', '7 days online aerobus CS',\n       'Extra tratta 3 TVM', 'T.Fusina Ve+ACTV 24 ore',\n       'T.Fusina Ve+ACTV 72 ore', 'NA-24H metropolitano ORD+2',\n       'Tariffa carozzina', 'Aeroporto-Venezia AR ONLINE',\n       'ARRIVA Extra tr.8-9-10 BORDO', '24hAerAR-Tpl28,90-CVe5,10',\n       'L.11-auto \"C\"da 4,01 a 4,50 mt', '24H metropolitano ORD online',\n       'ARRIVA VENETO tratta 2', 'Extra tratte 2-3-4 BORDO',\n       'Bus+People mover online', '24ore online no aerobus',\n       'ARRIVAExtra tr.2-3-4 BORDO', 'ARRIVA VENETO tratta 7',\n       '24ore online aerobus CS', 'Ev12-Tpl 57,00-C.Ve3,00',\n       'ARRIVA Aeroporto BORDO', 'Extra tratta 8-9-10 ',\n       'Gruppi e scuole online TVM ar', 'Extra tratta 7 TVM',\n       'Extra tratte 5-6-7 BORDO', 'AtvoCanova+Navig 1corsa online',\n       'L.11-auto \"AeB\" fino a 4 metri', 'Gruppi e Scuole AR-SM',\n       'Biglietto MOTO FINO 50 cc', 'ARRIVA Extra tr. 5-6-7 BORDO',\n       'Ferry11-carri+35q.rim.', \"PeopleMover+Bus+Tram 75'carnet\",\n       'Extra tratta 1 BORDO', 'Atvo Canova+Navig AR', 'Ferry17-AUTOBUS',\n       'Atvo Canova+Actv 72H', 'ARRIVA Extra tr.1 BORDO',\n       'NA-24H metropolitano ORD.', 'ARRIVA VENETO tratta 6',\n       'ARRIVA VENETO tratta 5', '24H metropolitano ORD+1 online',\n       'Biglietto Soc. Sportive', '24H metropolitano ORD+2 online',\n       'Ev5-Tpl 33,50-C.Ve1,50', 'Gruppi Organizzati CS',\n       'Su e Zo per i ponti 2022', 'ARRIVA Integ.Aerop. BORDO',\n       'Gruppi e scuole online 2viaggi', 'Extra tratta 8-9-10 TVM',\n       'Traghetto Gratuito', 'Atvo Canova+Navig 1 corsa',\n       'Gruppi e scuole online TVM cs', 'Ev8-Tpl 45,00-C.Ve3,00',\n       'Extra tratta 6 TVM', 'NA-24H metropolitano RES+1',\n       'Ferry11-AUTOBUS', 'Salone Nautico 2022 A/R',\n       'Salone Nautico 2022 1 corsa', \"VENDITA A BORDO 75' CV\",\n       'SpiaggeAR-Tpl 11,75-ComVe1,25', 'Prenotazione Veicolo ABBONATO',\n       'NA-24H metropolitano RES.', 'Bibione-S.Marco AR',\n       'Caorle-P.S.Margh-S.Marco AR', 'Caorle-P.S.Margh. + Actv 24H',\n       'EracleaMare-S.Marco AR', 'Bibione + Actv 24H',\n       'Lignano-S.Marco AR', 'EracleaMare + Actv 24H',\n       'NA-24H metropolitano RES+2', 'Extra tratte 8-9-10 BORDO',\n       'Bigl.urbano CHIOGGIA bordo', 'NA-12h-Tpl 13,40-ComVe4,60',\n       'Ville Venete+24H actv urb+nav', 'Camp.Marina-S.Marco AR',\n       \"VENDITA A BORDO 75' ORD.\", 'Ev3-Tpl 26,50-C.Ve1,50',\n       'Atvo Canova+Actv 72H rolling', 'Lignano + Actv 24H',\n       'SOSTITUTIVO Pass Imob'], dtype=object)"
     },
     "execution_count": 17,
     "metadata": {},
     "output_type": "execute_result"
    }
   ],
   "source": [
    "# Which are the unique values of the column 'DESCRIZIONE_TITOLO'?\n",
    "df['DESCRIZIONE_TITOLO'].unique()"
   ]
  },
  {
   "cell_type": "code",
   "execution_count": 18,
   "metadata": {
    "ExecuteTime": {
     "start_time": "2023-04-18T16:15:45.673944Z",
     "end_time": "2023-04-18T16:15:46.001422Z"
    }
   },
   "outputs": [
    {
     "name": "stdout",
     "output_type": "stream",
     "text": [
      "The number of unique values of the column DESCRIZIONE_TITOLO is:  168\n"
     ]
    }
   ],
   "source": [
    "# Get the number of unique values of the column 'DESCRIZIONE_TITOLO'\n",
    "num_unique_DESCRIZIONE_TITOLO = len(df['DESCRIZIONE_TITOLO'].unique())\n",
    "print('The number of unique values of the column DESCRIZIONE_TITOLO is: ', num_unique_DESCRIZIONE_TITOLO)"
   ]
  },
  {
   "cell_type": "code",
   "execution_count": 19,
   "metadata": {
    "ExecuteTime": {
     "start_time": "2023-04-18T16:15:46.330028Z",
     "end_time": "2023-04-18T16:15:48.818926Z"
    }
   },
   "outputs": [
    {
     "data": {
      "text/plain": "DAILY PASS VENEZIA - AVM          972478\n75'-TPL 6,64-COMVE0,86            743608\n48H-TPL 24,90-COMVE5,10           600320\n72H-TPL 33,40-COMVE6,60           492911\nBIGL.AUT.75'MESTRE/LIDO-TSC       422668\n7GG-TPL 43,60-COMVE16,40          342870\n75'-TPL 13,28-COMVE1,72           232644\nBIGLIETTO 72 ORE ROLL. VENICE     170675\n72ORE ONLINE NO AEROBUS           108357\n7 DAYS ONLINE NO AEROBUS          101869\nPEOPLEMOVER+BUS+TRAM 75'           85968\nBIGL AER-VENEZIA TSC               71552\n48ORE ONLINE NO AEROBUS            65389\n72 ORE R.VENICE ONLINE             59982\nTRAGH-TPL 8,82-C.VE1,18            38351\nDAILY PASS VENEZIA ONLINE          36709\nEXTRA TRATTA 2                     33102\nCAV -TREP + ACTV 24H               25071\nEXTRA TRATTA 3                     22710\nBICICLETTA \"BIGLIETTERIA\"          20041\nJESOLO + ACTV 24H                  17869\nNA-24H METROPOLITANO ORD+2         17203\nNA-24H METROPOLITANO ORD+1         15662\nL.17-AUTO \"D\" OLTRE METRI 4,50     14081\nCAV-TREP - S.MARCO AR              14034\n7GGAERAR-TPL56,60-CVE16,40         13902\nEXTRA TRATTA 4                     13678\nJESOLO - S.MARCO AR                13620\n7 DAYS ONLINE AEROBUS AR           13366\nBIGL.MESTRE/LIDO 75' A BORDO       12055\n72 ORE R.VENICE+AEROPORTO CS       12018\nTRAGH-TPL 4,41-C.VE0,59            11599\nPRENOTAZ OCCASIONALE SI BARRA      11187\n48HAERCS-TPL31,90-CVE5,10           9889\n72HAERCS-TPL40,40-CVE6,60           9855\nL.17-AUTO \"AEB\" FINO A 4 METRI      8279\n72HAERAR-TPL46,40-CVE6,60           8152\n24HAERCS-TPL22,90-CVE5,10           8048\nORD. NAVIGAZIONE 75' ONLINE         6976\nL.17-AUTO \"C\"DA 4,01 A 4,50 MT      6941\nEXTRA TRATTA 1                      6800\nAER+BOAT-TPL14,50-C.VE1,50          6693\nAEROPORTO-VENEZIA AR                6520\nARRIVA VENETO TRATTA 8-9-10         6323\n7GGAERCS-TPL50,60-CVE16,40          6295\n72H RVENICE+AEROP.CS ONLINE         6190\n72ORE ONLINE AEROBUS AR             6055\nEXTRA TRATTA 5                      5347\n72H R.VENICE+AEROP.AR ONLINE        5087\n72 ORE R.VENICE+AEROPORTO AR        4963\n72ORE ONLINE AEROBUS CS             4565\nBICICLETTA \"PALMARE\"                4307\nCARNET CHIOGGIA 10C. TICKET         4241\n7 DAYS ONLINE AEROBUS CS            3933\nT.FUSINA VE+ACTV 24 ORE             3713\n75'-TPL 12,60-CVE2,40 ONLINE        3524\nBIGL.URBANO CHIOGGIA                3430\nGRUPPI E SCUOLE                     3421\nBORDO 75MIN CARTAVENEZIA            3345\n48HAERAR-TPL37,90-CVE5,10           3312\nGRUPPI E SCUOLE ONLINE TVM AR       3097\nFERRY17-AUTOCARRI+35Q.              3037\nSALONE NAUTICO 2022 A/R             2916\nATVO CANOVA+ACTV 72H ONLINE         2788\nT.FUSINA VE+ACTV 72 ORE             2691\nTARIFFA CAROZZINA                   2573\n48ORE ONLINE AEROBUS CS             2386\nATVOCANOVA+ACTV 72HROLL.ONLINE      2260\nBICICLETTA \"CONCESSIONARI\"          2141\nCICLOMOTORE FINO 50CC               2101\nSU E ZO PER I PONTI 2022            1998\nGRUPPI E SCUOLE AR-SM               1907\nL.11-AUTO \"D\" OLTRE METRI 4,50      1845\nEXTRA TRATTA 6                      1815\nATVO CANOVA+ACTV 72H                1769\nAEROPORTO-VENEZIA AR ONLINE         1697\n48ORE ONLINE AEROBUS AR             1532\nABBONAMENTO 30 GG.PEOPLEMOVER       1509\nCAORLE-P.S.MARGH-S.MARCO AR         1484\nL.11-AUTO \"AEB\" FINO A 4 METRI      1450\nBUS+PEOPLE MOVER ONLINE             1339\nCAORLE-P.S.MARGH. + ACTV 24H        1297\n24HAERAR-TPL28,90-CVE5,10           1209\nBIBIONE-S.MARCO AR                  1173\nL.11-AUTO \"C\"DA 4,01 A 4,50 MT      1109\nARRIVA VENETO TRATTA 1              1090\nEV3-TPL 26,50-C.VE1,50              1000\n24ORE ONLINE AEROBUS CS              893\nBIBIONE + ACTV 24H                   845\nFERRY11-AUTOCARRI+35Q.               838\nEXTRA TRATTA 1 TVM                   801\nEXTRA TRATTA 8-9-10                  766\nAEROPORTO-VENEZIA CS ONLINE          749\nEXTRA TRATTA 2 TVM                   748\nSALONE NAUTICO 2022 1 CORSA          718\nFERRY17-CARRI+35Q.RIM.               668\nPEOPLEMOVER+BUS+TRAM 75'CARNET       648\nEXTRA TRATTE 2-3-4 BORDO             641\nERACLEAMARE-S.MARCO AR               606\nARRIVA VENETO TRATTA 4               580\nEV5-TPL 33,50-C.VE1,50               558\nCAV - TREP + ACTV 72H                544\nNA-24H-TPL 14,90-COM.VE5,10          532\nEXTRA TRATTA 7                       514\nARRIVA VENETO TRATTA 6               509\n24ORE ONLINE NO AEROBUS              457\nEV12-TPL 57,00-C.VE3,00              455\n24H METROPOLITANO ORD ONLINE         435\nEXTRA TRATTA 3 TVM                   398\nEXTRA TRATTA 4 TVM                   387\n24H METROPOLITANO ORD+2 ONLINE       346\nATVO CANOVA+NAVIG 1 CORSA            345\nEV8-TPL 45,00-C.VE3,00               308\nGRUPPI ORGANIZZATI CS                303\nARRIVA VENETO AEROPORTO              298\nARRIVA VENETO TRATTA 7               279\nBIGLIETTO SOC. SPORTIVE              274\nLIGNANO-S.MARCO AR                   274\nBAGAGLIO CARTAVENEZIA                270\nGRUPPI E SCUOLE ONLINE TVM CS        264\nATVO CANOVA+NAVIG AR                 257\nBIGLIETTO MOTO FINO 50 CC            244\n24H METROPOLITANO ORD+1 ONLINE       239\nCICLOMOTORE OLTRE 50CC               238\nARRIVA VENETO TRATTA 3               237\nARRIVA EXTRA TR.8-9-10 BORDO         236\n24ORE ONLINE AEROBUS AR              222\nARRIVA VENETO TRATTA 2               206\nEXTRA TRATTA 1 BORDO                 205\nERACLEAMARE + ACTV 24H               204\nARRIVA EXTRA TR.1 BORDO              182\nGRUPPI E SCUOLE ONLINE 2VIAGGI       180\nARRIVAEXTRA TR.2-3-4 BORDO           171\nARRIVA EXTRA TR. 5-6-7 BORDO         166\nEXTRA TRATTA 5 TVM                   160\nBIGLIETTO MERCI C.SEMPLICE           159\nFERRY17-AUTOBUS                      134\nSPIAGGEAR-TPL 11,75-COMVE1,25        125\nNA-TRAGHETTO ORDINARIO               109\nATVO CANOVA+NAVIG AR ONLINE          102\nNA-24H METROPOLITANO ORD.             97\nATVOCANOVA+NAVIG 1CORSA ONLINE        80\nARRIVA VENETO TRATTA 5                74\nMENS. COSE ANIMALI RETE UNICA         48\nEXTRA TRATTE 5-6-7 BORDO              38\nFERRY17-TRASPORTI PERICOLOSI          32\nNA-24H METROPOLITANO RES+1            31\nLIGNANO + ACTV 24H                    25\nEXTRA TRATTA 8-9-10 TVM               23\nARRIVA AEROPORTO BORDO                22\nPRENOTAZIONE VEICOLO ABBONATO         20\nVILLE VENETE+24H ACTV URB+NAV         18\nEXTRA TRATTA 7 TVM                    18\nNA-24H METROPOLITANO RES+2            17\nARRIVA INTEG.AEROP. BORDO             14\nNA-24H METROPOLITANO RES.             13\nVENDITA A BORDO 75' CV                13\nFERRY11-CARRI+35Q.RIM.                13\nBIGL.URBANO CHIOGGIA BORDO            12\nVENDITA A BORDO 75' ORD.              10\nEXTRA TRATTA 6 TVM                     9\nTRAGHETTO GRATUITO                     8\nFERRY11-AUTOBUS                        3\nEXTRA TRATTE 8-9-10 BORDO              3\nNA-12H-TPL 13,40-COMVE4,60             3\nCAMP.MARINA-S.MARCO AR                 2\nATVO CANOVA+ACTV 72H ROLLING           1\nSOSTITUTIVO PASS IMOB                  1\nName: DESCRIZIONE_TITOLO, dtype: int64"
     },
     "execution_count": 19,
     "metadata": {},
     "output_type": "execute_result"
    }
   ],
   "source": [
    "# Convert the column 'DESCRIZIONE_TITOLO' into upper case \n",
    "df['DESCRIZIONE_TITOLO'] = df['DESCRIZIONE_TITOLO'].str.upper()\n",
    "# Count the number of unique values of the column 'DESCRIZIONE_TITOLO'\n",
    "df['DESCRIZIONE_TITOLO'].value_counts()"
   ]
  },
  {
   "cell_type": "markdown",
   "metadata": {},
   "source": [
    "### One-day tickets"
   ]
  },
  {
   "cell_type": "code",
   "execution_count": 20,
   "metadata": {
    "ExecuteTime": {
     "start_time": "2023-04-18T16:15:49.201067Z",
     "end_time": "2023-04-18T16:15:53.834523Z"
    }
   },
   "outputs": [
    {
     "data": {
      "text/plain": "DAILY PASS VENEZIA - AVM          972478\nDAILY PASS VENEZIA ONLINE          36709\nCAV -TREP + ACTV 24H               25071\nJESOLO + ACTV 24H                  17869\nNA-24H METROPOLITANO ORD+2         17203\nNA-24H METROPOLITANO ORD+1         15662\n24HAERCS-TPL22,90-CVE5,10           8048\nT.FUSINA VE+ACTV 24 ORE             3713\nCAORLE-P.S.MARGH. + ACTV 24H        1297\n24HAERAR-TPL28,90-CVE5,10           1209\n24ORE ONLINE AEROBUS CS              893\nBIBIONE + ACTV 24H                   845\nNA-24H-TPL 14,90-COM.VE5,10          532\n24ORE ONLINE NO AEROBUS              457\n24H METROPOLITANO ORD ONLINE         435\n24H METROPOLITANO ORD+2 ONLINE       346\n24H METROPOLITANO ORD+1 ONLINE       239\n24ORE ONLINE AEROBUS AR              222\nERACLEAMARE + ACTV 24H               204\nNA-24H METROPOLITANO ORD.             97\nNA-24H METROPOLITANO RES+1            31\nLIGNANO + ACTV 24H                    25\nVILLE VENETE+24H ACTV URB+NAV         18\nNA-24H METROPOLITANO RES+2            17\nNA-24H METROPOLITANO RES.             13\nName: DESCRIZIONE_TITOLO, dtype: int64"
     },
     "execution_count": 20,
     "metadata": {},
     "output_type": "execute_result"
    }
   ],
   "source": [
    "# Which type of ticket are one-day tickets and how many are there?\n",
    "df[df['DESCRIZIONE_TITOLO'].str.contains('GIORNALIERO|24H|24ORE|24 ORE|DAILY')]['DESCRIZIONE_TITOLO'].value_counts()"
   ]
  },
  {
   "cell_type": "code",
   "execution_count": 21,
   "metadata": {
    "ExecuteTime": {
     "start_time": "2023-04-18T16:15:54.129427Z",
     "end_time": "2023-04-18T16:15:57.450579Z"
    }
   },
   "outputs": [],
   "source": [
    "# Populate the column 'TICKET_CODE' with the code of the ticket profile according to the ticket type and the ticket validity \n",
    "df.loc[df['DESCRIZIONE_TITOLO'].str.contains('GIORNALIERO|24H|24ORE|24 ORE|DAILY'), 'TICKET_CODE'] = '1'"
   ]
  },
  {
   "cell_type": "code",
   "execution_count": 22,
   "metadata": {
    "collapsed": false,
    "ExecuteTime": {
     "start_time": "2023-04-18T16:15:57.809105Z",
     "end_time": "2023-04-18T16:15:58.888535Z"
    }
   },
   "outputs": [
    {
     "name": "stdout",
     "output_type": "stream",
     "text": [
      "The number of one-day tickets is:  1103633\n",
      "The number of tickets for each type of one-day ticket is: \n"
     ]
    },
    {
     "data": {
      "text/plain": "DAILY PASS VENEZIA - AVM          972478\nDAILY PASS VENEZIA ONLINE          36709\nCAV -TREP + ACTV 24H               25071\nJESOLO + ACTV 24H                  17869\nNA-24H METROPOLITANO ORD+2         17203\nNA-24H METROPOLITANO ORD+1         15662\n24HAERCS-TPL22,90-CVE5,10           8048\nT.FUSINA VE+ACTV 24 ORE             3713\nCAORLE-P.S.MARGH. + ACTV 24H        1297\n24HAERAR-TPL28,90-CVE5,10           1209\n24ORE ONLINE AEROBUS CS              893\nBIBIONE + ACTV 24H                   845\nNA-24H-TPL 14,90-COM.VE5,10          532\n24ORE ONLINE NO AEROBUS              457\n24H METROPOLITANO ORD ONLINE         435\n24H METROPOLITANO ORD+2 ONLINE       346\n24H METROPOLITANO ORD+1 ONLINE       239\n24ORE ONLINE AEROBUS AR              222\nERACLEAMARE + ACTV 24H               204\nNA-24H METROPOLITANO ORD.             97\nNA-24H METROPOLITANO RES+1            31\nLIGNANO + ACTV 24H                    25\nVILLE VENETE+24H ACTV URB+NAV         18\nNA-24H METROPOLITANO RES+2            17\nNA-24H METROPOLITANO RES.             13\nName: DESCRIZIONE_TITOLO, dtype: int64"
     },
     "execution_count": 22,
     "metadata": {},
     "output_type": "execute_result"
    }
   ],
   "source": [
    "# TICKET_CODE = 1: Information about one-day tickets\n",
    "print(\"The number of one-day tickets is: \", df[df['TICKET_CODE'] == '1'].shape[0])\n",
    "print(\"The number of tickets for each type of one-day ticket is: \")\n",
    "df[df['TICKET_CODE'] == '1']['DESCRIZIONE_TITOLO'].value_counts()"
   ]
  },
  {
   "cell_type": "code",
   "execution_count": 23,
   "metadata": {
    "ExecuteTime": {
     "start_time": "2023-04-18T16:15:59.174054Z",
     "end_time": "2023-04-18T16:16:00.238273Z"
    }
   },
   "outputs": [
    {
     "name": "stdout",
     "output_type": "stream",
     "text": [
      "Information about the tickets with code 1 related to the serial number: \n"
     ]
    },
    {
     "data": {
      "text/plain": "                                   count      mean       std  min   25%  50%  \\\nDESCRIZIONE_TITOLO                                                             \n24H METROPOLITANO ORD ONLINE       147.0  2.959184  2.093295  1.0  2.00  2.0   \n24H METROPOLITANO ORD+1 ONLINE      62.0  3.854839  1.998744  1.0  3.00  4.0   \n24H METROPOLITANO ORD+2 ONLINE      75.0  4.613333  3.533214  1.0  2.00  4.0   \n24HAERAR-TPL28,90-CVE5,10          299.0  4.043478  2.642220  1.0  2.00  4.0   \n24HAERCS-TPL22,90-CVE5,10         2092.0  3.847036  2.333202  1.0  2.00  4.0   \n24ORE ONLINE AEROBUS AR             49.0  4.530612  2.102598  1.0  3.00  5.0   \n24ORE ONLINE AEROBUS CS            187.0  4.775401  2.563775  1.0  3.00  5.0   \n24ORE ONLINE NO AEROBUS            122.0  3.745902  2.283833  1.0  2.00  3.0   \nBIBIONE + ACTV 24H                 312.0  2.708333  1.315818  1.0  2.00  3.0   \nCAORLE-P.S.MARGH. + ACTV 24H       464.0  2.795259  1.370429  1.0  2.00  3.0   \nCAV -TREP + ACTV 24H              7370.0  3.401764  1.640898  1.0  2.00  3.0   \nDAILY PASS VENEZIA - AVM        260958.0  3.726569  2.136298  1.0  2.00  3.0   \nDAILY PASS VENEZIA ONLINE        10147.0  3.617720  2.090693  1.0  2.00  3.0   \nERACLEAMARE + ACTV 24H              79.0  2.582278  1.297014  1.0  1.50  2.0   \nJESOLO + ACTV 24H                 5534.0  3.228948  1.523413  1.0  2.00  3.0   \nLIGNANO + ACTV 24H                   9.0  2.777778  1.394433  1.0  2.00  3.0   \nNA-24H METROPOLITANO ORD+1        3893.0  4.023118  2.531097  1.0  2.00  3.0   \nNA-24H METROPOLITANO ORD+2        4633.0  3.713145  2.747969  1.0  2.00  3.0   \nNA-24H METROPOLITANO ORD.           31.0  3.129032  2.186960  1.0  2.00  3.0   \nNA-24H METROPOLITANO RES+1           9.0  3.444444  1.740051  2.0  2.00  3.0   \nNA-24H METROPOLITANO RES+2           2.0  8.500000  4.949747  5.0  6.75  8.5   \nNA-24H METROPOLITANO RES.            5.0  2.600000  1.140175  1.0  2.00  3.0   \nNA-24H-TPL 14,90-COM.VE5,10        138.0  3.855072  5.098376  1.0  2.00  3.0   \nT.FUSINA VE+ACTV 24 ORE           1144.0  3.245629  2.154565  1.0  2.00  3.0   \nVILLE VENETE+24H ACTV URB+NAV        6.0  3.000000  1.095445  2.0  2.25  3.0   \n\n                                  75%    max  \nDESCRIZIONE_TITOLO                            \n24H METROPOLITANO ORD ONLINE     3.50   11.0  \n24H METROPOLITANO ORD+1 ONLINE   5.00   13.0  \n24H METROPOLITANO ORD+2 ONLINE   5.50   20.0  \n24HAERAR-TPL28,90-CVE5,10        5.00   24.0  \n24HAERCS-TPL22,90-CVE5,10        5.00   16.0  \n24ORE ONLINE AEROBUS AR          6.00    9.0  \n24ORE ONLINE AEROBUS CS          6.00   15.0  \n24ORE ONLINE NO AEROBUS          5.00   12.0  \nBIBIONE + ACTV 24H               4.00    8.0  \nCAORLE-P.S.MARGH. + ACTV 24H     3.00    9.0  \nCAV -TREP + ACTV 24H             4.00   17.0  \nDAILY PASS VENEZIA - AVM         5.00  119.0  \nDAILY PASS VENEZIA ONLINE        5.00   23.0  \nERACLEAMARE + ACTV 24H           3.00    6.0  \nJESOLO + ACTV 24H                4.00   12.0  \nLIGNANO + ACTV 24H               4.00    5.0  \nNA-24H METROPOLITANO ORD+1       5.00   30.0  \nNA-24H METROPOLITANO ORD+2       5.00   33.0  \nNA-24H METROPOLITANO ORD.        4.00   12.0  \nNA-24H METROPOLITANO RES+1       4.00    7.0  \nNA-24H METROPOLITANO RES+2      10.25   12.0  \nNA-24H METROPOLITANO RES.        3.00    4.0  \nNA-24H-TPL 14,90-COM.VE5,10      4.00   48.0  \nT.FUSINA VE+ACTV 24 ORE          4.00   44.0  \nVILLE VENETE+24H ACTV URB+NAV    3.00    5.0  ",
      "text/html": "<div>\n<style scoped>\n    .dataframe tbody tr th:only-of-type {\n        vertical-align: middle;\n    }\n\n    .dataframe tbody tr th {\n        vertical-align: top;\n    }\n\n    .dataframe thead th {\n        text-align: right;\n    }\n</style>\n<table border=\"1\" class=\"dataframe\">\n  <thead>\n    <tr style=\"text-align: right;\">\n      <th></th>\n      <th>count</th>\n      <th>mean</th>\n      <th>std</th>\n      <th>min</th>\n      <th>25%</th>\n      <th>50%</th>\n      <th>75%</th>\n      <th>max</th>\n    </tr>\n    <tr>\n      <th>DESCRIZIONE_TITOLO</th>\n      <th></th>\n      <th></th>\n      <th></th>\n      <th></th>\n      <th></th>\n      <th></th>\n      <th></th>\n      <th></th>\n    </tr>\n  </thead>\n  <tbody>\n    <tr>\n      <th>24H METROPOLITANO ORD ONLINE</th>\n      <td>147.0</td>\n      <td>2.959184</td>\n      <td>2.093295</td>\n      <td>1.0</td>\n      <td>2.00</td>\n      <td>2.0</td>\n      <td>3.50</td>\n      <td>11.0</td>\n    </tr>\n    <tr>\n      <th>24H METROPOLITANO ORD+1 ONLINE</th>\n      <td>62.0</td>\n      <td>3.854839</td>\n      <td>1.998744</td>\n      <td>1.0</td>\n      <td>3.00</td>\n      <td>4.0</td>\n      <td>5.00</td>\n      <td>13.0</td>\n    </tr>\n    <tr>\n      <th>24H METROPOLITANO ORD+2 ONLINE</th>\n      <td>75.0</td>\n      <td>4.613333</td>\n      <td>3.533214</td>\n      <td>1.0</td>\n      <td>2.00</td>\n      <td>4.0</td>\n      <td>5.50</td>\n      <td>20.0</td>\n    </tr>\n    <tr>\n      <th>24HAERAR-TPL28,90-CVE5,10</th>\n      <td>299.0</td>\n      <td>4.043478</td>\n      <td>2.642220</td>\n      <td>1.0</td>\n      <td>2.00</td>\n      <td>4.0</td>\n      <td>5.00</td>\n      <td>24.0</td>\n    </tr>\n    <tr>\n      <th>24HAERCS-TPL22,90-CVE5,10</th>\n      <td>2092.0</td>\n      <td>3.847036</td>\n      <td>2.333202</td>\n      <td>1.0</td>\n      <td>2.00</td>\n      <td>4.0</td>\n      <td>5.00</td>\n      <td>16.0</td>\n    </tr>\n    <tr>\n      <th>24ORE ONLINE AEROBUS AR</th>\n      <td>49.0</td>\n      <td>4.530612</td>\n      <td>2.102598</td>\n      <td>1.0</td>\n      <td>3.00</td>\n      <td>5.0</td>\n      <td>6.00</td>\n      <td>9.0</td>\n    </tr>\n    <tr>\n      <th>24ORE ONLINE AEROBUS CS</th>\n      <td>187.0</td>\n      <td>4.775401</td>\n      <td>2.563775</td>\n      <td>1.0</td>\n      <td>3.00</td>\n      <td>5.0</td>\n      <td>6.00</td>\n      <td>15.0</td>\n    </tr>\n    <tr>\n      <th>24ORE ONLINE NO AEROBUS</th>\n      <td>122.0</td>\n      <td>3.745902</td>\n      <td>2.283833</td>\n      <td>1.0</td>\n      <td>2.00</td>\n      <td>3.0</td>\n      <td>5.00</td>\n      <td>12.0</td>\n    </tr>\n    <tr>\n      <th>BIBIONE + ACTV 24H</th>\n      <td>312.0</td>\n      <td>2.708333</td>\n      <td>1.315818</td>\n      <td>1.0</td>\n      <td>2.00</td>\n      <td>3.0</td>\n      <td>4.00</td>\n      <td>8.0</td>\n    </tr>\n    <tr>\n      <th>CAORLE-P.S.MARGH. + ACTV 24H</th>\n      <td>464.0</td>\n      <td>2.795259</td>\n      <td>1.370429</td>\n      <td>1.0</td>\n      <td>2.00</td>\n      <td>3.0</td>\n      <td>3.00</td>\n      <td>9.0</td>\n    </tr>\n    <tr>\n      <th>CAV -TREP + ACTV 24H</th>\n      <td>7370.0</td>\n      <td>3.401764</td>\n      <td>1.640898</td>\n      <td>1.0</td>\n      <td>2.00</td>\n      <td>3.0</td>\n      <td>4.00</td>\n      <td>17.0</td>\n    </tr>\n    <tr>\n      <th>DAILY PASS VENEZIA - AVM</th>\n      <td>260958.0</td>\n      <td>3.726569</td>\n      <td>2.136298</td>\n      <td>1.0</td>\n      <td>2.00</td>\n      <td>3.0</td>\n      <td>5.00</td>\n      <td>119.0</td>\n    </tr>\n    <tr>\n      <th>DAILY PASS VENEZIA ONLINE</th>\n      <td>10147.0</td>\n      <td>3.617720</td>\n      <td>2.090693</td>\n      <td>1.0</td>\n      <td>2.00</td>\n      <td>3.0</td>\n      <td>5.00</td>\n      <td>23.0</td>\n    </tr>\n    <tr>\n      <th>ERACLEAMARE + ACTV 24H</th>\n      <td>79.0</td>\n      <td>2.582278</td>\n      <td>1.297014</td>\n      <td>1.0</td>\n      <td>1.50</td>\n      <td>2.0</td>\n      <td>3.00</td>\n      <td>6.0</td>\n    </tr>\n    <tr>\n      <th>JESOLO + ACTV 24H</th>\n      <td>5534.0</td>\n      <td>3.228948</td>\n      <td>1.523413</td>\n      <td>1.0</td>\n      <td>2.00</td>\n      <td>3.0</td>\n      <td>4.00</td>\n      <td>12.0</td>\n    </tr>\n    <tr>\n      <th>LIGNANO + ACTV 24H</th>\n      <td>9.0</td>\n      <td>2.777778</td>\n      <td>1.394433</td>\n      <td>1.0</td>\n      <td>2.00</td>\n      <td>3.0</td>\n      <td>4.00</td>\n      <td>5.0</td>\n    </tr>\n    <tr>\n      <th>NA-24H METROPOLITANO ORD+1</th>\n      <td>3893.0</td>\n      <td>4.023118</td>\n      <td>2.531097</td>\n      <td>1.0</td>\n      <td>2.00</td>\n      <td>3.0</td>\n      <td>5.00</td>\n      <td>30.0</td>\n    </tr>\n    <tr>\n      <th>NA-24H METROPOLITANO ORD+2</th>\n      <td>4633.0</td>\n      <td>3.713145</td>\n      <td>2.747969</td>\n      <td>1.0</td>\n      <td>2.00</td>\n      <td>3.0</td>\n      <td>5.00</td>\n      <td>33.0</td>\n    </tr>\n    <tr>\n      <th>NA-24H METROPOLITANO ORD.</th>\n      <td>31.0</td>\n      <td>3.129032</td>\n      <td>2.186960</td>\n      <td>1.0</td>\n      <td>2.00</td>\n      <td>3.0</td>\n      <td>4.00</td>\n      <td>12.0</td>\n    </tr>\n    <tr>\n      <th>NA-24H METROPOLITANO RES+1</th>\n      <td>9.0</td>\n      <td>3.444444</td>\n      <td>1.740051</td>\n      <td>2.0</td>\n      <td>2.00</td>\n      <td>3.0</td>\n      <td>4.00</td>\n      <td>7.0</td>\n    </tr>\n    <tr>\n      <th>NA-24H METROPOLITANO RES+2</th>\n      <td>2.0</td>\n      <td>8.500000</td>\n      <td>4.949747</td>\n      <td>5.0</td>\n      <td>6.75</td>\n      <td>8.5</td>\n      <td>10.25</td>\n      <td>12.0</td>\n    </tr>\n    <tr>\n      <th>NA-24H METROPOLITANO RES.</th>\n      <td>5.0</td>\n      <td>2.600000</td>\n      <td>1.140175</td>\n      <td>1.0</td>\n      <td>2.00</td>\n      <td>3.0</td>\n      <td>3.00</td>\n      <td>4.0</td>\n    </tr>\n    <tr>\n      <th>NA-24H-TPL 14,90-COM.VE5,10</th>\n      <td>138.0</td>\n      <td>3.855072</td>\n      <td>5.098376</td>\n      <td>1.0</td>\n      <td>2.00</td>\n      <td>3.0</td>\n      <td>4.00</td>\n      <td>48.0</td>\n    </tr>\n    <tr>\n      <th>T.FUSINA VE+ACTV 24 ORE</th>\n      <td>1144.0</td>\n      <td>3.245629</td>\n      <td>2.154565</td>\n      <td>1.0</td>\n      <td>2.00</td>\n      <td>3.0</td>\n      <td>4.00</td>\n      <td>44.0</td>\n    </tr>\n    <tr>\n      <th>VILLE VENETE+24H ACTV URB+NAV</th>\n      <td>6.0</td>\n      <td>3.000000</td>\n      <td>1.095445</td>\n      <td>2.0</td>\n      <td>2.25</td>\n      <td>3.0</td>\n      <td>3.00</td>\n      <td>5.0</td>\n    </tr>\n  </tbody>\n</table>\n</div>"
     },
     "execution_count": 23,
     "metadata": {},
     "output_type": "execute_result"
    }
   ],
   "source": [
    "print(\"Information about the tickets with code 1 related to the serial number: \")\n",
    "df[df['TICKET_CODE'] == '1'].groupby('DESCRIZIONE_TITOLO')['SERIALE'].value_counts().groupby('DESCRIZIONE_TITOLO').describe()"
   ]
  },
  {
   "cell_type": "markdown",
   "metadata": {},
   "source": [
    "### Two days tickets"
   ]
  },
  {
   "cell_type": "code",
   "execution_count": 24,
   "metadata": {
    "ExecuteTime": {
     "start_time": "2023-04-18T16:16:00.628710Z",
     "end_time": "2023-04-18T16:16:03.371273Z"
    }
   },
   "outputs": [
    {
     "data": {
      "text/plain": "48H-TPL 24,90-COMVE5,10      600320\n48ORE ONLINE NO AEROBUS       65389\n48HAERCS-TPL31,90-CVE5,10      9889\n48HAERAR-TPL37,90-CVE5,10      3312\n48ORE ONLINE AEROBUS CS        2386\n48ORE ONLINE AEROBUS AR        1532\nName: DESCRIZIONE_TITOLO, dtype: int64"
     },
     "execution_count": 24,
     "metadata": {},
     "output_type": "execute_result"
    }
   ],
   "source": [
    "# Which type of ticket are two-day tickets and how many are there?\n",
    "df[df['DESCRIZIONE_TITOLO'].str.contains('48H|48ORE|48 ORE')]['DESCRIZIONE_TITOLO'].value_counts()"
   ]
  },
  {
   "cell_type": "code",
   "execution_count": 25,
   "metadata": {
    "ExecuteTime": {
     "start_time": "2023-04-18T16:16:03.623804Z",
     "end_time": "2023-04-18T16:16:05.909000Z"
    }
   },
   "outputs": [],
   "source": [
    "# Populate the column 'TICKET_CODE' with the code of the ticket profile according to the ticket type and the ticket validity\n",
    "df.loc[df['DESCRIZIONE_TITOLO'].str.contains('48H|48ORE|48 ORE'), 'TICKET_CODE'] = '2'"
   ]
  },
  {
   "cell_type": "code",
   "execution_count": 26,
   "metadata": {
    "ExecuteTime": {
     "start_time": "2023-04-18T16:16:06.337787Z",
     "end_time": "2023-04-18T16:16:07.210370Z"
    }
   },
   "outputs": [
    {
     "name": "stdout",
     "output_type": "stream",
     "text": [
      "The number of two-day tickets is:  682828\n",
      "The number of tickets for each type of two-day ticket is: \n"
     ]
    },
    {
     "data": {
      "text/plain": "48H-TPL 24,90-COMVE5,10      600320\n48ORE ONLINE NO AEROBUS       65389\n48HAERCS-TPL31,90-CVE5,10      9889\n48HAERAR-TPL37,90-CVE5,10      3312\n48ORE ONLINE AEROBUS CS        2386\n48ORE ONLINE AEROBUS AR        1532\nName: DESCRIZIONE_TITOLO, dtype: int64"
     },
     "execution_count": 26,
     "metadata": {},
     "output_type": "execute_result"
    }
   ],
   "source": [
    "# TICKET_CODE = 2: Information about two-day tickets\n",
    "print(\"The number of two-day tickets is: \", df[df['TICKET_CODE'] == '2'].shape[0])\n",
    "print(\"The number of tickets for each type of two-day ticket is: \")\n",
    "df[df['TICKET_CODE'] == '2']['DESCRIZIONE_TITOLO'].value_counts()"
   ]
  },
  {
   "cell_type": "code",
   "execution_count": 27,
   "metadata": {
    "ExecuteTime": {
     "start_time": "2023-04-18T16:16:07.626328Z",
     "end_time": "2023-04-18T16:16:08.219217Z"
    }
   },
   "outputs": [
    {
     "name": "stdout",
     "output_type": "stream",
     "text": [
      "Information about the tickets with code 2 related to the serial number: \n"
     ]
    },
    {
     "data": {
      "text/plain": "                             count      mean       std  min  25%  50%    75%  \\\nDESCRIZIONE_TITOLO                                                             \n48H-TPL 24,90-COMVE5,10    94201.0  6.372756  3.520071  1.0  4.0  6.0   8.00   \n48HAERAR-TPL37,90-CVE5,10    405.0  8.177778  4.356968  1.0  5.0  7.0  11.00   \n48HAERCS-TPL31,90-CVE5,10   1378.0  7.176343  3.897204  1.0  4.0  7.0   9.00   \n48ORE ONLINE AEROBUS AR      200.0  7.660000  3.281500  2.0  5.0  7.0   9.25   \n48ORE ONLINE AEROBUS CS      344.0  6.936047  3.937038  1.0  4.0  7.0   9.00   \n48ORE ONLINE NO AEROBUS    10733.0  6.092332  3.450538  1.0  4.0  6.0   8.00   \n\n                            max  \nDESCRIZIONE_TITOLO               \n48H-TPL 24,90-COMVE5,10    68.0  \n48HAERAR-TPL37,90-CVE5,10  28.0  \n48HAERCS-TPL31,90-CVE5,10  23.0  \n48ORE ONLINE AEROBUS AR    19.0  \n48ORE ONLINE AEROBUS CS    25.0  \n48ORE ONLINE NO AEROBUS    37.0  ",
      "text/html": "<div>\n<style scoped>\n    .dataframe tbody tr th:only-of-type {\n        vertical-align: middle;\n    }\n\n    .dataframe tbody tr th {\n        vertical-align: top;\n    }\n\n    .dataframe thead th {\n        text-align: right;\n    }\n</style>\n<table border=\"1\" class=\"dataframe\">\n  <thead>\n    <tr style=\"text-align: right;\">\n      <th></th>\n      <th>count</th>\n      <th>mean</th>\n      <th>std</th>\n      <th>min</th>\n      <th>25%</th>\n      <th>50%</th>\n      <th>75%</th>\n      <th>max</th>\n    </tr>\n    <tr>\n      <th>DESCRIZIONE_TITOLO</th>\n      <th></th>\n      <th></th>\n      <th></th>\n      <th></th>\n      <th></th>\n      <th></th>\n      <th></th>\n      <th></th>\n    </tr>\n  </thead>\n  <tbody>\n    <tr>\n      <th>48H-TPL 24,90-COMVE5,10</th>\n      <td>94201.0</td>\n      <td>6.372756</td>\n      <td>3.520071</td>\n      <td>1.0</td>\n      <td>4.0</td>\n      <td>6.0</td>\n      <td>8.00</td>\n      <td>68.0</td>\n    </tr>\n    <tr>\n      <th>48HAERAR-TPL37,90-CVE5,10</th>\n      <td>405.0</td>\n      <td>8.177778</td>\n      <td>4.356968</td>\n      <td>1.0</td>\n      <td>5.0</td>\n      <td>7.0</td>\n      <td>11.00</td>\n      <td>28.0</td>\n    </tr>\n    <tr>\n      <th>48HAERCS-TPL31,90-CVE5,10</th>\n      <td>1378.0</td>\n      <td>7.176343</td>\n      <td>3.897204</td>\n      <td>1.0</td>\n      <td>4.0</td>\n      <td>7.0</td>\n      <td>9.00</td>\n      <td>23.0</td>\n    </tr>\n    <tr>\n      <th>48ORE ONLINE AEROBUS AR</th>\n      <td>200.0</td>\n      <td>7.660000</td>\n      <td>3.281500</td>\n      <td>2.0</td>\n      <td>5.0</td>\n      <td>7.0</td>\n      <td>9.25</td>\n      <td>19.0</td>\n    </tr>\n    <tr>\n      <th>48ORE ONLINE AEROBUS CS</th>\n      <td>344.0</td>\n      <td>6.936047</td>\n      <td>3.937038</td>\n      <td>1.0</td>\n      <td>4.0</td>\n      <td>7.0</td>\n      <td>9.00</td>\n      <td>25.0</td>\n    </tr>\n    <tr>\n      <th>48ORE ONLINE NO AEROBUS</th>\n      <td>10733.0</td>\n      <td>6.092332</td>\n      <td>3.450538</td>\n      <td>1.0</td>\n      <td>4.0</td>\n      <td>6.0</td>\n      <td>8.00</td>\n      <td>37.0</td>\n    </tr>\n  </tbody>\n</table>\n</div>"
     },
     "execution_count": 27,
     "metadata": {},
     "output_type": "execute_result"
    }
   ],
   "source": [
    "print(\"Information about the tickets with code 2 related to the serial number: \")\n",
    "df[df['TICKET_CODE'] == '2'].groupby('DESCRIZIONE_TITOLO')['SERIALE'].value_counts().groupby('DESCRIZIONE_TITOLO').describe()"
   ]
  },
  {
   "cell_type": "markdown",
   "metadata": {},
   "source": [
    "### Three days tickets"
   ]
  },
  {
   "cell_type": "code",
   "execution_count": 28,
   "metadata": {
    "ExecuteTime": {
     "start_time": "2023-04-18T16:16:08.619438Z",
     "end_time": "2023-04-18T16:16:11.404124Z"
    }
   },
   "outputs": [
    {
     "data": {
      "text/plain": "72H-TPL 33,40-COMVE6,60           492911\nBIGLIETTO 72 ORE ROLL. VENICE     170675\n72ORE ONLINE NO AEROBUS           108357\n72 ORE R.VENICE ONLINE             59982\n72 ORE R.VENICE+AEROPORTO CS       12018\n72HAERCS-TPL40,40-CVE6,60           9855\n72HAERAR-TPL46,40-CVE6,60           8152\n72H RVENICE+AEROP.CS ONLINE         6190\n72ORE ONLINE AEROBUS AR             6055\n72H R.VENICE+AEROP.AR ONLINE        5087\n72 ORE R.VENICE+AEROPORTO AR        4963\n72ORE ONLINE AEROBUS CS             4565\nATVO CANOVA+ACTV 72H ONLINE         2788\nT.FUSINA VE+ACTV 72 ORE             2691\nATVOCANOVA+ACTV 72HROLL.ONLINE      2260\nATVO CANOVA+ACTV 72H                1769\nCAV - TREP + ACTV 72H                544\nATVO CANOVA+ACTV 72H ROLLING           1\nName: DESCRIZIONE_TITOLO, dtype: int64"
     },
     "execution_count": 28,
     "metadata": {},
     "output_type": "execute_result"
    }
   ],
   "source": [
    "# Which type of ticket are three-day tickets and how many are there?\n",
    "# Do not consider the ticket that contains also 75\n",
    "df[df['DESCRIZIONE_TITOLO'].str.contains('72H|72ORE|72 ORE')]['DESCRIZIONE_TITOLO'].value_counts()"
   ]
  },
  {
   "cell_type": "code",
   "execution_count": 29,
   "metadata": {
    "ExecuteTime": {
     "start_time": "2023-04-18T16:16:11.675945Z",
     "end_time": "2023-04-18T16:16:14.161382Z"
    }
   },
   "outputs": [],
   "source": [
    "# Populate the column 'TICKET_CODE' with the code of the ticket profile according to the ticket type and the ticket validity\n",
    "df.loc[df['DESCRIZIONE_TITOLO'].str.contains('72H|72ORE|72 ORE'), 'TICKET_CODE'] = '3'"
   ]
  },
  {
   "cell_type": "code",
   "execution_count": 30,
   "metadata": {
    "ExecuteTime": {
     "start_time": "2023-04-18T16:16:14.590076Z",
     "end_time": "2023-04-18T16:16:15.560109Z"
    }
   },
   "outputs": [
    {
     "name": "stdout",
     "output_type": "stream",
     "text": [
      "The number of three-day tickets is:  898863\n",
      "The number of tickets for each type of three-day ticket is: \n"
     ]
    },
    {
     "data": {
      "text/plain": "72H-TPL 33,40-COMVE6,60           492911\nBIGLIETTO 72 ORE ROLL. VENICE     170675\n72ORE ONLINE NO AEROBUS           108357\n72 ORE R.VENICE ONLINE             59982\n72 ORE R.VENICE+AEROPORTO CS       12018\n72HAERCS-TPL40,40-CVE6,60           9855\n72HAERAR-TPL46,40-CVE6,60           8152\n72H RVENICE+AEROP.CS ONLINE         6190\n72ORE ONLINE AEROBUS AR             6055\n72H R.VENICE+AEROP.AR ONLINE        5087\n72 ORE R.VENICE+AEROPORTO AR        4963\n72ORE ONLINE AEROBUS CS             4565\nATVO CANOVA+ACTV 72H ONLINE         2788\nT.FUSINA VE+ACTV 72 ORE             2691\nATVOCANOVA+ACTV 72HROLL.ONLINE      2260\nATVO CANOVA+ACTV 72H                1769\nCAV - TREP + ACTV 72H                544\nATVO CANOVA+ACTV 72H ROLLING           1\nName: DESCRIZIONE_TITOLO, dtype: int64"
     },
     "execution_count": 30,
     "metadata": {},
     "output_type": "execute_result"
    }
   ],
   "source": [
    "# TICKET_CODE = 3: Information about three-day tickets\n",
    "print(\"The number of three-day tickets is: \", df[df['TICKET_CODE'] == '3'].shape[0])\n",
    "print(\"The number of tickets for each type of three-day ticket is: \")\n",
    "df[df['TICKET_CODE'] == '3']['DESCRIZIONE_TITOLO'].value_counts()"
   ]
  },
  {
   "cell_type": "code",
   "execution_count": 31,
   "metadata": {
    "ExecuteTime": {
     "start_time": "2023-04-18T16:16:15.982903Z",
     "end_time": "2023-04-18T16:16:16.797246Z"
    }
   },
   "outputs": [
    {
     "name": "stdout",
     "output_type": "stream",
     "text": [
      "Information about the tickets with code 3 related to the serial number: \n"
     ]
    },
    {
     "data": {
      "text/plain": "                                  count       mean       std  min  25%   50%  \\\nDESCRIZIONE_TITOLO                                                             \n72 ORE R.VENICE ONLINE           7418.0   8.086007  4.727938  1.0  5.0   7.0   \n72 ORE R.VENICE+AEROPORTO AR      515.0   9.636893  4.598913  1.0  7.0   9.0   \n72 ORE R.VENICE+AEROPORTO CS     1338.0   8.982063  4.823866  1.0  5.0   8.0   \n72H R.VENICE+AEROP.AR ONLINE      496.0  10.256048  5.270938  1.0  7.0  10.0   \n72H RVENICE+AEROP.CS ONLINE       670.0   9.238806  4.770016  1.0  6.0   9.0   \n72H-TPL 33,40-COMVE6,60         59213.0   8.324371  4.569172  1.0  5.0   8.0   \n72HAERAR-TPL46,40-CVE6,60         809.0  10.076638  4.653494  1.0  7.0   9.0   \n72HAERCS-TPL40,40-CVE6,60        1048.0   9.403626  4.767394  1.0  6.0   9.0   \n72ORE ONLINE AEROBUS AR           610.0   9.926230  4.843305  1.0  7.0   9.0   \n72ORE ONLINE AEROBUS CS           471.0   9.692144  4.993690  1.0  6.0   9.0   \n72ORE ONLINE NO AEROBUS         13423.0   8.072488  4.433573  1.0  5.0   7.0   \nATVO CANOVA+ACTV 72H              213.0   8.305164  4.610879  1.0  5.0   7.0   \nATVO CANOVA+ACTV 72H ONLINE       298.0   9.355705  5.335320  1.0  6.0   8.0   \nATVO CANOVA+ACTV 72H ROLLING        1.0   1.000000       NaN  1.0  1.0   1.0   \nATVOCANOVA+ACTV 72HROLL.ONLINE    232.0   9.741379  5.201766  1.0  6.0   9.0   \nBIGLIETTO 72 ORE ROLL. VENICE   21866.0   7.805497  4.399997  1.0  5.0   7.0   \nCAV - TREP + ACTV 72H              56.0   9.714286  2.852204  1.0  8.0  10.0   \nT.FUSINA VE+ACTV 72 ORE           360.0   7.475000  5.271402  1.0  4.0   7.0   \n\n                                 75%    max  \nDESCRIZIONE_TITOLO                           \n72 ORE R.VENICE ONLINE          11.0  113.0  \n72 ORE R.VENICE+AEROPORTO AR    13.0   26.0  \n72 ORE R.VENICE+AEROPORTO CS    12.0   28.0  \n72H R.VENICE+AEROP.AR ONLINE    13.0   29.0  \n72H RVENICE+AEROP.CS ONLINE     12.0   35.0  \n72H-TPL 33,40-COMVE6,60         11.0  109.0  \n72HAERAR-TPL46,40-CVE6,60       13.0   27.0  \n72HAERCS-TPL40,40-CVE6,60       12.0   27.0  \n72ORE ONLINE AEROBUS AR         13.0   25.0  \n72ORE ONLINE AEROBUS CS         12.0   35.0  \n72ORE ONLINE NO AEROBUS         11.0   35.0  \nATVO CANOVA+ACTV 72H            11.0   24.0  \nATVO CANOVA+ACTV 72H ONLINE     13.0   33.0  \nATVO CANOVA+ACTV 72H ROLLING     1.0    1.0  \nATVOCANOVA+ACTV 72HROLL.ONLINE  13.0   25.0  \nBIGLIETTO 72 ORE ROLL. VENICE   10.0   68.0  \nCAV - TREP + ACTV 72H           12.0   15.0  \nT.FUSINA VE+ACTV 72 ORE          9.0   75.0  ",
      "text/html": "<div>\n<style scoped>\n    .dataframe tbody tr th:only-of-type {\n        vertical-align: middle;\n    }\n\n    .dataframe tbody tr th {\n        vertical-align: top;\n    }\n\n    .dataframe thead th {\n        text-align: right;\n    }\n</style>\n<table border=\"1\" class=\"dataframe\">\n  <thead>\n    <tr style=\"text-align: right;\">\n      <th></th>\n      <th>count</th>\n      <th>mean</th>\n      <th>std</th>\n      <th>min</th>\n      <th>25%</th>\n      <th>50%</th>\n      <th>75%</th>\n      <th>max</th>\n    </tr>\n    <tr>\n      <th>DESCRIZIONE_TITOLO</th>\n      <th></th>\n      <th></th>\n      <th></th>\n      <th></th>\n      <th></th>\n      <th></th>\n      <th></th>\n      <th></th>\n    </tr>\n  </thead>\n  <tbody>\n    <tr>\n      <th>72 ORE R.VENICE ONLINE</th>\n      <td>7418.0</td>\n      <td>8.086007</td>\n      <td>4.727938</td>\n      <td>1.0</td>\n      <td>5.0</td>\n      <td>7.0</td>\n      <td>11.0</td>\n      <td>113.0</td>\n    </tr>\n    <tr>\n      <th>72 ORE R.VENICE+AEROPORTO AR</th>\n      <td>515.0</td>\n      <td>9.636893</td>\n      <td>4.598913</td>\n      <td>1.0</td>\n      <td>7.0</td>\n      <td>9.0</td>\n      <td>13.0</td>\n      <td>26.0</td>\n    </tr>\n    <tr>\n      <th>72 ORE R.VENICE+AEROPORTO CS</th>\n      <td>1338.0</td>\n      <td>8.982063</td>\n      <td>4.823866</td>\n      <td>1.0</td>\n      <td>5.0</td>\n      <td>8.0</td>\n      <td>12.0</td>\n      <td>28.0</td>\n    </tr>\n    <tr>\n      <th>72H R.VENICE+AEROP.AR ONLINE</th>\n      <td>496.0</td>\n      <td>10.256048</td>\n      <td>5.270938</td>\n      <td>1.0</td>\n      <td>7.0</td>\n      <td>10.0</td>\n      <td>13.0</td>\n      <td>29.0</td>\n    </tr>\n    <tr>\n      <th>72H RVENICE+AEROP.CS ONLINE</th>\n      <td>670.0</td>\n      <td>9.238806</td>\n      <td>4.770016</td>\n      <td>1.0</td>\n      <td>6.0</td>\n      <td>9.0</td>\n      <td>12.0</td>\n      <td>35.0</td>\n    </tr>\n    <tr>\n      <th>72H-TPL 33,40-COMVE6,60</th>\n      <td>59213.0</td>\n      <td>8.324371</td>\n      <td>4.569172</td>\n      <td>1.0</td>\n      <td>5.0</td>\n      <td>8.0</td>\n      <td>11.0</td>\n      <td>109.0</td>\n    </tr>\n    <tr>\n      <th>72HAERAR-TPL46,40-CVE6,60</th>\n      <td>809.0</td>\n      <td>10.076638</td>\n      <td>4.653494</td>\n      <td>1.0</td>\n      <td>7.0</td>\n      <td>9.0</td>\n      <td>13.0</td>\n      <td>27.0</td>\n    </tr>\n    <tr>\n      <th>72HAERCS-TPL40,40-CVE6,60</th>\n      <td>1048.0</td>\n      <td>9.403626</td>\n      <td>4.767394</td>\n      <td>1.0</td>\n      <td>6.0</td>\n      <td>9.0</td>\n      <td>12.0</td>\n      <td>27.0</td>\n    </tr>\n    <tr>\n      <th>72ORE ONLINE AEROBUS AR</th>\n      <td>610.0</td>\n      <td>9.926230</td>\n      <td>4.843305</td>\n      <td>1.0</td>\n      <td>7.0</td>\n      <td>9.0</td>\n      <td>13.0</td>\n      <td>25.0</td>\n    </tr>\n    <tr>\n      <th>72ORE ONLINE AEROBUS CS</th>\n      <td>471.0</td>\n      <td>9.692144</td>\n      <td>4.993690</td>\n      <td>1.0</td>\n      <td>6.0</td>\n      <td>9.0</td>\n      <td>12.0</td>\n      <td>35.0</td>\n    </tr>\n    <tr>\n      <th>72ORE ONLINE NO AEROBUS</th>\n      <td>13423.0</td>\n      <td>8.072488</td>\n      <td>4.433573</td>\n      <td>1.0</td>\n      <td>5.0</td>\n      <td>7.0</td>\n      <td>11.0</td>\n      <td>35.0</td>\n    </tr>\n    <tr>\n      <th>ATVO CANOVA+ACTV 72H</th>\n      <td>213.0</td>\n      <td>8.305164</td>\n      <td>4.610879</td>\n      <td>1.0</td>\n      <td>5.0</td>\n      <td>7.0</td>\n      <td>11.0</td>\n      <td>24.0</td>\n    </tr>\n    <tr>\n      <th>ATVO CANOVA+ACTV 72H ONLINE</th>\n      <td>298.0</td>\n      <td>9.355705</td>\n      <td>5.335320</td>\n      <td>1.0</td>\n      <td>6.0</td>\n      <td>8.0</td>\n      <td>13.0</td>\n      <td>33.0</td>\n    </tr>\n    <tr>\n      <th>ATVO CANOVA+ACTV 72H ROLLING</th>\n      <td>1.0</td>\n      <td>1.000000</td>\n      <td>NaN</td>\n      <td>1.0</td>\n      <td>1.0</td>\n      <td>1.0</td>\n      <td>1.0</td>\n      <td>1.0</td>\n    </tr>\n    <tr>\n      <th>ATVOCANOVA+ACTV 72HROLL.ONLINE</th>\n      <td>232.0</td>\n      <td>9.741379</td>\n      <td>5.201766</td>\n      <td>1.0</td>\n      <td>6.0</td>\n      <td>9.0</td>\n      <td>13.0</td>\n      <td>25.0</td>\n    </tr>\n    <tr>\n      <th>BIGLIETTO 72 ORE ROLL. VENICE</th>\n      <td>21866.0</td>\n      <td>7.805497</td>\n      <td>4.399997</td>\n      <td>1.0</td>\n      <td>5.0</td>\n      <td>7.0</td>\n      <td>10.0</td>\n      <td>68.0</td>\n    </tr>\n    <tr>\n      <th>CAV - TREP + ACTV 72H</th>\n      <td>56.0</td>\n      <td>9.714286</td>\n      <td>2.852204</td>\n      <td>1.0</td>\n      <td>8.0</td>\n      <td>10.0</td>\n      <td>12.0</td>\n      <td>15.0</td>\n    </tr>\n    <tr>\n      <th>T.FUSINA VE+ACTV 72 ORE</th>\n      <td>360.0</td>\n      <td>7.475000</td>\n      <td>5.271402</td>\n      <td>1.0</td>\n      <td>4.0</td>\n      <td>7.0</td>\n      <td>9.0</td>\n      <td>75.0</td>\n    </tr>\n  </tbody>\n</table>\n</div>"
     },
     "execution_count": 31,
     "metadata": {},
     "output_type": "execute_result"
    }
   ],
   "source": [
    "print(\"Information about the tickets with code 3 related to the serial number: \")\n",
    "df[df['TICKET_CODE'] == '3'].groupby('DESCRIZIONE_TITOLO')['SERIALE'].value_counts().groupby('DESCRIZIONE_TITOLO').describe()"
   ]
  },
  {
   "cell_type": "markdown",
   "metadata": {},
   "source": [
    "### Seven days tickets"
   ]
  },
  {
   "cell_type": "code",
   "execution_count": 32,
   "metadata": {
    "ExecuteTime": {
     "start_time": "2023-04-18T16:16:16.915782Z",
     "end_time": "2023-04-18T16:16:20.480680Z"
    }
   },
   "outputs": [
    {
     "data": {
      "text/plain": "7GG-TPL 43,60-COMVE16,40      342870\n7 DAYS ONLINE NO AEROBUS      101869\n7GGAERAR-TPL56,60-CVE16,40     13902\n7 DAYS ONLINE AEROBUS AR       13366\n7GGAERCS-TPL50,60-CVE16,40      6295\n7 DAYS ONLINE AEROBUS CS        3933\nName: DESCRIZIONE_TITOLO, dtype: int64"
     },
     "execution_count": 32,
     "metadata": {},
     "output_type": "execute_result"
    }
   ],
   "source": [
    "# Which type of ticket are weekly tickets and how many are there?\n",
    "# Exclude the tickets that contains also 72, 75 that are three-day tickets, 17, 48h, 57 that are other types of tickets and\n",
    "# 'tratt*' and 'tr' that are reserved to specific routes\n",
    "df[df['DESCRIZIONE_TITOLO'].str.contains('7GG|7DAYS|7 DAYS')]['DESCRIZIONE_TITOLO'].value_counts()"
   ]
  },
  {
   "cell_type": "code",
   "execution_count": 33,
   "metadata": {
    "ExecuteTime": {
     "start_time": "2023-04-18T16:16:20.803521Z",
     "end_time": "2023-04-18T16:16:23.481429Z"
    }
   },
   "outputs": [],
   "source": [
    "# Populate the column 'TICKET_CODE' with the code of the ticket profile according to the ticket type and the ticket validity\n",
    "df.loc[df['DESCRIZIONE_TITOLO'].str.contains('7GG|7DAYS|7 DAYS'), 'TICKET_CODE'] = '4'"
   ]
  },
  {
   "cell_type": "code",
   "execution_count": 34,
   "metadata": {
    "ExecuteTime": {
     "start_time": "2023-04-18T16:16:23.921733Z",
     "end_time": "2023-04-18T16:16:24.686692Z"
    }
   },
   "outputs": [
    {
     "name": "stdout",
     "output_type": "stream",
     "text": [
      "The number of weekly tickets is:  482235\n",
      "The number of tickets for each type of weekly ticket is: \n"
     ]
    },
    {
     "data": {
      "text/plain": "7GG-TPL 43,60-COMVE16,40      342870\n7 DAYS ONLINE NO AEROBUS      101869\n7GGAERAR-TPL56,60-CVE16,40     13902\n7 DAYS ONLINE AEROBUS AR       13366\n7GGAERCS-TPL50,60-CVE16,40      6295\n7 DAYS ONLINE AEROBUS CS        3933\nName: DESCRIZIONE_TITOLO, dtype: int64"
     },
     "execution_count": 34,
     "metadata": {},
     "output_type": "execute_result"
    }
   ],
   "source": [
    "# TICKET_CODE = 4: Information about weekly tickets\n",
    "print(\"The number of weekly tickets is: \", df[df['TICKET_CODE'] == '4'].shape[0])\n",
    "print(\"The number of tickets for each type of weekly ticket is: \")\n",
    "df[df['TICKET_CODE'] == '4']['DESCRIZIONE_TITOLO'].value_counts()"
   ]
  },
  {
   "cell_type": "code",
   "execution_count": 35,
   "metadata": {
    "ExecuteTime": {
     "start_time": "2023-04-18T16:16:25.123083Z",
     "end_time": "2023-04-18T16:16:25.551306Z"
    }
   },
   "outputs": [
    {
     "name": "stdout",
     "output_type": "stream",
     "text": [
      "Information about the tickets with code 4 related to the serial number: \n"
     ]
    },
    {
     "data": {
      "text/plain": "                              count       mean       std  min   25%   50%  \\\nDESCRIZIONE_TITOLO                                                          \n7 DAYS ONLINE AEROBUS AR      910.0  14.687912  8.249103  1.0   9.0  14.0   \n7 DAYS ONLINE AEROBUS CS      265.0  14.841509  8.184275  1.0  10.0  14.0   \n7 DAYS ONLINE NO AEROBUS     7815.0  13.035061  7.271917  1.0   8.0  12.0   \n7GG-TPL 43,60-COMVE16,40    24879.0  13.781502  7.986574  1.0   8.0  13.0   \n7GGAERAR-TPL56,60-CVE16,40    881.0  15.779796  7.995402  1.0  10.0  15.0   \n7GGAERCS-TPL50,60-CVE16,40    420.0  14.988095  8.377567  1.0   9.0  14.5   \n\n                             75%    max  \nDESCRIZIONE_TITOLO                       \n7 DAYS ONLINE AEROBUS AR    19.0   53.0  \n7 DAYS ONLINE AEROBUS CS    19.0   47.0  \n7 DAYS ONLINE NO AEROBUS    17.0   57.0  \n7GG-TPL 43,60-COMVE16,40    18.0  121.0  \n7GGAERAR-TPL56,60-CVE16,40  21.0   46.0  \n7GGAERCS-TPL50,60-CVE16,40  20.0   57.0  ",
      "text/html": "<div>\n<style scoped>\n    .dataframe tbody tr th:only-of-type {\n        vertical-align: middle;\n    }\n\n    .dataframe tbody tr th {\n        vertical-align: top;\n    }\n\n    .dataframe thead th {\n        text-align: right;\n    }\n</style>\n<table border=\"1\" class=\"dataframe\">\n  <thead>\n    <tr style=\"text-align: right;\">\n      <th></th>\n      <th>count</th>\n      <th>mean</th>\n      <th>std</th>\n      <th>min</th>\n      <th>25%</th>\n      <th>50%</th>\n      <th>75%</th>\n      <th>max</th>\n    </tr>\n    <tr>\n      <th>DESCRIZIONE_TITOLO</th>\n      <th></th>\n      <th></th>\n      <th></th>\n      <th></th>\n      <th></th>\n      <th></th>\n      <th></th>\n      <th></th>\n    </tr>\n  </thead>\n  <tbody>\n    <tr>\n      <th>7 DAYS ONLINE AEROBUS AR</th>\n      <td>910.0</td>\n      <td>14.687912</td>\n      <td>8.249103</td>\n      <td>1.0</td>\n      <td>9.0</td>\n      <td>14.0</td>\n      <td>19.0</td>\n      <td>53.0</td>\n    </tr>\n    <tr>\n      <th>7 DAYS ONLINE AEROBUS CS</th>\n      <td>265.0</td>\n      <td>14.841509</td>\n      <td>8.184275</td>\n      <td>1.0</td>\n      <td>10.0</td>\n      <td>14.0</td>\n      <td>19.0</td>\n      <td>47.0</td>\n    </tr>\n    <tr>\n      <th>7 DAYS ONLINE NO AEROBUS</th>\n      <td>7815.0</td>\n      <td>13.035061</td>\n      <td>7.271917</td>\n      <td>1.0</td>\n      <td>8.0</td>\n      <td>12.0</td>\n      <td>17.0</td>\n      <td>57.0</td>\n    </tr>\n    <tr>\n      <th>7GG-TPL 43,60-COMVE16,40</th>\n      <td>24879.0</td>\n      <td>13.781502</td>\n      <td>7.986574</td>\n      <td>1.0</td>\n      <td>8.0</td>\n      <td>13.0</td>\n      <td>18.0</td>\n      <td>121.0</td>\n    </tr>\n    <tr>\n      <th>7GGAERAR-TPL56,60-CVE16,40</th>\n      <td>881.0</td>\n      <td>15.779796</td>\n      <td>7.995402</td>\n      <td>1.0</td>\n      <td>10.0</td>\n      <td>15.0</td>\n      <td>21.0</td>\n      <td>46.0</td>\n    </tr>\n    <tr>\n      <th>7GGAERCS-TPL50,60-CVE16,40</th>\n      <td>420.0</td>\n      <td>14.988095</td>\n      <td>8.377567</td>\n      <td>1.0</td>\n      <td>9.0</td>\n      <td>14.5</td>\n      <td>20.0</td>\n      <td>57.0</td>\n    </tr>\n  </tbody>\n</table>\n</div>"
     },
     "execution_count": 35,
     "metadata": {},
     "output_type": "execute_result"
    }
   ],
   "source": [
    "print(\"Information about the tickets with code 4 related to the serial number: \")\n",
    "df[df['TICKET_CODE'] == '4'].groupby('DESCRIZIONE_TITOLO')['SERIALE'].value_counts().groupby('DESCRIZIONE_TITOLO').describe()"
   ]
  },
  {
   "cell_type": "markdown",
   "metadata": {},
   "source": [
    "### Monthly tickets"
   ]
  },
  {
   "cell_type": "code",
   "execution_count": 36,
   "metadata": {
    "ExecuteTime": {
     "start_time": "2023-04-18T16:16:25.973470Z",
     "end_time": "2023-04-18T16:16:30.232472Z"
    }
   },
   "outputs": [
    {
     "data": {
      "text/plain": "ABBONAMENTO 30 GG.PEOPLEMOVER    1509\nMENS. COSE ANIMALI RETE UNICA      48\nName: DESCRIZIONE_TITOLO, dtype: int64"
     },
     "execution_count": 36,
     "metadata": {},
     "output_type": "execute_result"
    }
   ],
   "source": [
    "# Whick type of ticket are monthly tickets and how many are there?\n",
    "df[df['DESCRIZIONE_TITOLO'].str.contains('MENSILE|30GG|30 GG|MENS')]['DESCRIZIONE_TITOLO'].value_counts()"
   ]
  },
  {
   "cell_type": "code",
   "execution_count": 37,
   "metadata": {
    "ExecuteTime": {
     "start_time": "2023-04-18T16:16:30.398461Z",
     "end_time": "2023-04-18T16:16:34.442868Z"
    }
   },
   "outputs": [],
   "source": [
    "# Populate the column 'TICKET_CODE' with the code of the ticket profile according to the ticket type and the ticket validity\n",
    "df.loc[df['DESCRIZIONE_TITOLO'].str.contains('MENSILE|30GG|30 GG|MENS'), 'TICKET_CODE'] = '5'"
   ]
  },
  {
   "cell_type": "code",
   "execution_count": 38,
   "metadata": {
    "ExecuteTime": {
     "start_time": "2023-04-18T16:16:35.268142Z",
     "end_time": "2023-04-18T16:16:45.570932Z"
    }
   },
   "outputs": [],
   "source": [
    "# If DESCRIZIONE_TITOLO contains 'STUDENTE' or 'STUD' update the column 'TICKET_CODE' with '5-STUD' only for the tickets with code 5\n",
    "df.loc[(df['TICKET_CODE'] == '5') & (df['DESCRIZIONE_TITOLO'].str.contains('STUDENTE|STUD|STUD')), 'TICKET_CODE'] = '5-STUD'\n",
    "# If DESCRIZIONE_TITOLO contains 'LAVORATORE' or 'LAV' update the column 'TICKET_CODE' with '5-WKRS' only for the tickets with code 5\n",
    "df.loc[(df['TICKET_CODE'] == '5') & (df['DESCRIZIONE_TITOLO'].str.contains('LAVORATORE|LAV|LAV')), 'TICKET_CODE'] = '5-WKRS'\n",
    "# If DESCRIZIONE_TITOLO contains 'OVER 65' or '65+' or 'PENSIONATI' update the column 'TICKET_CODE' with '5-RET' only for the tickets with code 5\n",
    "df.loc[(df['TICKET_CODE'] == '5') & (df['DESCRIZIONE_TITOLO'].str.contains('OVER 65|65+|PENSIONATI')), 'TICKET_CODE'] = '5-RET'"
   ]
  },
  {
   "cell_type": "code",
   "execution_count": 39,
   "metadata": {
    "ExecuteTime": {
     "start_time": "2023-04-18T16:16:45.935712Z",
     "end_time": "2023-04-18T16:16:48.104618Z"
    }
   },
   "outputs": [
    {
     "data": {
      "text/plain": "Series([], Name: DESCRIZIONE_TITOLO, dtype: int64)"
     },
     "execution_count": 39,
     "metadata": {},
     "output_type": "execute_result"
    }
   ],
   "source": [
    "# According to the page of agevolation of specific categories of people available at the site web of ACTV \n",
    "# (https://actv.avmspa.it/it/content/categorie-agevolate-0), the DDRG 1201-1297/2022 tickets are monthly tickets for blind people\n",
    "\n",
    "# Which type of ticket are yearly tickets for blind people and how many are there?\n",
    "df[df['DESCRIZIONE_TITOLO'].str.contains('DDGR1201-1297/2022')]['DESCRIZIONE_TITOLO'].value_counts()"
   ]
  },
  {
   "cell_type": "code",
   "execution_count": 40,
   "metadata": {
    "ExecuteTime": {
     "start_time": "2023-04-18T16:16:48.424459Z",
     "end_time": "2023-04-18T16:16:50.497964Z"
    }
   },
   "outputs": [],
   "source": [
    "# Populate the column 'TICKET_CODE' with the code of the ticket profile according to the ticket type and the ticket validity\n",
    "df.loc[df['DESCRIZIONE_TITOLO'].str.contains('DDGR1201-1297/2022'), 'TICKET_CODE'] = '5'"
   ]
  },
  {
   "cell_type": "code",
   "execution_count": 41,
   "metadata": {
    "ExecuteTime": {
     "start_time": "2023-04-18T16:16:50.946172Z",
     "end_time": "2023-04-18T16:16:52.389672Z"
    }
   },
   "outputs": [
    {
     "name": "stdout",
     "output_type": "stream",
     "text": [
      "The number of monthly tickets is:  1557\n",
      "The number of monthly tickets for students is:  0\n",
      "The number of monthly tickets for workers is:  0\n",
      "The number of monthly tickets for retired people is:  0\n",
      "The number of tickets for each type of monthly ticket (including the subtypes) is: \n"
     ]
    },
    {
     "data": {
      "text/plain": "TICKET_CODE  DESCRIZIONE_TITOLO           \n5            ABBONAMENTO 30 GG.PEOPLEMOVER    1509\n             MENS. COSE ANIMALI RETE UNICA      48\nName: DESCRIZIONE_TITOLO, dtype: int64"
     },
     "execution_count": 41,
     "metadata": {},
     "output_type": "execute_result"
    }
   ],
   "source": [
    "# TICKET_CODE = 5: Information about monthly tickets\n",
    "print(\"The number of monthly tickets is: \", df[df['TICKET_CODE'] == '5'].shape[0])\n",
    "print(\"The number of monthly tickets for students is: \", df[df['TICKET_CODE'] == '5-STUD'].shape[0])\n",
    "print(\"The number of monthly tickets for workers is: \", df[df['TICKET_CODE'] == '5-WKRS'].shape[0])\n",
    "print(\"The number of monthly tickets for retired people is: \", df[df['TICKET_CODE'] == '5-RET'].shape[0])\n",
    "\n",
    "print(\"The number of tickets for each type of monthly ticket (including the subtypes) is: \")\n",
    "df[df['TICKET_CODE'].isin(['5', '5-STUD', '5-WKRS', '5-RET'])].groupby('TICKET_CODE')['DESCRIZIONE_TITOLO'].value_counts()"
   ]
  },
  {
   "cell_type": "code",
   "execution_count": 42,
   "metadata": {
    "ExecuteTime": {
     "start_time": "2023-04-18T16:16:52.584198Z",
     "end_time": "2023-04-18T16:16:52.635103Z"
    }
   },
   "outputs": [
    {
     "name": "stdout",
     "output_type": "stream",
     "text": [
      "Information about the tickets with code 5 (including the subtypes) related to the serial number: \n"
     ]
    },
    {
     "data": {
      "text/plain": "                                           count      mean        std  min  \\\nTICKET_CODE DESCRIZIONE_TITOLO                                               \n5           ABBONAMENTO 30 GG.PEOPLEMOVER  223.0  6.766816  11.755366  1.0   \n            MENS. COSE ANIMALI RETE UNICA    5.0  9.600000   8.848729  1.0   \n\n                                           25%   50%   75%   max  \nTICKET_CODE DESCRIZIONE_TITOLO                                    \n5           ABBONAMENTO 30 GG.PEOPLEMOVER  1.0   1.0   4.0  58.0  \n            MENS. COSE ANIMALI RETE UNICA  1.0  12.0  12.0  22.0  ",
      "text/html": "<div>\n<style scoped>\n    .dataframe tbody tr th:only-of-type {\n        vertical-align: middle;\n    }\n\n    .dataframe tbody tr th {\n        vertical-align: top;\n    }\n\n    .dataframe thead th {\n        text-align: right;\n    }\n</style>\n<table border=\"1\" class=\"dataframe\">\n  <thead>\n    <tr style=\"text-align: right;\">\n      <th></th>\n      <th></th>\n      <th>count</th>\n      <th>mean</th>\n      <th>std</th>\n      <th>min</th>\n      <th>25%</th>\n      <th>50%</th>\n      <th>75%</th>\n      <th>max</th>\n    </tr>\n    <tr>\n      <th>TICKET_CODE</th>\n      <th>DESCRIZIONE_TITOLO</th>\n      <th></th>\n      <th></th>\n      <th></th>\n      <th></th>\n      <th></th>\n      <th></th>\n      <th></th>\n      <th></th>\n    </tr>\n  </thead>\n  <tbody>\n    <tr>\n      <th rowspan=\"2\" valign=\"top\">5</th>\n      <th>ABBONAMENTO 30 GG.PEOPLEMOVER</th>\n      <td>223.0</td>\n      <td>6.766816</td>\n      <td>11.755366</td>\n      <td>1.0</td>\n      <td>1.0</td>\n      <td>1.0</td>\n      <td>4.0</td>\n      <td>58.0</td>\n    </tr>\n    <tr>\n      <th>MENS. COSE ANIMALI RETE UNICA</th>\n      <td>5.0</td>\n      <td>9.600000</td>\n      <td>8.848729</td>\n      <td>1.0</td>\n      <td>1.0</td>\n      <td>12.0</td>\n      <td>12.0</td>\n      <td>22.0</td>\n    </tr>\n  </tbody>\n</table>\n</div>"
     },
     "execution_count": 42,
     "metadata": {},
     "output_type": "execute_result"
    }
   ],
   "source": [
    "print(\"Information about the tickets with code 5 (including the subtypes) related to the serial number: \")\n",
    "df[df['TICKET_CODE'].isin(['5', '5-STUD', '5-WKRS', '5-RET'])].groupby(['TICKET_CODE', 'DESCRIZIONE_TITOLO'])['SERIALE'].value_counts().groupby(['TICKET_CODE', 'DESCRIZIONE_TITOLO']).describe()"
   ]
  },
  {
   "cell_type": "markdown",
   "metadata": {},
   "source": [
    "### Yearly tickets"
   ]
  },
  {
   "cell_type": "code",
   "execution_count": 43,
   "metadata": {
    "ExecuteTime": {
     "start_time": "2023-04-18T16:16:52.624496Z",
     "end_time": "2023-04-18T16:16:57.189379Z"
    }
   },
   "outputs": [
    {
     "data": {
      "text/plain": "Series([], Name: DESCRIZIONE_TITOLO, dtype: int64)"
     },
     "execution_count": 43,
     "metadata": {},
     "output_type": "execute_result"
    }
   ],
   "source": [
    "# Which type of ticket are yearly tickets and how many are there?\n",
    "df[df['DESCRIZIONE_TITOLO'].str.contains('ANNUALE|ANN|12MESI|12 MESI')]['DESCRIZIONE_TITOLO'].value_counts()"
   ]
  },
  {
   "cell_type": "code",
   "execution_count": 44,
   "metadata": {
    "ExecuteTime": {
     "start_time": "2023-04-18T16:16:57.484812Z",
     "end_time": "2023-04-18T16:17:01.369072Z"
    }
   },
   "outputs": [],
   "source": [
    "# Populate the column 'TICKET_CODE' with the code of the ticket profile according to the ticket type and the ticket validity\n",
    "df.loc[df['DESCRIZIONE_TITOLO'].str.contains('ANNUALE|ANN|12MESI|12 MESI'), 'TICKET_CODE'] = '6'"
   ]
  },
  {
   "cell_type": "code",
   "execution_count": 45,
   "metadata": {
    "ExecuteTime": {
     "start_time": "2023-04-18T16:17:01.721395Z",
     "end_time": "2023-04-18T16:17:11.060325Z"
    }
   },
   "outputs": [],
   "source": [
    "# If DESCRIZIONE_TITOLO contains 'STUDENTE' or 'STUD' update the column 'TICKET_CODE' with '6-STUD' only for the tickets with code 6\n",
    "df.loc[(df['TICKET_CODE'] == '6') & (df['DESCRIZIONE_TITOLO'].str.contains('STUDENTE|STUD|STUD')), 'TICKET_CODE'] = '6-STUD'\n",
    "# If DESCRIZIONE_TITOLO contains 'LAVORATORE' or 'LAV' update the column 'TICKET_CODE' with '6-WKRS' only for the tickets with code 6\n",
    "df.loc[(df['TICKET_CODE'] == '6') & (df['DESCRIZIONE_TITOLO'].str.contains('LAVORATORE|LAV|LAV')), 'TICKET_CODE'] = '6-WKRS'\n",
    "# If DESCRIZIONE_TITOLO contains 'OVER 65' or '65+' or 'PENSIONATI' update the column 'TICKET_CODE' with '6-RET' only for the tickets with code 6\n",
    "df.loc[(df['TICKET_CODE'] == '6') & (df['DESCRIZIONE_TITOLO'].str.contains('OVER 65|65+|PENSIONATI')), 'TICKET_CODE'] = '6-RET'"
   ]
  },
  {
   "cell_type": "code",
   "execution_count": 46,
   "metadata": {
    "ExecuteTime": {
     "start_time": "2023-04-18T16:17:11.355317Z",
     "end_time": "2023-04-18T16:17:15.490877Z"
    }
   },
   "outputs": [
    {
     "data": {
      "text/plain": "Series([], Name: DESCRIZIONE_TITOLO, dtype: int64)"
     },
     "execution_count": 46,
     "metadata": {},
     "output_type": "execute_result"
    }
   ],
   "source": [
    "# According to the page of agevolation of specific categories of people available at the site web of ACTV \n",
    "# (https://actv.avmspa.it/it/content/categorie-agevolate-0), the for OVER 75 are yearly tickets for free\n",
    "\n",
    "# Which type of ticket are yearly tickets for OVER 75 and how many are there?\n",
    "df[df['DESCRIZIONE_TITOLO'].str.contains('OVER 75|OVER75|PENSIONATI')]['DESCRIZIONE_TITOLO'].value_counts()"
   ]
  },
  {
   "cell_type": "code",
   "execution_count": 47,
   "metadata": {
    "ExecuteTime": {
     "start_time": "2023-04-18T16:17:15.778634Z",
     "end_time": "2023-04-18T16:17:19.563506Z"
    }
   },
   "outputs": [],
   "source": [
    "# Populate the column 'TICKET_CODE' with the code of the ticket profile according to the ticket type and the ticket validity\n",
    "df.loc[df['DESCRIZIONE_TITOLO'].str.contains('OVER 75|OVER75|PENSIONATI'), 'TICKET_CODE'] = '6-RET'"
   ]
  },
  {
   "cell_type": "code",
   "execution_count": 48,
   "metadata": {
    "ExecuteTime": {
     "start_time": "2023-04-18T16:17:19.853194Z",
     "end_time": "2023-04-18T16:17:21.769333Z"
    }
   },
   "outputs": [
    {
     "data": {
      "text/plain": "Series([], Name: DESCRIZIONE_TITOLO, dtype: int64)"
     },
     "execution_count": 48,
     "metadata": {},
     "output_type": "execute_result"
    }
   ],
   "source": [
    "# According to the page of yearly tickets available at the site web of ACTV \n",
    "# (https://actv.avmspa.it/it/content/abbonamento-annuale-0), the bus pass for students has a validity of 12 months \n",
    "\n",
    "# Which type of ticket are yearly tickets for students and how many are there?\n",
    "# Exclude the tickets that have already the field TICKET_CODE populated with 5-STUD or 6-STUD\n",
    "df[(df['DESCRIZIONE_TITOLO'].str.contains('STUDENTE|STUD|STUD')) & ~ (df['TICKET_CODE'].isin(['5-STUD', '6-STUD']))]['DESCRIZIONE_TITOLO'].value_counts()"
   ]
  },
  {
   "cell_type": "code",
   "execution_count": 49,
   "metadata": {
    "ExecuteTime": {
     "start_time": "2023-04-18T16:17:22.080244Z",
     "end_time": "2023-04-18T16:17:23.940498Z"
    }
   },
   "outputs": [],
   "source": [
    "# Populate the column 'TICKET_CODE' with the code of the ticket profile according to the ticket type and the ticket validity\n",
    "df.loc[(df['DESCRIZIONE_TITOLO'].str.contains('STUDENTE|STUD|STUD')) & ~ (df['TICKET_CODE'].isin(['5-STUD', '6-STUD'])), 'TICKET_CODE'] = '6-STUD'"
   ]
  },
  {
   "cell_type": "code",
   "execution_count": 50,
   "metadata": {
    "ExecuteTime": {
     "start_time": "2023-04-18T16:17:24.334964Z",
     "end_time": "2023-04-18T16:17:25.597467Z"
    }
   },
   "outputs": [
    {
     "name": "stdout",
     "output_type": "stream",
     "text": [
      "The number of annual tickets is:  0\n",
      "The number of annual tickets for students is:  0\n",
      "The number of annual tickets for workers is:  0\n",
      "The number of annual tickets for retired people is:  0\n",
      "The number of tickets for each type of annual ticket (including the subtypes) is: \n"
     ]
    },
    {
     "data": {
      "text/plain": "Series([], Name: DESCRIZIONE_TITOLO, dtype: int64)"
     },
     "execution_count": 50,
     "metadata": {},
     "output_type": "execute_result"
    }
   ],
   "source": [
    "# TICKET_CODE = 6: Information about annual tickets\n",
    "print(\"The number of annual tickets is: \", df[df['TICKET_CODE'] == '6'].shape[0])\n",
    "print(\"The number of annual tickets for students is: \", df[df['TICKET_CODE'] == '6-STUD'].shape[0])\n",
    "print(\"The number of annual tickets for workers is: \", df[df['TICKET_CODE'] == '6-WKRS'].shape[0])\n",
    "print(\"The number of annual tickets for retired people is: \", df[df['TICKET_CODE'] == '6-RET'].shape[0])\n",
    "\n",
    "print(\"The number of tickets for each type of annual ticket (including the subtypes) is: \")\n",
    "df[df['TICKET_CODE'].isin(['6', '6-STUD', '6-WKRS', '6-RET'])].groupby('TICKET_CODE')['DESCRIZIONE_TITOLO'].value_counts()"
   ]
  },
  {
   "cell_type": "code",
   "execution_count": 51,
   "metadata": {
    "ExecuteTime": {
     "start_time": "2023-04-18T16:17:25.733452Z",
     "end_time": "2023-04-18T16:17:25.757973Z"
    }
   },
   "outputs": [
    {
     "name": "stdout",
     "output_type": "stream",
     "text": [
      "Information about the tickets with code 6 (including the subtypes) related to the serial number: \n"
     ]
    },
    {
     "data": {
      "text/plain": "Empty DataFrame\nColumns: [count, mean, std, min, 25%, 50%, 75%, max]\nIndex: []",
      "text/html": "<div>\n<style scoped>\n    .dataframe tbody tr th:only-of-type {\n        vertical-align: middle;\n    }\n\n    .dataframe tbody tr th {\n        vertical-align: top;\n    }\n\n    .dataframe thead th {\n        text-align: right;\n    }\n</style>\n<table border=\"1\" class=\"dataframe\">\n  <thead>\n    <tr style=\"text-align: right;\">\n      <th></th>\n      <th>count</th>\n      <th>mean</th>\n      <th>std</th>\n      <th>min</th>\n      <th>25%</th>\n      <th>50%</th>\n      <th>75%</th>\n      <th>max</th>\n    </tr>\n  </thead>\n  <tbody>\n  </tbody>\n</table>\n</div>"
     },
     "execution_count": 51,
     "metadata": {},
     "output_type": "execute_result"
    }
   ],
   "source": [
    "print(\"Information about the tickets with code 6 (including the subtypes) related to the serial number: \")\n",
    "df[df['TICKET_CODE'].isin(['6', '6-STUD', '6-WKRS', '6-RET'])].groupby(['TICKET_CODE', 'DESCRIZIONE_TITOLO'])['SERIALE'].value_counts().groupby(['TICKET_CODE', 'DESCRIZIONE_TITOLO']).describe()"
   ]
  },
  {
   "cell_type": "markdown",
   "metadata": {},
   "source": [
    "### 75 minutes tickets"
   ]
  },
  {
   "cell_type": "code",
   "execution_count": 52,
   "metadata": {
    "ExecuteTime": {
     "start_time": "2023-04-18T16:17:25.758334Z",
     "end_time": "2023-04-18T16:17:29.394664Z"
    }
   },
   "outputs": [
    {
     "data": {
      "text/plain": "75'-TPL 6,64-COMVE0,86            743608\nBIGL.AUT.75'MESTRE/LIDO-TSC       422668\n75'-TPL 13,28-COMVE1,72           232644\nPEOPLEMOVER+BUS+TRAM 75'           85968\nBIGL.MESTRE/LIDO 75' A BORDO       12055\nORD. NAVIGAZIONE 75' ONLINE         6976\n75'-TPL 12,60-CVE2,40 ONLINE        3524\nBORDO 75MIN CARTAVENEZIA            3345\nPEOPLEMOVER+BUS+TRAM 75'CARNET       648\nVENDITA A BORDO 75' CV                13\nVENDITA A BORDO 75' ORD.              10\nName: DESCRIZIONE_TITOLO, dtype: int64"
     },
     "execution_count": 52,
     "metadata": {},
     "output_type": "execute_result"
    }
   ],
   "source": [
    "# Which type of ticket are 75' (75 minutes) tickets and how many are there?\n",
    "df[df['DESCRIZIONE_TITOLO'].str.contains('75\\'|75MIN|75 MIN')]['DESCRIZIONE_TITOLO'].value_counts()"
   ]
  },
  {
   "cell_type": "code",
   "execution_count": 53,
   "metadata": {
    "ExecuteTime": {
     "start_time": "2023-04-18T16:17:29.578879Z",
     "end_time": "2023-04-18T16:17:32.141160Z"
    }
   },
   "outputs": [],
   "source": [
    "# Populate the column 'TICKET_CODE' with the code of the ticket profile according to the ticket type and the ticket validity\n",
    "df.loc[df['DESCRIZIONE_TITOLO'].str.contains('75\\'|75MIN|75 MIN'), 'TICKET_CODE'] = '7'"
   ]
  },
  {
   "cell_type": "code",
   "execution_count": 54,
   "metadata": {
    "ExecuteTime": {
     "start_time": "2023-04-18T16:17:32.572498Z",
     "end_time": "2023-04-18T16:17:34.603717Z"
    }
   },
   "outputs": [
    {
     "name": "stdout",
     "output_type": "stream",
     "text": [
      "The number of 75' (75 minutes) tickets is:  1511459\n",
      "The number of tickets for each type of 75' (75 minutes) ticket is: \n"
     ]
    },
    {
     "data": {
      "text/plain": "TICKET_CODE  DESCRIZIONE_TITOLO            \n7            75'-TPL 6,64-COMVE0,86            743608\n             BIGL.AUT.75'MESTRE/LIDO-TSC       422668\n             75'-TPL 13,28-COMVE1,72           232644\n             PEOPLEMOVER+BUS+TRAM 75'           85968\n             BIGL.MESTRE/LIDO 75' A BORDO       12055\n             ORD. NAVIGAZIONE 75' ONLINE         6976\n             75'-TPL 12,60-CVE2,40 ONLINE        3524\n             BORDO 75MIN CARTAVENEZIA            3345\n             PEOPLEMOVER+BUS+TRAM 75'CARNET       648\n             VENDITA A BORDO 75' CV                13\n             VENDITA A BORDO 75' ORD.              10\nName: DESCRIZIONE_TITOLO, dtype: int64"
     },
     "execution_count": 54,
     "metadata": {},
     "output_type": "execute_result"
    }
   ],
   "source": [
    "# TICKET_CODE = 7: Information about 75' (75 minutes) tickets\n",
    "print(\"The number of 75' (75 minutes) tickets is: \", df[df['TICKET_CODE'] == '7'].shape[0])\n",
    "print(\"The number of tickets for each type of 75' (75 minutes) ticket is: \")\n",
    "df[df['TICKET_CODE'] == '7'].groupby('TICKET_CODE')['DESCRIZIONE_TITOLO'].value_counts()"
   ]
  },
  {
   "cell_type": "code",
   "execution_count": 55,
   "metadata": {
    "ExecuteTime": {
     "start_time": "2023-04-18T16:17:35.025686Z",
     "end_time": "2023-04-18T16:17:37.258479Z"
    }
   },
   "outputs": [
    {
     "name": "stdout",
     "output_type": "stream",
     "text": [
      "Information about the tickets with code 7 related to the serial number: \n"
     ]
    },
    {
     "data": {
      "text/plain": "                                   count      mean       std  min  25%  50%  \\\nDESCRIZIONE_TITOLO                                                            \n75'-TPL 12,60-CVE2,40 ONLINE      2034.0  1.732547  0.605153  1.0  1.0  2.0   \n75'-TPL 13,28-COMVE1,72         127257.0  1.828143  0.572819  1.0  2.0  2.0   \n75'-TPL 6,64-COMVE0,86          669753.0  1.110272  0.370967  1.0  1.0  1.0   \nBIGL.AUT.75'MESTRE/LIDO-TSC     295281.0  1.431409  0.980805  1.0  1.0  1.0   \nBIGL.MESTRE/LIDO 75' A BORDO     11852.0  1.017128  0.132965  1.0  1.0  1.0   \nBORDO 75MIN CARTAVENEZIA          3196.0  1.046621  0.297119  1.0  1.0  1.0   \nORD. NAVIGAZIONE 75' ONLINE       6175.0  1.129717  0.384991  1.0  1.0  1.0   \nPEOPLEMOVER+BUS+TRAM 75'         84609.0  1.016062  0.136532  1.0  1.0  1.0   \nPEOPLEMOVER+BUS+TRAM 75'CARNET     292.0  2.219178  1.825716  1.0  1.0  2.0   \nVENDITA A BORDO 75' CV              12.0  1.083333  0.288675  1.0  1.0  1.0   \nVENDITA A BORDO 75' ORD.             8.0  1.250000  0.462910  1.0  1.0  1.0   \n\n                                 75%   max  \nDESCRIZIONE_TITOLO                          \n75'-TPL 12,60-CVE2,40 ONLINE    2.00   4.0  \n75'-TPL 13,28-COMVE1,72         2.00   7.0  \n75'-TPL 6,64-COMVE0,86          1.00  26.0  \nBIGL.AUT.75'MESTRE/LIDO-TSC     2.00  20.0  \nBIGL.MESTRE/LIDO 75' A BORDO    1.00   3.0  \nBORDO 75MIN CARTAVENEZIA        1.00  10.0  \nORD. NAVIGAZIONE 75' ONLINE     1.00   4.0  \nPEOPLEMOVER+BUS+TRAM 75'        1.00   4.0  \nPEOPLEMOVER+BUS+TRAM 75'CARNET  2.00  10.0  \nVENDITA A BORDO 75' CV          1.00   2.0  \nVENDITA A BORDO 75' ORD.        1.25   2.0  ",
      "text/html": "<div>\n<style scoped>\n    .dataframe tbody tr th:only-of-type {\n        vertical-align: middle;\n    }\n\n    .dataframe tbody tr th {\n        vertical-align: top;\n    }\n\n    .dataframe thead th {\n        text-align: right;\n    }\n</style>\n<table border=\"1\" class=\"dataframe\">\n  <thead>\n    <tr style=\"text-align: right;\">\n      <th></th>\n      <th>count</th>\n      <th>mean</th>\n      <th>std</th>\n      <th>min</th>\n      <th>25%</th>\n      <th>50%</th>\n      <th>75%</th>\n      <th>max</th>\n    </tr>\n    <tr>\n      <th>DESCRIZIONE_TITOLO</th>\n      <th></th>\n      <th></th>\n      <th></th>\n      <th></th>\n      <th></th>\n      <th></th>\n      <th></th>\n      <th></th>\n    </tr>\n  </thead>\n  <tbody>\n    <tr>\n      <th>75'-TPL 12,60-CVE2,40 ONLINE</th>\n      <td>2034.0</td>\n      <td>1.732547</td>\n      <td>0.605153</td>\n      <td>1.0</td>\n      <td>1.0</td>\n      <td>2.0</td>\n      <td>2.00</td>\n      <td>4.0</td>\n    </tr>\n    <tr>\n      <th>75'-TPL 13,28-COMVE1,72</th>\n      <td>127257.0</td>\n      <td>1.828143</td>\n      <td>0.572819</td>\n      <td>1.0</td>\n      <td>2.0</td>\n      <td>2.0</td>\n      <td>2.00</td>\n      <td>7.0</td>\n    </tr>\n    <tr>\n      <th>75'-TPL 6,64-COMVE0,86</th>\n      <td>669753.0</td>\n      <td>1.110272</td>\n      <td>0.370967</td>\n      <td>1.0</td>\n      <td>1.0</td>\n      <td>1.0</td>\n      <td>1.00</td>\n      <td>26.0</td>\n    </tr>\n    <tr>\n      <th>BIGL.AUT.75'MESTRE/LIDO-TSC</th>\n      <td>295281.0</td>\n      <td>1.431409</td>\n      <td>0.980805</td>\n      <td>1.0</td>\n      <td>1.0</td>\n      <td>1.0</td>\n      <td>2.00</td>\n      <td>20.0</td>\n    </tr>\n    <tr>\n      <th>BIGL.MESTRE/LIDO 75' A BORDO</th>\n      <td>11852.0</td>\n      <td>1.017128</td>\n      <td>0.132965</td>\n      <td>1.0</td>\n      <td>1.0</td>\n      <td>1.0</td>\n      <td>1.00</td>\n      <td>3.0</td>\n    </tr>\n    <tr>\n      <th>BORDO 75MIN CARTAVENEZIA</th>\n      <td>3196.0</td>\n      <td>1.046621</td>\n      <td>0.297119</td>\n      <td>1.0</td>\n      <td>1.0</td>\n      <td>1.0</td>\n      <td>1.00</td>\n      <td>10.0</td>\n    </tr>\n    <tr>\n      <th>ORD. NAVIGAZIONE 75' ONLINE</th>\n      <td>6175.0</td>\n      <td>1.129717</td>\n      <td>0.384991</td>\n      <td>1.0</td>\n      <td>1.0</td>\n      <td>1.0</td>\n      <td>1.00</td>\n      <td>4.0</td>\n    </tr>\n    <tr>\n      <th>PEOPLEMOVER+BUS+TRAM 75'</th>\n      <td>84609.0</td>\n      <td>1.016062</td>\n      <td>0.136532</td>\n      <td>1.0</td>\n      <td>1.0</td>\n      <td>1.0</td>\n      <td>1.00</td>\n      <td>4.0</td>\n    </tr>\n    <tr>\n      <th>PEOPLEMOVER+BUS+TRAM 75'CARNET</th>\n      <td>292.0</td>\n      <td>2.219178</td>\n      <td>1.825716</td>\n      <td>1.0</td>\n      <td>1.0</td>\n      <td>2.0</td>\n      <td>2.00</td>\n      <td>10.0</td>\n    </tr>\n    <tr>\n      <th>VENDITA A BORDO 75' CV</th>\n      <td>12.0</td>\n      <td>1.083333</td>\n      <td>0.288675</td>\n      <td>1.0</td>\n      <td>1.0</td>\n      <td>1.0</td>\n      <td>1.00</td>\n      <td>2.0</td>\n    </tr>\n    <tr>\n      <th>VENDITA A BORDO 75' ORD.</th>\n      <td>8.0</td>\n      <td>1.250000</td>\n      <td>0.462910</td>\n      <td>1.0</td>\n      <td>1.0</td>\n      <td>1.0</td>\n      <td>1.25</td>\n      <td>2.0</td>\n    </tr>\n  </tbody>\n</table>\n</div>"
     },
     "execution_count": 55,
     "metadata": {},
     "output_type": "execute_result"
    }
   ],
   "source": [
    "print(\"Information about the tickets with code 7 related to the serial number: \")\n",
    "df[df['TICKET_CODE'] == '7'].groupby('DESCRIZIONE_TITOLO')['SERIALE'].value_counts().groupby('DESCRIZIONE_TITOLO').describe()"
   ]
  },
  {
   "cell_type": "markdown",
   "metadata": {},
   "source": [
    "### Other types of tickets"
   ]
  },
  {
   "cell_type": "code",
   "execution_count": 56,
   "metadata": {
    "ExecuteTime": {
     "start_time": "2023-04-18T16:17:37.460907Z",
     "end_time": "2023-04-18T16:17:38.371796Z"
    }
   },
   "outputs": [
    {
     "data": {
      "text/plain": "BIGL AER-VENEZIA TSC              71552\nTRAGH-TPL 8,82-C.VE1,18           38351\nEXTRA TRATTA 2                    33102\nEXTRA TRATTA 3                    22710\nBICICLETTA \"BIGLIETTERIA\"         20041\nL.17-AUTO \"D\" OLTRE METRI 4,50    14081\nCAV-TREP - S.MARCO AR             14034\nEXTRA TRATTA 4                    13678\nJESOLO - S.MARCO AR               13620\nTRAGH-TPL 4,41-C.VE0,59           11599\nPRENOTAZ OCCASIONALE SI BARRA     11187\nL.17-AUTO \"AEB\" FINO A 4 METRI     8279\nL.17-AUTO \"C\"DA 4,01 A 4,50 MT     6941\nEXTRA TRATTA 1                     6800\nAER+BOAT-TPL14,50-C.VE1,50         6693\nAEROPORTO-VENEZIA AR               6520\nARRIVA VENETO TRATTA 8-9-10        6323\nEXTRA TRATTA 5                     5347\nBICICLETTA \"PALMARE\"               4307\nCARNET CHIOGGIA 10C. TICKET        4241\nBIGL.URBANO CHIOGGIA               3430\nGRUPPI E SCUOLE                    3421\nGRUPPI E SCUOLE ONLINE TVM AR      3097\nFERRY17-AUTOCARRI+35Q.             3037\nSALONE NAUTICO 2022 A/R            2916\nTARIFFA CAROZZINA                  2573\nBICICLETTA \"CONCESSIONARI\"         2141\nCICLOMOTORE FINO 50CC              2101\nSU E ZO PER I PONTI 2022           1998\nGRUPPI E SCUOLE AR-SM              1907\nL.11-AUTO \"D\" OLTRE METRI 4,50     1845\nEXTRA TRATTA 6                     1815\nAEROPORTO-VENEZIA AR ONLINE        1697\nCAORLE-P.S.MARGH-S.MARCO AR        1484\nL.11-AUTO \"AEB\" FINO A 4 METRI     1450\nBUS+PEOPLE MOVER ONLINE            1339\nBIBIONE-S.MARCO AR                 1173\nL.11-AUTO \"C\"DA 4,01 A 4,50 MT     1109\nARRIVA VENETO TRATTA 1             1090\nEV3-TPL 26,50-C.VE1,50             1000\nFERRY11-AUTOCARRI+35Q.              838\nEXTRA TRATTA 1 TVM                  801\nEXTRA TRATTA 8-9-10                 766\nAEROPORTO-VENEZIA CS ONLINE         749\nEXTRA TRATTA 2 TVM                  748\nSALONE NAUTICO 2022 1 CORSA         718\nFERRY17-CARRI+35Q.RIM.              668\nEXTRA TRATTE 2-3-4 BORDO            641\nERACLEAMARE-S.MARCO AR              606\nARRIVA VENETO TRATTA 4              580\nEV5-TPL 33,50-C.VE1,50              558\nEXTRA TRATTA 7                      514\nARRIVA VENETO TRATTA 6              509\nEV12-TPL 57,00-C.VE3,00             455\nEXTRA TRATTA 3 TVM                  398\nEXTRA TRATTA 4 TVM                  387\nATVO CANOVA+NAVIG 1 CORSA           345\nEV8-TPL 45,00-C.VE3,00              308\nGRUPPI ORGANIZZATI CS               303\nARRIVA VENETO AEROPORTO             298\nARRIVA VENETO TRATTA 7              279\nLIGNANO-S.MARCO AR                  274\nBIGLIETTO SOC. SPORTIVE             274\nBAGAGLIO CARTAVENEZIA               270\nGRUPPI E SCUOLE ONLINE TVM CS       264\nATVO CANOVA+NAVIG AR                257\nBIGLIETTO MOTO FINO 50 CC           244\nCICLOMOTORE OLTRE 50CC              238\nARRIVA VENETO TRATTA 3              237\nARRIVA EXTRA TR.8-9-10 BORDO        236\nARRIVA VENETO TRATTA 2              206\nEXTRA TRATTA 1 BORDO                205\nARRIVA EXTRA TR.1 BORDO             182\nGRUPPI E SCUOLE ONLINE 2VIAGGI      180\nARRIVAEXTRA TR.2-3-4 BORDO          171\nARRIVA EXTRA TR. 5-6-7 BORDO        166\nEXTRA TRATTA 5 TVM                  160\nBIGLIETTO MERCI C.SEMPLICE          159\nFERRY17-AUTOBUS                     134\nSPIAGGEAR-TPL 11,75-COMVE1,25       125\nNA-TRAGHETTO ORDINARIO              109\nATVO CANOVA+NAVIG AR ONLINE         102\nATVOCANOVA+NAVIG 1CORSA ONLINE       80\nARRIVA VENETO TRATTA 5               74\nEXTRA TRATTE 5-6-7 BORDO             38\nFERRY17-TRASPORTI PERICOLOSI         32\nEXTRA TRATTA 8-9-10 TVM              23\nARRIVA AEROPORTO BORDO               22\nPRENOTAZIONE VEICOLO ABBONATO        20\nEXTRA TRATTA 7 TVM                   18\nARRIVA INTEG.AEROP. BORDO            14\nFERRY11-CARRI+35Q.RIM.               13\nBIGL.URBANO CHIOGGIA BORDO           12\nEXTRA TRATTA 6 TVM                    9\nTRAGHETTO GRATUITO                    8\nNA-12H-TPL 13,40-COMVE4,60            3\nFERRY11-AUTOBUS                       3\nEXTRA TRATTE 8-9-10 BORDO             3\nCAMP.MARINA-S.MARCO AR                2\nSOSTITUTIVO PASS IMOB                 1\nName: DESCRIZIONE_TITOLO, dtype: int64"
     },
     "execution_count": 56,
     "metadata": {},
     "output_type": "execute_result"
    }
   ],
   "source": [
    "# Which type of ticket are other tickets and how many are there?\n",
    "# The other tickets are the tickets that are not already classified in the previous categories\n",
    "df[~df['TICKET_CODE'].isin(['1', '2', '3', '4', '5', '5-STUD', '5-WKRS', '5-RET', '6', '6-STUD', '6-WKRS', '6-RET', '7'])]['DESCRIZIONE_TITOLO'].value_counts()"
   ]
  },
  {
   "cell_type": "code",
   "execution_count": 57,
   "metadata": {
    "ExecuteTime": {
     "start_time": "2023-04-18T16:17:37.872937Z",
     "end_time": "2023-04-18T16:17:38.384187Z"
    }
   },
   "outputs": [],
   "source": [
    "# Populate the column 'TICKET_CODE' with the code of the ticket profile according to the ticket type and the ticket validity\n",
    "df.loc[~df['TICKET_CODE'].isin(['1','2','3','4','5','5-STUD','5-WKRS','5-RET','6','6-STUD','6-WKRS','6-RET','7']), 'TICKET_CODE'] = '8'"
   ]
  },
  {
   "cell_type": "code",
   "execution_count": 58,
   "metadata": {
    "ExecuteTime": {
     "start_time": "2023-04-18T16:17:38.373478Z",
     "end_time": "2023-04-18T16:17:38.725656Z"
    }
   },
   "outputs": [
    {
     "name": "stdout",
     "output_type": "stream",
     "text": [
      "The number of other tickets is:  376066\n"
     ]
    }
   ],
   "source": [
    "# TICKET_CODE = 7b: Information about other tickets\n",
    "print(\"The number of other tickets is: \", df[df['TICKET_CODE'] == '8'].shape[0])"
   ]
  },
  {
   "cell_type": "code",
   "execution_count": 59,
   "metadata": {
    "ExecuteTime": {
     "start_time": "2023-04-18T16:17:39.021239Z",
     "end_time": "2023-04-18T16:17:40.149287Z"
    }
   },
   "outputs": [
    {
     "name": "stdout",
     "output_type": "stream",
     "text": [
      "Information about the tickets with code 8 related to the serial number: \n"
     ]
    },
    {
     "data": {
      "text/plain": "                                  count       mean        std  min    25%  \\\nDESCRIZIONE_TITOLO                                                          \nAER+BOAT-TPL14,50-C.VE1,50       4038.0   1.657504   0.630205  1.0   1.00   \nAEROPORTO-VENEZIA AR             4205.0   1.550535   0.512106  1.0   1.00   \nAEROPORTO-VENEZIA AR ONLINE      1242.0   1.366345   0.490287  1.0   1.00   \nAEROPORTO-VENEZIA CS ONLINE       745.0   1.005369   0.073126  1.0   1.00   \nARRIVA AEROPORTO BORDO             22.0   1.000000   0.000000  1.0   1.00   \nARRIVA EXTRA TR. 5-6-7 BORDO      159.0   1.044025   0.343952  1.0   1.00   \nARRIVA EXTRA TR.1 BORDO           172.0   1.058140   0.400428  1.0   1.00   \nARRIVA EXTRA TR.8-9-10 BORDO      224.0   1.053571   0.278989  1.0   1.00   \nARRIVA INTEG.AEROP. BORDO          14.0   1.000000   0.000000  1.0   1.00   \nARRIVA VENETO AEROPORTO           294.0   1.013605   0.116044  1.0   1.00   \nARRIVA VENETO TRATTA 1            818.0   1.332518   0.797452  1.0   1.00   \nARRIVA VENETO TRATTA 2            186.0   1.107527   0.427750  1.0   1.00   \nARRIVA VENETO TRATTA 3            199.0   1.190955   0.553883  1.0   1.00   \nARRIVA VENETO TRATTA 4            490.0   1.183673   0.708507  1.0   1.00   \nARRIVA VENETO TRATTA 5             63.0   1.174603   0.459301  1.0   1.00   \nARRIVA VENETO TRATTA 6            409.0   1.244499   0.633134  1.0   1.00   \nARRIVA VENETO TRATTA 7            199.0   1.402010   0.898481  1.0   1.00   \nARRIVA VENETO TRATTA 8-9-10      4670.0   1.353961   1.009263  1.0   1.00   \nARRIVAEXTRA TR.2-3-4 BORDO        160.0   1.068750   0.277497  1.0   1.00   \nATVO CANOVA+NAVIG 1 CORSA         250.0   1.380000   0.793801  1.0   1.00   \nATVO CANOVA+NAVIG AR              124.0   2.072581   1.176832  1.0   1.00   \nATVO CANOVA+NAVIG AR ONLINE        56.0   1.821429   0.896603  1.0   1.00   \nATVOCANOVA+NAVIG 1CORSA ONLINE     64.0   1.250000   0.534522  1.0   1.00   \nBAGAGLIO CARTAVENEZIA             250.0   1.080000   0.271837  1.0   1.00   \nBIBIONE-S.MARCO AR                657.0   1.785388   0.610802  1.0   1.00   \nBICICLETTA \"BIGLIETTERIA\"       17398.0   1.151914   0.537253  1.0   1.00   \nBICICLETTA \"CONCESSIONARI\"       1972.0   1.085700   0.332965  1.0   1.00   \nBICICLETTA \"PALMARE\"             4282.0   1.005838   0.084895  1.0   1.00   \nBIGL AER-VENEZIA TSC            70645.0   1.012839   0.118102  1.0   1.00   \nBIGL.URBANO CHIOGGIA             2953.0   1.161531   0.433189  1.0   1.00   \nBIGL.URBANO CHIOGGIA BORDO         12.0   1.000000   0.000000  1.0   1.00   \nBIGLIETTO MERCI C.SEMPLICE        142.0   1.119718   0.346868  1.0   1.00   \nBIGLIETTO MOTO FINO 50 CC         241.0   1.012448   0.111105  1.0   1.00   \nBIGLIETTO SOC. SPORTIVE            63.0   4.349206   7.112367  1.0   1.00   \nBUS+PEOPLE MOVER ONLINE          1193.0   1.122381   0.532605  1.0   1.00   \nCAMP.MARINA-S.MARCO AR              1.0   2.000000        NaN  2.0   2.00   \nCAORLE-P.S.MARGH-S.MARCO AR       825.0   1.798788   0.697254  1.0   1.00   \nCARNET CHIOGGIA 10C. TICKET      1460.0   2.904795   2.213698  1.0   1.00   \nCAV-TREP - S.MARCO AR            7422.0   1.890865   0.654980  1.0   2.00   \nCICLOMOTORE FINO 50CC            2093.0   1.003822   0.061721  1.0   1.00   \nCICLOMOTORE OLTRE 50CC            238.0   1.000000   0.000000  1.0   1.00   \nERACLEAMARE-S.MARCO AR            341.0   1.777126   0.692526  1.0   1.00   \nEV12-TPL 57,00-C.VE3,00            50.0   9.100000   7.611082  1.0   4.00   \nEV3-TPL 26,50-C.VE1,50            143.0   6.993007   4.793623  1.0   4.00   \nEV5-TPL 33,50-C.VE1,50             71.0   7.859155   5.270662  1.0   3.00   \nEV8-TPL 45,00-C.VE3,00             42.0   7.333333   5.435505  1.0   3.00   \nEXTRA TRATTA 1                   4538.0   1.498457   1.208894  1.0   1.00   \nEXTRA TRATTA 1 BORDO              186.0   1.102151   0.337392  1.0   1.00   \nEXTRA TRATTA 1 TVM                711.0   1.126582   0.851352  1.0   1.00   \nEXTRA TRATTA 2                  20687.0   1.600135   1.326412  1.0   1.00   \nEXTRA TRATTA 2 TVM                687.0   1.088792   0.414011  1.0   1.00   \nEXTRA TRATTA 3                  14976.0   1.516426   1.116038  1.0   1.00   \nEXTRA TRATTA 3 TVM                364.0   1.093407   0.572136  1.0   1.00   \nEXTRA TRATTA 4                   9197.0   1.487224   1.098644  1.0   1.00   \nEXTRA TRATTA 4 TVM                365.0   1.060274   0.280668  1.0   1.00   \nEXTRA TRATTA 5                   3532.0   1.513873   1.162074  1.0   1.00   \nEXTRA TRATTA 5 TVM                132.0   1.212121   0.579949  1.0   1.00   \nEXTRA TRATTA 6                   1253.0   1.448524   1.281451  1.0   1.00   \nEXTRA TRATTA 6 TVM                  9.0   1.000000   0.000000  1.0   1.00   \nEXTRA TRATTA 7                    367.0   1.400545   0.771982  1.0   1.00   \nEXTRA TRATTA 7 TVM                 18.0   1.000000   0.000000  1.0   1.00   \nEXTRA TRATTA 8-9-10               583.0   1.313894   0.766073  1.0   1.00   \nEXTRA TRATTA 8-9-10 TVM            23.0   1.000000   0.000000  1.0   1.00   \nEXTRA TRATTE 2-3-4 BORDO          550.0   1.165455   0.508478  1.0   1.00   \nEXTRA TRATTE 5-6-7 BORDO           32.0   1.187500   0.535061  1.0   1.00   \nEXTRA TRATTE 8-9-10 BORDO           3.0   1.000000   0.000000  1.0   1.00   \nFERRY11-AUTOBUS                     3.0   1.000000   0.000000  1.0   1.00   \nFERRY11-AUTOCARRI+35Q.            836.0   1.002392   0.048882  1.0   1.00   \nFERRY11-CARRI+35Q.RIM.             13.0   1.000000   0.000000  1.0   1.00   \nFERRY17-AUTOBUS                   133.0   1.007519   0.086711  1.0   1.00   \nFERRY17-AUTOCARRI+35Q.           2962.0   1.025321   0.633176  1.0   1.00   \nFERRY17-CARRI+35Q.RIM.            654.0   1.021407   0.227175  1.0   1.00   \nFERRY17-TRASPORTI PERICOLOSI       32.0   1.000000   0.000000  1.0   1.00   \nGRUPPI E SCUOLE                   478.0   7.156904  10.609046  1.0   1.00   \nGRUPPI E SCUOLE AR-SM            1123.0   1.698130   0.600554  1.0   1.00   \nGRUPPI E SCUOLE ONLINE 2VIAGGI     14.0  12.857143   9.882830  1.0   5.00   \nGRUPPI E SCUOLE ONLINE TVM AR    1781.0   1.738911   0.625126  1.0   1.00   \nGRUPPI E SCUOLE ONLINE TVM CS     206.0   1.281553   0.848729  1.0   1.00   \nGRUPPI ORGANIZZATI CS             123.0   2.463415   5.446149  1.0   1.00   \nJESOLO - S.MARCO AR              7354.0   1.852053   0.615436  1.0   2.00   \nL.11-AUTO \"AEB\" FINO A 4 METRI   1405.0   1.032028   0.231984  1.0   1.00   \nL.11-AUTO \"C\"DA 4,01 A 4,50 MT   1089.0   1.018365   0.153491  1.0   1.00   \nL.11-AUTO \"D\" OLTRE METRI 4,50   1804.0   1.022727   0.329766  1.0   1.00   \nL.17-AUTO \"AEB\" FINO A 4 METRI   8112.0   1.020587   0.212877  1.0   1.00   \nL.17-AUTO \"C\"DA 4,01 A 4,50 MT   6821.0   1.017593   0.164205  1.0   1.00   \nL.17-AUTO \"D\" OLTRE METRI 4,50  13814.0   1.019328   0.226372  1.0   1.00   \nLIGNANO-S.MARCO AR                159.0   1.723270   0.786854  1.0   1.00   \nNA-12H-TPL 13,40-COMVE4,60          2.0   1.500000   0.707107  1.0   1.25   \nNA-TRAGHETTO ORDINARIO              2.0  54.500000  75.660426  1.0  27.75   \nPRENOTAZ OCCASIONALE SI BARRA   10420.0   1.073608   0.401856  1.0   1.00   \nPRENOTAZIONE VEICOLO ABBONATO      20.0   1.000000   0.000000  1.0   1.00   \nSALONE NAUTICO 2022 1 CORSA       690.0   1.040580   0.211648  1.0   1.00   \nSALONE NAUTICO 2022 A/R          1894.0   1.539599   0.581694  1.0   1.00   \nSOSTITUTIVO PASS IMOB               1.0   1.000000        NaN  1.0   1.00   \nSPIAGGEAR-TPL 11,75-COMVE1,25      67.0   1.865672   0.385161  1.0   2.00   \nSU E ZO PER I PONTI 2022         1253.0   1.594573   0.674764  1.0   1.00   \nTARIFFA CAROZZINA                2333.0   1.102872   0.337298  1.0   1.00   \nTRAGH-TPL 4,41-C.VE0,59         10792.0   1.074778   0.381027  1.0   1.00   \nTRAGH-TPL 8,82-C.VE1,18         22955.0   1.670704   0.652067  1.0   1.00   \nTRAGHETTO GRATUITO                  7.0   1.142857   0.377964  1.0   1.00   \n\n                                 50%    75%    max  \nDESCRIZIONE_TITOLO                                  \nAER+BOAT-TPL14,50-C.VE1,50       2.0   2.00    5.0  \nAEROPORTO-VENEZIA AR             2.0   2.00    3.0  \nAEROPORTO-VENEZIA AR ONLINE      1.0   2.00    3.0  \nAEROPORTO-VENEZIA CS ONLINE      1.0   1.00    2.0  \nARRIVA AEROPORTO BORDO           1.0   1.00    1.0  \nARRIVA EXTRA TR. 5-6-7 BORDO     1.0   1.00    5.0  \nARRIVA EXTRA TR.1 BORDO          1.0   1.00    5.0  \nARRIVA EXTRA TR.8-9-10 BORDO     1.0   1.00    3.0  \nARRIVA INTEG.AEROP. BORDO        1.0   1.00    1.0  \nARRIVA VENETO AEROPORTO          1.0   1.00    2.0  \nARRIVA VENETO TRATTA 1           1.0   1.00    8.0  \nARRIVA VENETO TRATTA 2           1.0   1.00    4.0  \nARRIVA VENETO TRATTA 3           1.0   1.00    6.0  \nARRIVA VENETO TRATTA 4           1.0   1.00    9.0  \nARRIVA VENETO TRATTA 5           1.0   1.00    3.0  \nARRIVA VENETO TRATTA 6           1.0   1.00    8.0  \nARRIVA VENETO TRATTA 7           1.0   2.00    9.0  \nARRIVA VENETO TRATTA 8-9-10      1.0   2.00   40.0  \nARRIVAEXTRA TR.2-3-4 BORDO       1.0   1.00    3.0  \nATVO CANOVA+NAVIG 1 CORSA        1.0   1.00    6.0  \nATVO CANOVA+NAVIG AR             2.0   2.00    8.0  \nATVO CANOVA+NAVIG AR ONLINE      2.0   2.00    5.0  \nATVOCANOVA+NAVIG 1CORSA ONLINE   1.0   1.00    3.0  \nBAGAGLIO CARTAVENEZIA            1.0   1.00    2.0  \nBIBIONE-S.MARCO AR               2.0   2.00    6.0  \nBICICLETTA \"BIGLIETTERIA\"        1.0   1.00   18.0  \nBICICLETTA \"CONCESSIONARI\"       1.0   1.00    7.0  \nBICICLETTA \"PALMARE\"             1.0   1.00    3.0  \nBIGL AER-VENEZIA TSC             1.0   1.00    4.0  \nBIGL.URBANO CHIOGGIA             1.0   1.00    4.0  \nBIGL.URBANO CHIOGGIA BORDO       1.0   1.00    1.0  \nBIGLIETTO MERCI C.SEMPLICE       1.0   1.00    3.0  \nBIGLIETTO MOTO FINO 50 CC        1.0   1.00    2.0  \nBIGLIETTO SOC. SPORTIVE          1.0   2.50   30.0  \nBUS+PEOPLE MOVER ONLINE          1.0   1.00   11.0  \nCAMP.MARINA-S.MARCO AR           2.0   2.00    2.0  \nCAORLE-P.S.MARGH-S.MARCO AR      2.0   2.00   10.0  \nCARNET CHIOGGIA 10C. TICKET      2.0   4.00   19.0  \nCAV-TREP - S.MARCO AR            2.0   2.00   10.0  \nCICLOMOTORE FINO 50CC            1.0   1.00    2.0  \nCICLOMOTORE OLTRE 50CC           1.0   1.00    1.0  \nERACLEAMARE-S.MARCO AR           2.0   2.00    6.0  \nEV12-TPL 57,00-C.VE3,00          6.5  11.00   35.0  \nEV3-TPL 26,50-C.VE1,50           6.0   9.00   23.0  \nEV5-TPL 33,50-C.VE1,50           7.0  11.00   21.0  \nEV8-TPL 45,00-C.VE3,00           7.0   9.75   22.0  \nEXTRA TRATTA 1                   1.0   2.00   14.0  \nEXTRA TRATTA 1 BORDO             1.0   1.00    3.0  \nEXTRA TRATTA 1 TVM               1.0   1.00   21.0  \nEXTRA TRATTA 2                   1.0   2.00   34.0  \nEXTRA TRATTA 2 TVM               1.0   1.00    5.0  \nEXTRA TRATTA 3                   1.0   2.00   23.0  \nEXTRA TRATTA 3 TVM               1.0   1.00    9.0  \nEXTRA TRATTA 4                   1.0   2.00   27.0  \nEXTRA TRATTA 4 TVM               1.0   1.00    4.0  \nEXTRA TRATTA 5                   1.0   2.00   22.0  \nEXTRA TRATTA 5 TVM               1.0   1.00    5.0  \nEXTRA TRATTA 6                   1.0   2.00   33.0  \nEXTRA TRATTA 6 TVM               1.0   1.00    1.0  \nEXTRA TRATTA 7                   1.0   2.00    7.0  \nEXTRA TRATTA 7 TVM               1.0   1.00    1.0  \nEXTRA TRATTA 8-9-10              1.0   1.00   10.0  \nEXTRA TRATTA 8-9-10 TVM          1.0   1.00    1.0  \nEXTRA TRATTE 2-3-4 BORDO         1.0   1.00    6.0  \nEXTRA TRATTE 5-6-7 BORDO         1.0   1.00    3.0  \nEXTRA TRATTE 8-9-10 BORDO        1.0   1.00    1.0  \nFERRY11-AUTOBUS                  1.0   1.00    1.0  \nFERRY11-AUTOCARRI+35Q.           1.0   1.00    2.0  \nFERRY11-CARRI+35Q.RIM.           1.0   1.00    1.0  \nFERRY17-AUTOBUS                  1.0   1.00    2.0  \nFERRY17-AUTOCARRI+35Q.           1.0   1.00   29.0  \nFERRY17-CARRI+35Q.RIM.           1.0   1.00    4.0  \nFERRY17-TRASPORTI PERICOLOSI     1.0   1.00    1.0  \nGRUPPI E SCUOLE                  2.0  10.00   51.0  \nGRUPPI E SCUOLE AR-SM            2.0   2.00    4.0  \nGRUPPI E SCUOLE ONLINE 2VIAGGI  13.0  16.00   37.0  \nGRUPPI E SCUOLE ONLINE TVM AR    2.0   2.00    4.0  \nGRUPPI E SCUOLE ONLINE TVM CS    1.0   1.00    8.0  \nGRUPPI ORGANIZZATI CS            1.0   1.00   38.0  \nJESOLO - S.MARCO AR              2.0   2.00    8.0  \nL.11-AUTO \"AEB\" FINO A 4 METRI   1.0   1.00    7.0  \nL.11-AUTO \"C\"DA 4,01 A 4,50 MT   1.0   1.00    4.0  \nL.11-AUTO \"D\" OLTRE METRI 4,50   1.0   1.00   11.0  \nL.17-AUTO \"AEB\" FINO A 4 METRI   1.0   1.00    9.0  \nL.17-AUTO \"C\"DA 4,01 A 4,50 MT   1.0   1.00    7.0  \nL.17-AUTO \"D\" OLTRE METRI 4,50   1.0   1.00   17.0  \nLIGNANO-S.MARCO AR               2.0   2.00    7.0  \nNA-12H-TPL 13,40-COMVE4,60       1.5   1.75    2.0  \nNA-TRAGHETTO ORDINARIO          54.5  81.25  108.0  \nPRENOTAZ OCCASIONALE SI BARRA    1.0   1.00   14.0  \nPRENOTAZIONE VEICOLO ABBONATO    1.0   1.00    1.0  \nSALONE NAUTICO 2022 1 CORSA      1.0   1.00    3.0  \nSALONE NAUTICO 2022 A/R          2.0   2.00    5.0  \nSOSTITUTIVO PASS IMOB            1.0   1.00    1.0  \nSPIAGGEAR-TPL 11,75-COMVE1,25    2.0   2.00    3.0  \nSU E ZO PER I PONTI 2022         2.0   2.00    6.0  \nTARIFFA CAROZZINA                1.0   1.00    4.0  \nTRAGH-TPL 4,41-C.VE0,59          1.0   1.00   10.0  \nTRAGH-TPL 8,82-C.VE1,18          2.0   2.00   19.0  \nTRAGHETTO GRATUITO               1.0   1.00    2.0  ",
      "text/html": "<div>\n<style scoped>\n    .dataframe tbody tr th:only-of-type {\n        vertical-align: middle;\n    }\n\n    .dataframe tbody tr th {\n        vertical-align: top;\n    }\n\n    .dataframe thead th {\n        text-align: right;\n    }\n</style>\n<table border=\"1\" class=\"dataframe\">\n  <thead>\n    <tr style=\"text-align: right;\">\n      <th></th>\n      <th>count</th>\n      <th>mean</th>\n      <th>std</th>\n      <th>min</th>\n      <th>25%</th>\n      <th>50%</th>\n      <th>75%</th>\n      <th>max</th>\n    </tr>\n    <tr>\n      <th>DESCRIZIONE_TITOLO</th>\n      <th></th>\n      <th></th>\n      <th></th>\n      <th></th>\n      <th></th>\n      <th></th>\n      <th></th>\n      <th></th>\n    </tr>\n  </thead>\n  <tbody>\n    <tr>\n      <th>AER+BOAT-TPL14,50-C.VE1,50</th>\n      <td>4038.0</td>\n      <td>1.657504</td>\n      <td>0.630205</td>\n      <td>1.0</td>\n      <td>1.00</td>\n      <td>2.0</td>\n      <td>2.00</td>\n      <td>5.0</td>\n    </tr>\n    <tr>\n      <th>AEROPORTO-VENEZIA AR</th>\n      <td>4205.0</td>\n      <td>1.550535</td>\n      <td>0.512106</td>\n      <td>1.0</td>\n      <td>1.00</td>\n      <td>2.0</td>\n      <td>2.00</td>\n      <td>3.0</td>\n    </tr>\n    <tr>\n      <th>AEROPORTO-VENEZIA AR ONLINE</th>\n      <td>1242.0</td>\n      <td>1.366345</td>\n      <td>0.490287</td>\n      <td>1.0</td>\n      <td>1.00</td>\n      <td>1.0</td>\n      <td>2.00</td>\n      <td>3.0</td>\n    </tr>\n    <tr>\n      <th>AEROPORTO-VENEZIA CS ONLINE</th>\n      <td>745.0</td>\n      <td>1.005369</td>\n      <td>0.073126</td>\n      <td>1.0</td>\n      <td>1.00</td>\n      <td>1.0</td>\n      <td>1.00</td>\n      <td>2.0</td>\n    </tr>\n    <tr>\n      <th>ARRIVA AEROPORTO BORDO</th>\n      <td>22.0</td>\n      <td>1.000000</td>\n      <td>0.000000</td>\n      <td>1.0</td>\n      <td>1.00</td>\n      <td>1.0</td>\n      <td>1.00</td>\n      <td>1.0</td>\n    </tr>\n    <tr>\n      <th>ARRIVA EXTRA TR. 5-6-7 BORDO</th>\n      <td>159.0</td>\n      <td>1.044025</td>\n      <td>0.343952</td>\n      <td>1.0</td>\n      <td>1.00</td>\n      <td>1.0</td>\n      <td>1.00</td>\n      <td>5.0</td>\n    </tr>\n    <tr>\n      <th>ARRIVA EXTRA TR.1 BORDO</th>\n      <td>172.0</td>\n      <td>1.058140</td>\n      <td>0.400428</td>\n      <td>1.0</td>\n      <td>1.00</td>\n      <td>1.0</td>\n      <td>1.00</td>\n      <td>5.0</td>\n    </tr>\n    <tr>\n      <th>ARRIVA EXTRA TR.8-9-10 BORDO</th>\n      <td>224.0</td>\n      <td>1.053571</td>\n      <td>0.278989</td>\n      <td>1.0</td>\n      <td>1.00</td>\n      <td>1.0</td>\n      <td>1.00</td>\n      <td>3.0</td>\n    </tr>\n    <tr>\n      <th>ARRIVA INTEG.AEROP. BORDO</th>\n      <td>14.0</td>\n      <td>1.000000</td>\n      <td>0.000000</td>\n      <td>1.0</td>\n      <td>1.00</td>\n      <td>1.0</td>\n      <td>1.00</td>\n      <td>1.0</td>\n    </tr>\n    <tr>\n      <th>ARRIVA VENETO AEROPORTO</th>\n      <td>294.0</td>\n      <td>1.013605</td>\n      <td>0.116044</td>\n      <td>1.0</td>\n      <td>1.00</td>\n      <td>1.0</td>\n      <td>1.00</td>\n      <td>2.0</td>\n    </tr>\n    <tr>\n      <th>ARRIVA VENETO TRATTA 1</th>\n      <td>818.0</td>\n      <td>1.332518</td>\n      <td>0.797452</td>\n      <td>1.0</td>\n      <td>1.00</td>\n      <td>1.0</td>\n      <td>1.00</td>\n      <td>8.0</td>\n    </tr>\n    <tr>\n      <th>ARRIVA VENETO TRATTA 2</th>\n      <td>186.0</td>\n      <td>1.107527</td>\n      <td>0.427750</td>\n      <td>1.0</td>\n      <td>1.00</td>\n      <td>1.0</td>\n      <td>1.00</td>\n      <td>4.0</td>\n    </tr>\n    <tr>\n      <th>ARRIVA VENETO TRATTA 3</th>\n      <td>199.0</td>\n      <td>1.190955</td>\n      <td>0.553883</td>\n      <td>1.0</td>\n      <td>1.00</td>\n      <td>1.0</td>\n      <td>1.00</td>\n      <td>6.0</td>\n    </tr>\n    <tr>\n      <th>ARRIVA VENETO TRATTA 4</th>\n      <td>490.0</td>\n      <td>1.183673</td>\n      <td>0.708507</td>\n      <td>1.0</td>\n      <td>1.00</td>\n      <td>1.0</td>\n      <td>1.00</td>\n      <td>9.0</td>\n    </tr>\n    <tr>\n      <th>ARRIVA VENETO TRATTA 5</th>\n      <td>63.0</td>\n      <td>1.174603</td>\n      <td>0.459301</td>\n      <td>1.0</td>\n      <td>1.00</td>\n      <td>1.0</td>\n      <td>1.00</td>\n      <td>3.0</td>\n    </tr>\n    <tr>\n      <th>ARRIVA VENETO TRATTA 6</th>\n      <td>409.0</td>\n      <td>1.244499</td>\n      <td>0.633134</td>\n      <td>1.0</td>\n      <td>1.00</td>\n      <td>1.0</td>\n      <td>1.00</td>\n      <td>8.0</td>\n    </tr>\n    <tr>\n      <th>ARRIVA VENETO TRATTA 7</th>\n      <td>199.0</td>\n      <td>1.402010</td>\n      <td>0.898481</td>\n      <td>1.0</td>\n      <td>1.00</td>\n      <td>1.0</td>\n      <td>2.00</td>\n      <td>9.0</td>\n    </tr>\n    <tr>\n      <th>ARRIVA VENETO TRATTA 8-9-10</th>\n      <td>4670.0</td>\n      <td>1.353961</td>\n      <td>1.009263</td>\n      <td>1.0</td>\n      <td>1.00</td>\n      <td>1.0</td>\n      <td>2.00</td>\n      <td>40.0</td>\n    </tr>\n    <tr>\n      <th>ARRIVAEXTRA TR.2-3-4 BORDO</th>\n      <td>160.0</td>\n      <td>1.068750</td>\n      <td>0.277497</td>\n      <td>1.0</td>\n      <td>1.00</td>\n      <td>1.0</td>\n      <td>1.00</td>\n      <td>3.0</td>\n    </tr>\n    <tr>\n      <th>ATVO CANOVA+NAVIG 1 CORSA</th>\n      <td>250.0</td>\n      <td>1.380000</td>\n      <td>0.793801</td>\n      <td>1.0</td>\n      <td>1.00</td>\n      <td>1.0</td>\n      <td>1.00</td>\n      <td>6.0</td>\n    </tr>\n    <tr>\n      <th>ATVO CANOVA+NAVIG AR</th>\n      <td>124.0</td>\n      <td>2.072581</td>\n      <td>1.176832</td>\n      <td>1.0</td>\n      <td>1.00</td>\n      <td>2.0</td>\n      <td>2.00</td>\n      <td>8.0</td>\n    </tr>\n    <tr>\n      <th>ATVO CANOVA+NAVIG AR ONLINE</th>\n      <td>56.0</td>\n      <td>1.821429</td>\n      <td>0.896603</td>\n      <td>1.0</td>\n      <td>1.00</td>\n      <td>2.0</td>\n      <td>2.00</td>\n      <td>5.0</td>\n    </tr>\n    <tr>\n      <th>ATVOCANOVA+NAVIG 1CORSA ONLINE</th>\n      <td>64.0</td>\n      <td>1.250000</td>\n      <td>0.534522</td>\n      <td>1.0</td>\n      <td>1.00</td>\n      <td>1.0</td>\n      <td>1.00</td>\n      <td>3.0</td>\n    </tr>\n    <tr>\n      <th>BAGAGLIO CARTAVENEZIA</th>\n      <td>250.0</td>\n      <td>1.080000</td>\n      <td>0.271837</td>\n      <td>1.0</td>\n      <td>1.00</td>\n      <td>1.0</td>\n      <td>1.00</td>\n      <td>2.0</td>\n    </tr>\n    <tr>\n      <th>BIBIONE-S.MARCO AR</th>\n      <td>657.0</td>\n      <td>1.785388</td>\n      <td>0.610802</td>\n      <td>1.0</td>\n      <td>1.00</td>\n      <td>2.0</td>\n      <td>2.00</td>\n      <td>6.0</td>\n    </tr>\n    <tr>\n      <th>BICICLETTA \"BIGLIETTERIA\"</th>\n      <td>17398.0</td>\n      <td>1.151914</td>\n      <td>0.537253</td>\n      <td>1.0</td>\n      <td>1.00</td>\n      <td>1.0</td>\n      <td>1.00</td>\n      <td>18.0</td>\n    </tr>\n    <tr>\n      <th>BICICLETTA \"CONCESSIONARI\"</th>\n      <td>1972.0</td>\n      <td>1.085700</td>\n      <td>0.332965</td>\n      <td>1.0</td>\n      <td>1.00</td>\n      <td>1.0</td>\n      <td>1.00</td>\n      <td>7.0</td>\n    </tr>\n    <tr>\n      <th>BICICLETTA \"PALMARE\"</th>\n      <td>4282.0</td>\n      <td>1.005838</td>\n      <td>0.084895</td>\n      <td>1.0</td>\n      <td>1.00</td>\n      <td>1.0</td>\n      <td>1.00</td>\n      <td>3.0</td>\n    </tr>\n    <tr>\n      <th>BIGL AER-VENEZIA TSC</th>\n      <td>70645.0</td>\n      <td>1.012839</td>\n      <td>0.118102</td>\n      <td>1.0</td>\n      <td>1.00</td>\n      <td>1.0</td>\n      <td>1.00</td>\n      <td>4.0</td>\n    </tr>\n    <tr>\n      <th>BIGL.URBANO CHIOGGIA</th>\n      <td>2953.0</td>\n      <td>1.161531</td>\n      <td>0.433189</td>\n      <td>1.0</td>\n      <td>1.00</td>\n      <td>1.0</td>\n      <td>1.00</td>\n      <td>4.0</td>\n    </tr>\n    <tr>\n      <th>BIGL.URBANO CHIOGGIA BORDO</th>\n      <td>12.0</td>\n      <td>1.000000</td>\n      <td>0.000000</td>\n      <td>1.0</td>\n      <td>1.00</td>\n      <td>1.0</td>\n      <td>1.00</td>\n      <td>1.0</td>\n    </tr>\n    <tr>\n      <th>BIGLIETTO MERCI C.SEMPLICE</th>\n      <td>142.0</td>\n      <td>1.119718</td>\n      <td>0.346868</td>\n      <td>1.0</td>\n      <td>1.00</td>\n      <td>1.0</td>\n      <td>1.00</td>\n      <td>3.0</td>\n    </tr>\n    <tr>\n      <th>BIGLIETTO MOTO FINO 50 CC</th>\n      <td>241.0</td>\n      <td>1.012448</td>\n      <td>0.111105</td>\n      <td>1.0</td>\n      <td>1.00</td>\n      <td>1.0</td>\n      <td>1.00</td>\n      <td>2.0</td>\n    </tr>\n    <tr>\n      <th>BIGLIETTO SOC. SPORTIVE</th>\n      <td>63.0</td>\n      <td>4.349206</td>\n      <td>7.112367</td>\n      <td>1.0</td>\n      <td>1.00</td>\n      <td>1.0</td>\n      <td>2.50</td>\n      <td>30.0</td>\n    </tr>\n    <tr>\n      <th>BUS+PEOPLE MOVER ONLINE</th>\n      <td>1193.0</td>\n      <td>1.122381</td>\n      <td>0.532605</td>\n      <td>1.0</td>\n      <td>1.00</td>\n      <td>1.0</td>\n      <td>1.00</td>\n      <td>11.0</td>\n    </tr>\n    <tr>\n      <th>CAMP.MARINA-S.MARCO AR</th>\n      <td>1.0</td>\n      <td>2.000000</td>\n      <td>NaN</td>\n      <td>2.0</td>\n      <td>2.00</td>\n      <td>2.0</td>\n      <td>2.00</td>\n      <td>2.0</td>\n    </tr>\n    <tr>\n      <th>CAORLE-P.S.MARGH-S.MARCO AR</th>\n      <td>825.0</td>\n      <td>1.798788</td>\n      <td>0.697254</td>\n      <td>1.0</td>\n      <td>1.00</td>\n      <td>2.0</td>\n      <td>2.00</td>\n      <td>10.0</td>\n    </tr>\n    <tr>\n      <th>CARNET CHIOGGIA 10C. TICKET</th>\n      <td>1460.0</td>\n      <td>2.904795</td>\n      <td>2.213698</td>\n      <td>1.0</td>\n      <td>1.00</td>\n      <td>2.0</td>\n      <td>4.00</td>\n      <td>19.0</td>\n    </tr>\n    <tr>\n      <th>CAV-TREP - S.MARCO AR</th>\n      <td>7422.0</td>\n      <td>1.890865</td>\n      <td>0.654980</td>\n      <td>1.0</td>\n      <td>2.00</td>\n      <td>2.0</td>\n      <td>2.00</td>\n      <td>10.0</td>\n    </tr>\n    <tr>\n      <th>CICLOMOTORE FINO 50CC</th>\n      <td>2093.0</td>\n      <td>1.003822</td>\n      <td>0.061721</td>\n      <td>1.0</td>\n      <td>1.00</td>\n      <td>1.0</td>\n      <td>1.00</td>\n      <td>2.0</td>\n    </tr>\n    <tr>\n      <th>CICLOMOTORE OLTRE 50CC</th>\n      <td>238.0</td>\n      <td>1.000000</td>\n      <td>0.000000</td>\n      <td>1.0</td>\n      <td>1.00</td>\n      <td>1.0</td>\n      <td>1.00</td>\n      <td>1.0</td>\n    </tr>\n    <tr>\n      <th>ERACLEAMARE-S.MARCO AR</th>\n      <td>341.0</td>\n      <td>1.777126</td>\n      <td>0.692526</td>\n      <td>1.0</td>\n      <td>1.00</td>\n      <td>2.0</td>\n      <td>2.00</td>\n      <td>6.0</td>\n    </tr>\n    <tr>\n      <th>EV12-TPL 57,00-C.VE3,00</th>\n      <td>50.0</td>\n      <td>9.100000</td>\n      <td>7.611082</td>\n      <td>1.0</td>\n      <td>4.00</td>\n      <td>6.5</td>\n      <td>11.00</td>\n      <td>35.0</td>\n    </tr>\n    <tr>\n      <th>EV3-TPL 26,50-C.VE1,50</th>\n      <td>143.0</td>\n      <td>6.993007</td>\n      <td>4.793623</td>\n      <td>1.0</td>\n      <td>4.00</td>\n      <td>6.0</td>\n      <td>9.00</td>\n      <td>23.0</td>\n    </tr>\n    <tr>\n      <th>EV5-TPL 33,50-C.VE1,50</th>\n      <td>71.0</td>\n      <td>7.859155</td>\n      <td>5.270662</td>\n      <td>1.0</td>\n      <td>3.00</td>\n      <td>7.0</td>\n      <td>11.00</td>\n      <td>21.0</td>\n    </tr>\n    <tr>\n      <th>EV8-TPL 45,00-C.VE3,00</th>\n      <td>42.0</td>\n      <td>7.333333</td>\n      <td>5.435505</td>\n      <td>1.0</td>\n      <td>3.00</td>\n      <td>7.0</td>\n      <td>9.75</td>\n      <td>22.0</td>\n    </tr>\n    <tr>\n      <th>EXTRA TRATTA 1</th>\n      <td>4538.0</td>\n      <td>1.498457</td>\n      <td>1.208894</td>\n      <td>1.0</td>\n      <td>1.00</td>\n      <td>1.0</td>\n      <td>2.00</td>\n      <td>14.0</td>\n    </tr>\n    <tr>\n      <th>EXTRA TRATTA 1 BORDO</th>\n      <td>186.0</td>\n      <td>1.102151</td>\n      <td>0.337392</td>\n      <td>1.0</td>\n      <td>1.00</td>\n      <td>1.0</td>\n      <td>1.00</td>\n      <td>3.0</td>\n    </tr>\n    <tr>\n      <th>EXTRA TRATTA 1 TVM</th>\n      <td>711.0</td>\n      <td>1.126582</td>\n      <td>0.851352</td>\n      <td>1.0</td>\n      <td>1.00</td>\n      <td>1.0</td>\n      <td>1.00</td>\n      <td>21.0</td>\n    </tr>\n    <tr>\n      <th>EXTRA TRATTA 2</th>\n      <td>20687.0</td>\n      <td>1.600135</td>\n      <td>1.326412</td>\n      <td>1.0</td>\n      <td>1.00</td>\n      <td>1.0</td>\n      <td>2.00</td>\n      <td>34.0</td>\n    </tr>\n    <tr>\n      <th>EXTRA TRATTA 2 TVM</th>\n      <td>687.0</td>\n      <td>1.088792</td>\n      <td>0.414011</td>\n      <td>1.0</td>\n      <td>1.00</td>\n      <td>1.0</td>\n      <td>1.00</td>\n      <td>5.0</td>\n    </tr>\n    <tr>\n      <th>EXTRA TRATTA 3</th>\n      <td>14976.0</td>\n      <td>1.516426</td>\n      <td>1.116038</td>\n      <td>1.0</td>\n      <td>1.00</td>\n      <td>1.0</td>\n      <td>2.00</td>\n      <td>23.0</td>\n    </tr>\n    <tr>\n      <th>EXTRA TRATTA 3 TVM</th>\n      <td>364.0</td>\n      <td>1.093407</td>\n      <td>0.572136</td>\n      <td>1.0</td>\n      <td>1.00</td>\n      <td>1.0</td>\n      <td>1.00</td>\n      <td>9.0</td>\n    </tr>\n    <tr>\n      <th>EXTRA TRATTA 4</th>\n      <td>9197.0</td>\n      <td>1.487224</td>\n      <td>1.098644</td>\n      <td>1.0</td>\n      <td>1.00</td>\n      <td>1.0</td>\n      <td>2.00</td>\n      <td>27.0</td>\n    </tr>\n    <tr>\n      <th>EXTRA TRATTA 4 TVM</th>\n      <td>365.0</td>\n      <td>1.060274</td>\n      <td>0.280668</td>\n      <td>1.0</td>\n      <td>1.00</td>\n      <td>1.0</td>\n      <td>1.00</td>\n      <td>4.0</td>\n    </tr>\n    <tr>\n      <th>EXTRA TRATTA 5</th>\n      <td>3532.0</td>\n      <td>1.513873</td>\n      <td>1.162074</td>\n      <td>1.0</td>\n      <td>1.00</td>\n      <td>1.0</td>\n      <td>2.00</td>\n      <td>22.0</td>\n    </tr>\n    <tr>\n      <th>EXTRA TRATTA 5 TVM</th>\n      <td>132.0</td>\n      <td>1.212121</td>\n      <td>0.579949</td>\n      <td>1.0</td>\n      <td>1.00</td>\n      <td>1.0</td>\n      <td>1.00</td>\n      <td>5.0</td>\n    </tr>\n    <tr>\n      <th>EXTRA TRATTA 6</th>\n      <td>1253.0</td>\n      <td>1.448524</td>\n      <td>1.281451</td>\n      <td>1.0</td>\n      <td>1.00</td>\n      <td>1.0</td>\n      <td>2.00</td>\n      <td>33.0</td>\n    </tr>\n    <tr>\n      <th>EXTRA TRATTA 6 TVM</th>\n      <td>9.0</td>\n      <td>1.000000</td>\n      <td>0.000000</td>\n      <td>1.0</td>\n      <td>1.00</td>\n      <td>1.0</td>\n      <td>1.00</td>\n      <td>1.0</td>\n    </tr>\n    <tr>\n      <th>EXTRA TRATTA 7</th>\n      <td>367.0</td>\n      <td>1.400545</td>\n      <td>0.771982</td>\n      <td>1.0</td>\n      <td>1.00</td>\n      <td>1.0</td>\n      <td>2.00</td>\n      <td>7.0</td>\n    </tr>\n    <tr>\n      <th>EXTRA TRATTA 7 TVM</th>\n      <td>18.0</td>\n      <td>1.000000</td>\n      <td>0.000000</td>\n      <td>1.0</td>\n      <td>1.00</td>\n      <td>1.0</td>\n      <td>1.00</td>\n      <td>1.0</td>\n    </tr>\n    <tr>\n      <th>EXTRA TRATTA 8-9-10</th>\n      <td>583.0</td>\n      <td>1.313894</td>\n      <td>0.766073</td>\n      <td>1.0</td>\n      <td>1.00</td>\n      <td>1.0</td>\n      <td>1.00</td>\n      <td>10.0</td>\n    </tr>\n    <tr>\n      <th>EXTRA TRATTA 8-9-10 TVM</th>\n      <td>23.0</td>\n      <td>1.000000</td>\n      <td>0.000000</td>\n      <td>1.0</td>\n      <td>1.00</td>\n      <td>1.0</td>\n      <td>1.00</td>\n      <td>1.0</td>\n    </tr>\n    <tr>\n      <th>EXTRA TRATTE 2-3-4 BORDO</th>\n      <td>550.0</td>\n      <td>1.165455</td>\n      <td>0.508478</td>\n      <td>1.0</td>\n      <td>1.00</td>\n      <td>1.0</td>\n      <td>1.00</td>\n      <td>6.0</td>\n    </tr>\n    <tr>\n      <th>EXTRA TRATTE 5-6-7 BORDO</th>\n      <td>32.0</td>\n      <td>1.187500</td>\n      <td>0.535061</td>\n      <td>1.0</td>\n      <td>1.00</td>\n      <td>1.0</td>\n      <td>1.00</td>\n      <td>3.0</td>\n    </tr>\n    <tr>\n      <th>EXTRA TRATTE 8-9-10 BORDO</th>\n      <td>3.0</td>\n      <td>1.000000</td>\n      <td>0.000000</td>\n      <td>1.0</td>\n      <td>1.00</td>\n      <td>1.0</td>\n      <td>1.00</td>\n      <td>1.0</td>\n    </tr>\n    <tr>\n      <th>FERRY11-AUTOBUS</th>\n      <td>3.0</td>\n      <td>1.000000</td>\n      <td>0.000000</td>\n      <td>1.0</td>\n      <td>1.00</td>\n      <td>1.0</td>\n      <td>1.00</td>\n      <td>1.0</td>\n    </tr>\n    <tr>\n      <th>FERRY11-AUTOCARRI+35Q.</th>\n      <td>836.0</td>\n      <td>1.002392</td>\n      <td>0.048882</td>\n      <td>1.0</td>\n      <td>1.00</td>\n      <td>1.0</td>\n      <td>1.00</td>\n      <td>2.0</td>\n    </tr>\n    <tr>\n      <th>FERRY11-CARRI+35Q.RIM.</th>\n      <td>13.0</td>\n      <td>1.000000</td>\n      <td>0.000000</td>\n      <td>1.0</td>\n      <td>1.00</td>\n      <td>1.0</td>\n      <td>1.00</td>\n      <td>1.0</td>\n    </tr>\n    <tr>\n      <th>FERRY17-AUTOBUS</th>\n      <td>133.0</td>\n      <td>1.007519</td>\n      <td>0.086711</td>\n      <td>1.0</td>\n      <td>1.00</td>\n      <td>1.0</td>\n      <td>1.00</td>\n      <td>2.0</td>\n    </tr>\n    <tr>\n      <th>FERRY17-AUTOCARRI+35Q.</th>\n      <td>2962.0</td>\n      <td>1.025321</td>\n      <td>0.633176</td>\n      <td>1.0</td>\n      <td>1.00</td>\n      <td>1.0</td>\n      <td>1.00</td>\n      <td>29.0</td>\n    </tr>\n    <tr>\n      <th>FERRY17-CARRI+35Q.RIM.</th>\n      <td>654.0</td>\n      <td>1.021407</td>\n      <td>0.227175</td>\n      <td>1.0</td>\n      <td>1.00</td>\n      <td>1.0</td>\n      <td>1.00</td>\n      <td>4.0</td>\n    </tr>\n    <tr>\n      <th>FERRY17-TRASPORTI PERICOLOSI</th>\n      <td>32.0</td>\n      <td>1.000000</td>\n      <td>0.000000</td>\n      <td>1.0</td>\n      <td>1.00</td>\n      <td>1.0</td>\n      <td>1.00</td>\n      <td>1.0</td>\n    </tr>\n    <tr>\n      <th>GRUPPI E SCUOLE</th>\n      <td>478.0</td>\n      <td>7.156904</td>\n      <td>10.609046</td>\n      <td>1.0</td>\n      <td>1.00</td>\n      <td>2.0</td>\n      <td>10.00</td>\n      <td>51.0</td>\n    </tr>\n    <tr>\n      <th>GRUPPI E SCUOLE AR-SM</th>\n      <td>1123.0</td>\n      <td>1.698130</td>\n      <td>0.600554</td>\n      <td>1.0</td>\n      <td>1.00</td>\n      <td>2.0</td>\n      <td>2.00</td>\n      <td>4.0</td>\n    </tr>\n    <tr>\n      <th>GRUPPI E SCUOLE ONLINE 2VIAGGI</th>\n      <td>14.0</td>\n      <td>12.857143</td>\n      <td>9.882830</td>\n      <td>1.0</td>\n      <td>5.00</td>\n      <td>13.0</td>\n      <td>16.00</td>\n      <td>37.0</td>\n    </tr>\n    <tr>\n      <th>GRUPPI E SCUOLE ONLINE TVM AR</th>\n      <td>1781.0</td>\n      <td>1.738911</td>\n      <td>0.625126</td>\n      <td>1.0</td>\n      <td>1.00</td>\n      <td>2.0</td>\n      <td>2.00</td>\n      <td>4.0</td>\n    </tr>\n    <tr>\n      <th>GRUPPI E SCUOLE ONLINE TVM CS</th>\n      <td>206.0</td>\n      <td>1.281553</td>\n      <td>0.848729</td>\n      <td>1.0</td>\n      <td>1.00</td>\n      <td>1.0</td>\n      <td>1.00</td>\n      <td>8.0</td>\n    </tr>\n    <tr>\n      <th>GRUPPI ORGANIZZATI CS</th>\n      <td>123.0</td>\n      <td>2.463415</td>\n      <td>5.446149</td>\n      <td>1.0</td>\n      <td>1.00</td>\n      <td>1.0</td>\n      <td>1.00</td>\n      <td>38.0</td>\n    </tr>\n    <tr>\n      <th>JESOLO - S.MARCO AR</th>\n      <td>7354.0</td>\n      <td>1.852053</td>\n      <td>0.615436</td>\n      <td>1.0</td>\n      <td>2.00</td>\n      <td>2.0</td>\n      <td>2.00</td>\n      <td>8.0</td>\n    </tr>\n    <tr>\n      <th>L.11-AUTO \"AEB\" FINO A 4 METRI</th>\n      <td>1405.0</td>\n      <td>1.032028</td>\n      <td>0.231984</td>\n      <td>1.0</td>\n      <td>1.00</td>\n      <td>1.0</td>\n      <td>1.00</td>\n      <td>7.0</td>\n    </tr>\n    <tr>\n      <th>L.11-AUTO \"C\"DA 4,01 A 4,50 MT</th>\n      <td>1089.0</td>\n      <td>1.018365</td>\n      <td>0.153491</td>\n      <td>1.0</td>\n      <td>1.00</td>\n      <td>1.0</td>\n      <td>1.00</td>\n      <td>4.0</td>\n    </tr>\n    <tr>\n      <th>L.11-AUTO \"D\" OLTRE METRI 4,50</th>\n      <td>1804.0</td>\n      <td>1.022727</td>\n      <td>0.329766</td>\n      <td>1.0</td>\n      <td>1.00</td>\n      <td>1.0</td>\n      <td>1.00</td>\n      <td>11.0</td>\n    </tr>\n    <tr>\n      <th>L.17-AUTO \"AEB\" FINO A 4 METRI</th>\n      <td>8112.0</td>\n      <td>1.020587</td>\n      <td>0.212877</td>\n      <td>1.0</td>\n      <td>1.00</td>\n      <td>1.0</td>\n      <td>1.00</td>\n      <td>9.0</td>\n    </tr>\n    <tr>\n      <th>L.17-AUTO \"C\"DA 4,01 A 4,50 MT</th>\n      <td>6821.0</td>\n      <td>1.017593</td>\n      <td>0.164205</td>\n      <td>1.0</td>\n      <td>1.00</td>\n      <td>1.0</td>\n      <td>1.00</td>\n      <td>7.0</td>\n    </tr>\n    <tr>\n      <th>L.17-AUTO \"D\" OLTRE METRI 4,50</th>\n      <td>13814.0</td>\n      <td>1.019328</td>\n      <td>0.226372</td>\n      <td>1.0</td>\n      <td>1.00</td>\n      <td>1.0</td>\n      <td>1.00</td>\n      <td>17.0</td>\n    </tr>\n    <tr>\n      <th>LIGNANO-S.MARCO AR</th>\n      <td>159.0</td>\n      <td>1.723270</td>\n      <td>0.786854</td>\n      <td>1.0</td>\n      <td>1.00</td>\n      <td>2.0</td>\n      <td>2.00</td>\n      <td>7.0</td>\n    </tr>\n    <tr>\n      <th>NA-12H-TPL 13,40-COMVE4,60</th>\n      <td>2.0</td>\n      <td>1.500000</td>\n      <td>0.707107</td>\n      <td>1.0</td>\n      <td>1.25</td>\n      <td>1.5</td>\n      <td>1.75</td>\n      <td>2.0</td>\n    </tr>\n    <tr>\n      <th>NA-TRAGHETTO ORDINARIO</th>\n      <td>2.0</td>\n      <td>54.500000</td>\n      <td>75.660426</td>\n      <td>1.0</td>\n      <td>27.75</td>\n      <td>54.5</td>\n      <td>81.25</td>\n      <td>108.0</td>\n    </tr>\n    <tr>\n      <th>PRENOTAZ OCCASIONALE SI BARRA</th>\n      <td>10420.0</td>\n      <td>1.073608</td>\n      <td>0.401856</td>\n      <td>1.0</td>\n      <td>1.00</td>\n      <td>1.0</td>\n      <td>1.00</td>\n      <td>14.0</td>\n    </tr>\n    <tr>\n      <th>PRENOTAZIONE VEICOLO ABBONATO</th>\n      <td>20.0</td>\n      <td>1.000000</td>\n      <td>0.000000</td>\n      <td>1.0</td>\n      <td>1.00</td>\n      <td>1.0</td>\n      <td>1.00</td>\n      <td>1.0</td>\n    </tr>\n    <tr>\n      <th>SALONE NAUTICO 2022 1 CORSA</th>\n      <td>690.0</td>\n      <td>1.040580</td>\n      <td>0.211648</td>\n      <td>1.0</td>\n      <td>1.00</td>\n      <td>1.0</td>\n      <td>1.00</td>\n      <td>3.0</td>\n    </tr>\n    <tr>\n      <th>SALONE NAUTICO 2022 A/R</th>\n      <td>1894.0</td>\n      <td>1.539599</td>\n      <td>0.581694</td>\n      <td>1.0</td>\n      <td>1.00</td>\n      <td>2.0</td>\n      <td>2.00</td>\n      <td>5.0</td>\n    </tr>\n    <tr>\n      <th>SOSTITUTIVO PASS IMOB</th>\n      <td>1.0</td>\n      <td>1.000000</td>\n      <td>NaN</td>\n      <td>1.0</td>\n      <td>1.00</td>\n      <td>1.0</td>\n      <td>1.00</td>\n      <td>1.0</td>\n    </tr>\n    <tr>\n      <th>SPIAGGEAR-TPL 11,75-COMVE1,25</th>\n      <td>67.0</td>\n      <td>1.865672</td>\n      <td>0.385161</td>\n      <td>1.0</td>\n      <td>2.00</td>\n      <td>2.0</td>\n      <td>2.00</td>\n      <td>3.0</td>\n    </tr>\n    <tr>\n      <th>SU E ZO PER I PONTI 2022</th>\n      <td>1253.0</td>\n      <td>1.594573</td>\n      <td>0.674764</td>\n      <td>1.0</td>\n      <td>1.00</td>\n      <td>2.0</td>\n      <td>2.00</td>\n      <td>6.0</td>\n    </tr>\n    <tr>\n      <th>TARIFFA CAROZZINA</th>\n      <td>2333.0</td>\n      <td>1.102872</td>\n      <td>0.337298</td>\n      <td>1.0</td>\n      <td>1.00</td>\n      <td>1.0</td>\n      <td>1.00</td>\n      <td>4.0</td>\n    </tr>\n    <tr>\n      <th>TRAGH-TPL 4,41-C.VE0,59</th>\n      <td>10792.0</td>\n      <td>1.074778</td>\n      <td>0.381027</td>\n      <td>1.0</td>\n      <td>1.00</td>\n      <td>1.0</td>\n      <td>1.00</td>\n      <td>10.0</td>\n    </tr>\n    <tr>\n      <th>TRAGH-TPL 8,82-C.VE1,18</th>\n      <td>22955.0</td>\n      <td>1.670704</td>\n      <td>0.652067</td>\n      <td>1.0</td>\n      <td>1.00</td>\n      <td>2.0</td>\n      <td>2.00</td>\n      <td>19.0</td>\n    </tr>\n    <tr>\n      <th>TRAGHETTO GRATUITO</th>\n      <td>7.0</td>\n      <td>1.142857</td>\n      <td>0.377964</td>\n      <td>1.0</td>\n      <td>1.00</td>\n      <td>1.0</td>\n      <td>1.00</td>\n      <td>2.0</td>\n    </tr>\n  </tbody>\n</table>\n</div>"
     },
     "execution_count": 59,
     "metadata": {},
     "output_type": "execute_result"
    }
   ],
   "source": [
    "print(\"Information about the tickets with code 8 related to the serial number: \")\n",
    "df[df['TICKET_CODE'] == '8'].groupby('DESCRIZIONE_TITOLO')['SERIALE'].value_counts().groupby('DESCRIZIONE_TITOLO').describe()"
   ]
  },
  {
   "cell_type": "markdown",
   "metadata": {},
   "source": [
    "### Summary of the ticket profiles"
   ]
  },
  {
   "cell_type": "code",
   "execution_count": 60,
   "metadata": {
    "ExecuteTime": {
     "start_time": "2023-04-18T16:17:40.437100Z",
     "end_time": "2023-04-18T16:17:40.590324Z"
    }
   },
   "outputs": [
    {
     "data": {
      "text/plain": "One-day ticket                 1103633\nTwo-day ticket                  682828\nThree-day ticket                898863\nSeven-day ticket                482235\nMonthly ticket                    1557\nMonthly ticket for students          0\nMonthly ticket for retired           0\nMonthly ticket for workers           0\nAnnual ticket                        0\nAnnual ticket for students           0\nAnnual ticket for retired            0\nAnnual ticket for workers            0\n75 minutes ticket              1511459\nOther ticket                    376066\nName: TICKET_CODE, dtype: int64"
     },
     "execution_count": 60,
     "metadata": {},
     "output_type": "execute_result"
    }
   ],
   "source": [
    "# Print the number of tickets for each ticket profile code ordered by the code of the ticket profile; print the name of the ticket profile using the dictionary 'dict_tickets'\n",
    "df['TICKET_CODE'].value_counts().sort_index().rename(dict_tickets).reindex(dict_tickets.values(), fill_value=0)"
   ]
  },
  {
   "cell_type": "code",
   "execution_count": 61,
   "metadata": {
    "ExecuteTime": {
     "start_time": "2023-04-18T16:17:40.453069Z",
     "end_time": "2023-04-18T16:17:44.896961Z"
    }
   },
   "outputs": [
    {
     "name": "stdout",
     "output_type": "stream",
     "text": [
      "The number of tickets for each ticket profile code ordered by the code of the ticket profile, with a reference to the name of the serial number, is: \n"
     ]
    },
    {
     "data": {
      "text/plain": "                 count       mean        std  min  25%   50%   75%    max\nTICKET_CODE                                                              \n1             297767.0   3.706364   2.137101  1.0  2.0   3.0   5.0  119.0\n2             107261.0   6.366042   3.527327  1.0  4.0   6.0   8.0   68.0\n3             109037.0   8.243651   4.567479  1.0  5.0   8.0  11.0  113.0\n4              35170.0  13.711544   7.863425  1.0  8.0  13.0  18.0  121.0\n5                228.0   6.828947  11.691770  1.0  1.0   1.0   4.0   58.0\n7            1200462.0   1.259064   0.641590  1.0  1.0   1.0   1.0   26.0\n8             288857.0   1.301911   0.971396  1.0  1.0   1.0   1.0  108.0",
      "text/html": "<div>\n<style scoped>\n    .dataframe tbody tr th:only-of-type {\n        vertical-align: middle;\n    }\n\n    .dataframe tbody tr th {\n        vertical-align: top;\n    }\n\n    .dataframe thead th {\n        text-align: right;\n    }\n</style>\n<table border=\"1\" class=\"dataframe\">\n  <thead>\n    <tr style=\"text-align: right;\">\n      <th></th>\n      <th>count</th>\n      <th>mean</th>\n      <th>std</th>\n      <th>min</th>\n      <th>25%</th>\n      <th>50%</th>\n      <th>75%</th>\n      <th>max</th>\n    </tr>\n    <tr>\n      <th>TICKET_CODE</th>\n      <th></th>\n      <th></th>\n      <th></th>\n      <th></th>\n      <th></th>\n      <th></th>\n      <th></th>\n      <th></th>\n    </tr>\n  </thead>\n  <tbody>\n    <tr>\n      <th>1</th>\n      <td>297767.0</td>\n      <td>3.706364</td>\n      <td>2.137101</td>\n      <td>1.0</td>\n      <td>2.0</td>\n      <td>3.0</td>\n      <td>5.0</td>\n      <td>119.0</td>\n    </tr>\n    <tr>\n      <th>2</th>\n      <td>107261.0</td>\n      <td>6.366042</td>\n      <td>3.527327</td>\n      <td>1.0</td>\n      <td>4.0</td>\n      <td>6.0</td>\n      <td>8.0</td>\n      <td>68.0</td>\n    </tr>\n    <tr>\n      <th>3</th>\n      <td>109037.0</td>\n      <td>8.243651</td>\n      <td>4.567479</td>\n      <td>1.0</td>\n      <td>5.0</td>\n      <td>8.0</td>\n      <td>11.0</td>\n      <td>113.0</td>\n    </tr>\n    <tr>\n      <th>4</th>\n      <td>35170.0</td>\n      <td>13.711544</td>\n      <td>7.863425</td>\n      <td>1.0</td>\n      <td>8.0</td>\n      <td>13.0</td>\n      <td>18.0</td>\n      <td>121.0</td>\n    </tr>\n    <tr>\n      <th>5</th>\n      <td>228.0</td>\n      <td>6.828947</td>\n      <td>11.691770</td>\n      <td>1.0</td>\n      <td>1.0</td>\n      <td>1.0</td>\n      <td>4.0</td>\n      <td>58.0</td>\n    </tr>\n    <tr>\n      <th>7</th>\n      <td>1200462.0</td>\n      <td>1.259064</td>\n      <td>0.641590</td>\n      <td>1.0</td>\n      <td>1.0</td>\n      <td>1.0</td>\n      <td>1.0</td>\n      <td>26.0</td>\n    </tr>\n    <tr>\n      <th>8</th>\n      <td>288857.0</td>\n      <td>1.301911</td>\n      <td>0.971396</td>\n      <td>1.0</td>\n      <td>1.0</td>\n      <td>1.0</td>\n      <td>1.0</td>\n      <td>108.0</td>\n    </tr>\n  </tbody>\n</table>\n</div>"
     },
     "execution_count": 61,
     "metadata": {},
     "output_type": "execute_result"
    }
   ],
   "source": [
    "print(\"The number of tickets for each ticket profile code ordered by the code of the ticket profile, with a reference to the name of the serial number, is: \")\n",
    "df.groupby('TICKET_CODE')['SERIALE'].value_counts().groupby('TICKET_CODE').describe()"
   ]
  },
  {
   "cell_type": "code",
   "execution_count": 62,
   "metadata": {
    "ExecuteTime": {
     "start_time": "2023-04-18T16:17:44.891673Z",
     "end_time": "2023-04-18T16:17:48.503108Z"
    }
   },
   "outputs": [
    {
     "data": {
      "text/plain": "<Figure size 1080x576 with 1 Axes>",
      "image/png": "[encoded data removed]"
     },
     "metadata": {},
     "output_type": "display_data"
    }
   ],
   "source": [
    "# Countplot of the column 'TICKET_CODE'\n",
    "fig, ax = plt.subplots(figsize=(15,8))\n",
    "# Countplot of the column 'TICKET_CODE'\n",
    "sns.countplot(x='TICKET_CODE', data=df, order=df['TICKET_CODE'].value_counts().sort_index().index)\n",
    "plt.title('Countplot of the column TICKET_CODE', fontsize=20)\n",
    "plt.xlabel('Ticket code', fontsize=15)\n",
    "plt.ylabel('Count (in millions)', fontsize=15)\n",
    "\n",
    "# Change yticks to have a better visualization\n",
    "scale = np.arange(0, max(df['TICKET_CODE'].value_counts())+100000, 100000)\n",
    "plt.yticks(scale)\n",
    "\n",
    "# Add the percentage of each category on top of the bars\n",
    "for p in ax.patches:\n",
    "    ax.annotate('{:.3f}%'.format(100*p.get_height()/len(df)), (p.get_x()+0.3, p.get_height()+10000))\n",
    "\n",
    "# Add the count of each category on top of the bars\n",
    "for p in ax.patches:\n",
    "    ax.annotate('{:.0f}'.format(p.get_height()), (p.get_x()+0.3, p.get_height()+30000))\n",
    "\n",
    "# Add a padding on the top of the plot\n",
    "plt.subplots_adjust(top=3)"
   ]
  },
  {
   "cell_type": "code",
   "execution_count": 63,
   "metadata": {
    "ExecuteTime": {
     "start_time": "2023-04-18T16:17:48.514807Z",
     "end_time": "2023-04-18T16:17:49.431153Z"
    }
   },
   "outputs": [
    {
     "data": {
      "text/plain": "<Figure size 1440x720 with 1 Axes>",
      "image/png": "[encoded data removed]"
     },
     "metadata": {},
     "output_type": "display_data"
    }
   ],
   "source": [
    "# Plot a pie chart of the column 'TICKET_CODE'\n",
    "fig, ax = plt.subplots(figsize=(20,10))\n",
    "df['TICKET_CODE'].value_counts().sort_index().plot.pie(startangle=90)\n",
    "\n",
    "# Add the name of the ticket profile on the pie chart\n",
    "plt.legend(labels=df['TICKET_CODE'].value_counts().sort_index().rename(dict_tickets).index, loc='center left', bbox_to_anchor=(1, 0, 0.5, 1), fontsize=15)\n",
    "\n",
    "plt.title('Pie chart of the column TICKET_CODE', fontsize=20)\n",
    "plt.ylabel('')\n",
    "fig.patch.set_facecolor('white')\n",
    "plt.show()"
   ]
  },
  {
   "attachments": {},
   "cell_type": "markdown",
   "metadata": {},
   "source": [
    "#### Delete the validation that are with TICKET_CODE = 8 (other tickets) "
   ]
  },
  {
   "cell_type": "code",
   "execution_count": 64,
   "metadata": {
    "ExecuteTime": {
     "start_time": "2023-04-18T16:17:49.862342Z",
     "end_time": "2023-04-18T16:17:50.720030Z"
    }
   },
   "outputs": [
    {
     "name": "stdout",
     "output_type": "stream",
     "text": [
      "The number of rows before the deletion of the 8 tickets is: 5056641\n",
      "The number of rows after the deletion of the 8 tickets is: 4680575\n",
      "The difference is: 376066\n"
     ]
    }
   ],
   "source": [
    "shape_before = df.shape[0]\n",
    "\n",
    "# Delete 8 tickets because they are not useful for the analysis \n",
    "df = df[df['TICKET_CODE'] != '8']\n",
    "\n",
    "# Print the number of rows before and after the deletion of the 8 tickets and the difference\n",
    "print('The number of rows before the deletion of the 8 tickets is: {}'.format(shape_before))\n",
    "print('The number of rows after the deletion of the 8 tickets is: {}'.format(df.shape[0]))\n",
    "print('The difference is: {}'.format(shape_before - df.shape[0]))\n",
    "\n",
    "# TODO: to de-comment later"
   ]
  },
  {
   "cell_type": "markdown",
   "metadata": {},
   "source": [
    "## Data Cleaning"
   ]
  },
  {
   "cell_type": "markdown",
   "metadata": {},
   "source": [
    "### Stops similar"
   ]
  },
  {
   "cell_type": "code",
   "execution_count": 65,
   "metadata": {
    "ExecuteTime": {
     "start_time": "2023-04-18T16:17:50.927645Z",
     "end_time": "2023-04-18T16:17:51.091585Z"
    }
   },
   "outputs": [
    {
     "name": "stdout",
     "output_type": "stream",
     "text": [
      "The number of unique values in the column DESCRIZIONE is: 600\n"
     ]
    }
   ],
   "source": [
    "# Print the number of unique values in the column 'DESCRIZIONE' that are the names of the stops\n",
    "print('The number of unique values in the column DESCRIZIONE is: {}'.format(df['DESCRIZIONE'].nunique()))"
   ]
  },
  {
   "cell_type": "code",
   "execution_count": 66,
   "metadata": {
    "ExecuteTime": {
     "start_time": "2023-04-18T16:17:51.095710Z",
     "end_time": "2023-04-18T16:17:51.099894Z"
    }
   },
   "outputs": [],
   "source": [
    "def get_common_prefix(string_list):\n",
    "    \"\"\"\n",
    "        This function returns the common prefix of a list of strings.\n",
    "        If there is no common prefix, it returns an empty string.\n",
    "        :param string_list: list of strings\n",
    "        :return: string that is the common prefix of the list of strings\n",
    "    \"\"\"\n",
    "    first_prefix = string_list[0].split(\" \")[0]\n",
    "    # Create and empty dictionary\n",
    "    prefix_dict = {}\n",
    "\n",
    "    # Iterate over the list of strings\n",
    "    for string in string_list[1:]:\n",
    "        # Check if the string starts with the first prefix\n",
    "        if not string.startswith(first_prefix):\n",
    "            # If the string does not start with the first prefix, split the string and take the first word\n",
    "            first_prefix = string.split(\" \")[0]\n",
    "            if string.startswith(first_prefix):\n",
    "                # In the dictionary add the new prefix as key and the list of strings that have this prefix as value\n",
    "                prefix_dict[first_prefix] = [string for string in string_list if string.startswith(first_prefix)]\n",
    "        else:\n",
    "            # In the dictionary add the new prefix as key and the list of strings that have this prefix as value\n",
    "            prefix_dict[first_prefix] = [string for string in string_list if string.startswith(first_prefix)]\n",
    "    return prefix_dict"
   ]
  },
  {
   "cell_type": "code",
   "execution_count": 67,
   "metadata": {
    "ExecuteTime": {
     "start_time": "2023-04-18T16:17:51.106899Z",
     "end_time": "2023-04-18T16:17:53.221665Z"
    }
   },
   "outputs": [],
   "source": [
    "# To avoid problem regarding the letters in uppercase and lowercase, convert all the letters in uppercase\n",
    "df['DESCRIZIONE'] = df['DESCRIZIONE'].str.upper()"
   ]
  },
  {
   "cell_type": "code",
   "execution_count": 68,
   "metadata": {
    "ExecuteTime": {
     "start_time": "2023-04-18T16:17:53.449203Z",
     "end_time": "2023-04-18T16:17:53.674715Z"
    }
   },
   "outputs": [
    {
     "name": "stdout",
     "output_type": "stream",
     "text": [
      "FERROVIA: ['FERROVIA \"D\"', 'FERROVIA \"B\"', 'FERROVIA \"E\"', 'FERROVIA \"C\"', 'FERROVIA \"A\"']\n",
      "P.LE: ['P.LE ROMA \"G', 'P.LE ROMA \"E', 'P.LE ROMA \"B', 'P.LE ROMA \"F', 'P.LE ROMA \"C', 'P.LE ROMA \"D', 'P.LE ROMA \"A']\n",
      "VENEZIA: ['VENEZIA', 'VENEZIA CORS']\n",
      "GIUDECCA: ['GIUDECCA PAL']\n",
      "S.: ['S. MARCUOLA-', 'S.ERASMO CHI', 'S.ERASMO CAP', 'S. ERASMO PU', 'S. MARCO (GI', 'S. PIETRO IN']\n",
      "SAN: ['SAN MARCO-SA', 'SAN MARCO VA', 'SAN STAE', 'SAN MARCO MA', 'SANTA MARIA ', \"SAN TOMA'\", 'SAN ROCCO BR', 'SAN GIORGIO', \"SANT' ELENA\", 'SANTA MARTA', \"SAN DONA' RI\", \"SAN DONA' PA\", 'SAN MARCO CA', \"SANT' ANGELO\", \"SANT'ANTONIO\", \"SAN DONA' PI\", 'SAN SAMUELE', \"SAN DONA' MA\", 'SAN MARCO MO', 'SAN SILVESTR', 'SAN MARCO BO', 'SAN MARCO FO', 'SAN MARCO MU', 'SAN MARCO SA', \"SAN NICOLO'\", \"SAN DONA' CE\", \"SANT' ALVISE\", 'SAN SERVOLO', 'SAN BASILIO', \"SAN DONA' VA\", \"SAN DONA' FA\", 'SAN PIETRO D', \"SAN NICOLO' \", 'SAN LAZZARO', 'SAN LIBERALE', 'SAN PIETRO P', 'SANPIETRO CA', \"SAN DONA' PE\", 'SAN PIETRO C', 'SAN PIETRO B', 'SANSOVINO VE', 'SAN TROVASO']\n",
      "PIAVE: ['PIAVE FIUME', 'PIAVE PUCCIN', 'PIAVE PODGOR']\n",
      "F.TE: ['F.TE NOVE \"C', 'F.TE NOVE \"A', 'F.TE NOVE \"D', 'F.TE NOVE']\n",
      "AEROPORTO: ['AEROPORTO MA']\n",
      "RIALTO: ['RIALTO', 'RIALTO MERCA', 'RIALTO \"A\"']\n",
      "PELLESTRINA: ['PELLESTRINA', 'PELLESTRINA ']\n",
      "ACCADEMIA: ['ACCADEMIA \"B', 'ACCADEMIA \"A']\n",
      "LIDO: ['LIDO S.M.E. ', 'LIDO SAN NIC']\n",
      "MESTRE: ['MESTRE CENTR']\n",
      "SPINEA: ['SPINEA MARTI', 'SPINEA GIORG', 'SPINEA ALFIE', 'SPINEA PIAZZ', 'SPINEA POZZU', 'SPINEA ROSSI', 'SPINEA DESEN', 'SPINEA VILLA', 'SPINEA SANRE', 'SPINEA ORGNA', 'SPINEA REPUB']\n",
      "ZATTERE: ['ZATTERE']\n",
      "GIGLIO: ['GIGLIO']\n",
      "LIBERTA': [\"LIBERTA' SAN\", \"LIBERTA' RIG\", \"LIBERTA' FIN\", \"LIBERTA' POR\", \"LIBERTA' COM\"]\n",
      "DON: ['DON STURZO V', 'DON STURZO P']\n",
      "SANTA: ['SANTA MARIA ', 'SANTA MARTA']\n",
      "CA': [\"CA' D'ORO\", \"CA' REZZONIC\", \"CA' ROSSA OB\", \"CA' ROSSA VO\", \"CA' ROSSA SE\", \"CA' SABBIONI\", \"CA' ROSSA BI\", \"CA' MARCELLO\", \"CA' LIN GATT\", \"CA' LIN ERAC\", \"CA' BIANCA L\", \"CA' LIN CAST\", \"CA' SOLARO C\"]\n",
      "TRONCHETTO: ['TRONCHETTO M', 'TRONCHETTO F', 'TRONCHETTO', 'TRONCHETTO T', 'TRONCHETTO V']\n",
      "ZITELLE: ['ZITELLE']\n",
      "GIARDINI: ['GIARDINI \"B\"', 'GIARDINI BIE', 'GIARDINI \"A\"']\n",
      "SANT': [\"SANT' ELENA\", \"SANT' ANGELO\", \"SANT'ANTONIO\", \"SANT' ALVISE\"]\n",
      "ARSENALE: ['ARSENALE \"B\"', 'ARSENALE \"A\"']\n",
      "GALLO: ['GALLO BARBAR', 'GALLO GIOLIT', 'GALLO LOREDA', 'GALLO TORTA', \"GALLO SANT'A\", 'GALLO MOROSI', 'GALLO BRAGAD', 'GALLO CONTAR', 'GALLO DEI KI', 'GALLO DEI GI', 'GALLO BIBLIO', 'GALLO GALOPP']\n",
      "ORTO: ['ORTO']\n",
      "BANDIERA: ['BANDIERA GHE', 'BANDIERA CRU', 'BANDIERA TOM', 'BANDIERA CAN', 'BANDIERA DUR', 'BANDIERA PIL']\n",
      "GARIBALDI: ['GARIBALDI MU', 'GARIBALDI OG', 'GARIBALDI GI', 'GARIBALDI  C']\n",
      "PUNTA: ['PUNTA SABBIO']\n",
      "BISSUOLA: ['BISSUOLA COL', 'BISSUOLA CAD', 'BISSUOLA ESI', 'BISSUOLA PIS', 'BISSUOLA TEV', 'BISSUOLA VAR']\n",
      "CANAL: ['CANAL LEONE']\n",
      "LAVELLI: ['LAVELLI PAOL']\n",
      "RIZZARDI: ['RIZZARDI CAR']\n",
      "STAZIONE: ['STAZIONE MES', 'STAZIONE PAD', 'STAZIONE MAR']\n",
      "CARDUCCI: ['CARDUCCI PAS', 'CARDUCCI FEL']\n",
      "PERON: ['PERON SARAGA', 'PERON BASEGG']\n",
      "REDENTORE: ['REDENTORE']\n",
      "ALTINIA: ['ALTINIA INDR', \"ALTINIA CA' \", 'ALTINIA SAN ', 'ALTINIA MUNI', 'ALTINIA BERI', 'ALTINIA FAVA', 'ALTINIA 181', 'ALTINIA FORT']\n",
      "BELFREDO: ['BELFREDO TER']\n",
      "ORLANDA: ['ORLANDA APPI', 'ORLANDA BAGA', 'ORLANDA PINE', 'ORLANDA SABB', 'ORLANDA SAN ', 'ORLANDA CAVE', 'ORLANDA PIOV', 'ORLANDA CASI', 'ORLANDA 200', 'ORLANDA TIBU', 'ORLANDA CENT', 'ORLANDA DON ']\n",
      "MIRANESE: ['MIRANESE SAN', 'MIRANESE PIE', 'MIRANESE SEL', 'MIRANESE GIU', 'MIRANESE CAL', 'MIRANESE IVA', 'MIRANESE PER', 'MIRANESE LAZ', 'MIRANESE PIA', 'MIRANESE MON', 'MIRANESE VIV', 'MIRANESE AVA']\n",
      "TRIESTE: ['TRIESTE CATE', 'TRIESTE ROBI', 'TRIESTE ERAC', 'TRIESTE BOSC', 'TRIESTE MIRA', 'TRIESTE MAZZ', 'TRIESTE PARC']\n",
      "27: ['27 OTTOBRE D']\n",
      "FISICA: ['FISICA DEPOS']\n",
      "TREPORTI: ['TREPORTI']\n",
      "CORSO: ['CORSO DEL PO']\n",
      "RAMPA: ['RAMPA CAVALC']\n",
      "CELESTIA: ['CELESTIA']\n",
      "SALUTE: ['SALUTE']\n",
      "TORCELLO: ['TORCELLO']\n",
      "SABBADINO: ['SABBADINO  L', 'SABBADINO BA', 'SABBADINO PA', 'SABBADINO LA']\n",
      "CASONA: ['CASONA MARZI', 'CASONA BISSU', 'CASONA VALLE']\n",
      "TRIESTINA: ['TRIESTINA MO', 'TRIESTINA TE', 'TRIESTINA ZU', 'TRIESTINA LA', 'TRIESTINA UL', 'TRIESTINA AL', 'TRIESTINA PR', 'TRIESTINA SC', 'TRIESTINA AE', 'TRIESTINA PA', 'TRIESTINA FO', 'TRIESTINA ZO', 'TRIESTINA TO', 'TRIESTINA PI']\n",
      "ALBERONI: [\"ALBERONI CA'\", 'ALBERONI DEL', 'ALBERONI FAR', 'ALBERONI STE', 'ALBERONI COL', 'ALBERONI GOL', 'ALBERONI SAN', 'ALBERONI OTT', 'ALBERONI SPI']\n",
      "PADANA: ['PADANA CIVIC', 'PADANA AVENA', 'PADANA STAZI', 'PADANA COLOM', 'PADANA DELLE', 'PADANA DEL L']\n",
      "MARTELLAGO: ['MARTELLAGO', 'MARTELLAGO V', 'MARTELLAGO F', 'MARTELLAGO D', 'MARTELLAGOTR']\n",
      "MARGHERA: ['MARGHERA ARD', 'MARGHERA CIM', 'MARGHERA SAL']\n",
      "PEOPLE: ['PEOPLE MOVER']\n",
      "CAPPUCCINA: ['CAPPUCCINA V', 'CAPPUCCINA S', 'CAPPUCCINA B']\n",
      "GUGLIE: ['GUGLIE', 'GUGLIE \"B\"']\n",
      "TERRAGLIO: ['TERRAGLIO VI', 'TERRAGLIO PE', 'TERRAGLIO TE', 'TERRAGLIO GA', 'TERRAGLIO BO', 'TERRAGLIO CA', 'TERRAGLIO NI', 'TERRAGLIO FA']\n",
      "PALEOCAPA: ['PALEOCAPA PA']\n",
      "CHIOGGIA: ['CHIOGGIA PIA', 'CHIOGGIA SAN', 'CHIOGGIA CAM', 'CHIOGGIA ZAR', 'CHIOGGIA  DE', 'CHIOGGIA DEN']\n",
      "S.ERASMO: ['S.ERASMO CHI', 'S.ERASMO CAP']\n",
      "SACCA: ['SACCA FISOLA']\n",
      "PASQUALIGO: ['PASQUALIGO M']\n",
      "RIVA: ['RIVA DE BIAS']\n",
      "TOSATTO: ['TOSATTO IMPA', 'TOSATTO PACC']\n",
      "PERTINI: ['PERTINI CHIE', 'PERTINI FOSC', 'PERTINI VESP', 'PERTINI CARR', 'PERTINI GAVA']\n",
      "CAFASSO: ['CAFASSO BOTT']\n",
      "CASTELLANA: ['CASTELLANA S', 'CASTELLANA C', 'CASTELLANA P', 'CASTELLANA B', 'CASTELLANA M']\n",
      "PIAZZA: ['PIAZZA MERCA', 'PIAZZALE GIO', 'PIAZZALE RAV']\n",
      "CAVALCAVIA: ['CAVALCAVIA V']\n",
      "CALABRIA: ['CALABRIA CAM']\n",
      "MONTE: ['MONTE CELO F', 'MONTE CERVIN']\n",
      "TRE: ['TREPORTI', 'TRE ARCHI', 'TRENTO PODGO', 'TREZZO TERRA', 'TREVISO', 'TREZZO BATTU', 'TRENTO FAGAR', 'TREVISO SAN ', 'TREVISO FS', 'TRENTO GAZZE']\n",
      "PARK: ['PARK PETROLI']\n",
      "ILARIA: ['ILARIA ALPI ']\n",
      "MALCONTENTA: ['MALCONTENTA ']\n",
      "FORTE: ['FORTE MARGHE']\n",
      "MURANO: ['MURANO VENIE', 'MURANO NAVAG', 'MURANO FARO', 'MURANO MUSEO', 'MURANO COLON', 'MURANO DA MU', 'MURANO SEREN']\n",
      "QUARNARO: ['QUARNARO CAL']\n",
      "MOGLIANO: ['MOGLIANO BUR', 'MOGLIANO BEL', 'MOGLIANO MAR', 'MOGLIANO FS', 'MOGLIANO MUN', 'MOGLIANO CEN']\n",
      "DESE: ['DESE CENTRO', 'DESE CICOGNE', 'DESE FS', 'DESE LITOMAR']\n",
      "SPIRITO: ['SPIRITO SANT']\n",
      "OLIVI: ['OLIVI']\n",
      "GOBBI: ['GOBBI ORLAND', 'GOBBI SAN DO', 'GOBBI VALLEN', 'GOBBI MIRTIL', 'GOBBI DON BO', \"GOBBI CA' DO\", 'GOBBI MANDAR']\n",
      "GAZZERA: ['GAZZERA ALTA']\n",
      "MALAMOCCO: ['MALAMOCCO PA', 'MALAMOCCO AL', 'MALAMOCCO ST', 'MALAMOCCO CE', 'MALAMOCCO BA', 'MALAMOCCO GA', 'MALAMOCCO BE', 'MALAMOCCO OC', 'MALAMOCCO SC']\n",
      "RINASCITA: ['RINASCITA BE', 'RINASCITA EM']\n",
      "FAVRETTI: ['FAVRETTI MES']\n",
      "PIAZZALE: ['PIAZZALE GIO', 'PIAZZALE RAV']\n",
      "PAGANELLO: ['PAGANELLO TI']\n",
      "ASSEGGIANO: ['ASSEGGIANO V', 'ASSEGGIANO M', 'ASSEGGIANO C', 'ASSEGGIANO E', 'ASSEGGIANO P', 'ASSEGGIANO D']\n",
      "OSPEDALE: ['OSPEDALE', 'OSPEDALE DEL', 'OSPEDALE MIR']\n",
      "BURANO: ['BURANO \"C\"', 'BURANO \"B\"', 'BURANO \"A\"']\n",
      "CIRCONVALLAZ: ['CIRCONVALLAZ']\n",
      "ANCONA: ['ANCONA TORIN', 'ANCONA CARBO']\n",
      "CORRENTI: ['CORRENTI CAP']\n",
      "TRIVIGNANO: ['TRIVIGNANO L', 'TRIVIGNANO B', 'TRIVIGNANO C', 'TRIVIGNANO P', 'TRIVIGNANO G']\n",
      "PASSO: ['PASSO CAMPAL']\n",
      "ZELARINO: ['ZELARINO CHI', 'ZELARINO CAR', 'ZELARINO MUN', 'ZELARINO PAR']\n",
      "CIRCONVALAZI: ['CIRCONVALAZI']\n",
      "MATTUGLIE: ['MATTUGLIE DI', 'MATTUGLIE PE']\n",
      "BECCARIA: ['BECCARIA CAN', 'BECCARIA CHI', 'BECCARIA COR', 'BECCARIA ORO', 'BECCARIA PAR']\n",
      "MARCONI: ['MARCONI LORE', 'MARCONI MARC', 'MARCONI FIUM', 'MARCONI DES ', 'MARCONI CORA']\n",
      "MARCON: ['MARCONI LORE', 'MARCONI MARC', 'MARCON COOPE', 'MARCONI FIUM', 'MARCON CENTR', 'MARCONI DES ', 'MARCONI CORA', 'MARCON LOMAB', 'MARCON ALTIN', 'MARCON  CULT', 'MARCON MUNIC', 'MARCON VITTO']\n",
      "VESPUCCI: ['VESPUCCI GRI', 'VESPUCCI BOE', 'VESPUCCI SAN', \"VESPUCCI CA'\", 'VESPUCCI CAT', 'VESPUCCI PIG', 'VESPUCCI GAR']\n",
      "TORINO: ['TORINO UNIVE', 'TORINO ROSSE', 'TORINO']\n",
      "SALAMONIO: ['SALAMONIO MA']\n",
      "CIMITERO: ['CIMITERO']\n",
      "DURANDO: ['DURANDO BELL']\n",
      "CREA: ['CREA']\n",
      "CAPOLINEA: ['CAPOLINEA CA', 'CAPOLINEA FU']\n",
      "RIELTA: [\"RIELTA CA' R\", 'RIELTA PARCO']\n",
      "MAZZORBO: ['MAZZORBO']\n",
      "GALILEI: ['GALILEI DARS']\n",
      "CERTOSA: ['CERTOSA', 'CERTOSA ( A ']\n",
      "FARO: ['FARO ROCCHET']\n",
      "D'ANNUNZIO: [\"D'ANNUNZIO D\", \"D'ANNUNZIO P\", \"D'ANNUNZIO S\"]\n",
      "CAVERGNAGO: ['CAVERGNAGO M', 'CAVERGNAGO T']\n",
      "MIRANO: ['MIRANO SCUOL', 'MIRANO MATTE', 'MIRANO CENTR', 'MIRANO CARDU', 'MIRANO GRAMS', 'MIRANO PESTR', 'MIRANO TREVI', 'MIRANO SPORT', 'MIRANO PERUG', 'MIRANO GRIMA', 'MIRANO DANTE', 'MIRANO BATTI', 'MIRANO FOSSA']\n",
      "TRENTO: ['TRENTO PODGO', 'TRENTO FAGAR', 'TRENTO GAZZE']\n",
      "PALAZZO: ['PALAZZO DEL ']\n",
      "VIGNOLE: ['VIGNOLE']\n",
      "SELVANESE: ['SELVANESE PL']\n",
      "AGENZIA: ['AGENZIA  ENT']\n",
      "MORANDI: ['MORANDI NICE']\n",
      "TEVERE: ['TEVERE BAGLI', 'TEVERE PARCO']\n",
      "BACINI: ['BACINI - ARS']\n",
      "EINAUDI: ['EINAUDI CAST']\n",
      "PALIAGA: [\"PALIAGA CA' \"]\n",
      "NOALE: ['NOALE', 'NOALE OSPEDA', 'NOALE LANCER']\n",
      "MARSALA: ['MARSALA CENT']\n",
      "DEI: ['DEI MURAZZI ']\n",
      "MADONNA: ['MADONNA DELL']\n",
      "CALUCCI: ['CALUCCI QUAR']\n",
      "CAMPORESE: ['CAMPORESE GR']\n",
      "DOLO: ['DOLO MANZONI', 'DOLO CENTRO', \"DOLO CA' TRO\", 'DOLO BANDIER', 'DOLO DORIA', 'DOLO CIVICO ']\n",
      "PAOLUCCI: ['PAOLUCCI LON']\n",
      "COLOMBO: ['COLOMBO']\n",
      "CHIMICA: ['CHIMICA INGR', 'CHIMICA MECC']\n",
      "GIOVANNACCI: ['GIOVANNACCI ']\n",
      "PREGANZIOL: ['PREGANZIOL F', 'PREGANZIOL G', 'PREGANZIOL  ', 'PREGANZIOL M']\n",
      "PASINI: ['PASINI FRATE', 'PASINI LAVOR']\n",
      "TREZZO: ['TREZZO TERRA', 'TREZZO BATTU']\n",
      "VIA: ['VIA VILLABON', 'VIA DEI CANT']\n",
      "TITO: ['TITO CASTELL']\n",
      "GOZZI: ['GOZZI CAPPUC']\n",
      "CALVI: ['CALVI PARMES']\n",
      "GATTA: ['GATTA SANTA ', 'GATTA SCARAN', 'GATTA VERCI', 'GATTA 90', 'GATTA PROTAG', 'GATTA SCARAM']\n",
      "SALICI: ['SALICI VILLA']\n",
      "FAVIGNANA: ['FAVIGNANA']\n",
      "GRAN: ['GRAN VIALE']\n",
      "BOTTENIGO: ['BOTTENIGO PI', 'BOTTENIGO CA', 'BOTTENIGO BO', 'BOTTENIGO MA']\n",
      "PORTOSECCO: ['PORTOSECCO', 'PORTOSECCO L', 'PORTOSECCO C']\n",
      "RISORGIMENTO: ['RISORGIMENTO']\n",
      "SANPIETRO: ['SANPIETRO CA']\n",
      "LAZZARETTO: ['LAZZARETTO N']\n",
      "CAROMAN: ['CAROMAN']\n",
      "TREVISO: ['TREVISO', 'TREVISO SAN ', 'TREVISO FS']\n",
      "BRENDOLE: ['BRENDOLE STI', 'BRENDOLE FAV', 'BRENDOLE ARS', 'BRENDOLE']\n",
      "OSPIZIO: ['OSPIZIO MARI']\n",
      "ROBEGANO: ['ROBEGANO MON', 'ROBEGANO 25 ']\n",
      "CAVANIS: ['CAVANIS CAPO']\n",
      "AZOTO: ['AZOTO SOTTAN']\n",
      "MARTIRI: ['MARTIRI DELL']\n",
      "VILLABONA: ['VILLABONA PI', 'VILLABONA BO', 'VILLABONA 87', 'VILLABONA MO', 'VILLABONA  8']\n",
      "ZERO: ['ZERO BRANCO']\n",
      "VALLENARI: ['VALLENARI ST']\n",
      "SALZANO: ['SALZANO TOSC']\n",
      "VISINONI: ['VISINONI COM', 'VISINONI POL']\n",
      "SCORZE': [\"SCORZE' MOGL\", \"SCORZE' CAPO\", \"SCORZE' SAN \", \"SCORZE' MUNI\", \"SCORZE' ROMA\", \"SCORZE' FERM\", \"SCORZE' CECC\"]\n",
      "SCUOLA: ['SCUOLA MEDIA', 'SCUOLA ZENDR']\n",
      "MORANZANI: ['MORANZANI EL', 'MORANZANI 32', 'MORANZANI CO']\n",
      "GAGGIO: ['GAGGIO FERMI']\n",
      "SOTTOMARINA: ['SOTTOMARINA ', 'SOTTOMARINA']\n",
      "FIESSO: [\"FIESSO D'ART\", 'FIESSO GEMIT']\n",
      "OLMO: ['OLMO VITTORI', 'OLMO PELLICO', 'OLMO PAPA LU', 'OLMO CALVI']\n",
      "DE: ['DESE CENTRO', 'DEI MURAZZI ', 'DESE CICOGNE', 'DESE FS', 'DESE LITOMAR', 'DE NICOLA CH']\n",
      "MAERNE: ['MAERNE FS', 'MAERNE CENTR', 'MAERNE CHIES', 'MAERNE CIMIT']\n",
      "SANSOVINO: ['SANSOVINO VE']\n",
      "ZENDRINI: ['ZENDRINI VIL']\n",
      "PESEGGIA: ['PESEGGIA  VI']\n",
      "CORTIVO: ['CORTIVO TOMB']\n",
      "MIRA: ['MIRANESE SAN', 'MIRANESE PIE', 'MIRANESE SEL', 'MIRANESE GIU', 'MIRANESE CAL', 'MIRANESE IVA', 'MIRANESE PER', 'MIRANO SCUOL', 'MIRANESE LAZ', 'MIRANESE PIA', 'MIRANO MATTE', 'MIRANESE MON', 'MIRANESE VIV', 'MIRANESE AVA', 'MIRANO CENTR', 'MIRANO CARDU', 'MIRANO GRAMS', 'MIRANO PESTR', 'MIRANO TREVI', 'MIRANO SPORT', 'MIRA RISCOSS', 'MIRANO PERUG', 'MIRANO GRIMA', 'MIRANO DANTE', 'MIRA PORTE', 'MIRA ALIGHIE', 'MIRANO BATTI', 'MIRANO FOSSA', 'MIRA ALBRIZZ', 'MIRA CENTRO']\n",
      "ROMEA: ['ROMEA MALCAN']\n",
      "ORIAGO: ['ORIAGO STAZI', 'ORIAGO SOMMO', 'ORIAGO ROMAG', 'ORIAGO CENTR']\n",
      "ISOLA: ['ISOLA UNIONE']\n",
      "MARTELLAGOTR: ['MARTELLAGOTR']\n",
      "STRA: ['STRA PIAZZA ']\n",
      "CAMPOCROCE: ['CAMPOCROCE']\n",
      "FERM.SERV.: ['FERM.SERV. D']\n",
      "KLINGER: ['KLINGER SAN ', 'KLINGER RAVA', 'KLINGER PRES']\n",
      "AREOPORTO: ['AREOPORTO MA']\n",
      "PADOVA: ['PADOVA FIERA', 'PADOVA SAN L']\n",
      "VALLON: ['VALLON BORGO']\n",
      "SFMR: ['SFMR SPINEA']\n",
      "CIVE': [\"CIVE' PALTAN\", \"CIVE' MIRA\"]\n",
      "ROSOLINA: ['ROSOLINA']\n",
      "ROSARA: ['ROSARA']\n",
      "RIO: ['RIO SAN MART']\n",
      "FRESCADA: ['FRESCADA']\n",
      "APPRODO: ['APPRODO NAVE']\n",
      "CALTANA: ['CALTANA']\n",
      "PIOVE: ['PIOVE DI SAC']\n",
      "INCR.: ['INCR. VIA DA', 'INCR. VIA GR', 'INCR. VIA VE']\n",
      "BOJON: ['BOJON']\n",
      "TESSERA: ['TESSERA SCUO']\n",
      "REBOSOLA: ['REBOSOLA CIV']\n",
      "CAMPAGNA: ['CAMPAGNA LUP']\n",
      "VIGONZA: ['VIGONZA PERA']\n",
      "CAPRICCIO: ['CAPRICCIO CE']\n",
      "The number of keys in the dictionary is: 215\n"
     ]
    }
   ],
   "source": [
    "# Use the function get_common_prefix to find the common prefix of the strings in the column 'DESCRIZIONE' and print the result\n",
    "\n",
    "# Crete a string list with the unique values of the column 'DESCRIZIONE'\n",
    "string_list = df['DESCRIZIONE'].unique().tolist()\n",
    "\n",
    "dict_prefix = get_common_prefix(string_list)\n",
    "for key, value in dict_prefix.items():\n",
    "    print('{}: {}'.format(key, value))\n",
    "\n",
    "# Print the number of keys in the dictionary\n",
    "print('The number of keys in the dictionary is: {}'.format(len(dict_prefix.keys())))"
   ]
  },
  {
   "cell_type": "markdown",
   "metadata": {},
   "source": [
    "#### Update some keys in the dictionary"
   ]
  },
  {
   "cell_type": "code",
   "execution_count": 69,
   "metadata": {
    "ExecuteTime": {
     "start_time": "2023-04-18T16:17:53.676565Z",
     "end_time": "2023-04-18T16:17:53.688663Z"
    }
   },
   "outputs": [],
   "source": [
    "# Rename the key 'P.le' with 'P.le Roma'\n",
    "dict_prefix['P.LE ROMA'] = dict_prefix.pop('P.LE')\n",
    "# Rename the key 'F.TE' with 'F.TE NOVE'\n",
    "dict_prefix['F.TE NOVE'] = dict_prefix.pop('F.TE')"
   ]
  },
  {
   "cell_type": "code",
   "execution_count": 70,
   "metadata": {
    "ExecuteTime": {
     "start_time": "2023-04-18T16:17:53.689544Z",
     "end_time": "2023-04-18T16:17:53.809524Z"
    }
   },
   "outputs": [
    {
     "name": "stdout",
     "output_type": "stream",
     "text": [
      "The values of the dictionary with the key S. are: ['S. MARCUOLA-', 'S.ERASMO CHI', 'S.ERASMO CAP', 'S. ERASMO PU', 'S. MARCO (GI', 'S. PIETRO IN']\n",
      "The values of the dictionary with the key San are: ['SAN MARCO-SA', 'SAN MARCO VA', 'SAN STAE', 'SAN MARCO MA', 'SANTA MARIA ', \"SAN TOMA'\", 'SAN ROCCO BR', 'SAN GIORGIO', \"SANT' ELENA\", 'SANTA MARTA', \"SAN DONA' RI\", \"SAN DONA' PA\", 'SAN MARCO CA', \"SANT' ANGELO\", \"SANT'ANTONIO\", \"SAN DONA' PI\", 'SAN SAMUELE', \"SAN DONA' MA\", 'SAN MARCO MO', 'SAN SILVESTR', 'SAN MARCO BO', 'SAN MARCO FO', 'SAN MARCO MU', 'SAN MARCO SA', \"SAN NICOLO'\", \"SAN DONA' CE\", \"SANT' ALVISE\", 'SAN SERVOLO', 'SAN BASILIO', \"SAN DONA' VA\", \"SAN DONA' FA\", 'SAN PIETRO D', \"SAN NICOLO' \", 'SAN LAZZARO', 'SAN LIBERALE', 'SAN PIETRO P', 'SANPIETRO CA', \"SAN DONA' PE\", 'SAN PIETRO C', 'SAN PIETRO B', 'SANSOVINO VE', 'SAN TROVASO']\n"
     ]
    }
   ],
   "source": [
    "# Print the values of the dictionary with the keys 'S.' and 'San'\n",
    "print('The values of the dictionary with the key S. are: {}'.format(dict_prefix['S.']))\n",
    "print('The values of the dictionary with the key San are: {}'.format(dict_prefix['SAN']))"
   ]
  },
  {
   "cell_type": "markdown",
   "metadata": {},
   "source": [
    "##### S.Erasmo"
   ]
  },
  {
   "cell_type": "code",
   "execution_count": 71,
   "metadata": {
    "ExecuteTime": {
     "start_time": "2023-04-18T16:17:53.750853Z",
     "end_time": "2023-04-18T16:17:53.886791Z"
    }
   },
   "outputs": [
    {
     "name": "stdout",
     "output_type": "stream",
     "text": [
      "The values of the dictionary with the key S.ERASMO are: ['S.ERASMO CHI', 'S.ERASMO CAP', 'S. ERASMO PU']\n"
     ]
    }
   ],
   "source": [
    "# Create a new key in the dictionary with the key S.ERASMO; insert as value the list of strings that have the prefix 'S.ERASMO'\n",
    "dict_prefix['S.ERASMO'] = [string for string in dict_prefix['S.'] if string.startswith('S.ERASMO')]\n",
    "\n",
    "# Add the value 'S. Erasmo Pu' originally in the key 'San' to the key 'S.ERASMO'\n",
    "dict_prefix['S.ERASMO'].append('S. ERASMO PU')\n",
    "\n",
    "# Remove the strings that have the prefix 'S.ERASMO' from the keys 'S.' and 'San'\n",
    "dict_prefix['S.'] = [string for string in dict_prefix['S.'] if not string.startswith('S.ERASMO')]\n",
    "dict_prefix['S.'] = [string for string in dict_prefix['S.'] if not string.startswith('S. ERASMO PU')]\n",
    "\n",
    "# Print the values of the dictionary with the key 'S.ERASMO'\n",
    "print('The values of the dictionary with the key S.ERASMO are: {}'.format(dict_prefix['S.ERASMO']))"
   ]
  },
  {
   "cell_type": "markdown",
   "metadata": {},
   "source": [
    "##### San Marco"
   ]
  },
  {
   "cell_type": "code",
   "execution_count": 72,
   "metadata": {
    "ExecuteTime": {
     "start_time": "2023-04-18T16:17:53.809416Z",
     "end_time": "2023-04-18T16:17:54.023622Z"
    }
   },
   "outputs": [
    {
     "name": "stdout",
     "output_type": "stream",
     "text": [
      "The values of the dictionary with the key San Marco are: ['SAN MARCO-SA', 'SAN MARCO VA', 'SAN MARCO MA', 'SAN MARCO CA', 'SAN MARCO MO', 'SAN MARCO BO', 'SAN MARCO FO', 'SAN MARCO MU', 'SAN MARCO SA', 'S. MARCO (GI']\n"
     ]
    }
   ],
   "source": [
    "# Create a new key in the dictionary with the key 'San Marco'; insert as value the list of strings that have the prefix 'San Marco'\n",
    "dict_prefix['SAN MARCO'] = [string for string in dict_prefix['SAN'] if string.startswith('SAN MARCO')]\n",
    "\n",
    "\n",
    "# Add the value S. MARCO (Gi', 'S. Pietro in Gu') originally in the key 'S.' to the key 'San Marco'\n",
    "dict_prefix['SAN MARCO'].append('S. MARCO (GI')\n",
    "\n",
    "# Remove the strings that have the prefix 'San Marco' from the keys 'S.' and 'San'\n",
    "dict_prefix['SAN'] = [string for string in dict_prefix['SAN'] if not string.startswith('SAN MARCO')]\n",
    "dict_prefix['S.'] = [string for string in dict_prefix['S.'] if not string.startswith('S. MARCO (GI')]\n",
    "\n",
    "# Print the values of the dictionary with the key 'San Marco'\n",
    "print('The values of the dictionary with the key San Marco are: {}'.format(dict_prefix['SAN MARCO']))"
   ]
  },
  {
   "cell_type": "markdown",
   "metadata": {},
   "source": [
    "##### San Dona'"
   ]
  },
  {
   "cell_type": "code",
   "execution_count": 73,
   "metadata": {
    "ExecuteTime": {
     "start_time": "2023-04-18T16:17:53.972202Z",
     "end_time": "2023-04-18T16:17:54.142870Z"
    }
   },
   "outputs": [
    {
     "name": "stdout",
     "output_type": "stream",
     "text": [
      "The values of the dictionary with the key San Dona are: [\"SAN DONA' RI\", \"SAN DONA' PA\", \"SAN DONA' PI\", \"SAN DONA' MA\", \"SAN DONA' CE\", \"SAN DONA' VA\", \"SAN DONA' FA\", \"SAN DONA' PE\"]\n"
     ]
    }
   ],
   "source": [
    "# Create a new key in the dictionary with the key 'San Dona'; insert as value the list of strings that have the prefix 'San Dona'\n",
    "dict_prefix['SAN DONA'] = [string for string in dict_prefix['SAN'] if string.startswith('SAN DONA')]\n",
    "\n",
    "# Remove the strings that have the prefix 'San Dona' from the keys 'S.' and 'San'\n",
    "dict_prefix['SAN'] = [string for string in dict_prefix['SAN'] if not string.startswith('SAN DONA')]\n",
    "\n",
    "# Print the values of the dictionary with the key 'San Dona'\n",
    "print('The values of the dictionary with the key San Dona are: {}'.format(dict_prefix['SAN DONA']))"
   ]
  },
  {
   "cell_type": "markdown",
   "metadata": {},
   "source": [
    "#### San Pietro"
   ]
  },
  {
   "cell_type": "code",
   "execution_count": 74,
   "metadata": {
    "ExecuteTime": {
     "start_time": "2023-04-18T16:17:54.061088Z",
     "end_time": "2023-04-18T16:17:54.165857Z"
    }
   },
   "outputs": [
    {
     "name": "stdout",
     "output_type": "stream",
     "text": [
      "The values of the dictionary with the key San Pietro are: ['SAN PIETRO D', 'SAN PIETRO P', 'SANPIETRO CA', 'SAN PIETRO C', 'SAN PIETRO B', 'S. PIETRO IN']\n"
     ]
    }
   ],
   "source": [
    "# Create a new key in the dictionary with the key 'San Pietro'; insert as value the list of strings that have the word 'Pietro' in the string\n",
    "dict_prefix['SAN PIETRO'] = [string for string in dict_prefix['SAN'] if 'PIETRO' in string] + [string for string in dict_prefix['S.'] if 'PIETRO' in string]\n",
    "\n",
    "# Remove the strings that have the word 'Pietro' from the keys 'S.' and 'San'\n",
    "dict_prefix['SAN'] = [string for string in dict_prefix['SAN'] if 'PIETRO' not in string]\n",
    "dict_prefix['S.'] = [string for string in dict_prefix['S.'] if 'PIETRO' not in string]\n",
    "\n",
    "# Print the values of the dictionary with the key 'San Pietro'\n",
    "print('The values of the dictionary with the key San Pietro are: {}'.format(dict_prefix['SAN PIETRO']))"
   ]
  },
  {
   "cell_type": "markdown",
   "metadata": {},
   "source": [
    "#### Ca' Rossa"
   ]
  },
  {
   "cell_type": "code",
   "execution_count": 75,
   "metadata": {
    "ExecuteTime": {
     "start_time": "2023-04-18T16:17:54.104665Z",
     "end_time": "2023-04-18T16:17:54.304133Z"
    }
   },
   "outputs": [
    {
     "name": "stdout",
     "output_type": "stream",
     "text": [
      "The values of the dictionary with the key Ca' Rossa are: [\"CA' ROSSA OB\", \"CA' ROSSA VO\", \"CA' ROSSA SE\", \"CA' ROSSA BI\"]\n"
     ]
    }
   ],
   "source": [
    "# Create a new key in the dictionary with the key 'Ca' Rossa'; insert as value the list of strings that have the word 'Ca' Rossa' in the string\n",
    "dict_prefix['CA\\' ROSSA'] = [string for string in dict_prefix['CA\\''] if 'CA' in string and 'ROSSA' in string]\n",
    "\n",
    "# Remove the strings that have the word 'Ca' Rossa' from the keys 'Ca''\n",
    "dict_prefix['CA\\''] = [string for string in dict_prefix['CA\\''] if 'CA' not in string or 'ROSSA' not in string]\n",
    "\n",
    "# Print the values of the dictionary with the key 'Ca Rossa'\n",
    "print('The values of the dictionary with the key Ca\\' Rossa are: {}'.format(dict_prefix['CA\\' ROSSA']))"
   ]
  },
  {
   "cell_type": "markdown",
   "metadata": {},
   "source": [
    "##### Manage the remaining values in the keys 'S.' and 'San' and others"
   ]
  },
  {
   "cell_type": "code",
   "execution_count": 76,
   "metadata": {
    "ExecuteTime": {
     "start_time": "2023-04-18T16:17:54.172896Z",
     "end_time": "2023-04-18T16:17:54.305394Z"
    }
   },
   "outputs": [],
   "source": [
    "# Manage the remaining values in the keys 'S.', 'San', 'Santa', 'Sant'', 'Ca'', 'Piazza', 'Piazzale', 'Stazione', 'Treviso, 'Trento', 'Incr.'\n",
    "# Create a new key for each value in the keys as above and assign the value as value of the new key\n",
    "# Remove the values from the keys as above\n",
    "\n",
    "if 'S.' in dict_prefix:\n",
    "    for value in dict_prefix['S.']:\n",
    "        dict_prefix[value] = [value]\n",
    "    dict_prefix.pop('S.')\n",
    "\n",
    "if 'SAN' in dict_prefix:\n",
    "    for value in dict_prefix['SAN']:\n",
    "        dict_prefix[value] = [value]\n",
    "    dict_prefix.pop('SAN')\n",
    "\n",
    "if 'SANTA' in dict_prefix:\n",
    "    for value in dict_prefix['SANTA']:\n",
    "        dict_prefix[value] = [value]\n",
    "    dict_prefix.pop('SANTA')\n",
    "\n",
    "if 'SANT\\'' in dict_prefix:\n",
    "    for value in dict_prefix['SANT\\'']:\n",
    "        dict_prefix[value] = [value]\n",
    "    dict_prefix.pop('SANT\\'')\n",
    "\n",
    "if 'CA\\'' in dict_prefix:\n",
    "    for value in dict_prefix['CA\\'']:\n",
    "        dict_prefix[value] = [value]\n",
    "    dict_prefix.pop('CA\\'')\n",
    "\n",
    "if 'PIAZZA' in dict_prefix:\n",
    "    for value in dict_prefix['PIAZZA']:\n",
    "        dict_prefix[value] = [value]\n",
    "    dict_prefix.pop('PIAZZA')\n",
    "\n",
    "if 'PIAZZALE' in dict_prefix:\n",
    "    for value in dict_prefix['PIAZZALE']:\n",
    "        dict_prefix[value] = [value]\n",
    "    dict_prefix.pop('PIAZZALE')\n",
    "\n",
    "if 'VIA' in dict_prefix:\n",
    "    for value in dict_prefix['VIA']:\n",
    "        dict_prefix[value] = [value]\n",
    "    dict_prefix.pop('VIA')\n",
    "\n",
    "if 'STAZIONE' in dict_prefix:\n",
    "    for value in dict_prefix['STAZIONE']:\n",
    "        dict_prefix[value] = [value]\n",
    "    dict_prefix.pop('STAZIONE')\n",
    "\n",
    "if 'TREVISO' in dict_prefix:\n",
    "    for value in dict_prefix['TREVISO']:\n",
    "        dict_prefix[value] = [value]\n",
    "    dict_prefix.pop('TREVISO')\n",
    "\n",
    "if 'TRENTO' in dict_prefix:\n",
    "    for value in dict_prefix['TRENTO']:\n",
    "        dict_prefix[value] = [value]\n",
    "    dict_prefix.pop('TRENTO')\n",
    "\n",
    "if 'INCR.' in dict_prefix:\n",
    "    for value in dict_prefix['INCR.']:\n",
    "        dict_prefix[value] = [value]\n",
    "    dict_prefix.pop('INCR.')\n",
    "\n",
    "if 'DE' in dict_prefix:\n",
    "    for value in dict_prefix['DE']:\n",
    "        dict_prefix[value] = [value]\n",
    "    dict_prefix.pop('DE')"
   ]
  },
  {
   "cell_type": "markdown",
   "metadata": {},
   "source": [
    "#### Treviso and Trento"
   ]
  },
  {
   "cell_type": "code",
   "execution_count": 77,
   "metadata": {
    "ExecuteTime": {
     "start_time": "2023-04-18T16:17:54.220359Z",
     "end_time": "2023-04-18T16:17:54.307308Z"
    }
   },
   "outputs": [
    {
     "name": "stdout",
     "output_type": "stream",
     "text": [
      "The values of the dictionary with the key Tre are: ['TRE ARCHI']\n"
     ]
    }
   ],
   "source": [
    "# Remove the values Treviso, Trento, Trezzo and Treporti from the key 'Tre'\n",
    "dict_prefix['TRE'] = [string for string in dict_prefix['TRE'] if 'TREVISO' not in string and 'TRENTO' not in string and 'TREZZO' not in string and 'TREPORTI' not in string]\n",
    "\n",
    "# Print the values of the dictionary with the key 'Tre'\n",
    "print('The values of the dictionary with the key Tre are: {}'.format(dict_prefix['TRE']))\n",
    "\n",
    "# TODO: Correct the values of the keys 'Treviso' and 'Trento' with the correct values"
   ]
  },
  {
   "cell_type": "markdown",
   "metadata": {},
   "source": [
    "#### Keys with only an item"
   ]
  },
  {
   "cell_type": "code",
   "execution_count": 78,
   "metadata": {
    "ExecuteTime": {
     "start_time": "2023-04-18T16:17:54.295335Z",
     "end_time": "2023-04-18T16:17:54.484692Z"
    }
   },
   "outputs": [],
   "source": [
    "# If a key as only one value, then rename the key with the value\n",
    "# Use copy() to avoid RuntimeError: dictionary changed size during iteration\n",
    "for key, value in dict_prefix.copy().items():\n",
    "    if len(value) == 1:\n",
    "        dict_prefix[value[0]] = dict_prefix.pop(key)"
   ]
  },
  {
   "cell_type": "markdown",
   "metadata": {},
   "source": [
    "##### Finally, the update dictionary is"
   ]
  },
  {
   "cell_type": "code",
   "execution_count": 79,
   "metadata": {
    "ExecuteTime": {
     "start_time": "2023-04-18T16:17:54.487220Z",
     "end_time": "2023-04-18T16:17:54.605843Z"
    }
   },
   "outputs": [
    {
     "name": "stdout",
     "output_type": "stream",
     "text": [
      "FERROVIA: ['FERROVIA \"D\"', 'FERROVIA \"B\"', 'FERROVIA \"E\"', 'FERROVIA \"C\"', 'FERROVIA \"A\"']\n",
      "VENEZIA: ['VENEZIA', 'VENEZIA CORS']\n",
      "PIAVE: ['PIAVE FIUME', 'PIAVE PUCCIN', 'PIAVE PODGOR']\n",
      "RIALTO: ['RIALTO', 'RIALTO MERCA', 'RIALTO \"A\"']\n",
      "PELLESTRINA: ['PELLESTRINA', 'PELLESTRINA ']\n",
      "ACCADEMIA: ['ACCADEMIA \"B', 'ACCADEMIA \"A']\n",
      "LIDO: ['LIDO S.M.E. ', 'LIDO SAN NIC']\n",
      "SPINEA: ['SPINEA MARTI', 'SPINEA GIORG', 'SPINEA ALFIE', 'SPINEA PIAZZ', 'SPINEA POZZU', 'SPINEA ROSSI', 'SPINEA DESEN', 'SPINEA VILLA', 'SPINEA SANRE', 'SPINEA ORGNA', 'SPINEA REPUB']\n",
      "LIBERTA': [\"LIBERTA' SAN\", \"LIBERTA' RIG\", \"LIBERTA' FIN\", \"LIBERTA' POR\", \"LIBERTA' COM\"]\n",
      "DON: ['DON STURZO V', 'DON STURZO P']\n",
      "TRONCHETTO: ['TRONCHETTO M', 'TRONCHETTO F', 'TRONCHETTO', 'TRONCHETTO T', 'TRONCHETTO V']\n",
      "GIARDINI: ['GIARDINI \"B\"', 'GIARDINI BIE', 'GIARDINI \"A\"']\n",
      "ARSENALE: ['ARSENALE \"B\"', 'ARSENALE \"A\"']\n",
      "GALLO: ['GALLO BARBAR', 'GALLO GIOLIT', 'GALLO LOREDA', 'GALLO TORTA', \"GALLO SANT'A\", 'GALLO MOROSI', 'GALLO BRAGAD', 'GALLO CONTAR', 'GALLO DEI KI', 'GALLO DEI GI', 'GALLO BIBLIO', 'GALLO GALOPP']\n",
      "BANDIERA: ['BANDIERA GHE', 'BANDIERA CRU', 'BANDIERA TOM', 'BANDIERA CAN', 'BANDIERA DUR', 'BANDIERA PIL']\n",
      "GARIBALDI: ['GARIBALDI MU', 'GARIBALDI OG', 'GARIBALDI GI', 'GARIBALDI  C']\n",
      "BISSUOLA: ['BISSUOLA COL', 'BISSUOLA CAD', 'BISSUOLA ESI', 'BISSUOLA PIS', 'BISSUOLA TEV', 'BISSUOLA VAR']\n",
      "CARDUCCI: ['CARDUCCI PAS', 'CARDUCCI FEL']\n",
      "PERON: ['PERON SARAGA', 'PERON BASEGG']\n",
      "ALTINIA: ['ALTINIA INDR', \"ALTINIA CA' \", 'ALTINIA SAN ', 'ALTINIA MUNI', 'ALTINIA BERI', 'ALTINIA FAVA', 'ALTINIA 181', 'ALTINIA FORT']\n",
      "ORLANDA: ['ORLANDA APPI', 'ORLANDA BAGA', 'ORLANDA PINE', 'ORLANDA SABB', 'ORLANDA SAN ', 'ORLANDA CAVE', 'ORLANDA PIOV', 'ORLANDA CASI', 'ORLANDA 200', 'ORLANDA TIBU', 'ORLANDA CENT', 'ORLANDA DON ']\n",
      "MIRANESE: ['MIRANESE SAN', 'MIRANESE PIE', 'MIRANESE SEL', 'MIRANESE GIU', 'MIRANESE CAL', 'MIRANESE IVA', 'MIRANESE PER', 'MIRANESE LAZ', 'MIRANESE PIA', 'MIRANESE MON', 'MIRANESE VIV', 'MIRANESE AVA']\n",
      "TRIESTE: ['TRIESTE CATE', 'TRIESTE ROBI', 'TRIESTE ERAC', 'TRIESTE BOSC', 'TRIESTE MIRA', 'TRIESTE MAZZ', 'TRIESTE PARC']\n",
      "SABBADINO: ['SABBADINO  L', 'SABBADINO BA', 'SABBADINO PA', 'SABBADINO LA']\n",
      "CASONA: ['CASONA MARZI', 'CASONA BISSU', 'CASONA VALLE']\n",
      "TRIESTINA: ['TRIESTINA MO', 'TRIESTINA TE', 'TRIESTINA ZU', 'TRIESTINA LA', 'TRIESTINA UL', 'TRIESTINA AL', 'TRIESTINA PR', 'TRIESTINA SC', 'TRIESTINA AE', 'TRIESTINA PA', 'TRIESTINA FO', 'TRIESTINA ZO', 'TRIESTINA TO', 'TRIESTINA PI']\n",
      "ALBERONI: [\"ALBERONI CA'\", 'ALBERONI DEL', 'ALBERONI FAR', 'ALBERONI STE', 'ALBERONI COL', 'ALBERONI GOL', 'ALBERONI SAN', 'ALBERONI OTT', 'ALBERONI SPI']\n",
      "PADANA: ['PADANA CIVIC', 'PADANA AVENA', 'PADANA STAZI', 'PADANA COLOM', 'PADANA DELLE', 'PADANA DEL L']\n",
      "MARTELLAGO: ['MARTELLAGO', 'MARTELLAGO V', 'MARTELLAGO F', 'MARTELLAGO D', 'MARTELLAGOTR']\n",
      "MARGHERA: ['MARGHERA ARD', 'MARGHERA CIM', 'MARGHERA SAL']\n",
      "CAPPUCCINA: ['CAPPUCCINA V', 'CAPPUCCINA S', 'CAPPUCCINA B']\n",
      "GUGLIE: ['GUGLIE', 'GUGLIE \"B\"']\n",
      "TERRAGLIO: ['TERRAGLIO VI', 'TERRAGLIO PE', 'TERRAGLIO TE', 'TERRAGLIO GA', 'TERRAGLIO BO', 'TERRAGLIO CA', 'TERRAGLIO NI', 'TERRAGLIO FA']\n",
      "CHIOGGIA: ['CHIOGGIA PIA', 'CHIOGGIA SAN', 'CHIOGGIA CAM', 'CHIOGGIA ZAR', 'CHIOGGIA  DE', 'CHIOGGIA DEN']\n",
      "S.ERASMO: ['S.ERASMO CHI', 'S.ERASMO CAP', 'S. ERASMO PU']\n",
      "TOSATTO: ['TOSATTO IMPA', 'TOSATTO PACC']\n",
      "PERTINI: ['PERTINI CHIE', 'PERTINI FOSC', 'PERTINI VESP', 'PERTINI CARR', 'PERTINI GAVA']\n",
      "CASTELLANA: ['CASTELLANA S', 'CASTELLANA C', 'CASTELLANA P', 'CASTELLANA B', 'CASTELLANA M']\n",
      "MONTE: ['MONTE CELO F', 'MONTE CERVIN']\n",
      "MURANO: ['MURANO VENIE', 'MURANO NAVAG', 'MURANO FARO', 'MURANO MUSEO', 'MURANO COLON', 'MURANO DA MU', 'MURANO SEREN']\n",
      "MOGLIANO: ['MOGLIANO BUR', 'MOGLIANO BEL', 'MOGLIANO MAR', 'MOGLIANO FS', 'MOGLIANO MUN', 'MOGLIANO CEN']\n",
      "DESE: ['DESE CENTRO', 'DESE CICOGNE', 'DESE FS', 'DESE LITOMAR']\n",
      "GOBBI: ['GOBBI ORLAND', 'GOBBI SAN DO', 'GOBBI VALLEN', 'GOBBI MIRTIL', 'GOBBI DON BO', \"GOBBI CA' DO\", 'GOBBI MANDAR']\n",
      "MALAMOCCO: ['MALAMOCCO PA', 'MALAMOCCO AL', 'MALAMOCCO ST', 'MALAMOCCO CE', 'MALAMOCCO BA', 'MALAMOCCO GA', 'MALAMOCCO BE', 'MALAMOCCO OC', 'MALAMOCCO SC']\n",
      "RINASCITA: ['RINASCITA BE', 'RINASCITA EM']\n",
      "ASSEGGIANO: ['ASSEGGIANO V', 'ASSEGGIANO M', 'ASSEGGIANO C', 'ASSEGGIANO E', 'ASSEGGIANO P', 'ASSEGGIANO D']\n",
      "OSPEDALE: ['OSPEDALE', 'OSPEDALE DEL', 'OSPEDALE MIR']\n",
      "BURANO: ['BURANO \"C\"', 'BURANO \"B\"', 'BURANO \"A\"']\n",
      "ANCONA: ['ANCONA TORIN', 'ANCONA CARBO']\n",
      "TRIVIGNANO: ['TRIVIGNANO L', 'TRIVIGNANO B', 'TRIVIGNANO C', 'TRIVIGNANO P', 'TRIVIGNANO G']\n",
      "ZELARINO: ['ZELARINO CHI', 'ZELARINO CAR', 'ZELARINO MUN', 'ZELARINO PAR']\n",
      "MATTUGLIE: ['MATTUGLIE DI', 'MATTUGLIE PE']\n",
      "BECCARIA: ['BECCARIA CAN', 'BECCARIA CHI', 'BECCARIA COR', 'BECCARIA ORO', 'BECCARIA PAR']\n",
      "MARCONI: ['MARCONI LORE', 'MARCONI MARC', 'MARCONI FIUM', 'MARCONI DES ', 'MARCONI CORA']\n",
      "MARCON: ['MARCONI LORE', 'MARCONI MARC', 'MARCON COOPE', 'MARCONI FIUM', 'MARCON CENTR', 'MARCONI DES ', 'MARCONI CORA', 'MARCON LOMAB', 'MARCON ALTIN', 'MARCON  CULT', 'MARCON MUNIC', 'MARCON VITTO']\n",
      "VESPUCCI: ['VESPUCCI GRI', 'VESPUCCI BOE', 'VESPUCCI SAN', \"VESPUCCI CA'\", 'VESPUCCI CAT', 'VESPUCCI PIG', 'VESPUCCI GAR']\n",
      "TORINO: ['TORINO UNIVE', 'TORINO ROSSE', 'TORINO']\n",
      "CAPOLINEA: ['CAPOLINEA CA', 'CAPOLINEA FU']\n",
      "RIELTA: [\"RIELTA CA' R\", 'RIELTA PARCO']\n",
      "CERTOSA: ['CERTOSA', 'CERTOSA ( A ']\n",
      "D'ANNUNZIO: [\"D'ANNUNZIO D\", \"D'ANNUNZIO P\", \"D'ANNUNZIO S\"]\n",
      "CAVERGNAGO: ['CAVERGNAGO M', 'CAVERGNAGO T']\n",
      "MIRANO: ['MIRANO SCUOL', 'MIRANO MATTE', 'MIRANO CENTR', 'MIRANO CARDU', 'MIRANO GRAMS', 'MIRANO PESTR', 'MIRANO TREVI', 'MIRANO SPORT', 'MIRANO PERUG', 'MIRANO GRIMA', 'MIRANO DANTE', 'MIRANO BATTI', 'MIRANO FOSSA']\n",
      "TEVERE: ['TEVERE BAGLI', 'TEVERE PARCO']\n",
      "NOALE: ['NOALE', 'NOALE OSPEDA', 'NOALE LANCER']\n",
      "DOLO: ['DOLO MANZONI', 'DOLO CENTRO', \"DOLO CA' TRO\", 'DOLO BANDIER', 'DOLO DORIA', 'DOLO CIVICO ']\n",
      "CHIMICA: ['CHIMICA INGR', 'CHIMICA MECC']\n",
      "PREGANZIOL: ['PREGANZIOL F', 'PREGANZIOL G', 'PREGANZIOL  ', 'PREGANZIOL M']\n",
      "PASINI: ['PASINI FRATE', 'PASINI LAVOR']\n",
      "TREZZO: ['TREZZO TERRA', 'TREZZO BATTU']\n",
      "GATTA: ['GATTA SANTA ', 'GATTA SCARAN', 'GATTA VERCI', 'GATTA 90', 'GATTA PROTAG', 'GATTA SCARAM']\n",
      "BOTTENIGO: ['BOTTENIGO PI', 'BOTTENIGO CA', 'BOTTENIGO BO', 'BOTTENIGO MA']\n",
      "PORTOSECCO: ['PORTOSECCO', 'PORTOSECCO L', 'PORTOSECCO C']\n",
      "BRENDOLE: ['BRENDOLE STI', 'BRENDOLE FAV', 'BRENDOLE ARS', 'BRENDOLE']\n",
      "ROBEGANO: ['ROBEGANO MON', 'ROBEGANO 25 ']\n",
      "VILLABONA: ['VILLABONA PI', 'VILLABONA BO', 'VILLABONA 87', 'VILLABONA MO', 'VILLABONA  8']\n",
      "VISINONI: ['VISINONI COM', 'VISINONI POL']\n",
      "SCORZE': [\"SCORZE' MOGL\", \"SCORZE' CAPO\", \"SCORZE' SAN \", \"SCORZE' MUNI\", \"SCORZE' ROMA\", \"SCORZE' FERM\", \"SCORZE' CECC\"]\n",
      "SCUOLA: ['SCUOLA MEDIA', 'SCUOLA ZENDR']\n",
      "MORANZANI: ['MORANZANI EL', 'MORANZANI 32', 'MORANZANI CO']\n",
      "SOTTOMARINA: ['SOTTOMARINA ', 'SOTTOMARINA']\n",
      "FIESSO: [\"FIESSO D'ART\", 'FIESSO GEMIT']\n",
      "OLMO: ['OLMO VITTORI', 'OLMO PELLICO', 'OLMO PAPA LU', 'OLMO CALVI']\n",
      "MAERNE: ['MAERNE FS', 'MAERNE CENTR', 'MAERNE CHIES', 'MAERNE CIMIT']\n",
      "MIRA: ['MIRANESE SAN', 'MIRANESE PIE', 'MIRANESE SEL', 'MIRANESE GIU', 'MIRANESE CAL', 'MIRANESE IVA', 'MIRANESE PER', 'MIRANO SCUOL', 'MIRANESE LAZ', 'MIRANESE PIA', 'MIRANO MATTE', 'MIRANESE MON', 'MIRANESE VIV', 'MIRANESE AVA', 'MIRANO CENTR', 'MIRANO CARDU', 'MIRANO GRAMS', 'MIRANO PESTR', 'MIRANO TREVI', 'MIRANO SPORT', 'MIRA RISCOSS', 'MIRANO PERUG', 'MIRANO GRIMA', 'MIRANO DANTE', 'MIRA PORTE', 'MIRA ALIGHIE', 'MIRANO BATTI', 'MIRANO FOSSA', 'MIRA ALBRIZZ', 'MIRA CENTRO']\n",
      "ORIAGO: ['ORIAGO STAZI', 'ORIAGO SOMMO', 'ORIAGO ROMAG', 'ORIAGO CENTR']\n",
      "KLINGER: ['KLINGER SAN ', 'KLINGER RAVA', 'KLINGER PRES']\n",
      "PADOVA: ['PADOVA FIERA', 'PADOVA SAN L']\n",
      "CIVE': [\"CIVE' PALTAN\", \"CIVE' MIRA\"]\n",
      "P.LE ROMA: ['P.LE ROMA \"G', 'P.LE ROMA \"E', 'P.LE ROMA \"B', 'P.LE ROMA \"F', 'P.LE ROMA \"C', 'P.LE ROMA \"D', 'P.LE ROMA \"A']\n",
      "F.TE NOVE: ['F.TE NOVE \"C', 'F.TE NOVE \"A', 'F.TE NOVE \"D', 'F.TE NOVE']\n",
      "SAN MARCO: ['SAN MARCO-SA', 'SAN MARCO VA', 'SAN MARCO MA', 'SAN MARCO CA', 'SAN MARCO MO', 'SAN MARCO BO', 'SAN MARCO FO', 'SAN MARCO MU', 'SAN MARCO SA', 'S. MARCO (GI']\n",
      "SAN DONA: [\"SAN DONA' RI\", \"SAN DONA' PA\", \"SAN DONA' PI\", \"SAN DONA' MA\", \"SAN DONA' CE\", \"SAN DONA' VA\", \"SAN DONA' FA\", \"SAN DONA' PE\"]\n",
      "SAN PIETRO: ['SAN PIETRO D', 'SAN PIETRO P', 'SANPIETRO CA', 'SAN PIETRO C', 'SAN PIETRO B', 'S. PIETRO IN']\n",
      "CA' ROSSA: [\"CA' ROSSA OB\", \"CA' ROSSA VO\", \"CA' ROSSA SE\", \"CA' ROSSA BI\"]\n",
      "GIUDECCA PAL: ['GIUDECCA PAL']\n",
      "AEROPORTO MA: ['AEROPORTO MA']\n",
      "MESTRE CENTR: ['MESTRE CENTR']\n",
      "ZATTERE: ['ZATTERE']\n",
      "GIGLIO: ['GIGLIO']\n",
      "ZITELLE: ['ZITELLE']\n",
      "ORTO: ['ORTO']\n",
      "PUNTA SABBIO: ['PUNTA SABBIO']\n",
      "CANAL LEONE: ['CANAL LEONE']\n",
      "LAVELLI PAOL: ['LAVELLI PAOL']\n",
      "RIZZARDI CAR: ['RIZZARDI CAR']\n",
      "REDENTORE: ['REDENTORE']\n",
      "BELFREDO TER: ['BELFREDO TER']\n",
      "27 OTTOBRE D: ['27 OTTOBRE D']\n",
      "FISICA DEPOS: ['FISICA DEPOS']\n",
      "TREPORTI: ['TREPORTI']\n",
      "CORSO DEL PO: ['CORSO DEL PO']\n",
      "RAMPA CAVALC: ['RAMPA CAVALC']\n",
      "CELESTIA: ['CELESTIA']\n",
      "SALUTE: ['SALUTE']\n",
      "TORCELLO: ['TORCELLO']\n",
      "PEOPLE MOVER: ['PEOPLE MOVER']\n",
      "PALEOCAPA PA: ['PALEOCAPA PA']\n",
      "SACCA FISOLA: ['SACCA FISOLA']\n",
      "PASQUALIGO M: ['PASQUALIGO M']\n",
      "RIVA DE BIAS: ['RIVA DE BIAS']\n",
      "CAFASSO BOTT: ['CAFASSO BOTT']\n",
      "CAVALCAVIA V: ['CAVALCAVIA V']\n",
      "CALABRIA CAM: ['CALABRIA CAM']\n",
      "TRE ARCHI: ['TRE ARCHI']\n",
      "PARK PETROLI: ['PARK PETROLI']\n",
      "ILARIA ALPI : ['ILARIA ALPI ']\n",
      "MALCONTENTA : ['MALCONTENTA ']\n",
      "FORTE MARGHE: ['FORTE MARGHE']\n",
      "QUARNARO CAL: ['QUARNARO CAL']\n",
      "SPIRITO SANT: ['SPIRITO SANT']\n",
      "OLIVI: ['OLIVI']\n",
      "GAZZERA ALTA: ['GAZZERA ALTA']\n",
      "FAVRETTI MES: ['FAVRETTI MES']\n",
      "PAGANELLO TI: ['PAGANELLO TI']\n",
      "CIRCONVALLAZ: ['CIRCONVALLAZ']\n",
      "CORRENTI CAP: ['CORRENTI CAP']\n",
      "PASSO CAMPAL: ['PASSO CAMPAL']\n",
      "CIRCONVALAZI: ['CIRCONVALAZI']\n",
      "SALAMONIO MA: ['SALAMONIO MA']\n",
      "CIMITERO: ['CIMITERO']\n",
      "DURANDO BELL: ['DURANDO BELL']\n",
      "CREA: ['CREA']\n",
      "MAZZORBO: ['MAZZORBO']\n",
      "GALILEI DARS: ['GALILEI DARS']\n",
      "FARO ROCCHET: ['FARO ROCCHET']\n",
      "PALAZZO DEL : ['PALAZZO DEL ']\n",
      "VIGNOLE: ['VIGNOLE']\n",
      "SELVANESE PL: ['SELVANESE PL']\n",
      "AGENZIA  ENT: ['AGENZIA  ENT']\n",
      "MORANDI NICE: ['MORANDI NICE']\n",
      "BACINI - ARS: ['BACINI - ARS']\n",
      "EINAUDI CAST: ['EINAUDI CAST']\n",
      "PALIAGA CA' : [\"PALIAGA CA' \"]\n",
      "MARSALA CENT: ['MARSALA CENT']\n",
      "MADONNA DELL: ['MADONNA DELL']\n",
      "CALUCCI QUAR: ['CALUCCI QUAR']\n",
      "CAMPORESE GR: ['CAMPORESE GR']\n",
      "PAOLUCCI LON: ['PAOLUCCI LON']\n",
      "COLOMBO: ['COLOMBO']\n",
      "GIOVANNACCI : ['GIOVANNACCI ']\n",
      "TITO CASTELL: ['TITO CASTELL']\n",
      "GOZZI CAPPUC: ['GOZZI CAPPUC']\n",
      "CALVI PARMES: ['CALVI PARMES']\n",
      "SALICI VILLA: ['SALICI VILLA']\n",
      "FAVIGNANA: ['FAVIGNANA']\n",
      "GRAN VIALE: ['GRAN VIALE']\n",
      "RISORGIMENTO: ['RISORGIMENTO']\n",
      "SANPIETRO CA: ['SANPIETRO CA']\n",
      "LAZZARETTO N: ['LAZZARETTO N']\n",
      "CAROMAN: ['CAROMAN']\n",
      "OSPIZIO MARI: ['OSPIZIO MARI']\n",
      "CAVANIS CAPO: ['CAVANIS CAPO']\n",
      "AZOTO SOTTAN: ['AZOTO SOTTAN']\n",
      "MARTIRI DELL: ['MARTIRI DELL']\n",
      "ZERO BRANCO: ['ZERO BRANCO']\n",
      "VALLENARI ST: ['VALLENARI ST']\n",
      "SALZANO TOSC: ['SALZANO TOSC']\n",
      "GAGGIO FERMI: ['GAGGIO FERMI']\n",
      "ZENDRINI VIL: ['ZENDRINI VIL']\n",
      "PESEGGIA  VI: ['PESEGGIA  VI']\n",
      "CORTIVO TOMB: ['CORTIVO TOMB']\n",
      "ROMEA MALCAN: ['ROMEA MALCAN']\n",
      "ISOLA UNIONE: ['ISOLA UNIONE']\n",
      "MARTELLAGOTR: ['MARTELLAGOTR']\n",
      "STRA PIAZZA : ['STRA PIAZZA ']\n",
      "CAMPOCROCE: ['CAMPOCROCE']\n",
      "FERM.SERV. D: ['FERM.SERV. D']\n",
      "AREOPORTO MA: ['AREOPORTO MA']\n",
      "VALLON BORGO: ['VALLON BORGO']\n",
      "SFMR SPINEA: ['SFMR SPINEA']\n",
      "ROSOLINA: ['ROSOLINA']\n",
      "ROSARA: ['ROSARA']\n",
      "RIO SAN MART: ['RIO SAN MART']\n",
      "FRESCADA: ['FRESCADA']\n",
      "APPRODO NAVE: ['APPRODO NAVE']\n",
      "CALTANA: ['CALTANA']\n",
      "PIOVE DI SAC: ['PIOVE DI SAC']\n",
      "BOJON: ['BOJON']\n",
      "TESSERA SCUO: ['TESSERA SCUO']\n",
      "REBOSOLA CIV: ['REBOSOLA CIV']\n",
      "CAMPAGNA LUP: ['CAMPAGNA LUP']\n",
      "VIGONZA PERA: ['VIGONZA PERA']\n",
      "CAPRICCIO CE: ['CAPRICCIO CE']\n",
      "S. MARCUOLA-: ['S. MARCUOLA-']\n",
      "SAN STAE: ['SAN STAE']\n",
      "SANTA MARIA : ['SANTA MARIA ']\n",
      "SAN TOMA': [\"SAN TOMA'\"]\n",
      "SAN ROCCO BR: ['SAN ROCCO BR']\n",
      "SAN GIORGIO: ['SAN GIORGIO']\n",
      "SANT' ELENA: [\"SANT' ELENA\"]\n",
      "SANTA MARTA: ['SANTA MARTA']\n",
      "SANT' ANGELO: [\"SANT' ANGELO\"]\n",
      "SANT'ANTONIO: [\"SANT'ANTONIO\"]\n",
      "SAN SAMUELE: ['SAN SAMUELE']\n",
      "SAN SILVESTR: ['SAN SILVESTR']\n",
      "SAN NICOLO': [\"SAN NICOLO'\"]\n",
      "SANT' ALVISE: [\"SANT' ALVISE\"]\n",
      "SAN SERVOLO: ['SAN SERVOLO']\n",
      "SAN BASILIO: ['SAN BASILIO']\n",
      "SAN NICOLO' : [\"SAN NICOLO' \"]\n",
      "SAN LAZZARO: ['SAN LAZZARO']\n",
      "SAN LIBERALE: ['SAN LIBERALE']\n",
      "SANSOVINO VE: ['SANSOVINO VE']\n",
      "SAN TROVASO: ['SAN TROVASO']\n",
      "CA' D'ORO: [\"CA' D'ORO\"]\n",
      "CA' REZZONIC: [\"CA' REZZONIC\"]\n",
      "CA' SABBIONI: [\"CA' SABBIONI\"]\n",
      "CA' MARCELLO: [\"CA' MARCELLO\"]\n",
      "CA' LIN GATT: [\"CA' LIN GATT\"]\n",
      "CA' LIN ERAC: [\"CA' LIN ERAC\"]\n",
      "CA' BIANCA L: [\"CA' BIANCA L\"]\n",
      "CA' LIN CAST: [\"CA' LIN CAST\"]\n",
      "CA' SOLARO C: [\"CA' SOLARO C\"]\n",
      "PIAZZA MERCA: ['PIAZZA MERCA']\n",
      "PIAZZALE GIO: ['PIAZZALE GIO']\n",
      "PIAZZALE RAV: ['PIAZZALE RAV']\n",
      "VIA VILLABON: ['VIA VILLABON']\n",
      "VIA DEI CANT: ['VIA DEI CANT']\n",
      "STAZIONE MES: ['STAZIONE MES']\n",
      "STAZIONE PAD: ['STAZIONE PAD']\n",
      "STAZIONE MAR: ['STAZIONE MAR']\n",
      "TREVISO SAN : ['TREVISO SAN ']\n",
      "TREVISO FS: ['TREVISO FS']\n",
      "TRENTO PODGO: ['TRENTO PODGO']\n",
      "TRENTO FAGAR: ['TRENTO FAGAR']\n",
      "TRENTO GAZZE: ['TRENTO GAZZE']\n",
      "INCR. VIA DA: ['INCR. VIA DA']\n",
      "INCR. VIA GR: ['INCR. VIA GR']\n",
      "INCR. VIA VE: ['INCR. VIA VE']\n",
      "DESE CENTRO: ['DESE CENTRO']\n",
      "DEI MURAZZI : ['DEI MURAZZI ']\n",
      "DESE CICOGNE: ['DESE CICOGNE']\n",
      "DESE FS: ['DESE FS']\n",
      "DESE LITOMAR: ['DESE LITOMAR']\n",
      "DE NICOLA CH: ['DE NICOLA CH']\n"
     ]
    }
   ],
   "source": [
    "# Print the dictionary in the new format\n",
    "for key, value in dict_prefix.items():\n",
    "    print('{}: {}'.format(key, value))"
   ]
  },
  {
   "cell_type": "code",
   "execution_count": 80,
   "metadata": {
    "ExecuteTime": {
     "start_time": "2023-04-18T16:17:54.572885Z",
     "end_time": "2023-04-18T16:17:54.687441Z"
    }
   },
   "outputs": [],
   "source": [
    "# Export the dictionary in a json file\n",
    "name_file = 'dict_prefix_' + file_name.split('.')[0] + '.json'\n",
    "with open('data/dictionaries/' + name_file, 'w') as fp:\n",
    "    json.dump(dict_prefix, fp)"
   ]
  },
  {
   "cell_type": "markdown",
   "metadata": {},
   "source": [
    "### Useless stamps"
   ]
  },
  {
   "cell_type": "code",
   "execution_count": 81,
   "metadata": {
    "ExecuteTime": {
     "start_time": "2023-04-18T16:17:54.627953Z",
     "end_time": "2023-04-18T16:17:54.737739Z"
    }
   },
   "outputs": [],
   "source": [
    "# TODO: #1 Remove useless rows that have a minimum temporal gap for the same serial and fermata\n",
    "# DE-COMMENT THE FOLLOWING LINES OF CODE"
   ]
  },
  {
   "cell_type": "code",
   "execution_count": 82,
   "metadata": {
    "ExecuteTime": {
     "start_time": "2023-04-18T16:17:54.716247Z",
     "end_time": "2023-04-18T16:18:00.613361Z"
    }
   },
   "outputs": [
    {
     "name": "stdout",
     "output_type": "stream",
     "text": [
      "The serial with the hightest number of validations for the ticket profile 4 is: 36142613562646276\n",
      "The serial with the hightest number of validations for the ticket profile 2 is: 41675643963691780\n",
      "The serial with the hightest number of validations for the ticket profile 3 is: 40549743932450308\n",
      "The serial with the hightest number of validations for the ticket profile 1 is: 40831218909282052\n",
      "The serial with the hightest number of validations for the ticket profile 7 is: 36405993298989316\n",
      "The serial with the hightest number of validations for the ticket profile 5 is: 36144856468188676\n"
     ]
    }
   ],
   "source": [
    "# Find the serial with the hightest number of validations, and the same for each ticket profile, save the results in a dictionary\n",
    "dict_serial = {}\n",
    "for ticket in df['TICKET_CODE'].unique():\n",
    "    dict_serial[ticket] = df[df['TICKET_CODE'] == ticket]['SERIALE'].value_counts().index[0]\n",
    "\n",
    "# Print the serial with the hightest number of validations, and the same for each ticket profile\n",
    "for ticket in df['TICKET_CODE'].unique():\n",
    "  print('The serial with the hightest number of validations for the ticket profile {} is: {}'.format(ticket, dict_serial[ticket]))"
   ]
  },
  {
   "cell_type": "code",
   "execution_count": 83,
   "metadata": {
    "ExecuteTime": {
     "start_time": "2023-04-18T16:18:00.613226Z",
     "end_time": "2023-04-18T16:18:00.614372Z"
    }
   },
   "outputs": [],
   "source": [
    "# Group by the serial and the fermata \n",
    "# df = df.groupby(['SERIALE', 'FERMATA']).apply(lambda x: x.sort_values(by='DATA_VALIDAZIONE', ascending=True))\n",
    "\n",
    "# Print the first 5 rows of the df\n",
    "# df.head()\n",
    "# DO NOT DE-COMMENT THIS CELL"
   ]
  },
  {
   "cell_type": "code",
   "execution_count": 84,
   "metadata": {
    "ExecuteTime": {
     "start_time": "2023-04-18T16:18:00.614240Z",
     "end_time": "2023-04-18T16:18:00.736062Z"
    }
   },
   "outputs": [],
   "source": [
    "# Reset the index of the df and drop the old index in order to have a new index starting from 0 to the number of rows\n",
    "# It is necessary to have a new index because the groupby function has created a multi-index\n",
    "df.reset_index(drop=True, inplace=True)"
   ]
  },
  {
   "cell_type": "code",
   "execution_count": 85,
   "metadata": {},
   "outputs": [],
   "source": [
    "# Create a new column 'MIN_TEMPORAL_GAP' that contains the minimum temporal gap between two validations for the same serial and fermata in minutes\n",
    "df = df.groupby(['SERIALE','DATA', 'DESCRIZIONE']).apply(lambda x: x.assign(MIN_TEMPORAL_GAP = x['DATA_VALIDAZIONE'].diff().dt.total_seconds()/60))"
   ]
  },
  {
   "cell_type": "code",
   "execution_count": 86,
   "metadata": {},
   "outputs": [
    {
     "data": {
      "text/plain": "         DATA       ORA    DATA_VALIDAZIONE            SERIALE  FERMATA  \\\n0  2022-05-13  00:00:00 2022-05-13 00:00:00  65676291870913797     5089   \n1  2022-05-13  00:00:00 2022-05-13 00:00:00  36141384536591364     5032   \n2  2022-05-13  00:00:00 2022-05-13 00:00:00  36144856606063108     5031   \n3  2022-05-13  00:00:00 2022-05-13 00:00:00  36144856474364932      506   \n4  2022-05-13  00:00:00 2022-05-13 00:00:00  36144856606062852     5031   \n5  2022-05-13  00:00:00 2022-05-13 00:00:00  36144856474364676      506   \n6  2022-05-13  00:00:00 2022-05-13 00:00:00  36144856474361092      506   \n7  2022-05-13  00:00:00 2022-05-13 00:00:00  36144856605835780      507   \n8  2022-05-13  00:00:00 2022-05-13 00:00:00  36144856605836036      507   \n9  2022-05-13  00:00:00 2022-05-13 00:00:00  36144856474361348      506   \n10 2022-05-13  00:01:00 2022-05-13 00:01:00  36423061903008260     5022   \n11 2022-05-13  00:01:00 2022-05-13 00:01:00  36423061903008260     5022   \n12 2022-05-13  00:01:00 2022-05-13 00:01:00  36426331591572228      506   \n13 2022-05-13  00:01:00 2022-05-13 00:01:00  36426331591501316      506   \n14 2022-05-13  00:01:00 2022-05-13 00:01:00  36426331591504644      506   \n15 2022-05-13  00:01:00 2022-05-13 00:01:00  65676290387638021     5022   \n16 2022-05-13  00:01:00 2022-05-13 00:01:00  37270756644007428     5132   \n17 2022-05-13  00:01:00 2022-05-13 00:01:00  37270756644007684     5132   \n18 2022-05-13  00:01:00 2022-05-13 00:01:00  36144856464934660     5032   \n19 2022-05-13  00:01:00 2022-05-13 00:01:00  36144856464934404     5032   \n\n     DESCRIZIONE  TITOLO TICKET_CODE            DESCRIZIONE_TITOLO  \\\n0   FERROVIA \"D\"   11149           4      7GG-TPL 43,60-COMVE16,40   \n1   FERROVIA \"B\"   11107           2       48H-TPL 24,90-COMVE5,10   \n2   P.LE ROMA \"G   11108           3       72H-TPL 33,40-COMVE6,60   \n3        VENEZIA   11261           1      DAILY PASS VENEZIA - AVM   \n4   P.LE ROMA \"G   11108           3       72H-TPL 33,40-COMVE6,60   \n5        VENEZIA   11261           1      DAILY PASS VENEZIA - AVM   \n6        VENEZIA   11261           1      DAILY PASS VENEZIA - AVM   \n7        VENEZIA   11107           2       48H-TPL 24,90-COMVE5,10   \n8        VENEZIA   11107           2       48H-TPL 24,90-COMVE5,10   \n9        VENEZIA   11261           1      DAILY PASS VENEZIA - AVM   \n10  GIUDECCA PAL   11149           4      7GG-TPL 43,60-COMVE16,40   \n11  GIUDECCA PAL   11149           4      7GG-TPL 43,60-COMVE16,40   \n12       VENEZIA   11553           3  72H R.VENICE+AEROP.AR ONLINE   \n13       VENEZIA   11553           3  72H R.VENICE+AEROP.AR ONLINE   \n14       VENEZIA   11553           3  72H R.VENICE+AEROP.AR ONLINE   \n15  GIUDECCA PAL   11149           4      7GG-TPL 43,60-COMVE16,40   \n16  S. MARCUOLA-   11101           7        75'-TPL 6,64-COMVE0,86   \n17  S. MARCUOLA-   11101           7        75'-TPL 6,64-COMVE0,86   \n18  FERROVIA \"B\"   11101           7        75'-TPL 6,64-COMVE0,86   \n19  FERROVIA \"B\"   11101           7        75'-TPL 6,64-COMVE0,86   \n\n    MIN_TEMPORAL_GAP  \n0                NaN  \n1                NaN  \n2                NaN  \n3                NaN  \n4                NaN  \n5                NaN  \n6                NaN  \n7                NaN  \n8                NaN  \n9                NaN  \n10               NaN  \n11               0.0  \n12               NaN  \n13               NaN  \n14               NaN  \n15               NaN  \n16               NaN  \n17               NaN  \n18               NaN  \n19               NaN  ",
      "text/html": "<div>\n<style scoped>\n    .dataframe tbody tr th:only-of-type {\n        vertical-align: middle;\n    }\n\n    .dataframe tbody tr th {\n        vertical-align: top;\n    }\n\n    .dataframe thead th {\n        text-align: right;\n    }\n</style>\n<table border=\"1\" class=\"dataframe\">\n  <thead>\n    <tr style=\"text-align: right;\">\n      <th></th>\n      <th>DATA</th>\n      <th>ORA</th>\n      <th>DATA_VALIDAZIONE</th>\n      <th>SERIALE</th>\n      <th>FERMATA</th>\n      <th>DESCRIZIONE</th>\n      <th>TITOLO</th>\n      <th>TICKET_CODE</th>\n      <th>DESCRIZIONE_TITOLO</th>\n      <th>MIN_TEMPORAL_GAP</th>\n    </tr>\n  </thead>\n  <tbody>\n    <tr>\n      <th>0</th>\n      <td>2022-05-13</td>\n      <td>00:00:00</td>\n      <td>2022-05-13 00:00:00</td>\n      <td>65676291870913797</td>\n      <td>5089</td>\n      <td>FERROVIA \"D\"</td>\n      <td>11149</td>\n      <td>4</td>\n      <td>7GG-TPL 43,60-COMVE16,40</td>\n      <td>NaN</td>\n    </tr>\n    <tr>\n      <th>1</th>\n      <td>2022-05-13</td>\n      <td>00:00:00</td>\n      <td>2022-05-13 00:00:00</td>\n      <td>36141384536591364</td>\n      <td>5032</td>\n      <td>FERROVIA \"B\"</td>\n      <td>11107</td>\n      <td>2</td>\n      <td>48H-TPL 24,90-COMVE5,10</td>\n      <td>NaN</td>\n    </tr>\n    <tr>\n      <th>2</th>\n      <td>2022-05-13</td>\n      <td>00:00:00</td>\n      <td>2022-05-13 00:00:00</td>\n      <td>36144856606063108</td>\n      <td>5031</td>\n      <td>P.LE ROMA \"G</td>\n      <td>11108</td>\n      <td>3</td>\n      <td>72H-TPL 33,40-COMVE6,60</td>\n      <td>NaN</td>\n    </tr>\n    <tr>\n      <th>3</th>\n      <td>2022-05-13</td>\n      <td>00:00:00</td>\n      <td>2022-05-13 00:00:00</td>\n      <td>36144856474364932</td>\n      <td>506</td>\n      <td>VENEZIA</td>\n      <td>11261</td>\n      <td>1</td>\n      <td>DAILY PASS VENEZIA - AVM</td>\n      <td>NaN</td>\n    </tr>\n    <tr>\n      <th>4</th>\n      <td>2022-05-13</td>\n      <td>00:00:00</td>\n      <td>2022-05-13 00:00:00</td>\n      <td>36144856606062852</td>\n      <td>5031</td>\n      <td>P.LE ROMA \"G</td>\n      <td>11108</td>\n      <td>3</td>\n      <td>72H-TPL 33,40-COMVE6,60</td>\n      <td>NaN</td>\n    </tr>\n    <tr>\n      <th>5</th>\n      <td>2022-05-13</td>\n      <td>00:00:00</td>\n      <td>2022-05-13 00:00:00</td>\n      <td>36144856474364676</td>\n      <td>506</td>\n      <td>VENEZIA</td>\n      <td>11261</td>\n      <td>1</td>\n      <td>DAILY PASS VENEZIA - AVM</td>\n      <td>NaN</td>\n    </tr>\n    <tr>\n      <th>6</th>\n      <td>2022-05-13</td>\n      <td>00:00:00</td>\n      <td>2022-05-13 00:00:00</td>\n      <td>36144856474361092</td>\n      <td>506</td>\n      <td>VENEZIA</td>\n      <td>11261</td>\n      <td>1</td>\n      <td>DAILY PASS VENEZIA - AVM</td>\n      <td>NaN</td>\n    </tr>\n    <tr>\n      <th>7</th>\n      <td>2022-05-13</td>\n      <td>00:00:00</td>\n      <td>2022-05-13 00:00:00</td>\n      <td>36144856605835780</td>\n      <td>507</td>\n      <td>VENEZIA</td>\n      <td>11107</td>\n      <td>2</td>\n      <td>48H-TPL 24,90-COMVE5,10</td>\n      <td>NaN</td>\n    </tr>\n    <tr>\n      <th>8</th>\n      <td>2022-05-13</td>\n      <td>00:00:00</td>\n      <td>2022-05-13 00:00:00</td>\n      <td>36144856605836036</td>\n      <td>507</td>\n      <td>VENEZIA</td>\n      <td>11107</td>\n      <td>2</td>\n      <td>48H-TPL 24,90-COMVE5,10</td>\n      <td>NaN</td>\n    </tr>\n    <tr>\n      <th>9</th>\n      <td>2022-05-13</td>\n      <td>00:00:00</td>\n      <td>2022-05-13 00:00:00</td>\n      <td>36144856474361348</td>\n      <td>506</td>\n      <td>VENEZIA</td>\n      <td>11261</td>\n      <td>1</td>\n      <td>DAILY PASS VENEZIA - AVM</td>\n      <td>NaN</td>\n    </tr>\n    <tr>\n      <th>10</th>\n      <td>2022-05-13</td>\n      <td>00:01:00</td>\n      <td>2022-05-13 00:01:00</td>\n      <td>36423061903008260</td>\n      <td>5022</td>\n      <td>GIUDECCA PAL</td>\n      <td>11149</td>\n      <td>4</td>\n      <td>7GG-TPL 43,60-COMVE16,40</td>\n      <td>NaN</td>\n    </tr>\n    <tr>\n      <th>11</th>\n      <td>2022-05-13</td>\n      <td>00:01:00</td>\n      <td>2022-05-13 00:01:00</td>\n      <td>36423061903008260</td>\n      <td>5022</td>\n      <td>GIUDECCA PAL</td>\n      <td>11149</td>\n      <td>4</td>\n      <td>7GG-TPL 43,60-COMVE16,40</td>\n      <td>0.0</td>\n    </tr>\n    <tr>\n      <th>12</th>\n      <td>2022-05-13</td>\n      <td>00:01:00</td>\n      <td>2022-05-13 00:01:00</td>\n      <td>36426331591572228</td>\n      <td>506</td>\n      <td>VENEZIA</td>\n      <td>11553</td>\n      <td>3</td>\n      <td>72H R.VENICE+AEROP.AR ONLINE</td>\n      <td>NaN</td>\n    </tr>\n    <tr>\n      <th>13</th>\n      <td>2022-05-13</td>\n      <td>00:01:00</td>\n      <td>2022-05-13 00:01:00</td>\n      <td>36426331591501316</td>\n      <td>506</td>\n      <td>VENEZIA</td>\n      <td>11553</td>\n      <td>3</td>\n      <td>72H R.VENICE+AEROP.AR ONLINE</td>\n      <td>NaN</td>\n    </tr>\n    <tr>\n      <th>14</th>\n      <td>2022-05-13</td>\n      <td>00:01:00</td>\n      <td>2022-05-13 00:01:00</td>\n      <td>36426331591504644</td>\n      <td>506</td>\n      <td>VENEZIA</td>\n      <td>11553</td>\n      <td>3</td>\n      <td>72H R.VENICE+AEROP.AR ONLINE</td>\n      <td>NaN</td>\n    </tr>\n    <tr>\n      <th>15</th>\n      <td>2022-05-13</td>\n      <td>00:01:00</td>\n      <td>2022-05-13 00:01:00</td>\n      <td>65676290387638021</td>\n      <td>5022</td>\n      <td>GIUDECCA PAL</td>\n      <td>11149</td>\n      <td>4</td>\n      <td>7GG-TPL 43,60-COMVE16,40</td>\n      <td>NaN</td>\n    </tr>\n    <tr>\n      <th>16</th>\n      <td>2022-05-13</td>\n      <td>00:01:00</td>\n      <td>2022-05-13 00:01:00</td>\n      <td>37270756644007428</td>\n      <td>5132</td>\n      <td>S. MARCUOLA-</td>\n      <td>11101</td>\n      <td>7</td>\n      <td>75'-TPL 6,64-COMVE0,86</td>\n      <td>NaN</td>\n    </tr>\n    <tr>\n      <th>17</th>\n      <td>2022-05-13</td>\n      <td>00:01:00</td>\n      <td>2022-05-13 00:01:00</td>\n      <td>37270756644007684</td>\n      <td>5132</td>\n      <td>S. MARCUOLA-</td>\n      <td>11101</td>\n      <td>7</td>\n      <td>75'-TPL 6,64-COMVE0,86</td>\n      <td>NaN</td>\n    </tr>\n    <tr>\n      <th>18</th>\n      <td>2022-05-13</td>\n      <td>00:01:00</td>\n      <td>2022-05-13 00:01:00</td>\n      <td>36144856464934660</td>\n      <td>5032</td>\n      <td>FERROVIA \"B\"</td>\n      <td>11101</td>\n      <td>7</td>\n      <td>75'-TPL 6,64-COMVE0,86</td>\n      <td>NaN</td>\n    </tr>\n    <tr>\n      <th>19</th>\n      <td>2022-05-13</td>\n      <td>00:01:00</td>\n      <td>2022-05-13 00:01:00</td>\n      <td>36144856464934404</td>\n      <td>5032</td>\n      <td>FERROVIA \"B\"</td>\n      <td>11101</td>\n      <td>7</td>\n      <td>75'-TPL 6,64-COMVE0,86</td>\n      <td>NaN</td>\n    </tr>\n  </tbody>\n</table>\n</div>"
     },
     "execution_count": 86,
     "metadata": {},
     "output_type": "execute_result"
    }
   ],
   "source": [
    "df.head(20)"
   ]
  },
  {
   "cell_type": "code",
   "execution_count": 87,
   "metadata": {},
   "outputs": [
    {
     "data": {
      "text/plain": "              DATA       ORA    DATA_VALIDAZIONE            SERIALE  FERMATA  \\\n4680555 2022-07-15  01:02:00 2022-07-15 01:02:00  36146081881259268     5013   \n4680556 2022-07-15  01:10:00 2022-07-15 01:10:00  40832955277083652      509   \n4680557 2022-07-15  01:13:00 2022-07-15 01:13:00  41958855181075972     5013   \n4680558 2022-07-15  01:13:00 2022-07-15 01:13:00  37553456891176708     5013   \n4680559 2022-07-15  01:28:00 2022-07-15 01:28:00  40551480566825732     5013   \n4680560 2022-07-15  01:28:00 2022-07-15 01:28:00  40551480566829060     5013   \n4680561 2022-07-15  01:48:00 2022-07-15 01:48:00  40551480575979012     5043   \n4680562 2022-07-15  01:51:00 2022-07-15 01:51:00  40551480298275076     5036   \n4680563 2022-07-15  01:51:00 2022-07-15 01:51:00  40551480298275076     5036   \n4680564 2022-07-15  02:00:00 2022-07-15 02:00:00  41958855447884548      510   \n4680565 2022-07-15  02:00:00 2022-07-15 02:00:00  37271982183274756     5013   \n4680566 2022-07-15  02:01:00 2022-07-15 02:01:00  37271982183271940     5013   \n4680567 2022-07-15  02:01:00 2022-07-15 02:01:00  36146082284251652      510   \n4680568 2022-07-15  02:01:00 2022-07-15 02:01:00  36146082284251908      510   \n4680569 2022-07-15  02:01:00 2022-07-15 02:01:00  40832955277145348      510   \n4680570 2022-07-15  02:27:00 2022-07-15 02:27:00  37271982183271940     4525   \n4680571 2022-07-15  02:27:00 2022-07-15 02:27:00  37271982183274756     4525   \n4680572 2022-07-15  04:33:00 2022-07-15 04:33:00  36088514819663876     5030   \n4680573 2022-07-15  05:06:00 2022-07-15 05:06:00  40832955551087108      509   \n4680574 2022-07-15  05:13:00 2022-07-15 05:13:00  40832947760207876      509   \n\n          DESCRIZIONE  TITOLO TICKET_CODE             DESCRIZIONE_TITOLO  \\\n4680555  SAN MARCO-SA   11261           1       DAILY PASS VENEZIA - AVM   \n4680556       VENEZIA   12101           7    BIGL.AUT.75'MESTRE/LIDO-TSC   \n4680557  SAN MARCO-SA   11109           3  BIGLIETTO 72 ORE ROLL. VENICE   \n4680558  SAN MARCO-SA   11107           2        48H-TPL 24,90-COMVE5,10   \n4680559  SAN MARCO-SA   11149           4       7GG-TPL 43,60-COMVE16,40   \n4680560  SAN MARCO-SA   11149           4       7GG-TPL 43,60-COMVE16,40   \n4680561     SAN TOMA'   11107           2        48H-TPL 24,90-COMVE5,10   \n4680562      SAN STAE   11261           1       DAILY PASS VENEZIA - AVM   \n4680563      SAN STAE   11261           1       DAILY PASS VENEZIA - AVM   \n4680564       VENEZIA   12101           7    BIGL.AUT.75'MESTRE/LIDO-TSC   \n4680565  SAN MARCO-SA   11261           1       DAILY PASS VENEZIA - AVM   \n4680566  SAN MARCO-SA   11261           1       DAILY PASS VENEZIA - AVM   \n4680567       VENEZIA   12101           7    BIGL.AUT.75'MESTRE/LIDO-TSC   \n4680568       VENEZIA   12101           7    BIGL.AUT.75'MESTRE/LIDO-TSC   \n4680569       VENEZIA   12101           7    BIGL.AUT.75'MESTRE/LIDO-TSC   \n4680570  SANTA MARIA    11261           1       DAILY PASS VENEZIA - AVM   \n4680571  SANTA MARIA    11261           1       DAILY PASS VENEZIA - AVM   \n4680572  P.LE ROMA \"F       5           7         75'-TPL 6,64-COMVE0,86   \n4680573       VENEZIA   12101           7    BIGL.AUT.75'MESTRE/LIDO-TSC   \n4680574       VENEZIA   12101           7    BIGL.AUT.75'MESTRE/LIDO-TSC   \n\n         MIN_TEMPORAL_GAP  \n4680555               NaN  \n4680556              10.0  \n4680557               NaN  \n4680558               NaN  \n4680559               NaN  \n4680560               NaN  \n4680561               NaN  \n4680562               NaN  \n4680563               0.0  \n4680564               NaN  \n4680565               NaN  \n4680566               NaN  \n4680567               NaN  \n4680568               NaN  \n4680569               NaN  \n4680570               NaN  \n4680571               NaN  \n4680572               NaN  \n4680573               NaN  \n4680574               NaN  ",
      "text/html": "<div>\n<style scoped>\n    .dataframe tbody tr th:only-of-type {\n        vertical-align: middle;\n    }\n\n    .dataframe tbody tr th {\n        vertical-align: top;\n    }\n\n    .dataframe thead th {\n        text-align: right;\n    }\n</style>\n<table border=\"1\" class=\"dataframe\">\n  <thead>\n    <tr style=\"text-align: right;\">\n      <th></th>\n      <th>DATA</th>\n      <th>ORA</th>\n      <th>DATA_VALIDAZIONE</th>\n      <th>SERIALE</th>\n      <th>FERMATA</th>\n      <th>DESCRIZIONE</th>\n      <th>TITOLO</th>\n      <th>TICKET_CODE</th>\n      <th>DESCRIZIONE_TITOLO</th>\n      <th>MIN_TEMPORAL_GAP</th>\n    </tr>\n  </thead>\n  <tbody>\n    <tr>\n      <th>4680555</th>\n      <td>2022-07-15</td>\n      <td>01:02:00</td>\n      <td>2022-07-15 01:02:00</td>\n      <td>36146081881259268</td>\n      <td>5013</td>\n      <td>SAN MARCO-SA</td>\n      <td>11261</td>\n      <td>1</td>\n      <td>DAILY PASS VENEZIA - AVM</td>\n      <td>NaN</td>\n    </tr>\n    <tr>\n      <th>4680556</th>\n      <td>2022-07-15</td>\n      <td>01:10:00</td>\n      <td>2022-07-15 01:10:00</td>\n      <td>40832955277083652</td>\n      <td>509</td>\n      <td>VENEZIA</td>\n      <td>12101</td>\n      <td>7</td>\n      <td>BIGL.AUT.75'MESTRE/LIDO-TSC</td>\n      <td>10.0</td>\n    </tr>\n    <tr>\n      <th>4680557</th>\n      <td>2022-07-15</td>\n      <td>01:13:00</td>\n      <td>2022-07-15 01:13:00</td>\n      <td>41958855181075972</td>\n      <td>5013</td>\n      <td>SAN MARCO-SA</td>\n      <td>11109</td>\n      <td>3</td>\n      <td>BIGLIETTO 72 ORE ROLL. VENICE</td>\n      <td>NaN</td>\n    </tr>\n    <tr>\n      <th>4680558</th>\n      <td>2022-07-15</td>\n      <td>01:13:00</td>\n      <td>2022-07-15 01:13:00</td>\n      <td>37553456891176708</td>\n      <td>5013</td>\n      <td>SAN MARCO-SA</td>\n      <td>11107</td>\n      <td>2</td>\n      <td>48H-TPL 24,90-COMVE5,10</td>\n      <td>NaN</td>\n    </tr>\n    <tr>\n      <th>4680559</th>\n      <td>2022-07-15</td>\n      <td>01:28:00</td>\n      <td>2022-07-15 01:28:00</td>\n      <td>40551480566825732</td>\n      <td>5013</td>\n      <td>SAN MARCO-SA</td>\n      <td>11149</td>\n      <td>4</td>\n      <td>7GG-TPL 43,60-COMVE16,40</td>\n      <td>NaN</td>\n    </tr>\n    <tr>\n      <th>4680560</th>\n      <td>2022-07-15</td>\n      <td>01:28:00</td>\n      <td>2022-07-15 01:28:00</td>\n      <td>40551480566829060</td>\n      <td>5013</td>\n      <td>SAN MARCO-SA</td>\n      <td>11149</td>\n      <td>4</td>\n      <td>7GG-TPL 43,60-COMVE16,40</td>\n      <td>NaN</td>\n    </tr>\n    <tr>\n      <th>4680561</th>\n      <td>2022-07-15</td>\n      <td>01:48:00</td>\n      <td>2022-07-15 01:48:00</td>\n      <td>40551480575979012</td>\n      <td>5043</td>\n      <td>SAN TOMA'</td>\n      <td>11107</td>\n      <td>2</td>\n      <td>48H-TPL 24,90-COMVE5,10</td>\n      <td>NaN</td>\n    </tr>\n    <tr>\n      <th>4680562</th>\n      <td>2022-07-15</td>\n      <td>01:51:00</td>\n      <td>2022-07-15 01:51:00</td>\n      <td>40551480298275076</td>\n      <td>5036</td>\n      <td>SAN STAE</td>\n      <td>11261</td>\n      <td>1</td>\n      <td>DAILY PASS VENEZIA - AVM</td>\n      <td>NaN</td>\n    </tr>\n    <tr>\n      <th>4680563</th>\n      <td>2022-07-15</td>\n      <td>01:51:00</td>\n      <td>2022-07-15 01:51:00</td>\n      <td>40551480298275076</td>\n      <td>5036</td>\n      <td>SAN STAE</td>\n      <td>11261</td>\n      <td>1</td>\n      <td>DAILY PASS VENEZIA - AVM</td>\n      <td>0.0</td>\n    </tr>\n    <tr>\n      <th>4680564</th>\n      <td>2022-07-15</td>\n      <td>02:00:00</td>\n      <td>2022-07-15 02:00:00</td>\n      <td>41958855447884548</td>\n      <td>510</td>\n      <td>VENEZIA</td>\n      <td>12101</td>\n      <td>7</td>\n      <td>BIGL.AUT.75'MESTRE/LIDO-TSC</td>\n      <td>NaN</td>\n    </tr>\n    <tr>\n      <th>4680565</th>\n      <td>2022-07-15</td>\n      <td>02:00:00</td>\n      <td>2022-07-15 02:00:00</td>\n      <td>37271982183274756</td>\n      <td>5013</td>\n      <td>SAN MARCO-SA</td>\n      <td>11261</td>\n      <td>1</td>\n      <td>DAILY PASS VENEZIA - AVM</td>\n      <td>NaN</td>\n    </tr>\n    <tr>\n      <th>4680566</th>\n      <td>2022-07-15</td>\n      <td>02:01:00</td>\n      <td>2022-07-15 02:01:00</td>\n      <td>37271982183271940</td>\n      <td>5013</td>\n      <td>SAN MARCO-SA</td>\n      <td>11261</td>\n      <td>1</td>\n      <td>DAILY PASS VENEZIA - AVM</td>\n      <td>NaN</td>\n    </tr>\n    <tr>\n      <th>4680567</th>\n      <td>2022-07-15</td>\n      <td>02:01:00</td>\n      <td>2022-07-15 02:01:00</td>\n      <td>36146082284251652</td>\n      <td>510</td>\n      <td>VENEZIA</td>\n      <td>12101</td>\n      <td>7</td>\n      <td>BIGL.AUT.75'MESTRE/LIDO-TSC</td>\n      <td>NaN</td>\n    </tr>\n    <tr>\n      <th>4680568</th>\n      <td>2022-07-15</td>\n      <td>02:01:00</td>\n      <td>2022-07-15 02:01:00</td>\n      <td>36146082284251908</td>\n      <td>510</td>\n      <td>VENEZIA</td>\n      <td>12101</td>\n      <td>7</td>\n      <td>BIGL.AUT.75'MESTRE/LIDO-TSC</td>\n      <td>NaN</td>\n    </tr>\n    <tr>\n      <th>4680569</th>\n      <td>2022-07-15</td>\n      <td>02:01:00</td>\n      <td>2022-07-15 02:01:00</td>\n      <td>40832955277145348</td>\n      <td>510</td>\n      <td>VENEZIA</td>\n      <td>12101</td>\n      <td>7</td>\n      <td>BIGL.AUT.75'MESTRE/LIDO-TSC</td>\n      <td>NaN</td>\n    </tr>\n    <tr>\n      <th>4680570</th>\n      <td>2022-07-15</td>\n      <td>02:27:00</td>\n      <td>2022-07-15 02:27:00</td>\n      <td>37271982183271940</td>\n      <td>4525</td>\n      <td>SANTA MARIA</td>\n      <td>11261</td>\n      <td>1</td>\n      <td>DAILY PASS VENEZIA - AVM</td>\n      <td>NaN</td>\n    </tr>\n    <tr>\n      <th>4680571</th>\n      <td>2022-07-15</td>\n      <td>02:27:00</td>\n      <td>2022-07-15 02:27:00</td>\n      <td>37271982183274756</td>\n      <td>4525</td>\n      <td>SANTA MARIA</td>\n      <td>11261</td>\n      <td>1</td>\n      <td>DAILY PASS VENEZIA - AVM</td>\n      <td>NaN</td>\n    </tr>\n    <tr>\n      <th>4680572</th>\n      <td>2022-07-15</td>\n      <td>04:33:00</td>\n      <td>2022-07-15 04:33:00</td>\n      <td>36088514819663876</td>\n      <td>5030</td>\n      <td>P.LE ROMA \"F</td>\n      <td>5</td>\n      <td>7</td>\n      <td>75'-TPL 6,64-COMVE0,86</td>\n      <td>NaN</td>\n    </tr>\n    <tr>\n      <th>4680573</th>\n      <td>2022-07-15</td>\n      <td>05:06:00</td>\n      <td>2022-07-15 05:06:00</td>\n      <td>40832955551087108</td>\n      <td>509</td>\n      <td>VENEZIA</td>\n      <td>12101</td>\n      <td>7</td>\n      <td>BIGL.AUT.75'MESTRE/LIDO-TSC</td>\n      <td>NaN</td>\n    </tr>\n    <tr>\n      <th>4680574</th>\n      <td>2022-07-15</td>\n      <td>05:13:00</td>\n      <td>2022-07-15 05:13:00</td>\n      <td>40832947760207876</td>\n      <td>509</td>\n      <td>VENEZIA</td>\n      <td>12101</td>\n      <td>7</td>\n      <td>BIGL.AUT.75'MESTRE/LIDO-TSC</td>\n      <td>NaN</td>\n    </tr>\n  </tbody>\n</table>\n</div>"
     },
     "execution_count": 87,
     "metadata": {},
     "output_type": "execute_result"
    }
   ],
   "source": [
    "df.tail(20)"
   ]
  },
  {
   "cell_type": "code",
   "execution_count": 88,
   "metadata": {},
   "outputs": [
    {
     "data": {
      "text/plain": "0.0       130011\n1.0        38129\n2.0        31106\n3.0        23096\n4.0        16897\n5.0        13775\n6.0        11365\n7.0         9447\n8.0         8110\n9.0         6814\n10.0        5831\n11.0        4932\n12.0        4690\n13.0        3844\n14.0        3345\n15.0        3013\n16.0        2498\n17.0        2291\n18.0        2172\n19.0        1834\n20.0        1655\n21.0        1365\n22.0        1223\n23.0        1169\n24.0        1022\n25.0         984\n26.0         840\n27.0         719\n28.0         678\n30.0         640\n29.0         620\n32.0         536\n31.0         492\n33.0         469\n35.0         446\n38.0         431\n34.0         412\n37.0         379\n36.0         374\n39.0         343\n247.0        330\n44.0         329\n41.0         325\n260.0        323\n274.0        323\n239.0        319\n215.0        318\n248.0        318\n303.0        314\n353.0        314\n224.0        309\n267.0        309\n40.0         308\n262.0        308\n235.0        307\n249.0        306\n42.0         305\n222.0        304\n332.0        304\n218.0        303\n227.0        303\n204.0        303\n253.0        303\n326.0        302\n302.0        302\n305.0        301\n223.0        301\n290.0        300\n383.0        299\n234.0        299\n276.0        299\n265.0        297\n313.0        297\n273.0        296\n340.0        296\n325.0        296\n382.0        295\n297.0        295\n360.0        295\n205.0        294\n352.0        293\n60.0         293\n300.0        293\n309.0        292\n45.0         292\n217.0        290\n458.0        290\n196.0        290\n46.0         290\n312.0        290\n289.0        289\n337.0        289\n203.0        288\n187.0        287\n207.0        287\n311.0        285\n272.0        285\n198.0        284\n307.0        284\n320.0        284\n232.0        284\n229.0        284\n351.0        283\n426.0        283\n245.0        283\n368.0        282\n323.0        282\n238.0        282\n243.0        282\n173.0        281\n165.0        281\n346.0        281\n365.0        281\n318.0        280\n240.0        280\n201.0        280\n277.0        280\n226.0        280\n43.0         280\n283.0        279\n162.0        279\n450.0        278\n221.0        278\n202.0        278\n264.0        277\n408.0        277\n435.0        277\n284.0        276\n362.0        276\n280.0        276\n281.0        276\n246.0        276\n233.0        275\n361.0        275\n197.0        275\n451.0        275\n167.0        274\n350.0        273\n269.0        273\n322.0        273\n321.0        273\n406.0        273\n338.0        272\n401.0        272\n216.0        272\n385.0        272\n319.0        271\n161.0        271\n354.0        271\n189.0        271\n355.0        271\n183.0        271\n333.0        271\n299.0        271\n191.0        270\n210.0        270\n56.0         270\n178.0        270\n356.0        270\n372.0        270\n381.0        269\n287.0        269\n286.0        269\n212.0        269\n449.0        269\n268.0        269\n308.0        268\n231.0        268\n384.0        267\n250.0        267\n241.0        267\n254.0        267\n278.0        267\n275.0        266\n328.0        266\n418.0        266\n314.0        265\n363.0        265\n395.0        265\n491.0        265\n373.0        264\n390.0        264\n190.0        264\n317.0        263\n54.0         263\n208.0        263\n257.0        263\n481.0        262\n61.0         262\n181.0        262\n47.0         261\n316.0        261\n330.0        261\n306.0        261\n347.0        261\n296.0        260\n440.0        260\n271.0        260\n171.0        260\n259.0        260\n255.0        260\n282.0        260\n403.0        260\n51.0         259\n344.0        259\n327.0        259\n376.0        258\n200.0        258\n206.0        258\n422.0        258\n160.0        258\n366.0        258\n345.0        258\n194.0        258\n236.0        258\n279.0        258\n180.0        257\n230.0        257\n392.0        257\n310.0        257\n301.0        257\n412.0        257\n59.0         257\n251.0        257\n339.0        257\n342.0        257\n446.0        256\n228.0        256\n371.0        256\n432.0        256\n430.0        255\n404.0        255\n411.0        255\n49.0         255\n419.0        255\n359.0        255\n398.0        254\n417.0        254\n349.0        254\n367.0        254\n214.0        253\n209.0        253\n357.0        253\n252.0        253\n456.0        253\n388.0        253\n163.0        253\n270.0        253\n410.0        253\n288.0        253\n294.0        253\n341.0        252\n170.0        252\n256.0        252\n211.0        252\n427.0        251\n396.0        251\n169.0        251\n431.0        251\n199.0        251\n444.0        250\n120.0        250\n143.0        250\n52.0         250\n387.0        250\n391.0        249\n402.0        249\n462.0        249\n476.0        249\n329.0        249\n364.0        248\n489.0        248\n55.0         248\n414.0        248\n177.0        248\n136.0        247\n433.0        247\n63.0         247\n472.0        247\n441.0        247\n266.0        247\n242.0        246\n477.0        246\n517.0        246\n467.0        246\n48.0         246\n478.0        246\n389.0        246\n343.0        246\n292.0        246\n416.0        246\n380.0        246\n369.0        246\n442.0        245\n57.0         245\n176.0        245\n291.0        244\n348.0        244\n334.0        244\n453.0        244\n474.0        244\n393.0        243\n455.0        243\n53.0         243\n304.0        243\n184.0        243\n421.0        243\n151.0        242\n399.0        242\n293.0        242\n479.0        242\n182.0        242\n150.0        242\n377.0        242\n386.0        241\n188.0        241\n394.0        241\n315.0        241\n336.0        241\n335.0        240\n473.0        240\n464.0        240\n358.0        240\n438.0        240\n374.0        240\n263.0        240\n152.0        240\n219.0        239\n172.0        239\n195.0        239\n465.0        239\n469.0        238\n378.0        238\n186.0        238\n185.0        238\n429.0        238\n324.0        238\n460.0        238\n448.0        237\n425.0        237\n400.0        236\n70.0         236\n409.0        236\n144.0        235\n475.0        234\n370.0        234\n50.0         234\n220.0        233\n67.0         233\n103.0        232\n436.0        232\n379.0        232\n237.0        232\n244.0        232\n434.0        231\n166.0        231\n164.0        231\n128.0        230\n529.0        230\n482.0        230\n495.0        230\n498.0        230\n428.0        229\n375.0        229\n457.0        229\n492.0        229\n298.0        229\n461.0        228\n135.0        228\n295.0        228\n454.0        228\n261.0        227\n471.0        227\n331.0        227\n192.0        227\n468.0        226\n102.0        226\n58.0         226\n507.0        226\n124.0        225\n213.0        225\n168.0        225\n420.0        225\n452.0        224\n504.0        224\n105.0        223\n158.0        223\n437.0        223\n407.0        223\n225.0        222\n146.0        222\n127.0        222\n107.0        222\n447.0        221\n285.0        221\n513.0        221\n506.0        221\n153.0        220\n490.0        220\n485.0        220\n116.0        220\n175.0        220\n509.0        220\n523.0        219\n480.0        219\n466.0        219\n130.0        219\n512.0        219\n459.0        218\n65.0         218\n505.0        218\n179.0        217\n159.0        217\n62.0         217\n511.0        217\n142.0        217\n258.0        217\n508.0        217\n415.0        216\n93.0         216\n413.0        216\n484.0        216\n494.0        216\n121.0        215\n109.0        215\n423.0        215\n193.0        214\n524.0        214\n397.0        214\n541.0        213\n87.0         213\n522.0        213\n502.0        213\n470.0        212\n510.0        212\n443.0        212\n91.0         212\n540.0        211\n405.0        211\n149.0        211\n134.0        211\n542.0        211\n99.0         210\n424.0        210\n69.0         210\n104.0        209\n487.0        209\n106.0        209\n129.0        207\n500.0        207\n132.0        207\n515.0        207\n174.0        206\n526.0        206\n145.0        206\n157.0        206\n101.0        206\n544.0        206\n501.0        205\n119.0        205\n155.0        205\n528.0        205\n126.0        205\n561.0        204\n521.0        204\n493.0        204\n503.0        204\n108.0        204\n82.0         204\n148.0        203\n536.0        202\n531.0        202\n497.0        202\n559.0        202\n74.0         201\n95.0         200\n486.0        200\n533.0        200\n488.0        199\n499.0        199\n115.0        198\n75.0         198\n546.0        198\n123.0        198\n439.0        197\n137.0        197\n514.0        197\n156.0        197\n111.0        196\n72.0         196\n445.0        196\n463.0        195\n100.0        195\n539.0        195\n76.0         195\n140.0        194\n88.0         194\n483.0        193\n138.0        193\n71.0         192\n68.0         192\n154.0        191\n519.0        191\n122.0        191\n554.0        190\n525.0        190\n133.0        190\n543.0        190\n73.0         189\n139.0        189\n90.0         189\n564.0        189\n518.0        189\n520.0        188\n496.0        188\n131.0        187\n141.0        187\n535.0        186\n92.0         186\n64.0         186\n538.0        185\n81.0         185\n110.0        185\n97.0         185\n66.0         184\n551.0        183\n580.0        183\n552.0        183\n83.0         183\n530.0        182\n112.0        182\n547.0        182\n570.0        181\n527.0        180\n79.0         180\n125.0        180\n114.0        179\n85.0         179\n78.0         179\n86.0         179\n550.0        178\n557.0        178\n556.0        178\n569.0        178\n565.0        176\n147.0        176\n89.0         175\n562.0        175\n537.0        174\n117.0        174\n579.0        172\n80.0         171\n555.0        170\n545.0        169\n77.0         169\n553.0        168\n548.0        167\n576.0        167\n118.0        166\n532.0        165\n534.0        165\n84.0         164\n94.0         164\n549.0        164\n605.0        163\n558.0        162\n583.0        161\n113.0        160\n98.0         160\n600.0        159\n516.0        159\n589.0        159\n573.0        158\n568.0        158\n96.0         157\n560.0        157\n575.0        155\n567.0        154\n588.0        152\n577.0        150\n571.0        150\n587.0        149\n593.0        148\n578.0        146\n599.0        146\n566.0        145\n607.0        145\n590.0        144\n574.0        143\n614.0        141\n601.0        140\n603.0        140\n596.0        139\n581.0        138\n644.0        136\n598.0        136\n604.0        136\n615.0        135\n616.0        134\n635.0        134\n592.0        133\n609.0        133\n591.0        133\n611.0        133\n563.0        133\n619.0        133\n572.0        130\n613.0        130\n606.0        129\n612.0        129\n610.0        128\n626.0        128\n586.0        126\n594.0        126\n585.0        124\n632.0        124\n595.0        123\n582.0        122\n584.0        122\n628.0        122\n618.0        122\n627.0        122\n597.0        121\n602.0        120\n636.0        117\n621.0        117\n617.0        111\n643.0        110\n608.0        107\n641.0        107\n692.0        107\n620.0        107\n622.0        106\n638.0        106\n640.0        105\n660.0        105\n648.0        104\n624.0        104\n659.0        103\n634.0        102\n658.0        100\n665.0        100\n647.0         97\n657.0         96\n639.0         96\n662.0         94\n625.0         93\n676.0         93\n655.0         92\n652.0         92\n637.0         91\n673.0         91\n623.0         91\n642.0         91\n629.0         91\n646.0         90\n666.0         90\n656.0         87\n630.0         86\n672.0         86\n649.0         85\n654.0         83\n633.0         83\n645.0         82\n650.0         82\n669.0         81\n670.0         80\n674.0         79\n689.0         76\n653.0         74\n651.0         73\n690.0         72\n663.0         70\n667.0         70\n671.0         70\n664.0         70\n677.0         69\n661.0         68\n695.0         68\n678.0         67\n699.0         67\n702.0         66\n700.0         66\n683.0         65\n631.0         64\n701.0         64\n691.0         64\n707.0         63\n703.0         61\n681.0         60\n687.0         60\n726.0         59\n696.0         58\n698.0         58\n721.0         57\n693.0         57\n694.0         57\n668.0         57\n679.0         55\n685.0         54\n684.0         54\n675.0         54\n727.0         54\n720.0         50\n709.0         50\n738.0         48\n688.0         48\n725.0         47\n710.0         47\n724.0         46\n682.0         46\n731.0         46\n697.0         46\n680.0         44\n737.0         43\n708.0         43\n706.0         42\n734.0         42\n719.0         42\n714.0         41\n713.0         41\n716.0         41\n718.0         40\n715.0         40\n705.0         39\n736.0         37\n704.0         36\n728.0         36\n732.0         36\n750.0         35\n686.0         35\n739.0         35\n735.0         34\n745.0         34\n733.0         34\n717.0         33\n723.0         33\n741.0         33\n762.0         32\n744.0         32\n729.0         32\n712.0         32\n767.0         31\n749.0         31\n753.0         31\n802.0         31\n746.0         30\n711.0         29\n759.0         29\n777.0         29\n748.0         29\n752.0         29\n758.0         28\n780.0         27\n730.0         27\n761.0         27\n788.0         26\n760.0         26\n751.0         25\n805.0         25\n757.0         25\n722.0         25\n756.0         25\n787.0         25\n769.0         24\n742.0         23\n755.0         23\n770.0         23\n786.0         23\n740.0         23\n747.0         23\n784.0         23\n795.0         21\n794.0         21\n806.0         21\n768.0         21\n775.0         21\n772.0         20\n801.0         20\n754.0         20\n831.0         20\n807.0         19\n776.0         19\n796.0         19\n773.0         18\n782.0         18\n797.0         18\n763.0         18\n743.0         17\n778.0         17\n823.0         16\n785.0         16\n808.0         16\n810.0         16\n771.0         16\n790.0         16\n765.0         16\n766.0         16\n1418.0        15\n822.0         15\n1124.0        15\n798.0         15\n1423.0        15\n781.0         15\n764.0         15\n779.0         15\n793.0         14\n817.0         14\n908.0         13\n1433.0        13\n1013.0        13\n1080.0        13\n891.0         13\n789.0         12\n883.0         12\n804.0         12\n840.0         12\n830.0         11\n814.0         11\n1008.0        11\n1434.0        11\n1198.0        11\n1435.0        11\n999.0         10\n783.0         10\n893.0         10\n1415.0        10\n827.0         10\n818.0         10\n811.0         10\n843.0         10\n1109.0        10\n1417.0        10\n1042.0        10\n841.0         10\n914.0          9\n900.0          9\n856.0          9\n1047.0         9\n819.0          9\n815.0          9\n1216.0         9\n1429.0         9\n1061.0         9\n1100.0         9\n833.0          9\n826.0          9\n1144.0         9\n1029.0         9\n820.0          9\n871.0          9\n1427.0         9\n853.0          9\n1076.0         8\n829.0          8\n858.0          8\n877.0          8\n851.0          8\n934.0          8\n921.0          8\n809.0          8\n844.0          8\n828.0          8\n918.0          8\n850.0          7\n980.0          7\n1437.0         7\n1426.0         7\n832.0          7\n1052.0         7\n1185.0         7\n1424.0         7\n1084.0         7\n867.0          7\n824.0          7\n928.0          7\n927.0          7\n825.0          7\n791.0          7\n835.0          7\n1099.0         7\n1436.0         7\n1095.0         7\n1412.0         7\n803.0          7\n1017.0         7\n886.0          7\n998.0          7\n874.0          6\n897.0          6\n857.0          6\n1053.0         6\n892.0          6\n1002.0         6\n859.0          6\n774.0          6\n1121.0         6\n1065.0         6\n993.0          6\n971.0          6\n839.0          6\n1118.0         6\n942.0          6\n915.0          6\n1015.0         6\n848.0          6\n1122.0         6\n1035.0         6\n1038.0         6\n961.0          6\n1188.0         6\n1168.0         6\n1032.0         6\n1125.0         6\n911.0          6\n1041.0         6\n910.0          6\n1425.0         6\n987.0          6\n1007.0         6\n1126.0         6\n821.0          6\n1101.0         6\n1103.0         6\n920.0          6\n902.0          5\n992.0          5\n1000.0         5\n1404.0         5\n1043.0         5\n1191.0         5\n972.0          5\n929.0          5\n1422.0         5\n792.0          5\n1181.0         5\n1187.0         5\n1421.0         5\n1165.0         5\n1351.0         5\n1069.0         5\n1025.0         5\n1036.0         5\n876.0          5\n836.0          5\n849.0          5\n884.0          5\n1150.0         5\n975.0          5\n1039.0         5\n885.0          5\n889.0          5\n1016.0         5\n890.0          5\n1074.0         5\n852.0          5\n1066.0         5\n837.0          5\n887.0          5\n1060.0         5\n966.0          5\n838.0          5\n1001.0         5\n1054.0         5\n947.0          5\n1303.0         5\n1057.0         4\n1020.0         4\n1123.0         4\n1048.0         4\n994.0          4\n870.0          4\n1192.0         4\n1402.0         4\n1098.0         4\n865.0          4\n997.0          4\n881.0          4\n935.0          4\n973.0          4\n1199.0         4\n1083.0         4\n1027.0         4\n1169.0         4\n986.0          4\n909.0          4\n959.0          4\n958.0          4\n901.0          4\n834.0          4\n860.0          4\n1407.0         4\n1151.0         4\n923.0          4\n899.0          4\n955.0          4\n1009.0         4\n1004.0         4\n1428.0         4\n1297.0         4\n905.0          4\n847.0          4\n1128.0         4\n1283.0         4\n1416.0         4\n943.0          4\n1360.0         4\n1405.0         4\n962.0          4\n888.0          4\n1390.0         4\n1411.0         4\n1062.0         4\n1166.0         4\n960.0          4\n799.0          4\n912.0          4\n898.0          4\n907.0          4\n948.0          4\n1387.0         4\n1323.0         4\n868.0          4\n1114.0         4\n1141.0         4\n1228.0         4\n916.0          4\n945.0          4\n1310.0         4\n996.0          4\n1182.0         4\n1079.0         4\n1324.0         4\n1073.0         4\n1028.0         3\n906.0          3\n1274.0         3\n1137.0         3\n1250.0         3\n1155.0         3\n1244.0         3\n1203.0         3\n1026.0         3\n949.0          3\n816.0          3\n1413.0         3\n866.0          3\n846.0          3\n1130.0         3\n1096.0         3\n800.0          3\n1012.0         3\n1264.0         3\n1334.0         3\n880.0          3\n1111.0         3\n813.0          3\n1406.0         3\n1420.0         3\n1269.0         3\n1223.0         3\n1033.0         3\n1070.0         3\n1209.0         3\n930.0          3\n1106.0         3\n1072.0         3\n1102.0         3\n924.0          3\n894.0          3\n1113.0         3\n872.0          3\n1394.0         3\n913.0          3\n1003.0         3\n1200.0         3\n1133.0         3\n1108.0         3\n855.0          3\n1034.0         3\n963.0          3\n1409.0         3\n1302.0         3\n1156.0         3\n882.0          3\n1024.0         3\n1190.0         3\n1381.0         3\n1147.0         3\n1030.0         3\n950.0          3\n878.0          3\n845.0          3\n1131.0         3\n1037.0         3\n941.0          3\n869.0          3\n1367.0         3\n1419.0         3\n903.0          3\n965.0          3\n862.0          3\n875.0          3\n953.0          3\n1347.0         3\n1120.0         3\n854.0          3\n1271.0         2\n1071.0         2\n946.0          2\n1161.0         2\n1225.0         2\n1059.0         2\n1255.0         2\n1148.0         2\n1389.0         2\n939.0          2\n1197.0         2\n933.0          2\n1376.0         2\n1340.0         2\n863.0          2\n1193.0         2\n974.0          2\n956.0          2\n1378.0         2\n984.0          2\n1116.0         2\n1064.0         2\n1068.0         2\n1401.0         2\n964.0          2\n1050.0         2\n1438.0         2\n926.0          2\n1430.0         2\n1329.0         2\n1091.0         2\n1204.0         2\n1307.0         2\n1230.0         2\n1259.0         2\n922.0          2\n1046.0         2\n1300.0         2\n1006.0         2\n1229.0         2\n1152.0         2\n1031.0         2\n1093.0         2\n1400.0         2\n1388.0         2\n1179.0         2\n1138.0         2\n937.0          2\n1132.0         2\n970.0          2\n1294.0         2\n1333.0         2\n1439.0         2\n1308.0         2\n895.0          2\n1089.0         2\n1385.0         2\n978.0          2\n1221.0         2\n1075.0         2\n1011.0         2\n1330.0         2\n1377.0         2\n1063.0         2\n879.0          2\n1077.0         2\n1167.0         2\n967.0          2\n1112.0         2\n1149.0         2\n1251.0         2\n1396.0         2\n1258.0         2\n979.0          2\n1432.0         2\n1010.0         2\n1056.0         2\n1005.0         2\n1178.0         2\n1206.0         2\n1313.0         2\n1085.0         2\n904.0          2\n931.0          2\n977.0          2\n1301.0         2\n925.0          2\n1170.0         2\n1040.0         2\n896.0          2\n954.0          2\n1276.0         2\n1014.0         2\n1403.0         2\n1296.0         2\n1222.0         2\n1049.0         1\n1210.0         1\n1142.0         1\n1350.0         1\n1215.0         1\n1267.0         1\n1127.0         1\n990.0          1\n1311.0         1\n940.0          1\n1088.0         1\n1356.0         1\n1263.0         1\n1117.0         1\n1224.0         1\n1058.0         1\n1344.0         1\n1180.0         1\n1326.0         1\n1153.0         1\n1392.0         1\n864.0          1\n1284.0         1\n1134.0         1\n1242.0         1\n1163.0         1\n1341.0         1\n1366.0         1\n1145.0         1\n1299.0         1\n944.0          1\n812.0          1\n988.0          1\n1321.0         1\n1194.0         1\n1261.0         1\n1174.0         1\n981.0          1\n936.0          1\n1045.0         1\n1051.0         1\n1306.0         1\n982.0          1\n1245.0         1\n1022.0         1\n1372.0         1\n861.0          1\n932.0          1\n1195.0         1\n1335.0         1\n957.0          1\n1136.0         1\n1247.0         1\n1023.0         1\n1082.0         1\n1211.0         1\n1183.0         1\n1184.0         1\n1172.0         1\n1391.0         1\n1373.0         1\n1055.0         1\n1277.0         1\n1097.0         1\n1233.0         1\n969.0          1\n1021.0         1\n1160.0         1\n985.0          1\n1154.0         1\n976.0          1\n1352.0         1\n1090.0         1\n1393.0         1\n1399.0         1\n1176.0         1\n1395.0         1\n1290.0         1\n919.0          1\n1235.0         1\n1226.0         1\n1278.0         1\n842.0          1\n1129.0         1\n1196.0         1\n1282.0         1\n1382.0         1\n1234.0         1\n1249.0         1\n1078.0         1\n1143.0         1\n1266.0         1\n1332.0         1\n1281.0         1\n1018.0         1\n1346.0         1\n1252.0         1\n873.0          1\n1092.0         1\n1207.0         1\n1186.0         1\n1345.0         1\n1164.0         1\n951.0          1\n1260.0         1\n1275.0         1\n1339.0         1\n1386.0         1\n1159.0         1\n1232.0         1\n1343.0         1\nName: MIN_TEMPORAL_GAP, dtype: int64"
     },
     "execution_count": 88,
     "metadata": {},
     "output_type": "execute_result"
    }
   ],
   "source": [
    "df['MIN_TEMPORAL_GAP'].value_counts()"
   ]
  },
  {
   "cell_type": "code",
   "execution_count": 89,
   "metadata": {},
   "outputs": [
    {
     "data": {
      "text/plain": "4196926"
     },
     "execution_count": 89,
     "metadata": {},
     "output_type": "execute_result"
    }
   ],
   "source": [
    "# How many rows have a minimum temporal gap equal to NaN?\n",
    "df[df['MIN_TEMPORAL_GAP'].isna()].shape[0]"
   ]
  },
  {
   "cell_type": "code",
   "execution_count": 90,
   "metadata": {},
   "outputs": [
    {
     "name": "stdout",
     "output_type": "stream",
     "text": [
      "The minimum value of the column MIN_TEMPORAL_GAP is: 0.0\n",
      "The maximum value of the column MIN_TEMPORAL_GAP is: 1439.0\n",
      "The mean value of the column MIN_TEMPORAL_GAP is: 108.73571743144305\n",
      "The median value of the column MIN_TEMPORAL_GAP is: 5.0\n",
      "The standard deviation of the column MIN_TEMPORAL_GAP is: 192.22288839487143\n",
      "The 0.05th percentile of the column MIN_TEMPORAL_GAP is: 0.0\n",
      "The 0.10th percentile of the column MIN_TEMPORAL_GAP is: 0.0\n",
      "The 25th percentile of the column MIN_TEMPORAL_GAP is: 0.0\n",
      "The 75th percentile of the column MIN_TEMPORAL_GAP is: 155.0\n",
      "The 90th percentile of the column MIN_TEMPORAL_GAP is: 431.0\n",
      "The 95th percentile of the column MIN_TEMPORAL_GAP is: 540.0\n",
      "The 99th percentile of the column MIN_TEMPORAL_GAP is: 706.0\n",
      "The 99.9th percentile of the column MIN_TEMPORAL_GAP is: 1182.0\n",
      "The delta of MIN_TEMPORAL_GAP is: 5.0\n"
     ]
    }
   ],
   "source": [
    "# Cleaning operation: remove the rows using the minimum temporal gap\n",
    "\n",
    "# Find a reasonable delta of MIN_TEMPORAL_GAP to remove the rows that have a minimum temporal gap for the same serial and fermata less than this delta\n",
    "# Print the minimum value of the column MIN_TEMPORAL_GAP\n",
    "print('The minimum value of the column MIN_TEMPORAL_GAP is: {}'.format(df['MIN_TEMPORAL_GAP'].min()))\n",
    "\n",
    "# Print the maximum value of the column MIN_TEMPORAL_GAP\n",
    "print('The maximum value of the column MIN_TEMPORAL_GAP is: {}'.format(df['MIN_TEMPORAL_GAP'].max()))\n",
    "\n",
    "# Print the mean value of the column MIN_TEMPORAL_GAP\n",
    "print('The mean value of the column MIN_TEMPORAL_GAP is: {}'.format(df['MIN_TEMPORAL_GAP'].mean()))\n",
    "\n",
    "# Print the median value of the column MIN_TEMPORAL_GAP\n",
    "print('The median value of the column MIN_TEMPORAL_GAP is: {}'.format(df['MIN_TEMPORAL_GAP'].median()))\n",
    "\n",
    "# Print the standard deviation of the column MIN_TEMPORAL_GAP\n",
    "print('The standard deviation of the column MIN_TEMPORAL_GAP is: {}'.format(df['MIN_TEMPORAL_GAP'].std()))\n",
    "\n",
    "# Print the 0.05th percentile of the column MIN_TEMPORAL_GAP\n",
    "print('The 0.05th percentile of the column MIN_TEMPORAL_GAP is: {}'.format(df['MIN_TEMPORAL_GAP'].quantile(0.05)))\n",
    "\n",
    "# Print the 0.10th percentile of the column MIN_TEMPORAL_GAP\n",
    "print('The 0.10th percentile of the column MIN_TEMPORAL_GAP is: {}'.format(df['MIN_TEMPORAL_GAP'].quantile(0.10)))\n",
    "\n",
    "# Print the 25th percentile of the column MIN_TEMPORAL_GAP\n",
    "print('The 25th percentile of the column MIN_TEMPORAL_GAP is: {}'.format(df['MIN_TEMPORAL_GAP'].quantile(0.25)))\n",
    "\n",
    "# Print the 75th percentile of the column MIN_TEMPORAL_GAP\n",
    "print('The 75th percentile of the column MIN_TEMPORAL_GAP is: {}'.format(df['MIN_TEMPORAL_GAP'].quantile(0.75)))\n",
    "\n",
    "# Print the 90th percentile of the column MIN_TEMPORAL_GAP\n",
    "print('The 90th percentile of the column MIN_TEMPORAL_GAP is: {}'.format(df['MIN_TEMPORAL_GAP'].quantile(0.90)))\n",
    "\n",
    "# Print the 95th percentile of the column MIN_TEMPORAL_GAP\n",
    "print('The 95th percentile of the column MIN_TEMPORAL_GAP is: {}'.format(df['MIN_TEMPORAL_GAP'].quantile(0.95)))\n",
    "\n",
    "# Print the 99th percentile of the column MIN_TEMPORAL_GAP\n",
    "print('The 99th percentile of the column MIN_TEMPORAL_GAP is: {}'.format(df['MIN_TEMPORAL_GAP'].quantile(0.99)))\n",
    "\n",
    "# Print the 99.9th percentile of the column MIN_TEMPORAL_GAP\n",
    "print('The 99.9th percentile of the column MIN_TEMPORAL_GAP is: {}'.format(df['MIN_TEMPORAL_GAP'].quantile(0.999)))\n",
    "\n",
    "# Decide the delta of MIN_TEMPORAL_GAP using the 25th percentile of the column MIN_TEMPORAL_G\n",
    "delta = df['MIN_TEMPORAL_GAP'].quantile(0.1)\n",
    "if delta == 0:\n",
    "    delta = df['MIN_TEMPORAL_GAP'].quantile(0.25)\n",
    "if delta == 0:\n",
    "    delta = df['MIN_TEMPORAL_GAP'].median()\n",
    "print('The delta of MIN_TEMPORAL_GAP is: {}'.format(delta))"
   ]
  },
  {
   "cell_type": "code",
   "execution_count": 91,
   "metadata": {},
   "outputs": [
    {
     "name": "stdout",
     "output_type": "stream",
     "text": [
      "The number of rows before the cleaning operation is: 4680575\n",
      "The number of rows after the cleaning operation is: 4427561\n",
      "The difference is: 253014\n",
      "The percentage of rows that has just been deleted is: 5.41%\n"
     ]
    }
   ],
   "source": [
    "# Cleaning operation: remove the rows using the minimum temporal gap\n",
    "\n",
    "# Save the number of rows before the cleaning operation\n",
    "shape_before = df.shape[0]\n",
    "\n",
    "# Delete the rows that have a minimum temporal gap for the same serial and fermata more than the delta calculated before.\n",
    "# Do not remove the rows with NaN values because they are the first validations of the day of a specific serial and fermata usefull for the analysis\n",
    "df = df[(df['MIN_TEMPORAL_GAP'] > delta) | (df['MIN_TEMPORAL_GAP'].isna())]\n",
    "\n",
    "# Print the number of rows before and after the cleaning operation and the difference\n",
    "print('The number of rows before the cleaning operation is: {}'.format(shape_before))\n",
    "print('The number of rows after the cleaning operation is: {}'.format(df.shape[0]))\n",
    "print('The difference is: {}'.format(shape_before - df.shape[0]))\n",
    "# Calculate the percentage of rows that has just been deleted\n",
    "print('The percentage of rows that has just been deleted is: {}%'.format(round((shape_before - df.shape[0])/shape_before*100, 2)))"
   ]
  },
  {
   "cell_type": "code",
   "execution_count": 92,
   "metadata": {},
   "outputs": [],
   "source": [
    "# Delete the column MIN_TEMPORAL_GAP because it is not useful anymore\n",
    "df.drop('MIN_TEMPORAL_GAP', axis=1, inplace=True)"
   ]
  },
  {
   "cell_type": "code",
   "execution_count": 93,
   "metadata": {},
   "outputs": [
    {
     "name": "stdout",
     "output_type": "stream",
     "text": [
      "        DATA       ORA DATA_VALIDAZIONE            SERIALE  FERMATA  \\\n",
      "0 2022-05-13  00:00:00       2022-05-13  65676291870913797     5089   \n",
      "1 2022-05-13  00:00:00       2022-05-13  36141384536591364     5032   \n",
      "2 2022-05-13  00:00:00       2022-05-13  36144856606063108     5031   \n",
      "3 2022-05-13  00:00:00       2022-05-13  36144856474364932      506   \n",
      "4 2022-05-13  00:00:00       2022-05-13  36144856606062852     5031   \n",
      "\n",
      "  DESCRIZIONE  TITOLO TICKET_CODE        DESCRIZIONE_TITOLO  \n",
      "0    FERROVIA   11149           4  7GG-TPL 43,60-COMVE16,40  \n",
      "1    FERROVIA   11107           2   48H-TPL 24,90-COMVE5,10  \n",
      "2   P.LE ROMA   11108           3   72H-TPL 33,40-COMVE6,60  \n",
      "3     VENEZIA   11261           1  DAILY PASS VENEZIA - AVM  \n",
      "4   P.LE ROMA   11108           3   72H-TPL 33,40-COMVE6,60  \n",
      "The script has finished\n"
     ]
    }
   ],
   "source": [
    "# Create a new dataframe, copied from the original one\n",
    "df_new = df.copy() \n",
    "\n",
    "# Update the column 'DESCRIZIONE' of the new df with the new values of the dictionary: \n",
    "# the value that are present in the dataframe are the values of the dictionary; you have to sobstitute with the key of the dictionary\n",
    "for key, value in dict_prefix.items():\n",
    "    df_new['DESCRIZIONE'] = df_new['DESCRIZIONE'].replace(value, key)\n",
    "\n",
    "\n",
    "# Print the head of the new dataframe\n",
    "print(df_new.head())\n",
    "\n",
    "# Export the new dataframe in a txt file\n",
    "# The name of the file is dataset_cleaned followed by the name (file_name variable) of the file that has been cleaned with txt extension\n",
    "name_file = 'dataset_cleaned_' + file_name.split('.')[0] + '.txt'\n",
    "df_new.to_csv('data/processed/' + name_file, sep='\\t', index=False)\n",
    "\n",
    "print('The script has finished')"
   ]
  }
 ],
 "metadata": {
  "kernelspec": {
   "display_name": "Python 3",
   "language": "python",
   "name": "python3"
  },
  "language_info": {
   "codemirror_mode": {
    "name": "ipython",
    "version": 3
   },
   "file_extension": ".py",
   "mimetype": "text/x-python",
   "name": "python",
   "nbconvert_exporter": "python",
   "pygments_lexer": "ipython3",
   "version": "3.11.2"
  },
  "orig_nbformat": 4,
  "vscode": {
   "interpreter": {
    "hash": "aee8b7b246df8f9039afb4144a1f6fd8d2ca17a180786b69acc140d282b71a49"
   }
  }
 },
 "nbformat": 4,
 "nbformat_minor": 2
}
